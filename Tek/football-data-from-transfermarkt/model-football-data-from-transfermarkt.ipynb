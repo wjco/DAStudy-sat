{
 "cells": [
  {
   "cell_type": "markdown",
   "metadata": {},
   "source": [
    "# Modeling for Football Data from Transfermarkt\n",
    "- Kaggle Data URL\n",
    "\n",
    "    - https://www.kaggle.com/datasets/davidcariboo/player-scores"
   ]
  },
  {
   "cell_type": "markdown",
   "metadata": {},
   "source": [
    "## 데이터 설명\n",
    "\n",
    "- `csv` 파일 설명\n",
    "    - `apperances` : 선수 출장 기록\n",
    "    - `club_games` : 클럽별 경기 홈팀, 어웨이팀 정보\n",
    "    - `clubs` : 리그별 속해 있는 클럽\n",
    "    - `competitions` : 대회 정보\n",
    "    - `game_events` : 경기별 이벤트 정보 (카드, 득점, 어시스트 등)\n",
    "    - `game_lineups` : 경기별 선수의 선발, 교체 명단 등재 여부\n",
    "    - `games` : 경기에 대한 정보 (시즌, 라운드, 홈팀, 어웨이팀, 순위)\n",
    "    - `player_valuations` : Transfermarkt 웹사이트에서 매긴 선수의 가치\n",
    "    - `players` : 선수에 대한 세부 정보"
   ]
  },
  {
   "cell_type": "code",
   "execution_count": 1,
   "metadata": {},
   "outputs": [
    {
     "name": "stderr",
     "output_type": "stream",
     "text": [
      "c:\\Users\\aryij\\anaconda3\\envs\\football\\Lib\\site-packages\\tqdm\\auto.py:21: TqdmWarning: IProgress not found. Please update jupyter and ipywidgets. See https://ipywidgets.readthedocs.io/en/stable/user_install.html\n",
      "  from .autonotebook import tqdm as notebook_tqdm\n"
     ]
    }
   ],
   "source": [
    "import numpy as np\n",
    "import pandas as pd\n",
    "import matplotlib.pyplot as plt\n",
    "import seaborn as sns\n",
    "%matplotlib inline\n",
    "\n",
    "from sklearn import metrics\n",
    "from sklearn.linear_model import LinearRegression\n",
    "from sklearn.tree import DecisionTreeRegressor\n",
    "from sklearn.ensemble import RandomForestRegressor\n",
    "from xgboost import XGBRegressor\n",
    "from lightgbm import LGBMRegressor\n",
    "from catboost import CatBoostRegressor\n",
    "\n",
    "import optuna\n",
    "from optuna.samplers import TPESampler\n",
    "\n",
    "from sklearn.model_selection import train_test_split\n",
    "\n",
    "from sklearn.preprocessing import TargetEncoder\n",
    "\n",
    "from xgboost import plot_importance\n",
    "\n",
    "import shap\n",
    "\n",
    "import warnings\n",
    "warnings.filterwarnings(action='ignore')"
   ]
  },
  {
   "cell_type": "code",
   "execution_count": 2,
   "metadata": {},
   "outputs": [],
   "source": [
    "# 데이터 경로\n",
    "path = \"data/df_eda.csv\"\n",
    "df = pd.read_csv(path)"
   ]
  },
  {
   "cell_type": "code",
   "execution_count": 3,
   "metadata": {},
   "outputs": [
    {
     "data": {
      "text/html": [
       "<div>\n",
       "<style scoped>\n",
       "    .dataframe tbody tr th:only-of-type {\n",
       "        vertical-align: middle;\n",
       "    }\n",
       "\n",
       "    .dataframe tbody tr th {\n",
       "        vertical-align: top;\n",
       "    }\n",
       "\n",
       "    .dataframe thead th {\n",
       "        text-align: right;\n",
       "    }\n",
       "</style>\n",
       "<table border=\"1\" class=\"dataframe\">\n",
       "  <thead>\n",
       "    <tr style=\"text-align: right;\">\n",
       "      <th></th>\n",
       "      <th>player_name</th>\n",
       "      <th>start_season</th>\n",
       "      <th>goals</th>\n",
       "      <th>assists</th>\n",
       "      <th>minutes_played</th>\n",
       "      <th>competition_code</th>\n",
       "      <th>date_of_birth</th>\n",
       "      <th>age</th>\n",
       "      <th>position</th>\n",
       "      <th>current_club_name</th>\n",
       "      <th>market_value_per_season</th>\n",
       "      <th>country</th>\n",
       "      <th>foot</th>\n",
       "      <th>height_in_cm</th>\n",
       "    </tr>\n",
       "  </thead>\n",
       "  <tbody>\n",
       "    <tr>\n",
       "      <th>0</th>\n",
       "      <td>Aaron Connolly</td>\n",
       "      <td>2019</td>\n",
       "      <td>3</td>\n",
       "      <td>2</td>\n",
       "      <td>1261</td>\n",
       "      <td>premier-league</td>\n",
       "      <td>2000-01-28</td>\n",
       "      <td>20</td>\n",
       "      <td>Centre-Forward</td>\n",
       "      <td>Brighton and Hove Albion Football Club</td>\n",
       "      <td>4000000.0</td>\n",
       "      <td>Ireland</td>\n",
       "      <td>right</td>\n",
       "      <td>174.0</td>\n",
       "    </tr>\n",
       "    <tr>\n",
       "      <th>1</th>\n",
       "      <td>Aaron Connolly</td>\n",
       "      <td>2020</td>\n",
       "      <td>2</td>\n",
       "      <td>1</td>\n",
       "      <td>791</td>\n",
       "      <td>premier-league</td>\n",
       "      <td>2000-01-28</td>\n",
       "      <td>21</td>\n",
       "      <td>Centre-Forward</td>\n",
       "      <td>Brighton and Hove Albion Football Club</td>\n",
       "      <td>7000000.0</td>\n",
       "      <td>Ireland</td>\n",
       "      <td>right</td>\n",
       "      <td>174.0</td>\n",
       "    </tr>\n",
       "    <tr>\n",
       "      <th>2</th>\n",
       "      <td>Aaron Connolly</td>\n",
       "      <td>2021</td>\n",
       "      <td>0</td>\n",
       "      <td>0</td>\n",
       "      <td>155</td>\n",
       "      <td>premier-league</td>\n",
       "      <td>2000-01-28</td>\n",
       "      <td>22</td>\n",
       "      <td>Centre-Forward</td>\n",
       "      <td>Brighton and Hove Albion Football Club</td>\n",
       "      <td>6000000.0</td>\n",
       "      <td>Ireland</td>\n",
       "      <td>right</td>\n",
       "      <td>174.0</td>\n",
       "    </tr>\n",
       "    <tr>\n",
       "      <th>3</th>\n",
       "      <td>Aaron Cresswell</td>\n",
       "      <td>2019</td>\n",
       "      <td>3</td>\n",
       "      <td>0</td>\n",
       "      <td>2730</td>\n",
       "      <td>premier-league</td>\n",
       "      <td>1989-12-15</td>\n",
       "      <td>30</td>\n",
       "      <td>Left-Back</td>\n",
       "      <td>West Ham United Football Club</td>\n",
       "      <td>6500000.0</td>\n",
       "      <td>England</td>\n",
       "      <td>left</td>\n",
       "      <td>170.0</td>\n",
       "    </tr>\n",
       "    <tr>\n",
       "      <th>4</th>\n",
       "      <td>Aaron Cresswell</td>\n",
       "      <td>2020</td>\n",
       "      <td>0</td>\n",
       "      <td>8</td>\n",
       "      <td>3172</td>\n",
       "      <td>premier-league</td>\n",
       "      <td>1989-12-15</td>\n",
       "      <td>31</td>\n",
       "      <td>Left-Back</td>\n",
       "      <td>West Ham United Football Club</td>\n",
       "      <td>5000000.0</td>\n",
       "      <td>England</td>\n",
       "      <td>left</td>\n",
       "      <td>170.0</td>\n",
       "    </tr>\n",
       "  </tbody>\n",
       "</table>\n",
       "</div>"
      ],
      "text/plain": [
       "       player_name  start_season  goals  assists  minutes_played  \\\n",
       "0   Aaron Connolly          2019      3        2            1261   \n",
       "1   Aaron Connolly          2020      2        1             791   \n",
       "2   Aaron Connolly          2021      0        0             155   \n",
       "3  Aaron Cresswell          2019      3        0            2730   \n",
       "4  Aaron Cresswell          2020      0        8            3172   \n",
       "\n",
       "  competition_code date_of_birth  age        position  \\\n",
       "0   premier-league    2000-01-28   20  Centre-Forward   \n",
       "1   premier-league    2000-01-28   21  Centre-Forward   \n",
       "2   premier-league    2000-01-28   22  Centre-Forward   \n",
       "3   premier-league    1989-12-15   30       Left-Back   \n",
       "4   premier-league    1989-12-15   31       Left-Back   \n",
       "\n",
       "                        current_club_name  market_value_per_season  country  \\\n",
       "0  Brighton and Hove Albion Football Club                4000000.0  Ireland   \n",
       "1  Brighton and Hove Albion Football Club                7000000.0  Ireland   \n",
       "2  Brighton and Hove Albion Football Club                6000000.0  Ireland   \n",
       "3           West Ham United Football Club                6500000.0  England   \n",
       "4           West Ham United Football Club                5000000.0  England   \n",
       "\n",
       "    foot  height_in_cm  \n",
       "0  right         174.0  \n",
       "1  right         174.0  \n",
       "2  right         174.0  \n",
       "3   left         170.0  \n",
       "4   left         170.0  "
      ]
     },
     "execution_count": 3,
     "metadata": {},
     "output_type": "execute_result"
    }
   ],
   "source": [
    "df.head()"
   ]
  },
  {
   "cell_type": "code",
   "execution_count": 4,
   "metadata": {},
   "outputs": [],
   "source": [
    "# date_of_birth 열 제거 (age로 대체)\n",
    "df = df.drop(\"date_of_birth\", axis=1)"
   ]
  },
  {
   "cell_type": "code",
   "execution_count": 5,
   "metadata": {},
   "outputs": [
    {
     "name": "stdout",
     "output_type": "stream",
     "text": [
      "<class 'pandas.core.frame.DataFrame'>\n",
      "RangeIndex: 16001 entries, 0 to 16000\n",
      "Data columns (total 13 columns):\n",
      " #   Column                   Non-Null Count  Dtype  \n",
      "---  ------                   --------------  -----  \n",
      " 0   player_name              16001 non-null  object \n",
      " 1   start_season             16001 non-null  int64  \n",
      " 2   goals                    16001 non-null  int64  \n",
      " 3   assists                  16001 non-null  int64  \n",
      " 4   minutes_played           16001 non-null  int64  \n",
      " 5   competition_code         16001 non-null  object \n",
      " 6   age                      16001 non-null  int64  \n",
      " 7   position                 16001 non-null  object \n",
      " 8   current_club_name        16001 non-null  object \n",
      " 9   market_value_per_season  16001 non-null  float64\n",
      " 10  country                  16001 non-null  object \n",
      " 11  foot                     16001 non-null  object \n",
      " 12  height_in_cm             16001 non-null  float64\n",
      "dtypes: float64(2), int64(5), object(6)\n",
      "memory usage: 1.6+ MB\n"
     ]
    }
   ],
   "source": [
    "df.info()"
   ]
  },
  {
   "cell_type": "code",
   "execution_count": 6,
   "metadata": {},
   "outputs": [],
   "source": [
    "# 수치형, 범주형 변수 따로 선언\n",
    "num_cols = df.select_dtypes(include=np.number).columns.tolist()\n",
    "cat_cols = df.select_dtypes(exclude=np.number).columns.tolist()"
   ]
  },
  {
   "cell_type": "code",
   "execution_count": 7,
   "metadata": {},
   "outputs": [
    {
     "name": "stdout",
     "output_type": "stream",
     "text": [
      "수치형 변수 : ['start_season', 'goals', 'assists', 'minutes_played', 'age', 'market_value_per_season', 'height_in_cm']\n",
      "범주형 변수 : ['player_name', 'competition_code', 'position', 'current_club_name', 'country', 'foot']\n"
     ]
    }
   ],
   "source": [
    "print(\"수치형 변수 :\", num_cols)\n",
    "print(\"범주형 변수 :\", cat_cols)"
   ]
  },
  {
   "cell_type": "markdown",
   "metadata": {},
   "source": [
    "## 데이터 분리"
   ]
  },
  {
   "cell_type": "code",
   "execution_count": 8,
   "metadata": {},
   "outputs": [
    {
     "data": {
      "text/plain": [
       "((13081, 13), (2920, 13))"
      ]
     },
     "execution_count": 8,
     "metadata": {},
     "output_type": "execute_result"
    }
   ],
   "source": [
    "# target 컬럼 \"market_value_per_season\"\n",
    "target = \"market_value_per_season\"\n",
    "# 나머지 컬럼 features에 선언\n",
    "features = df.drop(columns=target).columns\n",
    "\n",
    "# 학습할 train 데이터 : 19-20 ~ 22-23 시즌 데이터 (4시즌)\n",
    "train = df[df.start_season != 2023]\n",
    "# 예측할 test 데이터 : 23-24 시즌 데이터\n",
    "test = df[df.start_season == 2023]\n",
    "\n",
    "train.shape, test.shape"
   ]
  },
  {
   "cell_type": "code",
   "execution_count": 9,
   "metadata": {},
   "outputs": [],
   "source": [
    "# validation 데이터셋 생성\n",
    "train, val = train_test_split(train, train_size=0.8, random_state=42)"
   ]
  },
  {
   "cell_type": "code",
   "execution_count": 10,
   "metadata": {},
   "outputs": [
    {
     "data": {
      "text/plain": [
       "((10464, 12), (10464,), (2617, 12), (2617,), (2920, 12), (2920,))"
      ]
     },
     "execution_count": 10,
     "metadata": {},
     "output_type": "execute_result"
    }
   ],
   "source": [
    "# train 데이터 나눠준다\n",
    "X_train = train[features]\n",
    "y_train = train[target]\n",
    "\n",
    "# validation 데이터 나눠준다\n",
    "X_val = val[features]\n",
    "y_val = val[target]\n",
    "\n",
    "# test 데이터 나눠준다\n",
    "X_test = test[features]\n",
    "y_test = test[target]\n",
    "\n",
    "X_train.shape, y_train.shape, X_val.shape, y_val.shape, X_test.shape, y_test.shape"
   ]
  },
  {
   "cell_type": "code",
   "execution_count": 11,
   "metadata": {},
   "outputs": [],
   "source": [
    "num_cols = df.drop(columns=target).select_dtypes(include=np.number).columns.tolist()\n",
    "\n",
    "# train 데이터 copy\n",
    "X_train_no_enc = train[features].copy()\n",
    "# y_train_no_enc = train[target].copy()\n",
    "\n",
    "# validation 데이터 copy\n",
    "X_val_no_enc = val[features].copy()\n",
    "# y_val_no_enc = val[target].copy()\n",
    "\n",
    "# test 데이터 copy\n",
    "X_test_no_enc = test[features].copy()\n",
    "# y_test_no_enc = test[target].copy()"
   ]
  },
  {
   "cell_type": "markdown",
   "metadata": {},
   "source": [
    "## 인코딩"
   ]
  },
  {
   "cell_type": "markdown",
   "metadata": {},
   "source": [
    "### Target Encoding\n",
    "- 머신 러닝 모델의 출력이 숫자 (회귀)일 때만 범주형 feature에 사용\n",
    "\n",
    "- 각 범주에 대한 평균 목표값 계산 → 인코딩 하기 위해 범주형 값이 갖는 범주에 해당하는 백분율 대체\n",
    "- 각 카테고리의 값을 학습 데이터의 target 값의 평균값으로 설정한다\n",
    "- 데이터 관측치가 많아야 한다\n",
    "- 과적합의 원인이 될 수 있다\n",
    "- references\n",
    "    - https://conanmoon.medium.com/%EB%8D%B0%EC%9D%B4%ED%84%B0%EA%B3%BC%ED%95%99-%EC%9C%A0%EB%A7%9D%EC%A3%BC%EC%9D%98-%EB%A7%A4%EC%9D%BC-%EA%B8%80%EC%93%B0%EA%B8%B0-%EC%9D%BC%EA%B3%B1%EB%B2%88%EC%A7%B8-%EC%9D%BC%EC%9A%94%EC%9D%BC-7a40e7de39d4\n",
    "    - https://velog.io/@seungwoong12/encoding"
   ]
  },
  {
   "cell_type": "code",
   "execution_count": 12,
   "metadata": {},
   "outputs": [],
   "source": [
    "# Scikit-learn TargetEncoder 사용\n",
    "# https://scikit-learn.org/stable/modules/generated/sklearn.preprocessing.TargetEncoder.html\n",
    "# Scikit-learn 버전 높아야 사용 가능 (업데이트 필요)\n",
    "\n",
    "# 범주형 변수 목록 cat_features에 선언\n",
    "cat_features = df.select_dtypes(exclude=np.number).columns.tolist()\n",
    "\n",
    "# smooth=\"auto\", cv=5로 TargetEncoder 객체 생성\n",
    "te = TargetEncoder(target_type=\"continuous\", smooth=\"auto\", cv=5)\n",
    "\n",
    "for cat_feature in cat_features:\n",
    "    # Train 데이터로 fit_transform 해준다\n",
    "    X_train[[cat_feature]] = te.fit_transform(X_train[[cat_feature]], y_train)\n",
    "    X_val[[cat_feature]] = te.transform(X_val[[cat_feature]])\n",
    "    X_test[[cat_feature]] = te.transform(X_test[[cat_feature]])"
   ]
  },
  {
   "cell_type": "markdown",
   "metadata": {},
   "source": [
    "## 회귀모델 평가 지표  \n",
    "- `RMSLE`\n",
    "    - MSE에 루트를 씌운 RMSE의 각 인자에 로그를 취해준 값\n",
    "        - 로그 변환을 통해 이상치에 대한 영향을 줄이고, 모델이 이상치에 대해 과도하게 페널티를 받지 않게 한다\n",
    "        - 과소평가된 항목에 큰 패널티를 부여한다\n",
    "        - 상대적 ERROR 측정\n",
    "        - 값의 범위가 넓은 데이터에서 이상치에 대해 변화의 폭이 크지 않다\n",
    "    - 정규 분포를 따르지 않고 불균형한 모형일 때 사용되는 방법\n",
    "\n",
    "- `R2 Score` (결정 계수)\n",
    "    - 종속 변수의 총 변동 중 모델이 설명하는 변동의 비율\n",
    "    - 0 ~ 1 사이의 값을 가지며, 높을 수록 모델이 데이터를 잘 설명한다는 뜻\n",
    "\n",
    "- 평가 지표 선정 이유\n",
    "    - 예측하고자 하는 타겟에 이상치가 많이 존재한다 (`market_value_per_season`)\n",
    "        - `RMSLE` : 이상치에 강건한 특성을 갖는다\n",
    "            - 실제보다 작게 예측이 되었을 때 페널티를 더 크게 부여한다\n",
    "            - 선수 몸값이 실제 몸값 보다 적게 측정된다면, \n",
    "                - Transfermarkt 웹사이트가 몸값을 부풀린다고 오해받을 수 있다 \n",
    "                - 실제 이적시장에 거품이 많이 끼어있다고 생각할 수도 있다\n",
    "            - 따라서 과소 평가 항목에 페널티를 주는 `RMSLE`를 통해 평가\n",
    "        - `R2 Score` : 모델이 얼마나 데이터의 변동을 잘 설명하는지 평가\n",
    "\n",
    "- References\n",
    "    - https://shinminyong.tistory.com/32\n",
    "    - https://wikidocs.net/219419\n",
    "    - https://www.inflearn.com/questions/992421/rmsle%EC%9D%98-%EC%82%AC%EC%9A%A9%EC%97%90-%EA%B4%80%ED%95%9C-%EC%A7%88%EB%AC%B8%EC%9E%85%EB%8B%88%EB%8B%A4"
   ]
  },
  {
   "cell_type": "code",
   "execution_count": 13,
   "metadata": {},
   "outputs": [],
   "source": [
    "def get_rmsle(y_actual, y_pred):\n",
    "    # sklearn의 mean_square_log_error 함수는 y_pred 값 중 하나라도 0 미만인 경우 에러 발생\n",
    "    # y_pred + 1 만들어 0보다 크게 만들어 준다 (음수가 되지 않게 방지)\n",
    "    # 이후 optuna에 적용하여 RMSLE를 기준으로 하이퍼파라미터 튜닝\n",
    "    \n",
    "    diff = np.log(y_pred + 1) - np.log(y_actual + 1)\n",
    "    mean_error = np.square(diff).mean()                 \n",
    "    return np.sqrt(mean_error)   "
   ]
  },
  {
   "cell_type": "code",
   "execution_count": 14,
   "metadata": {},
   "outputs": [],
   "source": [
    "# def rmsle(y, pred):\n",
    "#     log_y = np.log1p(y)\n",
    "#     log_pred = np.log1p(pred)\n",
    "#     squared_error = (log_y-log_pred)**2\n",
    "#     rmsle = np.sqrt(np.mean(squared_error))\n",
    "#     return rmsle"
   ]
  },
  {
   "cell_type": "markdown",
   "metadata": {},
   "source": [
    "## Baseline 모델 생성"
   ]
  },
  {
   "cell_type": "code",
   "execution_count": 15,
   "metadata": {},
   "outputs": [],
   "source": [
    "# https://medium.com/machine-learning-with-python/multiple-linear-regression-implementation-in-python-2de9b303fc0c"
   ]
  },
  {
   "cell_type": "code",
   "execution_count": 16,
   "metadata": {},
   "outputs": [
    {
     "data": {
      "text/html": [
       "<style>#sk-container-id-1 {\n",
       "  /* Definition of color scheme common for light and dark mode */\n",
       "  --sklearn-color-text: black;\n",
       "  --sklearn-color-line: gray;\n",
       "  /* Definition of color scheme for unfitted estimators */\n",
       "  --sklearn-color-unfitted-level-0: #fff5e6;\n",
       "  --sklearn-color-unfitted-level-1: #f6e4d2;\n",
       "  --sklearn-color-unfitted-level-2: #ffe0b3;\n",
       "  --sklearn-color-unfitted-level-3: chocolate;\n",
       "  /* Definition of color scheme for fitted estimators */\n",
       "  --sklearn-color-fitted-level-0: #f0f8ff;\n",
       "  --sklearn-color-fitted-level-1: #d4ebff;\n",
       "  --sklearn-color-fitted-level-2: #b3dbfd;\n",
       "  --sklearn-color-fitted-level-3: cornflowerblue;\n",
       "\n",
       "  /* Specific color for light theme */\n",
       "  --sklearn-color-text-on-default-background: var(--sg-text-color, var(--theme-code-foreground, var(--jp-content-font-color1, black)));\n",
       "  --sklearn-color-background: var(--sg-background-color, var(--theme-background, var(--jp-layout-color0, white)));\n",
       "  --sklearn-color-border-box: var(--sg-text-color, var(--theme-code-foreground, var(--jp-content-font-color1, black)));\n",
       "  --sklearn-color-icon: #696969;\n",
       "\n",
       "  @media (prefers-color-scheme: dark) {\n",
       "    /* Redefinition of color scheme for dark theme */\n",
       "    --sklearn-color-text-on-default-background: var(--sg-text-color, var(--theme-code-foreground, var(--jp-content-font-color1, white)));\n",
       "    --sklearn-color-background: var(--sg-background-color, var(--theme-background, var(--jp-layout-color0, #111)));\n",
       "    --sklearn-color-border-box: var(--sg-text-color, var(--theme-code-foreground, var(--jp-content-font-color1, white)));\n",
       "    --sklearn-color-icon: #878787;\n",
       "  }\n",
       "}\n",
       "\n",
       "#sk-container-id-1 {\n",
       "  color: var(--sklearn-color-text);\n",
       "}\n",
       "\n",
       "#sk-container-id-1 pre {\n",
       "  padding: 0;\n",
       "}\n",
       "\n",
       "#sk-container-id-1 input.sk-hidden--visually {\n",
       "  border: 0;\n",
       "  clip: rect(1px 1px 1px 1px);\n",
       "  clip: rect(1px, 1px, 1px, 1px);\n",
       "  height: 1px;\n",
       "  margin: -1px;\n",
       "  overflow: hidden;\n",
       "  padding: 0;\n",
       "  position: absolute;\n",
       "  width: 1px;\n",
       "}\n",
       "\n",
       "#sk-container-id-1 div.sk-dashed-wrapped {\n",
       "  border: 1px dashed var(--sklearn-color-line);\n",
       "  margin: 0 0.4em 0.5em 0.4em;\n",
       "  box-sizing: border-box;\n",
       "  padding-bottom: 0.4em;\n",
       "  background-color: var(--sklearn-color-background);\n",
       "}\n",
       "\n",
       "#sk-container-id-1 div.sk-container {\n",
       "  /* jupyter's `normalize.less` sets `[hidden] { display: none; }`\n",
       "     but bootstrap.min.css set `[hidden] { display: none !important; }`\n",
       "     so we also need the `!important` here to be able to override the\n",
       "     default hidden behavior on the sphinx rendered scikit-learn.org.\n",
       "     See: https://github.com/scikit-learn/scikit-learn/issues/21755 */\n",
       "  display: inline-block !important;\n",
       "  position: relative;\n",
       "}\n",
       "\n",
       "#sk-container-id-1 div.sk-text-repr-fallback {\n",
       "  display: none;\n",
       "}\n",
       "\n",
       "div.sk-parallel-item,\n",
       "div.sk-serial,\n",
       "div.sk-item {\n",
       "  /* draw centered vertical line to link estimators */\n",
       "  background-image: linear-gradient(var(--sklearn-color-text-on-default-background), var(--sklearn-color-text-on-default-background));\n",
       "  background-size: 2px 100%;\n",
       "  background-repeat: no-repeat;\n",
       "  background-position: center center;\n",
       "}\n",
       "\n",
       "/* Parallel-specific style estimator block */\n",
       "\n",
       "#sk-container-id-1 div.sk-parallel-item::after {\n",
       "  content: \"\";\n",
       "  width: 100%;\n",
       "  border-bottom: 2px solid var(--sklearn-color-text-on-default-background);\n",
       "  flex-grow: 1;\n",
       "}\n",
       "\n",
       "#sk-container-id-1 div.sk-parallel {\n",
       "  display: flex;\n",
       "  align-items: stretch;\n",
       "  justify-content: center;\n",
       "  background-color: var(--sklearn-color-background);\n",
       "  position: relative;\n",
       "}\n",
       "\n",
       "#sk-container-id-1 div.sk-parallel-item {\n",
       "  display: flex;\n",
       "  flex-direction: column;\n",
       "}\n",
       "\n",
       "#sk-container-id-1 div.sk-parallel-item:first-child::after {\n",
       "  align-self: flex-end;\n",
       "  width: 50%;\n",
       "}\n",
       "\n",
       "#sk-container-id-1 div.sk-parallel-item:last-child::after {\n",
       "  align-self: flex-start;\n",
       "  width: 50%;\n",
       "}\n",
       "\n",
       "#sk-container-id-1 div.sk-parallel-item:only-child::after {\n",
       "  width: 0;\n",
       "}\n",
       "\n",
       "/* Serial-specific style estimator block */\n",
       "\n",
       "#sk-container-id-1 div.sk-serial {\n",
       "  display: flex;\n",
       "  flex-direction: column;\n",
       "  align-items: center;\n",
       "  background-color: var(--sklearn-color-background);\n",
       "  padding-right: 1em;\n",
       "  padding-left: 1em;\n",
       "}\n",
       "\n",
       "\n",
       "/* Toggleable style: style used for estimator/Pipeline/ColumnTransformer box that is\n",
       "clickable and can be expanded/collapsed.\n",
       "- Pipeline and ColumnTransformer use this feature and define the default style\n",
       "- Estimators will overwrite some part of the style using the `sk-estimator` class\n",
       "*/\n",
       "\n",
       "/* Pipeline and ColumnTransformer style (default) */\n",
       "\n",
       "#sk-container-id-1 div.sk-toggleable {\n",
       "  /* Default theme specific background. It is overwritten whether we have a\n",
       "  specific estimator or a Pipeline/ColumnTransformer */\n",
       "  background-color: var(--sklearn-color-background);\n",
       "}\n",
       "\n",
       "/* Toggleable label */\n",
       "#sk-container-id-1 label.sk-toggleable__label {\n",
       "  cursor: pointer;\n",
       "  display: block;\n",
       "  width: 100%;\n",
       "  margin-bottom: 0;\n",
       "  padding: 0.5em;\n",
       "  box-sizing: border-box;\n",
       "  text-align: center;\n",
       "}\n",
       "\n",
       "#sk-container-id-1 label.sk-toggleable__label-arrow:before {\n",
       "  /* Arrow on the left of the label */\n",
       "  content: \"▸\";\n",
       "  float: left;\n",
       "  margin-right: 0.25em;\n",
       "  color: var(--sklearn-color-icon);\n",
       "}\n",
       "\n",
       "#sk-container-id-1 label.sk-toggleable__label-arrow:hover:before {\n",
       "  color: var(--sklearn-color-text);\n",
       "}\n",
       "\n",
       "/* Toggleable content - dropdown */\n",
       "\n",
       "#sk-container-id-1 div.sk-toggleable__content {\n",
       "  max-height: 0;\n",
       "  max-width: 0;\n",
       "  overflow: hidden;\n",
       "  text-align: left;\n",
       "  /* unfitted */\n",
       "  background-color: var(--sklearn-color-unfitted-level-0);\n",
       "}\n",
       "\n",
       "#sk-container-id-1 div.sk-toggleable__content.fitted {\n",
       "  /* fitted */\n",
       "  background-color: var(--sklearn-color-fitted-level-0);\n",
       "}\n",
       "\n",
       "#sk-container-id-1 div.sk-toggleable__content pre {\n",
       "  margin: 0.2em;\n",
       "  border-radius: 0.25em;\n",
       "  color: var(--sklearn-color-text);\n",
       "  /* unfitted */\n",
       "  background-color: var(--sklearn-color-unfitted-level-0);\n",
       "}\n",
       "\n",
       "#sk-container-id-1 div.sk-toggleable__content.fitted pre {\n",
       "  /* unfitted */\n",
       "  background-color: var(--sklearn-color-fitted-level-0);\n",
       "}\n",
       "\n",
       "#sk-container-id-1 input.sk-toggleable__control:checked~div.sk-toggleable__content {\n",
       "  /* Expand drop-down */\n",
       "  max-height: 200px;\n",
       "  max-width: 100%;\n",
       "  overflow: auto;\n",
       "}\n",
       "\n",
       "#sk-container-id-1 input.sk-toggleable__control:checked~label.sk-toggleable__label-arrow:before {\n",
       "  content: \"▾\";\n",
       "}\n",
       "\n",
       "/* Pipeline/ColumnTransformer-specific style */\n",
       "\n",
       "#sk-container-id-1 div.sk-label input.sk-toggleable__control:checked~label.sk-toggleable__label {\n",
       "  color: var(--sklearn-color-text);\n",
       "  background-color: var(--sklearn-color-unfitted-level-2);\n",
       "}\n",
       "\n",
       "#sk-container-id-1 div.sk-label.fitted input.sk-toggleable__control:checked~label.sk-toggleable__label {\n",
       "  background-color: var(--sklearn-color-fitted-level-2);\n",
       "}\n",
       "\n",
       "/* Estimator-specific style */\n",
       "\n",
       "/* Colorize estimator box */\n",
       "#sk-container-id-1 div.sk-estimator input.sk-toggleable__control:checked~label.sk-toggleable__label {\n",
       "  /* unfitted */\n",
       "  background-color: var(--sklearn-color-unfitted-level-2);\n",
       "}\n",
       "\n",
       "#sk-container-id-1 div.sk-estimator.fitted input.sk-toggleable__control:checked~label.sk-toggleable__label {\n",
       "  /* fitted */\n",
       "  background-color: var(--sklearn-color-fitted-level-2);\n",
       "}\n",
       "\n",
       "#sk-container-id-1 div.sk-label label.sk-toggleable__label,\n",
       "#sk-container-id-1 div.sk-label label {\n",
       "  /* The background is the default theme color */\n",
       "  color: var(--sklearn-color-text-on-default-background);\n",
       "}\n",
       "\n",
       "/* On hover, darken the color of the background */\n",
       "#sk-container-id-1 div.sk-label:hover label.sk-toggleable__label {\n",
       "  color: var(--sklearn-color-text);\n",
       "  background-color: var(--sklearn-color-unfitted-level-2);\n",
       "}\n",
       "\n",
       "/* Label box, darken color on hover, fitted */\n",
       "#sk-container-id-1 div.sk-label.fitted:hover label.sk-toggleable__label.fitted {\n",
       "  color: var(--sklearn-color-text);\n",
       "  background-color: var(--sklearn-color-fitted-level-2);\n",
       "}\n",
       "\n",
       "/* Estimator label */\n",
       "\n",
       "#sk-container-id-1 div.sk-label label {\n",
       "  font-family: monospace;\n",
       "  font-weight: bold;\n",
       "  display: inline-block;\n",
       "  line-height: 1.2em;\n",
       "}\n",
       "\n",
       "#sk-container-id-1 div.sk-label-container {\n",
       "  text-align: center;\n",
       "}\n",
       "\n",
       "/* Estimator-specific */\n",
       "#sk-container-id-1 div.sk-estimator {\n",
       "  font-family: monospace;\n",
       "  border: 1px dotted var(--sklearn-color-border-box);\n",
       "  border-radius: 0.25em;\n",
       "  box-sizing: border-box;\n",
       "  margin-bottom: 0.5em;\n",
       "  /* unfitted */\n",
       "  background-color: var(--sklearn-color-unfitted-level-0);\n",
       "}\n",
       "\n",
       "#sk-container-id-1 div.sk-estimator.fitted {\n",
       "  /* fitted */\n",
       "  background-color: var(--sklearn-color-fitted-level-0);\n",
       "}\n",
       "\n",
       "/* on hover */\n",
       "#sk-container-id-1 div.sk-estimator:hover {\n",
       "  /* unfitted */\n",
       "  background-color: var(--sklearn-color-unfitted-level-2);\n",
       "}\n",
       "\n",
       "#sk-container-id-1 div.sk-estimator.fitted:hover {\n",
       "  /* fitted */\n",
       "  background-color: var(--sklearn-color-fitted-level-2);\n",
       "}\n",
       "\n",
       "/* Specification for estimator info (e.g. \"i\" and \"?\") */\n",
       "\n",
       "/* Common style for \"i\" and \"?\" */\n",
       "\n",
       ".sk-estimator-doc-link,\n",
       "a:link.sk-estimator-doc-link,\n",
       "a:visited.sk-estimator-doc-link {\n",
       "  float: right;\n",
       "  font-size: smaller;\n",
       "  line-height: 1em;\n",
       "  font-family: monospace;\n",
       "  background-color: var(--sklearn-color-background);\n",
       "  border-radius: 1em;\n",
       "  height: 1em;\n",
       "  width: 1em;\n",
       "  text-decoration: none !important;\n",
       "  margin-left: 1ex;\n",
       "  /* unfitted */\n",
       "  border: var(--sklearn-color-unfitted-level-1) 1pt solid;\n",
       "  color: var(--sklearn-color-unfitted-level-1);\n",
       "}\n",
       "\n",
       ".sk-estimator-doc-link.fitted,\n",
       "a:link.sk-estimator-doc-link.fitted,\n",
       "a:visited.sk-estimator-doc-link.fitted {\n",
       "  /* fitted */\n",
       "  border: var(--sklearn-color-fitted-level-1) 1pt solid;\n",
       "  color: var(--sklearn-color-fitted-level-1);\n",
       "}\n",
       "\n",
       "/* On hover */\n",
       "div.sk-estimator:hover .sk-estimator-doc-link:hover,\n",
       ".sk-estimator-doc-link:hover,\n",
       "div.sk-label-container:hover .sk-estimator-doc-link:hover,\n",
       ".sk-estimator-doc-link:hover {\n",
       "  /* unfitted */\n",
       "  background-color: var(--sklearn-color-unfitted-level-3);\n",
       "  color: var(--sklearn-color-background);\n",
       "  text-decoration: none;\n",
       "}\n",
       "\n",
       "div.sk-estimator.fitted:hover .sk-estimator-doc-link.fitted:hover,\n",
       ".sk-estimator-doc-link.fitted:hover,\n",
       "div.sk-label-container:hover .sk-estimator-doc-link.fitted:hover,\n",
       ".sk-estimator-doc-link.fitted:hover {\n",
       "  /* fitted */\n",
       "  background-color: var(--sklearn-color-fitted-level-3);\n",
       "  color: var(--sklearn-color-background);\n",
       "  text-decoration: none;\n",
       "}\n",
       "\n",
       "/* Span, style for the box shown on hovering the info icon */\n",
       ".sk-estimator-doc-link span {\n",
       "  display: none;\n",
       "  z-index: 9999;\n",
       "  position: relative;\n",
       "  font-weight: normal;\n",
       "  right: .2ex;\n",
       "  padding: .5ex;\n",
       "  margin: .5ex;\n",
       "  width: min-content;\n",
       "  min-width: 20ex;\n",
       "  max-width: 50ex;\n",
       "  color: var(--sklearn-color-text);\n",
       "  box-shadow: 2pt 2pt 4pt #999;\n",
       "  /* unfitted */\n",
       "  background: var(--sklearn-color-unfitted-level-0);\n",
       "  border: .5pt solid var(--sklearn-color-unfitted-level-3);\n",
       "}\n",
       "\n",
       ".sk-estimator-doc-link.fitted span {\n",
       "  /* fitted */\n",
       "  background: var(--sklearn-color-fitted-level-0);\n",
       "  border: var(--sklearn-color-fitted-level-3);\n",
       "}\n",
       "\n",
       ".sk-estimator-doc-link:hover span {\n",
       "  display: block;\n",
       "}\n",
       "\n",
       "/* \"?\"-specific style due to the `<a>` HTML tag */\n",
       "\n",
       "#sk-container-id-1 a.estimator_doc_link {\n",
       "  float: right;\n",
       "  font-size: 1rem;\n",
       "  line-height: 1em;\n",
       "  font-family: monospace;\n",
       "  background-color: var(--sklearn-color-background);\n",
       "  border-radius: 1rem;\n",
       "  height: 1rem;\n",
       "  width: 1rem;\n",
       "  text-decoration: none;\n",
       "  /* unfitted */\n",
       "  color: var(--sklearn-color-unfitted-level-1);\n",
       "  border: var(--sklearn-color-unfitted-level-1) 1pt solid;\n",
       "}\n",
       "\n",
       "#sk-container-id-1 a.estimator_doc_link.fitted {\n",
       "  /* fitted */\n",
       "  border: var(--sklearn-color-fitted-level-1) 1pt solid;\n",
       "  color: var(--sklearn-color-fitted-level-1);\n",
       "}\n",
       "\n",
       "/* On hover */\n",
       "#sk-container-id-1 a.estimator_doc_link:hover {\n",
       "  /* unfitted */\n",
       "  background-color: var(--sklearn-color-unfitted-level-3);\n",
       "  color: var(--sklearn-color-background);\n",
       "  text-decoration: none;\n",
       "}\n",
       "\n",
       "#sk-container-id-1 a.estimator_doc_link.fitted:hover {\n",
       "  /* fitted */\n",
       "  background-color: var(--sklearn-color-fitted-level-3);\n",
       "}\n",
       "</style><div id=\"sk-container-id-1\" class=\"sk-top-container\"><div class=\"sk-text-repr-fallback\"><pre>LinearRegression()</pre><b>In a Jupyter environment, please rerun this cell to show the HTML representation or trust the notebook. <br />On GitHub, the HTML representation is unable to render, please try loading this page with nbviewer.org.</b></div><div class=\"sk-container\" hidden><div class=\"sk-item\"><div class=\"sk-estimator fitted sk-toggleable\"><input class=\"sk-toggleable__control sk-hidden--visually\" id=\"sk-estimator-id-1\" type=\"checkbox\" checked><label for=\"sk-estimator-id-1\" class=\"sk-toggleable__label fitted sk-toggleable__label-arrow fitted\">&nbsp;&nbsp;LinearRegression<a class=\"sk-estimator-doc-link fitted\" rel=\"noreferrer\" target=\"_blank\" href=\"https://scikit-learn.org/1.4/modules/generated/sklearn.linear_model.LinearRegression.html\">?<span>Documentation for LinearRegression</span></a><span class=\"sk-estimator-doc-link fitted\">i<span>Fitted</span></span></label><div class=\"sk-toggleable__content fitted\"><pre>LinearRegression()</pre></div> </div></div></div></div>"
      ],
      "text/plain": [
       "LinearRegression()"
      ]
     },
     "execution_count": 16,
     "metadata": {},
     "output_type": "execute_result"
    }
   ],
   "source": [
    "# 선형회귀 모델로 Baseline 모델 생성\n",
    "lr = LinearRegression()\n",
    "lr.fit(X_train, y_train)"
   ]
  },
  {
   "cell_type": "code",
   "execution_count": 17,
   "metadata": {},
   "outputs": [
    {
     "name": "stdout",
     "output_type": "stream",
     "text": [
      "Intercept:  343226319.6668515\n",
      "Coefficients:\n"
     ]
    },
    {
     "data": {
      "text/plain": [
       "[('player_name', 0.5897118060236224),\n",
       " ('start_season', -171347.6726122703),\n",
       " ('goals', 681511.8472708109),\n",
       " ('assists', 669410.8365712495),\n",
       " ('minutes_played', 1732.687682652473),\n",
       " ('competition_code', 0.19510575690219412),\n",
       " ('age', -290800.55980833),\n",
       " ('position', 0.07215962718146329),\n",
       " ('current_club_name', 0.39819648579577915),\n",
       " ('country', 0.016036673623602837),\n",
       " ('foot', -0.40439978176970826),\n",
       " ('height_in_cm', 38684.76163817222)]"
      ]
     },
     "execution_count": 17,
     "metadata": {},
     "output_type": "execute_result"
    }
   ],
   "source": [
    "# Baseline 모델 절편, 결정 계수 확인\n",
    "\n",
    "print(\"Intercept: \", lr.intercept_)\n",
    "print(\"Coefficients:\")\n",
    "list(zip(X_train, lr.coef_))"
   ]
  },
  {
   "cell_type": "code",
   "execution_count": 18,
   "metadata": {},
   "outputs": [],
   "source": [
    "def baseline_model(model_name, model):\n",
    "    baseline_results = []\n",
    "\n",
    "    print(f\"\\n====== Baseline Model : {model_name} ======\")\n",
    "    \n",
    "    # 모델 생성 및 훈련\n",
    "    # model.fit(X_train, y_train)\n",
    "\n",
    "    # Baseline 모델로 train, validation, test 데이터셋 예측\n",
    "    y_train_pred_lr = model.predict(X_train)\n",
    "    y_val_pred_lr = model.predict(X_val)\n",
    "    y_test_pred_lr = model.predict(X_test)\n",
    "\n",
    "    # Baseline 모델의 MAE, MSE, RMSE, RMSLE, R2 score 확인\n",
    "    base_meanAbErr = metrics.mean_absolute_error(y_test, y_test_pred_lr)\n",
    "    base_meanSqErr = metrics.mean_squared_error(y_test, y_test_pred_lr)\n",
    "    base_rootMeanSqErr = metrics.mean_squared_error(y_test, y_test_pred_lr, squared=False)\n",
    "    base_rootMeanSqLogErr = get_rmsle(y_test, y_test_pred_lr)\n",
    "\n",
    "\n",
    "    # 결과를 리스트에 저장\n",
    "    baseline_results.append({\"Model\" : model_name,\n",
    "                             \"MAE\" : '{:.2f}'.format(base_meanAbErr),\n",
    "                             \"MSE\" : '{:.2f}'.format(base_meanSqErr),\n",
    "                             \"RMSE\" : '{:.2f}'.format(base_rootMeanSqErr),\n",
    "                             \"RMSLE\" : '{:.2f}'.format(base_rootMeanSqLogErr),\n",
    "                             \"R2 Score\" : '{:.2f}'.format(model.score(X_test, y_test))})\n",
    "    \n",
    "    # 결과 리스트를 DataFrame으로 변환\n",
    "    baseline_df = pd.DataFrame(baseline_results)\n",
    "    \n",
    "    return baseline_df"
   ]
  },
  {
   "cell_type": "code",
   "execution_count": 19,
   "metadata": {},
   "outputs": [
    {
     "name": "stdout",
     "output_type": "stream",
     "text": [
      "\n",
      "====== Baseline Model : Linear Regression ======\n"
     ]
    },
    {
     "data": {
      "text/html": [
       "<div>\n",
       "<style scoped>\n",
       "    .dataframe tbody tr th:only-of-type {\n",
       "        vertical-align: middle;\n",
       "    }\n",
       "\n",
       "    .dataframe tbody tr th {\n",
       "        vertical-align: top;\n",
       "    }\n",
       "\n",
       "    .dataframe thead th {\n",
       "        text-align: right;\n",
       "    }\n",
       "</style>\n",
       "<table border=\"1\" class=\"dataframe\">\n",
       "  <thead>\n",
       "    <tr style=\"text-align: right;\">\n",
       "      <th></th>\n",
       "      <th>Model</th>\n",
       "      <th>MAE</th>\n",
       "      <th>MSE</th>\n",
       "      <th>RMSE</th>\n",
       "      <th>RMSLE</th>\n",
       "      <th>R2 Score</th>\n",
       "    </tr>\n",
       "  </thead>\n",
       "  <tbody>\n",
       "    <tr>\n",
       "      <th>0</th>\n",
       "      <td>Linear Regression</td>\n",
       "      <td>5368901.98</td>\n",
       "      <td>94494793448251.48</td>\n",
       "      <td>9720843.25</td>\n",
       "      <td>0.97</td>\n",
       "      <td>0.65</td>\n",
       "    </tr>\n",
       "  </tbody>\n",
       "</table>\n",
       "</div>"
      ],
      "text/plain": [
       "               Model         MAE                MSE        RMSE RMSLE R2 Score\n",
       "0  Linear Regression  5368901.98  94494793448251.48  9720843.25  0.97     0.65"
      ]
     },
     "execution_count": 19,
     "metadata": {},
     "output_type": "execute_result"
    }
   ],
   "source": [
    "baseline_model(\"Linear Regression\", lr)"
   ]
  },
  {
   "cell_type": "markdown",
   "metadata": {},
   "source": [
    "## 스케일링\n",
    "- 데이터셋의 다양한 컬럼들에 이상치 다수 존재\n",
    "    - 하지만 축구라는 스포츠의 특성 상, 득점, 도움, 시장 가치 등 몇몇의 특출난 선수들의 스탯이 도드라진다\n",
    "    - 따라서 이상치 제거하지 않음\n",
    "- `RobustScaler` 선택 (이상치의 영향 최소화)\n",
    "- References\n",
    "    - https://cheris8.github.io/data%20analysis/DP-Data-Scaling/"
   ]
  },
  {
   "cell_type": "markdown",
   "metadata": {},
   "source": [
    "### `RobustScaling`\n",
    "- 데이터의 중앙값 = 0, IQE = 1이 되도록 스케일링\n",
    "    - IQR = Q3 - Q1 : 25퍼센타일과 75퍼센타일의 값들\n",
    "- 중앙값 (Median)과 IQR (Interquartile Range) 사용\n",
    "    - `RobustScaler`를 사용할 경우, `StandardScaler`에 비해 스케일링 결과가 더 넓게 분포\n",
    "- 모든 feature들이 같은 스케일을 갖는다\n",
    "- 이상치의 영향을 최소화 한다\n",
    "- 이번에는 사용하지 않는다\n",
    "    - Tree 기반 모델에서는 스케일링이 큰 효과가 없기 때문"
   ]
  },
  {
   "cell_type": "code",
   "execution_count": 20,
   "metadata": {},
   "outputs": [],
   "source": [
    "# # RobustScaler X_train 데이터셋에 fit\n",
    "# robustScaler = RobustScaler().fit(X_train)\n",
    "\n",
    "# # RobustScaler로 X_train, X_val, X_test 데이터셋 변환\n",
    "# X_train_robust = robustScaler.transform(X_train)\n",
    "# X_val_robust = robustScaler.transform(X_val)\n",
    "# X_test_robust = robustScaler.transform(X_test)"
   ]
  },
  {
   "cell_type": "markdown",
   "metadata": {},
   "source": [
    "## 머신러닝 모델링"
   ]
  },
  {
   "cell_type": "markdown",
   "metadata": {},
   "source": [
    "### 하이퍼 파라미터 튜닝 전 모델 생성"
   ]
  },
  {
   "cell_type": "code",
   "execution_count": 21,
   "metadata": {},
   "outputs": [],
   "source": [
    "model_list = [\"lr_model\", \"dt_model\", \"rf_model\", \"cat_model\", \"lgbm_model\", \"xgb_model\"]\n",
    "\n",
    "lr_model = LinearRegression()\n",
    "dt_model = DecisionTreeRegressor(random_state=42)\n",
    "rf_model = RandomForestRegressor(random_state=42)\n",
    "cat_model = CatBoostRegressor(random_state=42)\n",
    "lgbm_model = LGBMRegressor(random_state=42)\n",
    "xgb_model = XGBRegressor(random_state=42)"
   ]
  },
  {
   "cell_type": "code",
   "execution_count": 22,
   "metadata": {},
   "outputs": [],
   "source": [
    "models = [\n",
    "    (\"Linear Regression\", LinearRegression()),\n",
    "    (\"Decision Tree\", DecisionTreeRegressor(random_state=42)),\n",
    "    (\"Random Forest\", RandomForestRegressor(random_state=42)),\n",
    "    (\"CatBoost\", CatBoostRegressor(random_state=42)),\n",
    "    (\"LightGBM\", LGBMRegressor(random_state=42)),\n",
    "    (\"XGBoost\", XGBRegressor(random_state=42))\n",
    "]"
   ]
  },
  {
   "cell_type": "code",
   "execution_count": 23,
   "metadata": {},
   "outputs": [],
   "source": [
    "def model_list(models, when=\"Before\"):\n",
    "    models_results = []\n",
    "\n",
    "    for model_name, model in models:\n",
    "\n",
    "        # 모델 생성 및 훈련\n",
    "        # 트리 기반 모델들은 각 변수의 information gain을 기반으로 판단하기 때문에 굳이 스케일링 해줄 필요가 없다\n",
    "\n",
    "        model.fit(X_train, y_train)\n",
    "\n",
    "        y_train_pred = model.predict(X_train)\n",
    "        y_val_pred = model.predict(X_val)\n",
    "        y_test_pred = model.predict(X_test)\n",
    "\n",
    "        # 모델의 MAE, MSE, RMSE, RMSLE, R2 score 확인\n",
    "        meanAbErr = metrics.mean_absolute_error(y_test, y_test_pred)\n",
    "        meanSqErr = metrics.mean_squared_error(y_test, y_test_pred)\n",
    "        rootMeanSqErr = metrics.mean_squared_error(y_test, y_test_pred, squared=False)\n",
    "        rootMeanSqLogErr = get_rmsle(y_test, y_test_pred)\n",
    "\n",
    "\n",
    "        # 결과를 리스트에 저장\n",
    "        models_results.append({\"Model\" : model_name,\n",
    "                                \"MAE\" : '{:.2f}'.format(meanAbErr),\n",
    "                                \"MSE\" : '{:.2f}'.format(meanSqErr),\n",
    "                                \"RMSE\" : '{:.2f}'.format(rootMeanSqErr),\n",
    "                                \"RMSLE\" : '{:.2f}'.format(rootMeanSqLogErr),\n",
    "                                \"R2 Score\" : '{:.2f}'.format(model.score(X_test, y_test))})\n",
    "    \n",
    "    # 결과 리스트를 DataFrame으로 변환\n",
    "    models_df = pd.DataFrame(models_results)\n",
    "\n",
    "    print(f\"\\n====== Models {when} Hyper Parameter Tuning ======\")\n",
    "    \n",
    "    return models_df.sort_values(by=[\"RMSLE\", \"R2 Score\"], ascending=[True, False]).reset_index(drop=True)"
   ]
  },
  {
   "cell_type": "code",
   "execution_count": 24,
   "metadata": {},
   "outputs": [
    {
     "name": "stdout",
     "output_type": "stream",
     "text": [
      "Learning rate set to 0.059332\n",
      "0:\tlearn: 13560196.6109393\ttotal: 142ms\tremaining: 2m 21s\n",
      "1:\tlearn: 13100288.5280185\ttotal: 144ms\tremaining: 1m 12s\n",
      "2:\tlearn: 12644229.4949760\ttotal: 147ms\tremaining: 48.7s\n",
      "3:\tlearn: 12213005.6459855\ttotal: 149ms\tremaining: 37.1s\n",
      "4:\tlearn: 11819401.1202161\ttotal: 151ms\tremaining: 30.1s\n",
      "5:\tlearn: 11443729.2984339\ttotal: 154ms\tremaining: 25.4s\n",
      "6:\tlearn: 11126523.2287390\ttotal: 156ms\tremaining: 22.1s\n",
      "7:\tlearn: 10828056.5229033\ttotal: 159ms\tremaining: 19.7s\n",
      "8:\tlearn: 10507168.3693467\ttotal: 161ms\tremaining: 17.7s\n",
      "9:\tlearn: 10220060.9171951\ttotal: 163ms\tremaining: 16.2s\n",
      "10:\tlearn: 9959789.8980997\ttotal: 166ms\tremaining: 14.9s\n",
      "11:\tlearn: 9711356.7492096\ttotal: 168ms\tremaining: 13.8s\n",
      "12:\tlearn: 9465775.3099425\ttotal: 170ms\tremaining: 12.9s\n",
      "13:\tlearn: 9251597.2180103\ttotal: 173ms\tremaining: 12.2s\n",
      "14:\tlearn: 9049030.0673879\ttotal: 175ms\tremaining: 11.5s\n",
      "15:\tlearn: 8863414.6755567\ttotal: 177ms\tremaining: 10.9s\n",
      "16:\tlearn: 8680083.2284395\ttotal: 180ms\tremaining: 10.4s\n",
      "17:\tlearn: 8513593.0139580\ttotal: 182ms\tremaining: 9.92s\n",
      "18:\tlearn: 8356404.8272476\ttotal: 184ms\tremaining: 9.52s\n",
      "19:\tlearn: 8236106.8893286\ttotal: 187ms\tremaining: 9.14s\n",
      "20:\tlearn: 8103274.8900815\ttotal: 189ms\tremaining: 8.81s\n",
      "21:\tlearn: 7982377.1878220\ttotal: 191ms\tremaining: 8.51s\n",
      "22:\tlearn: 7876151.3809438\ttotal: 194ms\tremaining: 8.23s\n",
      "23:\tlearn: 7774249.0826620\ttotal: 196ms\tremaining: 7.97s\n",
      "24:\tlearn: 7669509.0883795\ttotal: 199ms\tremaining: 7.75s\n",
      "25:\tlearn: 7565737.2760700\ttotal: 201ms\tremaining: 7.53s\n",
      "26:\tlearn: 7473251.4441407\ttotal: 203ms\tremaining: 7.33s\n",
      "27:\tlearn: 7397754.2895675\ttotal: 206ms\tremaining: 7.14s\n",
      "28:\tlearn: 7329050.4475814\ttotal: 208ms\tremaining: 6.97s\n",
      "29:\tlearn: 7254680.5730568\ttotal: 210ms\tremaining: 6.8s\n",
      "30:\tlearn: 7198088.0724459\ttotal: 213ms\tremaining: 6.66s\n",
      "31:\tlearn: 7142783.1558500\ttotal: 216ms\tremaining: 6.52s\n",
      "32:\tlearn: 7087750.4874972\ttotal: 218ms\tremaining: 6.39s\n",
      "33:\tlearn: 7033519.5086803\ttotal: 221ms\tremaining: 6.27s\n",
      "34:\tlearn: 6979545.9068811\ttotal: 224ms\tremaining: 6.17s\n",
      "35:\tlearn: 6933372.9245744\ttotal: 226ms\tremaining: 6.06s\n",
      "36:\tlearn: 6894457.6670635\ttotal: 229ms\tremaining: 5.96s\n",
      "37:\tlearn: 6851734.5921902\ttotal: 231ms\tremaining: 5.86s\n",
      "38:\tlearn: 6800299.9565894\ttotal: 234ms\tremaining: 5.77s\n",
      "39:\tlearn: 6760820.0180625\ttotal: 237ms\tremaining: 5.68s\n",
      "40:\tlearn: 6719612.2539928\ttotal: 239ms\tremaining: 5.59s\n",
      "41:\tlearn: 6688558.9562144\ttotal: 241ms\tremaining: 5.5s\n",
      "42:\tlearn: 6662292.2094406\ttotal: 243ms\tremaining: 5.42s\n",
      "43:\tlearn: 6630760.9463936\ttotal: 246ms\tremaining: 5.34s\n",
      "44:\tlearn: 6599375.6953170\ttotal: 248ms\tremaining: 5.26s\n",
      "45:\tlearn: 6570572.7963572\ttotal: 250ms\tremaining: 5.19s\n",
      "46:\tlearn: 6543023.8018409\ttotal: 253ms\tremaining: 5.12s\n",
      "47:\tlearn: 6510286.1356834\ttotal: 255ms\tremaining: 5.06s\n",
      "48:\tlearn: 6485407.4029199\ttotal: 257ms\tremaining: 5s\n",
      "49:\tlearn: 6461661.5327732\ttotal: 260ms\tremaining: 4.93s\n",
      "50:\tlearn: 6437798.7166200\ttotal: 262ms\tremaining: 4.87s\n",
      "51:\tlearn: 6413963.5312286\ttotal: 264ms\tremaining: 4.81s\n",
      "52:\tlearn: 6392496.9693404\ttotal: 266ms\tremaining: 4.76s\n",
      "53:\tlearn: 6368098.1863350\ttotal: 269ms\tremaining: 4.71s\n",
      "54:\tlearn: 6347340.5096135\ttotal: 271ms\tremaining: 4.66s\n",
      "55:\tlearn: 6324410.7893121\ttotal: 274ms\tremaining: 4.61s\n",
      "56:\tlearn: 6306318.6085885\ttotal: 276ms\tremaining: 4.56s\n",
      "57:\tlearn: 6292914.3069110\ttotal: 278ms\tremaining: 4.51s\n",
      "58:\tlearn: 6275632.1407733\ttotal: 280ms\tremaining: 4.47s\n",
      "59:\tlearn: 6253236.6262939\ttotal: 283ms\tremaining: 4.43s\n",
      "60:\tlearn: 6240424.5428189\ttotal: 285ms\tremaining: 4.39s\n",
      "61:\tlearn: 6220411.4303510\ttotal: 287ms\tremaining: 4.35s\n",
      "62:\tlearn: 6210381.2936641\ttotal: 290ms\tremaining: 4.31s\n",
      "63:\tlearn: 6197128.9162401\ttotal: 292ms\tremaining: 4.27s\n",
      "64:\tlearn: 6182322.2793024\ttotal: 294ms\tremaining: 4.23s\n",
      "65:\tlearn: 6174362.6646610\ttotal: 296ms\tremaining: 4.19s\n",
      "66:\tlearn: 6160955.7933603\ttotal: 299ms\tremaining: 4.16s\n",
      "67:\tlearn: 6137295.2504598\ttotal: 301ms\tremaining: 4.12s\n",
      "68:\tlearn: 6122820.5343796\ttotal: 303ms\tremaining: 4.09s\n",
      "69:\tlearn: 6107768.7016230\ttotal: 306ms\tremaining: 4.06s\n",
      "70:\tlearn: 6095220.8209444\ttotal: 308ms\tremaining: 4.03s\n",
      "71:\tlearn: 6072766.1772741\ttotal: 310ms\tremaining: 4s\n",
      "72:\tlearn: 6055511.7452927\ttotal: 312ms\tremaining: 3.96s\n",
      "73:\tlearn: 6036804.5563919\ttotal: 315ms\tremaining: 3.94s\n",
      "74:\tlearn: 6024470.7504333\ttotal: 317ms\tremaining: 3.91s\n",
      "75:\tlearn: 6008508.2469760\ttotal: 320ms\tremaining: 3.89s\n",
      "76:\tlearn: 5998591.6705497\ttotal: 322ms\tremaining: 3.86s\n",
      "77:\tlearn: 5982762.3596584\ttotal: 324ms\tremaining: 3.83s\n",
      "78:\tlearn: 5978008.3915359\ttotal: 326ms\tremaining: 3.8s\n",
      "79:\tlearn: 5966884.8021910\ttotal: 329ms\tremaining: 3.78s\n",
      "80:\tlearn: 5954165.1034794\ttotal: 331ms\tremaining: 3.76s\n",
      "81:\tlearn: 5939633.3584787\ttotal: 334ms\tremaining: 3.74s\n",
      "82:\tlearn: 5929767.0938887\ttotal: 337ms\tremaining: 3.72s\n",
      "83:\tlearn: 5919122.6965335\ttotal: 339ms\tremaining: 3.69s\n",
      "84:\tlearn: 5902121.0095929\ttotal: 341ms\tremaining: 3.67s\n",
      "85:\tlearn: 5892815.3475519\ttotal: 343ms\tremaining: 3.65s\n",
      "86:\tlearn: 5883827.8106485\ttotal: 346ms\tremaining: 3.63s\n",
      "87:\tlearn: 5869244.8873322\ttotal: 348ms\tremaining: 3.61s\n",
      "88:\tlearn: 5859604.6562624\ttotal: 351ms\tremaining: 3.59s\n",
      "89:\tlearn: 5847103.8841412\ttotal: 353ms\tremaining: 3.57s\n",
      "90:\tlearn: 5838052.5604924\ttotal: 355ms\tremaining: 3.55s\n",
      "91:\tlearn: 5829328.5158528\ttotal: 357ms\tremaining: 3.53s\n",
      "92:\tlearn: 5823872.3155999\ttotal: 360ms\tremaining: 3.51s\n",
      "93:\tlearn: 5819134.6251344\ttotal: 362ms\tremaining: 3.49s\n",
      "94:\tlearn: 5807674.9609038\ttotal: 364ms\tremaining: 3.47s\n",
      "95:\tlearn: 5798917.5950316\ttotal: 367ms\tremaining: 3.45s\n",
      "96:\tlearn: 5791892.6823816\ttotal: 369ms\tremaining: 3.43s\n",
      "97:\tlearn: 5785562.9235066\ttotal: 371ms\tremaining: 3.42s\n",
      "98:\tlearn: 5781131.6903983\ttotal: 374ms\tremaining: 3.4s\n",
      "99:\tlearn: 5776272.5031781\ttotal: 376ms\tremaining: 3.38s\n",
      "100:\tlearn: 5771570.0424904\ttotal: 378ms\tremaining: 3.36s\n",
      "101:\tlearn: 5761647.5895567\ttotal: 380ms\tremaining: 3.35s\n",
      "102:\tlearn: 5753165.4848143\ttotal: 383ms\tremaining: 3.33s\n",
      "103:\tlearn: 5744206.4284436\ttotal: 385ms\tremaining: 3.32s\n",
      "104:\tlearn: 5731333.0289961\ttotal: 388ms\tremaining: 3.3s\n",
      "105:\tlearn: 5726435.2480836\ttotal: 390ms\tremaining: 3.29s\n",
      "106:\tlearn: 5716880.3089295\ttotal: 392ms\tremaining: 3.27s\n",
      "107:\tlearn: 5706334.9783743\ttotal: 394ms\tremaining: 3.26s\n",
      "108:\tlearn: 5702131.2010874\ttotal: 397ms\tremaining: 3.24s\n",
      "109:\tlearn: 5695882.5489145\ttotal: 399ms\tremaining: 3.23s\n",
      "110:\tlearn: 5688069.4017255\ttotal: 402ms\tremaining: 3.22s\n",
      "111:\tlearn: 5681335.9571830\ttotal: 405ms\tremaining: 3.21s\n",
      "112:\tlearn: 5676303.7766624\ttotal: 407ms\tremaining: 3.19s\n",
      "113:\tlearn: 5665527.9732805\ttotal: 409ms\tremaining: 3.18s\n",
      "114:\tlearn: 5659226.0663705\ttotal: 411ms\tremaining: 3.17s\n",
      "115:\tlearn: 5647919.7486601\ttotal: 414ms\tremaining: 3.15s\n",
      "116:\tlearn: 5641495.8216768\ttotal: 417ms\tremaining: 3.15s\n",
      "117:\tlearn: 5635736.1588250\ttotal: 419ms\tremaining: 3.13s\n",
      "118:\tlearn: 5632690.7403558\ttotal: 421ms\tremaining: 3.12s\n",
      "119:\tlearn: 5627669.8126850\ttotal: 424ms\tremaining: 3.11s\n",
      "120:\tlearn: 5623724.6012022\ttotal: 426ms\tremaining: 3.09s\n",
      "121:\tlearn: 5619474.2876911\ttotal: 428ms\tremaining: 3.08s\n",
      "122:\tlearn: 5615604.8882821\ttotal: 431ms\tremaining: 3.07s\n",
      "123:\tlearn: 5611945.9905454\ttotal: 433ms\tremaining: 3.06s\n",
      "124:\tlearn: 5602024.7450922\ttotal: 435ms\tremaining: 3.04s\n",
      "125:\tlearn: 5596915.8708097\ttotal: 437ms\tremaining: 3.03s\n",
      "126:\tlearn: 5589804.5130850\ttotal: 440ms\tremaining: 3.02s\n",
      "127:\tlearn: 5586242.1955484\ttotal: 442ms\tremaining: 3.01s\n",
      "128:\tlearn: 5582017.8367980\ttotal: 444ms\tremaining: 3s\n",
      "129:\tlearn: 5574918.5316353\ttotal: 446ms\tremaining: 2.99s\n",
      "130:\tlearn: 5567148.2655030\ttotal: 449ms\tremaining: 2.98s\n",
      "131:\tlearn: 5557813.9612482\ttotal: 451ms\tremaining: 2.96s\n",
      "132:\tlearn: 5550524.2150343\ttotal: 453ms\tremaining: 2.95s\n",
      "133:\tlearn: 5547110.3627144\ttotal: 456ms\tremaining: 2.94s\n",
      "134:\tlearn: 5544429.5837844\ttotal: 458ms\tremaining: 2.93s\n",
      "135:\tlearn: 5540504.3897922\ttotal: 460ms\tremaining: 2.92s\n",
      "136:\tlearn: 5537356.1408940\ttotal: 462ms\tremaining: 2.91s\n",
      "137:\tlearn: 5533270.9718027\ttotal: 465ms\tremaining: 2.9s\n",
      "138:\tlearn: 5529726.4176177\ttotal: 467ms\tremaining: 2.89s\n",
      "139:\tlearn: 5525303.6711220\ttotal: 469ms\tremaining: 2.88s\n",
      "140:\tlearn: 5521964.7946426\ttotal: 471ms\tremaining: 2.87s\n",
      "141:\tlearn: 5516947.5204229\ttotal: 474ms\tremaining: 2.86s\n",
      "142:\tlearn: 5510988.7626129\ttotal: 476ms\tremaining: 2.85s\n",
      "143:\tlearn: 5508524.6904774\ttotal: 478ms\tremaining: 2.84s\n",
      "144:\tlearn: 5504541.0275597\ttotal: 481ms\tremaining: 2.83s\n",
      "145:\tlearn: 5494056.9603295\ttotal: 483ms\tremaining: 2.82s\n",
      "146:\tlearn: 5487868.4829779\ttotal: 485ms\tremaining: 2.81s\n",
      "147:\tlearn: 5481207.7479954\ttotal: 488ms\tremaining: 2.81s\n",
      "148:\tlearn: 5472315.5445905\ttotal: 490ms\tremaining: 2.8s\n",
      "149:\tlearn: 5469208.7216190\ttotal: 492ms\tremaining: 2.79s\n",
      "150:\tlearn: 5464112.4426397\ttotal: 494ms\tremaining: 2.78s\n",
      "151:\tlearn: 5455904.8049806\ttotal: 497ms\tremaining: 2.77s\n",
      "152:\tlearn: 5449306.6437239\ttotal: 499ms\tremaining: 2.76s\n",
      "153:\tlearn: 5444376.9398299\ttotal: 502ms\tremaining: 2.76s\n",
      "154:\tlearn: 5440847.1330715\ttotal: 505ms\tremaining: 2.75s\n",
      "155:\tlearn: 5436435.2813143\ttotal: 507ms\tremaining: 2.74s\n",
      "156:\tlearn: 5432426.7481012\ttotal: 510ms\tremaining: 2.74s\n",
      "157:\tlearn: 5426753.8553761\ttotal: 513ms\tremaining: 2.73s\n",
      "158:\tlearn: 5419942.8622872\ttotal: 516ms\tremaining: 2.73s\n",
      "159:\tlearn: 5413389.8364130\ttotal: 519ms\tremaining: 2.72s\n",
      "160:\tlearn: 5412321.3453321\ttotal: 521ms\tremaining: 2.71s\n",
      "161:\tlearn: 5401984.3207561\ttotal: 524ms\tremaining: 2.71s\n",
      "162:\tlearn: 5395392.1985007\ttotal: 526ms\tremaining: 2.7s\n",
      "163:\tlearn: 5389219.1161541\ttotal: 529ms\tremaining: 2.7s\n",
      "164:\tlearn: 5387475.4296395\ttotal: 532ms\tremaining: 2.69s\n",
      "165:\tlearn: 5382587.9250732\ttotal: 534ms\tremaining: 2.68s\n",
      "166:\tlearn: 5376344.8520517\ttotal: 537ms\tremaining: 2.68s\n",
      "167:\tlearn: 5369296.1263629\ttotal: 540ms\tremaining: 2.67s\n",
      "168:\tlearn: 5364604.1260461\ttotal: 542ms\tremaining: 2.67s\n",
      "169:\tlearn: 5360957.7073926\ttotal: 545ms\tremaining: 2.66s\n",
      "170:\tlearn: 5359975.5385175\ttotal: 547ms\tremaining: 2.65s\n",
      "171:\tlearn: 5351325.6748329\ttotal: 550ms\tremaining: 2.65s\n",
      "172:\tlearn: 5348906.8998214\ttotal: 552ms\tremaining: 2.64s\n",
      "173:\tlearn: 5343248.6405382\ttotal: 554ms\tremaining: 2.63s\n",
      "174:\tlearn: 5336407.1879098\ttotal: 557ms\tremaining: 2.63s\n",
      "175:\tlearn: 5329261.3212880\ttotal: 559ms\tremaining: 2.62s\n",
      "176:\tlearn: 5321563.9667380\ttotal: 562ms\tremaining: 2.61s\n",
      "177:\tlearn: 5318163.0629820\ttotal: 564ms\tremaining: 2.61s\n",
      "178:\tlearn: 5315163.5756689\ttotal: 567ms\tremaining: 2.6s\n",
      "179:\tlearn: 5309747.2041271\ttotal: 569ms\tremaining: 2.59s\n",
      "180:\tlearn: 5305018.0855038\ttotal: 572ms\tremaining: 2.59s\n",
      "181:\tlearn: 5297818.1646475\ttotal: 574ms\tremaining: 2.58s\n",
      "182:\tlearn: 5288372.1154502\ttotal: 577ms\tremaining: 2.58s\n",
      "183:\tlearn: 5284125.3949522\ttotal: 579ms\tremaining: 2.57s\n",
      "184:\tlearn: 5279683.2068669\ttotal: 582ms\tremaining: 2.56s\n",
      "185:\tlearn: 5276614.6199403\ttotal: 584ms\tremaining: 2.56s\n",
      "186:\tlearn: 5271656.9421920\ttotal: 587ms\tremaining: 2.55s\n",
      "187:\tlearn: 5269602.6577055\ttotal: 589ms\tremaining: 2.54s\n",
      "188:\tlearn: 5267978.9841334\ttotal: 591ms\tremaining: 2.54s\n",
      "189:\tlearn: 5264978.8741728\ttotal: 594ms\tremaining: 2.53s\n",
      "190:\tlearn: 5258306.9262174\ttotal: 597ms\tremaining: 2.53s\n",
      "191:\tlearn: 5256597.9446460\ttotal: 599ms\tremaining: 2.52s\n",
      "192:\tlearn: 5250886.4651303\ttotal: 602ms\tremaining: 2.52s\n",
      "193:\tlearn: 5245351.1923899\ttotal: 604ms\tremaining: 2.51s\n",
      "194:\tlearn: 5242077.3675282\ttotal: 607ms\tremaining: 2.5s\n",
      "195:\tlearn: 5240407.9199029\ttotal: 610ms\tremaining: 2.5s\n",
      "196:\tlearn: 5234878.1127781\ttotal: 612ms\tremaining: 2.49s\n",
      "197:\tlearn: 5230125.2438177\ttotal: 614ms\tremaining: 2.49s\n",
      "198:\tlearn: 5226987.1097528\ttotal: 616ms\tremaining: 2.48s\n",
      "199:\tlearn: 5225099.3745092\ttotal: 618ms\tremaining: 2.47s\n",
      "200:\tlearn: 5218284.8239513\ttotal: 621ms\tremaining: 2.47s\n",
      "201:\tlearn: 5215903.8689988\ttotal: 623ms\tremaining: 2.46s\n",
      "202:\tlearn: 5213103.1808366\ttotal: 626ms\tremaining: 2.46s\n",
      "203:\tlearn: 5209273.5410215\ttotal: 628ms\tremaining: 2.45s\n",
      "204:\tlearn: 5202520.1603808\ttotal: 630ms\tremaining: 2.44s\n",
      "205:\tlearn: 5196687.2308941\ttotal: 632ms\tremaining: 2.44s\n",
      "206:\tlearn: 5187967.5687467\ttotal: 635ms\tremaining: 2.43s\n",
      "207:\tlearn: 5184368.4067356\ttotal: 637ms\tremaining: 2.42s\n",
      "208:\tlearn: 5182514.3668505\ttotal: 639ms\tremaining: 2.42s\n",
      "209:\tlearn: 5177284.0371332\ttotal: 642ms\tremaining: 2.41s\n",
      "210:\tlearn: 5166414.4321005\ttotal: 644ms\tremaining: 2.41s\n",
      "211:\tlearn: 5164725.2840543\ttotal: 646ms\tremaining: 2.4s\n",
      "212:\tlearn: 5157613.2746021\ttotal: 649ms\tremaining: 2.4s\n",
      "213:\tlearn: 5153842.4279633\ttotal: 651ms\tremaining: 2.39s\n",
      "214:\tlearn: 5147784.2465940\ttotal: 653ms\tremaining: 2.38s\n",
      "215:\tlearn: 5143151.5633194\ttotal: 655ms\tremaining: 2.38s\n",
      "216:\tlearn: 5137927.5422870\ttotal: 658ms\tremaining: 2.37s\n",
      "217:\tlearn: 5134061.1404033\ttotal: 660ms\tremaining: 2.37s\n",
      "218:\tlearn: 5127934.6777790\ttotal: 663ms\tremaining: 2.36s\n",
      "219:\tlearn: 5122089.7162066\ttotal: 665ms\tremaining: 2.36s\n",
      "220:\tlearn: 5117443.5270979\ttotal: 667ms\tremaining: 2.35s\n",
      "221:\tlearn: 5110550.4148689\ttotal: 669ms\tremaining: 2.35s\n",
      "222:\tlearn: 5108089.0822252\ttotal: 672ms\tremaining: 2.34s\n",
      "223:\tlearn: 5101705.7353563\ttotal: 674ms\tremaining: 2.33s\n",
      "224:\tlearn: 5095590.8776708\ttotal: 677ms\tremaining: 2.33s\n",
      "225:\tlearn: 5088364.9135640\ttotal: 679ms\tremaining: 2.32s\n",
      "226:\tlearn: 5085459.9671641\ttotal: 681ms\tremaining: 2.32s\n",
      "227:\tlearn: 5079696.0278735\ttotal: 683ms\tremaining: 2.31s\n",
      "228:\tlearn: 5073721.6636973\ttotal: 686ms\tremaining: 2.31s\n",
      "229:\tlearn: 5070309.3982715\ttotal: 688ms\tremaining: 2.3s\n",
      "230:\tlearn: 5067705.9475789\ttotal: 690ms\tremaining: 2.3s\n",
      "231:\tlearn: 5061503.4397976\ttotal: 693ms\tremaining: 2.29s\n",
      "232:\tlearn: 5058178.0967264\ttotal: 695ms\tremaining: 2.29s\n",
      "233:\tlearn: 5054901.1309123\ttotal: 697ms\tremaining: 2.28s\n",
      "234:\tlearn: 5051738.7545262\ttotal: 700ms\tremaining: 2.28s\n",
      "235:\tlearn: 5044047.4964283\ttotal: 702ms\tremaining: 2.27s\n",
      "236:\tlearn: 5039509.8983092\ttotal: 704ms\tremaining: 2.27s\n",
      "237:\tlearn: 5033215.1675127\ttotal: 707ms\tremaining: 2.26s\n",
      "238:\tlearn: 5030799.0577450\ttotal: 709ms\tremaining: 2.26s\n",
      "239:\tlearn: 5026947.3020711\ttotal: 711ms\tremaining: 2.25s\n",
      "240:\tlearn: 5020642.6865570\ttotal: 714ms\tremaining: 2.25s\n",
      "241:\tlearn: 5018739.8451010\ttotal: 716ms\tremaining: 2.24s\n",
      "242:\tlearn: 5015408.4265251\ttotal: 718ms\tremaining: 2.24s\n",
      "243:\tlearn: 5011736.5916193\ttotal: 720ms\tremaining: 2.23s\n",
      "244:\tlearn: 5006830.1879840\ttotal: 723ms\tremaining: 2.23s\n",
      "245:\tlearn: 5003112.3348025\ttotal: 726ms\tremaining: 2.22s\n",
      "246:\tlearn: 4997325.0681357\ttotal: 728ms\tremaining: 2.22s\n",
      "247:\tlearn: 4994181.7114065\ttotal: 730ms\tremaining: 2.21s\n",
      "248:\tlearn: 4992645.6446243\ttotal: 732ms\tremaining: 2.21s\n",
      "249:\tlearn: 4988177.3703037\ttotal: 734ms\tremaining: 2.2s\n",
      "250:\tlearn: 4983019.5436973\ttotal: 737ms\tremaining: 2.2s\n",
      "251:\tlearn: 4978246.9515252\ttotal: 739ms\tremaining: 2.19s\n",
      "252:\tlearn: 4973298.2263362\ttotal: 742ms\tremaining: 2.19s\n",
      "253:\tlearn: 4969917.4809872\ttotal: 744ms\tremaining: 2.18s\n",
      "254:\tlearn: 4965208.2167675\ttotal: 746ms\tremaining: 2.18s\n",
      "255:\tlearn: 4961398.9086698\ttotal: 748ms\tremaining: 2.17s\n",
      "256:\tlearn: 4957765.8277829\ttotal: 751ms\tremaining: 2.17s\n",
      "257:\tlearn: 4955021.6173768\ttotal: 754ms\tremaining: 2.17s\n",
      "258:\tlearn: 4952545.7412159\ttotal: 756ms\tremaining: 2.16s\n",
      "259:\tlearn: 4947641.3552929\ttotal: 758ms\tremaining: 2.16s\n",
      "260:\tlearn: 4944521.1222310\ttotal: 760ms\tremaining: 2.15s\n",
      "261:\tlearn: 4936558.2050216\ttotal: 763ms\tremaining: 2.15s\n",
      "262:\tlearn: 4932793.4525869\ttotal: 765ms\tremaining: 2.14s\n",
      "263:\tlearn: 4929697.9620077\ttotal: 767ms\tremaining: 2.14s\n",
      "264:\tlearn: 4924048.7200342\ttotal: 769ms\tremaining: 2.13s\n",
      "265:\tlearn: 4920770.6443513\ttotal: 772ms\tremaining: 2.13s\n",
      "266:\tlearn: 4918495.1000823\ttotal: 774ms\tremaining: 2.12s\n",
      "267:\tlearn: 4912661.0033055\ttotal: 776ms\tremaining: 2.12s\n",
      "268:\tlearn: 4908758.9818640\ttotal: 779ms\tremaining: 2.12s\n",
      "269:\tlearn: 4905826.6313920\ttotal: 781ms\tremaining: 2.11s\n",
      "270:\tlearn: 4898900.0257263\ttotal: 783ms\tremaining: 2.11s\n",
      "271:\tlearn: 4893964.8366079\ttotal: 786ms\tremaining: 2.1s\n",
      "272:\tlearn: 4890546.5111038\ttotal: 788ms\tremaining: 2.1s\n",
      "273:\tlearn: 4887104.7309458\ttotal: 790ms\tremaining: 2.09s\n",
      "274:\tlearn: 4883985.3317545\ttotal: 793ms\tremaining: 2.09s\n",
      "275:\tlearn: 4877320.1356020\ttotal: 795ms\tremaining: 2.08s\n",
      "276:\tlearn: 4875387.2092905\ttotal: 797ms\tremaining: 2.08s\n",
      "277:\tlearn: 4869019.9658935\ttotal: 800ms\tremaining: 2.08s\n",
      "278:\tlearn: 4863291.9424448\ttotal: 802ms\tremaining: 2.07s\n",
      "279:\tlearn: 4860802.0567359\ttotal: 805ms\tremaining: 2.07s\n",
      "280:\tlearn: 4853195.3545312\ttotal: 807ms\tremaining: 2.07s\n",
      "281:\tlearn: 4847977.7752926\ttotal: 810ms\tremaining: 2.06s\n",
      "282:\tlearn: 4845186.5588581\ttotal: 812ms\tremaining: 2.06s\n",
      "283:\tlearn: 4841371.9267574\ttotal: 814ms\tremaining: 2.05s\n",
      "284:\tlearn: 4837389.6315530\ttotal: 817ms\tremaining: 2.05s\n",
      "285:\tlearn: 4834513.2224266\ttotal: 819ms\tremaining: 2.04s\n",
      "286:\tlearn: 4830630.4688089\ttotal: 822ms\tremaining: 2.04s\n",
      "287:\tlearn: 4827879.7157716\ttotal: 824ms\tremaining: 2.04s\n",
      "288:\tlearn: 4822738.0363567\ttotal: 826ms\tremaining: 2.03s\n",
      "289:\tlearn: 4818918.1895159\ttotal: 829ms\tremaining: 2.03s\n",
      "290:\tlearn: 4815271.2233441\ttotal: 831ms\tremaining: 2.02s\n",
      "291:\tlearn: 4812078.3280742\ttotal: 833ms\tremaining: 2.02s\n",
      "292:\tlearn: 4807157.2639203\ttotal: 836ms\tremaining: 2.02s\n",
      "293:\tlearn: 4802651.0572419\ttotal: 838ms\tremaining: 2.01s\n",
      "294:\tlearn: 4800114.6172527\ttotal: 840ms\tremaining: 2.01s\n",
      "295:\tlearn: 4794481.0167761\ttotal: 843ms\tremaining: 2s\n",
      "296:\tlearn: 4789594.4485957\ttotal: 845ms\tremaining: 2s\n",
      "297:\tlearn: 4780517.5696963\ttotal: 847ms\tremaining: 2s\n",
      "298:\tlearn: 4774871.8763156\ttotal: 850ms\tremaining: 1.99s\n",
      "299:\tlearn: 4770649.1986531\ttotal: 852ms\tremaining: 1.99s\n",
      "300:\tlearn: 4765549.8277952\ttotal: 854ms\tremaining: 1.98s\n",
      "301:\tlearn: 4762063.9420822\ttotal: 857ms\tremaining: 1.98s\n",
      "302:\tlearn: 4758448.8905598\ttotal: 859ms\tremaining: 1.98s\n",
      "303:\tlearn: 4752963.5234700\ttotal: 861ms\tremaining: 1.97s\n",
      "304:\tlearn: 4747787.0578408\ttotal: 864ms\tremaining: 1.97s\n",
      "305:\tlearn: 4742656.5814625\ttotal: 866ms\tremaining: 1.96s\n",
      "306:\tlearn: 4739000.8347532\ttotal: 869ms\tremaining: 1.96s\n",
      "307:\tlearn: 4733403.4645457\ttotal: 871ms\tremaining: 1.96s\n",
      "308:\tlearn: 4729162.2571941\ttotal: 873ms\tremaining: 1.95s\n",
      "309:\tlearn: 4725291.7058165\ttotal: 875ms\tremaining: 1.95s\n",
      "310:\tlearn: 4722903.8582777\ttotal: 878ms\tremaining: 1.94s\n",
      "311:\tlearn: 4719151.8862086\ttotal: 880ms\tremaining: 1.94s\n",
      "312:\tlearn: 4716074.5030763\ttotal: 883ms\tremaining: 1.94s\n",
      "313:\tlearn: 4713787.4435920\ttotal: 885ms\tremaining: 1.93s\n",
      "314:\tlearn: 4711582.6663162\ttotal: 887ms\tremaining: 1.93s\n",
      "315:\tlearn: 4708585.5640952\ttotal: 889ms\tremaining: 1.92s\n",
      "316:\tlearn: 4703730.1780588\ttotal: 892ms\tremaining: 1.92s\n",
      "317:\tlearn: 4701444.7826116\ttotal: 894ms\tremaining: 1.92s\n",
      "318:\tlearn: 4693562.7272817\ttotal: 896ms\tremaining: 1.91s\n",
      "319:\tlearn: 4689998.1297423\ttotal: 899ms\tremaining: 1.91s\n",
      "320:\tlearn: 4684686.5340683\ttotal: 901ms\tremaining: 1.91s\n",
      "321:\tlearn: 4683489.3793694\ttotal: 903ms\tremaining: 1.9s\n",
      "322:\tlearn: 4679965.0853880\ttotal: 906ms\tremaining: 1.9s\n",
      "323:\tlearn: 4677792.5276627\ttotal: 909ms\tremaining: 1.9s\n",
      "324:\tlearn: 4675165.4362047\ttotal: 911ms\tremaining: 1.89s\n",
      "325:\tlearn: 4672020.9518323\ttotal: 914ms\tremaining: 1.89s\n",
      "326:\tlearn: 4667263.4639893\ttotal: 917ms\tremaining: 1.89s\n",
      "327:\tlearn: 4665142.4350906\ttotal: 919ms\tremaining: 1.88s\n",
      "328:\tlearn: 4661320.8874225\ttotal: 922ms\tremaining: 1.88s\n",
      "329:\tlearn: 4658269.0751493\ttotal: 924ms\tremaining: 1.88s\n",
      "330:\tlearn: 4655057.3069920\ttotal: 927ms\tremaining: 1.87s\n",
      "331:\tlearn: 4650816.5487094\ttotal: 930ms\tremaining: 1.87s\n",
      "332:\tlearn: 4643574.7838069\ttotal: 932ms\tremaining: 1.87s\n",
      "333:\tlearn: 4642256.5538996\ttotal: 934ms\tremaining: 1.86s\n",
      "334:\tlearn: 4639567.3402842\ttotal: 936ms\tremaining: 1.86s\n",
      "335:\tlearn: 4636428.3051606\ttotal: 939ms\tremaining: 1.85s\n",
      "336:\tlearn: 4631477.7611871\ttotal: 941ms\tremaining: 1.85s\n",
      "337:\tlearn: 4629433.1999449\ttotal: 943ms\tremaining: 1.85s\n",
      "338:\tlearn: 4628292.0734738\ttotal: 946ms\tremaining: 1.84s\n",
      "339:\tlearn: 4625877.6080128\ttotal: 948ms\tremaining: 1.84s\n",
      "340:\tlearn: 4621405.5081663\ttotal: 950ms\tremaining: 1.84s\n",
      "341:\tlearn: 4617317.7727322\ttotal: 952ms\tremaining: 1.83s\n",
      "342:\tlearn: 4612904.4018938\ttotal: 955ms\tremaining: 1.83s\n",
      "343:\tlearn: 4607121.0291963\ttotal: 957ms\tremaining: 1.82s\n",
      "344:\tlearn: 4603310.2693187\ttotal: 959ms\tremaining: 1.82s\n",
      "345:\tlearn: 4600784.7279054\ttotal: 962ms\tremaining: 1.82s\n",
      "346:\tlearn: 4598447.2133631\ttotal: 964ms\tremaining: 1.81s\n",
      "347:\tlearn: 4595286.6786785\ttotal: 967ms\tremaining: 1.81s\n",
      "348:\tlearn: 4592844.4548788\ttotal: 969ms\tremaining: 1.81s\n",
      "349:\tlearn: 4591877.8513068\ttotal: 971ms\tremaining: 1.8s\n",
      "350:\tlearn: 4587981.1363292\ttotal: 974ms\tremaining: 1.8s\n",
      "351:\tlearn: 4585361.3686437\ttotal: 976ms\tremaining: 1.8s\n",
      "352:\tlearn: 4580875.5809946\ttotal: 979ms\tremaining: 1.79s\n",
      "353:\tlearn: 4573572.5057090\ttotal: 981ms\tremaining: 1.79s\n",
      "354:\tlearn: 4571430.6934494\ttotal: 983ms\tremaining: 1.79s\n",
      "355:\tlearn: 4568768.3379292\ttotal: 986ms\tremaining: 1.78s\n",
      "356:\tlearn: 4564955.4494752\ttotal: 988ms\tremaining: 1.78s\n",
      "357:\tlearn: 4562697.8552801\ttotal: 990ms\tremaining: 1.77s\n",
      "358:\tlearn: 4559555.1350147\ttotal: 993ms\tremaining: 1.77s\n",
      "359:\tlearn: 4556254.2448031\ttotal: 995ms\tremaining: 1.77s\n",
      "360:\tlearn: 4553972.1269986\ttotal: 998ms\tremaining: 1.76s\n",
      "361:\tlearn: 4551198.2474227\ttotal: 1000ms\tremaining: 1.76s\n",
      "362:\tlearn: 4547586.2823792\ttotal: 1s\tremaining: 1.76s\n",
      "363:\tlearn: 4543870.4177417\ttotal: 1s\tremaining: 1.75s\n",
      "364:\tlearn: 4537688.5711793\ttotal: 1.01s\tremaining: 1.75s\n",
      "365:\tlearn: 4536138.9395353\ttotal: 1.01s\tremaining: 1.75s\n",
      "366:\tlearn: 4532785.9990465\ttotal: 1.01s\tremaining: 1.75s\n",
      "367:\tlearn: 4526375.3591097\ttotal: 1.01s\tremaining: 1.74s\n",
      "368:\tlearn: 4521864.3390077\ttotal: 1.02s\tremaining: 1.74s\n",
      "369:\tlearn: 4518862.8987235\ttotal: 1.02s\tremaining: 1.74s\n",
      "370:\tlearn: 4515715.7638301\ttotal: 1.02s\tremaining: 1.73s\n",
      "371:\tlearn: 4513171.6201808\ttotal: 1.02s\tremaining: 1.73s\n",
      "372:\tlearn: 4510487.1827287\ttotal: 1.03s\tremaining: 1.73s\n",
      "373:\tlearn: 4505780.8234881\ttotal: 1.03s\tremaining: 1.72s\n",
      "374:\tlearn: 4503941.0481868\ttotal: 1.03s\tremaining: 1.72s\n",
      "375:\tlearn: 4500997.3363692\ttotal: 1.03s\tremaining: 1.72s\n",
      "376:\tlearn: 4497610.1780465\ttotal: 1.03s\tremaining: 1.71s\n",
      "377:\tlearn: 4494178.5191868\ttotal: 1.04s\tremaining: 1.71s\n",
      "378:\tlearn: 4491764.4895608\ttotal: 1.04s\tremaining: 1.7s\n",
      "379:\tlearn: 4488144.1349596\ttotal: 1.04s\tremaining: 1.7s\n",
      "380:\tlearn: 4486197.5283070\ttotal: 1.04s\tremaining: 1.7s\n",
      "381:\tlearn: 4485275.7088460\ttotal: 1.05s\tremaining: 1.69s\n",
      "382:\tlearn: 4484163.3278991\ttotal: 1.05s\tremaining: 1.69s\n",
      "383:\tlearn: 4481724.8899537\ttotal: 1.05s\tremaining: 1.69s\n",
      "384:\tlearn: 4478639.7977444\ttotal: 1.05s\tremaining: 1.68s\n",
      "385:\tlearn: 4474067.7743103\ttotal: 1.06s\tremaining: 1.68s\n",
      "386:\tlearn: 4470734.6328402\ttotal: 1.06s\tremaining: 1.68s\n",
      "387:\tlearn: 4468743.1928539\ttotal: 1.06s\tremaining: 1.67s\n",
      "388:\tlearn: 4466501.8499426\ttotal: 1.06s\tremaining: 1.67s\n",
      "389:\tlearn: 4463379.0291558\ttotal: 1.07s\tremaining: 1.67s\n",
      "390:\tlearn: 4461401.0614770\ttotal: 1.07s\tremaining: 1.66s\n",
      "391:\tlearn: 4459923.7405546\ttotal: 1.07s\tremaining: 1.66s\n",
      "392:\tlearn: 4458938.5048116\ttotal: 1.07s\tremaining: 1.66s\n",
      "393:\tlearn: 4455549.0369163\ttotal: 1.07s\tremaining: 1.65s\n",
      "394:\tlearn: 4453639.1126523\ttotal: 1.08s\tremaining: 1.65s\n",
      "395:\tlearn: 4450010.9924496\ttotal: 1.08s\tremaining: 1.65s\n",
      "396:\tlearn: 4446456.8010094\ttotal: 1.08s\tremaining: 1.64s\n",
      "397:\tlearn: 4442246.3923209\ttotal: 1.08s\tremaining: 1.64s\n",
      "398:\tlearn: 4441311.0055529\ttotal: 1.09s\tremaining: 1.64s\n",
      "399:\tlearn: 4435613.5381400\ttotal: 1.09s\tremaining: 1.63s\n",
      "400:\tlearn: 4433601.9575619\ttotal: 1.09s\tremaining: 1.63s\n",
      "401:\tlearn: 4431869.0225759\ttotal: 1.09s\tremaining: 1.63s\n",
      "402:\tlearn: 4430609.6358146\ttotal: 1.1s\tremaining: 1.62s\n",
      "403:\tlearn: 4429692.2476671\ttotal: 1.1s\tremaining: 1.62s\n",
      "404:\tlearn: 4427240.1146462\ttotal: 1.1s\tremaining: 1.62s\n",
      "405:\tlearn: 4425212.9724921\ttotal: 1.1s\tremaining: 1.61s\n",
      "406:\tlearn: 4421003.7391351\ttotal: 1.1s\tremaining: 1.61s\n",
      "407:\tlearn: 4418588.3193116\ttotal: 1.11s\tremaining: 1.61s\n",
      "408:\tlearn: 4416321.8554150\ttotal: 1.11s\tremaining: 1.6s\n",
      "409:\tlearn: 4413392.2275246\ttotal: 1.11s\tremaining: 1.6s\n",
      "410:\tlearn: 4409579.5444069\ttotal: 1.12s\tremaining: 1.6s\n",
      "411:\tlearn: 4406871.9708698\ttotal: 1.12s\tremaining: 1.6s\n",
      "412:\tlearn: 4404860.7769116\ttotal: 1.12s\tremaining: 1.59s\n",
      "413:\tlearn: 4404213.4833318\ttotal: 1.12s\tremaining: 1.59s\n",
      "414:\tlearn: 4403499.1526309\ttotal: 1.13s\tremaining: 1.59s\n",
      "415:\tlearn: 4402846.7813776\ttotal: 1.13s\tremaining: 1.58s\n",
      "416:\tlearn: 4401239.0448229\ttotal: 1.13s\tremaining: 1.58s\n",
      "417:\tlearn: 4399464.4605078\ttotal: 1.13s\tremaining: 1.58s\n",
      "418:\tlearn: 4398285.6987353\ttotal: 1.13s\tremaining: 1.57s\n",
      "419:\tlearn: 4396770.6977503\ttotal: 1.14s\tremaining: 1.57s\n",
      "420:\tlearn: 4392481.6698372\ttotal: 1.14s\tremaining: 1.57s\n",
      "421:\tlearn: 4390979.3353618\ttotal: 1.14s\tremaining: 1.56s\n",
      "422:\tlearn: 4387411.0812934\ttotal: 1.14s\tremaining: 1.56s\n",
      "423:\tlearn: 4384558.5891010\ttotal: 1.15s\tremaining: 1.56s\n",
      "424:\tlearn: 4383813.4974924\ttotal: 1.15s\tremaining: 1.55s\n",
      "425:\tlearn: 4382232.0648551\ttotal: 1.15s\tremaining: 1.55s\n",
      "426:\tlearn: 4381434.6204215\ttotal: 1.15s\tremaining: 1.55s\n",
      "427:\tlearn: 4379560.2032162\ttotal: 1.16s\tremaining: 1.54s\n",
      "428:\tlearn: 4377251.4604331\ttotal: 1.16s\tremaining: 1.54s\n",
      "429:\tlearn: 4375897.8853652\ttotal: 1.16s\tremaining: 1.54s\n",
      "430:\tlearn: 4373085.7862730\ttotal: 1.16s\tremaining: 1.53s\n",
      "431:\tlearn: 4370875.1688794\ttotal: 1.16s\tremaining: 1.53s\n",
      "432:\tlearn: 4367970.8385818\ttotal: 1.17s\tremaining: 1.53s\n",
      "433:\tlearn: 4365852.7249208\ttotal: 1.17s\tremaining: 1.52s\n",
      "434:\tlearn: 4360135.7282221\ttotal: 1.18s\tremaining: 1.54s\n",
      "435:\tlearn: 4359181.2361185\ttotal: 1.18s\tremaining: 1.53s\n",
      "436:\tlearn: 4356143.3964495\ttotal: 1.19s\tremaining: 1.53s\n",
      "437:\tlearn: 4353208.3636769\ttotal: 1.19s\tremaining: 1.53s\n",
      "438:\tlearn: 4351954.5152871\ttotal: 1.19s\tremaining: 1.52s\n",
      "439:\tlearn: 4348185.3814239\ttotal: 1.19s\tremaining: 1.52s\n",
      "440:\tlearn: 4346052.8115258\ttotal: 1.2s\tremaining: 1.52s\n",
      "441:\tlearn: 4344990.6402820\ttotal: 1.2s\tremaining: 1.51s\n",
      "442:\tlearn: 4339730.6596413\ttotal: 1.2s\tremaining: 1.51s\n",
      "443:\tlearn: 4336337.0913011\ttotal: 1.2s\tremaining: 1.51s\n",
      "444:\tlearn: 4334177.5377355\ttotal: 1.21s\tremaining: 1.5s\n",
      "445:\tlearn: 4330767.4374280\ttotal: 1.21s\tremaining: 1.5s\n",
      "446:\tlearn: 4328508.6746049\ttotal: 1.21s\tremaining: 1.5s\n",
      "447:\tlearn: 4325322.5935893\ttotal: 1.21s\tremaining: 1.49s\n",
      "448:\tlearn: 4324843.8670977\ttotal: 1.22s\tremaining: 1.49s\n",
      "449:\tlearn: 4322708.3467309\ttotal: 1.22s\tremaining: 1.49s\n",
      "450:\tlearn: 4319148.0488750\ttotal: 1.22s\tremaining: 1.49s\n",
      "451:\tlearn: 4316466.8504052\ttotal: 1.22s\tremaining: 1.48s\n",
      "452:\tlearn: 4314597.2163968\ttotal: 1.22s\tremaining: 1.48s\n",
      "453:\tlearn: 4312880.3330019\ttotal: 1.23s\tremaining: 1.48s\n",
      "454:\tlearn: 4310509.1944333\ttotal: 1.23s\tremaining: 1.47s\n",
      "455:\tlearn: 4303839.8546627\ttotal: 1.23s\tremaining: 1.47s\n",
      "456:\tlearn: 4300034.8561466\ttotal: 1.23s\tremaining: 1.47s\n",
      "457:\tlearn: 4298371.6508364\ttotal: 1.24s\tremaining: 1.46s\n",
      "458:\tlearn: 4297842.4810840\ttotal: 1.24s\tremaining: 1.46s\n",
      "459:\tlearn: 4293888.9166393\ttotal: 1.24s\tremaining: 1.46s\n",
      "460:\tlearn: 4291552.3503746\ttotal: 1.24s\tremaining: 1.45s\n",
      "461:\tlearn: 4290119.1985930\ttotal: 1.25s\tremaining: 1.45s\n",
      "462:\tlearn: 4288010.5910710\ttotal: 1.25s\tremaining: 1.45s\n",
      "463:\tlearn: 4285373.5575324\ttotal: 1.25s\tremaining: 1.44s\n",
      "464:\tlearn: 4282296.0124001\ttotal: 1.25s\tremaining: 1.44s\n",
      "465:\tlearn: 4278872.9632598\ttotal: 1.25s\tremaining: 1.44s\n",
      "466:\tlearn: 4277599.8177188\ttotal: 1.26s\tremaining: 1.43s\n",
      "467:\tlearn: 4273377.3104967\ttotal: 1.26s\tremaining: 1.43s\n",
      "468:\tlearn: 4270670.5958335\ttotal: 1.26s\tremaining: 1.43s\n",
      "469:\tlearn: 4266128.5682832\ttotal: 1.26s\tremaining: 1.43s\n",
      "470:\tlearn: 4264368.2521783\ttotal: 1.27s\tremaining: 1.42s\n",
      "471:\tlearn: 4262355.8711264\ttotal: 1.27s\tremaining: 1.42s\n",
      "472:\tlearn: 4259949.5234320\ttotal: 1.27s\tremaining: 1.42s\n",
      "473:\tlearn: 4255378.4250377\ttotal: 1.27s\tremaining: 1.41s\n",
      "474:\tlearn: 4252712.7344581\ttotal: 1.28s\tremaining: 1.41s\n",
      "475:\tlearn: 4251551.2965631\ttotal: 1.28s\tremaining: 1.41s\n",
      "476:\tlearn: 4249447.5380777\ttotal: 1.28s\tremaining: 1.4s\n",
      "477:\tlearn: 4247102.7872340\ttotal: 1.28s\tremaining: 1.4s\n",
      "478:\tlearn: 4244054.2409519\ttotal: 1.28s\tremaining: 1.4s\n",
      "479:\tlearn: 4241838.0816697\ttotal: 1.29s\tremaining: 1.4s\n",
      "480:\tlearn: 4238507.2626787\ttotal: 1.29s\tremaining: 1.39s\n",
      "481:\tlearn: 4236389.3753927\ttotal: 1.29s\tremaining: 1.39s\n",
      "482:\tlearn: 4235924.7304005\ttotal: 1.29s\tremaining: 1.39s\n",
      "483:\tlearn: 4234027.1621471\ttotal: 1.3s\tremaining: 1.38s\n",
      "484:\tlearn: 4231026.8694249\ttotal: 1.3s\tremaining: 1.38s\n",
      "485:\tlearn: 4228122.3045206\ttotal: 1.3s\tremaining: 1.38s\n",
      "486:\tlearn: 4226356.1976254\ttotal: 1.3s\tremaining: 1.37s\n",
      "487:\tlearn: 4222886.5618845\ttotal: 1.31s\tremaining: 1.37s\n",
      "488:\tlearn: 4218698.9323905\ttotal: 1.31s\tremaining: 1.37s\n",
      "489:\tlearn: 4215791.2112713\ttotal: 1.31s\tremaining: 1.36s\n",
      "490:\tlearn: 4214478.7639548\ttotal: 1.31s\tremaining: 1.36s\n",
      "491:\tlearn: 4212906.5636487\ttotal: 1.31s\tremaining: 1.36s\n",
      "492:\tlearn: 4211353.7761343\ttotal: 1.32s\tremaining: 1.35s\n",
      "493:\tlearn: 4209287.6600816\ttotal: 1.32s\tremaining: 1.35s\n",
      "494:\tlearn: 4207737.0748774\ttotal: 1.32s\tremaining: 1.35s\n",
      "495:\tlearn: 4202371.8991106\ttotal: 1.32s\tremaining: 1.35s\n",
      "496:\tlearn: 4200100.0852546\ttotal: 1.33s\tremaining: 1.34s\n",
      "497:\tlearn: 4198165.3690261\ttotal: 1.33s\tremaining: 1.34s\n",
      "498:\tlearn: 4194148.3882264\ttotal: 1.33s\tremaining: 1.34s\n",
      "499:\tlearn: 4190487.2652327\ttotal: 1.33s\tremaining: 1.33s\n",
      "500:\tlearn: 4188192.1701123\ttotal: 1.34s\tremaining: 1.33s\n",
      "501:\tlearn: 4185768.9876102\ttotal: 1.34s\tremaining: 1.33s\n",
      "502:\tlearn: 4183760.2572465\ttotal: 1.34s\tremaining: 1.32s\n",
      "503:\tlearn: 4180086.5750148\ttotal: 1.34s\tremaining: 1.32s\n",
      "504:\tlearn: 4177368.4141897\ttotal: 1.34s\tremaining: 1.32s\n",
      "505:\tlearn: 4174938.7156962\ttotal: 1.35s\tremaining: 1.31s\n",
      "506:\tlearn: 4173568.9013465\ttotal: 1.35s\tremaining: 1.31s\n",
      "507:\tlearn: 4169943.0219540\ttotal: 1.35s\tremaining: 1.31s\n",
      "508:\tlearn: 4168030.6551894\ttotal: 1.35s\tremaining: 1.31s\n",
      "509:\tlearn: 4164686.8707771\ttotal: 1.36s\tremaining: 1.3s\n",
      "510:\tlearn: 4162067.8499084\ttotal: 1.36s\tremaining: 1.3s\n",
      "511:\tlearn: 4160541.0762008\ttotal: 1.36s\tremaining: 1.3s\n",
      "512:\tlearn: 4158906.6043930\ttotal: 1.36s\tremaining: 1.29s\n",
      "513:\tlearn: 4155073.1137845\ttotal: 1.36s\tremaining: 1.29s\n",
      "514:\tlearn: 4153637.1530657\ttotal: 1.37s\tremaining: 1.29s\n",
      "515:\tlearn: 4150247.5929239\ttotal: 1.37s\tremaining: 1.28s\n",
      "516:\tlearn: 4149467.0858335\ttotal: 1.37s\tremaining: 1.28s\n",
      "517:\tlearn: 4146771.2425950\ttotal: 1.38s\tremaining: 1.28s\n",
      "518:\tlearn: 4144824.6578468\ttotal: 1.38s\tremaining: 1.28s\n",
      "519:\tlearn: 4141694.2079715\ttotal: 1.38s\tremaining: 1.27s\n",
      "520:\tlearn: 4139056.7757137\ttotal: 1.38s\tremaining: 1.27s\n",
      "521:\tlearn: 4136542.2627519\ttotal: 1.38s\tremaining: 1.27s\n",
      "522:\tlearn: 4134548.0397867\ttotal: 1.39s\tremaining: 1.26s\n",
      "523:\tlearn: 4131836.3680446\ttotal: 1.39s\tremaining: 1.26s\n",
      "524:\tlearn: 4130349.0712277\ttotal: 1.39s\tremaining: 1.26s\n",
      "525:\tlearn: 4128020.6715935\ttotal: 1.39s\tremaining: 1.25s\n",
      "526:\tlearn: 4125314.9877112\ttotal: 1.4s\tremaining: 1.25s\n",
      "527:\tlearn: 4123045.4084333\ttotal: 1.4s\tremaining: 1.25s\n",
      "528:\tlearn: 4119044.3742346\ttotal: 1.4s\tremaining: 1.25s\n",
      "529:\tlearn: 4116990.2679921\ttotal: 1.4s\tremaining: 1.24s\n",
      "530:\tlearn: 4115414.8272872\ttotal: 1.41s\tremaining: 1.24s\n",
      "531:\tlearn: 4111194.2307853\ttotal: 1.41s\tremaining: 1.24s\n",
      "532:\tlearn: 4108301.0928793\ttotal: 1.41s\tremaining: 1.24s\n",
      "533:\tlearn: 4106344.8532941\ttotal: 1.41s\tremaining: 1.23s\n",
      "534:\tlearn: 4104337.7823615\ttotal: 1.41s\tremaining: 1.23s\n",
      "535:\tlearn: 4102181.0245316\ttotal: 1.42s\tremaining: 1.23s\n",
      "536:\tlearn: 4100175.7112780\ttotal: 1.42s\tremaining: 1.22s\n",
      "537:\tlearn: 4098135.3047463\ttotal: 1.42s\tremaining: 1.22s\n",
      "538:\tlearn: 4095916.4983871\ttotal: 1.42s\tremaining: 1.22s\n",
      "539:\tlearn: 4094210.6529564\ttotal: 1.43s\tremaining: 1.21s\n",
      "540:\tlearn: 4091903.5595541\ttotal: 1.43s\tremaining: 1.21s\n",
      "541:\tlearn: 4087694.2099063\ttotal: 1.43s\tremaining: 1.21s\n",
      "542:\tlearn: 4084849.7863621\ttotal: 1.43s\tremaining: 1.21s\n",
      "543:\tlearn: 4082387.0053645\ttotal: 1.44s\tremaining: 1.2s\n",
      "544:\tlearn: 4080855.9838944\ttotal: 1.44s\tremaining: 1.2s\n",
      "545:\tlearn: 4078139.6047468\ttotal: 1.44s\tremaining: 1.2s\n",
      "546:\tlearn: 4074816.4465831\ttotal: 1.44s\tremaining: 1.19s\n",
      "547:\tlearn: 4071411.0394037\ttotal: 1.45s\tremaining: 1.19s\n",
      "548:\tlearn: 4068258.8986525\ttotal: 1.45s\tremaining: 1.19s\n",
      "549:\tlearn: 4065802.5101963\ttotal: 1.45s\tremaining: 1.19s\n",
      "550:\tlearn: 4063339.4206606\ttotal: 1.45s\tremaining: 1.18s\n",
      "551:\tlearn: 4060297.1858307\ttotal: 1.45s\tremaining: 1.18s\n",
      "552:\tlearn: 4058936.0546333\ttotal: 1.46s\tremaining: 1.18s\n",
      "553:\tlearn: 4056748.5558329\ttotal: 1.46s\tremaining: 1.17s\n",
      "554:\tlearn: 4055918.4296422\ttotal: 1.46s\tremaining: 1.17s\n",
      "555:\tlearn: 4054377.6416817\ttotal: 1.46s\tremaining: 1.17s\n",
      "556:\tlearn: 4051140.5259820\ttotal: 1.47s\tremaining: 1.17s\n",
      "557:\tlearn: 4049754.2952316\ttotal: 1.47s\tremaining: 1.16s\n",
      "558:\tlearn: 4047399.2993862\ttotal: 1.47s\tremaining: 1.16s\n",
      "559:\tlearn: 4043956.0828221\ttotal: 1.47s\tremaining: 1.16s\n",
      "560:\tlearn: 4040665.4776480\ttotal: 1.48s\tremaining: 1.16s\n",
      "561:\tlearn: 4038287.2724338\ttotal: 1.48s\tremaining: 1.15s\n",
      "562:\tlearn: 4035442.8990272\ttotal: 1.48s\tremaining: 1.15s\n",
      "563:\tlearn: 4033223.9873095\ttotal: 1.49s\tremaining: 1.15s\n",
      "564:\tlearn: 4030812.6914466\ttotal: 1.49s\tremaining: 1.15s\n",
      "565:\tlearn: 4027517.7259753\ttotal: 1.49s\tremaining: 1.14s\n",
      "566:\tlearn: 4026008.1938304\ttotal: 1.49s\tremaining: 1.14s\n",
      "567:\tlearn: 4022844.3319303\ttotal: 1.5s\tremaining: 1.14s\n",
      "568:\tlearn: 4019714.3460235\ttotal: 1.5s\tremaining: 1.14s\n",
      "569:\tlearn: 4017960.8615697\ttotal: 1.5s\tremaining: 1.14s\n",
      "570:\tlearn: 4016407.8342848\ttotal: 1.51s\tremaining: 1.13s\n",
      "571:\tlearn: 4014421.2355686\ttotal: 1.51s\tremaining: 1.13s\n",
      "572:\tlearn: 4012012.1500737\ttotal: 1.51s\tremaining: 1.13s\n",
      "573:\tlearn: 4011272.6588054\ttotal: 1.51s\tremaining: 1.12s\n",
      "574:\tlearn: 4009645.6215728\ttotal: 1.52s\tremaining: 1.12s\n",
      "575:\tlearn: 4006387.0537260\ttotal: 1.52s\tremaining: 1.12s\n",
      "576:\tlearn: 4004272.4310911\ttotal: 1.52s\tremaining: 1.12s\n",
      "577:\tlearn: 4002002.0692903\ttotal: 1.53s\tremaining: 1.11s\n",
      "578:\tlearn: 3998312.5432709\ttotal: 1.53s\tremaining: 1.11s\n",
      "579:\tlearn: 3996664.0662890\ttotal: 1.53s\tremaining: 1.11s\n",
      "580:\tlearn: 3995963.3606863\ttotal: 1.53s\tremaining: 1.11s\n",
      "581:\tlearn: 3992544.6426891\ttotal: 1.54s\tremaining: 1.1s\n",
      "582:\tlearn: 3989015.6376594\ttotal: 1.54s\tremaining: 1.1s\n",
      "583:\tlearn: 3987337.6271303\ttotal: 1.54s\tremaining: 1.1s\n",
      "584:\tlearn: 3983528.7261785\ttotal: 1.55s\tremaining: 1.1s\n",
      "585:\tlearn: 3981984.3087384\ttotal: 1.55s\tremaining: 1.09s\n",
      "586:\tlearn: 3979559.7908734\ttotal: 1.55s\tremaining: 1.09s\n",
      "587:\tlearn: 3976887.6378931\ttotal: 1.55s\tremaining: 1.09s\n",
      "588:\tlearn: 3975527.1818648\ttotal: 1.56s\tremaining: 1.09s\n",
      "589:\tlearn: 3972252.8492818\ttotal: 1.56s\tremaining: 1.08s\n",
      "590:\tlearn: 3968822.7558446\ttotal: 1.56s\tremaining: 1.08s\n",
      "591:\tlearn: 3967157.4576510\ttotal: 1.56s\tremaining: 1.08s\n",
      "592:\tlearn: 3965123.7182614\ttotal: 1.57s\tremaining: 1.08s\n",
      "593:\tlearn: 3964367.5716028\ttotal: 1.57s\tremaining: 1.07s\n",
      "594:\tlearn: 3963575.7006047\ttotal: 1.57s\tremaining: 1.07s\n",
      "595:\tlearn: 3961767.1643859\ttotal: 1.57s\tremaining: 1.07s\n",
      "596:\tlearn: 3959381.5522457\ttotal: 1.58s\tremaining: 1.06s\n",
      "597:\tlearn: 3957689.9140632\ttotal: 1.58s\tremaining: 1.06s\n",
      "598:\tlearn: 3956012.3281536\ttotal: 1.58s\tremaining: 1.06s\n",
      "599:\tlearn: 3954171.8590722\ttotal: 1.58s\tremaining: 1.06s\n",
      "600:\tlearn: 3951959.1414023\ttotal: 1.59s\tremaining: 1.05s\n",
      "601:\tlearn: 3949840.1811779\ttotal: 1.59s\tremaining: 1.05s\n",
      "602:\tlearn: 3949064.4032654\ttotal: 1.59s\tremaining: 1.05s\n",
      "603:\tlearn: 3947176.0484005\ttotal: 1.59s\tremaining: 1.04s\n",
      "604:\tlearn: 3945951.1488759\ttotal: 1.6s\tremaining: 1.04s\n",
      "605:\tlearn: 3944619.6405849\ttotal: 1.6s\tremaining: 1.04s\n",
      "606:\tlearn: 3943111.3726038\ttotal: 1.6s\tremaining: 1.04s\n",
      "607:\tlearn: 3942390.9498440\ttotal: 1.6s\tremaining: 1.03s\n",
      "608:\tlearn: 3941212.4039920\ttotal: 1.6s\tremaining: 1.03s\n",
      "609:\tlearn: 3938683.0986669\ttotal: 1.61s\tremaining: 1.03s\n",
      "610:\tlearn: 3935790.3310129\ttotal: 1.61s\tremaining: 1.02s\n",
      "611:\tlearn: 3933759.6685324\ttotal: 1.61s\tremaining: 1.02s\n",
      "612:\tlearn: 3929598.0677491\ttotal: 1.61s\tremaining: 1.02s\n",
      "613:\tlearn: 3926647.9261797\ttotal: 1.62s\tremaining: 1.02s\n",
      "614:\tlearn: 3925342.6996564\ttotal: 1.62s\tremaining: 1.01s\n",
      "615:\tlearn: 3924594.8519305\ttotal: 1.62s\tremaining: 1.01s\n",
      "616:\tlearn: 3923795.9313385\ttotal: 1.62s\tremaining: 1.01s\n",
      "617:\tlearn: 3921385.7258328\ttotal: 1.63s\tremaining: 1s\n",
      "618:\tlearn: 3920219.2849655\ttotal: 1.63s\tremaining: 1s\n",
      "619:\tlearn: 3917878.8451480\ttotal: 1.63s\tremaining: 1000ms\n",
      "620:\tlearn: 3916289.9680091\ttotal: 1.63s\tremaining: 997ms\n",
      "621:\tlearn: 3914422.1281584\ttotal: 1.64s\tremaining: 994ms\n",
      "622:\tlearn: 3911615.7399610\ttotal: 1.64s\tremaining: 991ms\n",
      "623:\tlearn: 3909699.5456949\ttotal: 1.64s\tremaining: 988ms\n",
      "624:\tlearn: 3906657.0291839\ttotal: 1.64s\tremaining: 985ms\n",
      "625:\tlearn: 3903659.1999347\ttotal: 1.64s\tremaining: 983ms\n",
      "626:\tlearn: 3902454.0748149\ttotal: 1.65s\tremaining: 980ms\n",
      "627:\tlearn: 3900104.7755324\ttotal: 1.65s\tremaining: 977ms\n",
      "628:\tlearn: 3897452.4256438\ttotal: 1.65s\tremaining: 974ms\n",
      "629:\tlearn: 3895265.8925913\ttotal: 1.65s\tremaining: 971ms\n",
      "630:\tlearn: 3893574.1014261\ttotal: 1.66s\tremaining: 969ms\n",
      "631:\tlearn: 3892507.0712860\ttotal: 1.66s\tremaining: 966ms\n",
      "632:\tlearn: 3889740.4775322\ttotal: 1.66s\tremaining: 963ms\n",
      "633:\tlearn: 3887095.9493730\ttotal: 1.66s\tremaining: 960ms\n",
      "634:\tlearn: 3883781.9962919\ttotal: 1.67s\tremaining: 957ms\n",
      "635:\tlearn: 3880974.0513643\ttotal: 1.67s\tremaining: 955ms\n",
      "636:\tlearn: 3877832.0302521\ttotal: 1.67s\tremaining: 952ms\n",
      "637:\tlearn: 3876176.3254651\ttotal: 1.67s\tremaining: 949ms\n",
      "638:\tlearn: 3873633.1443660\ttotal: 1.67s\tremaining: 946ms\n",
      "639:\tlearn: 3871697.5021098\ttotal: 1.68s\tremaining: 943ms\n",
      "640:\tlearn: 3869327.4568484\ttotal: 1.68s\tremaining: 940ms\n",
      "641:\tlearn: 3867482.0779256\ttotal: 1.68s\tremaining: 938ms\n",
      "642:\tlearn: 3866806.7647811\ttotal: 1.68s\tremaining: 935ms\n",
      "643:\tlearn: 3865305.3003473\ttotal: 1.69s\tremaining: 932ms\n",
      "644:\tlearn: 3863320.5353073\ttotal: 1.69s\tremaining: 929ms\n",
      "645:\tlearn: 3861258.9677839\ttotal: 1.69s\tremaining: 926ms\n",
      "646:\tlearn: 3858567.3200308\ttotal: 1.69s\tremaining: 924ms\n",
      "647:\tlearn: 3855943.3052506\ttotal: 1.7s\tremaining: 921ms\n",
      "648:\tlearn: 3854792.7516800\ttotal: 1.7s\tremaining: 918ms\n",
      "649:\tlearn: 3853185.6566662\ttotal: 1.7s\tremaining: 915ms\n",
      "650:\tlearn: 3852207.2886369\ttotal: 1.7s\tremaining: 912ms\n",
      "651:\tlearn: 3849519.3021639\ttotal: 1.7s\tremaining: 910ms\n",
      "652:\tlearn: 3846633.2179347\ttotal: 1.71s\tremaining: 907ms\n",
      "653:\tlearn: 3845113.1059743\ttotal: 1.71s\tremaining: 904ms\n",
      "654:\tlearn: 3844208.8327085\ttotal: 1.71s\tremaining: 901ms\n",
      "655:\tlearn: 3842717.0758188\ttotal: 1.71s\tremaining: 899ms\n",
      "656:\tlearn: 3841918.4101524\ttotal: 1.72s\tremaining: 896ms\n",
      "657:\tlearn: 3840058.8931681\ttotal: 1.72s\tremaining: 893ms\n",
      "658:\tlearn: 3838213.6227277\ttotal: 1.72s\tremaining: 891ms\n",
      "659:\tlearn: 3836945.7131056\ttotal: 1.72s\tremaining: 888ms\n",
      "660:\tlearn: 3834728.6005526\ttotal: 1.73s\tremaining: 885ms\n",
      "661:\tlearn: 3831801.7431235\ttotal: 1.73s\tremaining: 882ms\n",
      "662:\tlearn: 3830196.4487499\ttotal: 1.73s\tremaining: 879ms\n",
      "663:\tlearn: 3827831.9296999\ttotal: 1.73s\tremaining: 877ms\n",
      "664:\tlearn: 3827098.9725653\ttotal: 1.73s\tremaining: 874ms\n",
      "665:\tlearn: 3825346.1768606\ttotal: 1.74s\tremaining: 871ms\n",
      "666:\tlearn: 3822971.0919159\ttotal: 1.74s\tremaining: 868ms\n",
      "667:\tlearn: 3821047.6158572\ttotal: 1.74s\tremaining: 866ms\n",
      "668:\tlearn: 3819963.1287319\ttotal: 1.74s\tremaining: 863ms\n",
      "669:\tlearn: 3817721.9259568\ttotal: 1.75s\tremaining: 860ms\n",
      "670:\tlearn: 3816496.1999363\ttotal: 1.75s\tremaining: 857ms\n",
      "671:\tlearn: 3813075.0726123\ttotal: 1.75s\tremaining: 854ms\n",
      "672:\tlearn: 3812099.6370176\ttotal: 1.75s\tremaining: 852ms\n",
      "673:\tlearn: 3810703.7964510\ttotal: 1.75s\tremaining: 849ms\n",
      "674:\tlearn: 3808035.8958024\ttotal: 1.76s\tremaining: 846ms\n",
      "675:\tlearn: 3806014.4670323\ttotal: 1.76s\tremaining: 843ms\n",
      "676:\tlearn: 3804578.3301103\ttotal: 1.76s\tremaining: 841ms\n",
      "677:\tlearn: 3803259.3860496\ttotal: 1.76s\tremaining: 838ms\n",
      "678:\tlearn: 3802408.8550297\ttotal: 1.77s\tremaining: 835ms\n",
      "679:\tlearn: 3801678.2587160\ttotal: 1.77s\tremaining: 833ms\n",
      "680:\tlearn: 3799538.0890529\ttotal: 1.77s\tremaining: 830ms\n",
      "681:\tlearn: 3795984.4327922\ttotal: 1.77s\tremaining: 827ms\n",
      "682:\tlearn: 3794417.5399372\ttotal: 1.78s\tremaining: 824ms\n",
      "683:\tlearn: 3791083.7205253\ttotal: 1.78s\tremaining: 822ms\n",
      "684:\tlearn: 3788166.1124893\ttotal: 1.78s\tremaining: 819ms\n",
      "685:\tlearn: 3786021.4194537\ttotal: 1.78s\tremaining: 816ms\n",
      "686:\tlearn: 3784689.4973601\ttotal: 1.78s\tremaining: 814ms\n",
      "687:\tlearn: 3782997.2566920\ttotal: 1.79s\tremaining: 811ms\n",
      "688:\tlearn: 3780904.0667608\ttotal: 1.79s\tremaining: 808ms\n",
      "689:\tlearn: 3778436.4878397\ttotal: 1.79s\tremaining: 805ms\n",
      "690:\tlearn: 3776485.3798315\ttotal: 1.79s\tremaining: 803ms\n",
      "691:\tlearn: 3774905.4436611\ttotal: 1.8s\tremaining: 800ms\n",
      "692:\tlearn: 3773263.0499881\ttotal: 1.8s\tremaining: 797ms\n",
      "693:\tlearn: 3771377.5846124\ttotal: 1.8s\tremaining: 794ms\n",
      "694:\tlearn: 3769681.2086223\ttotal: 1.8s\tremaining: 792ms\n",
      "695:\tlearn: 3768367.6486397\ttotal: 1.81s\tremaining: 789ms\n",
      "696:\tlearn: 3767336.6901537\ttotal: 1.81s\tremaining: 786ms\n",
      "697:\tlearn: 3766036.9778497\ttotal: 1.81s\tremaining: 783ms\n",
      "698:\tlearn: 3764575.9620042\ttotal: 1.81s\tremaining: 781ms\n",
      "699:\tlearn: 3762518.6182787\ttotal: 1.81s\tremaining: 778ms\n",
      "700:\tlearn: 3761928.9721486\ttotal: 1.82s\tremaining: 775ms\n",
      "701:\tlearn: 3761067.5809942\ttotal: 1.82s\tremaining: 772ms\n",
      "702:\tlearn: 3759418.2256815\ttotal: 1.82s\tremaining: 770ms\n",
      "703:\tlearn: 3758843.2183898\ttotal: 1.82s\tremaining: 767ms\n",
      "704:\tlearn: 3757654.1255576\ttotal: 1.83s\tremaining: 765ms\n",
      "705:\tlearn: 3755026.6256317\ttotal: 1.83s\tremaining: 762ms\n",
      "706:\tlearn: 3753021.8591347\ttotal: 1.83s\tremaining: 759ms\n",
      "707:\tlearn: 3750858.2238745\ttotal: 1.83s\tremaining: 756ms\n",
      "708:\tlearn: 3749668.7235687\ttotal: 1.84s\tremaining: 754ms\n",
      "709:\tlearn: 3747435.1529693\ttotal: 1.84s\tremaining: 751ms\n",
      "710:\tlearn: 3745503.0500371\ttotal: 1.84s\tremaining: 748ms\n",
      "711:\tlearn: 3743878.7809690\ttotal: 1.84s\tremaining: 746ms\n",
      "712:\tlearn: 3741420.0549802\ttotal: 1.84s\tremaining: 743ms\n",
      "713:\tlearn: 3738246.6266938\ttotal: 1.85s\tremaining: 740ms\n",
      "714:\tlearn: 3736939.3081728\ttotal: 1.85s\tremaining: 738ms\n",
      "715:\tlearn: 3735881.5342603\ttotal: 1.85s\tremaining: 735ms\n",
      "716:\tlearn: 3734385.0144236\ttotal: 1.85s\tremaining: 732ms\n",
      "717:\tlearn: 3731666.8988085\ttotal: 1.86s\tremaining: 730ms\n",
      "718:\tlearn: 3730531.5041846\ttotal: 1.86s\tremaining: 727ms\n",
      "719:\tlearn: 3727604.6928804\ttotal: 1.86s\tremaining: 724ms\n",
      "720:\tlearn: 3726315.1291111\ttotal: 1.86s\tremaining: 722ms\n",
      "721:\tlearn: 3725260.0896904\ttotal: 1.87s\tremaining: 719ms\n",
      "722:\tlearn: 3723750.8485404\ttotal: 1.87s\tremaining: 717ms\n",
      "723:\tlearn: 3721462.2979741\ttotal: 1.87s\tremaining: 714ms\n",
      "724:\tlearn: 3720660.0716849\ttotal: 1.87s\tremaining: 711ms\n",
      "725:\tlearn: 3717643.5499430\ttotal: 1.88s\tremaining: 708ms\n",
      "726:\tlearn: 3716496.1968277\ttotal: 1.88s\tremaining: 706ms\n",
      "727:\tlearn: 3715689.6391473\ttotal: 1.88s\tremaining: 703ms\n",
      "728:\tlearn: 3713901.3938402\ttotal: 1.88s\tremaining: 701ms\n",
      "729:\tlearn: 3711722.2987436\ttotal: 1.89s\tremaining: 698ms\n",
      "730:\tlearn: 3710473.7934655\ttotal: 1.89s\tremaining: 695ms\n",
      "731:\tlearn: 3709390.3636122\ttotal: 1.89s\tremaining: 692ms\n",
      "732:\tlearn: 3708797.1349603\ttotal: 1.89s\tremaining: 690ms\n",
      "733:\tlearn: 3706362.9495858\ttotal: 1.9s\tremaining: 687ms\n",
      "734:\tlearn: 3704767.5631338\ttotal: 1.9s\tremaining: 684ms\n",
      "735:\tlearn: 3702344.0468923\ttotal: 1.9s\tremaining: 682ms\n",
      "736:\tlearn: 3700489.2218378\ttotal: 1.9s\tremaining: 679ms\n",
      "737:\tlearn: 3697863.8860628\ttotal: 1.9s\tremaining: 676ms\n",
      "738:\tlearn: 3697038.2604710\ttotal: 1.91s\tremaining: 674ms\n",
      "739:\tlearn: 3695193.6256449\ttotal: 1.91s\tremaining: 671ms\n",
      "740:\tlearn: 3693301.0580912\ttotal: 1.91s\tremaining: 668ms\n",
      "741:\tlearn: 3692456.9273100\ttotal: 1.91s\tremaining: 666ms\n",
      "742:\tlearn: 3690266.1659194\ttotal: 1.92s\tremaining: 663ms\n",
      "743:\tlearn: 3688307.3834511\ttotal: 1.92s\tremaining: 660ms\n",
      "744:\tlearn: 3687024.5680079\ttotal: 1.92s\tremaining: 658ms\n",
      "745:\tlearn: 3684729.9610809\ttotal: 1.92s\tremaining: 655ms\n",
      "746:\tlearn: 3683269.2156946\ttotal: 1.93s\tremaining: 652ms\n",
      "747:\tlearn: 3680730.8280724\ttotal: 1.93s\tremaining: 650ms\n",
      "748:\tlearn: 3678705.1734108\ttotal: 1.93s\tremaining: 647ms\n",
      "749:\tlearn: 3677271.7726856\ttotal: 1.93s\tremaining: 644ms\n",
      "750:\tlearn: 3676378.7502485\ttotal: 1.93s\tremaining: 641ms\n",
      "751:\tlearn: 3675543.6621766\ttotal: 1.94s\tremaining: 639ms\n",
      "752:\tlearn: 3674596.9242182\ttotal: 1.94s\tremaining: 636ms\n",
      "753:\tlearn: 3672088.1685988\ttotal: 1.94s\tremaining: 633ms\n",
      "754:\tlearn: 3669670.2068123\ttotal: 1.94s\tremaining: 631ms\n",
      "755:\tlearn: 3668349.4801743\ttotal: 1.95s\tremaining: 628ms\n",
      "756:\tlearn: 3665884.5115672\ttotal: 1.95s\tremaining: 625ms\n",
      "757:\tlearn: 3664402.7562934\ttotal: 1.95s\tremaining: 623ms\n",
      "758:\tlearn: 3663845.7987608\ttotal: 1.95s\tremaining: 620ms\n",
      "759:\tlearn: 3662275.5303381\ttotal: 1.95s\tremaining: 617ms\n",
      "760:\tlearn: 3661053.4199105\ttotal: 1.96s\tremaining: 615ms\n",
      "761:\tlearn: 3658398.6837191\ttotal: 1.96s\tremaining: 612ms\n",
      "762:\tlearn: 3655597.8774711\ttotal: 1.96s\tremaining: 609ms\n",
      "763:\tlearn: 3654082.8657252\ttotal: 1.96s\tremaining: 607ms\n",
      "764:\tlearn: 3652801.3528824\ttotal: 1.97s\tremaining: 604ms\n",
      "765:\tlearn: 3651594.0730850\ttotal: 1.97s\tremaining: 602ms\n",
      "766:\tlearn: 3650398.7331051\ttotal: 1.97s\tremaining: 599ms\n",
      "767:\tlearn: 3648751.4079532\ttotal: 1.97s\tremaining: 596ms\n",
      "768:\tlearn: 3647869.1270063\ttotal: 1.98s\tremaining: 593ms\n",
      "769:\tlearn: 3647023.9125282\ttotal: 1.98s\tremaining: 591ms\n",
      "770:\tlearn: 3645242.5059591\ttotal: 1.98s\tremaining: 588ms\n",
      "771:\tlearn: 3642330.8211053\ttotal: 1.98s\tremaining: 586ms\n",
      "772:\tlearn: 3640046.3512448\ttotal: 1.99s\tremaining: 583ms\n",
      "773:\tlearn: 3638649.8186037\ttotal: 1.99s\tremaining: 580ms\n",
      "774:\tlearn: 3638056.2058742\ttotal: 1.99s\tremaining: 578ms\n",
      "775:\tlearn: 3637343.0366090\ttotal: 1.99s\tremaining: 575ms\n",
      "776:\tlearn: 3636878.0689623\ttotal: 1.99s\tremaining: 572ms\n",
      "777:\tlearn: 3635138.7600468\ttotal: 2s\tremaining: 570ms\n",
      "778:\tlearn: 3634011.2087362\ttotal: 2s\tremaining: 567ms\n",
      "779:\tlearn: 3631860.4909944\ttotal: 2s\tremaining: 564ms\n",
      "780:\tlearn: 3630531.5099382\ttotal: 2s\tremaining: 562ms\n",
      "781:\tlearn: 3629313.7714564\ttotal: 2s\tremaining: 559ms\n",
      "782:\tlearn: 3627859.0754298\ttotal: 2.01s\tremaining: 556ms\n",
      "783:\tlearn: 3626246.2408620\ttotal: 2.01s\tremaining: 554ms\n",
      "784:\tlearn: 3625483.0932120\ttotal: 2.01s\tremaining: 551ms\n",
      "785:\tlearn: 3623646.2939280\ttotal: 2.02s\tremaining: 549ms\n",
      "786:\tlearn: 3619751.5537714\ttotal: 2.02s\tremaining: 546ms\n",
      "787:\tlearn: 3618367.6536659\ttotal: 2.02s\tremaining: 543ms\n",
      "788:\tlearn: 3616922.9924250\ttotal: 2.02s\tremaining: 541ms\n",
      "789:\tlearn: 3615696.2327006\ttotal: 2.02s\tremaining: 538ms\n",
      "790:\tlearn: 3614515.9976778\ttotal: 2.03s\tremaining: 536ms\n",
      "791:\tlearn: 3611260.2381565\ttotal: 2.03s\tremaining: 533ms\n",
      "792:\tlearn: 3609936.7920935\ttotal: 2.03s\tremaining: 531ms\n",
      "793:\tlearn: 3608572.2278108\ttotal: 2.04s\tremaining: 528ms\n",
      "794:\tlearn: 3607492.1269780\ttotal: 2.04s\tremaining: 526ms\n",
      "795:\tlearn: 3606588.3150881\ttotal: 2.04s\tremaining: 523ms\n",
      "796:\tlearn: 3605408.0058799\ttotal: 2.04s\tremaining: 520ms\n",
      "797:\tlearn: 3604288.2458627\ttotal: 2.05s\tremaining: 518ms\n",
      "798:\tlearn: 3603757.2206419\ttotal: 2.05s\tremaining: 515ms\n",
      "799:\tlearn: 3602276.8325659\ttotal: 2.05s\tremaining: 513ms\n",
      "800:\tlearn: 3600224.5414088\ttotal: 2.05s\tremaining: 510ms\n",
      "801:\tlearn: 3597621.0400225\ttotal: 2.06s\tremaining: 508ms\n",
      "802:\tlearn: 3596132.1503236\ttotal: 2.06s\tremaining: 505ms\n",
      "803:\tlearn: 3594424.3047108\ttotal: 2.06s\tremaining: 503ms\n",
      "804:\tlearn: 3591986.4617925\ttotal: 2.06s\tremaining: 500ms\n",
      "805:\tlearn: 3589652.0855092\ttotal: 2.07s\tremaining: 497ms\n",
      "806:\tlearn: 3589139.8037401\ttotal: 2.07s\tremaining: 495ms\n",
      "807:\tlearn: 3588595.6691322\ttotal: 2.07s\tremaining: 492ms\n",
      "808:\tlearn: 3586853.2928832\ttotal: 2.07s\tremaining: 490ms\n",
      "809:\tlearn: 3586359.0237602\ttotal: 2.08s\tremaining: 487ms\n",
      "810:\tlearn: 3585163.3597128\ttotal: 2.08s\tremaining: 485ms\n",
      "811:\tlearn: 3583215.3934731\ttotal: 2.08s\tremaining: 482ms\n",
      "812:\tlearn: 3579759.9743446\ttotal: 2.08s\tremaining: 480ms\n",
      "813:\tlearn: 3579391.6763077\ttotal: 2.09s\tremaining: 477ms\n",
      "814:\tlearn: 3578147.5035811\ttotal: 2.09s\tremaining: 474ms\n",
      "815:\tlearn: 3576405.1474419\ttotal: 2.09s\tremaining: 472ms\n",
      "816:\tlearn: 3575340.5923262\ttotal: 2.1s\tremaining: 469ms\n",
      "817:\tlearn: 3572763.0424286\ttotal: 2.1s\tremaining: 467ms\n",
      "818:\tlearn: 3570627.1929333\ttotal: 2.1s\tremaining: 464ms\n",
      "819:\tlearn: 3570110.6534158\ttotal: 2.1s\tremaining: 462ms\n",
      "820:\tlearn: 3568941.0468375\ttotal: 2.1s\tremaining: 459ms\n",
      "821:\tlearn: 3568334.2198436\ttotal: 2.11s\tremaining: 457ms\n",
      "822:\tlearn: 3566153.9791274\ttotal: 2.11s\tremaining: 454ms\n",
      "823:\tlearn: 3565660.8470462\ttotal: 2.11s\tremaining: 452ms\n",
      "824:\tlearn: 3564656.4602245\ttotal: 2.12s\tremaining: 449ms\n",
      "825:\tlearn: 3562615.9661673\ttotal: 2.12s\tremaining: 447ms\n",
      "826:\tlearn: 3560843.6648449\ttotal: 2.12s\tremaining: 444ms\n",
      "827:\tlearn: 3558317.3410606\ttotal: 2.13s\tremaining: 442ms\n",
      "828:\tlearn: 3556183.9901164\ttotal: 2.13s\tremaining: 439ms\n",
      "829:\tlearn: 3553977.5426045\ttotal: 2.13s\tremaining: 436ms\n",
      "830:\tlearn: 3551526.9523435\ttotal: 2.13s\tremaining: 434ms\n",
      "831:\tlearn: 3550097.8118825\ttotal: 2.14s\tremaining: 431ms\n",
      "832:\tlearn: 3548702.9702458\ttotal: 2.14s\tremaining: 429ms\n",
      "833:\tlearn: 3547222.9098828\ttotal: 2.14s\tremaining: 426ms\n",
      "834:\tlearn: 3544480.6836837\ttotal: 2.14s\tremaining: 424ms\n",
      "835:\tlearn: 3541991.8948864\ttotal: 2.15s\tremaining: 421ms\n",
      "836:\tlearn: 3541458.7372232\ttotal: 2.15s\tremaining: 419ms\n",
      "837:\tlearn: 3539351.8648722\ttotal: 2.15s\tremaining: 416ms\n",
      "838:\tlearn: 3537467.0555787\ttotal: 2.15s\tremaining: 413ms\n",
      "839:\tlearn: 3534637.2003150\ttotal: 2.16s\tremaining: 411ms\n",
      "840:\tlearn: 3533655.2265853\ttotal: 2.16s\tremaining: 408ms\n",
      "841:\tlearn: 3532474.7376580\ttotal: 2.16s\tremaining: 406ms\n",
      "842:\tlearn: 3532007.9425304\ttotal: 2.16s\tremaining: 403ms\n",
      "843:\tlearn: 3530589.1509792\ttotal: 2.17s\tremaining: 401ms\n",
      "844:\tlearn: 3528425.1720735\ttotal: 2.17s\tremaining: 398ms\n",
      "845:\tlearn: 3526104.1319940\ttotal: 2.17s\tremaining: 395ms\n",
      "846:\tlearn: 3524076.4972445\ttotal: 2.17s\tremaining: 393ms\n",
      "847:\tlearn: 3522429.1951879\ttotal: 2.18s\tremaining: 390ms\n",
      "848:\tlearn: 3521114.2937915\ttotal: 2.18s\tremaining: 388ms\n",
      "849:\tlearn: 3519038.7081781\ttotal: 2.18s\tremaining: 385ms\n",
      "850:\tlearn: 3517862.4228970\ttotal: 2.18s\tremaining: 382ms\n",
      "851:\tlearn: 3516272.6725431\ttotal: 2.19s\tremaining: 380ms\n",
      "852:\tlearn: 3514401.4634655\ttotal: 2.19s\tremaining: 377ms\n",
      "853:\tlearn: 3512712.9752566\ttotal: 2.19s\tremaining: 375ms\n",
      "854:\tlearn: 3511390.2866822\ttotal: 2.19s\tremaining: 372ms\n",
      "855:\tlearn: 3509806.3843033\ttotal: 2.2s\tremaining: 369ms\n",
      "856:\tlearn: 3508709.2912069\ttotal: 2.2s\tremaining: 367ms\n",
      "857:\tlearn: 3508293.3839755\ttotal: 2.2s\tremaining: 364ms\n",
      "858:\tlearn: 3507576.7365785\ttotal: 2.2s\tremaining: 362ms\n",
      "859:\tlearn: 3506600.2247955\ttotal: 2.21s\tremaining: 359ms\n",
      "860:\tlearn: 3505664.8984524\ttotal: 2.21s\tremaining: 357ms\n",
      "861:\tlearn: 3504316.3658976\ttotal: 2.21s\tremaining: 354ms\n",
      "862:\tlearn: 3503919.5768211\ttotal: 2.21s\tremaining: 352ms\n",
      "863:\tlearn: 3502769.4459464\ttotal: 2.22s\tremaining: 349ms\n",
      "864:\tlearn: 3500872.4359437\ttotal: 2.22s\tremaining: 346ms\n",
      "865:\tlearn: 3498901.4631970\ttotal: 2.22s\tremaining: 344ms\n",
      "866:\tlearn: 3497454.2421151\ttotal: 2.23s\tremaining: 341ms\n",
      "867:\tlearn: 3496651.9852668\ttotal: 2.23s\tremaining: 339ms\n",
      "868:\tlearn: 3495180.5539563\ttotal: 2.23s\tremaining: 336ms\n",
      "869:\tlearn: 3493404.9067240\ttotal: 2.23s\tremaining: 334ms\n",
      "870:\tlearn: 3492041.7019622\ttotal: 2.24s\tremaining: 331ms\n",
      "871:\tlearn: 3491783.5056020\ttotal: 2.24s\tremaining: 329ms\n",
      "872:\tlearn: 3489967.0245252\ttotal: 2.24s\tremaining: 326ms\n",
      "873:\tlearn: 3488247.9226705\ttotal: 2.24s\tremaining: 323ms\n",
      "874:\tlearn: 3487232.3401990\ttotal: 2.25s\tremaining: 321ms\n",
      "875:\tlearn: 3485728.2591762\ttotal: 2.25s\tremaining: 318ms\n",
      "876:\tlearn: 3483967.8179653\ttotal: 2.25s\tremaining: 316ms\n",
      "877:\tlearn: 3483216.1312389\ttotal: 2.25s\tremaining: 313ms\n",
      "878:\tlearn: 3481660.4203559\ttotal: 2.26s\tremaining: 311ms\n",
      "879:\tlearn: 3479792.8769926\ttotal: 2.26s\tremaining: 308ms\n",
      "880:\tlearn: 3479139.8096741\ttotal: 2.26s\tremaining: 306ms\n",
      "881:\tlearn: 3478346.9289325\ttotal: 2.27s\tremaining: 303ms\n",
      "882:\tlearn: 3477388.9117046\ttotal: 2.27s\tremaining: 300ms\n",
      "883:\tlearn: 3476668.0102102\ttotal: 2.27s\tremaining: 298ms\n",
      "884:\tlearn: 3476202.3324784\ttotal: 2.27s\tremaining: 295ms\n",
      "885:\tlearn: 3474228.0895563\ttotal: 2.27s\tremaining: 293ms\n",
      "886:\tlearn: 3472418.3191890\ttotal: 2.28s\tremaining: 290ms\n",
      "887:\tlearn: 3470450.5760325\ttotal: 2.28s\tremaining: 288ms\n",
      "888:\tlearn: 3469440.2930351\ttotal: 2.28s\tremaining: 285ms\n",
      "889:\tlearn: 3468682.3383985\ttotal: 2.29s\tremaining: 282ms\n",
      "890:\tlearn: 3466919.2669019\ttotal: 2.29s\tremaining: 280ms\n",
      "891:\tlearn: 3465969.2597929\ttotal: 2.29s\tremaining: 277ms\n",
      "892:\tlearn: 3463402.6090518\ttotal: 2.29s\tremaining: 275ms\n",
      "893:\tlearn: 3462275.8008601\ttotal: 2.29s\tremaining: 272ms\n",
      "894:\tlearn: 3460045.2755501\ttotal: 2.3s\tremaining: 269ms\n",
      "895:\tlearn: 3458746.6446086\ttotal: 2.3s\tremaining: 267ms\n",
      "896:\tlearn: 3456709.6037534\ttotal: 2.3s\tremaining: 264ms\n",
      "897:\tlearn: 3455504.6937165\ttotal: 2.31s\tremaining: 262ms\n",
      "898:\tlearn: 3454365.4748607\ttotal: 2.31s\tremaining: 259ms\n",
      "899:\tlearn: 3453472.1920742\ttotal: 2.31s\tremaining: 257ms\n",
      "900:\tlearn: 3452669.2603478\ttotal: 2.31s\tremaining: 254ms\n",
      "901:\tlearn: 3450163.5914779\ttotal: 2.31s\tremaining: 251ms\n",
      "902:\tlearn: 3448928.1298234\ttotal: 2.32s\tremaining: 249ms\n",
      "903:\tlearn: 3447964.8373132\ttotal: 2.32s\tremaining: 246ms\n",
      "904:\tlearn: 3446152.1308825\ttotal: 2.32s\tremaining: 244ms\n",
      "905:\tlearn: 3444588.6280827\ttotal: 2.32s\tremaining: 241ms\n",
      "906:\tlearn: 3443198.1974489\ttotal: 2.33s\tremaining: 239ms\n",
      "907:\tlearn: 3441641.5239872\ttotal: 2.33s\tremaining: 236ms\n",
      "908:\tlearn: 3439646.3207868\ttotal: 2.33s\tremaining: 233ms\n",
      "909:\tlearn: 3437415.2624125\ttotal: 2.33s\tremaining: 231ms\n",
      "910:\tlearn: 3436491.1956316\ttotal: 2.33s\tremaining: 228ms\n",
      "911:\tlearn: 3435117.2758411\ttotal: 2.34s\tremaining: 226ms\n",
      "912:\tlearn: 3433410.0750907\ttotal: 2.34s\tremaining: 223ms\n",
      "913:\tlearn: 3431791.7565756\ttotal: 2.34s\tremaining: 220ms\n",
      "914:\tlearn: 3429905.1649109\ttotal: 2.34s\tremaining: 218ms\n",
      "915:\tlearn: 3428363.6921586\ttotal: 2.35s\tremaining: 215ms\n",
      "916:\tlearn: 3427653.6936955\ttotal: 2.35s\tremaining: 213ms\n",
      "917:\tlearn: 3427011.6304929\ttotal: 2.35s\tremaining: 210ms\n",
      "918:\tlearn: 3426162.0473990\ttotal: 2.35s\tremaining: 207ms\n",
      "919:\tlearn: 3424905.6698487\ttotal: 2.35s\tremaining: 205ms\n",
      "920:\tlearn: 3423047.2210210\ttotal: 2.36s\tremaining: 202ms\n",
      "921:\tlearn: 3421320.7276672\ttotal: 2.36s\tremaining: 200ms\n",
      "922:\tlearn: 3419977.8578550\ttotal: 2.36s\tremaining: 197ms\n",
      "923:\tlearn: 3419225.4390170\ttotal: 2.36s\tremaining: 195ms\n",
      "924:\tlearn: 3418224.1277281\ttotal: 2.37s\tremaining: 192ms\n",
      "925:\tlearn: 3415992.8578789\ttotal: 2.37s\tremaining: 189ms\n",
      "926:\tlearn: 3415396.8097940\ttotal: 2.37s\tremaining: 187ms\n",
      "927:\tlearn: 3413716.9757010\ttotal: 2.37s\tremaining: 184ms\n",
      "928:\tlearn: 3411833.4749996\ttotal: 2.38s\tremaining: 182ms\n",
      "929:\tlearn: 3409281.1129880\ttotal: 2.38s\tremaining: 179ms\n",
      "930:\tlearn: 3408369.4327426\ttotal: 2.38s\tremaining: 176ms\n",
      "931:\tlearn: 3407910.3287841\ttotal: 2.38s\tremaining: 174ms\n",
      "932:\tlearn: 3406753.4706087\ttotal: 2.39s\tremaining: 171ms\n",
      "933:\tlearn: 3405496.9279743\ttotal: 2.39s\tremaining: 169ms\n",
      "934:\tlearn: 3403842.9111442\ttotal: 2.39s\tremaining: 166ms\n",
      "935:\tlearn: 3402872.2105017\ttotal: 2.39s\tremaining: 164ms\n",
      "936:\tlearn: 3401652.0347189\ttotal: 2.4s\tremaining: 161ms\n",
      "937:\tlearn: 3400826.7699585\ttotal: 2.4s\tremaining: 158ms\n",
      "938:\tlearn: 3398887.2423060\ttotal: 2.4s\tremaining: 156ms\n",
      "939:\tlearn: 3397953.3537348\ttotal: 2.4s\tremaining: 153ms\n",
      "940:\tlearn: 3396473.4519766\ttotal: 2.4s\tremaining: 151ms\n",
      "941:\tlearn: 3395302.0572878\ttotal: 2.41s\tremaining: 148ms\n",
      "942:\tlearn: 3393895.6710858\ttotal: 2.41s\tremaining: 146ms\n",
      "943:\tlearn: 3392199.9350021\ttotal: 2.41s\tremaining: 143ms\n",
      "944:\tlearn: 3391006.1675885\ttotal: 2.41s\tremaining: 140ms\n",
      "945:\tlearn: 3389429.3550784\ttotal: 2.42s\tremaining: 138ms\n",
      "946:\tlearn: 3387815.6267047\ttotal: 2.42s\tremaining: 135ms\n",
      "947:\tlearn: 3387199.7485769\ttotal: 2.42s\tremaining: 133ms\n",
      "948:\tlearn: 3386473.1645540\ttotal: 2.42s\tremaining: 130ms\n",
      "949:\tlearn: 3385440.8673207\ttotal: 2.42s\tremaining: 128ms\n",
      "950:\tlearn: 3384225.5526375\ttotal: 2.43s\tremaining: 125ms\n",
      "951:\tlearn: 3382911.7808849\ttotal: 2.43s\tremaining: 123ms\n",
      "952:\tlearn: 3382056.6940418\ttotal: 2.43s\tremaining: 120ms\n",
      "953:\tlearn: 3380944.3444676\ttotal: 2.44s\tremaining: 118ms\n",
      "954:\tlearn: 3379934.5694838\ttotal: 2.44s\tremaining: 115ms\n",
      "955:\tlearn: 3378277.5801900\ttotal: 2.44s\tremaining: 112ms\n",
      "956:\tlearn: 3377128.2184765\ttotal: 2.44s\tremaining: 110ms\n",
      "957:\tlearn: 3375986.6513609\ttotal: 2.45s\tremaining: 107ms\n",
      "958:\tlearn: 3374890.4610350\ttotal: 2.45s\tremaining: 105ms\n",
      "959:\tlearn: 3373099.5608876\ttotal: 2.45s\tremaining: 102ms\n",
      "960:\tlearn: 3371710.9040120\ttotal: 2.46s\tremaining: 99.7ms\n",
      "961:\tlearn: 3369814.9302673\ttotal: 2.46s\tremaining: 97.2ms\n",
      "962:\tlearn: 3368271.5785600\ttotal: 2.46s\tremaining: 94.6ms\n",
      "963:\tlearn: 3366759.5665191\ttotal: 2.46s\tremaining: 92.1ms\n",
      "964:\tlearn: 3365936.0420922\ttotal: 2.47s\tremaining: 89.5ms\n",
      "965:\tlearn: 3364940.5209419\ttotal: 2.47s\tremaining: 87ms\n",
      "966:\tlearn: 3363603.3157344\ttotal: 2.47s\tremaining: 84.4ms\n",
      "967:\tlearn: 3361195.0427471\ttotal: 2.48s\tremaining: 81.9ms\n",
      "968:\tlearn: 3360834.3357641\ttotal: 2.48s\tremaining: 79.3ms\n",
      "969:\tlearn: 3360096.7596697\ttotal: 2.48s\tremaining: 76.7ms\n",
      "970:\tlearn: 3358147.8692790\ttotal: 2.48s\tremaining: 74.2ms\n",
      "971:\tlearn: 3356591.2032834\ttotal: 2.49s\tremaining: 71.6ms\n",
      "972:\tlearn: 3355953.9990979\ttotal: 2.49s\tremaining: 69.1ms\n",
      "973:\tlearn: 3355150.1422941\ttotal: 2.49s\tremaining: 66.5ms\n",
      "974:\tlearn: 3354377.6362548\ttotal: 2.49s\tremaining: 64ms\n",
      "975:\tlearn: 3353261.3940302\ttotal: 2.5s\tremaining: 61.4ms\n",
      "976:\tlearn: 3351837.1899437\ttotal: 2.5s\tremaining: 58.9ms\n",
      "977:\tlearn: 3350788.4721530\ttotal: 2.5s\tremaining: 56.3ms\n",
      "978:\tlearn: 3349271.1661800\ttotal: 2.5s\tremaining: 53.7ms\n",
      "979:\tlearn: 3347627.9675208\ttotal: 2.51s\tremaining: 51.2ms\n",
      "980:\tlearn: 3345875.6017708\ttotal: 2.51s\tremaining: 48.6ms\n",
      "981:\tlearn: 3344699.5054018\ttotal: 2.51s\tremaining: 46.1ms\n",
      "982:\tlearn: 3343592.2745948\ttotal: 2.52s\tremaining: 43.5ms\n",
      "983:\tlearn: 3341918.0039484\ttotal: 2.52s\tremaining: 41ms\n",
      "984:\tlearn: 3341134.1273649\ttotal: 2.52s\tremaining: 38.4ms\n",
      "985:\tlearn: 3340220.4584291\ttotal: 2.52s\tremaining: 35.8ms\n",
      "986:\tlearn: 3338916.7234571\ttotal: 2.53s\tremaining: 33.3ms\n",
      "987:\tlearn: 3337707.9271124\ttotal: 2.53s\tremaining: 30.7ms\n",
      "988:\tlearn: 3336725.4946825\ttotal: 2.53s\tremaining: 28.2ms\n",
      "989:\tlearn: 3336054.7675942\ttotal: 2.53s\tremaining: 25.6ms\n",
      "990:\tlearn: 3334961.5161324\ttotal: 2.54s\tremaining: 23ms\n",
      "991:\tlearn: 3333781.2304358\ttotal: 2.54s\tremaining: 20.5ms\n",
      "992:\tlearn: 3332487.8745854\ttotal: 2.54s\tremaining: 17.9ms\n",
      "993:\tlearn: 3331707.2681481\ttotal: 2.54s\tremaining: 15.4ms\n",
      "994:\tlearn: 3330676.1155163\ttotal: 2.55s\tremaining: 12.8ms\n",
      "995:\tlearn: 3329822.4680194\ttotal: 2.55s\tremaining: 10.2ms\n",
      "996:\tlearn: 3329208.9586247\ttotal: 2.55s\tremaining: 7.68ms\n",
      "997:\tlearn: 3327834.1002412\ttotal: 2.55s\tremaining: 5.12ms\n",
      "998:\tlearn: 3326757.7072565\ttotal: 2.56s\tremaining: 2.56ms\n",
      "999:\tlearn: 3326059.7441322\ttotal: 2.56s\tremaining: 0us\n",
      "[LightGBM] [Info] Auto-choosing col-wise multi-threading, the overhead of testing was 0.000273 seconds.\n",
      "You can set `force_col_wise=true` to remove the overhead.\n",
      "[LightGBM] [Info] Total Bins 1223\n",
      "[LightGBM] [Info] Number of data points in the train set: 10464, number of used features: 12\n",
      "[LightGBM] [Info] Start training from score 8983092.029817\n",
      "\n",
      "====== Models Before Hyper Parameter Tuning ======\n"
     ]
    },
    {
     "data": {
      "text/html": [
       "<div>\n",
       "<style scoped>\n",
       "    .dataframe tbody tr th:only-of-type {\n",
       "        vertical-align: middle;\n",
       "    }\n",
       "\n",
       "    .dataframe tbody tr th {\n",
       "        vertical-align: top;\n",
       "    }\n",
       "\n",
       "    .dataframe thead th {\n",
       "        text-align: right;\n",
       "    }\n",
       "</style>\n",
       "<table border=\"1\" class=\"dataframe\">\n",
       "  <thead>\n",
       "    <tr style=\"text-align: right;\">\n",
       "      <th></th>\n",
       "      <th>Model</th>\n",
       "      <th>MAE</th>\n",
       "      <th>MSE</th>\n",
       "      <th>RMSE</th>\n",
       "      <th>RMSLE</th>\n",
       "      <th>R2 Score</th>\n",
       "    </tr>\n",
       "  </thead>\n",
       "  <tbody>\n",
       "    <tr>\n",
       "      <th>0</th>\n",
       "      <td>Random Forest</td>\n",
       "      <td>4260576.54</td>\n",
       "      <td>85890228835744.86</td>\n",
       "      <td>9267698.14</td>\n",
       "      <td>0.66</td>\n",
       "      <td>0.68</td>\n",
       "    </tr>\n",
       "    <tr>\n",
       "      <th>1</th>\n",
       "      <td>LightGBM</td>\n",
       "      <td>4070437.79</td>\n",
       "      <td>71842829883911.94</td>\n",
       "      <td>8476014.98</td>\n",
       "      <td>0.69</td>\n",
       "      <td>0.74</td>\n",
       "    </tr>\n",
       "    <tr>\n",
       "      <th>2</th>\n",
       "      <td>CatBoost</td>\n",
       "      <td>4007482.36</td>\n",
       "      <td>68402868220742.40</td>\n",
       "      <td>8270602.65</td>\n",
       "      <td>0.75</td>\n",
       "      <td>0.75</td>\n",
       "    </tr>\n",
       "    <tr>\n",
       "      <th>3</th>\n",
       "      <td>XGBoost</td>\n",
       "      <td>4226006.96</td>\n",
       "      <td>76487732011795.14</td>\n",
       "      <td>8745726.50</td>\n",
       "      <td>0.75</td>\n",
       "      <td>0.72</td>\n",
       "    </tr>\n",
       "    <tr>\n",
       "      <th>4</th>\n",
       "      <td>Decision Tree</td>\n",
       "      <td>5435590.75</td>\n",
       "      <td>116240856378424.66</td>\n",
       "      <td>10781505.29</td>\n",
       "      <td>0.92</td>\n",
       "      <td>0.57</td>\n",
       "    </tr>\n",
       "    <tr>\n",
       "      <th>5</th>\n",
       "      <td>Linear Regression</td>\n",
       "      <td>5368901.98</td>\n",
       "      <td>94494793448251.48</td>\n",
       "      <td>9720843.25</td>\n",
       "      <td>0.97</td>\n",
       "      <td>0.65</td>\n",
       "    </tr>\n",
       "  </tbody>\n",
       "</table>\n",
       "</div>"
      ],
      "text/plain": [
       "               Model         MAE                 MSE         RMSE RMSLE  \\\n",
       "0      Random Forest  4260576.54   85890228835744.86   9267698.14  0.66   \n",
       "1           LightGBM  4070437.79   71842829883911.94   8476014.98  0.69   \n",
       "2           CatBoost  4007482.36   68402868220742.40   8270602.65  0.75   \n",
       "3            XGBoost  4226006.96   76487732011795.14   8745726.50  0.75   \n",
       "4      Decision Tree  5435590.75  116240856378424.66  10781505.29  0.92   \n",
       "5  Linear Regression  5368901.98   94494793448251.48   9720843.25  0.97   \n",
       "\n",
       "  R2 Score  \n",
       "0     0.68  \n",
       "1     0.74  \n",
       "2     0.75  \n",
       "3     0.72  \n",
       "4     0.57  \n",
       "5     0.65  "
      ]
     },
     "execution_count": 24,
     "metadata": {},
     "output_type": "execute_result"
    }
   ],
   "source": [
    "# Top 3 : Random Forest, LightGBM, CatBoost, XGBoost순으로 RMSLE 높다\n",
    "model_list(models)"
   ]
  },
  {
   "cell_type": "code",
   "execution_count": 25,
   "metadata": {},
   "outputs": [],
   "source": [
    "# 범주형 변수를 따로 Target Encoding 거치지 않은 데이터셋으로 학습한 CatBoost 확인\n",
    "def model_list2(models):\n",
    "    models_results = []\n",
    "\n",
    "    for model_name, model in models:\n",
    "\n",
    "        if model_name == \"CatBoost\":\n",
    "\n",
    "            cat_features = X_train_no_enc.select_dtypes(exclude=np.number).columns.tolist()\n",
    "\n",
    "            # 모델 생성 및 훈련\n",
    "            model.fit(X_train_no_enc, y_train, cat_features=cat_features)\n",
    "\n",
    "            # Robust Scaling 거치지 않은 train 데이터를 바탕으로 예측\n",
    "            y_train_pred_cat = model.predict(X_train_no_enc)\n",
    "            y_val_pred_cat = model.predict(X_val_no_enc)\n",
    "            y_test_pred_cat = model.predict(X_test_no_enc)\n",
    "\n",
    "            # 모델의 MAE, MSE, RMSE, RMSLE, R2 score 확인\n",
    "            meanAbErr_cat = metrics.mean_absolute_error(y_test, y_test_pred_cat)\n",
    "            meanSqErr_cat = metrics.mean_squared_error(y_test, y_test_pred_cat)\n",
    "            rootMeanSqErr_cat = metrics.mean_squared_error(y_test, y_test_pred_cat, squared=False)\n",
    "            rootMeanSqLogErr_cat = get_rmsle(y_test, y_test_pred_cat)\n",
    "\n",
    "            # 결과를 리스트에 저장\n",
    "            models_results.append({\"Model\" : model_name,\n",
    "                                    \"MAE\" : '{:.2f}'.format(meanAbErr_cat),\n",
    "                                    \"MSE\" : '{:.2f}'.format(meanSqErr_cat),\n",
    "                                    \"RMSE\" : '{:.2f}'.format(rootMeanSqErr_cat),\n",
    "                                    \"RMSLE\" : '{:.2f}'.format(rootMeanSqLogErr_cat),\n",
    "                                    \"R2 Score\" : '{:.2f}'.format(model.score(X_test_no_enc, y_test))})\n",
    "        \n",
    "        else:\n",
    "            \n",
    "            # 모델 생성 및 훈련\n",
    "            model.fit(X_train, y_train)\n",
    "\n",
    "            y_train_pred = model.predict(X_train)\n",
    "            y_val_pred = model.predict(X_val)\n",
    "            y_test_pred = model.predict(X_test)\n",
    "\n",
    "            # 모델의 MAE, MSE, RMSE, RMSLE, R2 score 확인\n",
    "            meanAbErr = metrics.mean_absolute_error(y_test, y_test_pred)\n",
    "            meanSqErr = metrics.mean_squared_error(y_test, y_test_pred)\n",
    "            rootMeanSqErr = metrics.mean_squared_error(y_test, y_test_pred, squared=False)\n",
    "            rootMeanSqLogErr = get_rmsle(y_test, y_test_pred)\n",
    "\n",
    "\n",
    "            # 결과를 리스트에 저장\n",
    "            models_results.append({\"Model\" : model_name,\n",
    "                                    \"MAE\" : '{:.2f}'.format(meanAbErr),\n",
    "                                    \"MSE\" : '{:.2f}'.format(meanSqErr),\n",
    "                                    \"RMSE\" : '{:.2f}'.format(rootMeanSqErr),\n",
    "                                    \"RMSLE\" : '{:.2f}'.format(rootMeanSqLogErr),\n",
    "                                    \"R2 Score\" : '{:.2f}'.format(model.score(X_test, y_test))})\n",
    "    \n",
    "    # 결과 리스트를 DataFrame으로 변환\n",
    "    models_df = pd.DataFrame(models_results)\n",
    "\n",
    "    print(f\"\\n====== Models before Hyper Parameter Tuning ======\")\n",
    "    \n",
    "    return models_df.sort_values(by=[\"RMSLE\", \"R2 Score\"], ascending=[True, False]).reset_index(drop=True)"
   ]
  },
  {
   "cell_type": "code",
   "execution_count": 26,
   "metadata": {},
   "outputs": [
    {
     "name": "stdout",
     "output_type": "stream",
     "text": [
      "Learning rate set to 0.059332\n",
      "0:\tlearn: 13653696.6051392\ttotal: 66.9ms\tremaining: 1m 6s\n",
      "1:\tlearn: 13289911.9578542\ttotal: 142ms\tremaining: 1m 11s\n",
      "2:\tlearn: 12974497.2540124\ttotal: 216ms\tremaining: 1m 11s\n",
      "3:\tlearn: 12664524.7075041\ttotal: 292ms\tremaining: 1m 12s\n",
      "4:\tlearn: 12381771.8118006\ttotal: 373ms\tremaining: 1m 14s\n",
      "5:\tlearn: 12110808.3301324\ttotal: 449ms\tremaining: 1m 14s\n",
      "6:\tlearn: 11857426.9500235\ttotal: 523ms\tremaining: 1m 14s\n",
      "7:\tlearn: 11614183.0093664\ttotal: 596ms\tremaining: 1m 13s\n",
      "8:\tlearn: 11410700.5592546\ttotal: 669ms\tremaining: 1m 13s\n",
      "9:\tlearn: 11187253.5307023\ttotal: 744ms\tremaining: 1m 13s\n",
      "10:\tlearn: 10977126.3796601\ttotal: 817ms\tremaining: 1m 13s\n",
      "11:\tlearn: 10794053.4259314\ttotal: 891ms\tremaining: 1m 13s\n",
      "12:\tlearn: 10632607.2516437\ttotal: 965ms\tremaining: 1m 13s\n",
      "13:\tlearn: 10463427.2507392\ttotal: 1.08s\tremaining: 1m 15s\n",
      "14:\tlearn: 10314079.3497962\ttotal: 1.18s\tremaining: 1m 17s\n",
      "15:\tlearn: 10166125.8591156\ttotal: 1.28s\tremaining: 1m 18s\n",
      "16:\tlearn: 10041279.0114318\ttotal: 1.36s\tremaining: 1m 18s\n",
      "17:\tlearn: 9913880.9363225\ttotal: 1.44s\tremaining: 1m 18s\n",
      "18:\tlearn: 9807153.9831189\ttotal: 1.52s\tremaining: 1m 18s\n",
      "19:\tlearn: 9686940.5559453\ttotal: 1.59s\tremaining: 1m 18s\n",
      "20:\tlearn: 9566429.5967320\ttotal: 1.68s\tremaining: 1m 18s\n",
      "21:\tlearn: 9474636.1701422\ttotal: 1.76s\tremaining: 1m 18s\n",
      "22:\tlearn: 9398267.8959780\ttotal: 1.84s\tremaining: 1m 18s\n",
      "23:\tlearn: 9316464.7605659\ttotal: 1.91s\tremaining: 1m 17s\n",
      "24:\tlearn: 9233534.7495638\ttotal: 1.98s\tremaining: 1m 17s\n",
      "25:\tlearn: 9136735.8515042\ttotal: 2.06s\tremaining: 1m 17s\n",
      "26:\tlearn: 9054682.5801244\ttotal: 2.13s\tremaining: 1m 16s\n",
      "27:\tlearn: 8991102.7377345\ttotal: 2.22s\tremaining: 1m 17s\n",
      "28:\tlearn: 8947734.3551949\ttotal: 2.3s\tremaining: 1m 16s\n",
      "29:\tlearn: 8889333.9577482\ttotal: 2.38s\tremaining: 1m 16s\n",
      "30:\tlearn: 8824597.8277134\ttotal: 2.46s\tremaining: 1m 16s\n",
      "31:\tlearn: 8774443.5992419\ttotal: 2.53s\tremaining: 1m 16s\n",
      "32:\tlearn: 8727834.9785342\ttotal: 2.6s\tremaining: 1m 16s\n",
      "33:\tlearn: 8683280.2685476\ttotal: 2.68s\tremaining: 1m 16s\n",
      "34:\tlearn: 8644906.6549226\ttotal: 2.75s\tremaining: 1m 15s\n",
      "35:\tlearn: 8608200.3947121\ttotal: 2.83s\tremaining: 1m 15s\n",
      "36:\tlearn: 8567701.2554767\ttotal: 2.9s\tremaining: 1m 15s\n",
      "37:\tlearn: 8537392.5133757\ttotal: 2.98s\tremaining: 1m 15s\n",
      "38:\tlearn: 8500606.1697410\ttotal: 3.05s\tremaining: 1m 15s\n",
      "39:\tlearn: 8472546.7672833\ttotal: 3.12s\tremaining: 1m 14s\n",
      "40:\tlearn: 8444634.2335662\ttotal: 3.2s\tremaining: 1m 14s\n",
      "41:\tlearn: 8408767.0379337\ttotal: 3.28s\tremaining: 1m 14s\n",
      "42:\tlearn: 8384625.2074020\ttotal: 3.44s\tremaining: 1m 16s\n",
      "43:\tlearn: 8365397.1323783\ttotal: 3.55s\tremaining: 1m 17s\n",
      "44:\tlearn: 8342457.4340749\ttotal: 3.63s\tremaining: 1m 16s\n",
      "45:\tlearn: 8319581.9351298\ttotal: 3.7s\tremaining: 1m 16s\n",
      "46:\tlearn: 8296880.3785256\ttotal: 3.77s\tremaining: 1m 16s\n",
      "47:\tlearn: 8271366.2850005\ttotal: 3.85s\tremaining: 1m 16s\n",
      "48:\tlearn: 8253402.9499805\ttotal: 3.93s\tremaining: 1m 16s\n",
      "49:\tlearn: 8226834.1702418\ttotal: 4s\tremaining: 1m 16s\n",
      "50:\tlearn: 8203965.0295876\ttotal: 4.08s\tremaining: 1m 15s\n",
      "51:\tlearn: 8185325.5363763\ttotal: 4.15s\tremaining: 1m 15s\n",
      "52:\tlearn: 8155370.4568726\ttotal: 4.22s\tremaining: 1m 15s\n",
      "53:\tlearn: 8137417.9312869\ttotal: 4.3s\tremaining: 1m 15s\n",
      "54:\tlearn: 8109217.4947546\ttotal: 4.38s\tremaining: 1m 15s\n",
      "55:\tlearn: 8091306.8519434\ttotal: 4.47s\tremaining: 1m 15s\n",
      "56:\tlearn: 8066149.5585814\ttotal: 4.54s\tremaining: 1m 15s\n",
      "57:\tlearn: 8040510.3241305\ttotal: 4.62s\tremaining: 1m 14s\n",
      "58:\tlearn: 8017656.4841909\ttotal: 4.69s\tremaining: 1m 14s\n",
      "59:\tlearn: 8001002.6782575\ttotal: 4.77s\tremaining: 1m 14s\n",
      "60:\tlearn: 7985803.6993874\ttotal: 4.84s\tremaining: 1m 14s\n",
      "61:\tlearn: 7957427.1943352\ttotal: 4.92s\tremaining: 1m 14s\n",
      "62:\tlearn: 7940331.6961987\ttotal: 5s\tremaining: 1m 14s\n",
      "63:\tlearn: 7905635.6943275\ttotal: 5.07s\tremaining: 1m 14s\n",
      "64:\tlearn: 7888777.7368471\ttotal: 5.14s\tremaining: 1m 14s\n",
      "65:\tlearn: 7875172.9696401\ttotal: 5.22s\tremaining: 1m 13s\n",
      "66:\tlearn: 7863058.1463627\ttotal: 5.29s\tremaining: 1m 13s\n",
      "67:\tlearn: 7853808.6522415\ttotal: 5.38s\tremaining: 1m 13s\n",
      "68:\tlearn: 7827161.8368805\ttotal: 5.46s\tremaining: 1m 13s\n",
      "69:\tlearn: 7809658.5512610\ttotal: 5.53s\tremaining: 1m 13s\n",
      "70:\tlearn: 7797623.0202576\ttotal: 5.61s\tremaining: 1m 13s\n",
      "71:\tlearn: 7785724.8927619\ttotal: 5.75s\tremaining: 1m 14s\n",
      "72:\tlearn: 7765929.8609793\ttotal: 5.87s\tremaining: 1m 14s\n",
      "73:\tlearn: 7755553.8930607\ttotal: 5.96s\tremaining: 1m 14s\n",
      "74:\tlearn: 7748222.5964914\ttotal: 6.03s\tremaining: 1m 14s\n",
      "75:\tlearn: 7744675.3103158\ttotal: 6.07s\tremaining: 1m 13s\n",
      "76:\tlearn: 7733452.9702952\ttotal: 6.14s\tremaining: 1m 13s\n",
      "77:\tlearn: 7716570.6002560\ttotal: 6.22s\tremaining: 1m 13s\n",
      "78:\tlearn: 7708268.4277019\ttotal: 6.29s\tremaining: 1m 13s\n",
      "79:\tlearn: 7692649.5754515\ttotal: 6.37s\tremaining: 1m 13s\n",
      "80:\tlearn: 7664779.1248740\ttotal: 6.45s\tremaining: 1m 13s\n",
      "81:\tlearn: 7650583.9814621\ttotal: 6.52s\tremaining: 1m 13s\n",
      "82:\tlearn: 7642379.9491444\ttotal: 6.6s\tremaining: 1m 12s\n",
      "83:\tlearn: 7632325.0229638\ttotal: 6.67s\tremaining: 1m 12s\n",
      "84:\tlearn: 7626290.6262912\ttotal: 6.74s\tremaining: 1m 12s\n",
      "85:\tlearn: 7619540.1211011\ttotal: 6.82s\tremaining: 1m 12s\n",
      "86:\tlearn: 7606650.1399342\ttotal: 6.9s\tremaining: 1m 12s\n",
      "87:\tlearn: 7590674.8021654\ttotal: 6.97s\tremaining: 1m 12s\n",
      "88:\tlearn: 7581445.3511434\ttotal: 7.05s\tremaining: 1m 12s\n",
      "89:\tlearn: 7569071.2519997\ttotal: 7.12s\tremaining: 1m 12s\n",
      "90:\tlearn: 7564593.7683935\ttotal: 7.2s\tremaining: 1m 11s\n",
      "91:\tlearn: 7554129.9127626\ttotal: 7.27s\tremaining: 1m 11s\n",
      "92:\tlearn: 7545527.0318163\ttotal: 7.36s\tremaining: 1m 11s\n",
      "93:\tlearn: 7527723.6831600\ttotal: 7.43s\tremaining: 1m 11s\n",
      "94:\tlearn: 7516147.6098411\ttotal: 7.51s\tremaining: 1m 11s\n",
      "95:\tlearn: 7500017.3223987\ttotal: 7.58s\tremaining: 1m 11s\n",
      "96:\tlearn: 7490906.3344724\ttotal: 7.66s\tremaining: 1m 11s\n",
      "97:\tlearn: 7484434.5123546\ttotal: 7.73s\tremaining: 1m 11s\n",
      "98:\tlearn: 7470413.1816349\ttotal: 7.81s\tremaining: 1m 11s\n",
      "99:\tlearn: 7460797.9299359\ttotal: 7.88s\tremaining: 1m 10s\n",
      "100:\tlearn: 7458041.8637122\ttotal: 8.02s\tremaining: 1m 11s\n",
      "101:\tlearn: 7448290.0227795\ttotal: 8.13s\tremaining: 1m 11s\n",
      "102:\tlearn: 7438000.5918108\ttotal: 8.2s\tremaining: 1m 11s\n",
      "103:\tlearn: 7427741.2891880\ttotal: 8.28s\tremaining: 1m 11s\n",
      "104:\tlearn: 7417895.4898949\ttotal: 8.37s\tremaining: 1m 11s\n",
      "105:\tlearn: 7401485.0971745\ttotal: 8.44s\tremaining: 1m 11s\n",
      "106:\tlearn: 7393447.5444560\ttotal: 8.52s\tremaining: 1m 11s\n",
      "107:\tlearn: 7389269.3037142\ttotal: 8.59s\tremaining: 1m 10s\n",
      "108:\tlearn: 7385714.1403224\ttotal: 8.67s\tremaining: 1m 10s\n",
      "109:\tlearn: 7382580.4072982\ttotal: 8.74s\tremaining: 1m 10s\n",
      "110:\tlearn: 7372662.7673509\ttotal: 8.81s\tremaining: 1m 10s\n",
      "111:\tlearn: 7366324.2427265\ttotal: 8.9s\tremaining: 1m 10s\n",
      "112:\tlearn: 7361169.4633880\ttotal: 8.97s\tremaining: 1m 10s\n",
      "113:\tlearn: 7352745.7424961\ttotal: 9.04s\tremaining: 1m 10s\n",
      "114:\tlearn: 7338011.1696462\ttotal: 9.12s\tremaining: 1m 10s\n",
      "115:\tlearn: 7330698.2233800\ttotal: 9.19s\tremaining: 1m 10s\n",
      "116:\tlearn: 7325813.1120564\ttotal: 9.27s\tremaining: 1m 9s\n",
      "117:\tlearn: 7321346.2793412\ttotal: 9.35s\tremaining: 1m 9s\n",
      "118:\tlearn: 7313491.7606969\ttotal: 9.43s\tremaining: 1m 9s\n",
      "119:\tlearn: 7311510.7380484\ttotal: 9.5s\tremaining: 1m 9s\n",
      "120:\tlearn: 7301534.8633367\ttotal: 9.57s\tremaining: 1m 9s\n",
      "121:\tlearn: 7298682.0824186\ttotal: 9.65s\tremaining: 1m 9s\n",
      "122:\tlearn: 7298621.4728537\ttotal: 9.67s\tremaining: 1m 8s\n",
      "123:\tlearn: 7293933.8282235\ttotal: 9.75s\tremaining: 1m 8s\n",
      "124:\tlearn: 7287454.3910199\ttotal: 9.82s\tremaining: 1m 8s\n",
      "125:\tlearn: 7279067.8647361\ttotal: 9.89s\tremaining: 1m 8s\n",
      "126:\tlearn: 7276207.8236854\ttotal: 9.97s\tremaining: 1m 8s\n",
      "127:\tlearn: 7274318.7210780\ttotal: 10s\tremaining: 1m 8s\n",
      "128:\tlearn: 7267448.0223843\ttotal: 10.1s\tremaining: 1m 8s\n",
      "129:\tlearn: 7260465.9589037\ttotal: 10.2s\tremaining: 1m 8s\n",
      "130:\tlearn: 7244804.2010434\ttotal: 10.3s\tremaining: 1m 8s\n",
      "131:\tlearn: 7233809.4234657\ttotal: 10.4s\tremaining: 1m 8s\n",
      "132:\tlearn: 7226127.8848855\ttotal: 10.5s\tremaining: 1m 8s\n",
      "133:\tlearn: 7222146.8633599\ttotal: 10.6s\tremaining: 1m 8s\n",
      "134:\tlearn: 7217292.2762790\ttotal: 10.7s\tremaining: 1m 8s\n",
      "135:\tlearn: 7211203.5832098\ttotal: 10.7s\tremaining: 1m 8s\n",
      "136:\tlearn: 7207842.5585036\ttotal: 10.8s\tremaining: 1m 8s\n",
      "137:\tlearn: 7195808.4393303\ttotal: 10.9s\tremaining: 1m 8s\n",
      "138:\tlearn: 7192298.5108631\ttotal: 11s\tremaining: 1m 7s\n",
      "139:\tlearn: 7179590.3825172\ttotal: 11s\tremaining: 1m 7s\n",
      "140:\tlearn: 7175282.7777987\ttotal: 11.1s\tremaining: 1m 7s\n",
      "141:\tlearn: 7171117.7569248\ttotal: 11.2s\tremaining: 1m 7s\n",
      "142:\tlearn: 7160657.0138333\ttotal: 11.3s\tremaining: 1m 7s\n",
      "143:\tlearn: 7152850.0616048\ttotal: 11.3s\tremaining: 1m 7s\n",
      "144:\tlearn: 7147424.1392148\ttotal: 11.4s\tremaining: 1m 7s\n",
      "145:\tlearn: 7138545.8626547\ttotal: 11.5s\tremaining: 1m 7s\n",
      "146:\tlearn: 7134641.0737616\ttotal: 11.6s\tremaining: 1m 7s\n",
      "147:\tlearn: 7131090.3120286\ttotal: 11.7s\tremaining: 1m 7s\n",
      "148:\tlearn: 7124885.1078095\ttotal: 11.7s\tremaining: 1m 6s\n",
      "149:\tlearn: 7118564.0556811\ttotal: 11.8s\tremaining: 1m 6s\n",
      "150:\tlearn: 7113810.9728734\ttotal: 11.9s\tremaining: 1m 6s\n",
      "151:\tlearn: 7109240.4033894\ttotal: 12s\tremaining: 1m 6s\n",
      "152:\tlearn: 7101182.1644022\ttotal: 12s\tremaining: 1m 6s\n",
      "153:\tlearn: 7092241.6696233\ttotal: 12.1s\tremaining: 1m 6s\n",
      "154:\tlearn: 7087141.6798420\ttotal: 12.2s\tremaining: 1m 6s\n",
      "155:\tlearn: 7081346.4469724\ttotal: 12.3s\tremaining: 1m 6s\n",
      "156:\tlearn: 7069530.2858860\ttotal: 12.3s\tremaining: 1m 6s\n",
      "157:\tlearn: 7063288.4082926\ttotal: 12.4s\tremaining: 1m 6s\n",
      "158:\tlearn: 7053168.7497974\ttotal: 12.5s\tremaining: 1m 6s\n",
      "159:\tlearn: 7048860.9733022\ttotal: 12.6s\tremaining: 1m 6s\n",
      "160:\tlearn: 7047511.4587437\ttotal: 12.7s\tremaining: 1m 6s\n",
      "161:\tlearn: 7042298.3879865\ttotal: 12.8s\tremaining: 1m 6s\n",
      "162:\tlearn: 7036579.5598516\ttotal: 12.9s\tremaining: 1m 6s\n",
      "163:\tlearn: 7027909.0218835\ttotal: 13s\tremaining: 1m 6s\n",
      "164:\tlearn: 7024815.4281629\ttotal: 13s\tremaining: 1m 5s\n",
      "165:\tlearn: 7018568.5415054\ttotal: 13.1s\tremaining: 1m 5s\n",
      "166:\tlearn: 7014567.9634302\ttotal: 13.2s\tremaining: 1m 5s\n",
      "167:\tlearn: 7011757.9548454\ttotal: 13.3s\tremaining: 1m 5s\n",
      "168:\tlearn: 7005146.7151924\ttotal: 13.3s\tremaining: 1m 5s\n",
      "169:\tlearn: 7001264.2987392\ttotal: 13.4s\tremaining: 1m 5s\n",
      "170:\tlearn: 6990997.2423689\ttotal: 13.5s\tremaining: 1m 5s\n",
      "171:\tlearn: 6978830.1347326\ttotal: 13.6s\tremaining: 1m 5s\n",
      "172:\tlearn: 6969342.3884157\ttotal: 13.6s\tremaining: 1m 5s\n",
      "173:\tlearn: 6962394.3233024\ttotal: 13.7s\tremaining: 1m 5s\n",
      "174:\tlearn: 6957577.3215200\ttotal: 13.8s\tremaining: 1m 5s\n",
      "175:\tlearn: 6932961.9167215\ttotal: 13.9s\tremaining: 1m 4s\n",
      "176:\tlearn: 6924744.7407993\ttotal: 13.9s\tremaining: 1m 4s\n",
      "177:\tlearn: 6913754.8738067\ttotal: 14s\tremaining: 1m 4s\n",
      "178:\tlearn: 6905574.9749076\ttotal: 14.1s\tremaining: 1m 4s\n",
      "179:\tlearn: 6901403.4184127\ttotal: 14.2s\tremaining: 1m 4s\n",
      "180:\tlearn: 6898637.4255265\ttotal: 14.2s\tremaining: 1m 4s\n",
      "181:\tlearn: 6895544.6573124\ttotal: 14.3s\tremaining: 1m 4s\n",
      "182:\tlearn: 6888111.3370487\ttotal: 14.4s\tremaining: 1m 4s\n",
      "183:\tlearn: 6881115.2156204\ttotal: 14.5s\tremaining: 1m 4s\n",
      "184:\tlearn: 6880021.5791170\ttotal: 14.6s\tremaining: 1m 4s\n",
      "185:\tlearn: 6872639.7189468\ttotal: 14.6s\tremaining: 1m 4s\n",
      "186:\tlearn: 6865446.3802327\ttotal: 14.7s\tremaining: 1m 3s\n",
      "187:\tlearn: 6861937.3779774\ttotal: 14.8s\tremaining: 1m 3s\n",
      "188:\tlearn: 6857388.2904055\ttotal: 14.9s\tremaining: 1m 3s\n",
      "189:\tlearn: 6854474.9061437\ttotal: 15s\tremaining: 1m 4s\n",
      "190:\tlearn: 6849086.4637528\ttotal: 15.1s\tremaining: 1m 3s\n",
      "191:\tlearn: 6838026.5950849\ttotal: 15.2s\tremaining: 1m 3s\n",
      "192:\tlearn: 6836553.4885068\ttotal: 15.3s\tremaining: 1m 3s\n",
      "193:\tlearn: 6830957.0261207\ttotal: 15.3s\tremaining: 1m 3s\n",
      "194:\tlearn: 6828398.4740237\ttotal: 15.4s\tremaining: 1m 3s\n",
      "195:\tlearn: 6821814.3951375\ttotal: 15.5s\tremaining: 1m 3s\n",
      "196:\tlearn: 6819411.2507742\ttotal: 15.6s\tremaining: 1m 3s\n",
      "197:\tlearn: 6810295.8985253\ttotal: 15.6s\tremaining: 1m 3s\n",
      "198:\tlearn: 6808141.9372357\ttotal: 15.7s\tremaining: 1m 3s\n",
      "199:\tlearn: 6801100.4714539\ttotal: 15.8s\tremaining: 1m 3s\n",
      "200:\tlearn: 6794649.6130114\ttotal: 15.9s\tremaining: 1m 3s\n",
      "201:\tlearn: 6786174.0155929\ttotal: 15.9s\tremaining: 1m 2s\n",
      "202:\tlearn: 6783897.4903688\ttotal: 16s\tremaining: 1m 2s\n",
      "203:\tlearn: 6781521.1410792\ttotal: 16.1s\tremaining: 1m 2s\n",
      "204:\tlearn: 6780098.5496759\ttotal: 16.2s\tremaining: 1m 2s\n",
      "205:\tlearn: 6772264.6502191\ttotal: 16.2s\tremaining: 1m 2s\n",
      "206:\tlearn: 6768320.7913740\ttotal: 16.3s\tremaining: 1m 2s\n",
      "207:\tlearn: 6764707.0843098\ttotal: 16.4s\tremaining: 1m 2s\n",
      "208:\tlearn: 6761578.2333004\ttotal: 16.5s\tremaining: 1m 2s\n",
      "209:\tlearn: 6754714.3292425\ttotal: 16.5s\tremaining: 1m 2s\n",
      "210:\tlearn: 6749442.5682433\ttotal: 16.6s\tremaining: 1m 2s\n",
      "211:\tlearn: 6741799.6133609\ttotal: 16.7s\tremaining: 1m 2s\n",
      "212:\tlearn: 6741250.4994564\ttotal: 16.8s\tremaining: 1m 1s\n",
      "213:\tlearn: 6738195.0480109\ttotal: 16.8s\tremaining: 1m 1s\n",
      "214:\tlearn: 6724652.1630914\ttotal: 16.9s\tremaining: 1m 1s\n",
      "215:\tlearn: 6723363.6513073\ttotal: 17s\tremaining: 1m 1s\n",
      "216:\tlearn: 6714408.8926044\ttotal: 17.1s\tremaining: 1m 1s\n",
      "217:\tlearn: 6709723.1219797\ttotal: 17.2s\tremaining: 1m 1s\n",
      "218:\tlearn: 6707050.1084065\ttotal: 17.3s\tremaining: 1m 1s\n",
      "219:\tlearn: 6704650.8055865\ttotal: 17.4s\tremaining: 1m 1s\n",
      "220:\tlearn: 6701098.0869122\ttotal: 17.5s\tremaining: 1m 1s\n",
      "221:\tlearn: 6681483.3609398\ttotal: 17.6s\tremaining: 1m 1s\n",
      "222:\tlearn: 6669393.0240282\ttotal: 17.6s\tremaining: 1m 1s\n",
      "223:\tlearn: 6668997.8361585\ttotal: 17.7s\tremaining: 1m 1s\n",
      "224:\tlearn: 6668623.0833492\ttotal: 17.7s\tremaining: 1m 1s\n",
      "225:\tlearn: 6652748.2231112\ttotal: 17.8s\tremaining: 1m\n",
      "226:\tlearn: 6651097.3620067\ttotal: 17.9s\tremaining: 1m\n",
      "227:\tlearn: 6645301.5541605\ttotal: 17.9s\tremaining: 1m\n",
      "228:\tlearn: 6643342.8884138\ttotal: 18s\tremaining: 1m\n",
      "229:\tlearn: 6641200.7777363\ttotal: 18.1s\tremaining: 1m\n",
      "230:\tlearn: 6639251.0522888\ttotal: 18.2s\tremaining: 1m\n",
      "231:\tlearn: 6635266.3615562\ttotal: 18.2s\tremaining: 1m\n",
      "232:\tlearn: 6632781.4176749\ttotal: 18.3s\tremaining: 1m\n",
      "233:\tlearn: 6631655.4315076\ttotal: 18.4s\tremaining: 1m\n",
      "234:\tlearn: 6630914.1239002\ttotal: 18.5s\tremaining: 1m\n",
      "235:\tlearn: 6629842.3683812\ttotal: 18.6s\tremaining: 1m\n",
      "236:\tlearn: 6629159.5678578\ttotal: 18.6s\tremaining: 60s\n",
      "237:\tlearn: 6625127.6871432\ttotal: 18.7s\tremaining: 59.9s\n",
      "238:\tlearn: 6620242.0197559\ttotal: 18.8s\tremaining: 59.8s\n",
      "239:\tlearn: 6617954.7155186\ttotal: 18.8s\tremaining: 59.7s\n",
      "240:\tlearn: 6617261.3399798\ttotal: 18.9s\tremaining: 59.6s\n",
      "241:\tlearn: 6617003.8795734\ttotal: 19s\tremaining: 59.4s\n",
      "242:\tlearn: 6602992.9170104\ttotal: 19s\tremaining: 59.3s\n",
      "243:\tlearn: 6600847.0669373\ttotal: 19.1s\tremaining: 59.2s\n",
      "244:\tlearn: 6595148.6751490\ttotal: 19.2s\tremaining: 59.1s\n",
      "245:\tlearn: 6589389.0532625\ttotal: 19.3s\tremaining: 59s\n",
      "246:\tlearn: 6588135.7137222\ttotal: 19.3s\tremaining: 58.9s\n",
      "247:\tlearn: 6587673.2195717\ttotal: 19.5s\tremaining: 59.1s\n",
      "248:\tlearn: 6583942.4709759\ttotal: 19.6s\tremaining: 59.1s\n",
      "249:\tlearn: 6580296.6959482\ttotal: 19.7s\tremaining: 59s\n",
      "250:\tlearn: 6567083.1523911\ttotal: 19.7s\tremaining: 58.9s\n",
      "251:\tlearn: 6558081.1048727\ttotal: 19.8s\tremaining: 58.8s\n",
      "252:\tlearn: 6557862.8073038\ttotal: 19.9s\tremaining: 58.7s\n",
      "253:\tlearn: 6550020.2897318\ttotal: 20s\tremaining: 58.6s\n",
      "254:\tlearn: 6545796.4154593\ttotal: 20s\tremaining: 58.6s\n",
      "255:\tlearn: 6539471.8927352\ttotal: 20.1s\tremaining: 58.5s\n",
      "256:\tlearn: 6526466.1885446\ttotal: 20.2s\tremaining: 58.4s\n",
      "257:\tlearn: 6524036.2526826\ttotal: 20.3s\tremaining: 58.3s\n",
      "258:\tlearn: 6517010.1190733\ttotal: 20.3s\tremaining: 58.2s\n",
      "259:\tlearn: 6516881.8059791\ttotal: 20.4s\tremaining: 58.1s\n",
      "260:\tlearn: 6513179.6304707\ttotal: 20.5s\tremaining: 58s\n",
      "261:\tlearn: 6505263.3017217\ttotal: 20.6s\tremaining: 58s\n",
      "262:\tlearn: 6497216.2647273\ttotal: 20.7s\tremaining: 57.9s\n",
      "263:\tlearn: 6496553.0749326\ttotal: 20.7s\tremaining: 57.8s\n",
      "264:\tlearn: 6495159.9174022\ttotal: 20.8s\tremaining: 57.7s\n",
      "265:\tlearn: 6491449.6914099\ttotal: 20.9s\tremaining: 57.7s\n",
      "266:\tlearn: 6484628.3861763\ttotal: 21s\tremaining: 57.6s\n",
      "267:\tlearn: 6479168.8377765\ttotal: 21s\tremaining: 57.5s\n",
      "268:\tlearn: 6475772.6203392\ttotal: 21.1s\tremaining: 57.4s\n",
      "269:\tlearn: 6475658.3042062\ttotal: 21.2s\tremaining: 57.3s\n",
      "270:\tlearn: 6475484.8809808\ttotal: 21.3s\tremaining: 57.2s\n",
      "271:\tlearn: 6473303.1579362\ttotal: 21.4s\tremaining: 57.1s\n",
      "272:\tlearn: 6468893.5066802\ttotal: 21.4s\tremaining: 57.1s\n",
      "273:\tlearn: 6468019.8670471\ttotal: 21.5s\tremaining: 57s\n",
      "274:\tlearn: 6466929.6792861\ttotal: 21.6s\tremaining: 56.9s\n",
      "275:\tlearn: 6462866.7027745\ttotal: 21.6s\tremaining: 56.8s\n",
      "276:\tlearn: 6460343.2669775\ttotal: 21.8s\tremaining: 56.9s\n",
      "277:\tlearn: 6457704.2171313\ttotal: 21.9s\tremaining: 56.9s\n",
      "278:\tlearn: 6455655.0759338\ttotal: 22s\tremaining: 56.8s\n",
      "279:\tlearn: 6451239.7756383\ttotal: 22s\tremaining: 56.7s\n",
      "280:\tlearn: 6447179.9925159\ttotal: 22.1s\tremaining: 56.6s\n",
      "281:\tlearn: 6444360.4767408\ttotal: 22.2s\tremaining: 56.5s\n",
      "282:\tlearn: 6441271.5090796\ttotal: 22.3s\tremaining: 56.4s\n",
      "283:\tlearn: 6440194.8568756\ttotal: 22.4s\tremaining: 56.3s\n",
      "284:\tlearn: 6436876.5405352\ttotal: 22.4s\tremaining: 56.3s\n",
      "285:\tlearn: 6434546.5840043\ttotal: 22.5s\tremaining: 56.2s\n",
      "286:\tlearn: 6432118.7958916\ttotal: 22.6s\tremaining: 56.1s\n",
      "287:\tlearn: 6427125.7432516\ttotal: 22.7s\tremaining: 56s\n",
      "288:\tlearn: 6426061.4530803\ttotal: 22.7s\tremaining: 55.9s\n",
      "289:\tlearn: 6421312.4021308\ttotal: 22.8s\tremaining: 55.8s\n",
      "290:\tlearn: 6418037.1271023\ttotal: 22.9s\tremaining: 55.7s\n",
      "291:\tlearn: 6412920.7530026\ttotal: 22.9s\tremaining: 55.6s\n",
      "292:\tlearn: 6409838.4296900\ttotal: 23s\tremaining: 55.6s\n",
      "293:\tlearn: 6409102.4891646\ttotal: 23.1s\tremaining: 55.5s\n",
      "294:\tlearn: 6404623.6490541\ttotal: 23.2s\tremaining: 55.4s\n",
      "295:\tlearn: 6401827.8211482\ttotal: 23.2s\tremaining: 55.3s\n",
      "296:\tlearn: 6396604.8036528\ttotal: 23.3s\tremaining: 55.2s\n",
      "297:\tlearn: 6389408.9445974\ttotal: 23.4s\tremaining: 55.1s\n",
      "298:\tlearn: 6385029.7628261\ttotal: 23.5s\tremaining: 55.1s\n",
      "299:\tlearn: 6380884.0440164\ttotal: 23.6s\tremaining: 55s\n",
      "300:\tlearn: 6371655.3321545\ttotal: 23.6s\tremaining: 54.9s\n",
      "301:\tlearn: 6370763.9635778\ttotal: 23.7s\tremaining: 54.8s\n",
      "302:\tlearn: 6366420.6344590\ttotal: 23.8s\tremaining: 54.7s\n",
      "303:\tlearn: 6358177.8276520\ttotal: 23.9s\tremaining: 54.6s\n",
      "304:\tlearn: 6357340.8783767\ttotal: 23.9s\tremaining: 54.5s\n",
      "305:\tlearn: 6357016.6189722\ttotal: 24.1s\tremaining: 54.6s\n",
      "306:\tlearn: 6351367.7530790\ttotal: 24.2s\tremaining: 54.6s\n",
      "307:\tlearn: 6351072.6472038\ttotal: 24.3s\tremaining: 54.5s\n",
      "308:\tlearn: 6349076.5026250\ttotal: 24.3s\tremaining: 54.4s\n",
      "309:\tlearn: 6345920.0124136\ttotal: 24.4s\tremaining: 54.4s\n",
      "310:\tlearn: 6340188.1640901\ttotal: 24.5s\tremaining: 54.3s\n",
      "311:\tlearn: 6338206.1423517\ttotal: 24.6s\tremaining: 54.2s\n",
      "312:\tlearn: 6333550.8882939\ttotal: 24.6s\tremaining: 54.1s\n",
      "313:\tlearn: 6326518.6882283\ttotal: 24.7s\tremaining: 54s\n",
      "314:\tlearn: 6320676.9944435\ttotal: 24.8s\tremaining: 53.9s\n",
      "315:\tlearn: 6318149.2735357\ttotal: 24.9s\tremaining: 53.8s\n",
      "316:\tlearn: 6306585.1172846\ttotal: 25s\tremaining: 53.8s\n",
      "317:\tlearn: 6293831.2142333\ttotal: 25s\tremaining: 53.7s\n",
      "318:\tlearn: 6284185.5914367\ttotal: 25.1s\tremaining: 53.6s\n",
      "319:\tlearn: 6279535.6762556\ttotal: 25.2s\tremaining: 53.5s\n",
      "320:\tlearn: 6272834.1371077\ttotal: 25.3s\tremaining: 53.4s\n",
      "321:\tlearn: 6265733.2524115\ttotal: 25.3s\tremaining: 53.3s\n",
      "322:\tlearn: 6254953.4565809\ttotal: 25.4s\tremaining: 53.3s\n",
      "323:\tlearn: 6251467.6437361\ttotal: 25.5s\tremaining: 53.2s\n",
      "324:\tlearn: 6247112.9652295\ttotal: 25.6s\tremaining: 53.1s\n",
      "325:\tlearn: 6235808.4007043\ttotal: 25.6s\tremaining: 53s\n",
      "326:\tlearn: 6230145.9419338\ttotal: 25.7s\tremaining: 52.9s\n",
      "327:\tlearn: 6225656.8523555\ttotal: 25.8s\tremaining: 52.8s\n",
      "328:\tlearn: 6224817.0928845\ttotal: 25.9s\tremaining: 52.8s\n",
      "329:\tlearn: 6223162.3460037\ttotal: 25.9s\tremaining: 52.7s\n",
      "330:\tlearn: 6222450.7064952\ttotal: 26s\tremaining: 52.6s\n",
      "331:\tlearn: 6216945.0121431\ttotal: 26.1s\tremaining: 52.5s\n",
      "332:\tlearn: 6213838.4360679\ttotal: 26.2s\tremaining: 52.4s\n",
      "333:\tlearn: 6213606.8028768\ttotal: 26.3s\tremaining: 52.4s\n",
      "334:\tlearn: 6208534.3259026\ttotal: 26.4s\tremaining: 52.4s\n",
      "335:\tlearn: 6207090.7114076\ttotal: 26.5s\tremaining: 52.4s\n",
      "336:\tlearn: 6202438.8691335\ttotal: 26.6s\tremaining: 52.3s\n",
      "337:\tlearn: 6201837.2427054\ttotal: 26.6s\tremaining: 52.2s\n",
      "338:\tlearn: 6198480.3090206\ttotal: 26.7s\tremaining: 52.1s\n",
      "339:\tlearn: 6195345.7406680\ttotal: 26.8s\tremaining: 52s\n",
      "340:\tlearn: 6193571.7320835\ttotal: 26.9s\tremaining: 51.9s\n",
      "341:\tlearn: 6192371.4274306\ttotal: 27s\tremaining: 51.9s\n",
      "342:\tlearn: 6186432.7629151\ttotal: 27s\tremaining: 51.8s\n",
      "343:\tlearn: 6185235.1887954\ttotal: 27.1s\tremaining: 51.7s\n",
      "344:\tlearn: 6183622.5853004\ttotal: 27.2s\tremaining: 51.6s\n",
      "345:\tlearn: 6182778.6693685\ttotal: 27.3s\tremaining: 51.5s\n",
      "346:\tlearn: 6177309.8327579\ttotal: 27.4s\tremaining: 51.5s\n",
      "347:\tlearn: 6176539.1365909\ttotal: 27.4s\tremaining: 51.4s\n",
      "348:\tlearn: 6173309.4815956\ttotal: 27.5s\tremaining: 51.3s\n",
      "349:\tlearn: 6170483.8438775\ttotal: 27.6s\tremaining: 51.2s\n",
      "350:\tlearn: 6167094.5407304\ttotal: 27.6s\tremaining: 51.1s\n",
      "351:\tlearn: 6163627.9031323\ttotal: 27.7s\tremaining: 51s\n",
      "352:\tlearn: 6160874.7691479\ttotal: 27.8s\tremaining: 51s\n",
      "353:\tlearn: 6158825.1042151\ttotal: 27.9s\tremaining: 50.9s\n",
      "354:\tlearn: 6155452.1983405\ttotal: 27.9s\tremaining: 50.8s\n",
      "355:\tlearn: 6154833.2642596\ttotal: 28s\tremaining: 50.7s\n",
      "356:\tlearn: 6149267.9402773\ttotal: 28.1s\tremaining: 50.6s\n",
      "357:\tlearn: 6148124.4895850\ttotal: 28.2s\tremaining: 50.5s\n",
      "358:\tlearn: 6146916.3670438\ttotal: 28.2s\tremaining: 50.4s\n",
      "359:\tlearn: 6144821.1994875\ttotal: 28.3s\tremaining: 50.4s\n",
      "360:\tlearn: 6139550.2744326\ttotal: 28.4s\tremaining: 50.3s\n",
      "361:\tlearn: 6137475.3255015\ttotal: 28.5s\tremaining: 50.2s\n",
      "362:\tlearn: 6133112.1285719\ttotal: 28.6s\tremaining: 50.3s\n",
      "363:\tlearn: 6131885.8069568\ttotal: 28.7s\tremaining: 50.2s\n",
      "364:\tlearn: 6129210.1317365\ttotal: 28.8s\tremaining: 50.1s\n",
      "365:\tlearn: 6127701.1402721\ttotal: 28.9s\tremaining: 50s\n",
      "366:\tlearn: 6125287.5354394\ttotal: 29s\tremaining: 50s\n",
      "367:\tlearn: 6119076.7740377\ttotal: 29.1s\tremaining: 49.9s\n",
      "368:\tlearn: 6113756.7259264\ttotal: 29.1s\tremaining: 49.8s\n",
      "369:\tlearn: 6102714.9948245\ttotal: 29.2s\tremaining: 49.7s\n",
      "370:\tlearn: 6102627.5494596\ttotal: 29.3s\tremaining: 49.6s\n",
      "371:\tlearn: 6099883.0333982\ttotal: 29.4s\tremaining: 49.6s\n",
      "372:\tlearn: 6097693.8164740\ttotal: 29.4s\tremaining: 49.5s\n",
      "373:\tlearn: 6095217.5598363\ttotal: 29.5s\tremaining: 49.4s\n",
      "374:\tlearn: 6091939.9445255\ttotal: 29.6s\tremaining: 49.3s\n",
      "375:\tlearn: 6090654.8461579\ttotal: 29.7s\tremaining: 49.2s\n",
      "376:\tlearn: 6087485.0178096\ttotal: 29.7s\tremaining: 49.1s\n",
      "377:\tlearn: 6084580.0757083\ttotal: 29.8s\tremaining: 49s\n",
      "378:\tlearn: 6080191.8299788\ttotal: 29.9s\tremaining: 49s\n",
      "379:\tlearn: 6074797.4386191\ttotal: 29.9s\tremaining: 48.9s\n",
      "380:\tlearn: 6070274.7430402\ttotal: 30s\tremaining: 48.8s\n",
      "381:\tlearn: 6062998.1794515\ttotal: 30.1s\tremaining: 48.7s\n",
      "382:\tlearn: 6061583.7240789\ttotal: 30.2s\tremaining: 48.6s\n",
      "383:\tlearn: 6059640.3230455\ttotal: 30.3s\tremaining: 48.5s\n",
      "384:\tlearn: 6058800.4058453\ttotal: 30.3s\tremaining: 48.5s\n",
      "385:\tlearn: 6055944.5863816\ttotal: 30.4s\tremaining: 48.4s\n",
      "386:\tlearn: 6053413.6591240\ttotal: 30.5s\tremaining: 48.3s\n",
      "387:\tlearn: 6050527.5004119\ttotal: 30.6s\tremaining: 48.2s\n",
      "388:\tlearn: 6045444.4178667\ttotal: 30.7s\tremaining: 48.1s\n",
      "389:\tlearn: 6045126.6172819\ttotal: 30.7s\tremaining: 48.1s\n",
      "390:\tlearn: 6043068.0332071\ttotal: 30.8s\tremaining: 48s\n",
      "391:\tlearn: 6033871.1251313\ttotal: 30.9s\tremaining: 48s\n",
      "392:\tlearn: 6031823.9777408\ttotal: 31s\tremaining: 48s\n",
      "393:\tlearn: 6026942.4312522\ttotal: 31.1s\tremaining: 47.9s\n",
      "394:\tlearn: 6018337.6757583\ttotal: 31.2s\tremaining: 47.8s\n",
      "395:\tlearn: 6012646.9986923\ttotal: 31.3s\tremaining: 47.7s\n",
      "396:\tlearn: 6007447.4665682\ttotal: 31.4s\tremaining: 47.7s\n",
      "397:\tlearn: 6005461.9945951\ttotal: 31.5s\tremaining: 47.6s\n",
      "398:\tlearn: 6001580.2969875\ttotal: 31.5s\tremaining: 47.5s\n",
      "399:\tlearn: 5998752.2222600\ttotal: 31.6s\tremaining: 47.4s\n",
      "400:\tlearn: 5994424.6912865\ttotal: 31.7s\tremaining: 47.3s\n",
      "401:\tlearn: 5988348.5353415\ttotal: 31.8s\tremaining: 47.2s\n",
      "402:\tlearn: 5985610.2121981\ttotal: 31.8s\tremaining: 47.2s\n",
      "403:\tlearn: 5983566.8107119\ttotal: 31.9s\tremaining: 47.1s\n",
      "404:\tlearn: 5981553.6306578\ttotal: 32s\tremaining: 47s\n",
      "405:\tlearn: 5978322.8368377\ttotal: 32.1s\tremaining: 46.9s\n",
      "406:\tlearn: 5975187.3836109\ttotal: 32.1s\tremaining: 46.8s\n",
      "407:\tlearn: 5974294.5005991\ttotal: 32.2s\tremaining: 46.8s\n",
      "408:\tlearn: 5971446.1611366\ttotal: 32.3s\tremaining: 46.7s\n",
      "409:\tlearn: 5969647.9354523\ttotal: 32.4s\tremaining: 46.6s\n",
      "410:\tlearn: 5966910.3515351\ttotal: 32.5s\tremaining: 46.5s\n",
      "411:\tlearn: 5964747.4442095\ttotal: 32.5s\tremaining: 46.4s\n",
      "412:\tlearn: 5961237.7635558\ttotal: 32.6s\tremaining: 46.3s\n",
      "413:\tlearn: 5958944.8742340\ttotal: 32.7s\tremaining: 46.3s\n",
      "414:\tlearn: 5953931.5260137\ttotal: 32.8s\tremaining: 46.2s\n",
      "415:\tlearn: 5953401.6873062\ttotal: 32.8s\tremaining: 46.1s\n",
      "416:\tlearn: 5952112.7432924\ttotal: 32.9s\tremaining: 46s\n",
      "417:\tlearn: 5949811.4077030\ttotal: 33s\tremaining: 45.9s\n",
      "418:\tlearn: 5946085.1774048\ttotal: 33.1s\tremaining: 45.8s\n",
      "419:\tlearn: 5944679.8309085\ttotal: 33.2s\tremaining: 45.8s\n",
      "420:\tlearn: 5942844.5394934\ttotal: 33.3s\tremaining: 45.7s\n",
      "421:\tlearn: 5938906.2650023\ttotal: 33.4s\tremaining: 45.7s\n",
      "422:\tlearn: 5930829.1077344\ttotal: 33.4s\tremaining: 45.6s\n",
      "423:\tlearn: 5929520.3369603\ttotal: 33.5s\tremaining: 45.5s\n",
      "424:\tlearn: 5925534.8603475\ttotal: 33.6s\tremaining: 45.4s\n",
      "425:\tlearn: 5923950.4606293\ttotal: 33.7s\tremaining: 45.4s\n",
      "426:\tlearn: 5919140.7396965\ttotal: 33.7s\tremaining: 45.3s\n",
      "427:\tlearn: 5915751.8586417\ttotal: 33.8s\tremaining: 45.2s\n",
      "428:\tlearn: 5913129.5329020\ttotal: 33.9s\tremaining: 45.1s\n",
      "429:\tlearn: 5912332.4332432\ttotal: 34s\tremaining: 45s\n",
      "430:\tlearn: 5910649.6835545\ttotal: 34s\tremaining: 44.9s\n",
      "431:\tlearn: 5905388.3001060\ttotal: 34.1s\tremaining: 44.9s\n",
      "432:\tlearn: 5904016.5781527\ttotal: 34.2s\tremaining: 44.8s\n",
      "433:\tlearn: 5900507.1464264\ttotal: 34.3s\tremaining: 44.7s\n",
      "434:\tlearn: 5898627.0122312\ttotal: 34.4s\tremaining: 44.6s\n",
      "435:\tlearn: 5895154.4793253\ttotal: 34.4s\tremaining: 44.5s\n",
      "436:\tlearn: 5891105.4780674\ttotal: 34.5s\tremaining: 44.5s\n",
      "437:\tlearn: 5887267.9725669\ttotal: 34.6s\tremaining: 44.4s\n",
      "438:\tlearn: 5886010.5467582\ttotal: 34.7s\tremaining: 44.3s\n",
      "439:\tlearn: 5882314.5467915\ttotal: 34.7s\tremaining: 44.2s\n",
      "440:\tlearn: 5877438.5983259\ttotal: 34.8s\tremaining: 44.1s\n",
      "441:\tlearn: 5876126.6022109\ttotal: 34.9s\tremaining: 44s\n",
      "442:\tlearn: 5872448.3623977\ttotal: 34.9s\tremaining: 43.9s\n",
      "443:\tlearn: 5867069.4954825\ttotal: 35s\tremaining: 43.9s\n",
      "444:\tlearn: 5864126.2800875\ttotal: 35.1s\tremaining: 43.8s\n",
      "445:\tlearn: 5862620.6155592\ttotal: 35.2s\tremaining: 43.7s\n",
      "446:\tlearn: 5861237.1637899\ttotal: 35.3s\tremaining: 43.6s\n",
      "447:\tlearn: 5856206.4956171\ttotal: 35.3s\tremaining: 43.5s\n",
      "448:\tlearn: 5855185.3184079\ttotal: 35.5s\tremaining: 43.5s\n",
      "449:\tlearn: 5853253.0291547\ttotal: 35.6s\tremaining: 43.5s\n",
      "450:\tlearn: 5851423.3512934\ttotal: 35.7s\tremaining: 43.4s\n",
      "451:\tlearn: 5850962.0690246\ttotal: 35.7s\tremaining: 43.3s\n",
      "452:\tlearn: 5848439.8876845\ttotal: 35.8s\tremaining: 43.3s\n",
      "453:\tlearn: 5846236.0180555\ttotal: 35.9s\tremaining: 43.2s\n",
      "454:\tlearn: 5844243.3710079\ttotal: 36s\tremaining: 43.1s\n",
      "455:\tlearn: 5841800.3098916\ttotal: 36.1s\tremaining: 43s\n",
      "456:\tlearn: 5839321.5559201\ttotal: 36.1s\tremaining: 42.9s\n",
      "457:\tlearn: 5838982.2531159\ttotal: 36.2s\tremaining: 42.9s\n",
      "458:\tlearn: 5836132.8482312\ttotal: 36.3s\tremaining: 42.8s\n",
      "459:\tlearn: 5833888.3451424\ttotal: 36.4s\tremaining: 42.7s\n",
      "460:\tlearn: 5832026.2501786\ttotal: 36.4s\tremaining: 42.6s\n",
      "461:\tlearn: 5829821.9329509\ttotal: 36.5s\tremaining: 42.5s\n",
      "462:\tlearn: 5828275.4993334\ttotal: 36.6s\tremaining: 42.4s\n",
      "463:\tlearn: 5825734.2248219\ttotal: 36.7s\tremaining: 42.4s\n",
      "464:\tlearn: 5823521.7423459\ttotal: 36.7s\tremaining: 42.3s\n",
      "465:\tlearn: 5821137.6712627\ttotal: 36.8s\tremaining: 42.2s\n",
      "466:\tlearn: 5820048.0493921\ttotal: 36.9s\tremaining: 42.1s\n",
      "467:\tlearn: 5817857.6806054\ttotal: 37s\tremaining: 42s\n",
      "468:\tlearn: 5816859.0929671\ttotal: 37s\tremaining: 41.9s\n",
      "469:\tlearn: 5814465.6835032\ttotal: 37.1s\tremaining: 41.9s\n",
      "470:\tlearn: 5812485.8327782\ttotal: 37.2s\tremaining: 41.8s\n",
      "471:\tlearn: 5811146.1862222\ttotal: 37.3s\tremaining: 41.7s\n",
      "472:\tlearn: 5810077.7724754\ttotal: 37.4s\tremaining: 41.6s\n",
      "473:\tlearn: 5807024.2697773\ttotal: 37.4s\tremaining: 41.5s\n",
      "474:\tlearn: 5805819.2895704\ttotal: 37.5s\tremaining: 41.5s\n",
      "475:\tlearn: 5800823.8818346\ttotal: 37.6s\tremaining: 41.4s\n",
      "476:\tlearn: 5795180.0639150\ttotal: 37.7s\tremaining: 41.3s\n",
      "477:\tlearn: 5792784.9655723\ttotal: 37.8s\tremaining: 41.3s\n",
      "478:\tlearn: 5790442.8760700\ttotal: 37.9s\tremaining: 41.2s\n",
      "479:\tlearn: 5789232.4073836\ttotal: 38s\tremaining: 41.1s\n",
      "480:\tlearn: 5787715.2578527\ttotal: 38.1s\tremaining: 41.1s\n",
      "481:\tlearn: 5786453.4015622\ttotal: 38.1s\tremaining: 41s\n",
      "482:\tlearn: 5784611.4098925\ttotal: 38.2s\tremaining: 40.9s\n",
      "483:\tlearn: 5783251.2394541\ttotal: 38.3s\tremaining: 40.8s\n",
      "484:\tlearn: 5782392.9318509\ttotal: 38.4s\tremaining: 40.7s\n",
      "485:\tlearn: 5779901.4060658\ttotal: 38.4s\tremaining: 40.7s\n",
      "486:\tlearn: 5777332.9179117\ttotal: 38.5s\tremaining: 40.6s\n",
      "487:\tlearn: 5775224.3206737\ttotal: 38.6s\tremaining: 40.5s\n",
      "488:\tlearn: 5774253.4300458\ttotal: 38.7s\tremaining: 40.4s\n",
      "489:\tlearn: 5769625.0093914\ttotal: 38.7s\tremaining: 40.3s\n",
      "490:\tlearn: 5767446.6149139\ttotal: 38.8s\tremaining: 40.2s\n",
      "491:\tlearn: 5764105.6256584\ttotal: 38.9s\tremaining: 40.2s\n",
      "492:\tlearn: 5758441.3837988\ttotal: 39s\tremaining: 40.1s\n",
      "493:\tlearn: 5757204.4808257\ttotal: 39s\tremaining: 40s\n",
      "494:\tlearn: 5754279.8453314\ttotal: 39.1s\tremaining: 39.9s\n",
      "495:\tlearn: 5753831.0626777\ttotal: 39.2s\tremaining: 39.8s\n",
      "496:\tlearn: 5751812.3228127\ttotal: 39.3s\tremaining: 39.7s\n",
      "497:\tlearn: 5749724.7006983\ttotal: 39.3s\tremaining: 39.7s\n",
      "498:\tlearn: 5746422.4762873\ttotal: 39.4s\tremaining: 39.6s\n",
      "499:\tlearn: 5746004.4260094\ttotal: 39.5s\tremaining: 39.5s\n",
      "500:\tlearn: 5742668.0808829\ttotal: 39.6s\tremaining: 39.4s\n",
      "501:\tlearn: 5740882.5692754\ttotal: 39.6s\tremaining: 39.3s\n",
      "502:\tlearn: 5738175.1345462\ttotal: 39.7s\tremaining: 39.2s\n",
      "503:\tlearn: 5737403.0121628\ttotal: 39.8s\tremaining: 39.2s\n",
      "504:\tlearn: 5736067.8070097\ttotal: 39.9s\tremaining: 39.1s\n",
      "505:\tlearn: 5735206.3267094\ttotal: 39.9s\tremaining: 39s\n",
      "506:\tlearn: 5733185.4548560\ttotal: 40.1s\tremaining: 39s\n",
      "507:\tlearn: 5729760.6742497\ttotal: 40.2s\tremaining: 38.9s\n",
      "508:\tlearn: 5728491.2841427\ttotal: 40.3s\tremaining: 38.9s\n",
      "509:\tlearn: 5727801.9698223\ttotal: 40.4s\tremaining: 38.8s\n",
      "510:\tlearn: 5721603.4183459\ttotal: 40.4s\tremaining: 38.7s\n",
      "511:\tlearn: 5719460.7407714\ttotal: 40.5s\tremaining: 38.6s\n",
      "512:\tlearn: 5718896.8223006\ttotal: 40.6s\tremaining: 38.5s\n",
      "513:\tlearn: 5716815.0663680\ttotal: 40.7s\tremaining: 38.4s\n",
      "514:\tlearn: 5714142.4389783\ttotal: 40.7s\tremaining: 38.4s\n",
      "515:\tlearn: 5713006.0544458\ttotal: 40.8s\tremaining: 38.3s\n",
      "516:\tlearn: 5710768.2275842\ttotal: 40.9s\tremaining: 38.2s\n",
      "517:\tlearn: 5709788.8161874\ttotal: 41s\tremaining: 38.1s\n",
      "518:\tlearn: 5705928.5637973\ttotal: 41s\tremaining: 38s\n",
      "519:\tlearn: 5703984.7217935\ttotal: 41.1s\tremaining: 38s\n",
      "520:\tlearn: 5697127.2219710\ttotal: 41.2s\tremaining: 37.9s\n",
      "521:\tlearn: 5696751.8601033\ttotal: 41.3s\tremaining: 37.8s\n",
      "522:\tlearn: 5696397.4446059\ttotal: 41.4s\tremaining: 37.7s\n",
      "523:\tlearn: 5694769.2616093\ttotal: 41.5s\tremaining: 37.7s\n",
      "524:\tlearn: 5693344.3758258\ttotal: 41.6s\tremaining: 37.6s\n",
      "525:\tlearn: 5690678.3631939\ttotal: 41.6s\tremaining: 37.5s\n",
      "526:\tlearn: 5687166.0114722\ttotal: 41.7s\tremaining: 37.4s\n",
      "527:\tlearn: 5681791.4698144\ttotal: 41.8s\tremaining: 37.4s\n",
      "528:\tlearn: 5679904.9965543\ttotal: 41.9s\tremaining: 37.3s\n",
      "529:\tlearn: 5679228.8201478\ttotal: 41.9s\tremaining: 37.2s\n",
      "530:\tlearn: 5677101.7118943\ttotal: 42s\tremaining: 37.1s\n",
      "531:\tlearn: 5673956.2624851\ttotal: 42.1s\tremaining: 37s\n",
      "532:\tlearn: 5673071.4184840\ttotal: 42.2s\tremaining: 37s\n",
      "533:\tlearn: 5670877.8360693\ttotal: 42.2s\tremaining: 36.9s\n",
      "534:\tlearn: 5670289.9519586\ttotal: 42.4s\tremaining: 36.9s\n",
      "535:\tlearn: 5666959.3613798\ttotal: 42.5s\tremaining: 36.8s\n",
      "536:\tlearn: 5663290.9987685\ttotal: 42.6s\tremaining: 36.7s\n",
      "537:\tlearn: 5660791.9539056\ttotal: 42.7s\tremaining: 36.6s\n",
      "538:\tlearn: 5659216.6712141\ttotal: 42.7s\tremaining: 36.6s\n",
      "539:\tlearn: 5656712.5416205\ttotal: 42.8s\tremaining: 36.5s\n",
      "540:\tlearn: 5652609.4299651\ttotal: 42.9s\tremaining: 36.4s\n",
      "541:\tlearn: 5651298.7569167\ttotal: 43s\tremaining: 36.3s\n",
      "542:\tlearn: 5650592.9134292\ttotal: 43s\tremaining: 36.2s\n",
      "543:\tlearn: 5648405.7095894\ttotal: 43.1s\tremaining: 36.2s\n",
      "544:\tlearn: 5646355.4066429\ttotal: 43.2s\tremaining: 36.1s\n",
      "545:\tlearn: 5643028.4274664\ttotal: 43.3s\tremaining: 36s\n",
      "546:\tlearn: 5638954.4018276\ttotal: 43.4s\tremaining: 35.9s\n",
      "547:\tlearn: 5638105.7809642\ttotal: 43.4s\tremaining: 35.8s\n",
      "548:\tlearn: 5637314.8746939\ttotal: 43.5s\tremaining: 35.7s\n",
      "549:\tlearn: 5635931.8579105\ttotal: 43.6s\tremaining: 35.7s\n",
      "550:\tlearn: 5633125.9177664\ttotal: 43.7s\tremaining: 35.6s\n",
      "551:\tlearn: 5629592.6085534\ttotal: 43.7s\tremaining: 35.5s\n",
      "552:\tlearn: 5626339.7982254\ttotal: 43.8s\tremaining: 35.4s\n",
      "553:\tlearn: 5624960.5746186\ttotal: 43.9s\tremaining: 35.3s\n",
      "554:\tlearn: 5622048.1330530\ttotal: 44s\tremaining: 35.2s\n",
      "555:\tlearn: 5621867.6953634\ttotal: 44s\tremaining: 35.2s\n",
      "556:\tlearn: 5618511.3354238\ttotal: 44.1s\tremaining: 35.1s\n",
      "557:\tlearn: 5617092.7641916\ttotal: 44.2s\tremaining: 35s\n",
      "558:\tlearn: 5616444.9934128\ttotal: 44.3s\tremaining: 34.9s\n",
      "559:\tlearn: 5615289.2570571\ttotal: 44.3s\tremaining: 34.8s\n",
      "560:\tlearn: 5613942.1750420\ttotal: 44.4s\tremaining: 34.8s\n",
      "561:\tlearn: 5612681.8951507\ttotal: 44.5s\tremaining: 34.7s\n",
      "562:\tlearn: 5610233.4186524\ttotal: 44.6s\tremaining: 34.6s\n",
      "563:\tlearn: 5609329.1893415\ttotal: 44.7s\tremaining: 34.6s\n",
      "564:\tlearn: 5608067.2723497\ttotal: 44.8s\tremaining: 34.5s\n",
      "565:\tlearn: 5606278.5425416\ttotal: 44.9s\tremaining: 34.4s\n",
      "566:\tlearn: 5604692.6690071\ttotal: 45s\tremaining: 34.3s\n",
      "567:\tlearn: 5604295.1037582\ttotal: 45s\tremaining: 34.3s\n",
      "568:\tlearn: 5601431.3962520\ttotal: 45.1s\tremaining: 34.2s\n",
      "569:\tlearn: 5601334.1010663\ttotal: 45.2s\tremaining: 34.1s\n",
      "570:\tlearn: 5599082.0194287\ttotal: 45.3s\tremaining: 34s\n",
      "571:\tlearn: 5596935.1466006\ttotal: 45.3s\tremaining: 33.9s\n",
      "572:\tlearn: 5595352.5384941\ttotal: 45.4s\tremaining: 33.8s\n",
      "573:\tlearn: 5592076.6056409\ttotal: 45.5s\tremaining: 33.8s\n",
      "574:\tlearn: 5591923.7425518\ttotal: 45.6s\tremaining: 33.7s\n",
      "575:\tlearn: 5589105.5981710\ttotal: 45.6s\tremaining: 33.6s\n",
      "576:\tlearn: 5588803.4793586\ttotal: 45.7s\tremaining: 33.5s\n",
      "577:\tlearn: 5585187.2991087\ttotal: 45.8s\tremaining: 33.4s\n",
      "578:\tlearn: 5583436.7816353\ttotal: 45.9s\tremaining: 33.3s\n",
      "579:\tlearn: 5582029.1736437\ttotal: 45.9s\tremaining: 33.3s\n",
      "580:\tlearn: 5578618.4757175\ttotal: 46s\tremaining: 33.2s\n",
      "581:\tlearn: 5576315.5919782\ttotal: 46.1s\tremaining: 33.1s\n",
      "582:\tlearn: 5575112.6454078\ttotal: 46.2s\tremaining: 33s\n",
      "583:\tlearn: 5572647.7399051\ttotal: 46.2s\tremaining: 32.9s\n",
      "584:\tlearn: 5569731.6634858\ttotal: 46.3s\tremaining: 32.9s\n",
      "585:\tlearn: 5567404.0825271\ttotal: 46.4s\tremaining: 32.8s\n",
      "586:\tlearn: 5566448.7859057\ttotal: 46.5s\tremaining: 32.7s\n",
      "587:\tlearn: 5565643.2651483\ttotal: 46.5s\tremaining: 32.6s\n",
      "588:\tlearn: 5563566.6158976\ttotal: 46.6s\tremaining: 32.5s\n",
      "589:\tlearn: 5562757.8609864\ttotal: 46.7s\tremaining: 32.4s\n",
      "590:\tlearn: 5561714.8471882\ttotal: 46.8s\tremaining: 32.4s\n",
      "591:\tlearn: 5560190.6438849\ttotal: 46.8s\tremaining: 32.3s\n",
      "592:\tlearn: 5557928.5777994\ttotal: 47s\tremaining: 32.2s\n",
      "593:\tlearn: 5557049.5449338\ttotal: 47.1s\tremaining: 32.2s\n",
      "594:\tlearn: 5556904.2820493\ttotal: 47.2s\tremaining: 32.1s\n",
      "595:\tlearn: 5556260.8566745\ttotal: 47.2s\tremaining: 32s\n",
      "596:\tlearn: 5555773.1545396\ttotal: 47.3s\tremaining: 31.9s\n",
      "597:\tlearn: 5551859.6844889\ttotal: 47.4s\tremaining: 31.9s\n",
      "598:\tlearn: 5550869.5977201\ttotal: 47.5s\tremaining: 31.8s\n",
      "599:\tlearn: 5549762.2425616\ttotal: 47.6s\tremaining: 31.7s\n",
      "600:\tlearn: 5547964.3376673\ttotal: 47.6s\tremaining: 31.6s\n",
      "601:\tlearn: 5547218.7606858\ttotal: 47.7s\tremaining: 31.5s\n",
      "602:\tlearn: 5541074.7858120\ttotal: 47.8s\tremaining: 31.5s\n",
      "603:\tlearn: 5538290.1143273\ttotal: 47.9s\tremaining: 31.4s\n",
      "604:\tlearn: 5532827.8965008\ttotal: 47.9s\tremaining: 31.3s\n",
      "605:\tlearn: 5528776.6380842\ttotal: 48s\tremaining: 31.2s\n",
      "606:\tlearn: 5525779.6955399\ttotal: 48.1s\tremaining: 31.1s\n",
      "607:\tlearn: 5519706.5274253\ttotal: 48.2s\tremaining: 31s\n",
      "608:\tlearn: 5517409.3833810\ttotal: 48.2s\tremaining: 31s\n",
      "609:\tlearn: 5515461.2440692\ttotal: 48.3s\tremaining: 30.9s\n",
      "610:\tlearn: 5513056.2908466\ttotal: 48.4s\tremaining: 30.8s\n",
      "611:\tlearn: 5510907.8280020\ttotal: 48.5s\tremaining: 30.7s\n",
      "612:\tlearn: 5508198.5882441\ttotal: 48.5s\tremaining: 30.6s\n",
      "613:\tlearn: 5504724.5351423\ttotal: 48.6s\tremaining: 30.6s\n",
      "614:\tlearn: 5504180.4558228\ttotal: 48.7s\tremaining: 30.5s\n",
      "615:\tlearn: 5500870.9048237\ttotal: 48.8s\tremaining: 30.4s\n",
      "616:\tlearn: 5498480.9996652\ttotal: 48.8s\tremaining: 30.3s\n",
      "617:\tlearn: 5498108.8754565\ttotal: 48.9s\tremaining: 30.2s\n",
      "618:\tlearn: 5497251.7071403\ttotal: 49s\tremaining: 30.1s\n",
      "619:\tlearn: 5495935.8990433\ttotal: 49.1s\tremaining: 30.1s\n",
      "620:\tlearn: 5494763.7408125\ttotal: 49.1s\tremaining: 30s\n",
      "621:\tlearn: 5493963.4057734\ttotal: 49.3s\tremaining: 30s\n",
      "622:\tlearn: 5492752.1882061\ttotal: 49.4s\tremaining: 29.9s\n",
      "623:\tlearn: 5487901.0987087\ttotal: 49.5s\tremaining: 29.8s\n",
      "624:\tlearn: 5486285.2060912\ttotal: 49.6s\tremaining: 29.7s\n",
      "625:\tlearn: 5485065.2583450\ttotal: 49.6s\tremaining: 29.6s\n",
      "626:\tlearn: 5484884.0683541\ttotal: 49.7s\tremaining: 29.6s\n",
      "627:\tlearn: 5482118.7653085\ttotal: 49.8s\tremaining: 29.5s\n",
      "628:\tlearn: 5480846.5506994\ttotal: 49.8s\tremaining: 29.4s\n",
      "629:\tlearn: 5480583.5823171\ttotal: 49.9s\tremaining: 29.3s\n",
      "630:\tlearn: 5480196.1335882\ttotal: 50s\tremaining: 29.3s\n",
      "631:\tlearn: 5479079.8422598\ttotal: 50.1s\tremaining: 29.2s\n",
      "632:\tlearn: 5477105.3491950\ttotal: 50.2s\tremaining: 29.1s\n",
      "633:\tlearn: 5476337.1107359\ttotal: 50.3s\tremaining: 29s\n",
      "634:\tlearn: 5475467.1663657\ttotal: 50.3s\tremaining: 28.9s\n",
      "635:\tlearn: 5473881.1354709\ttotal: 50.4s\tremaining: 28.8s\n",
      "636:\tlearn: 5471692.2165287\ttotal: 50.5s\tremaining: 28.8s\n",
      "637:\tlearn: 5469634.9022606\ttotal: 50.5s\tremaining: 28.7s\n",
      "638:\tlearn: 5466579.1728333\ttotal: 50.6s\tremaining: 28.6s\n",
      "639:\tlearn: 5464791.6039405\ttotal: 50.7s\tremaining: 28.5s\n",
      "640:\tlearn: 5462289.2876184\ttotal: 50.8s\tremaining: 28.4s\n",
      "641:\tlearn: 5460883.7235335\ttotal: 50.8s\tremaining: 28.4s\n",
      "642:\tlearn: 5459594.5797665\ttotal: 50.9s\tremaining: 28.3s\n",
      "643:\tlearn: 5457671.9198858\ttotal: 51s\tremaining: 28.2s\n",
      "644:\tlearn: 5456289.5426094\ttotal: 51.1s\tremaining: 28.1s\n",
      "645:\tlearn: 5453995.1002127\ttotal: 51.2s\tremaining: 28s\n",
      "646:\tlearn: 5453049.8766742\ttotal: 51.2s\tremaining: 28s\n",
      "647:\tlearn: 5450219.1957140\ttotal: 51.3s\tremaining: 27.9s\n",
      "648:\tlearn: 5448725.3366973\ttotal: 51.4s\tremaining: 27.8s\n",
      "649:\tlearn: 5446766.0829778\ttotal: 51.6s\tremaining: 27.8s\n",
      "650:\tlearn: 5445618.0492379\ttotal: 51.6s\tremaining: 27.7s\n",
      "651:\tlearn: 5444140.8266813\ttotal: 51.7s\tremaining: 27.6s\n",
      "652:\tlearn: 5443770.5356670\ttotal: 51.8s\tremaining: 27.5s\n",
      "653:\tlearn: 5438433.5272566\ttotal: 51.9s\tremaining: 27.4s\n",
      "654:\tlearn: 5437870.0990354\ttotal: 52s\tremaining: 27.4s\n",
      "655:\tlearn: 5434666.5646827\ttotal: 52s\tremaining: 27.3s\n",
      "656:\tlearn: 5434628.1314420\ttotal: 52.1s\tremaining: 27.2s\n",
      "657:\tlearn: 5432320.8704961\ttotal: 52.2s\tremaining: 27.1s\n",
      "658:\tlearn: 5431446.9139782\ttotal: 52.3s\tremaining: 27s\n",
      "659:\tlearn: 5429083.9760578\ttotal: 52.3s\tremaining: 27s\n",
      "660:\tlearn: 5427761.6096732\ttotal: 52.4s\tremaining: 26.9s\n",
      "661:\tlearn: 5426862.3289325\ttotal: 52.5s\tremaining: 26.8s\n",
      "662:\tlearn: 5425116.9035241\ttotal: 52.6s\tremaining: 26.7s\n",
      "663:\tlearn: 5423022.1228457\ttotal: 52.6s\tremaining: 26.6s\n",
      "664:\tlearn: 5421428.1261014\ttotal: 52.7s\tremaining: 26.6s\n",
      "665:\tlearn: 5419513.2128999\ttotal: 52.8s\tremaining: 26.5s\n",
      "666:\tlearn: 5419186.8252136\ttotal: 52.9s\tremaining: 26.4s\n",
      "667:\tlearn: 5417891.9389923\ttotal: 52.9s\tremaining: 26.3s\n",
      "668:\tlearn: 5416074.1700189\ttotal: 53s\tremaining: 26.2s\n",
      "669:\tlearn: 5414325.7577504\ttotal: 53.1s\tremaining: 26.1s\n",
      "670:\tlearn: 5411830.1602608\ttotal: 53.2s\tremaining: 26.1s\n",
      "671:\tlearn: 5410952.2401202\ttotal: 53.2s\tremaining: 26s\n",
      "672:\tlearn: 5407254.3516303\ttotal: 53.3s\tremaining: 25.9s\n",
      "673:\tlearn: 5404513.6146851\ttotal: 53.4s\tremaining: 25.8s\n",
      "674:\tlearn: 5403602.9428454\ttotal: 53.5s\tremaining: 25.8s\n",
      "675:\tlearn: 5402839.0145021\ttotal: 53.6s\tremaining: 25.7s\n",
      "676:\tlearn: 5401386.1615000\ttotal: 53.6s\tremaining: 25.6s\n",
      "677:\tlearn: 5400058.4667143\ttotal: 53.7s\tremaining: 25.5s\n",
      "678:\tlearn: 5396729.4931641\ttotal: 53.9s\tremaining: 25.5s\n",
      "679:\tlearn: 5395705.9737269\ttotal: 54s\tremaining: 25.4s\n",
      "680:\tlearn: 5394020.4606440\ttotal: 54s\tremaining: 25.3s\n",
      "681:\tlearn: 5393239.9436670\ttotal: 54.1s\tremaining: 25.2s\n",
      "682:\tlearn: 5391141.7233949\ttotal: 54.2s\tremaining: 25.2s\n",
      "683:\tlearn: 5388626.1274908\ttotal: 54.3s\tremaining: 25.1s\n",
      "684:\tlearn: 5388122.4330383\ttotal: 54.4s\tremaining: 25s\n",
      "685:\tlearn: 5387261.1617431\ttotal: 54.4s\tremaining: 24.9s\n",
      "686:\tlearn: 5386775.2646727\ttotal: 54.5s\tremaining: 24.8s\n",
      "687:\tlearn: 5385381.4627708\ttotal: 54.6s\tremaining: 24.8s\n",
      "688:\tlearn: 5384633.4807372\ttotal: 54.7s\tremaining: 24.7s\n",
      "689:\tlearn: 5384541.5317221\ttotal: 54.8s\tremaining: 24.6s\n",
      "690:\tlearn: 5384316.6211554\ttotal: 54.8s\tremaining: 24.5s\n",
      "691:\tlearn: 5382086.3227258\ttotal: 54.9s\tremaining: 24.4s\n",
      "692:\tlearn: 5380442.9639895\ttotal: 55s\tremaining: 24.4s\n",
      "693:\tlearn: 5379278.3407272\ttotal: 55s\tremaining: 24.3s\n",
      "694:\tlearn: 5377722.8352721\ttotal: 55.1s\tremaining: 24.2s\n",
      "695:\tlearn: 5377297.1373866\ttotal: 55.2s\tremaining: 24.1s\n",
      "696:\tlearn: 5374840.1889708\ttotal: 55.3s\tremaining: 24s\n",
      "697:\tlearn: 5373968.1410124\ttotal: 55.4s\tremaining: 23.9s\n",
      "698:\tlearn: 5372615.8802564\ttotal: 55.4s\tremaining: 23.9s\n",
      "699:\tlearn: 5371834.1559847\ttotal: 55.5s\tremaining: 23.8s\n",
      "700:\tlearn: 5371408.5601226\ttotal: 55.6s\tremaining: 23.7s\n",
      "701:\tlearn: 5371319.7752077\ttotal: 55.7s\tremaining: 23.6s\n",
      "702:\tlearn: 5369239.3878984\ttotal: 55.7s\tremaining: 23.5s\n",
      "703:\tlearn: 5366922.0982242\ttotal: 55.8s\tremaining: 23.5s\n",
      "704:\tlearn: 5364908.8266464\ttotal: 55.9s\tremaining: 23.4s\n",
      "705:\tlearn: 5361704.2210301\ttotal: 56s\tremaining: 23.3s\n",
      "706:\tlearn: 5357175.5884930\ttotal: 56s\tremaining: 23.2s\n",
      "707:\tlearn: 5353412.0629909\ttotal: 56.2s\tremaining: 23.2s\n",
      "708:\tlearn: 5352325.3776585\ttotal: 56.3s\tremaining: 23.1s\n",
      "709:\tlearn: 5351237.0559437\ttotal: 56.4s\tremaining: 23s\n",
      "710:\tlearn: 5349165.4085433\ttotal: 56.4s\tremaining: 22.9s\n",
      "711:\tlearn: 5348148.3308697\ttotal: 56.5s\tremaining: 22.9s\n",
      "712:\tlearn: 5347308.5881409\ttotal: 56.6s\tremaining: 22.8s\n",
      "713:\tlearn: 5345849.2352530\ttotal: 56.7s\tremaining: 22.7s\n",
      "714:\tlearn: 5345499.5809426\ttotal: 56.7s\tremaining: 22.6s\n",
      "715:\tlearn: 5344846.6551445\ttotal: 56.8s\tremaining: 22.5s\n",
      "716:\tlearn: 5343062.6418808\ttotal: 56.9s\tremaining: 22.5s\n",
      "717:\tlearn: 5341241.6955674\ttotal: 57s\tremaining: 22.4s\n",
      "718:\tlearn: 5339651.8534692\ttotal: 57s\tremaining: 22.3s\n",
      "719:\tlearn: 5338902.4067623\ttotal: 57.1s\tremaining: 22.2s\n",
      "720:\tlearn: 5338591.4884263\ttotal: 57.2s\tremaining: 22.1s\n",
      "721:\tlearn: 5337029.7256889\ttotal: 57.3s\tremaining: 22.1s\n",
      "722:\tlearn: 5335861.4405556\ttotal: 57.3s\tremaining: 22s\n",
      "723:\tlearn: 5333341.9599238\ttotal: 57.4s\tremaining: 21.9s\n",
      "724:\tlearn: 5331363.7974666\ttotal: 57.5s\tremaining: 21.8s\n",
      "725:\tlearn: 5329042.1146089\ttotal: 57.6s\tremaining: 21.7s\n",
      "726:\tlearn: 5328501.6490655\ttotal: 57.6s\tremaining: 21.6s\n",
      "727:\tlearn: 5327829.2019148\ttotal: 57.7s\tremaining: 21.6s\n",
      "728:\tlearn: 5325993.8628631\ttotal: 57.8s\tremaining: 21.5s\n",
      "729:\tlearn: 5324546.1395458\ttotal: 57.9s\tremaining: 21.4s\n",
      "730:\tlearn: 5323835.1486700\ttotal: 57.9s\tremaining: 21.3s\n",
      "731:\tlearn: 5321467.5800847\ttotal: 58s\tremaining: 21.2s\n",
      "732:\tlearn: 5320423.9470723\ttotal: 58.1s\tremaining: 21.2s\n",
      "733:\tlearn: 5318575.4453348\ttotal: 58.2s\tremaining: 21.1s\n",
      "734:\tlearn: 5316161.2864077\ttotal: 58.2s\tremaining: 21s\n",
      "735:\tlearn: 5313588.7076282\ttotal: 58.3s\tremaining: 20.9s\n",
      "736:\tlearn: 5312824.9045985\ttotal: 58.5s\tremaining: 20.9s\n",
      "737:\tlearn: 5310285.0189840\ttotal: 58.6s\tremaining: 20.8s\n",
      "738:\tlearn: 5308070.7376337\ttotal: 58.6s\tremaining: 20.7s\n",
      "739:\tlearn: 5306103.1811011\ttotal: 58.7s\tremaining: 20.6s\n",
      "740:\tlearn: 5304075.3489500\ttotal: 58.8s\tremaining: 20.6s\n",
      "741:\tlearn: 5301739.4645299\ttotal: 58.9s\tremaining: 20.5s\n",
      "742:\tlearn: 5301123.6908035\ttotal: 58.9s\tremaining: 20.4s\n",
      "743:\tlearn: 5297796.2846200\ttotal: 59s\tremaining: 20.3s\n",
      "744:\tlearn: 5297110.8129571\ttotal: 59.1s\tremaining: 20.2s\n",
      "745:\tlearn: 5295889.7103399\ttotal: 59.2s\tremaining: 20.2s\n",
      "746:\tlearn: 5293959.7126802\ttotal: 59.3s\tremaining: 20.1s\n",
      "747:\tlearn: 5293764.7438099\ttotal: 59.3s\tremaining: 20s\n",
      "748:\tlearn: 5293317.3945381\ttotal: 59.4s\tremaining: 19.9s\n",
      "749:\tlearn: 5291076.2181050\ttotal: 59.5s\tremaining: 19.8s\n",
      "750:\tlearn: 5289740.2700691\ttotal: 59.6s\tremaining: 19.8s\n",
      "751:\tlearn: 5288931.6404524\ttotal: 59.6s\tremaining: 19.7s\n",
      "752:\tlearn: 5288434.6373111\ttotal: 59.7s\tremaining: 19.6s\n",
      "753:\tlearn: 5285916.0273617\ttotal: 59.8s\tremaining: 19.5s\n",
      "754:\tlearn: 5283213.3387223\ttotal: 59.9s\tremaining: 19.4s\n",
      "755:\tlearn: 5281966.9464890\ttotal: 59.9s\tremaining: 19.3s\n",
      "756:\tlearn: 5278512.9843062\ttotal: 1m\tremaining: 19.3s\n",
      "757:\tlearn: 5276460.7029027\ttotal: 1m\tremaining: 19.2s\n",
      "758:\tlearn: 5275872.9053015\ttotal: 1m\tremaining: 19.1s\n",
      "759:\tlearn: 5273271.3844634\ttotal: 1m\tremaining: 19s\n",
      "760:\tlearn: 5271522.0342709\ttotal: 1m\tremaining: 18.9s\n",
      "761:\tlearn: 5269634.4419942\ttotal: 1m\tremaining: 18.9s\n",
      "762:\tlearn: 5268832.6849859\ttotal: 1m\tremaining: 18.8s\n",
      "763:\tlearn: 5267537.9766808\ttotal: 1m\tremaining: 18.7s\n",
      "764:\tlearn: 5267155.9265418\ttotal: 1m\tremaining: 18.6s\n",
      "765:\tlearn: 5265473.0332979\ttotal: 1m\tremaining: 18.6s\n",
      "766:\tlearn: 5262187.9448901\ttotal: 1m\tremaining: 18.5s\n",
      "767:\tlearn: 5261108.7403573\ttotal: 1m\tremaining: 18.4s\n",
      "768:\tlearn: 5258943.2239842\ttotal: 1m 1s\tremaining: 18.3s\n",
      "769:\tlearn: 5258153.5005145\ttotal: 1m 1s\tremaining: 18.3s\n",
      "770:\tlearn: 5257037.6826538\ttotal: 1m 1s\tremaining: 18.2s\n",
      "771:\tlearn: 5255675.7427091\ttotal: 1m 1s\tremaining: 18.1s\n",
      "772:\tlearn: 5254961.1539723\ttotal: 1m 1s\tremaining: 18s\n",
      "773:\tlearn: 5253525.0794032\ttotal: 1m 1s\tremaining: 17.9s\n",
      "774:\tlearn: 5251272.0026556\ttotal: 1m 1s\tremaining: 17.9s\n",
      "775:\tlearn: 5250529.4593501\ttotal: 1m 1s\tremaining: 17.8s\n",
      "776:\tlearn: 5248952.9297630\ttotal: 1m 1s\tremaining: 17.7s\n",
      "777:\tlearn: 5247176.7882462\ttotal: 1m 1s\tremaining: 17.6s\n",
      "778:\tlearn: 5245253.9174048\ttotal: 1m 1s\tremaining: 17.5s\n",
      "779:\tlearn: 5243722.9230123\ttotal: 1m 1s\tremaining: 17.5s\n",
      "780:\tlearn: 5243510.0283786\ttotal: 1m 1s\tremaining: 17.4s\n",
      "781:\tlearn: 5238965.8960814\ttotal: 1m 2s\tremaining: 17.3s\n",
      "782:\tlearn: 5236765.9714978\ttotal: 1m 2s\tremaining: 17.2s\n",
      "783:\tlearn: 5236351.9940826\ttotal: 1m 2s\tremaining: 17.1s\n",
      "784:\tlearn: 5235841.9017503\ttotal: 1m 2s\tremaining: 17.1s\n",
      "785:\tlearn: 5234789.5683935\ttotal: 1m 2s\tremaining: 17s\n",
      "786:\tlearn: 5233148.2746399\ttotal: 1m 2s\tremaining: 16.9s\n",
      "787:\tlearn: 5231684.8910874\ttotal: 1m 2s\tremaining: 16.8s\n",
      "788:\tlearn: 5231068.8618857\ttotal: 1m 2s\tremaining: 16.7s\n",
      "789:\tlearn: 5229174.6365907\ttotal: 1m 2s\tremaining: 16.7s\n",
      "790:\tlearn: 5227925.7071222\ttotal: 1m 2s\tremaining: 16.6s\n",
      "791:\tlearn: 5225963.1543077\ttotal: 1m 2s\tremaining: 16.5s\n",
      "792:\tlearn: 5223970.0158665\ttotal: 1m 2s\tremaining: 16.4s\n",
      "793:\tlearn: 5222592.0899332\ttotal: 1m 3s\tremaining: 16.4s\n",
      "794:\tlearn: 5222526.6916475\ttotal: 1m 3s\tremaining: 16.3s\n",
      "795:\tlearn: 5220965.8892328\ttotal: 1m 3s\tremaining: 16.2s\n",
      "796:\tlearn: 5217341.7007417\ttotal: 1m 3s\tremaining: 16.1s\n",
      "797:\tlearn: 5215989.0799033\ttotal: 1m 3s\tremaining: 16s\n",
      "798:\tlearn: 5215916.9637144\ttotal: 1m 3s\tremaining: 16s\n",
      "799:\tlearn: 5211700.1244688\ttotal: 1m 3s\tremaining: 15.9s\n",
      "800:\tlearn: 5210208.0306676\ttotal: 1m 3s\tremaining: 15.8s\n",
      "801:\tlearn: 5205255.8042391\ttotal: 1m 3s\tremaining: 15.7s\n",
      "802:\tlearn: 5204713.3825322\ttotal: 1m 3s\tremaining: 15.6s\n",
      "803:\tlearn: 5203423.8577269\ttotal: 1m 3s\tremaining: 15.6s\n",
      "804:\tlearn: 5202888.9333778\ttotal: 1m 3s\tremaining: 15.5s\n",
      "805:\tlearn: 5200645.3856768\ttotal: 1m 3s\tremaining: 15.4s\n",
      "806:\tlearn: 5198938.0019151\ttotal: 1m 4s\tremaining: 15.3s\n",
      "807:\tlearn: 5197690.3735395\ttotal: 1m 4s\tremaining: 15.2s\n",
      "808:\tlearn: 5195430.9187182\ttotal: 1m 4s\tremaining: 15.2s\n",
      "809:\tlearn: 5194610.8087790\ttotal: 1m 4s\tremaining: 15.1s\n",
      "810:\tlearn: 5192179.8840152\ttotal: 1m 4s\tremaining: 15s\n",
      "811:\tlearn: 5190106.3610719\ttotal: 1m 4s\tremaining: 14.9s\n",
      "812:\tlearn: 5187228.9950156\ttotal: 1m 4s\tremaining: 14.8s\n",
      "813:\tlearn: 5186652.5921123\ttotal: 1m 4s\tremaining: 14.8s\n",
      "814:\tlearn: 5185423.4499303\ttotal: 1m 4s\tremaining: 14.7s\n",
      "815:\tlearn: 5183165.3494863\ttotal: 1m 4s\tremaining: 14.6s\n",
      "816:\tlearn: 5182697.1463473\ttotal: 1m 4s\tremaining: 14.5s\n",
      "817:\tlearn: 5179412.9750509\ttotal: 1m 4s\tremaining: 14.4s\n",
      "818:\tlearn: 5178308.0439859\ttotal: 1m 5s\tremaining: 14.4s\n",
      "819:\tlearn: 5176877.7709912\ttotal: 1m 5s\tremaining: 14.3s\n",
      "820:\tlearn: 5172363.7819655\ttotal: 1m 5s\tremaining: 14.2s\n",
      "821:\tlearn: 5171403.9576222\ttotal: 1m 5s\tremaining: 14.1s\n",
      "822:\tlearn: 5169501.2822395\ttotal: 1m 5s\tremaining: 14.1s\n",
      "823:\tlearn: 5167529.8646682\ttotal: 1m 5s\tremaining: 14s\n",
      "824:\tlearn: 5166838.1592415\ttotal: 1m 5s\tremaining: 13.9s\n",
      "825:\tlearn: 5165114.8549381\ttotal: 1m 5s\tremaining: 13.8s\n",
      "826:\tlearn: 5162546.2291199\ttotal: 1m 5s\tremaining: 13.7s\n",
      "827:\tlearn: 5162400.0980927\ttotal: 1m 5s\tremaining: 13.7s\n",
      "828:\tlearn: 5158720.7841659\ttotal: 1m 5s\tremaining: 13.6s\n",
      "829:\tlearn: 5157555.9127390\ttotal: 1m 5s\tremaining: 13.5s\n",
      "830:\tlearn: 5153921.5139751\ttotal: 1m 6s\tremaining: 13.4s\n",
      "831:\tlearn: 5150883.0301835\ttotal: 1m 6s\tremaining: 13.3s\n",
      "832:\tlearn: 5149234.8615077\ttotal: 1m 6s\tremaining: 13.3s\n",
      "833:\tlearn: 5148223.2990459\ttotal: 1m 6s\tremaining: 13.2s\n",
      "834:\tlearn: 5144795.4397755\ttotal: 1m 6s\tremaining: 13.1s\n",
      "835:\tlearn: 5143996.5666088\ttotal: 1m 6s\tremaining: 13s\n",
      "836:\tlearn: 5143720.9313898\ttotal: 1m 6s\tremaining: 12.9s\n",
      "837:\tlearn: 5142564.9716193\ttotal: 1m 6s\tremaining: 12.9s\n",
      "838:\tlearn: 5141780.5032342\ttotal: 1m 6s\tremaining: 12.8s\n",
      "839:\tlearn: 5140744.6331873\ttotal: 1m 6s\tremaining: 12.7s\n",
      "840:\tlearn: 5139961.2674333\ttotal: 1m 6s\tremaining: 12.6s\n",
      "841:\tlearn: 5138607.7053574\ttotal: 1m 6s\tremaining: 12.5s\n",
      "842:\tlearn: 5137965.9032171\ttotal: 1m 6s\tremaining: 12.5s\n",
      "843:\tlearn: 5137017.9102992\ttotal: 1m 7s\tremaining: 12.4s\n",
      "844:\tlearn: 5135830.5859042\ttotal: 1m 7s\tremaining: 12.3s\n",
      "845:\tlearn: 5135783.1358900\ttotal: 1m 7s\tremaining: 12.2s\n",
      "846:\tlearn: 5134023.3953075\ttotal: 1m 7s\tremaining: 12.1s\n",
      "847:\tlearn: 5132196.5634742\ttotal: 1m 7s\tremaining: 12.1s\n",
      "848:\tlearn: 5130411.2238990\ttotal: 1m 7s\tremaining: 12s\n",
      "849:\tlearn: 5130141.7549426\ttotal: 1m 7s\tremaining: 11.9s\n",
      "850:\tlearn: 5128581.7000431\ttotal: 1m 7s\tremaining: 11.8s\n",
      "851:\tlearn: 5126794.9288548\ttotal: 1m 7s\tremaining: 11.8s\n",
      "852:\tlearn: 5125475.2342683\ttotal: 1m 7s\tremaining: 11.7s\n",
      "853:\tlearn: 5123406.8121266\ttotal: 1m 7s\tremaining: 11.6s\n",
      "854:\tlearn: 5122640.4862679\ttotal: 1m 7s\tremaining: 11.5s\n",
      "855:\tlearn: 5120699.2713143\ttotal: 1m 8s\tremaining: 11.4s\n",
      "856:\tlearn: 5118819.8719218\ttotal: 1m 8s\tremaining: 11.4s\n",
      "857:\tlearn: 5117905.6128553\ttotal: 1m 8s\tremaining: 11.3s\n",
      "858:\tlearn: 5117891.5742464\ttotal: 1m 8s\tremaining: 11.2s\n",
      "859:\tlearn: 5117457.6324543\ttotal: 1m 8s\tremaining: 11.1s\n",
      "860:\tlearn: 5115301.5693794\ttotal: 1m 8s\tremaining: 11s\n",
      "861:\tlearn: 5112431.8616254\ttotal: 1m 8s\tremaining: 11s\n",
      "862:\tlearn: 5110839.1455087\ttotal: 1m 8s\tremaining: 10.9s\n",
      "863:\tlearn: 5109255.9050216\ttotal: 1m 8s\tremaining: 10.8s\n",
      "864:\tlearn: 5108046.6482137\ttotal: 1m 8s\tremaining: 10.7s\n",
      "865:\tlearn: 5106890.0617161\ttotal: 1m 8s\tremaining: 10.6s\n",
      "866:\tlearn: 5103828.9446450\ttotal: 1m 8s\tremaining: 10.6s\n",
      "867:\tlearn: 5103595.5108993\ttotal: 1m 8s\tremaining: 10.5s\n",
      "868:\tlearn: 5102338.1485041\ttotal: 1m 8s\tremaining: 10.4s\n",
      "869:\tlearn: 5101465.7224167\ttotal: 1m 9s\tremaining: 10.3s\n",
      "870:\tlearn: 5099061.5969889\ttotal: 1m 9s\tremaining: 10.2s\n",
      "871:\tlearn: 5098164.1534220\ttotal: 1m 9s\tremaining: 10.2s\n",
      "872:\tlearn: 5097132.7489884\ttotal: 1m 9s\tremaining: 10.1s\n",
      "873:\tlearn: 5096984.5286169\ttotal: 1m 9s\tremaining: 10s\n",
      "874:\tlearn: 5094228.6308920\ttotal: 1m 9s\tremaining: 9.92s\n",
      "875:\tlearn: 5091332.3467068\ttotal: 1m 9s\tremaining: 9.84s\n",
      "876:\tlearn: 5087915.3724365\ttotal: 1m 9s\tremaining: 9.76s\n",
      "877:\tlearn: 5083803.5540340\ttotal: 1m 9s\tremaining: 9.68s\n",
      "878:\tlearn: 5081340.0809244\ttotal: 1m 9s\tremaining: 9.6s\n",
      "879:\tlearn: 5080205.1500861\ttotal: 1m 9s\tremaining: 9.53s\n",
      "880:\tlearn: 5079429.3437127\ttotal: 1m 9s\tremaining: 9.45s\n",
      "881:\tlearn: 5078346.2060483\ttotal: 1m 10s\tremaining: 9.37s\n",
      "882:\tlearn: 5076200.9251170\ttotal: 1m 10s\tremaining: 9.29s\n",
      "883:\tlearn: 5075552.7171958\ttotal: 1m 10s\tremaining: 9.21s\n",
      "884:\tlearn: 5072144.9469691\ttotal: 1m 10s\tremaining: 9.13s\n",
      "885:\tlearn: 5067954.0456551\ttotal: 1m 10s\tremaining: 9.05s\n",
      "886:\tlearn: 5066706.3446697\ttotal: 1m 10s\tremaining: 8.97s\n",
      "887:\tlearn: 5065373.1318219\ttotal: 1m 10s\tremaining: 8.89s\n",
      "888:\tlearn: 5064864.6032566\ttotal: 1m 10s\tremaining: 8.82s\n",
      "889:\tlearn: 5062682.9729995\ttotal: 1m 10s\tremaining: 8.74s\n",
      "890:\tlearn: 5060619.2491565\ttotal: 1m 10s\tremaining: 8.66s\n",
      "891:\tlearn: 5058670.1078688\ttotal: 1m 10s\tremaining: 8.58s\n",
      "892:\tlearn: 5057947.7131369\ttotal: 1m 10s\tremaining: 8.5s\n",
      "893:\tlearn: 5056121.3989954\ttotal: 1m 10s\tremaining: 8.42s\n",
      "894:\tlearn: 5052478.1629993\ttotal: 1m 11s\tremaining: 8.34s\n",
      "895:\tlearn: 5052166.6142276\ttotal: 1m 11s\tremaining: 8.26s\n",
      "896:\tlearn: 5049149.4150445\ttotal: 1m 11s\tremaining: 8.18s\n",
      "897:\tlearn: 5046312.6974398\ttotal: 1m 11s\tremaining: 8.1s\n",
      "898:\tlearn: 5044743.2584928\ttotal: 1m 11s\tremaining: 8.02s\n",
      "899:\tlearn: 5042303.6941371\ttotal: 1m 11s\tremaining: 7.94s\n",
      "900:\tlearn: 5041380.2387965\ttotal: 1m 11s\tremaining: 7.86s\n",
      "901:\tlearn: 5039316.2568280\ttotal: 1m 11s\tremaining: 7.78s\n",
      "902:\tlearn: 5035975.3261094\ttotal: 1m 11s\tremaining: 7.7s\n",
      "903:\tlearn: 5035786.9420092\ttotal: 1m 11s\tremaining: 7.62s\n",
      "904:\tlearn: 5035288.0596711\ttotal: 1m 11s\tremaining: 7.54s\n",
      "905:\tlearn: 5032040.8569323\ttotal: 1m 11s\tremaining: 7.46s\n",
      "906:\tlearn: 5031241.3857257\ttotal: 1m 11s\tremaining: 7.38s\n",
      "907:\tlearn: 5029767.0211433\ttotal: 1m 12s\tremaining: 7.3s\n",
      "908:\tlearn: 5029034.3543878\ttotal: 1m 12s\tremaining: 7.23s\n",
      "909:\tlearn: 5027257.9597407\ttotal: 1m 12s\tremaining: 7.15s\n",
      "910:\tlearn: 5025684.0322284\ttotal: 1m 12s\tremaining: 7.07s\n",
      "911:\tlearn: 5022188.9330338\ttotal: 1m 12s\tremaining: 6.99s\n",
      "912:\tlearn: 5019078.0343928\ttotal: 1m 12s\tremaining: 6.91s\n",
      "913:\tlearn: 5018458.6613717\ttotal: 1m 12s\tremaining: 6.83s\n",
      "914:\tlearn: 5017379.0791558\ttotal: 1m 12s\tremaining: 6.75s\n",
      "915:\tlearn: 5015359.2026895\ttotal: 1m 12s\tremaining: 6.67s\n",
      "916:\tlearn: 5014798.7430648\ttotal: 1m 12s\tremaining: 6.59s\n",
      "917:\tlearn: 5013099.9453050\ttotal: 1m 12s\tremaining: 6.51s\n",
      "918:\tlearn: 5012804.2576147\ttotal: 1m 13s\tremaining: 6.43s\n",
      "919:\tlearn: 5011729.5056496\ttotal: 1m 13s\tremaining: 6.35s\n",
      "920:\tlearn: 5010539.0102421\ttotal: 1m 13s\tremaining: 6.27s\n",
      "921:\tlearn: 5009446.7984621\ttotal: 1m 13s\tremaining: 6.2s\n",
      "922:\tlearn: 5007331.9283324\ttotal: 1m 13s\tremaining: 6.12s\n",
      "923:\tlearn: 5005816.3490244\ttotal: 1m 13s\tremaining: 6.04s\n",
      "924:\tlearn: 5004421.9005950\ttotal: 1m 13s\tremaining: 5.96s\n",
      "925:\tlearn: 5000962.1512557\ttotal: 1m 13s\tremaining: 5.88s\n",
      "926:\tlearn: 5000258.8610730\ttotal: 1m 13s\tremaining: 5.8s\n",
      "927:\tlearn: 4997436.6875501\ttotal: 1m 13s\tremaining: 5.72s\n",
      "928:\tlearn: 4996543.1872835\ttotal: 1m 13s\tremaining: 5.64s\n",
      "929:\tlearn: 4992507.2779228\ttotal: 1m 13s\tremaining: 5.56s\n",
      "930:\tlearn: 4991000.2394649\ttotal: 1m 13s\tremaining: 5.48s\n",
      "931:\tlearn: 4988482.7228684\ttotal: 1m 14s\tremaining: 5.4s\n",
      "932:\tlearn: 4988158.4960633\ttotal: 1m 14s\tremaining: 5.32s\n",
      "933:\tlearn: 4987410.2087212\ttotal: 1m 14s\tremaining: 5.24s\n",
      "934:\tlearn: 4986480.5264450\ttotal: 1m 14s\tremaining: 5.16s\n",
      "935:\tlearn: 4984643.2008785\ttotal: 1m 14s\tremaining: 5.08s\n",
      "936:\tlearn: 4983677.4799949\ttotal: 1m 14s\tremaining: 5.01s\n",
      "937:\tlearn: 4981908.6086061\ttotal: 1m 14s\tremaining: 4.93s\n",
      "938:\tlearn: 4981672.5583169\ttotal: 1m 14s\tremaining: 4.85s\n",
      "939:\tlearn: 4979392.4195067\ttotal: 1m 14s\tremaining: 4.77s\n",
      "940:\tlearn: 4977666.8011239\ttotal: 1m 14s\tremaining: 4.69s\n",
      "941:\tlearn: 4976547.6443651\ttotal: 1m 14s\tremaining: 4.61s\n",
      "942:\tlearn: 4976075.2232263\ttotal: 1m 14s\tremaining: 4.53s\n",
      "943:\tlearn: 4974155.2978779\ttotal: 1m 15s\tremaining: 4.45s\n",
      "944:\tlearn: 4973575.3689803\ttotal: 1m 15s\tremaining: 4.37s\n",
      "945:\tlearn: 4973421.3274177\ttotal: 1m 15s\tremaining: 4.29s\n",
      "946:\tlearn: 4972439.0463923\ttotal: 1m 15s\tremaining: 4.21s\n",
      "947:\tlearn: 4971162.7180754\ttotal: 1m 15s\tremaining: 4.13s\n",
      "948:\tlearn: 4970393.8108685\ttotal: 1m 15s\tremaining: 4.05s\n",
      "949:\tlearn: 4969251.9994479\ttotal: 1m 15s\tremaining: 3.97s\n",
      "950:\tlearn: 4968212.3415099\ttotal: 1m 15s\tremaining: 3.89s\n",
      "951:\tlearn: 4964968.3087134\ttotal: 1m 15s\tremaining: 3.81s\n",
      "952:\tlearn: 4961569.4623204\ttotal: 1m 15s\tremaining: 3.73s\n",
      "953:\tlearn: 4961091.1689133\ttotal: 1m 15s\tremaining: 3.65s\n",
      "954:\tlearn: 4959957.0357962\ttotal: 1m 15s\tremaining: 3.58s\n",
      "955:\tlearn: 4959047.7135614\ttotal: 1m 15s\tremaining: 3.5s\n",
      "956:\tlearn: 4957614.4538917\ttotal: 1m 16s\tremaining: 3.42s\n",
      "957:\tlearn: 4955026.3185467\ttotal: 1m 16s\tremaining: 3.34s\n",
      "958:\tlearn: 4950329.9751323\ttotal: 1m 16s\tremaining: 3.26s\n",
      "959:\tlearn: 4949436.9813653\ttotal: 1m 16s\tremaining: 3.18s\n",
      "960:\tlearn: 4948544.9871805\ttotal: 1m 16s\tremaining: 3.1s\n",
      "961:\tlearn: 4947430.7056549\ttotal: 1m 16s\tremaining: 3.02s\n",
      "962:\tlearn: 4946978.9596158\ttotal: 1m 16s\tremaining: 2.94s\n",
      "963:\tlearn: 4945602.2133609\ttotal: 1m 16s\tremaining: 2.86s\n",
      "964:\tlearn: 4944240.1887689\ttotal: 1m 16s\tremaining: 2.78s\n",
      "965:\tlearn: 4942940.1247535\ttotal: 1m 16s\tremaining: 2.7s\n",
      "966:\tlearn: 4941880.0430919\ttotal: 1m 16s\tremaining: 2.62s\n",
      "967:\tlearn: 4938776.5287885\ttotal: 1m 16s\tremaining: 2.54s\n",
      "968:\tlearn: 4938100.3284825\ttotal: 1m 17s\tremaining: 2.46s\n",
      "969:\tlearn: 4935337.9408136\ttotal: 1m 17s\tremaining: 2.38s\n",
      "970:\tlearn: 4934310.5174258\ttotal: 1m 17s\tremaining: 2.31s\n",
      "971:\tlearn: 4933450.9496122\ttotal: 1m 17s\tremaining: 2.23s\n",
      "972:\tlearn: 4930772.9705346\ttotal: 1m 17s\tremaining: 2.15s\n",
      "973:\tlearn: 4929406.7656603\ttotal: 1m 17s\tremaining: 2.07s\n",
      "974:\tlearn: 4927913.4718913\ttotal: 1m 17s\tremaining: 1.99s\n",
      "975:\tlearn: 4924957.5417259\ttotal: 1m 17s\tremaining: 1.91s\n",
      "976:\tlearn: 4924511.8585369\ttotal: 1m 17s\tremaining: 1.83s\n",
      "977:\tlearn: 4923084.0947092\ttotal: 1m 17s\tremaining: 1.75s\n",
      "978:\tlearn: 4922147.3137835\ttotal: 1m 17s\tremaining: 1.67s\n",
      "979:\tlearn: 4921196.6389442\ttotal: 1m 17s\tremaining: 1.59s\n",
      "980:\tlearn: 4920658.6693691\ttotal: 1m 17s\tremaining: 1.51s\n",
      "981:\tlearn: 4919787.3746556\ttotal: 1m 18s\tremaining: 1.43s\n",
      "982:\tlearn: 4918447.0086293\ttotal: 1m 18s\tremaining: 1.35s\n",
      "983:\tlearn: 4915706.7713457\ttotal: 1m 18s\tremaining: 1.27s\n",
      "984:\tlearn: 4914342.2730132\ttotal: 1m 18s\tremaining: 1.19s\n",
      "985:\tlearn: 4913714.1510713\ttotal: 1m 18s\tremaining: 1.11s\n",
      "986:\tlearn: 4913089.8534789\ttotal: 1m 18s\tremaining: 1.03s\n",
      "987:\tlearn: 4912632.9293376\ttotal: 1m 18s\tremaining: 953ms\n",
      "988:\tlearn: 4910373.7975703\ttotal: 1m 18s\tremaining: 874ms\n",
      "989:\tlearn: 4908464.6365537\ttotal: 1m 18s\tremaining: 795ms\n",
      "990:\tlearn: 4905732.5803866\ttotal: 1m 18s\tremaining: 715ms\n",
      "991:\tlearn: 4904585.0134127\ttotal: 1m 18s\tremaining: 636ms\n",
      "992:\tlearn: 4903235.9179859\ttotal: 1m 18s\tremaining: 556ms\n",
      "993:\tlearn: 4902297.7197201\ttotal: 1m 19s\tremaining: 477ms\n",
      "994:\tlearn: 4900865.0432795\ttotal: 1m 19s\tremaining: 397ms\n",
      "995:\tlearn: 4900289.7128936\ttotal: 1m 19s\tremaining: 318ms\n",
      "996:\tlearn: 4899890.5748815\ttotal: 1m 19s\tremaining: 239ms\n",
      "997:\tlearn: 4898479.0926170\ttotal: 1m 19s\tremaining: 159ms\n",
      "998:\tlearn: 4898342.3595714\ttotal: 1m 19s\tremaining: 79.6ms\n",
      "999:\tlearn: 4896523.9807561\ttotal: 1m 19s\tremaining: 0us\n",
      "[LightGBM] [Info] Auto-choosing col-wise multi-threading, the overhead of testing was 0.000249 seconds.\n",
      "You can set `force_col_wise=true` to remove the overhead.\n",
      "[LightGBM] [Info] Total Bins 1223\n",
      "[LightGBM] [Info] Number of data points in the train set: 10464, number of used features: 12\n",
      "[LightGBM] [Info] Start training from score 8983092.029817\n",
      "\n",
      "====== Models before Hyper Parameter Tuning ======\n"
     ]
    },
    {
     "data": {
      "text/html": [
       "<div>\n",
       "<style scoped>\n",
       "    .dataframe tbody tr th:only-of-type {\n",
       "        vertical-align: middle;\n",
       "    }\n",
       "\n",
       "    .dataframe tbody tr th {\n",
       "        vertical-align: top;\n",
       "    }\n",
       "\n",
       "    .dataframe thead th {\n",
       "        text-align: right;\n",
       "    }\n",
       "</style>\n",
       "<table border=\"1\" class=\"dataframe\">\n",
       "  <thead>\n",
       "    <tr style=\"text-align: right;\">\n",
       "      <th></th>\n",
       "      <th>Model</th>\n",
       "      <th>MAE</th>\n",
       "      <th>MSE</th>\n",
       "      <th>RMSE</th>\n",
       "      <th>RMSLE</th>\n",
       "      <th>R2 Score</th>\n",
       "    </tr>\n",
       "  </thead>\n",
       "  <tbody>\n",
       "    <tr>\n",
       "      <th>0</th>\n",
       "      <td>Random Forest</td>\n",
       "      <td>4260576.54</td>\n",
       "      <td>85890228835744.86</td>\n",
       "      <td>9267698.14</td>\n",
       "      <td>0.66</td>\n",
       "      <td>0.68</td>\n",
       "    </tr>\n",
       "    <tr>\n",
       "      <th>1</th>\n",
       "      <td>LightGBM</td>\n",
       "      <td>4070437.79</td>\n",
       "      <td>71842829883911.94</td>\n",
       "      <td>8476014.98</td>\n",
       "      <td>0.69</td>\n",
       "      <td>0.74</td>\n",
       "    </tr>\n",
       "    <tr>\n",
       "      <th>2</th>\n",
       "      <td>XGBoost</td>\n",
       "      <td>4226006.96</td>\n",
       "      <td>76487732011795.14</td>\n",
       "      <td>8745726.50</td>\n",
       "      <td>0.75</td>\n",
       "      <td>0.72</td>\n",
       "    </tr>\n",
       "    <tr>\n",
       "      <th>3</th>\n",
       "      <td>CatBoost</td>\n",
       "      <td>4599038.41</td>\n",
       "      <td>85747317567412.42</td>\n",
       "      <td>9259984.75</td>\n",
       "      <td>0.84</td>\n",
       "      <td>0.68</td>\n",
       "    </tr>\n",
       "    <tr>\n",
       "      <th>4</th>\n",
       "      <td>Decision Tree</td>\n",
       "      <td>5435590.75</td>\n",
       "      <td>116240856378424.66</td>\n",
       "      <td>10781505.29</td>\n",
       "      <td>0.92</td>\n",
       "      <td>0.57</td>\n",
       "    </tr>\n",
       "    <tr>\n",
       "      <th>5</th>\n",
       "      <td>Linear Regression</td>\n",
       "      <td>5368901.98</td>\n",
       "      <td>94494793448251.48</td>\n",
       "      <td>9720843.25</td>\n",
       "      <td>0.97</td>\n",
       "      <td>0.65</td>\n",
       "    </tr>\n",
       "  </tbody>\n",
       "</table>\n",
       "</div>"
      ],
      "text/plain": [
       "               Model         MAE                 MSE         RMSE RMSLE  \\\n",
       "0      Random Forest  4260576.54   85890228835744.86   9267698.14  0.66   \n",
       "1           LightGBM  4070437.79   71842829883911.94   8476014.98  0.69   \n",
       "2            XGBoost  4226006.96   76487732011795.14   8745726.50  0.75   \n",
       "3           CatBoost  4599038.41   85747317567412.42   9259984.75  0.84   \n",
       "4      Decision Tree  5435590.75  116240856378424.66  10781505.29  0.92   \n",
       "5  Linear Regression  5368901.98   94494793448251.48   9720843.25  0.97   \n",
       "\n",
       "  R2 Score  \n",
       "0     0.68  \n",
       "1     0.74  \n",
       "2     0.72  \n",
       "3     0.68  \n",
       "4     0.57  \n",
       "5     0.65  "
      ]
     },
     "execution_count": 26,
     "metadata": {},
     "output_type": "execute_result"
    }
   ],
   "source": [
    "model_list2(models)"
   ]
  },
  {
   "cell_type": "markdown",
   "metadata": {},
   "source": [
    "#### `CatBoost` 성능 비교\n",
    "- 별도로 `Target Encoding` 거친 데이터셋으로 진행(`model_list` 함수)한 `CatBoost`가 더 낮은 `RMSLE` 기록\n",
    "\n",
    "    - **0.73 vs 0.84** (Target Encoding 실행한 데이터셋으로 진행)"
   ]
  },
  {
   "cell_type": "markdown",
   "metadata": {},
   "source": [
    "### 하이퍼 파라미터 튜닝\n",
    "- `RMSLE`가 높은 `Random Forest`, `CatBoost`, `LightGBM`, `XGBoost` 을 갖고 하이퍼 파라미터 튜닝\n",
    "    - Baseline 모델인 `Linear Regression`의 `RMSLE`보다 낮다 (0.98)\n",
    "\n",
    "- `optuna` 활용\n",
    "    - References : https://forecastegy.com/posts/xgboost-hyperparameter-tuning-with-optuna/\n"
   ]
  },
  {
   "cell_type": "code",
   "execution_count": 27,
   "metadata": {},
   "outputs": [],
   "source": [
    "# optuna sampling seed 고정\n",
    "sampler = TPESampler(seed=42)"
   ]
  },
  {
   "cell_type": "markdown",
   "metadata": {},
   "source": [
    "#### `Random Forest`"
   ]
  },
  {
   "cell_type": "code",
   "execution_count": 28,
   "metadata": {},
   "outputs": [],
   "source": [
    "def objective_rf(trial):\n",
    "    params = {\n",
    "        # \"iterations\": 1000,\n",
    "        \"n_estimators\" : trial.suggest_int('n_estimators', 500, 4000),\n",
    "        # \"learning_rate\": trial.suggest_float(\"learning_rate\", 1e-3, 0.1, log=True),\n",
    "        \"max_depth\": trial.suggest_int(\"max_depth\", 1, 10),\n",
    "        \"max_samples\": trial.suggest_float(\"max_samples\", 0.05, 1.0),\n",
    "        \"max_features\": trial.suggest_float(\"max_features\", 0.05, 1.0),\n",
    "        \"min_weight_fraction_leaf\": trial.suggest_int(\"min_weight_fraction_leaf\", 0.05, 0.5),\n",
    "    }\n",
    "\n",
    "    model = RandomForestRegressor(**params, random_state=42)\n",
    "    model.fit(X_train, y_train)\n",
    "    predictions = model.predict(X_test)\n",
    "    rmsle = get_rmsle(y_test, predictions)\n",
    "\n",
    "    return rmsle"
   ]
  },
  {
   "cell_type": "code",
   "execution_count": 29,
   "metadata": {},
   "outputs": [
    {
     "name": "stderr",
     "output_type": "stream",
     "text": [
      "[I 2024-04-03 16:08:43,831] A new study created in memory with name: no-name-0714ef35-acd5-4ac4-8ce3-4face9adf019\n",
      "[I 2024-04-03 16:09:14,321] Trial 0 finished with value: 0.6978527444968923 and parameters: {'n_estimators': 1811, 'max_depth': 10, 'max_samples': 0.7453942447208348, 'max_features': 0.6187255599871848, 'min_weight_fraction_leaf': 0}. Best is trial 0 with value: 0.6978527444968923.\n",
      "[I 2024-04-03 16:09:16,398] Trial 1 finished with value: 1.1605098296382979 and parameters: {'n_estimators': 1046, 'max_depth': 2, 'max_samples': 0.10517943155978948, 'max_features': 0.8728673384861885, 'min_weight_fraction_leaf': 0}. Best is trial 0 with value: 0.6978527444968923.\n",
      "[I 2024-04-03 16:09:26,630] Trial 2 finished with value: 0.7730575932400261 and parameters: {'n_estimators': 2604, 'max_depth': 8, 'max_samples': 0.06955526958101232, 'max_features': 0.9714143595538947, 'min_weight_fraction_leaf': 0}. Best is trial 0 with value: 0.6978527444968923.\n",
      "[I 2024-04-03 16:09:32,331] Trial 3 finished with value: 1.2044210474516108 and parameters: {'n_estimators': 3414, 'max_depth': 3, 'max_samples': 0.2227337188467456, 'max_features': 0.22423428436076215, 'min_weight_fraction_leaf': 0}. Best is trial 0 with value: 0.6978527444968923.\n",
      "[I 2024-04-03 16:09:38,718] Trial 4 finished with value: 0.9136931592040093 and parameters: {'n_estimators': 1565, 'max_depth': 6, 'max_samples': 0.46034776771000996, 'max_features': 0.32666768318813977, 'min_weight_fraction_leaf': 0}. Best is trial 0 with value: 0.6978527444968923.\n",
      "[I 2024-04-03 16:09:44,197] Trial 5 finished with value: 1.2157907512987685 and parameters: {'n_estimators': 2642, 'max_depth': 2, 'max_samples': 0.3275374161084572, 'max_features': 0.3980437511290071, 'min_weight_fraction_leaf': 0}. Best is trial 0 with value: 0.6978527444968923.\n",
      "[I 2024-04-03 16:09:56,245] Trial 6 finished with value: 0.761389979174503 and parameters: {'n_estimators': 2096, 'max_depth': 8, 'max_samples': 0.23969009305044175, 'max_features': 0.538522716492931, 'min_weight_fraction_leaf': 0}. Best is trial 0 with value: 0.6978527444968923.\n",
      "[I 2024-04-03 16:10:00,366] Trial 7 finished with value: 1.4359264333517379 and parameters: {'n_estimators': 2574, 'max_depth': 1, 'max_samples': 0.6271676093063665, 'max_features': 0.21199791750292696, 'min_weight_fraction_leaf': 0}. Best is trial 0 with value: 0.6978527444968923.\n",
      "[I 2024-04-03 16:10:17,875] Trial 8 finished with value: 0.6955717508587805 and parameters: {'n_estimators': 727, 'max_depth': 10, 'max_samples': 0.9673504314208314, 'max_features': 0.8179774807106381, 'min_weight_fraction_leaf': 0}. Best is trial 8 with value: 0.6955717508587805.\n",
      "[I 2024-04-03 16:10:21,313] Trial 9 finished with value: 1.3589890725322835 and parameters: {'n_estimators': 1566, 'max_depth': 1, 'max_samples': 0.700021375186549, 'max_features': 0.4681448690526212, 'min_weight_fraction_leaf': 0}. Best is trial 8 with value: 0.6955717508587805.\n",
      "[I 2024-04-03 16:10:33,799] Trial 10 finished with value: 0.6945493661744089 and parameters: {'n_estimators': 571, 'max_depth': 10, 'max_samples': 0.9710602552484724, 'max_features': 0.7241578540621256, 'min_weight_fraction_leaf': 0}. Best is trial 10 with value: 0.6945493661744089.\n",
      "[I 2024-04-03 16:10:47,269] Trial 11 finished with value: 0.6965380172291568 and parameters: {'n_estimators': 550, 'max_depth': 10, 'max_samples': 0.9877470050017445, 'max_features': 0.7730149086140286, 'min_weight_fraction_leaf': 0}. Best is trial 10 with value: 0.6945493661744089.\n",
      "[I 2024-04-03 16:10:58,148] Trial 12 finished with value: 0.7468875498957414 and parameters: {'n_estimators': 620, 'max_depth': 8, 'max_samples': 0.9958189832729274, 'max_features': 0.7122981034230897, 'min_weight_fraction_leaf': 0}. Best is trial 10 with value: 0.6945493661744089.\n",
      "[I 2024-04-03 16:11:13,420] Trial 13 finished with value: 0.8306261314882823 and parameters: {'n_estimators': 1122, 'max_depth': 6, 'max_samples': 0.8592017570486442, 'max_features': 0.7844081697570752, 'min_weight_fraction_leaf': 0}. Best is trial 10 with value: 0.6945493661744089.\n",
      "[I 2024-04-03 16:11:41,885] Trial 14 finished with value: 0.6982267646417615 and parameters: {'n_estimators': 1060, 'max_depth': 10, 'max_samples': 0.8411074694429032, 'max_features': 0.9506045263223886, 'min_weight_fraction_leaf': 0}. Best is trial 10 with value: 0.6945493661744089.\n",
      "[I 2024-04-03 16:12:27,093] Trial 15 finished with value: 0.7218277025934516 and parameters: {'n_estimators': 3692, 'max_depth': 9, 'max_samples': 0.5304235516830894, 'max_features': 0.6203018980758642, 'min_weight_fraction_leaf': 0}. Best is trial 10 with value: 0.6945493661744089.\n",
      "[I 2024-04-03 16:12:33,975] Trial 16 finished with value: 0.8993776323941247 and parameters: {'n_estimators': 553, 'max_depth': 5, 'max_samples': 0.8541797069829905, 'max_features': 0.8441181159437556, 'min_weight_fraction_leaf': 0}. Best is trial 10 with value: 0.6945493661744089.\n",
      "[I 2024-04-03 16:12:51,449] Trial 17 finished with value: 0.7837147163366748 and parameters: {'n_estimators': 1182, 'max_depth': 7, 'max_samples': 0.9219674896800434, 'max_features': 0.6806989823159653, 'min_weight_fraction_leaf': 0}. Best is trial 10 with value: 0.6945493661744089.\n",
      "[I 2024-04-03 16:12:56,467] Trial 18 finished with value: 0.9940873930711216 and parameters: {'n_estimators': 824, 'max_depth': 4, 'max_samples': 0.7124629227269117, 'max_features': 0.5282302968425623, 'min_weight_fraction_leaf': 0}. Best is trial 10 with value: 0.6945493661744089.\n",
      "[I 2024-04-03 16:13:47,607] Trial 19 finished with value: 0.7222246733286473 and parameters: {'n_estimators': 3055, 'max_depth': 9, 'max_samples': 0.5363917149889487, 'max_features': 0.8734946637544629, 'min_weight_fraction_leaf': 0}. Best is trial 10 with value: 0.6945493661744089.\n",
      "[I 2024-04-03 16:14:12,829] Trial 20 finished with value: 0.7176070769609221 and parameters: {'n_estimators': 1425, 'max_depth': 9, 'max_samples': 0.8135445767083023, 'max_features': 0.7054857006322659, 'min_weight_fraction_leaf': 0}. Best is trial 10 with value: 0.6945493661744089.\n",
      "[I 2024-04-03 16:14:28,436] Trial 21 finished with value: 0.6965297778715945 and parameters: {'n_estimators': 631, 'max_depth': 10, 'max_samples': 0.997411579172022, 'max_features': 0.7757097812551539, 'min_weight_fraction_leaf': 0}. Best is trial 10 with value: 0.6945493661744089.\n",
      "[I 2024-04-03 16:14:48,525] Trial 22 finished with value: 0.6960575985091378 and parameters: {'n_estimators': 843, 'max_depth': 10, 'max_samples': 0.9434154937220007, 'max_features': 0.7846455471944277, 'min_weight_fraction_leaf': 0}. Best is trial 10 with value: 0.6945493661744089.\n",
      "[I 2024-04-03 16:14:52,010] Trial 23 finished with value: 0.9969602149047238 and parameters: {'n_estimators': 847, 'max_depth': 9, 'max_samples': 0.9155564782068875, 'max_features': 0.06986788815923367, 'min_weight_fraction_leaf': 0}. Best is trial 10 with value: 0.6945493661744089.\n",
      "[I 2024-04-03 16:15:15,470] Trial 24 finished with value: 0.78610487536332 and parameters: {'n_estimators': 1970, 'max_depth': 7, 'max_samples': 0.7755600251691103, 'max_features': 0.6332174877582326, 'min_weight_fraction_leaf': 0}. Best is trial 10 with value: 0.6945493661744089.\n",
      "[I 2024-04-03 16:15:48,488] Trial 25 finished with value: 0.6964271173650903 and parameters: {'n_estimators': 1281, 'max_depth': 10, 'max_samples': 0.9151174360403186, 'max_features': 0.836532774508487, 'min_weight_fraction_leaf': 0}. Best is trial 10 with value: 0.6945493661744089.\n",
      "[I 2024-04-03 16:16:02,162] Trial 26 finished with value: 0.7916339384732146 and parameters: {'n_estimators': 844, 'max_depth': 7, 'max_samples': 0.6643634104982692, 'max_features': 0.9306347108281664, 'min_weight_fraction_leaf': 0}. Best is trial 10 with value: 0.6945493661744089.\n",
      "[I 2024-04-03 16:16:39,056] Trial 27 finished with value: 0.7519568911976644 and parameters: {'n_estimators': 1663, 'max_depth': 8, 'max_samples': 0.9123614703702936, 'max_features': 0.9972828157966762, 'min_weight_fraction_leaf': 0}. Best is trial 10 with value: 0.6945493661744089.\n",
      "[I 2024-04-03 16:16:52,504] Trial 28 finished with value: 0.7207451948345479 and parameters: {'n_estimators': 819, 'max_depth': 9, 'max_samples': 0.5973935282352705, 'max_features': 0.7554470427300547, 'min_weight_fraction_leaf': 0}. Best is trial 10 with value: 0.6945493661744089.\n",
      "[I 2024-04-03 16:17:31,854] Trial 29 finished with value: 0.6974048604616961 and parameters: {'n_estimators': 2331, 'max_depth': 10, 'max_samples': 0.7551611908397182, 'max_features': 0.6071058216329671, 'min_weight_fraction_leaf': 0}. Best is trial 10 with value: 0.6945493661744089.\n"
     ]
    }
   ],
   "source": [
    "study_rf = optuna.create_study(direction='minimize', sampler=sampler)\n",
    "study_rf.optimize(objective_rf, n_trials=30)"
   ]
  },
  {
   "cell_type": "code",
   "execution_count": 30,
   "metadata": {},
   "outputs": [
    {
     "name": "stdout",
     "output_type": "stream",
     "text": [
      "Best hyperparameters:\n",
      "{'n_estimators': 571, 'max_depth': 10, 'max_samples': 0.9710602552484724, 'max_features': 0.7241578540621256, 'min_weight_fraction_leaf': 0}\n",
      "-----------------------------------------------------------------------------------------------------------------\n",
      "Best RMSLE:\n",
      "0.6945493661744089\n"
     ]
    }
   ],
   "source": [
    "print(\"Best hyperparameters:\", study_rf.best_params, sep=\"\\n\")\n",
    "print(\"-----------------------------------------------------------------------------------------------------------------\")\n",
    "print(\"Best RMSLE:\", study_rf.best_value, sep=\"\\n\")"
   ]
  },
  {
   "cell_type": "code",
   "execution_count": 31,
   "metadata": {},
   "outputs": [
    {
     "data": {
      "application/vnd.plotly.v1+json": {
       "config": {
        "plotlyServerURL": "https://plot.ly"
       },
       "data": [
        {
         "cliponaxis": false,
         "hovertemplate": [
          "min_weight_fraction_leaf (IntDistribution): 0.0<extra></extra>",
          "n_estimators (IntDistribution): 0.008593401145484798<extra></extra>",
          "max_samples (FloatDistribution): 0.008804661094423669<extra></extra>",
          "max_features (FloatDistribution): 0.1751557391999176<extra></extra>",
          "max_depth (IntDistribution): 0.807446198560174<extra></extra>"
         ],
         "name": "Objective Value",
         "orientation": "h",
         "text": [
          "<0.01",
          "<0.01",
          "<0.01",
          "0.18",
          "0.81"
         ],
         "textposition": "outside",
         "type": "bar",
         "x": [
          0,
          0.008593401145484798,
          0.008804661094423669,
          0.1751557391999176,
          0.807446198560174
         ],
         "y": [
          "min_weight_fraction_leaf",
          "n_estimators",
          "max_samples",
          "max_features",
          "max_depth"
         ]
        }
       ],
       "layout": {
        "template": {
         "data": {
          "bar": [
           {
            "error_x": {
             "color": "#2a3f5f"
            },
            "error_y": {
             "color": "#2a3f5f"
            },
            "marker": {
             "line": {
              "color": "#E5ECF6",
              "width": 0.5
             },
             "pattern": {
              "fillmode": "overlay",
              "size": 10,
              "solidity": 0.2
             }
            },
            "type": "bar"
           }
          ],
          "barpolar": [
           {
            "marker": {
             "line": {
              "color": "#E5ECF6",
              "width": 0.5
             },
             "pattern": {
              "fillmode": "overlay",
              "size": 10,
              "solidity": 0.2
             }
            },
            "type": "barpolar"
           }
          ],
          "carpet": [
           {
            "aaxis": {
             "endlinecolor": "#2a3f5f",
             "gridcolor": "white",
             "linecolor": "white",
             "minorgridcolor": "white",
             "startlinecolor": "#2a3f5f"
            },
            "baxis": {
             "endlinecolor": "#2a3f5f",
             "gridcolor": "white",
             "linecolor": "white",
             "minorgridcolor": "white",
             "startlinecolor": "#2a3f5f"
            },
            "type": "carpet"
           }
          ],
          "choropleth": [
           {
            "colorbar": {
             "outlinewidth": 0,
             "ticks": ""
            },
            "type": "choropleth"
           }
          ],
          "contour": [
           {
            "colorbar": {
             "outlinewidth": 0,
             "ticks": ""
            },
            "colorscale": [
             [
              0,
              "#0d0887"
             ],
             [
              0.1111111111111111,
              "#46039f"
             ],
             [
              0.2222222222222222,
              "#7201a8"
             ],
             [
              0.3333333333333333,
              "#9c179e"
             ],
             [
              0.4444444444444444,
              "#bd3786"
             ],
             [
              0.5555555555555556,
              "#d8576b"
             ],
             [
              0.6666666666666666,
              "#ed7953"
             ],
             [
              0.7777777777777778,
              "#fb9f3a"
             ],
             [
              0.8888888888888888,
              "#fdca26"
             ],
             [
              1,
              "#f0f921"
             ]
            ],
            "type": "contour"
           }
          ],
          "contourcarpet": [
           {
            "colorbar": {
             "outlinewidth": 0,
             "ticks": ""
            },
            "type": "contourcarpet"
           }
          ],
          "heatmap": [
           {
            "colorbar": {
             "outlinewidth": 0,
             "ticks": ""
            },
            "colorscale": [
             [
              0,
              "#0d0887"
             ],
             [
              0.1111111111111111,
              "#46039f"
             ],
             [
              0.2222222222222222,
              "#7201a8"
             ],
             [
              0.3333333333333333,
              "#9c179e"
             ],
             [
              0.4444444444444444,
              "#bd3786"
             ],
             [
              0.5555555555555556,
              "#d8576b"
             ],
             [
              0.6666666666666666,
              "#ed7953"
             ],
             [
              0.7777777777777778,
              "#fb9f3a"
             ],
             [
              0.8888888888888888,
              "#fdca26"
             ],
             [
              1,
              "#f0f921"
             ]
            ],
            "type": "heatmap"
           }
          ],
          "heatmapgl": [
           {
            "colorbar": {
             "outlinewidth": 0,
             "ticks": ""
            },
            "colorscale": [
             [
              0,
              "#0d0887"
             ],
             [
              0.1111111111111111,
              "#46039f"
             ],
             [
              0.2222222222222222,
              "#7201a8"
             ],
             [
              0.3333333333333333,
              "#9c179e"
             ],
             [
              0.4444444444444444,
              "#bd3786"
             ],
             [
              0.5555555555555556,
              "#d8576b"
             ],
             [
              0.6666666666666666,
              "#ed7953"
             ],
             [
              0.7777777777777778,
              "#fb9f3a"
             ],
             [
              0.8888888888888888,
              "#fdca26"
             ],
             [
              1,
              "#f0f921"
             ]
            ],
            "type": "heatmapgl"
           }
          ],
          "histogram": [
           {
            "marker": {
             "pattern": {
              "fillmode": "overlay",
              "size": 10,
              "solidity": 0.2
             }
            },
            "type": "histogram"
           }
          ],
          "histogram2d": [
           {
            "colorbar": {
             "outlinewidth": 0,
             "ticks": ""
            },
            "colorscale": [
             [
              0,
              "#0d0887"
             ],
             [
              0.1111111111111111,
              "#46039f"
             ],
             [
              0.2222222222222222,
              "#7201a8"
             ],
             [
              0.3333333333333333,
              "#9c179e"
             ],
             [
              0.4444444444444444,
              "#bd3786"
             ],
             [
              0.5555555555555556,
              "#d8576b"
             ],
             [
              0.6666666666666666,
              "#ed7953"
             ],
             [
              0.7777777777777778,
              "#fb9f3a"
             ],
             [
              0.8888888888888888,
              "#fdca26"
             ],
             [
              1,
              "#f0f921"
             ]
            ],
            "type": "histogram2d"
           }
          ],
          "histogram2dcontour": [
           {
            "colorbar": {
             "outlinewidth": 0,
             "ticks": ""
            },
            "colorscale": [
             [
              0,
              "#0d0887"
             ],
             [
              0.1111111111111111,
              "#46039f"
             ],
             [
              0.2222222222222222,
              "#7201a8"
             ],
             [
              0.3333333333333333,
              "#9c179e"
             ],
             [
              0.4444444444444444,
              "#bd3786"
             ],
             [
              0.5555555555555556,
              "#d8576b"
             ],
             [
              0.6666666666666666,
              "#ed7953"
             ],
             [
              0.7777777777777778,
              "#fb9f3a"
             ],
             [
              0.8888888888888888,
              "#fdca26"
             ],
             [
              1,
              "#f0f921"
             ]
            ],
            "type": "histogram2dcontour"
           }
          ],
          "mesh3d": [
           {
            "colorbar": {
             "outlinewidth": 0,
             "ticks": ""
            },
            "type": "mesh3d"
           }
          ],
          "parcoords": [
           {
            "line": {
             "colorbar": {
              "outlinewidth": 0,
              "ticks": ""
             }
            },
            "type": "parcoords"
           }
          ],
          "pie": [
           {
            "automargin": true,
            "type": "pie"
           }
          ],
          "scatter": [
           {
            "fillpattern": {
             "fillmode": "overlay",
             "size": 10,
             "solidity": 0.2
            },
            "type": "scatter"
           }
          ],
          "scatter3d": [
           {
            "line": {
             "colorbar": {
              "outlinewidth": 0,
              "ticks": ""
             }
            },
            "marker": {
             "colorbar": {
              "outlinewidth": 0,
              "ticks": ""
             }
            },
            "type": "scatter3d"
           }
          ],
          "scattercarpet": [
           {
            "marker": {
             "colorbar": {
              "outlinewidth": 0,
              "ticks": ""
             }
            },
            "type": "scattercarpet"
           }
          ],
          "scattergeo": [
           {
            "marker": {
             "colorbar": {
              "outlinewidth": 0,
              "ticks": ""
             }
            },
            "type": "scattergeo"
           }
          ],
          "scattergl": [
           {
            "marker": {
             "colorbar": {
              "outlinewidth": 0,
              "ticks": ""
             }
            },
            "type": "scattergl"
           }
          ],
          "scattermapbox": [
           {
            "marker": {
             "colorbar": {
              "outlinewidth": 0,
              "ticks": ""
             }
            },
            "type": "scattermapbox"
           }
          ],
          "scatterpolar": [
           {
            "marker": {
             "colorbar": {
              "outlinewidth": 0,
              "ticks": ""
             }
            },
            "type": "scatterpolar"
           }
          ],
          "scatterpolargl": [
           {
            "marker": {
             "colorbar": {
              "outlinewidth": 0,
              "ticks": ""
             }
            },
            "type": "scatterpolargl"
           }
          ],
          "scatterternary": [
           {
            "marker": {
             "colorbar": {
              "outlinewidth": 0,
              "ticks": ""
             }
            },
            "type": "scatterternary"
           }
          ],
          "surface": [
           {
            "colorbar": {
             "outlinewidth": 0,
             "ticks": ""
            },
            "colorscale": [
             [
              0,
              "#0d0887"
             ],
             [
              0.1111111111111111,
              "#46039f"
             ],
             [
              0.2222222222222222,
              "#7201a8"
             ],
             [
              0.3333333333333333,
              "#9c179e"
             ],
             [
              0.4444444444444444,
              "#bd3786"
             ],
             [
              0.5555555555555556,
              "#d8576b"
             ],
             [
              0.6666666666666666,
              "#ed7953"
             ],
             [
              0.7777777777777778,
              "#fb9f3a"
             ],
             [
              0.8888888888888888,
              "#fdca26"
             ],
             [
              1,
              "#f0f921"
             ]
            ],
            "type": "surface"
           }
          ],
          "table": [
           {
            "cells": {
             "fill": {
              "color": "#EBF0F8"
             },
             "line": {
              "color": "white"
             }
            },
            "header": {
             "fill": {
              "color": "#C8D4E3"
             },
             "line": {
              "color": "white"
             }
            },
            "type": "table"
           }
          ]
         },
         "layout": {
          "annotationdefaults": {
           "arrowcolor": "#2a3f5f",
           "arrowhead": 0,
           "arrowwidth": 1
          },
          "autotypenumbers": "strict",
          "coloraxis": {
           "colorbar": {
            "outlinewidth": 0,
            "ticks": ""
           }
          },
          "colorscale": {
           "diverging": [
            [
             0,
             "#8e0152"
            ],
            [
             0.1,
             "#c51b7d"
            ],
            [
             0.2,
             "#de77ae"
            ],
            [
             0.3,
             "#f1b6da"
            ],
            [
             0.4,
             "#fde0ef"
            ],
            [
             0.5,
             "#f7f7f7"
            ],
            [
             0.6,
             "#e6f5d0"
            ],
            [
             0.7,
             "#b8e186"
            ],
            [
             0.8,
             "#7fbc41"
            ],
            [
             0.9,
             "#4d9221"
            ],
            [
             1,
             "#276419"
            ]
           ],
           "sequential": [
            [
             0,
             "#0d0887"
            ],
            [
             0.1111111111111111,
             "#46039f"
            ],
            [
             0.2222222222222222,
             "#7201a8"
            ],
            [
             0.3333333333333333,
             "#9c179e"
            ],
            [
             0.4444444444444444,
             "#bd3786"
            ],
            [
             0.5555555555555556,
             "#d8576b"
            ],
            [
             0.6666666666666666,
             "#ed7953"
            ],
            [
             0.7777777777777778,
             "#fb9f3a"
            ],
            [
             0.8888888888888888,
             "#fdca26"
            ],
            [
             1,
             "#f0f921"
            ]
           ],
           "sequentialminus": [
            [
             0,
             "#0d0887"
            ],
            [
             0.1111111111111111,
             "#46039f"
            ],
            [
             0.2222222222222222,
             "#7201a8"
            ],
            [
             0.3333333333333333,
             "#9c179e"
            ],
            [
             0.4444444444444444,
             "#bd3786"
            ],
            [
             0.5555555555555556,
             "#d8576b"
            ],
            [
             0.6666666666666666,
             "#ed7953"
            ],
            [
             0.7777777777777778,
             "#fb9f3a"
            ],
            [
             0.8888888888888888,
             "#fdca26"
            ],
            [
             1,
             "#f0f921"
            ]
           ]
          },
          "colorway": [
           "#636efa",
           "#EF553B",
           "#00cc96",
           "#ab63fa",
           "#FFA15A",
           "#19d3f3",
           "#FF6692",
           "#B6E880",
           "#FF97FF",
           "#FECB52"
          ],
          "font": {
           "color": "#2a3f5f"
          },
          "geo": {
           "bgcolor": "white",
           "lakecolor": "white",
           "landcolor": "#E5ECF6",
           "showlakes": true,
           "showland": true,
           "subunitcolor": "white"
          },
          "hoverlabel": {
           "align": "left"
          },
          "hovermode": "closest",
          "mapbox": {
           "style": "light"
          },
          "paper_bgcolor": "white",
          "plot_bgcolor": "#E5ECF6",
          "polar": {
           "angularaxis": {
            "gridcolor": "white",
            "linecolor": "white",
            "ticks": ""
           },
           "bgcolor": "#E5ECF6",
           "radialaxis": {
            "gridcolor": "white",
            "linecolor": "white",
            "ticks": ""
           }
          },
          "scene": {
           "xaxis": {
            "backgroundcolor": "#E5ECF6",
            "gridcolor": "white",
            "gridwidth": 2,
            "linecolor": "white",
            "showbackground": true,
            "ticks": "",
            "zerolinecolor": "white"
           },
           "yaxis": {
            "backgroundcolor": "#E5ECF6",
            "gridcolor": "white",
            "gridwidth": 2,
            "linecolor": "white",
            "showbackground": true,
            "ticks": "",
            "zerolinecolor": "white"
           },
           "zaxis": {
            "backgroundcolor": "#E5ECF6",
            "gridcolor": "white",
            "gridwidth": 2,
            "linecolor": "white",
            "showbackground": true,
            "ticks": "",
            "zerolinecolor": "white"
           }
          },
          "shapedefaults": {
           "line": {
            "color": "#2a3f5f"
           }
          },
          "ternary": {
           "aaxis": {
            "gridcolor": "white",
            "linecolor": "white",
            "ticks": ""
           },
           "baxis": {
            "gridcolor": "white",
            "linecolor": "white",
            "ticks": ""
           },
           "bgcolor": "#E5ECF6",
           "caxis": {
            "gridcolor": "white",
            "linecolor": "white",
            "ticks": ""
           }
          },
          "title": {
           "x": 0.05
          },
          "xaxis": {
           "automargin": true,
           "gridcolor": "white",
           "linecolor": "white",
           "ticks": "",
           "title": {
            "standoff": 15
           },
           "zerolinecolor": "white",
           "zerolinewidth": 2
          },
          "yaxis": {
           "automargin": true,
           "gridcolor": "white",
           "linecolor": "white",
           "ticks": "",
           "title": {
            "standoff": 15
           },
           "zerolinecolor": "white",
           "zerolinewidth": 2
          }
         }
        },
        "title": {
         "text": "Hyperparameter Importances"
        },
        "xaxis": {
         "title": {
          "text": "Hyperparameter Importance"
         }
        },
        "yaxis": {
         "title": {
          "text": "Hyperparameter"
         }
        }
       }
      }
     },
     "metadata": {},
     "output_type": "display_data"
    }
   ],
   "source": [
    "# 하이퍼파라미터별 중요도를 확인할 수 있는 그래프\n",
    "optuna.visualization.plot_param_importances(study_rf)"
   ]
  },
  {
   "cell_type": "code",
   "execution_count": 32,
   "metadata": {},
   "outputs": [
    {
     "data": {
      "application/vnd.plotly.v1+json": {
       "config": {
        "plotlyServerURL": "https://plot.ly"
       },
       "data": [
        {
         "mode": "markers",
         "name": "Objective Value",
         "type": "scatter",
         "x": [
          0,
          1,
          2,
          3,
          4,
          5,
          6,
          7,
          8,
          9,
          10,
          11,
          12,
          13,
          14,
          15,
          16,
          17,
          18,
          19,
          20,
          21,
          22,
          23,
          24,
          25,
          26,
          27,
          28,
          29
         ],
         "y": [
          0.6978527444968923,
          1.1605098296382979,
          0.7730575932400261,
          1.2044210474516108,
          0.9136931592040093,
          1.2157907512987685,
          0.761389979174503,
          1.4359264333517379,
          0.6955717508587805,
          1.3589890725322835,
          0.6945493661744089,
          0.6965380172291568,
          0.7468875498957414,
          0.8306261314882823,
          0.6982267646417615,
          0.7218277025934516,
          0.8993776323941247,
          0.7837147163366748,
          0.9940873930711216,
          0.7222246733286473,
          0.7176070769609221,
          0.6965297778715945,
          0.6960575985091378,
          0.9969602149047238,
          0.78610487536332,
          0.6964271173650903,
          0.7916339384732146,
          0.7519568911976644,
          0.7207451948345479,
          0.6974048604616961
         ]
        },
        {
         "mode": "lines",
         "name": "Best Value",
         "type": "scatter",
         "x": [
          0,
          1,
          2,
          3,
          4,
          5,
          6,
          7,
          8,
          9,
          10,
          11,
          12,
          13,
          14,
          15,
          16,
          17,
          18,
          19,
          20,
          21,
          22,
          23,
          24,
          25,
          26,
          27,
          28,
          29
         ],
         "y": [
          0.6978527444968923,
          0.6978527444968923,
          0.6978527444968923,
          0.6978527444968923,
          0.6978527444968923,
          0.6978527444968923,
          0.6978527444968923,
          0.6978527444968923,
          0.6955717508587805,
          0.6955717508587805,
          0.6945493661744089,
          0.6945493661744089,
          0.6945493661744089,
          0.6945493661744089,
          0.6945493661744089,
          0.6945493661744089,
          0.6945493661744089,
          0.6945493661744089,
          0.6945493661744089,
          0.6945493661744089,
          0.6945493661744089,
          0.6945493661744089,
          0.6945493661744089,
          0.6945493661744089,
          0.6945493661744089,
          0.6945493661744089,
          0.6945493661744089,
          0.6945493661744089,
          0.6945493661744089,
          0.6945493661744089
         ]
        },
        {
         "marker": {
          "color": "#cccccc"
         },
         "mode": "markers",
         "name": "Infeasible Trial",
         "showlegend": false,
         "type": "scatter",
         "x": [],
         "y": []
        }
       ],
       "layout": {
        "template": {
         "data": {
          "bar": [
           {
            "error_x": {
             "color": "#2a3f5f"
            },
            "error_y": {
             "color": "#2a3f5f"
            },
            "marker": {
             "line": {
              "color": "#E5ECF6",
              "width": 0.5
             },
             "pattern": {
              "fillmode": "overlay",
              "size": 10,
              "solidity": 0.2
             }
            },
            "type": "bar"
           }
          ],
          "barpolar": [
           {
            "marker": {
             "line": {
              "color": "#E5ECF6",
              "width": 0.5
             },
             "pattern": {
              "fillmode": "overlay",
              "size": 10,
              "solidity": 0.2
             }
            },
            "type": "barpolar"
           }
          ],
          "carpet": [
           {
            "aaxis": {
             "endlinecolor": "#2a3f5f",
             "gridcolor": "white",
             "linecolor": "white",
             "minorgridcolor": "white",
             "startlinecolor": "#2a3f5f"
            },
            "baxis": {
             "endlinecolor": "#2a3f5f",
             "gridcolor": "white",
             "linecolor": "white",
             "minorgridcolor": "white",
             "startlinecolor": "#2a3f5f"
            },
            "type": "carpet"
           }
          ],
          "choropleth": [
           {
            "colorbar": {
             "outlinewidth": 0,
             "ticks": ""
            },
            "type": "choropleth"
           }
          ],
          "contour": [
           {
            "colorbar": {
             "outlinewidth": 0,
             "ticks": ""
            },
            "colorscale": [
             [
              0,
              "#0d0887"
             ],
             [
              0.1111111111111111,
              "#46039f"
             ],
             [
              0.2222222222222222,
              "#7201a8"
             ],
             [
              0.3333333333333333,
              "#9c179e"
             ],
             [
              0.4444444444444444,
              "#bd3786"
             ],
             [
              0.5555555555555556,
              "#d8576b"
             ],
             [
              0.6666666666666666,
              "#ed7953"
             ],
             [
              0.7777777777777778,
              "#fb9f3a"
             ],
             [
              0.8888888888888888,
              "#fdca26"
             ],
             [
              1,
              "#f0f921"
             ]
            ],
            "type": "contour"
           }
          ],
          "contourcarpet": [
           {
            "colorbar": {
             "outlinewidth": 0,
             "ticks": ""
            },
            "type": "contourcarpet"
           }
          ],
          "heatmap": [
           {
            "colorbar": {
             "outlinewidth": 0,
             "ticks": ""
            },
            "colorscale": [
             [
              0,
              "#0d0887"
             ],
             [
              0.1111111111111111,
              "#46039f"
             ],
             [
              0.2222222222222222,
              "#7201a8"
             ],
             [
              0.3333333333333333,
              "#9c179e"
             ],
             [
              0.4444444444444444,
              "#bd3786"
             ],
             [
              0.5555555555555556,
              "#d8576b"
             ],
             [
              0.6666666666666666,
              "#ed7953"
             ],
             [
              0.7777777777777778,
              "#fb9f3a"
             ],
             [
              0.8888888888888888,
              "#fdca26"
             ],
             [
              1,
              "#f0f921"
             ]
            ],
            "type": "heatmap"
           }
          ],
          "heatmapgl": [
           {
            "colorbar": {
             "outlinewidth": 0,
             "ticks": ""
            },
            "colorscale": [
             [
              0,
              "#0d0887"
             ],
             [
              0.1111111111111111,
              "#46039f"
             ],
             [
              0.2222222222222222,
              "#7201a8"
             ],
             [
              0.3333333333333333,
              "#9c179e"
             ],
             [
              0.4444444444444444,
              "#bd3786"
             ],
             [
              0.5555555555555556,
              "#d8576b"
             ],
             [
              0.6666666666666666,
              "#ed7953"
             ],
             [
              0.7777777777777778,
              "#fb9f3a"
             ],
             [
              0.8888888888888888,
              "#fdca26"
             ],
             [
              1,
              "#f0f921"
             ]
            ],
            "type": "heatmapgl"
           }
          ],
          "histogram": [
           {
            "marker": {
             "pattern": {
              "fillmode": "overlay",
              "size": 10,
              "solidity": 0.2
             }
            },
            "type": "histogram"
           }
          ],
          "histogram2d": [
           {
            "colorbar": {
             "outlinewidth": 0,
             "ticks": ""
            },
            "colorscale": [
             [
              0,
              "#0d0887"
             ],
             [
              0.1111111111111111,
              "#46039f"
             ],
             [
              0.2222222222222222,
              "#7201a8"
             ],
             [
              0.3333333333333333,
              "#9c179e"
             ],
             [
              0.4444444444444444,
              "#bd3786"
             ],
             [
              0.5555555555555556,
              "#d8576b"
             ],
             [
              0.6666666666666666,
              "#ed7953"
             ],
             [
              0.7777777777777778,
              "#fb9f3a"
             ],
             [
              0.8888888888888888,
              "#fdca26"
             ],
             [
              1,
              "#f0f921"
             ]
            ],
            "type": "histogram2d"
           }
          ],
          "histogram2dcontour": [
           {
            "colorbar": {
             "outlinewidth": 0,
             "ticks": ""
            },
            "colorscale": [
             [
              0,
              "#0d0887"
             ],
             [
              0.1111111111111111,
              "#46039f"
             ],
             [
              0.2222222222222222,
              "#7201a8"
             ],
             [
              0.3333333333333333,
              "#9c179e"
             ],
             [
              0.4444444444444444,
              "#bd3786"
             ],
             [
              0.5555555555555556,
              "#d8576b"
             ],
             [
              0.6666666666666666,
              "#ed7953"
             ],
             [
              0.7777777777777778,
              "#fb9f3a"
             ],
             [
              0.8888888888888888,
              "#fdca26"
             ],
             [
              1,
              "#f0f921"
             ]
            ],
            "type": "histogram2dcontour"
           }
          ],
          "mesh3d": [
           {
            "colorbar": {
             "outlinewidth": 0,
             "ticks": ""
            },
            "type": "mesh3d"
           }
          ],
          "parcoords": [
           {
            "line": {
             "colorbar": {
              "outlinewidth": 0,
              "ticks": ""
             }
            },
            "type": "parcoords"
           }
          ],
          "pie": [
           {
            "automargin": true,
            "type": "pie"
           }
          ],
          "scatter": [
           {
            "fillpattern": {
             "fillmode": "overlay",
             "size": 10,
             "solidity": 0.2
            },
            "type": "scatter"
           }
          ],
          "scatter3d": [
           {
            "line": {
             "colorbar": {
              "outlinewidth": 0,
              "ticks": ""
             }
            },
            "marker": {
             "colorbar": {
              "outlinewidth": 0,
              "ticks": ""
             }
            },
            "type": "scatter3d"
           }
          ],
          "scattercarpet": [
           {
            "marker": {
             "colorbar": {
              "outlinewidth": 0,
              "ticks": ""
             }
            },
            "type": "scattercarpet"
           }
          ],
          "scattergeo": [
           {
            "marker": {
             "colorbar": {
              "outlinewidth": 0,
              "ticks": ""
             }
            },
            "type": "scattergeo"
           }
          ],
          "scattergl": [
           {
            "marker": {
             "colorbar": {
              "outlinewidth": 0,
              "ticks": ""
             }
            },
            "type": "scattergl"
           }
          ],
          "scattermapbox": [
           {
            "marker": {
             "colorbar": {
              "outlinewidth": 0,
              "ticks": ""
             }
            },
            "type": "scattermapbox"
           }
          ],
          "scatterpolar": [
           {
            "marker": {
             "colorbar": {
              "outlinewidth": 0,
              "ticks": ""
             }
            },
            "type": "scatterpolar"
           }
          ],
          "scatterpolargl": [
           {
            "marker": {
             "colorbar": {
              "outlinewidth": 0,
              "ticks": ""
             }
            },
            "type": "scatterpolargl"
           }
          ],
          "scatterternary": [
           {
            "marker": {
             "colorbar": {
              "outlinewidth": 0,
              "ticks": ""
             }
            },
            "type": "scatterternary"
           }
          ],
          "surface": [
           {
            "colorbar": {
             "outlinewidth": 0,
             "ticks": ""
            },
            "colorscale": [
             [
              0,
              "#0d0887"
             ],
             [
              0.1111111111111111,
              "#46039f"
             ],
             [
              0.2222222222222222,
              "#7201a8"
             ],
             [
              0.3333333333333333,
              "#9c179e"
             ],
             [
              0.4444444444444444,
              "#bd3786"
             ],
             [
              0.5555555555555556,
              "#d8576b"
             ],
             [
              0.6666666666666666,
              "#ed7953"
             ],
             [
              0.7777777777777778,
              "#fb9f3a"
             ],
             [
              0.8888888888888888,
              "#fdca26"
             ],
             [
              1,
              "#f0f921"
             ]
            ],
            "type": "surface"
           }
          ],
          "table": [
           {
            "cells": {
             "fill": {
              "color": "#EBF0F8"
             },
             "line": {
              "color": "white"
             }
            },
            "header": {
             "fill": {
              "color": "#C8D4E3"
             },
             "line": {
              "color": "white"
             }
            },
            "type": "table"
           }
          ]
         },
         "layout": {
          "annotationdefaults": {
           "arrowcolor": "#2a3f5f",
           "arrowhead": 0,
           "arrowwidth": 1
          },
          "autotypenumbers": "strict",
          "coloraxis": {
           "colorbar": {
            "outlinewidth": 0,
            "ticks": ""
           }
          },
          "colorscale": {
           "diverging": [
            [
             0,
             "#8e0152"
            ],
            [
             0.1,
             "#c51b7d"
            ],
            [
             0.2,
             "#de77ae"
            ],
            [
             0.3,
             "#f1b6da"
            ],
            [
             0.4,
             "#fde0ef"
            ],
            [
             0.5,
             "#f7f7f7"
            ],
            [
             0.6,
             "#e6f5d0"
            ],
            [
             0.7,
             "#b8e186"
            ],
            [
             0.8,
             "#7fbc41"
            ],
            [
             0.9,
             "#4d9221"
            ],
            [
             1,
             "#276419"
            ]
           ],
           "sequential": [
            [
             0,
             "#0d0887"
            ],
            [
             0.1111111111111111,
             "#46039f"
            ],
            [
             0.2222222222222222,
             "#7201a8"
            ],
            [
             0.3333333333333333,
             "#9c179e"
            ],
            [
             0.4444444444444444,
             "#bd3786"
            ],
            [
             0.5555555555555556,
             "#d8576b"
            ],
            [
             0.6666666666666666,
             "#ed7953"
            ],
            [
             0.7777777777777778,
             "#fb9f3a"
            ],
            [
             0.8888888888888888,
             "#fdca26"
            ],
            [
             1,
             "#f0f921"
            ]
           ],
           "sequentialminus": [
            [
             0,
             "#0d0887"
            ],
            [
             0.1111111111111111,
             "#46039f"
            ],
            [
             0.2222222222222222,
             "#7201a8"
            ],
            [
             0.3333333333333333,
             "#9c179e"
            ],
            [
             0.4444444444444444,
             "#bd3786"
            ],
            [
             0.5555555555555556,
             "#d8576b"
            ],
            [
             0.6666666666666666,
             "#ed7953"
            ],
            [
             0.7777777777777778,
             "#fb9f3a"
            ],
            [
             0.8888888888888888,
             "#fdca26"
            ],
            [
             1,
             "#f0f921"
            ]
           ]
          },
          "colorway": [
           "#636efa",
           "#EF553B",
           "#00cc96",
           "#ab63fa",
           "#FFA15A",
           "#19d3f3",
           "#FF6692",
           "#B6E880",
           "#FF97FF",
           "#FECB52"
          ],
          "font": {
           "color": "#2a3f5f"
          },
          "geo": {
           "bgcolor": "white",
           "lakecolor": "white",
           "landcolor": "#E5ECF6",
           "showlakes": true,
           "showland": true,
           "subunitcolor": "white"
          },
          "hoverlabel": {
           "align": "left"
          },
          "hovermode": "closest",
          "mapbox": {
           "style": "light"
          },
          "paper_bgcolor": "white",
          "plot_bgcolor": "#E5ECF6",
          "polar": {
           "angularaxis": {
            "gridcolor": "white",
            "linecolor": "white",
            "ticks": ""
           },
           "bgcolor": "#E5ECF6",
           "radialaxis": {
            "gridcolor": "white",
            "linecolor": "white",
            "ticks": ""
           }
          },
          "scene": {
           "xaxis": {
            "backgroundcolor": "#E5ECF6",
            "gridcolor": "white",
            "gridwidth": 2,
            "linecolor": "white",
            "showbackground": true,
            "ticks": "",
            "zerolinecolor": "white"
           },
           "yaxis": {
            "backgroundcolor": "#E5ECF6",
            "gridcolor": "white",
            "gridwidth": 2,
            "linecolor": "white",
            "showbackground": true,
            "ticks": "",
            "zerolinecolor": "white"
           },
           "zaxis": {
            "backgroundcolor": "#E5ECF6",
            "gridcolor": "white",
            "gridwidth": 2,
            "linecolor": "white",
            "showbackground": true,
            "ticks": "",
            "zerolinecolor": "white"
           }
          },
          "shapedefaults": {
           "line": {
            "color": "#2a3f5f"
           }
          },
          "ternary": {
           "aaxis": {
            "gridcolor": "white",
            "linecolor": "white",
            "ticks": ""
           },
           "baxis": {
            "gridcolor": "white",
            "linecolor": "white",
            "ticks": ""
           },
           "bgcolor": "#E5ECF6",
           "caxis": {
            "gridcolor": "white",
            "linecolor": "white",
            "ticks": ""
           }
          },
          "title": {
           "x": 0.05
          },
          "xaxis": {
           "automargin": true,
           "gridcolor": "white",
           "linecolor": "white",
           "ticks": "",
           "title": {
            "standoff": 15
           },
           "zerolinecolor": "white",
           "zerolinewidth": 2
          },
          "yaxis": {
           "automargin": true,
           "gridcolor": "white",
           "linecolor": "white",
           "ticks": "",
           "title": {
            "standoff": 15
           },
           "zerolinecolor": "white",
           "zerolinewidth": 2
          }
         }
        },
        "title": {
         "text": "Optimization History Plot"
        },
        "xaxis": {
         "title": {
          "text": "Trial"
         }
        },
        "yaxis": {
         "title": {
          "text": "Objective Value"
         }
        }
       }
      }
     },
     "metadata": {},
     "output_type": "display_data"
    }
   ],
   "source": [
    "# 하이퍼파라미터 최적화 과정을 확인\n",
    "optuna.visualization.plot_optimization_history(study_rf)"
   ]
  },
  {
   "cell_type": "code",
   "execution_count": 33,
   "metadata": {},
   "outputs": [
    {
     "name": "stdout",
     "output_type": "stream",
     "text": [
      "\n",
      "====== Models After Hyper Parameter Tuning ======\n"
     ]
    },
    {
     "data": {
      "text/html": [
       "<div>\n",
       "<style scoped>\n",
       "    .dataframe tbody tr th:only-of-type {\n",
       "        vertical-align: middle;\n",
       "    }\n",
       "\n",
       "    .dataframe tbody tr th {\n",
       "        vertical-align: top;\n",
       "    }\n",
       "\n",
       "    .dataframe thead th {\n",
       "        text-align: right;\n",
       "    }\n",
       "</style>\n",
       "<table border=\"1\" class=\"dataframe\">\n",
       "  <thead>\n",
       "    <tr style=\"text-align: right;\">\n",
       "      <th></th>\n",
       "      <th>Model</th>\n",
       "      <th>MAE</th>\n",
       "      <th>MSE</th>\n",
       "      <th>RMSE</th>\n",
       "      <th>RMSLE</th>\n",
       "      <th>R2 Score</th>\n",
       "    </tr>\n",
       "  </thead>\n",
       "  <tbody>\n",
       "    <tr>\n",
       "      <th>0</th>\n",
       "      <td>RandomForest_tuned</td>\n",
       "      <td>4325874.71</td>\n",
       "      <td>85950357374197.30</td>\n",
       "      <td>9270941.56</td>\n",
       "      <td>0.69</td>\n",
       "      <td>0.68</td>\n",
       "    </tr>\n",
       "  </tbody>\n",
       "</table>\n",
       "</div>"
      ],
      "text/plain": [
       "                Model         MAE                MSE        RMSE RMSLE  \\\n",
       "0  RandomForest_tuned  4325874.71  85950357374197.30  9270941.56  0.69   \n",
       "\n",
       "  R2 Score  \n",
       "0     0.68  "
      ]
     },
     "execution_count": 33,
     "metadata": {},
     "output_type": "execute_result"
    }
   ],
   "source": [
    "rf_optuna = RandomForestRegressor(**study_rf.best_params)\n",
    "model_list([(\"RandomForest_tuned\", rf_optuna)], \"After\")"
   ]
  },
  {
   "cell_type": "markdown",
   "metadata": {},
   "source": [
    "#### `CatBoost`"
   ]
  },
  {
   "cell_type": "code",
   "execution_count": 34,
   "metadata": {},
   "outputs": [],
   "source": [
    "def objective_cat(trial):\n",
    "    params = {\n",
    "        # \"iterations\": 1000,\n",
    "        \"iterations\" : trial.suggest_int('n_estimators', 500, 4000),\n",
    "        \"learning_rate\": trial.suggest_float(\"learning_rate\", 1e-3, 0.1, log=True),\n",
    "        \"depth\": trial.suggest_int(\"depth\", 1, 10),\n",
    "        \"subsample\": trial.suggest_float(\"subsample\", 0.05, 1.0),\n",
    "        \"colsample_bylevel\": trial.suggest_float(\"colsample_bylevel\", 0.05, 1.0),\n",
    "        \"min_data_in_leaf\": trial.suggest_int(\"min_data_in_leaf\", 1, 100),\n",
    "    }\n",
    "\n",
    "    model = CatBoostRegressor(**params, silent=True, random_state=42)\n",
    "    model.fit(X_train, y_train)\n",
    "    predictions = model.predict(X_test)\n",
    "    rmsle = get_rmsle(y_test, predictions)\n",
    "\n",
    "    return rmsle"
   ]
  },
  {
   "cell_type": "code",
   "execution_count": 35,
   "metadata": {},
   "outputs": [
    {
     "name": "stderr",
     "output_type": "stream",
     "text": [
      "[I 2024-04-03 16:17:45,794] A new study created in memory with name: no-name-9e07f5fd-738c-4ac0-bb82-68fea4d33e7b\n"
     ]
    },
    {
     "name": "stderr",
     "output_type": "stream",
     "text": [
      "[I 2024-04-03 16:17:46,847] Trial 0 finished with value: 0.9228503531820568 and parameters: {'n_estimators': 927, 'learning_rate': 0.009780337016659405, 'depth': 1, 'subsample': 0.9138543819748429, 'colsample_bylevel': 0.29584098252001606, 'min_data_in_leaf': 67}. Best is trial 0 with value: 0.9228503531820568.\n",
      "[I 2024-04-03 16:17:50,514] Trial 1 finished with value: 0.7709345542997531 and parameters: {'n_estimators': 1591, 'learning_rate': 0.010968217207529524, 'depth': 6, 'subsample': 0.22561173274925067, 'colsample_bylevel': 0.9711053963763306, 'min_data_in_leaf': 78}. Best is trial 1 with value: 0.7709345542997531.\n",
      "[I 2024-04-03 16:17:56,523] Trial 2 finished with value: 0.7417125475278967 and parameters: {'n_estimators': 3789, 'learning_rate': 0.06161049539380966, 'depth': 6, 'subsample': 0.925780523271961, 'colsample_bylevel': 0.13406787694932354, 'min_data_in_leaf': 20}. Best is trial 2 with value: 0.7417125475278967.\n",
      "[I 2024-04-03 16:17:57,699] Trial 3 finished with value: 0.946895916926638 and parameters: {'n_estimators': 658, 'learning_rate': 0.004473636174621266, 'depth': 4, 'subsample': 0.3077815801852011, 'colsample_bylevel': 0.8373006336943328, 'min_data_in_leaf': 36}. Best is trial 2 with value: 0.7417125475278967.\n",
      "[I 2024-04-03 16:17:59,418] Trial 4 finished with value: 0.8693513927931978 and parameters: {'n_estimators': 1483, 'learning_rate': 0.012172847081122434, 'depth': 2, 'subsample': 0.8120871317163377, 'colsample_bylevel': 0.12082311149578229, 'min_data_in_leaf': 99}. Best is trial 2 with value: 0.7417125475278967.\n",
      "[I 2024-04-03 16:18:02,893] Trial 5 finished with value: 0.9285458101260433 and parameters: {'n_estimators': 3203, 'learning_rate': 0.002497073714505273, 'depth': 1, 'subsample': 0.8246883570320924, 'colsample_bylevel': 0.7215144766552363, 'min_data_in_leaf': 73}. Best is trial 2 with value: 0.7417125475278967.\n",
      "[I 2024-04-03 16:18:07,859] Trial 6 finished with value: 0.8219188247331005 and parameters: {'n_estimators': 3200, 'learning_rate': 0.001406336677771817, 'depth': 4, 'subsample': 0.1600756065488732, 'colsample_bylevel': 0.8699482545818139, 'min_data_in_leaf': 63}. Best is trial 2 with value: 0.7417125475278967.\n",
      "[I 2024-04-03 16:18:10,705] Trial 7 finished with value: 1.0341068443960701 and parameters: {'n_estimators': 1658, 'learning_rate': 0.0013400367243354798, 'depth': 4, 'subsample': 0.35892415592540966, 'colsample_bylevel': 0.7431258694211609, 'min_data_in_leaf': 64}. Best is trial 2 with value: 0.7417125475278967.\n",
      "[I 2024-04-03 16:18:15,386] Trial 8 finished with value: 0.813099533529107 and parameters: {'n_estimators': 3606, 'learning_rate': 0.008798929749689027, 'depth': 2, 'subsample': 0.7275825478618453, 'colsample_bylevel': 0.7727457961860525, 'min_data_in_leaf': 57}. Best is trial 2 with value: 0.7417125475278967.\n",
      "[I 2024-04-03 16:18:19,014] Trial 9 finished with value: 0.8357443279342656 and parameters: {'n_estimators': 3199, 'learning_rate': 0.009718319944817401, 'depth': 6, 'subsample': 0.4561639674406221, 'colsample_bylevel': 0.07414817040689042, 'min_data_in_leaf': 11}. Best is trial 2 with value: 0.7417125475278967.\n",
      "[I 2024-04-03 16:18:45,529] Trial 10 finished with value: 0.7900797929245751 and parameters: {'n_estimators': 2442, 'learning_rate': 0.097332804462723, 'depth': 10, 'subsample': 0.6107899800191843, 'colsample_bylevel': 0.46026489669969295, 'min_data_in_leaf': 6}. Best is trial 2 with value: 0.7417125475278967.\n",
      "[I 2024-04-03 16:18:52,476] Trial 11 finished with value: 0.7397402803350033 and parameters: {'n_estimators': 2299, 'learning_rate': 0.060573342143046716, 'depth': 7, 'subsample': 0.09118924112719057, 'colsample_bylevel': 0.5417855345444476, 'min_data_in_leaf': 33}. Best is trial 11 with value: 0.7397402803350033.\n",
      "[I 2024-04-03 16:19:12,561] Trial 12 finished with value: 0.8207352844693352 and parameters: {'n_estimators': 3987, 'learning_rate': 0.07491884891883346, 'depth': 8, 'subsample': 0.9804499652047736, 'colsample_bylevel': 0.5255678705774196, 'min_data_in_leaf': 31}. Best is trial 11 with value: 0.7397402803350033.\n",
      "[I 2024-04-03 16:19:25,755] Trial 13 finished with value: 0.7714613010055291 and parameters: {'n_estimators': 2670, 'learning_rate': 0.03551865880552078, 'depth': 8, 'subsample': 0.597189030093783, 'colsample_bylevel': 0.5403235893873048, 'min_data_in_leaf': 24}. Best is trial 11 with value: 0.7397402803350033.\n",
      "[I 2024-04-03 16:19:32,801] Trial 14 finished with value: 0.7131720547412077 and parameters: {'n_estimators': 1912, 'learning_rate': 0.03536745556324741, 'depth': 8, 'subsample': 0.061913128244661456, 'colsample_bylevel': 0.32355190220929264, 'min_data_in_leaf': 39}. Best is trial 14 with value: 0.7131720547412077.\n",
      "[I 2024-04-03 16:19:40,557] Trial 15 finished with value: 0.7114435820933549 and parameters: {'n_estimators': 2035, 'learning_rate': 0.02858558099539344, 'depth': 8, 'subsample': 0.08851374440596266, 'colsample_bylevel': 0.3509934506947419, 'min_data_in_leaf': 44}. Best is trial 15 with value: 0.7114435820933549.\n",
      "[I 2024-04-03 16:19:56,391] Trial 16 finished with value: 0.6993398024534371 and parameters: {'n_estimators': 1916, 'learning_rate': 0.028541389170984727, 'depth': 10, 'subsample': 0.0831638592339409, 'colsample_bylevel': 0.3156561820062566, 'min_data_in_leaf': 45}. Best is trial 16 with value: 0.6993398024534371.\n",
      "[I 2024-04-03 16:20:04,501] Trial 17 finished with value: 0.6738897549185229 and parameters: {'n_estimators': 1095, 'learning_rate': 0.02272458076807219, 'depth': 10, 'subsample': 0.2553446596494705, 'colsample_bylevel': 0.280145528780274, 'min_data_in_leaf': 47}. Best is trial 17 with value: 0.6738897549185229.\n",
      "[I 2024-04-03 16:20:10,423] Trial 18 finished with value: 0.7058243969052272 and parameters: {'n_estimators': 1135, 'learning_rate': 0.022770844043786476, 'depth': 10, 'subsample': 0.25481696390950104, 'colsample_bylevel': 0.21336219707403814, 'min_data_in_leaf': 48}. Best is trial 17 with value: 0.6738897549185229.\n",
      "[I 2024-04-03 16:20:22,453] Trial 19 finished with value: 0.6845495790562596 and parameters: {'n_estimators': 1212, 'learning_rate': 0.02022881690151512, 'depth': 10, 'subsample': 0.4073170784560147, 'colsample_bylevel': 0.38371468920929835, 'min_data_in_leaf': 85}. Best is trial 17 with value: 0.6738897549185229.\n",
      "[I 2024-04-03 16:20:26,055] Trial 20 finished with value: 0.7112840489094012 and parameters: {'n_estimators': 503, 'learning_rate': 0.018019118816245624, 'depth': 9, 'subsample': 0.42060346490705647, 'colsample_bylevel': 0.42859578390116193, 'min_data_in_leaf': 91}. Best is trial 17 with value: 0.6738897549185229.\n",
      "[I 2024-04-03 16:20:33,463] Trial 21 finished with value: 0.7043166977985237 and parameters: {'n_estimators': 1192, 'learning_rate': 0.016909930414359262, 'depth': 10, 'subsample': 0.1669955977613433, 'colsample_bylevel': 0.23847461511188145, 'min_data_in_leaf': 53}. Best is trial 17 with value: 0.6738897549185229.\n",
      "[I 2024-04-03 16:20:43,123] Trial 22 finished with value: 0.727367331463392 and parameters: {'n_estimators': 1281, 'learning_rate': 0.005927778440842214, 'depth': 9, 'subsample': 0.3551918591670222, 'colsample_bylevel': 0.6279532790100214, 'min_data_in_leaf': 85}. Best is trial 17 with value: 0.6738897549185229.\n",
      "[I 2024-04-03 16:20:49,065] Trial 23 finished with value: 0.7018403089337044 and parameters: {'n_estimators': 856, 'learning_rate': 0.04440851448043382, 'depth': 9, 'subsample': 0.5162916401651041, 'colsample_bylevel': 0.4132927720880041, 'min_data_in_leaf': 57}. Best is trial 17 with value: 0.6738897549185229.\n",
      "[I 2024-04-03 16:21:01,176] Trial 24 finished with value: 0.6819773401493086 and parameters: {'n_estimators': 1950, 'learning_rate': 0.019933394207389727, 'depth': 10, 'subsample': 0.20826241620755975, 'colsample_bylevel': 0.23885266432299745, 'min_data_in_leaf': 46}. Best is trial 17 with value: 0.6738897549185229.\n",
      "[I 2024-04-03 16:21:06,956] Trial 25 finished with value: 0.7164711543689752 and parameters: {'n_estimators': 1400, 'learning_rate': 0.017604412931888375, 'depth': 9, 'subsample': 0.2516622274794298, 'colsample_bylevel': 0.21960045432039998, 'min_data_in_leaf': 25}. Best is trial 17 with value: 0.6738897549185229.\n",
      "[I 2024-04-03 16:21:09,077] Trial 26 finished with value: 0.790535159391437 and parameters: {'n_estimators': 974, 'learning_rate': 0.014621683084538824, 'depth': 7, 'subsample': 0.43064786590706355, 'colsample_bylevel': 0.1767809711245178, 'min_data_in_leaf': 72}. Best is trial 17 with value: 0.6738897549185229.\n",
      "[I 2024-04-03 16:21:34,772] Trial 27 finished with value: 0.6804947102051442 and parameters: {'n_estimators': 2699, 'learning_rate': 0.006217235011134655, 'depth': 10, 'subsample': 0.17550977986145566, 'colsample_bylevel': 0.37164401396823094, 'min_data_in_leaf': 87}. Best is trial 17 with value: 0.6738897549185229.\n",
      "[I 2024-04-03 16:21:48,212] Trial 28 finished with value: 0.7225582714744556 and parameters: {'n_estimators': 2867, 'learning_rate': 0.005843645861028905, 'depth': 9, 'subsample': 0.1441778459777286, 'colsample_bylevel': 0.2571096848717261, 'min_data_in_leaf': 53}. Best is trial 17 with value: 0.6738897549185229.\n",
      "[I 2024-04-03 16:21:55,957] Trial 29 finished with value: 0.7700031230911252 and parameters: {'n_estimators': 2786, 'learning_rate': 0.00334154532545189, 'depth': 7, 'subsample': 0.2920846656409769, 'colsample_bylevel': 0.29445538292596474, 'min_data_in_leaf': 41}. Best is trial 17 with value: 0.6738897549185229.\n"
     ]
    }
   ],
   "source": [
    "study_cat = optuna.create_study(direction='minimize', sampler=sampler)\n",
    "study_cat.optimize(objective_cat, n_trials=30)"
   ]
  },
  {
   "cell_type": "code",
   "execution_count": 36,
   "metadata": {},
   "outputs": [
    {
     "name": "stdout",
     "output_type": "stream",
     "text": [
      "Best hyperparameters:\n",
      "{'n_estimators': 1095, 'learning_rate': 0.02272458076807219, 'depth': 10, 'subsample': 0.2553446596494705, 'colsample_bylevel': 0.280145528780274, 'min_data_in_leaf': 47}\n",
      "-----------------------------------------------------------------------------------------------------------------\n",
      "Best RMSLE:\n",
      "0.6738897549185229\n"
     ]
    }
   ],
   "source": [
    "print(\"Best hyperparameters:\", study_cat.best_params, sep=\"\\n\")\n",
    "print(\"-----------------------------------------------------------------------------------------------------------------\")\n",
    "print(\"Best RMSLE:\", study_cat.best_value, sep=\"\\n\")"
   ]
  },
  {
   "cell_type": "code",
   "execution_count": 37,
   "metadata": {},
   "outputs": [
    {
     "data": {
      "application/vnd.plotly.v1+json": {
       "config": {
        "plotlyServerURL": "https://plot.ly"
       },
       "data": [
        {
         "cliponaxis": false,
         "hovertemplate": [
          "min_data_in_leaf (IntDistribution): 0.018249246834089593<extra></extra>",
          "learning_rate (FloatDistribution): 0.03700470286443404<extra></extra>",
          "colsample_bylevel (FloatDistribution): 0.03876713754638478<extra></extra>",
          "subsample (FloatDistribution): 0.05111544155751539<extra></extra>",
          "n_estimators (IntDistribution): 0.059052076508452025<extra></extra>",
          "depth (IntDistribution): 0.7958113946891243<extra></extra>"
         ],
         "name": "Objective Value",
         "orientation": "h",
         "text": [
          "0.02",
          "0.04",
          "0.04",
          "0.05",
          "0.06",
          "0.80"
         ],
         "textposition": "outside",
         "type": "bar",
         "x": [
          0.018249246834089593,
          0.03700470286443404,
          0.03876713754638478,
          0.05111544155751539,
          0.059052076508452025,
          0.7958113946891243
         ],
         "y": [
          "min_data_in_leaf",
          "learning_rate",
          "colsample_bylevel",
          "subsample",
          "n_estimators",
          "depth"
         ]
        }
       ],
       "layout": {
        "template": {
         "data": {
          "bar": [
           {
            "error_x": {
             "color": "#2a3f5f"
            },
            "error_y": {
             "color": "#2a3f5f"
            },
            "marker": {
             "line": {
              "color": "#E5ECF6",
              "width": 0.5
             },
             "pattern": {
              "fillmode": "overlay",
              "size": 10,
              "solidity": 0.2
             }
            },
            "type": "bar"
           }
          ],
          "barpolar": [
           {
            "marker": {
             "line": {
              "color": "#E5ECF6",
              "width": 0.5
             },
             "pattern": {
              "fillmode": "overlay",
              "size": 10,
              "solidity": 0.2
             }
            },
            "type": "barpolar"
           }
          ],
          "carpet": [
           {
            "aaxis": {
             "endlinecolor": "#2a3f5f",
             "gridcolor": "white",
             "linecolor": "white",
             "minorgridcolor": "white",
             "startlinecolor": "#2a3f5f"
            },
            "baxis": {
             "endlinecolor": "#2a3f5f",
             "gridcolor": "white",
             "linecolor": "white",
             "minorgridcolor": "white",
             "startlinecolor": "#2a3f5f"
            },
            "type": "carpet"
           }
          ],
          "choropleth": [
           {
            "colorbar": {
             "outlinewidth": 0,
             "ticks": ""
            },
            "type": "choropleth"
           }
          ],
          "contour": [
           {
            "colorbar": {
             "outlinewidth": 0,
             "ticks": ""
            },
            "colorscale": [
             [
              0,
              "#0d0887"
             ],
             [
              0.1111111111111111,
              "#46039f"
             ],
             [
              0.2222222222222222,
              "#7201a8"
             ],
             [
              0.3333333333333333,
              "#9c179e"
             ],
             [
              0.4444444444444444,
              "#bd3786"
             ],
             [
              0.5555555555555556,
              "#d8576b"
             ],
             [
              0.6666666666666666,
              "#ed7953"
             ],
             [
              0.7777777777777778,
              "#fb9f3a"
             ],
             [
              0.8888888888888888,
              "#fdca26"
             ],
             [
              1,
              "#f0f921"
             ]
            ],
            "type": "contour"
           }
          ],
          "contourcarpet": [
           {
            "colorbar": {
             "outlinewidth": 0,
             "ticks": ""
            },
            "type": "contourcarpet"
           }
          ],
          "heatmap": [
           {
            "colorbar": {
             "outlinewidth": 0,
             "ticks": ""
            },
            "colorscale": [
             [
              0,
              "#0d0887"
             ],
             [
              0.1111111111111111,
              "#46039f"
             ],
             [
              0.2222222222222222,
              "#7201a8"
             ],
             [
              0.3333333333333333,
              "#9c179e"
             ],
             [
              0.4444444444444444,
              "#bd3786"
             ],
             [
              0.5555555555555556,
              "#d8576b"
             ],
             [
              0.6666666666666666,
              "#ed7953"
             ],
             [
              0.7777777777777778,
              "#fb9f3a"
             ],
             [
              0.8888888888888888,
              "#fdca26"
             ],
             [
              1,
              "#f0f921"
             ]
            ],
            "type": "heatmap"
           }
          ],
          "heatmapgl": [
           {
            "colorbar": {
             "outlinewidth": 0,
             "ticks": ""
            },
            "colorscale": [
             [
              0,
              "#0d0887"
             ],
             [
              0.1111111111111111,
              "#46039f"
             ],
             [
              0.2222222222222222,
              "#7201a8"
             ],
             [
              0.3333333333333333,
              "#9c179e"
             ],
             [
              0.4444444444444444,
              "#bd3786"
             ],
             [
              0.5555555555555556,
              "#d8576b"
             ],
             [
              0.6666666666666666,
              "#ed7953"
             ],
             [
              0.7777777777777778,
              "#fb9f3a"
             ],
             [
              0.8888888888888888,
              "#fdca26"
             ],
             [
              1,
              "#f0f921"
             ]
            ],
            "type": "heatmapgl"
           }
          ],
          "histogram": [
           {
            "marker": {
             "pattern": {
              "fillmode": "overlay",
              "size": 10,
              "solidity": 0.2
             }
            },
            "type": "histogram"
           }
          ],
          "histogram2d": [
           {
            "colorbar": {
             "outlinewidth": 0,
             "ticks": ""
            },
            "colorscale": [
             [
              0,
              "#0d0887"
             ],
             [
              0.1111111111111111,
              "#46039f"
             ],
             [
              0.2222222222222222,
              "#7201a8"
             ],
             [
              0.3333333333333333,
              "#9c179e"
             ],
             [
              0.4444444444444444,
              "#bd3786"
             ],
             [
              0.5555555555555556,
              "#d8576b"
             ],
             [
              0.6666666666666666,
              "#ed7953"
             ],
             [
              0.7777777777777778,
              "#fb9f3a"
             ],
             [
              0.8888888888888888,
              "#fdca26"
             ],
             [
              1,
              "#f0f921"
             ]
            ],
            "type": "histogram2d"
           }
          ],
          "histogram2dcontour": [
           {
            "colorbar": {
             "outlinewidth": 0,
             "ticks": ""
            },
            "colorscale": [
             [
              0,
              "#0d0887"
             ],
             [
              0.1111111111111111,
              "#46039f"
             ],
             [
              0.2222222222222222,
              "#7201a8"
             ],
             [
              0.3333333333333333,
              "#9c179e"
             ],
             [
              0.4444444444444444,
              "#bd3786"
             ],
             [
              0.5555555555555556,
              "#d8576b"
             ],
             [
              0.6666666666666666,
              "#ed7953"
             ],
             [
              0.7777777777777778,
              "#fb9f3a"
             ],
             [
              0.8888888888888888,
              "#fdca26"
             ],
             [
              1,
              "#f0f921"
             ]
            ],
            "type": "histogram2dcontour"
           }
          ],
          "mesh3d": [
           {
            "colorbar": {
             "outlinewidth": 0,
             "ticks": ""
            },
            "type": "mesh3d"
           }
          ],
          "parcoords": [
           {
            "line": {
             "colorbar": {
              "outlinewidth": 0,
              "ticks": ""
             }
            },
            "type": "parcoords"
           }
          ],
          "pie": [
           {
            "automargin": true,
            "type": "pie"
           }
          ],
          "scatter": [
           {
            "fillpattern": {
             "fillmode": "overlay",
             "size": 10,
             "solidity": 0.2
            },
            "type": "scatter"
           }
          ],
          "scatter3d": [
           {
            "line": {
             "colorbar": {
              "outlinewidth": 0,
              "ticks": ""
             }
            },
            "marker": {
             "colorbar": {
              "outlinewidth": 0,
              "ticks": ""
             }
            },
            "type": "scatter3d"
           }
          ],
          "scattercarpet": [
           {
            "marker": {
             "colorbar": {
              "outlinewidth": 0,
              "ticks": ""
             }
            },
            "type": "scattercarpet"
           }
          ],
          "scattergeo": [
           {
            "marker": {
             "colorbar": {
              "outlinewidth": 0,
              "ticks": ""
             }
            },
            "type": "scattergeo"
           }
          ],
          "scattergl": [
           {
            "marker": {
             "colorbar": {
              "outlinewidth": 0,
              "ticks": ""
             }
            },
            "type": "scattergl"
           }
          ],
          "scattermapbox": [
           {
            "marker": {
             "colorbar": {
              "outlinewidth": 0,
              "ticks": ""
             }
            },
            "type": "scattermapbox"
           }
          ],
          "scatterpolar": [
           {
            "marker": {
             "colorbar": {
              "outlinewidth": 0,
              "ticks": ""
             }
            },
            "type": "scatterpolar"
           }
          ],
          "scatterpolargl": [
           {
            "marker": {
             "colorbar": {
              "outlinewidth": 0,
              "ticks": ""
             }
            },
            "type": "scatterpolargl"
           }
          ],
          "scatterternary": [
           {
            "marker": {
             "colorbar": {
              "outlinewidth": 0,
              "ticks": ""
             }
            },
            "type": "scatterternary"
           }
          ],
          "surface": [
           {
            "colorbar": {
             "outlinewidth": 0,
             "ticks": ""
            },
            "colorscale": [
             [
              0,
              "#0d0887"
             ],
             [
              0.1111111111111111,
              "#46039f"
             ],
             [
              0.2222222222222222,
              "#7201a8"
             ],
             [
              0.3333333333333333,
              "#9c179e"
             ],
             [
              0.4444444444444444,
              "#bd3786"
             ],
             [
              0.5555555555555556,
              "#d8576b"
             ],
             [
              0.6666666666666666,
              "#ed7953"
             ],
             [
              0.7777777777777778,
              "#fb9f3a"
             ],
             [
              0.8888888888888888,
              "#fdca26"
             ],
             [
              1,
              "#f0f921"
             ]
            ],
            "type": "surface"
           }
          ],
          "table": [
           {
            "cells": {
             "fill": {
              "color": "#EBF0F8"
             },
             "line": {
              "color": "white"
             }
            },
            "header": {
             "fill": {
              "color": "#C8D4E3"
             },
             "line": {
              "color": "white"
             }
            },
            "type": "table"
           }
          ]
         },
         "layout": {
          "annotationdefaults": {
           "arrowcolor": "#2a3f5f",
           "arrowhead": 0,
           "arrowwidth": 1
          },
          "autotypenumbers": "strict",
          "coloraxis": {
           "colorbar": {
            "outlinewidth": 0,
            "ticks": ""
           }
          },
          "colorscale": {
           "diverging": [
            [
             0,
             "#8e0152"
            ],
            [
             0.1,
             "#c51b7d"
            ],
            [
             0.2,
             "#de77ae"
            ],
            [
             0.3,
             "#f1b6da"
            ],
            [
             0.4,
             "#fde0ef"
            ],
            [
             0.5,
             "#f7f7f7"
            ],
            [
             0.6,
             "#e6f5d0"
            ],
            [
             0.7,
             "#b8e186"
            ],
            [
             0.8,
             "#7fbc41"
            ],
            [
             0.9,
             "#4d9221"
            ],
            [
             1,
             "#276419"
            ]
           ],
           "sequential": [
            [
             0,
             "#0d0887"
            ],
            [
             0.1111111111111111,
             "#46039f"
            ],
            [
             0.2222222222222222,
             "#7201a8"
            ],
            [
             0.3333333333333333,
             "#9c179e"
            ],
            [
             0.4444444444444444,
             "#bd3786"
            ],
            [
             0.5555555555555556,
             "#d8576b"
            ],
            [
             0.6666666666666666,
             "#ed7953"
            ],
            [
             0.7777777777777778,
             "#fb9f3a"
            ],
            [
             0.8888888888888888,
             "#fdca26"
            ],
            [
             1,
             "#f0f921"
            ]
           ],
           "sequentialminus": [
            [
             0,
             "#0d0887"
            ],
            [
             0.1111111111111111,
             "#46039f"
            ],
            [
             0.2222222222222222,
             "#7201a8"
            ],
            [
             0.3333333333333333,
             "#9c179e"
            ],
            [
             0.4444444444444444,
             "#bd3786"
            ],
            [
             0.5555555555555556,
             "#d8576b"
            ],
            [
             0.6666666666666666,
             "#ed7953"
            ],
            [
             0.7777777777777778,
             "#fb9f3a"
            ],
            [
             0.8888888888888888,
             "#fdca26"
            ],
            [
             1,
             "#f0f921"
            ]
           ]
          },
          "colorway": [
           "#636efa",
           "#EF553B",
           "#00cc96",
           "#ab63fa",
           "#FFA15A",
           "#19d3f3",
           "#FF6692",
           "#B6E880",
           "#FF97FF",
           "#FECB52"
          ],
          "font": {
           "color": "#2a3f5f"
          },
          "geo": {
           "bgcolor": "white",
           "lakecolor": "white",
           "landcolor": "#E5ECF6",
           "showlakes": true,
           "showland": true,
           "subunitcolor": "white"
          },
          "hoverlabel": {
           "align": "left"
          },
          "hovermode": "closest",
          "mapbox": {
           "style": "light"
          },
          "paper_bgcolor": "white",
          "plot_bgcolor": "#E5ECF6",
          "polar": {
           "angularaxis": {
            "gridcolor": "white",
            "linecolor": "white",
            "ticks": ""
           },
           "bgcolor": "#E5ECF6",
           "radialaxis": {
            "gridcolor": "white",
            "linecolor": "white",
            "ticks": ""
           }
          },
          "scene": {
           "xaxis": {
            "backgroundcolor": "#E5ECF6",
            "gridcolor": "white",
            "gridwidth": 2,
            "linecolor": "white",
            "showbackground": true,
            "ticks": "",
            "zerolinecolor": "white"
           },
           "yaxis": {
            "backgroundcolor": "#E5ECF6",
            "gridcolor": "white",
            "gridwidth": 2,
            "linecolor": "white",
            "showbackground": true,
            "ticks": "",
            "zerolinecolor": "white"
           },
           "zaxis": {
            "backgroundcolor": "#E5ECF6",
            "gridcolor": "white",
            "gridwidth": 2,
            "linecolor": "white",
            "showbackground": true,
            "ticks": "",
            "zerolinecolor": "white"
           }
          },
          "shapedefaults": {
           "line": {
            "color": "#2a3f5f"
           }
          },
          "ternary": {
           "aaxis": {
            "gridcolor": "white",
            "linecolor": "white",
            "ticks": ""
           },
           "baxis": {
            "gridcolor": "white",
            "linecolor": "white",
            "ticks": ""
           },
           "bgcolor": "#E5ECF6",
           "caxis": {
            "gridcolor": "white",
            "linecolor": "white",
            "ticks": ""
           }
          },
          "title": {
           "x": 0.05
          },
          "xaxis": {
           "automargin": true,
           "gridcolor": "white",
           "linecolor": "white",
           "ticks": "",
           "title": {
            "standoff": 15
           },
           "zerolinecolor": "white",
           "zerolinewidth": 2
          },
          "yaxis": {
           "automargin": true,
           "gridcolor": "white",
           "linecolor": "white",
           "ticks": "",
           "title": {
            "standoff": 15
           },
           "zerolinecolor": "white",
           "zerolinewidth": 2
          }
         }
        },
        "title": {
         "text": "Hyperparameter Importances"
        },
        "xaxis": {
         "title": {
          "text": "Hyperparameter Importance"
         }
        },
        "yaxis": {
         "title": {
          "text": "Hyperparameter"
         }
        }
       }
      }
     },
     "metadata": {},
     "output_type": "display_data"
    }
   ],
   "source": [
    "# 하이퍼파라미터별 중요도를 확인할 수 있는 그래프\n",
    "optuna.visualization.plot_param_importances(study_cat)"
   ]
  },
  {
   "cell_type": "code",
   "execution_count": 38,
   "metadata": {},
   "outputs": [
    {
     "data": {
      "application/vnd.plotly.v1+json": {
       "config": {
        "plotlyServerURL": "https://plot.ly"
       },
       "data": [
        {
         "mode": "markers",
         "name": "Objective Value",
         "type": "scatter",
         "x": [
          0,
          1,
          2,
          3,
          4,
          5,
          6,
          7,
          8,
          9,
          10,
          11,
          12,
          13,
          14,
          15,
          16,
          17,
          18,
          19,
          20,
          21,
          22,
          23,
          24,
          25,
          26,
          27,
          28,
          29
         ],
         "y": [
          0.9228503531820568,
          0.7709345542997531,
          0.7417125475278967,
          0.946895916926638,
          0.8693513927931978,
          0.9285458101260433,
          0.8219188247331005,
          1.0341068443960701,
          0.813099533529107,
          0.8357443279342656,
          0.7900797929245751,
          0.7397402803350033,
          0.8207352844693352,
          0.7714613010055291,
          0.7131720547412077,
          0.7114435820933549,
          0.6993398024534371,
          0.6738897549185229,
          0.7058243969052272,
          0.6845495790562596,
          0.7112840489094012,
          0.7043166977985237,
          0.727367331463392,
          0.7018403089337044,
          0.6819773401493086,
          0.7164711543689752,
          0.790535159391437,
          0.6804947102051442,
          0.7225582714744556,
          0.7700031230911252
         ]
        },
        {
         "mode": "lines",
         "name": "Best Value",
         "type": "scatter",
         "x": [
          0,
          1,
          2,
          3,
          4,
          5,
          6,
          7,
          8,
          9,
          10,
          11,
          12,
          13,
          14,
          15,
          16,
          17,
          18,
          19,
          20,
          21,
          22,
          23,
          24,
          25,
          26,
          27,
          28,
          29
         ],
         "y": [
          0.9228503531820568,
          0.7709345542997531,
          0.7417125475278967,
          0.7417125475278967,
          0.7417125475278967,
          0.7417125475278967,
          0.7417125475278967,
          0.7417125475278967,
          0.7417125475278967,
          0.7417125475278967,
          0.7417125475278967,
          0.7397402803350033,
          0.7397402803350033,
          0.7397402803350033,
          0.7131720547412077,
          0.7114435820933549,
          0.6993398024534371,
          0.6738897549185229,
          0.6738897549185229,
          0.6738897549185229,
          0.6738897549185229,
          0.6738897549185229,
          0.6738897549185229,
          0.6738897549185229,
          0.6738897549185229,
          0.6738897549185229,
          0.6738897549185229,
          0.6738897549185229,
          0.6738897549185229,
          0.6738897549185229
         ]
        },
        {
         "marker": {
          "color": "#cccccc"
         },
         "mode": "markers",
         "name": "Infeasible Trial",
         "showlegend": false,
         "type": "scatter",
         "x": [],
         "y": []
        }
       ],
       "layout": {
        "template": {
         "data": {
          "bar": [
           {
            "error_x": {
             "color": "#2a3f5f"
            },
            "error_y": {
             "color": "#2a3f5f"
            },
            "marker": {
             "line": {
              "color": "#E5ECF6",
              "width": 0.5
             },
             "pattern": {
              "fillmode": "overlay",
              "size": 10,
              "solidity": 0.2
             }
            },
            "type": "bar"
           }
          ],
          "barpolar": [
           {
            "marker": {
             "line": {
              "color": "#E5ECF6",
              "width": 0.5
             },
             "pattern": {
              "fillmode": "overlay",
              "size": 10,
              "solidity": 0.2
             }
            },
            "type": "barpolar"
           }
          ],
          "carpet": [
           {
            "aaxis": {
             "endlinecolor": "#2a3f5f",
             "gridcolor": "white",
             "linecolor": "white",
             "minorgridcolor": "white",
             "startlinecolor": "#2a3f5f"
            },
            "baxis": {
             "endlinecolor": "#2a3f5f",
             "gridcolor": "white",
             "linecolor": "white",
             "minorgridcolor": "white",
             "startlinecolor": "#2a3f5f"
            },
            "type": "carpet"
           }
          ],
          "choropleth": [
           {
            "colorbar": {
             "outlinewidth": 0,
             "ticks": ""
            },
            "type": "choropleth"
           }
          ],
          "contour": [
           {
            "colorbar": {
             "outlinewidth": 0,
             "ticks": ""
            },
            "colorscale": [
             [
              0,
              "#0d0887"
             ],
             [
              0.1111111111111111,
              "#46039f"
             ],
             [
              0.2222222222222222,
              "#7201a8"
             ],
             [
              0.3333333333333333,
              "#9c179e"
             ],
             [
              0.4444444444444444,
              "#bd3786"
             ],
             [
              0.5555555555555556,
              "#d8576b"
             ],
             [
              0.6666666666666666,
              "#ed7953"
             ],
             [
              0.7777777777777778,
              "#fb9f3a"
             ],
             [
              0.8888888888888888,
              "#fdca26"
             ],
             [
              1,
              "#f0f921"
             ]
            ],
            "type": "contour"
           }
          ],
          "contourcarpet": [
           {
            "colorbar": {
             "outlinewidth": 0,
             "ticks": ""
            },
            "type": "contourcarpet"
           }
          ],
          "heatmap": [
           {
            "colorbar": {
             "outlinewidth": 0,
             "ticks": ""
            },
            "colorscale": [
             [
              0,
              "#0d0887"
             ],
             [
              0.1111111111111111,
              "#46039f"
             ],
             [
              0.2222222222222222,
              "#7201a8"
             ],
             [
              0.3333333333333333,
              "#9c179e"
             ],
             [
              0.4444444444444444,
              "#bd3786"
             ],
             [
              0.5555555555555556,
              "#d8576b"
             ],
             [
              0.6666666666666666,
              "#ed7953"
             ],
             [
              0.7777777777777778,
              "#fb9f3a"
             ],
             [
              0.8888888888888888,
              "#fdca26"
             ],
             [
              1,
              "#f0f921"
             ]
            ],
            "type": "heatmap"
           }
          ],
          "heatmapgl": [
           {
            "colorbar": {
             "outlinewidth": 0,
             "ticks": ""
            },
            "colorscale": [
             [
              0,
              "#0d0887"
             ],
             [
              0.1111111111111111,
              "#46039f"
             ],
             [
              0.2222222222222222,
              "#7201a8"
             ],
             [
              0.3333333333333333,
              "#9c179e"
             ],
             [
              0.4444444444444444,
              "#bd3786"
             ],
             [
              0.5555555555555556,
              "#d8576b"
             ],
             [
              0.6666666666666666,
              "#ed7953"
             ],
             [
              0.7777777777777778,
              "#fb9f3a"
             ],
             [
              0.8888888888888888,
              "#fdca26"
             ],
             [
              1,
              "#f0f921"
             ]
            ],
            "type": "heatmapgl"
           }
          ],
          "histogram": [
           {
            "marker": {
             "pattern": {
              "fillmode": "overlay",
              "size": 10,
              "solidity": 0.2
             }
            },
            "type": "histogram"
           }
          ],
          "histogram2d": [
           {
            "colorbar": {
             "outlinewidth": 0,
             "ticks": ""
            },
            "colorscale": [
             [
              0,
              "#0d0887"
             ],
             [
              0.1111111111111111,
              "#46039f"
             ],
             [
              0.2222222222222222,
              "#7201a8"
             ],
             [
              0.3333333333333333,
              "#9c179e"
             ],
             [
              0.4444444444444444,
              "#bd3786"
             ],
             [
              0.5555555555555556,
              "#d8576b"
             ],
             [
              0.6666666666666666,
              "#ed7953"
             ],
             [
              0.7777777777777778,
              "#fb9f3a"
             ],
             [
              0.8888888888888888,
              "#fdca26"
             ],
             [
              1,
              "#f0f921"
             ]
            ],
            "type": "histogram2d"
           }
          ],
          "histogram2dcontour": [
           {
            "colorbar": {
             "outlinewidth": 0,
             "ticks": ""
            },
            "colorscale": [
             [
              0,
              "#0d0887"
             ],
             [
              0.1111111111111111,
              "#46039f"
             ],
             [
              0.2222222222222222,
              "#7201a8"
             ],
             [
              0.3333333333333333,
              "#9c179e"
             ],
             [
              0.4444444444444444,
              "#bd3786"
             ],
             [
              0.5555555555555556,
              "#d8576b"
             ],
             [
              0.6666666666666666,
              "#ed7953"
             ],
             [
              0.7777777777777778,
              "#fb9f3a"
             ],
             [
              0.8888888888888888,
              "#fdca26"
             ],
             [
              1,
              "#f0f921"
             ]
            ],
            "type": "histogram2dcontour"
           }
          ],
          "mesh3d": [
           {
            "colorbar": {
             "outlinewidth": 0,
             "ticks": ""
            },
            "type": "mesh3d"
           }
          ],
          "parcoords": [
           {
            "line": {
             "colorbar": {
              "outlinewidth": 0,
              "ticks": ""
             }
            },
            "type": "parcoords"
           }
          ],
          "pie": [
           {
            "automargin": true,
            "type": "pie"
           }
          ],
          "scatter": [
           {
            "fillpattern": {
             "fillmode": "overlay",
             "size": 10,
             "solidity": 0.2
            },
            "type": "scatter"
           }
          ],
          "scatter3d": [
           {
            "line": {
             "colorbar": {
              "outlinewidth": 0,
              "ticks": ""
             }
            },
            "marker": {
             "colorbar": {
              "outlinewidth": 0,
              "ticks": ""
             }
            },
            "type": "scatter3d"
           }
          ],
          "scattercarpet": [
           {
            "marker": {
             "colorbar": {
              "outlinewidth": 0,
              "ticks": ""
             }
            },
            "type": "scattercarpet"
           }
          ],
          "scattergeo": [
           {
            "marker": {
             "colorbar": {
              "outlinewidth": 0,
              "ticks": ""
             }
            },
            "type": "scattergeo"
           }
          ],
          "scattergl": [
           {
            "marker": {
             "colorbar": {
              "outlinewidth": 0,
              "ticks": ""
             }
            },
            "type": "scattergl"
           }
          ],
          "scattermapbox": [
           {
            "marker": {
             "colorbar": {
              "outlinewidth": 0,
              "ticks": ""
             }
            },
            "type": "scattermapbox"
           }
          ],
          "scatterpolar": [
           {
            "marker": {
             "colorbar": {
              "outlinewidth": 0,
              "ticks": ""
             }
            },
            "type": "scatterpolar"
           }
          ],
          "scatterpolargl": [
           {
            "marker": {
             "colorbar": {
              "outlinewidth": 0,
              "ticks": ""
             }
            },
            "type": "scatterpolargl"
           }
          ],
          "scatterternary": [
           {
            "marker": {
             "colorbar": {
              "outlinewidth": 0,
              "ticks": ""
             }
            },
            "type": "scatterternary"
           }
          ],
          "surface": [
           {
            "colorbar": {
             "outlinewidth": 0,
             "ticks": ""
            },
            "colorscale": [
             [
              0,
              "#0d0887"
             ],
             [
              0.1111111111111111,
              "#46039f"
             ],
             [
              0.2222222222222222,
              "#7201a8"
             ],
             [
              0.3333333333333333,
              "#9c179e"
             ],
             [
              0.4444444444444444,
              "#bd3786"
             ],
             [
              0.5555555555555556,
              "#d8576b"
             ],
             [
              0.6666666666666666,
              "#ed7953"
             ],
             [
              0.7777777777777778,
              "#fb9f3a"
             ],
             [
              0.8888888888888888,
              "#fdca26"
             ],
             [
              1,
              "#f0f921"
             ]
            ],
            "type": "surface"
           }
          ],
          "table": [
           {
            "cells": {
             "fill": {
              "color": "#EBF0F8"
             },
             "line": {
              "color": "white"
             }
            },
            "header": {
             "fill": {
              "color": "#C8D4E3"
             },
             "line": {
              "color": "white"
             }
            },
            "type": "table"
           }
          ]
         },
         "layout": {
          "annotationdefaults": {
           "arrowcolor": "#2a3f5f",
           "arrowhead": 0,
           "arrowwidth": 1
          },
          "autotypenumbers": "strict",
          "coloraxis": {
           "colorbar": {
            "outlinewidth": 0,
            "ticks": ""
           }
          },
          "colorscale": {
           "diverging": [
            [
             0,
             "#8e0152"
            ],
            [
             0.1,
             "#c51b7d"
            ],
            [
             0.2,
             "#de77ae"
            ],
            [
             0.3,
             "#f1b6da"
            ],
            [
             0.4,
             "#fde0ef"
            ],
            [
             0.5,
             "#f7f7f7"
            ],
            [
             0.6,
             "#e6f5d0"
            ],
            [
             0.7,
             "#b8e186"
            ],
            [
             0.8,
             "#7fbc41"
            ],
            [
             0.9,
             "#4d9221"
            ],
            [
             1,
             "#276419"
            ]
           ],
           "sequential": [
            [
             0,
             "#0d0887"
            ],
            [
             0.1111111111111111,
             "#46039f"
            ],
            [
             0.2222222222222222,
             "#7201a8"
            ],
            [
             0.3333333333333333,
             "#9c179e"
            ],
            [
             0.4444444444444444,
             "#bd3786"
            ],
            [
             0.5555555555555556,
             "#d8576b"
            ],
            [
             0.6666666666666666,
             "#ed7953"
            ],
            [
             0.7777777777777778,
             "#fb9f3a"
            ],
            [
             0.8888888888888888,
             "#fdca26"
            ],
            [
             1,
             "#f0f921"
            ]
           ],
           "sequentialminus": [
            [
             0,
             "#0d0887"
            ],
            [
             0.1111111111111111,
             "#46039f"
            ],
            [
             0.2222222222222222,
             "#7201a8"
            ],
            [
             0.3333333333333333,
             "#9c179e"
            ],
            [
             0.4444444444444444,
             "#bd3786"
            ],
            [
             0.5555555555555556,
             "#d8576b"
            ],
            [
             0.6666666666666666,
             "#ed7953"
            ],
            [
             0.7777777777777778,
             "#fb9f3a"
            ],
            [
             0.8888888888888888,
             "#fdca26"
            ],
            [
             1,
             "#f0f921"
            ]
           ]
          },
          "colorway": [
           "#636efa",
           "#EF553B",
           "#00cc96",
           "#ab63fa",
           "#FFA15A",
           "#19d3f3",
           "#FF6692",
           "#B6E880",
           "#FF97FF",
           "#FECB52"
          ],
          "font": {
           "color": "#2a3f5f"
          },
          "geo": {
           "bgcolor": "white",
           "lakecolor": "white",
           "landcolor": "#E5ECF6",
           "showlakes": true,
           "showland": true,
           "subunitcolor": "white"
          },
          "hoverlabel": {
           "align": "left"
          },
          "hovermode": "closest",
          "mapbox": {
           "style": "light"
          },
          "paper_bgcolor": "white",
          "plot_bgcolor": "#E5ECF6",
          "polar": {
           "angularaxis": {
            "gridcolor": "white",
            "linecolor": "white",
            "ticks": ""
           },
           "bgcolor": "#E5ECF6",
           "radialaxis": {
            "gridcolor": "white",
            "linecolor": "white",
            "ticks": ""
           }
          },
          "scene": {
           "xaxis": {
            "backgroundcolor": "#E5ECF6",
            "gridcolor": "white",
            "gridwidth": 2,
            "linecolor": "white",
            "showbackground": true,
            "ticks": "",
            "zerolinecolor": "white"
           },
           "yaxis": {
            "backgroundcolor": "#E5ECF6",
            "gridcolor": "white",
            "gridwidth": 2,
            "linecolor": "white",
            "showbackground": true,
            "ticks": "",
            "zerolinecolor": "white"
           },
           "zaxis": {
            "backgroundcolor": "#E5ECF6",
            "gridcolor": "white",
            "gridwidth": 2,
            "linecolor": "white",
            "showbackground": true,
            "ticks": "",
            "zerolinecolor": "white"
           }
          },
          "shapedefaults": {
           "line": {
            "color": "#2a3f5f"
           }
          },
          "ternary": {
           "aaxis": {
            "gridcolor": "white",
            "linecolor": "white",
            "ticks": ""
           },
           "baxis": {
            "gridcolor": "white",
            "linecolor": "white",
            "ticks": ""
           },
           "bgcolor": "#E5ECF6",
           "caxis": {
            "gridcolor": "white",
            "linecolor": "white",
            "ticks": ""
           }
          },
          "title": {
           "x": 0.05
          },
          "xaxis": {
           "automargin": true,
           "gridcolor": "white",
           "linecolor": "white",
           "ticks": "",
           "title": {
            "standoff": 15
           },
           "zerolinecolor": "white",
           "zerolinewidth": 2
          },
          "yaxis": {
           "automargin": true,
           "gridcolor": "white",
           "linecolor": "white",
           "ticks": "",
           "title": {
            "standoff": 15
           },
           "zerolinecolor": "white",
           "zerolinewidth": 2
          }
         }
        },
        "title": {
         "text": "Optimization History Plot"
        },
        "xaxis": {
         "title": {
          "text": "Trial"
         }
        },
        "yaxis": {
         "title": {
          "text": "Objective Value"
         }
        }
       }
      }
     },
     "metadata": {},
     "output_type": "display_data"
    }
   ],
   "source": [
    "# 하이퍼파라미터 최적화 과정을 확인\n",
    "optuna.visualization.plot_optimization_history(study_cat)"
   ]
  },
  {
   "cell_type": "code",
   "execution_count": 39,
   "metadata": {},
   "outputs": [
    {
     "name": "stdout",
     "output_type": "stream",
     "text": [
      "0:\tlearn: 13856822.7590654\ttotal: 8.88ms\tremaining: 9.71s\n",
      "1:\tlearn: 13670479.2237856\ttotal: 19.1ms\tremaining: 10.5s\n",
      "2:\tlearn: 13498347.3467399\ttotal: 29.9ms\tremaining: 10.9s\n",
      "3:\tlearn: 13429007.7501475\ttotal: 31.2ms\tremaining: 8.51s\n",
      "4:\tlearn: 13266784.3572466\ttotal: 40.8ms\tremaining: 8.88s\n",
      "5:\tlearn: 13099736.5643978\ttotal: 47.3ms\tremaining: 8.59s\n",
      "6:\tlearn: 12925460.8546158\ttotal: 58.8ms\tremaining: 9.13s\n",
      "7:\tlearn: 12751324.0061277\ttotal: 69.4ms\tremaining: 9.43s\n",
      "8:\tlearn: 12581438.0891438\ttotal: 77.4ms\tremaining: 9.34s\n",
      "9:\tlearn: 12443186.1379230\ttotal: 83.8ms\tremaining: 9.09s\n",
      "10:\tlearn: 12316122.2721602\ttotal: 94.6ms\tremaining: 9.33s\n",
      "11:\tlearn: 12183449.9261740\ttotal: 102ms\tremaining: 9.18s\n",
      "12:\tlearn: 12021797.6405714\ttotal: 110ms\tremaining: 9.12s\n",
      "13:\tlearn: 11871409.0959851\ttotal: 120ms\tremaining: 9.28s\n",
      "14:\tlearn: 11727153.3623675\ttotal: 127ms\tremaining: 9.14s\n",
      "15:\tlearn: 11590485.6033456\ttotal: 135ms\tremaining: 9.1s\n",
      "16:\tlearn: 11477465.1064354\ttotal: 136ms\tremaining: 8.65s\n",
      "17:\tlearn: 11354292.9199708\ttotal: 143ms\tremaining: 8.55s\n",
      "18:\tlearn: 11225998.6187664\ttotal: 153ms\tremaining: 8.67s\n",
      "19:\tlearn: 11143415.6157140\ttotal: 154ms\tremaining: 8.29s\n",
      "20:\tlearn: 11041008.4150177\ttotal: 163ms\tremaining: 8.35s\n",
      "21:\tlearn: 10919385.3506414\ttotal: 168ms\tremaining: 8.18s\n",
      "22:\tlearn: 10806762.1869935\ttotal: 178ms\tremaining: 8.28s\n",
      "23:\tlearn: 10728787.0514063\ttotal: 178ms\tremaining: 7.96s\n",
      "24:\tlearn: 10607578.5081753\ttotal: 185ms\tremaining: 7.92s\n",
      "25:\tlearn: 10496326.7816453\ttotal: 194ms\tremaining: 7.99s\n",
      "26:\tlearn: 10384631.3862785\ttotal: 205ms\tremaining: 8.12s\n",
      "27:\tlearn: 10279163.4517283\ttotal: 215ms\tremaining: 8.21s\n",
      "28:\tlearn: 10177067.2655759\ttotal: 225ms\tremaining: 8.27s\n",
      "29:\tlearn: 10072835.2890586\ttotal: 236ms\tremaining: 8.37s\n",
      "30:\tlearn: 10047304.7214966\ttotal: 237ms\tremaining: 8.13s\n",
      "31:\tlearn: 9936414.3463712\ttotal: 248ms\tremaining: 8.22s\n",
      "32:\tlearn: 9833889.9800542\ttotal: 256ms\tremaining: 8.23s\n",
      "33:\tlearn: 9737519.6397799\ttotal: 264ms\tremaining: 8.23s\n",
      "34:\tlearn: 9631528.1006973\ttotal: 271ms\tremaining: 8.2s\n",
      "35:\tlearn: 9547620.9492340\ttotal: 277ms\tremaining: 8.14s\n",
      "36:\tlearn: 9472292.6271685\ttotal: 279ms\tremaining: 7.97s\n",
      "37:\tlearn: 9388577.8734816\ttotal: 283ms\tremaining: 7.88s\n",
      "38:\tlearn: 9301358.4584071\ttotal: 293ms\tremaining: 7.94s\n",
      "39:\tlearn: 9219147.3957207\ttotal: 302ms\tremaining: 7.96s\n",
      "40:\tlearn: 9133983.1169234\ttotal: 310ms\tremaining: 7.98s\n",
      "41:\tlearn: 9051889.4747011\ttotal: 317ms\tremaining: 7.94s\n",
      "42:\tlearn: 8984120.5806311\ttotal: 318ms\tremaining: 7.78s\n",
      "43:\tlearn: 8907550.4636055\ttotal: 326ms\tremaining: 7.79s\n",
      "44:\tlearn: 8838509.8847517\ttotal: 329ms\tremaining: 7.67s\n",
      "45:\tlearn: 8759711.8153126\ttotal: 337ms\tremaining: 7.69s\n",
      "46:\tlearn: 8681258.0074907\ttotal: 347ms\tremaining: 7.74s\n",
      "47:\tlearn: 8606232.7218236\ttotal: 352ms\tremaining: 7.68s\n",
      "48:\tlearn: 8546899.4135017\ttotal: 358ms\tremaining: 7.64s\n",
      "49:\tlearn: 8482968.6683074\ttotal: 363ms\tremaining: 7.58s\n",
      "50:\tlearn: 8418563.3277586\ttotal: 372ms\tremaining: 7.62s\n",
      "51:\tlearn: 8358828.9430590\ttotal: 382ms\tremaining: 7.66s\n",
      "52:\tlearn: 8298571.3686704\ttotal: 387ms\tremaining: 7.6s\n",
      "53:\tlearn: 8257892.4084077\ttotal: 394ms\tremaining: 7.59s\n",
      "54:\tlearn: 8201189.6459415\ttotal: 404ms\tremaining: 7.64s\n",
      "55:\tlearn: 8148027.9237044\ttotal: 407ms\tremaining: 7.54s\n",
      "56:\tlearn: 8095662.2570537\ttotal: 416ms\tremaining: 7.57s\n",
      "57:\tlearn: 8047148.1196889\ttotal: 424ms\tremaining: 7.57s\n",
      "58:\tlearn: 7991746.8281301\ttotal: 435ms\tremaining: 7.63s\n",
      "59:\tlearn: 7940298.2453216\ttotal: 439ms\tremaining: 7.58s\n",
      "60:\tlearn: 7880835.3007907\ttotal: 449ms\tremaining: 7.62s\n",
      "61:\tlearn: 7880715.9514649\ttotal: 450ms\tremaining: 7.5s\n",
      "62:\tlearn: 7834974.3652116\ttotal: 456ms\tremaining: 7.47s\n",
      "63:\tlearn: 7787098.2957394\ttotal: 464ms\tremaining: 7.48s\n",
      "64:\tlearn: 7741725.9795091\ttotal: 475ms\tremaining: 7.53s\n",
      "65:\tlearn: 7699037.9504776\ttotal: 483ms\tremaining: 7.52s\n",
      "66:\tlearn: 7661962.6240367\ttotal: 485ms\tremaining: 7.43s\n",
      "67:\tlearn: 7620457.7344777\ttotal: 492ms\tremaining: 7.43s\n",
      "68:\tlearn: 7578782.9320073\ttotal: 502ms\tremaining: 7.47s\n",
      "69:\tlearn: 7533514.2538775\ttotal: 513ms\tremaining: 7.51s\n",
      "70:\tlearn: 7492853.6999226\ttotal: 525ms\tremaining: 7.57s\n",
      "71:\tlearn: 7452486.5104794\ttotal: 535ms\tremaining: 7.6s\n",
      "72:\tlearn: 7414700.0984728\ttotal: 541ms\tremaining: 7.58s\n",
      "73:\tlearn: 7372804.2204917\ttotal: 551ms\tremaining: 7.61s\n",
      "74:\tlearn: 7338429.1101561\ttotal: 561ms\tremaining: 7.63s\n",
      "75:\tlearn: 7296439.7558819\ttotal: 568ms\tremaining: 7.62s\n",
      "76:\tlearn: 7260008.1964523\ttotal: 570ms\tremaining: 7.54s\n",
      "77:\tlearn: 7224821.3760031\ttotal: 580ms\tremaining: 7.56s\n",
      "78:\tlearn: 7189917.8004554\ttotal: 588ms\tremaining: 7.56s\n",
      "79:\tlearn: 7156497.0268721\ttotal: 595ms\tremaining: 7.55s\n",
      "80:\tlearn: 7122617.8858221\ttotal: 605ms\tremaining: 7.58s\n",
      "81:\tlearn: 7117761.2776138\ttotal: 606ms\tremaining: 7.49s\n",
      "82:\tlearn: 7084308.2564914\ttotal: 614ms\tremaining: 7.49s\n",
      "83:\tlearn: 7050986.8389380\ttotal: 620ms\tremaining: 7.46s\n",
      "84:\tlearn: 7014633.0519533\ttotal: 625ms\tremaining: 7.43s\n",
      "85:\tlearn: 6983280.5813565\ttotal: 630ms\tremaining: 7.39s\n",
      "86:\tlearn: 6952024.5602372\ttotal: 634ms\tremaining: 7.34s\n",
      "87:\tlearn: 6922897.5650478\ttotal: 644ms\tremaining: 7.37s\n",
      "88:\tlearn: 6892385.8423885\ttotal: 653ms\tremaining: 7.38s\n",
      "89:\tlearn: 6892284.6553061\ttotal: 654ms\tremaining: 7.3s\n",
      "90:\tlearn: 6875472.0343974\ttotal: 656ms\tremaining: 7.23s\n",
      "91:\tlearn: 6846288.0787608\ttotal: 664ms\tremaining: 7.24s\n",
      "92:\tlearn: 6846195.5655429\ttotal: 665ms\tremaining: 7.16s\n",
      "93:\tlearn: 6813383.0121428\ttotal: 675ms\tremaining: 7.18s\n",
      "94:\tlearn: 6786268.0684505\ttotal: 680ms\tremaining: 7.16s\n",
      "95:\tlearn: 6756402.1446878\ttotal: 687ms\tremaining: 7.15s\n",
      "96:\tlearn: 6731262.8036424\ttotal: 696ms\tremaining: 7.16s\n",
      "97:\tlearn: 6702958.6092244\ttotal: 707ms\tremaining: 7.19s\n",
      "98:\tlearn: 6674071.3182255\ttotal: 715ms\tremaining: 7.2s\n",
      "99:\tlearn: 6642476.7944192\ttotal: 722ms\tremaining: 7.18s\n",
      "100:\tlearn: 6615556.2031703\ttotal: 732ms\tremaining: 7.2s\n",
      "101:\tlearn: 6601820.4621191\ttotal: 733ms\tremaining: 7.14s\n",
      "102:\tlearn: 6580193.1358172\ttotal: 739ms\tremaining: 7.12s\n",
      "103:\tlearn: 6559912.3391338\ttotal: 742ms\tremaining: 7.07s\n",
      "104:\tlearn: 6541444.8656156\ttotal: 750ms\tremaining: 7.07s\n",
      "105:\tlearn: 6520525.1755791\ttotal: 758ms\tremaining: 7.07s\n",
      "106:\tlearn: 6520446.3823989\ttotal: 759ms\tremaining: 7.01s\n",
      "107:\tlearn: 6498381.8821524\ttotal: 765ms\tremaining: 6.99s\n",
      "108:\tlearn: 6474277.2512836\ttotal: 774ms\tremaining: 7s\n",
      "109:\tlearn: 6452835.3607850\ttotal: 782ms\tremaining: 7.01s\n",
      "110:\tlearn: 6435015.7566888\ttotal: 789ms\tremaining: 7s\n",
      "111:\tlearn: 6415564.9171323\ttotal: 793ms\tremaining: 6.96s\n",
      "112:\tlearn: 6393299.9438161\ttotal: 802ms\tremaining: 6.97s\n",
      "113:\tlearn: 6367822.4269227\ttotal: 812ms\tremaining: 6.99s\n",
      "114:\tlearn: 6347496.5479157\ttotal: 820ms\tremaining: 6.99s\n",
      "115:\tlearn: 6324316.7484791\ttotal: 828ms\tremaining: 6.98s\n",
      "116:\tlearn: 6323933.6400820\ttotal: 828ms\tremaining: 6.92s\n",
      "117:\tlearn: 6307325.5020386\ttotal: 838ms\tremaining: 6.94s\n",
      "118:\tlearn: 6290165.3027957\ttotal: 848ms\tremaining: 6.95s\n",
      "119:\tlearn: 6270142.7972744\ttotal: 855ms\tremaining: 6.94s\n",
      "120:\tlearn: 6252253.6333167\ttotal: 864ms\tremaining: 6.96s\n",
      "121:\tlearn: 6235820.9321769\ttotal: 872ms\tremaining: 6.96s\n",
      "122:\tlearn: 6219152.8703933\ttotal: 882ms\tremaining: 6.97s\n",
      "123:\tlearn: 6199395.2511994\ttotal: 890ms\tremaining: 6.97s\n",
      "124:\tlearn: 6181775.1746900\ttotal: 898ms\tremaining: 6.97s\n",
      "125:\tlearn: 6166795.6864665\ttotal: 900ms\tremaining: 6.92s\n",
      "126:\tlearn: 6154859.2843962\ttotal: 903ms\tremaining: 6.88s\n",
      "127:\tlearn: 6139209.0971475\ttotal: 913ms\tremaining: 6.89s\n",
      "128:\tlearn: 6125540.8390185\ttotal: 922ms\tremaining: 6.91s\n",
      "129:\tlearn: 6108040.9851964\ttotal: 932ms\tremaining: 6.91s\n",
      "130:\tlearn: 6094245.0396626\ttotal: 939ms\tremaining: 6.91s\n",
      "131:\tlearn: 6082958.9061896\ttotal: 948ms\tremaining: 6.92s\n",
      "132:\tlearn: 6066506.6935878\ttotal: 959ms\tremaining: 6.93s\n",
      "133:\tlearn: 6054811.4588815\ttotal: 967ms\tremaining: 6.93s\n",
      "134:\tlearn: 6041980.4943599\ttotal: 977ms\tremaining: 6.94s\n",
      "135:\tlearn: 6027505.1767189\ttotal: 983ms\tremaining: 6.93s\n",
      "136:\tlearn: 6010810.3766540\ttotal: 991ms\tremaining: 6.93s\n",
      "137:\tlearn: 5997505.6503452\ttotal: 1s\tremaining: 6.95s\n",
      "138:\tlearn: 5983643.4050218\ttotal: 1.01s\tremaining: 6.92s\n",
      "139:\tlearn: 5971424.6069696\ttotal: 1.01s\tremaining: 6.92s\n",
      "140:\tlearn: 5966111.3328316\ttotal: 1.02s\tremaining: 6.88s\n",
      "141:\tlearn: 5946390.3792734\ttotal: 1.03s\tremaining: 6.89s\n",
      "142:\tlearn: 5932691.0390147\ttotal: 1.04s\tremaining: 6.92s\n",
      "143:\tlearn: 5923376.6450005\ttotal: 1.04s\tremaining: 6.9s\n",
      "144:\tlearn: 5907813.7288080\ttotal: 1.05s\tremaining: 6.92s\n",
      "145:\tlearn: 5896326.5472022\ttotal: 1.06s\tremaining: 6.91s\n",
      "146:\tlearn: 5882337.3199710\ttotal: 1.07s\tremaining: 6.91s\n",
      "147:\tlearn: 5868595.0373996\ttotal: 1.08s\tremaining: 6.92s\n",
      "148:\tlearn: 5857252.2045207\ttotal: 1.09s\tremaining: 6.92s\n",
      "149:\tlearn: 5846073.1270783\ttotal: 1.1s\tremaining: 6.92s\n",
      "150:\tlearn: 5836240.1709661\ttotal: 1.11s\tremaining: 6.92s\n",
      "151:\tlearn: 5824489.4441400\ttotal: 1.11s\tremaining: 6.91s\n",
      "152:\tlearn: 5810850.3686500\ttotal: 1.12s\tremaining: 6.91s\n",
      "153:\tlearn: 5799516.1459950\ttotal: 1.13s\tremaining: 6.92s\n",
      "154:\tlearn: 5788913.1800168\ttotal: 1.14s\tremaining: 6.92s\n",
      "155:\tlearn: 5777258.8409793\ttotal: 1.15s\tremaining: 6.94s\n",
      "156:\tlearn: 5763826.8233851\ttotal: 1.16s\tremaining: 6.92s\n",
      "157:\tlearn: 5755347.9146849\ttotal: 1.17s\tremaining: 6.92s\n",
      "158:\tlearn: 5744742.5501855\ttotal: 1.18s\tremaining: 6.92s\n",
      "159:\tlearn: 5732553.3796497\ttotal: 1.19s\tremaining: 6.93s\n",
      "160:\tlearn: 5728081.5089058\ttotal: 1.19s\tremaining: 6.88s\n",
      "161:\tlearn: 5726209.1227321\ttotal: 1.19s\tremaining: 6.84s\n",
      "162:\tlearn: 5715595.5432479\ttotal: 1.19s\tremaining: 6.81s\n",
      "163:\tlearn: 5708525.2331623\ttotal: 1.2s\tremaining: 6.79s\n",
      "164:\tlearn: 5694318.7587982\ttotal: 1.2s\tremaining: 6.79s\n",
      "165:\tlearn: 5685967.0391110\ttotal: 1.21s\tremaining: 6.76s\n",
      "166:\tlearn: 5679525.8542279\ttotal: 1.22s\tremaining: 6.77s\n",
      "167:\tlearn: 5669626.5463292\ttotal: 1.23s\tremaining: 6.77s\n",
      "168:\tlearn: 5657429.1648430\ttotal: 1.23s\tremaining: 6.76s\n",
      "169:\tlearn: 5648110.1045178\ttotal: 1.24s\tremaining: 6.76s\n",
      "170:\tlearn: 5637838.6520111\ttotal: 1.25s\tremaining: 6.76s\n",
      "171:\tlearn: 5626047.7840808\ttotal: 1.26s\tremaining: 6.77s\n",
      "172:\tlearn: 5623496.9741393\ttotal: 1.26s\tremaining: 6.73s\n",
      "173:\tlearn: 5618801.4687352\ttotal: 1.26s\tremaining: 6.69s\n",
      "174:\tlearn: 5611888.5599164\ttotal: 1.27s\tremaining: 6.68s\n",
      "175:\tlearn: 5605083.5008402\ttotal: 1.28s\tremaining: 6.67s\n",
      "176:\tlearn: 5595575.0519493\ttotal: 1.28s\tremaining: 6.65s\n",
      "177:\tlearn: 5586842.0964767\ttotal: 1.29s\tremaining: 6.63s\n",
      "178:\tlearn: 5585129.8881851\ttotal: 1.29s\tremaining: 6.59s\n",
      "179:\tlearn: 5573176.3726155\ttotal: 1.3s\tremaining: 6.61s\n",
      "180:\tlearn: 5568231.6417756\ttotal: 1.3s\tremaining: 6.57s\n",
      "181:\tlearn: 5560197.1571540\ttotal: 1.31s\tremaining: 6.55s\n",
      "182:\tlearn: 5552314.3726803\ttotal: 1.31s\tremaining: 6.54s\n",
      "183:\tlearn: 5547708.3730803\ttotal: 1.31s\tremaining: 6.5s\n",
      "184:\tlearn: 5540314.5472705\ttotal: 1.32s\tremaining: 6.51s\n",
      "185:\tlearn: 5526899.4513385\ttotal: 1.33s\tremaining: 6.52s\n",
      "186:\tlearn: 5521171.1988268\ttotal: 1.34s\tremaining: 6.53s\n",
      "187:\tlearn: 5514740.4294680\ttotal: 1.35s\tremaining: 6.52s\n",
      "188:\tlearn: 5504903.8935657\ttotal: 1.36s\tremaining: 6.51s\n",
      "189:\tlearn: 5495092.4434582\ttotal: 1.37s\tremaining: 6.52s\n",
      "190:\tlearn: 5485978.1761991\ttotal: 1.38s\tremaining: 6.51s\n",
      "191:\tlearn: 5475757.8461067\ttotal: 1.39s\tremaining: 6.51s\n",
      "192:\tlearn: 5461594.3749980\ttotal: 1.4s\tremaining: 6.52s\n",
      "193:\tlearn: 5455748.8450604\ttotal: 1.41s\tremaining: 6.53s\n",
      "194:\tlearn: 5446578.0735239\ttotal: 1.42s\tremaining: 6.53s\n",
      "195:\tlearn: 5438647.9718501\ttotal: 1.42s\tremaining: 6.53s\n",
      "196:\tlearn: 5428724.7341190\ttotal: 1.43s\tremaining: 6.54s\n",
      "197:\tlearn: 5419563.3324426\ttotal: 1.44s\tremaining: 6.54s\n",
      "198:\tlearn: 5412856.9897337\ttotal: 1.45s\tremaining: 6.54s\n",
      "199:\tlearn: 5405446.6850763\ttotal: 1.46s\tremaining: 6.54s\n",
      "200:\tlearn: 5401465.9249158\ttotal: 1.46s\tremaining: 6.51s\n",
      "201:\tlearn: 5392745.2887890\ttotal: 1.47s\tremaining: 6.51s\n",
      "202:\tlearn: 5391306.5964105\ttotal: 1.47s\tremaining: 6.48s\n",
      "203:\tlearn: 5385978.9304044\ttotal: 1.48s\tremaining: 6.47s\n",
      "204:\tlearn: 5385963.4135942\ttotal: 1.48s\tremaining: 6.44s\n",
      "205:\tlearn: 5380840.3354915\ttotal: 1.49s\tremaining: 6.44s\n",
      "206:\tlearn: 5379443.2990550\ttotal: 1.49s\tremaining: 6.4s\n",
      "207:\tlearn: 5369511.8195241\ttotal: 1.5s\tremaining: 6.41s\n",
      "208:\tlearn: 5366111.7540785\ttotal: 1.5s\tremaining: 6.38s\n",
      "209:\tlearn: 5360279.9054244\ttotal: 1.51s\tremaining: 6.37s\n",
      "210:\tlearn: 5354337.0327386\ttotal: 1.52s\tremaining: 6.38s\n",
      "211:\tlearn: 5350962.7764105\ttotal: 1.53s\tremaining: 6.36s\n",
      "212:\tlearn: 5346870.8675263\ttotal: 1.54s\tremaining: 6.37s\n",
      "213:\tlearn: 5337145.1614055\ttotal: 1.54s\tremaining: 6.35s\n",
      "214:\tlearn: 5332128.2408899\ttotal: 1.55s\tremaining: 6.36s\n",
      "215:\tlearn: 5324832.4014162\ttotal: 1.56s\tremaining: 6.35s\n",
      "216:\tlearn: 5317279.0999269\ttotal: 1.57s\tremaining: 6.34s\n",
      "217:\tlearn: 5311918.1307569\ttotal: 1.57s\tremaining: 6.33s\n",
      "218:\tlearn: 5307777.2189861\ttotal: 1.58s\tremaining: 6.32s\n",
      "219:\tlearn: 5303225.5760063\ttotal: 1.59s\tremaining: 6.31s\n",
      "220:\tlearn: 5292310.5221929\ttotal: 1.59s\tremaining: 6.29s\n",
      "221:\tlearn: 5284153.3451968\ttotal: 1.6s\tremaining: 6.28s\n",
      "222:\tlearn: 5273951.2786293\ttotal: 1.6s\tremaining: 6.27s\n",
      "223:\tlearn: 5268230.2226516\ttotal: 1.61s\tremaining: 6.26s\n",
      "224:\tlearn: 5260434.1223719\ttotal: 1.62s\tremaining: 6.26s\n",
      "225:\tlearn: 5257876.2055547\ttotal: 1.62s\tremaining: 6.24s\n",
      "226:\tlearn: 5254750.2506495\ttotal: 1.62s\tremaining: 6.21s\n",
      "227:\tlearn: 5247420.9160508\ttotal: 1.63s\tremaining: 6.21s\n",
      "228:\tlearn: 5238974.1535686\ttotal: 1.64s\tremaining: 6.22s\n",
      "229:\tlearn: 5234888.3351339\ttotal: 1.65s\tremaining: 6.22s\n",
      "230:\tlearn: 5228104.7673165\ttotal: 1.66s\tremaining: 6.21s\n",
      "231:\tlearn: 5221529.5451317\ttotal: 1.67s\tremaining: 6.2s\n",
      "232:\tlearn: 5214265.1412019\ttotal: 1.67s\tremaining: 6.19s\n",
      "233:\tlearn: 5207330.5483904\ttotal: 1.68s\tremaining: 6.19s\n",
      "234:\tlearn: 5200766.5897657\ttotal: 1.69s\tremaining: 6.19s\n",
      "235:\tlearn: 5197062.8742581\ttotal: 1.7s\tremaining: 6.19s\n",
      "236:\tlearn: 5196044.4369164\ttotal: 1.7s\tremaining: 6.16s\n",
      "237:\tlearn: 5188607.9132600\ttotal: 1.71s\tremaining: 6.14s\n",
      "238:\tlearn: 5182589.7482050\ttotal: 1.71s\tremaining: 6.14s\n",
      "239:\tlearn: 5176097.7189996\ttotal: 1.72s\tremaining: 6.14s\n",
      "240:\tlearn: 5172530.7485687\ttotal: 1.73s\tremaining: 6.13s\n",
      "241:\tlearn: 5168800.4059134\ttotal: 1.74s\tremaining: 6.13s\n",
      "242:\tlearn: 5163389.0452533\ttotal: 1.75s\tremaining: 6.14s\n",
      "243:\tlearn: 5159225.7838923\ttotal: 1.76s\tremaining: 6.13s\n",
      "244:\tlearn: 5154318.2360798\ttotal: 1.76s\tremaining: 6.12s\n",
      "245:\tlearn: 5151346.7314126\ttotal: 1.77s\tremaining: 6.12s\n",
      "246:\tlearn: 5145543.0098282\ttotal: 1.78s\tremaining: 6.13s\n",
      "247:\tlearn: 5144516.1313903\ttotal: 1.79s\tremaining: 6.1s\n",
      "248:\tlearn: 5141413.9073783\ttotal: 1.79s\tremaining: 6.1s\n",
      "249:\tlearn: 5135287.3285714\ttotal: 1.8s\tremaining: 6.1s\n",
      "250:\tlearn: 5134593.8103915\ttotal: 1.81s\tremaining: 6.08s\n",
      "251:\tlearn: 5130972.5262382\ttotal: 1.81s\tremaining: 6.06s\n",
      "252:\tlearn: 5124017.3336116\ttotal: 1.82s\tremaining: 6.06s\n",
      "253:\tlearn: 5122633.8217960\ttotal: 1.82s\tremaining: 6.04s\n",
      "254:\tlearn: 5118231.1229498\ttotal: 1.83s\tremaining: 6.04s\n",
      "255:\tlearn: 5109119.2845797\ttotal: 1.84s\tremaining: 6.04s\n",
      "256:\tlearn: 5101854.8888080\ttotal: 1.85s\tremaining: 6.04s\n",
      "257:\tlearn: 5096572.4823811\ttotal: 1.86s\tremaining: 6.04s\n",
      "258:\tlearn: 5091490.2015696\ttotal: 1.87s\tremaining: 6.03s\n",
      "259:\tlearn: 5085975.6662214\ttotal: 1.88s\tremaining: 6.03s\n",
      "260:\tlearn: 5081851.7482549\ttotal: 1.89s\tremaining: 6.03s\n",
      "261:\tlearn: 5078279.2188159\ttotal: 1.9s\tremaining: 6.03s\n",
      "262:\tlearn: 5077140.2442159\ttotal: 1.9s\tremaining: 6.01s\n",
      "263:\tlearn: 5074886.2367374\ttotal: 1.91s\tremaining: 6s\n",
      "264:\tlearn: 5068477.2930462\ttotal: 1.91s\tremaining: 5.99s\n",
      "265:\tlearn: 5068043.3349355\ttotal: 1.91s\tremaining: 5.96s\n",
      "266:\tlearn: 5061225.6770486\ttotal: 1.92s\tremaining: 5.96s\n",
      "267:\tlearn: 5054541.1615022\ttotal: 1.93s\tremaining: 5.94s\n",
      "268:\tlearn: 5049560.4189146\ttotal: 1.93s\tremaining: 5.94s\n",
      "269:\tlearn: 5044792.3565479\ttotal: 1.94s\tremaining: 5.94s\n",
      "270:\tlearn: 5040771.9487477\ttotal: 1.95s\tremaining: 5.93s\n",
      "271:\tlearn: 5035280.7718066\ttotal: 1.96s\tremaining: 5.92s\n",
      "272:\tlearn: 5027073.4427169\ttotal: 1.97s\tremaining: 5.92s\n",
      "273:\tlearn: 5019379.3922158\ttotal: 1.97s\tremaining: 5.92s\n",
      "274:\tlearn: 5012819.2352219\ttotal: 1.98s\tremaining: 5.91s\n",
      "275:\tlearn: 5008873.7830915\ttotal: 1.99s\tremaining: 5.91s\n",
      "276:\tlearn: 5008668.7004689\ttotal: 1.99s\tremaining: 5.88s\n",
      "277:\tlearn: 5005167.0337488\ttotal: 2s\tremaining: 5.87s\n",
      "278:\tlearn: 4999660.1132291\ttotal: 2.01s\tremaining: 5.87s\n",
      "279:\tlearn: 4999133.4591554\ttotal: 2.01s\tremaining: 5.85s\n",
      "280:\tlearn: 4992873.3872780\ttotal: 2.02s\tremaining: 5.84s\n",
      "281:\tlearn: 4988099.9822184\ttotal: 2.03s\tremaining: 5.85s\n",
      "282:\tlearn: 4979221.8163867\ttotal: 2.04s\tremaining: 5.84s\n",
      "283:\tlearn: 4975890.6053507\ttotal: 2.04s\tremaining: 5.83s\n",
      "284:\tlearn: 4970334.6442438\ttotal: 2.05s\tremaining: 5.84s\n",
      "285:\tlearn: 4966508.1526816\ttotal: 2.06s\tremaining: 5.83s\n",
      "286:\tlearn: 4963516.8111910\ttotal: 2.07s\tremaining: 5.83s\n",
      "287:\tlearn: 4963513.6925064\ttotal: 2.07s\tremaining: 5.81s\n",
      "288:\tlearn: 4959685.3565612\ttotal: 2.08s\tremaining: 5.8s\n",
      "289:\tlearn: 4955323.7441159\ttotal: 2.09s\tremaining: 5.8s\n",
      "290:\tlearn: 4951384.4669095\ttotal: 2.1s\tremaining: 5.8s\n",
      "291:\tlearn: 4951036.0355619\ttotal: 2.1s\tremaining: 5.78s\n",
      "292:\tlearn: 4947819.6145099\ttotal: 2.1s\tremaining: 5.76s\n",
      "293:\tlearn: 4943304.5608297\ttotal: 2.11s\tremaining: 5.75s\n",
      "294:\tlearn: 4939554.0732865\ttotal: 2.12s\tremaining: 5.75s\n",
      "295:\tlearn: 4938224.9832429\ttotal: 2.12s\tremaining: 5.72s\n",
      "296:\tlearn: 4938212.2885047\ttotal: 2.12s\tremaining: 5.7s\n",
      "297:\tlearn: 4933468.7859289\ttotal: 2.13s\tremaining: 5.7s\n",
      "298:\tlearn: 4933291.4165363\ttotal: 2.13s\tremaining: 5.68s\n",
      "299:\tlearn: 4931859.1123720\ttotal: 2.13s\tremaining: 5.66s\n",
      "300:\tlearn: 4927472.4854666\ttotal: 2.14s\tremaining: 5.66s\n",
      "301:\tlearn: 4923414.8673883\ttotal: 2.15s\tremaining: 5.65s\n",
      "302:\tlearn: 4917487.7993838\ttotal: 2.16s\tremaining: 5.65s\n",
      "303:\tlearn: 4913902.8663501\ttotal: 2.17s\tremaining: 5.64s\n",
      "304:\tlearn: 4912552.9849789\ttotal: 2.18s\tremaining: 5.64s\n",
      "305:\tlearn: 4909771.1167548\ttotal: 2.19s\tremaining: 5.64s\n",
      "306:\tlearn: 4905719.5547378\ttotal: 2.2s\tremaining: 5.64s\n",
      "307:\tlearn: 4901725.7821526\ttotal: 2.21s\tremaining: 5.65s\n",
      "308:\tlearn: 4898261.1218188\ttotal: 2.21s\tremaining: 5.64s\n",
      "309:\tlearn: 4895343.6764547\ttotal: 2.23s\tremaining: 5.63s\n",
      "310:\tlearn: 4891039.9582017\ttotal: 2.23s\tremaining: 5.63s\n",
      "311:\tlearn: 4884002.7307521\ttotal: 2.24s\tremaining: 5.62s\n",
      "312:\tlearn: 4879436.3476878\ttotal: 2.25s\tremaining: 5.62s\n",
      "313:\tlearn: 4877130.4457572\ttotal: 2.26s\tremaining: 5.62s\n",
      "314:\tlearn: 4872835.5296288\ttotal: 2.27s\tremaining: 5.61s\n",
      "315:\tlearn: 4868989.6145847\ttotal: 2.27s\tremaining: 5.6s\n",
      "316:\tlearn: 4862527.8536585\ttotal: 2.28s\tremaining: 5.59s\n",
      "317:\tlearn: 4856693.9862801\ttotal: 2.29s\tremaining: 5.59s\n",
      "318:\tlearn: 4852730.4046148\ttotal: 2.29s\tremaining: 5.58s\n",
      "319:\tlearn: 4848417.8655352\ttotal: 2.3s\tremaining: 5.58s\n",
      "320:\tlearn: 4848416.1629353\ttotal: 2.3s\tremaining: 5.56s\n",
      "321:\tlearn: 4846199.1924889\ttotal: 2.31s\tremaining: 5.55s\n",
      "322:\tlearn: 4839470.2139099\ttotal: 2.32s\tremaining: 5.55s\n",
      "323:\tlearn: 4838831.6898473\ttotal: 2.32s\tremaining: 5.53s\n",
      "324:\tlearn: 4836550.8765375\ttotal: 2.33s\tremaining: 5.53s\n",
      "325:\tlearn: 4831265.5783744\ttotal: 2.34s\tremaining: 5.52s\n",
      "326:\tlearn: 4829297.6201645\ttotal: 2.35s\tremaining: 5.52s\n",
      "327:\tlearn: 4822035.0310217\ttotal: 2.36s\tremaining: 5.52s\n",
      "328:\tlearn: 4818427.4342836\ttotal: 2.37s\tremaining: 5.51s\n",
      "329:\tlearn: 4814194.6564353\ttotal: 2.38s\tremaining: 5.51s\n",
      "330:\tlearn: 4812164.9557168\ttotal: 2.38s\tremaining: 5.49s\n",
      "331:\tlearn: 4811326.3975431\ttotal: 2.38s\tremaining: 5.47s\n",
      "332:\tlearn: 4809495.9318188\ttotal: 2.39s\tremaining: 5.47s\n",
      "333:\tlearn: 4807123.5965825\ttotal: 2.4s\tremaining: 5.46s\n",
      "334:\tlearn: 4800715.3414335\ttotal: 2.4s\tremaining: 5.44s\n",
      "335:\tlearn: 4797799.7262429\ttotal: 2.41s\tremaining: 5.44s\n",
      "336:\tlearn: 4794681.0340677\ttotal: 2.42s\tremaining: 5.44s\n",
      "337:\tlearn: 4789935.4135919\ttotal: 2.43s\tremaining: 5.43s\n",
      "338:\tlearn: 4786396.7081449\ttotal: 2.43s\tremaining: 5.43s\n",
      "339:\tlearn: 4781497.1647991\ttotal: 2.44s\tremaining: 5.43s\n",
      "340:\tlearn: 4777777.1274151\ttotal: 2.45s\tremaining: 5.42s\n",
      "341:\tlearn: 4775331.8092466\ttotal: 2.46s\tremaining: 5.41s\n",
      "342:\tlearn: 4772369.9637465\ttotal: 2.47s\tremaining: 5.41s\n",
      "343:\tlearn: 4767003.6473125\ttotal: 2.47s\tremaining: 5.4s\n",
      "344:\tlearn: 4760715.2176585\ttotal: 2.48s\tremaining: 5.39s\n",
      "345:\tlearn: 4758466.1436123\ttotal: 2.49s\tremaining: 5.39s\n",
      "346:\tlearn: 4756657.6238141\ttotal: 2.5s\tremaining: 5.39s\n",
      "347:\tlearn: 4752969.2901148\ttotal: 2.5s\tremaining: 5.38s\n",
      "348:\tlearn: 4752791.3227721\ttotal: 2.51s\tremaining: 5.36s\n",
      "349:\tlearn: 4749571.9460452\ttotal: 2.51s\tremaining: 5.35s\n",
      "350:\tlearn: 4746010.4747156\ttotal: 2.52s\tremaining: 5.35s\n",
      "351:\tlearn: 4738581.8127548\ttotal: 2.53s\tremaining: 5.35s\n",
      "352:\tlearn: 4738443.3502687\ttotal: 2.54s\tremaining: 5.33s\n",
      "353:\tlearn: 4734255.7775300\ttotal: 2.54s\tremaining: 5.33s\n",
      "354:\tlearn: 4732366.1521022\ttotal: 2.55s\tremaining: 5.31s\n",
      "355:\tlearn: 4727539.7482593\ttotal: 2.55s\tremaining: 5.3s\n",
      "356:\tlearn: 4723625.6186067\ttotal: 2.56s\tremaining: 5.3s\n",
      "357:\tlearn: 4721200.2742665\ttotal: 2.57s\tremaining: 5.29s\n",
      "358:\tlearn: 4716165.8994207\ttotal: 2.58s\tremaining: 5.29s\n",
      "359:\tlearn: 4714025.0198387\ttotal: 2.59s\tremaining: 5.29s\n",
      "360:\tlearn: 4711393.5346234\ttotal: 2.6s\tremaining: 5.28s\n",
      "361:\tlearn: 4706269.9844298\ttotal: 2.6s\tremaining: 5.27s\n",
      "362:\tlearn: 4702014.8483422\ttotal: 2.61s\tremaining: 5.27s\n",
      "363:\tlearn: 4701866.8431484\ttotal: 2.61s\tremaining: 5.25s\n",
      "364:\tlearn: 4699104.7789202\ttotal: 2.62s\tremaining: 5.24s\n",
      "365:\tlearn: 4696570.0198796\ttotal: 2.63s\tremaining: 5.23s\n",
      "366:\tlearn: 4693010.8818105\ttotal: 2.63s\tremaining: 5.22s\n",
      "367:\tlearn: 4692981.7560006\ttotal: 2.63s\tremaining: 5.2s\n",
      "368:\tlearn: 4689006.2590680\ttotal: 2.64s\tremaining: 5.19s\n",
      "369:\tlearn: 4683084.2925612\ttotal: 2.65s\tremaining: 5.19s\n",
      "370:\tlearn: 4679896.1866444\ttotal: 2.66s\tremaining: 5.19s\n",
      "371:\tlearn: 4673569.2361637\ttotal: 2.67s\tremaining: 5.18s\n",
      "372:\tlearn: 4666372.3479152\ttotal: 2.67s\tremaining: 5.18s\n",
      "373:\tlearn: 4665549.9579912\ttotal: 2.68s\tremaining: 5.16s\n",
      "374:\tlearn: 4664009.8717367\ttotal: 2.69s\tremaining: 5.16s\n",
      "375:\tlearn: 4660758.8808607\ttotal: 2.7s\tremaining: 5.16s\n",
      "376:\tlearn: 4656739.3772205\ttotal: 2.7s\tremaining: 5.15s\n",
      "377:\tlearn: 4653886.3012700\ttotal: 2.71s\tremaining: 5.14s\n",
      "378:\tlearn: 4650860.1288828\ttotal: 2.72s\tremaining: 5.14s\n",
      "379:\tlearn: 4647427.0515849\ttotal: 2.73s\tremaining: 5.14s\n",
      "380:\tlearn: 4647320.1548209\ttotal: 2.73s\tremaining: 5.12s\n",
      "381:\tlearn: 4644608.3001027\ttotal: 2.74s\tremaining: 5.11s\n",
      "382:\tlearn: 4641405.8614188\ttotal: 2.75s\tremaining: 5.11s\n",
      "383:\tlearn: 4640968.7662638\ttotal: 2.75s\tremaining: 5.09s\n",
      "384:\tlearn: 4634261.5544195\ttotal: 2.76s\tremaining: 5.09s\n",
      "385:\tlearn: 4634182.8453425\ttotal: 2.76s\tremaining: 5.07s\n",
      "386:\tlearn: 4628929.8562054\ttotal: 2.77s\tremaining: 5.06s\n",
      "387:\tlearn: 4625367.8705056\ttotal: 2.78s\tremaining: 5.06s\n",
      "388:\tlearn: 4618395.9056701\ttotal: 2.78s\tremaining: 5.05s\n",
      "389:\tlearn: 4616002.9826267\ttotal: 2.8s\tremaining: 5.05s\n",
      "390:\tlearn: 4613093.9337050\ttotal: 2.81s\tremaining: 5.05s\n",
      "391:\tlearn: 4608710.3630040\ttotal: 2.81s\tremaining: 5.05s\n",
      "392:\tlearn: 4608174.4332784\ttotal: 2.81s\tremaining: 5.03s\n",
      "393:\tlearn: 4605437.3248425\ttotal: 2.82s\tremaining: 5.03s\n",
      "394:\tlearn: 4599137.0089602\ttotal: 2.83s\tremaining: 5.02s\n",
      "395:\tlearn: 4597153.3500272\ttotal: 2.83s\tremaining: 5s\n",
      "396:\tlearn: 4589858.7286051\ttotal: 2.85s\tremaining: 5s\n",
      "397:\tlearn: 4586433.3055693\ttotal: 2.85s\tremaining: 5s\n",
      "398:\tlearn: 4583618.0200371\ttotal: 2.86s\tremaining: 4.99s\n",
      "399:\tlearn: 4578181.3251057\ttotal: 2.87s\tremaining: 4.98s\n",
      "400:\tlearn: 4576213.0096675\ttotal: 2.87s\tremaining: 4.97s\n",
      "401:\tlearn: 4569420.9264107\ttotal: 2.88s\tremaining: 4.96s\n",
      "402:\tlearn: 4567552.4810018\ttotal: 2.88s\tremaining: 4.95s\n",
      "403:\tlearn: 4563785.0413964\ttotal: 2.89s\tremaining: 4.95s\n",
      "404:\tlearn: 4560345.7773749\ttotal: 2.9s\tremaining: 4.95s\n",
      "405:\tlearn: 4556887.1689175\ttotal: 2.91s\tremaining: 4.94s\n",
      "406:\tlearn: 4555034.8148884\ttotal: 2.92s\tremaining: 4.93s\n",
      "407:\tlearn: 4550419.5570300\ttotal: 2.93s\tremaining: 4.93s\n",
      "408:\tlearn: 4548180.5767449\ttotal: 2.94s\tremaining: 4.92s\n",
      "409:\tlearn: 4547893.6323320\ttotal: 2.94s\tremaining: 4.91s\n",
      "410:\tlearn: 4547893.1147437\ttotal: 2.94s\tremaining: 4.89s\n",
      "411:\tlearn: 4544984.3983601\ttotal: 2.94s\tremaining: 4.88s\n",
      "412:\tlearn: 4540471.7089137\ttotal: 2.95s\tremaining: 4.87s\n",
      "413:\tlearn: 4539664.1507590\ttotal: 2.96s\tremaining: 4.87s\n",
      "414:\tlearn: 4538399.0080763\ttotal: 2.96s\tremaining: 4.86s\n",
      "415:\tlearn: 4535720.1220363\ttotal: 2.97s\tremaining: 4.85s\n",
      "416:\tlearn: 4534548.2152866\ttotal: 2.98s\tremaining: 4.85s\n",
      "417:\tlearn: 4532110.8802721\ttotal: 2.99s\tremaining: 4.84s\n",
      "418:\tlearn: 4527991.2802265\ttotal: 3s\tremaining: 4.84s\n",
      "419:\tlearn: 4521756.4346694\ttotal: 3s\tremaining: 4.83s\n",
      "420:\tlearn: 4519721.6495299\ttotal: 3.01s\tremaining: 4.82s\n",
      "421:\tlearn: 4519640.4032216\ttotal: 3.01s\tremaining: 4.8s\n",
      "422:\tlearn: 4517160.5585290\ttotal: 3.02s\tremaining: 4.79s\n",
      "423:\tlearn: 4514186.8753341\ttotal: 3.02s\tremaining: 4.79s\n",
      "424:\tlearn: 4510478.5887616\ttotal: 3.03s\tremaining: 4.78s\n",
      "425:\tlearn: 4505892.4048255\ttotal: 3.04s\tremaining: 4.77s\n",
      "426:\tlearn: 4505365.0718965\ttotal: 3.04s\tremaining: 4.76s\n",
      "427:\tlearn: 4502183.3488199\ttotal: 3.05s\tremaining: 4.75s\n",
      "428:\tlearn: 4500728.2885974\ttotal: 3.05s\tremaining: 4.73s\n",
      "429:\tlearn: 4500293.9334676\ttotal: 3.05s\tremaining: 4.72s\n",
      "430:\tlearn: 4493223.6735294\ttotal: 3.06s\tremaining: 4.71s\n",
      "431:\tlearn: 4489120.8651507\ttotal: 3.07s\tremaining: 4.71s\n",
      "432:\tlearn: 4487845.8210957\ttotal: 3.07s\tremaining: 4.7s\n",
      "433:\tlearn: 4483415.2646155\ttotal: 3.08s\tremaining: 4.69s\n",
      "434:\tlearn: 4478005.1144440\ttotal: 3.09s\tremaining: 4.68s\n",
      "435:\tlearn: 4475314.6176639\ttotal: 3.1s\tremaining: 4.68s\n",
      "436:\tlearn: 4469489.1190346\ttotal: 3.1s\tremaining: 4.68s\n",
      "437:\tlearn: 4465445.1245423\ttotal: 3.11s\tremaining: 4.67s\n",
      "438:\tlearn: 4462257.3140478\ttotal: 3.12s\tremaining: 4.66s\n",
      "439:\tlearn: 4461967.8210785\ttotal: 3.12s\tremaining: 4.64s\n",
      "440:\tlearn: 4458950.7262484\ttotal: 3.12s\tremaining: 4.63s\n",
      "441:\tlearn: 4455466.6868638\ttotal: 3.13s\tremaining: 4.63s\n",
      "442:\tlearn: 4450725.1100811\ttotal: 3.14s\tremaining: 4.62s\n",
      "443:\tlearn: 4446369.1875785\ttotal: 3.15s\tremaining: 4.62s\n",
      "444:\tlearn: 4446336.2451094\ttotal: 3.15s\tremaining: 4.6s\n",
      "445:\tlearn: 4443672.8771511\ttotal: 3.16s\tremaining: 4.6s\n",
      "446:\tlearn: 4439828.7967293\ttotal: 3.17s\tremaining: 4.59s\n",
      "447:\tlearn: 4437246.8206549\ttotal: 3.18s\tremaining: 4.59s\n",
      "448:\tlearn: 4435809.8792134\ttotal: 3.18s\tremaining: 4.57s\n",
      "449:\tlearn: 4432654.7505600\ttotal: 3.19s\tremaining: 4.57s\n",
      "450:\tlearn: 4429740.3208627\ttotal: 3.19s\tremaining: 4.56s\n",
      "451:\tlearn: 4426281.9883043\ttotal: 3.2s\tremaining: 4.56s\n",
      "452:\tlearn: 4422396.3281509\ttotal: 3.21s\tremaining: 4.55s\n",
      "453:\tlearn: 4418343.5630678\ttotal: 3.22s\tremaining: 4.55s\n",
      "454:\tlearn: 4414742.4074624\ttotal: 3.23s\tremaining: 4.54s\n",
      "455:\tlearn: 4412009.2756659\ttotal: 3.24s\tremaining: 4.54s\n",
      "456:\tlearn: 4411009.1244118\ttotal: 3.24s\tremaining: 4.52s\n",
      "457:\tlearn: 4406268.0873783\ttotal: 3.25s\tremaining: 4.51s\n",
      "458:\tlearn: 4403470.3458392\ttotal: 3.26s\tremaining: 4.51s\n",
      "459:\tlearn: 4402275.3483570\ttotal: 3.26s\tremaining: 4.5s\n",
      "460:\tlearn: 4399728.7632302\ttotal: 3.27s\tremaining: 4.49s\n",
      "461:\tlearn: 4395534.5194769\ttotal: 3.28s\tremaining: 4.49s\n",
      "462:\tlearn: 4391217.9108981\ttotal: 3.28s\tremaining: 4.48s\n",
      "463:\tlearn: 4388713.3692977\ttotal: 3.28s\tremaining: 4.47s\n",
      "464:\tlearn: 4385644.1743273\ttotal: 3.29s\tremaining: 4.46s\n",
      "465:\tlearn: 4385464.4833412\ttotal: 3.29s\tremaining: 4.45s\n",
      "466:\tlearn: 4383740.2809695\ttotal: 3.3s\tremaining: 4.43s\n",
      "467:\tlearn: 4383604.2608824\ttotal: 3.3s\tremaining: 4.42s\n",
      "468:\tlearn: 4380480.2065398\ttotal: 3.31s\tremaining: 4.42s\n",
      "469:\tlearn: 4380443.1308039\ttotal: 3.31s\tremaining: 4.4s\n",
      "470:\tlearn: 4377073.6729567\ttotal: 3.31s\tremaining: 4.39s\n",
      "471:\tlearn: 4372335.0799482\ttotal: 3.32s\tremaining: 4.39s\n",
      "472:\tlearn: 4368268.4670742\ttotal: 3.33s\tremaining: 4.38s\n",
      "473:\tlearn: 4361696.1465169\ttotal: 3.34s\tremaining: 4.38s\n",
      "474:\tlearn: 4358449.8450535\ttotal: 3.35s\tremaining: 4.37s\n",
      "475:\tlearn: 4354410.4688363\ttotal: 3.35s\tremaining: 4.36s\n",
      "476:\tlearn: 4351528.0403635\ttotal: 3.36s\tremaining: 4.36s\n",
      "477:\tlearn: 4348074.2180070\ttotal: 3.37s\tremaining: 4.36s\n",
      "478:\tlearn: 4346372.9901249\ttotal: 3.38s\tremaining: 4.35s\n",
      "479:\tlearn: 4343862.3182095\ttotal: 3.39s\tremaining: 4.34s\n",
      "480:\tlearn: 4339099.7356746\ttotal: 3.4s\tremaining: 4.34s\n",
      "481:\tlearn: 4336053.8743206\ttotal: 3.41s\tremaining: 4.33s\n",
      "482:\tlearn: 4329214.6934841\ttotal: 3.42s\tremaining: 4.33s\n",
      "483:\tlearn: 4327800.5417519\ttotal: 3.42s\tremaining: 4.32s\n",
      "484:\tlearn: 4323997.2390879\ttotal: 3.43s\tremaining: 4.31s\n",
      "485:\tlearn: 4322039.9098229\ttotal: 3.43s\tremaining: 4.3s\n",
      "486:\tlearn: 4321985.9118900\ttotal: 3.43s\tremaining: 4.28s\n",
      "487:\tlearn: 4319639.1996871\ttotal: 3.44s\tremaining: 4.28s\n",
      "488:\tlearn: 4315460.4640048\ttotal: 3.45s\tremaining: 4.27s\n",
      "489:\tlearn: 4312904.7968301\ttotal: 3.45s\tremaining: 4.26s\n",
      "490:\tlearn: 4310944.9856135\ttotal: 3.46s\tremaining: 4.26s\n",
      "491:\tlearn: 4307321.0335878\ttotal: 3.47s\tremaining: 4.25s\n",
      "492:\tlearn: 4303338.8205169\ttotal: 3.48s\tremaining: 4.25s\n",
      "493:\tlearn: 4300087.3599666\ttotal: 3.48s\tremaining: 4.24s\n",
      "494:\tlearn: 4297627.1008133\ttotal: 3.49s\tremaining: 4.23s\n",
      "495:\tlearn: 4291983.9536891\ttotal: 3.5s\tremaining: 4.22s\n",
      "496:\tlearn: 4291928.9700083\ttotal: 3.5s\tremaining: 4.21s\n",
      "497:\tlearn: 4289167.6962663\ttotal: 3.51s\tremaining: 4.21s\n",
      "498:\tlearn: 4283623.8685112\ttotal: 3.52s\tremaining: 4.21s\n",
      "499:\tlearn: 4277381.2438578\ttotal: 3.53s\tremaining: 4.21s\n",
      "500:\tlearn: 4275650.2280470\ttotal: 3.54s\tremaining: 4.2s\n",
      "501:\tlearn: 4273683.6187969\ttotal: 3.56s\tremaining: 4.2s\n",
      "502:\tlearn: 4267429.5754254\ttotal: 3.56s\tremaining: 4.2s\n",
      "503:\tlearn: 4264797.8170161\ttotal: 3.57s\tremaining: 4.19s\n",
      "504:\tlearn: 4259942.9008476\ttotal: 3.58s\tremaining: 4.18s\n",
      "505:\tlearn: 4255315.4715733\ttotal: 3.59s\tremaining: 4.18s\n",
      "506:\tlearn: 4250600.6588104\ttotal: 3.6s\tremaining: 4.17s\n",
      "507:\tlearn: 4248027.3124402\ttotal: 3.61s\tremaining: 4.17s\n",
      "508:\tlearn: 4244426.5418275\ttotal: 3.62s\tremaining: 4.16s\n",
      "509:\tlearn: 4241985.3394756\ttotal: 3.62s\tremaining: 4.16s\n",
      "510:\tlearn: 4241004.6107768\ttotal: 3.63s\tremaining: 4.15s\n",
      "511:\tlearn: 4236326.5582593\ttotal: 3.64s\tremaining: 4.15s\n",
      "512:\tlearn: 4232153.9593804\ttotal: 3.65s\tremaining: 4.14s\n",
      "513:\tlearn: 4228962.0472911\ttotal: 3.66s\tremaining: 4.14s\n",
      "514:\tlearn: 4226056.4846404\ttotal: 3.67s\tremaining: 4.13s\n",
      "515:\tlearn: 4222265.5918262\ttotal: 3.68s\tremaining: 4.13s\n",
      "516:\tlearn: 4219663.6089871\ttotal: 3.69s\tremaining: 4.12s\n",
      "517:\tlearn: 4218688.9152164\ttotal: 3.69s\tremaining: 4.12s\n",
      "518:\tlearn: 4218059.3123790\ttotal: 3.7s\tremaining: 4.1s\n",
      "519:\tlearn: 4215224.4740371\ttotal: 3.7s\tremaining: 4.09s\n",
      "520:\tlearn: 4213131.9547060\ttotal: 3.71s\tremaining: 4.09s\n",
      "521:\tlearn: 4209954.4929461\ttotal: 3.72s\tremaining: 4.08s\n",
      "522:\tlearn: 4207917.1047568\ttotal: 3.73s\tremaining: 4.08s\n",
      "523:\tlearn: 4207027.2452669\ttotal: 3.74s\tremaining: 4.07s\n",
      "524:\tlearn: 4204128.7000106\ttotal: 3.75s\tremaining: 4.07s\n",
      "525:\tlearn: 4199352.2532253\ttotal: 3.75s\tremaining: 4.06s\n",
      "526:\tlearn: 4197015.7922104\ttotal: 3.76s\tremaining: 4.05s\n",
      "527:\tlearn: 4193684.9017320\ttotal: 3.77s\tremaining: 4.05s\n",
      "528:\tlearn: 4189807.4199770\ttotal: 3.78s\tremaining: 4.04s\n",
      "529:\tlearn: 4184167.8222235\ttotal: 3.79s\tremaining: 4.04s\n",
      "530:\tlearn: 4181788.4536400\ttotal: 3.8s\tremaining: 4.03s\n",
      "531:\tlearn: 4176598.0122614\ttotal: 3.8s\tremaining: 4.02s\n",
      "532:\tlearn: 4173971.0327913\ttotal: 3.81s\tremaining: 4.02s\n",
      "533:\tlearn: 4171817.4297465\ttotal: 3.82s\tremaining: 4.01s\n",
      "534:\tlearn: 4169299.1823711\ttotal: 3.83s\tremaining: 4.01s\n",
      "535:\tlearn: 4167035.7875852\ttotal: 3.84s\tremaining: 4s\n",
      "536:\tlearn: 4163487.5908095\ttotal: 3.85s\tremaining: 4s\n",
      "537:\tlearn: 4160743.5282833\ttotal: 3.86s\tremaining: 3.99s\n",
      "538:\tlearn: 4160743.3475070\ttotal: 3.86s\tremaining: 3.98s\n",
      "539:\tlearn: 4159183.0894854\ttotal: 3.87s\tremaining: 3.98s\n",
      "540:\tlearn: 4155570.8651221\ttotal: 3.88s\tremaining: 3.97s\n",
      "541:\tlearn: 4153159.4129032\ttotal: 3.88s\tremaining: 3.96s\n",
      "542:\tlearn: 4150528.5262316\ttotal: 3.89s\tremaining: 3.96s\n",
      "543:\tlearn: 4146067.0934680\ttotal: 3.9s\tremaining: 3.95s\n",
      "544:\tlearn: 4143940.6028725\ttotal: 3.9s\tremaining: 3.94s\n",
      "545:\tlearn: 4142516.0155836\ttotal: 3.91s\tremaining: 3.93s\n",
      "546:\tlearn: 4138704.4796894\ttotal: 3.91s\tremaining: 3.92s\n",
      "547:\tlearn: 4136875.4975285\ttotal: 3.92s\tremaining: 3.91s\n",
      "548:\tlearn: 4132767.3239584\ttotal: 3.93s\tremaining: 3.9s\n",
      "549:\tlearn: 4125930.5900159\ttotal: 3.94s\tremaining: 3.9s\n",
      "550:\tlearn: 4124071.9529219\ttotal: 3.94s\tremaining: 3.89s\n",
      "551:\tlearn: 4121514.1390241\ttotal: 3.95s\tremaining: 3.88s\n",
      "552:\tlearn: 4116922.2289034\ttotal: 3.96s\tremaining: 3.88s\n",
      "553:\tlearn: 4115866.5865286\ttotal: 3.96s\tremaining: 3.87s\n",
      "554:\tlearn: 4115512.4542165\ttotal: 3.97s\tremaining: 3.86s\n",
      "555:\tlearn: 4115396.7845453\ttotal: 3.97s\tremaining: 3.85s\n",
      "556:\tlearn: 4113103.0411485\ttotal: 3.98s\tremaining: 3.84s\n",
      "557:\tlearn: 4109558.6070896\ttotal: 3.98s\tremaining: 3.83s\n",
      "558:\tlearn: 4108027.2020451\ttotal: 3.99s\tremaining: 3.83s\n",
      "559:\tlearn: 4103910.7916298\ttotal: 4s\tremaining: 3.82s\n",
      "560:\tlearn: 4100407.9081219\ttotal: 4.01s\tremaining: 3.82s\n",
      "561:\tlearn: 4093882.5703396\ttotal: 4.02s\tremaining: 3.81s\n",
      "562:\tlearn: 4090852.5273680\ttotal: 4.03s\tremaining: 3.81s\n",
      "563:\tlearn: 4088644.0448123\ttotal: 4.03s\tremaining: 3.8s\n",
      "564:\tlearn: 4086596.8877231\ttotal: 4.04s\tremaining: 3.79s\n",
      "565:\tlearn: 4083465.3646021\ttotal: 4.05s\tremaining: 3.78s\n",
      "566:\tlearn: 4080850.9847418\ttotal: 4.06s\tremaining: 3.78s\n",
      "567:\tlearn: 4079034.9864971\ttotal: 4.07s\tremaining: 3.77s\n",
      "568:\tlearn: 4076886.8583080\ttotal: 4.07s\tremaining: 3.76s\n",
      "569:\tlearn: 4073639.0387327\ttotal: 4.08s\tremaining: 3.76s\n",
      "570:\tlearn: 4068851.5932708\ttotal: 4.09s\tremaining: 3.75s\n",
      "571:\tlearn: 4063180.2873842\ttotal: 4.1s\tremaining: 3.75s\n",
      "572:\tlearn: 4063180.1650010\ttotal: 4.1s\tremaining: 3.73s\n",
      "573:\tlearn: 4060792.2504852\ttotal: 4.1s\tremaining: 3.72s\n",
      "574:\tlearn: 4055826.5457898\ttotal: 4.11s\tremaining: 3.72s\n",
      "575:\tlearn: 4055712.5108725\ttotal: 4.11s\tremaining: 3.71s\n",
      "576:\tlearn: 4051781.6689597\ttotal: 4.12s\tremaining: 3.7s\n",
      "577:\tlearn: 4048305.0335465\ttotal: 4.13s\tremaining: 3.69s\n",
      "578:\tlearn: 4046210.0329714\ttotal: 4.13s\tremaining: 3.69s\n",
      "579:\tlearn: 4042712.5797981\ttotal: 4.14s\tremaining: 3.68s\n",
      "580:\tlearn: 4040540.1124878\ttotal: 4.15s\tremaining: 3.67s\n",
      "581:\tlearn: 4038526.1570883\ttotal: 4.16s\tremaining: 3.66s\n",
      "582:\tlearn: 4034681.5874900\ttotal: 4.17s\tremaining: 3.66s\n",
      "583:\tlearn: 4032697.7363916\ttotal: 4.17s\tremaining: 3.65s\n",
      "584:\tlearn: 4029146.7210432\ttotal: 4.18s\tremaining: 3.65s\n",
      "585:\tlearn: 4026447.2100571\ttotal: 4.19s\tremaining: 3.64s\n",
      "586:\tlearn: 4025157.0251671\ttotal: 4.2s\tremaining: 3.63s\n",
      "587:\tlearn: 4021360.3177158\ttotal: 4.21s\tremaining: 3.63s\n",
      "588:\tlearn: 4019300.2929743\ttotal: 4.22s\tremaining: 3.62s\n",
      "589:\tlearn: 4017261.3076419\ttotal: 4.23s\tremaining: 3.62s\n",
      "590:\tlearn: 4015039.0989240\ttotal: 4.24s\tremaining: 3.61s\n",
      "591:\tlearn: 4013672.2987365\ttotal: 4.25s\tremaining: 3.61s\n",
      "592:\tlearn: 4007728.7669332\ttotal: 4.25s\tremaining: 3.6s\n",
      "593:\tlearn: 4004070.4360484\ttotal: 4.26s\tremaining: 3.6s\n",
      "594:\tlearn: 4002410.9201578\ttotal: 4.27s\tremaining: 3.59s\n",
      "595:\tlearn: 3999185.3328762\ttotal: 4.28s\tremaining: 3.58s\n",
      "596:\tlearn: 3997503.3373885\ttotal: 4.29s\tremaining: 3.57s\n",
      "597:\tlearn: 3995126.7352974\ttotal: 4.29s\tremaining: 3.57s\n",
      "598:\tlearn: 3991276.8601502\ttotal: 4.3s\tremaining: 3.56s\n",
      "599:\tlearn: 3986714.4631460\ttotal: 4.31s\tremaining: 3.55s\n",
      "600:\tlearn: 3985657.2685981\ttotal: 4.32s\tremaining: 3.55s\n",
      "601:\tlearn: 3982221.1263651\ttotal: 4.33s\tremaining: 3.54s\n",
      "602:\tlearn: 3980008.9292739\ttotal: 4.34s\tremaining: 3.54s\n",
      "603:\tlearn: 3977614.7901955\ttotal: 4.34s\tremaining: 3.53s\n",
      "604:\tlearn: 3973355.6817705\ttotal: 4.35s\tremaining: 3.52s\n",
      "605:\tlearn: 3971302.5099501\ttotal: 4.36s\tremaining: 3.52s\n",
      "606:\tlearn: 3969537.1698235\ttotal: 4.37s\tremaining: 3.51s\n",
      "607:\tlearn: 3967038.4254930\ttotal: 4.38s\tremaining: 3.51s\n",
      "608:\tlearn: 3965832.7344793\ttotal: 4.38s\tremaining: 3.5s\n",
      "609:\tlearn: 3964166.4236499\ttotal: 4.39s\tremaining: 3.49s\n",
      "610:\tlearn: 3963698.3591022\ttotal: 4.39s\tremaining: 3.48s\n",
      "611:\tlearn: 3960346.7830356\ttotal: 4.41s\tremaining: 3.48s\n",
      "612:\tlearn: 3957151.5655506\ttotal: 4.41s\tremaining: 3.47s\n",
      "613:\tlearn: 3954861.8053469\ttotal: 4.42s\tremaining: 3.46s\n",
      "614:\tlearn: 3952745.6001048\ttotal: 4.42s\tremaining: 3.45s\n",
      "615:\tlearn: 3950286.0409002\ttotal: 4.43s\tremaining: 3.45s\n",
      "616:\tlearn: 3946828.4344210\ttotal: 4.44s\tremaining: 3.44s\n",
      "617:\tlearn: 3945676.2325403\ttotal: 4.45s\tremaining: 3.43s\n",
      "618:\tlearn: 3943534.3500263\ttotal: 4.46s\tremaining: 3.43s\n",
      "619:\tlearn: 3940638.4577258\ttotal: 4.47s\tremaining: 3.42s\n",
      "620:\tlearn: 3937206.7325345\ttotal: 4.47s\tremaining: 3.42s\n",
      "621:\tlearn: 3935480.1936228\ttotal: 4.49s\tremaining: 3.41s\n",
      "622:\tlearn: 3932338.5814388\ttotal: 4.49s\tremaining: 3.4s\n",
      "623:\tlearn: 3928852.7690075\ttotal: 4.5s\tremaining: 3.4s\n",
      "624:\tlearn: 3923234.5817519\ttotal: 4.51s\tremaining: 3.39s\n",
      "625:\tlearn: 3921155.3114932\ttotal: 4.52s\tremaining: 3.38s\n",
      "626:\tlearn: 3917732.3469359\ttotal: 4.52s\tremaining: 3.38s\n",
      "627:\tlearn: 3912007.9742195\ttotal: 4.53s\tremaining: 3.37s\n",
      "628:\tlearn: 3910076.8459579\ttotal: 4.54s\tremaining: 3.36s\n",
      "629:\tlearn: 3908433.4297972\ttotal: 4.54s\tremaining: 3.35s\n",
      "630:\tlearn: 3905964.3727465\ttotal: 4.55s\tremaining: 3.35s\n",
      "631:\tlearn: 3904018.3437106\ttotal: 4.56s\tremaining: 3.34s\n",
      "632:\tlearn: 3903459.5898352\ttotal: 4.56s\tremaining: 3.33s\n",
      "633:\tlearn: 3899667.1491574\ttotal: 4.57s\tremaining: 3.32s\n",
      "634:\tlearn: 3897461.9816112\ttotal: 4.58s\tremaining: 3.32s\n",
      "635:\tlearn: 3895008.0494205\ttotal: 4.58s\tremaining: 3.31s\n",
      "636:\tlearn: 3891580.2784072\ttotal: 4.59s\tremaining: 3.3s\n",
      "637:\tlearn: 3889133.1646015\ttotal: 4.6s\tremaining: 3.29s\n",
      "638:\tlearn: 3885714.5843974\ttotal: 4.61s\tremaining: 3.29s\n",
      "639:\tlearn: 3885693.2172745\ttotal: 4.61s\tremaining: 3.27s\n",
      "640:\tlearn: 3880864.9389095\ttotal: 4.62s\tremaining: 3.27s\n",
      "641:\tlearn: 3878909.9292688\ttotal: 4.62s\tremaining: 3.26s\n",
      "642:\tlearn: 3874973.0085690\ttotal: 4.63s\tremaining: 3.26s\n",
      "643:\tlearn: 3873314.9665301\ttotal: 4.64s\tremaining: 3.25s\n",
      "644:\tlearn: 3873314.8410417\ttotal: 4.64s\tremaining: 3.24s\n",
      "645:\tlearn: 3870570.7626431\ttotal: 4.65s\tremaining: 3.23s\n",
      "646:\tlearn: 3868596.6141092\ttotal: 4.66s\tremaining: 3.23s\n",
      "647:\tlearn: 3864347.2176151\ttotal: 4.67s\tremaining: 3.23s\n",
      "648:\tlearn: 3861771.1053848\ttotal: 4.68s\tremaining: 3.22s\n",
      "649:\tlearn: 3858376.2718857\ttotal: 4.69s\tremaining: 3.21s\n",
      "650:\tlearn: 3857769.0331836\ttotal: 4.69s\tremaining: 3.2s\n",
      "651:\tlearn: 3855060.5813743\ttotal: 4.7s\tremaining: 3.19s\n",
      "652:\tlearn: 3852272.6539139\ttotal: 4.71s\tremaining: 3.19s\n",
      "653:\tlearn: 3849256.8359283\ttotal: 4.72s\tremaining: 3.18s\n",
      "654:\tlearn: 3847303.8767543\ttotal: 4.72s\tremaining: 3.17s\n",
      "655:\tlearn: 3841064.3009700\ttotal: 4.73s\tremaining: 3.17s\n",
      "656:\tlearn: 3839343.2950803\ttotal: 4.74s\tremaining: 3.16s\n",
      "657:\tlearn: 3835572.2490808\ttotal: 4.75s\tremaining: 3.15s\n",
      "658:\tlearn: 3834142.8352325\ttotal: 4.75s\tremaining: 3.14s\n",
      "659:\tlearn: 3830671.9360015\ttotal: 4.76s\tremaining: 3.14s\n",
      "660:\tlearn: 3828619.4430355\ttotal: 4.77s\tremaining: 3.13s\n",
      "661:\tlearn: 3828405.1315775\ttotal: 4.77s\tremaining: 3.12s\n",
      "662:\tlearn: 3828299.9710979\ttotal: 4.77s\tremaining: 3.11s\n",
      "663:\tlearn: 3826077.9167820\ttotal: 4.78s\tremaining: 3.1s\n",
      "664:\tlearn: 3825809.7543068\ttotal: 4.78s\tremaining: 3.09s\n",
      "665:\tlearn: 3821567.0762873\ttotal: 4.79s\tremaining: 3.09s\n",
      "666:\tlearn: 3819651.8077558\ttotal: 4.8s\tremaining: 3.08s\n",
      "667:\tlearn: 3816969.5376678\ttotal: 4.81s\tremaining: 3.07s\n",
      "668:\tlearn: 3816938.2338297\ttotal: 4.81s\tremaining: 3.06s\n",
      "669:\tlearn: 3815190.0382748\ttotal: 4.82s\tremaining: 3.06s\n",
      "670:\tlearn: 3811608.0214786\ttotal: 4.83s\tremaining: 3.05s\n",
      "671:\tlearn: 3809549.4373455\ttotal: 4.83s\tremaining: 3.04s\n",
      "672:\tlearn: 3807837.2012754\ttotal: 4.84s\tremaining: 3.03s\n",
      "673:\tlearn: 3807338.9706619\ttotal: 4.84s\tremaining: 3.03s\n",
      "674:\tlearn: 3804609.0979592\ttotal: 4.86s\tremaining: 3.02s\n",
      "675:\tlearn: 3803791.5647225\ttotal: 4.86s\tremaining: 3.01s\n",
      "676:\tlearn: 3800728.8286701\ttotal: 4.87s\tremaining: 3s\n",
      "677:\tlearn: 3798733.8570389\ttotal: 4.87s\tremaining: 3s\n",
      "678:\tlearn: 3797167.8262646\ttotal: 4.87s\tremaining: 2.99s\n",
      "679:\tlearn: 3796983.1299652\ttotal: 4.88s\tremaining: 2.98s\n",
      "680:\tlearn: 3796983.0661678\ttotal: 4.88s\tremaining: 2.96s\n",
      "681:\tlearn: 3794456.4912113\ttotal: 4.89s\tremaining: 2.96s\n",
      "682:\tlearn: 3792414.0151938\ttotal: 4.89s\tremaining: 2.95s\n",
      "683:\tlearn: 3792403.5236683\ttotal: 4.89s\tremaining: 2.94s\n",
      "684:\tlearn: 3790176.4882945\ttotal: 4.9s\tremaining: 2.93s\n",
      "685:\tlearn: 3787153.3676157\ttotal: 4.91s\tremaining: 2.93s\n",
      "686:\tlearn: 3784124.2524546\ttotal: 4.92s\tremaining: 2.92s\n",
      "687:\tlearn: 3783971.7644995\ttotal: 4.92s\tremaining: 2.91s\n",
      "688:\tlearn: 3779338.3502861\ttotal: 4.93s\tremaining: 2.91s\n",
      "689:\tlearn: 3777886.0963861\ttotal: 4.94s\tremaining: 2.9s\n",
      "690:\tlearn: 3776592.0868796\ttotal: 4.95s\tremaining: 2.89s\n",
      "691:\tlearn: 3774762.4044049\ttotal: 4.95s\tremaining: 2.88s\n",
      "692:\tlearn: 3769191.8907074\ttotal: 4.96s\tremaining: 2.88s\n",
      "693:\tlearn: 3767316.0370367\ttotal: 4.97s\tremaining: 2.87s\n",
      "694:\tlearn: 3765925.9007309\ttotal: 4.98s\tremaining: 2.86s\n",
      "695:\tlearn: 3762375.5195448\ttotal: 4.99s\tremaining: 2.86s\n",
      "696:\tlearn: 3760702.1931999\ttotal: 4.99s\tremaining: 2.85s\n",
      "697:\tlearn: 3758203.1927075\ttotal: 5s\tremaining: 2.85s\n",
      "698:\tlearn: 3754646.4072090\ttotal: 5.01s\tremaining: 2.84s\n",
      "699:\tlearn: 3753513.2762279\ttotal: 5.01s\tremaining: 2.83s\n",
      "700:\tlearn: 3748949.4158866\ttotal: 5.03s\tremaining: 2.83s\n",
      "701:\tlearn: 3745735.2852861\ttotal: 5.04s\tremaining: 2.82s\n",
      "702:\tlearn: 3745181.4901847\ttotal: 5.04s\tremaining: 2.81s\n",
      "703:\tlearn: 3743530.6475134\ttotal: 5.04s\tremaining: 2.8s\n",
      "704:\tlearn: 3743517.8632326\ttotal: 5.05s\tremaining: 2.79s\n",
      "705:\tlearn: 3739404.0219287\ttotal: 5.06s\tremaining: 2.79s\n",
      "706:\tlearn: 3734738.8379192\ttotal: 5.07s\tremaining: 2.78s\n",
      "707:\tlearn: 3731283.0971589\ttotal: 5.07s\tremaining: 2.77s\n",
      "708:\tlearn: 3731267.2168906\ttotal: 5.08s\tremaining: 2.76s\n",
      "709:\tlearn: 3728878.4860149\ttotal: 5.09s\tremaining: 2.76s\n",
      "710:\tlearn: 3727429.3959953\ttotal: 5.09s\tremaining: 2.75s\n",
      "711:\tlearn: 3727425.6163321\ttotal: 5.1s\tremaining: 2.74s\n",
      "712:\tlearn: 3725214.1704024\ttotal: 5.11s\tremaining: 2.73s\n",
      "713:\tlearn: 3723408.6211492\ttotal: 5.11s\tremaining: 2.73s\n",
      "714:\tlearn: 3721272.5843200\ttotal: 5.12s\tremaining: 2.72s\n",
      "715:\tlearn: 3719226.1880567\ttotal: 5.14s\tremaining: 2.72s\n",
      "716:\tlearn: 3718945.3773452\ttotal: 5.14s\tremaining: 2.71s\n",
      "717:\tlearn: 3714879.2446731\ttotal: 5.15s\tremaining: 2.7s\n",
      "718:\tlearn: 3713028.1412349\ttotal: 5.16s\tremaining: 2.7s\n",
      "719:\tlearn: 3711644.6559694\ttotal: 5.17s\tremaining: 2.69s\n",
      "720:\tlearn: 3708147.7011653\ttotal: 5.18s\tremaining: 2.69s\n",
      "721:\tlearn: 3706394.5294142\ttotal: 5.19s\tremaining: 2.68s\n",
      "722:\tlearn: 3704501.7709297\ttotal: 5.19s\tremaining: 2.67s\n",
      "723:\tlearn: 3701602.2246480\ttotal: 5.21s\tremaining: 2.67s\n",
      "724:\tlearn: 3699419.7805389\ttotal: 5.21s\tremaining: 2.66s\n",
      "725:\tlearn: 3696342.0088078\ttotal: 5.23s\tremaining: 2.66s\n",
      "726:\tlearn: 3691934.0463193\ttotal: 5.23s\tremaining: 2.65s\n",
      "727:\tlearn: 3689245.4246634\ttotal: 5.24s\tremaining: 2.64s\n",
      "728:\tlearn: 3686727.9101704\ttotal: 5.25s\tremaining: 2.64s\n",
      "729:\tlearn: 3682992.0058299\ttotal: 5.26s\tremaining: 2.63s\n",
      "730:\tlearn: 3680319.3754662\ttotal: 5.27s\tremaining: 2.62s\n",
      "731:\tlearn: 3678905.9302603\ttotal: 5.28s\tremaining: 2.62s\n",
      "732:\tlearn: 3676752.5284955\ttotal: 5.28s\tremaining: 2.61s\n",
      "733:\tlearn: 3674174.8004943\ttotal: 5.29s\tremaining: 2.6s\n",
      "734:\tlearn: 3674174.7648766\ttotal: 5.29s\tremaining: 2.59s\n",
      "735:\tlearn: 3671382.0202990\ttotal: 5.3s\tremaining: 2.58s\n",
      "736:\tlearn: 3667861.0386313\ttotal: 5.31s\tremaining: 2.58s\n",
      "737:\tlearn: 3666377.0296746\ttotal: 5.32s\tremaining: 2.57s\n",
      "738:\tlearn: 3664423.4264272\ttotal: 5.33s\tremaining: 2.57s\n",
      "739:\tlearn: 3663099.3497523\ttotal: 5.34s\tremaining: 2.56s\n",
      "740:\tlearn: 3661894.9065739\ttotal: 5.34s\tremaining: 2.55s\n",
      "741:\tlearn: 3660088.8279125\ttotal: 5.35s\tremaining: 2.55s\n",
      "742:\tlearn: 3658578.8674691\ttotal: 5.36s\tremaining: 2.54s\n",
      "743:\tlearn: 3658406.8518757\ttotal: 5.36s\tremaining: 2.53s\n",
      "744:\tlearn: 3656275.9095843\ttotal: 5.37s\tremaining: 2.52s\n",
      "745:\tlearn: 3653947.0420408\ttotal: 5.38s\tremaining: 2.51s\n",
      "746:\tlearn: 3652750.8786067\ttotal: 5.38s\tremaining: 2.51s\n",
      "747:\tlearn: 3651925.8922652\ttotal: 5.39s\tremaining: 2.5s\n",
      "748:\tlearn: 3648854.3385692\ttotal: 5.4s\tremaining: 2.5s\n",
      "749:\tlearn: 3646877.8603673\ttotal: 5.41s\tremaining: 2.49s\n",
      "750:\tlearn: 3645160.0216256\ttotal: 5.42s\tremaining: 2.48s\n",
      "751:\tlearn: 3641950.0293668\ttotal: 5.43s\tremaining: 2.47s\n",
      "752:\tlearn: 3640628.0246650\ttotal: 5.43s\tremaining: 2.47s\n",
      "753:\tlearn: 3637301.1854368\ttotal: 5.44s\tremaining: 2.46s\n",
      "754:\tlearn: 3635498.8314846\ttotal: 5.45s\tremaining: 2.46s\n",
      "755:\tlearn: 3633169.9818727\ttotal: 5.46s\tremaining: 2.45s\n",
      "756:\tlearn: 3631185.1123177\ttotal: 5.47s\tremaining: 2.44s\n",
      "757:\tlearn: 3629511.6816469\ttotal: 5.47s\tremaining: 2.43s\n",
      "758:\tlearn: 3628710.9664249\ttotal: 5.48s\tremaining: 2.43s\n",
      "759:\tlearn: 3626688.9907633\ttotal: 5.49s\tremaining: 2.42s\n",
      "760:\tlearn: 3623672.0443705\ttotal: 5.49s\tremaining: 2.41s\n",
      "761:\tlearn: 3622956.3850648\ttotal: 5.5s\tremaining: 2.4s\n",
      "762:\tlearn: 3621042.5538580\ttotal: 5.51s\tremaining: 2.4s\n",
      "763:\tlearn: 3619567.9800402\ttotal: 5.51s\tremaining: 2.39s\n",
      "764:\tlearn: 3617336.8007433\ttotal: 5.52s\tremaining: 2.38s\n",
      "765:\tlearn: 3614783.5269666\ttotal: 5.53s\tremaining: 2.37s\n",
      "766:\tlearn: 3611037.9056556\ttotal: 5.53s\tremaining: 2.37s\n",
      "767:\tlearn: 3608528.8565483\ttotal: 5.54s\tremaining: 2.36s\n",
      "768:\tlearn: 3607577.5829444\ttotal: 5.55s\tremaining: 2.35s\n",
      "769:\tlearn: 3605522.5070460\ttotal: 5.56s\tremaining: 2.35s\n",
      "770:\tlearn: 3602977.4625599\ttotal: 5.56s\tremaining: 2.34s\n",
      "771:\tlearn: 3601123.4112215\ttotal: 5.57s\tremaining: 2.33s\n",
      "772:\tlearn: 3596352.8931639\ttotal: 5.58s\tremaining: 2.32s\n",
      "773:\tlearn: 3594855.7007594\ttotal: 5.59s\tremaining: 2.32s\n",
      "774:\tlearn: 3591056.7723474\ttotal: 5.6s\tremaining: 2.31s\n",
      "775:\tlearn: 3589442.8718076\ttotal: 5.61s\tremaining: 2.31s\n",
      "776:\tlearn: 3587849.6620991\ttotal: 5.62s\tremaining: 2.3s\n",
      "777:\tlearn: 3584345.5369020\ttotal: 5.63s\tremaining: 2.29s\n",
      "778:\tlearn: 3581724.8517005\ttotal: 5.64s\tremaining: 2.29s\n",
      "779:\tlearn: 3581038.8252153\ttotal: 5.64s\tremaining: 2.28s\n",
      "780:\tlearn: 3581001.8655349\ttotal: 5.64s\tremaining: 2.27s\n",
      "781:\tlearn: 3578277.2187611\ttotal: 5.65s\tremaining: 2.26s\n",
      "782:\tlearn: 3576685.6123054\ttotal: 5.66s\tremaining: 2.25s\n",
      "783:\tlearn: 3576459.7930377\ttotal: 5.66s\tremaining: 2.24s\n",
      "784:\tlearn: 3572698.7130296\ttotal: 5.66s\tremaining: 2.24s\n",
      "785:\tlearn: 3572461.1091817\ttotal: 5.66s\tremaining: 2.23s\n",
      "786:\tlearn: 3572461.0675078\ttotal: 5.66s\tremaining: 2.22s\n",
      "787:\tlearn: 3570964.6658704\ttotal: 5.67s\tremaining: 2.21s\n",
      "788:\tlearn: 3568363.0957093\ttotal: 5.67s\tremaining: 2.2s\n",
      "789:\tlearn: 3567327.3177705\ttotal: 5.68s\tremaining: 2.19s\n",
      "790:\tlearn: 3564154.3583484\ttotal: 5.69s\tremaining: 2.19s\n",
      "791:\tlearn: 3560778.0650956\ttotal: 5.7s\tremaining: 2.18s\n",
      "792:\tlearn: 3555702.7898690\ttotal: 5.71s\tremaining: 2.17s\n",
      "793:\tlearn: 3553438.0927648\ttotal: 5.72s\tremaining: 2.17s\n",
      "794:\tlearn: 3548421.5493917\ttotal: 5.73s\tremaining: 2.16s\n",
      "795:\tlearn: 3545324.9062561\ttotal: 5.74s\tremaining: 2.15s\n",
      "796:\tlearn: 3541278.7868353\ttotal: 5.75s\tremaining: 2.15s\n",
      "797:\tlearn: 3541239.7557425\ttotal: 5.75s\tremaining: 2.14s\n",
      "798:\tlearn: 3538980.9918950\ttotal: 5.75s\tremaining: 2.13s\n",
      "799:\tlearn: 3536501.0577024\ttotal: 5.76s\tremaining: 2.13s\n",
      "800:\tlearn: 3531327.3230901\ttotal: 5.77s\tremaining: 2.12s\n",
      "801:\tlearn: 3531327.2811793\ttotal: 5.77s\tremaining: 2.11s\n",
      "802:\tlearn: 3528741.7078517\ttotal: 5.78s\tremaining: 2.1s\n",
      "803:\tlearn: 3526135.8469351\ttotal: 5.79s\tremaining: 2.1s\n",
      "804:\tlearn: 3525963.6308845\ttotal: 5.79s\tremaining: 2.09s\n",
      "805:\tlearn: 3524078.1356993\ttotal: 5.8s\tremaining: 2.08s\n",
      "806:\tlearn: 3522558.9208505\ttotal: 5.81s\tremaining: 2.08s\n",
      "807:\tlearn: 3521167.4371501\ttotal: 5.82s\tremaining: 2.07s\n",
      "808:\tlearn: 3518842.9132488\ttotal: 5.83s\tremaining: 2.06s\n",
      "809:\tlearn: 3517333.6114435\ttotal: 5.83s\tremaining: 2.05s\n",
      "810:\tlearn: 3515791.0480308\ttotal: 5.84s\tremaining: 2.04s\n",
      "811:\tlearn: 3513808.2820954\ttotal: 5.85s\tremaining: 2.04s\n",
      "812:\tlearn: 3511791.9870225\ttotal: 5.86s\tremaining: 2.03s\n",
      "813:\tlearn: 3509135.5463619\ttotal: 5.87s\tremaining: 2.02s\n",
      "814:\tlearn: 3505891.8005658\ttotal: 5.88s\tremaining: 2.02s\n",
      "815:\tlearn: 3504544.9116072\ttotal: 5.88s\tremaining: 2.01s\n",
      "816:\tlearn: 3503066.5400413\ttotal: 5.89s\tremaining: 2s\n",
      "817:\tlearn: 3501764.5049866\ttotal: 5.9s\tremaining: 2s\n",
      "818:\tlearn: 3501419.0043097\ttotal: 5.9s\tremaining: 1.99s\n",
      "819:\tlearn: 3500326.4282105\ttotal: 5.9s\tremaining: 1.98s\n",
      "820:\tlearn: 3497489.9961195\ttotal: 5.91s\tremaining: 1.97s\n",
      "821:\tlearn: 3495023.6399870\ttotal: 5.92s\tremaining: 1.97s\n",
      "822:\tlearn: 3492227.6225598\ttotal: 5.93s\tremaining: 1.96s\n",
      "823:\tlearn: 3487833.8116065\ttotal: 5.94s\tremaining: 1.95s\n",
      "824:\tlearn: 3483971.1991906\ttotal: 5.95s\tremaining: 1.95s\n",
      "825:\tlearn: 3482475.8046623\ttotal: 5.96s\tremaining: 1.94s\n",
      "826:\tlearn: 3482467.4501320\ttotal: 5.96s\tremaining: 1.93s\n",
      "827:\tlearn: 3481307.5056583\ttotal: 5.96s\tremaining: 1.92s\n",
      "828:\tlearn: 3479467.5901857\ttotal: 5.97s\tremaining: 1.92s\n",
      "829:\tlearn: 3478007.8969728\ttotal: 5.98s\tremaining: 1.91s\n",
      "830:\tlearn: 3476624.2297978\ttotal: 5.99s\tremaining: 1.9s\n",
      "831:\tlearn: 3476219.3946412\ttotal: 5.99s\tremaining: 1.89s\n",
      "832:\tlearn: 3474745.4134759\ttotal: 6s\tremaining: 1.89s\n",
      "833:\tlearn: 3474738.8035980\ttotal: 6s\tremaining: 1.88s\n",
      "834:\tlearn: 3473806.1084385\ttotal: 6s\tremaining: 1.87s\n",
      "835:\tlearn: 3472419.7818869\ttotal: 6.01s\tremaining: 1.86s\n",
      "836:\tlearn: 3471394.5406893\ttotal: 6.02s\tremaining: 1.85s\n",
      "837:\tlearn: 3468942.1016525\ttotal: 6.03s\tremaining: 1.85s\n",
      "838:\tlearn: 3466411.6403161\ttotal: 6.04s\tremaining: 1.84s\n",
      "839:\tlearn: 3464770.5649699\ttotal: 6.05s\tremaining: 1.83s\n",
      "840:\tlearn: 3462744.2662667\ttotal: 6.05s\tremaining: 1.83s\n",
      "841:\tlearn: 3460051.7901881\ttotal: 6.06s\tremaining: 1.82s\n",
      "842:\tlearn: 3458633.4275528\ttotal: 6.07s\tremaining: 1.81s\n",
      "843:\tlearn: 3457003.6740295\ttotal: 6.08s\tremaining: 1.81s\n",
      "844:\tlearn: 3455812.2378303\ttotal: 6.08s\tremaining: 1.8s\n",
      "845:\tlearn: 3455805.3300695\ttotal: 6.08s\tremaining: 1.79s\n",
      "846:\tlearn: 3454467.5597751\ttotal: 6.09s\tremaining: 1.78s\n",
      "847:\tlearn: 3453269.9372853\ttotal: 6.1s\tremaining: 1.78s\n",
      "848:\tlearn: 3451396.8347174\ttotal: 6.11s\tremaining: 1.77s\n",
      "849:\tlearn: 3449208.3511005\ttotal: 6.12s\tremaining: 1.76s\n",
      "850:\tlearn: 3445029.8084941\ttotal: 6.13s\tremaining: 1.76s\n",
      "851:\tlearn: 3442870.0297407\ttotal: 6.14s\tremaining: 1.75s\n",
      "852:\tlearn: 3439362.0484720\ttotal: 6.15s\tremaining: 1.74s\n",
      "853:\tlearn: 3438795.9542212\ttotal: 6.15s\tremaining: 1.74s\n",
      "854:\tlearn: 3437491.4919783\ttotal: 6.16s\tremaining: 1.73s\n",
      "855:\tlearn: 3433878.5810354\ttotal: 6.17s\tremaining: 1.72s\n",
      "856:\tlearn: 3431404.9939824\ttotal: 6.17s\tremaining: 1.71s\n",
      "857:\tlearn: 3429708.3458978\ttotal: 6.18s\tremaining: 1.71s\n",
      "858:\tlearn: 3426784.8199856\ttotal: 6.19s\tremaining: 1.7s\n",
      "859:\tlearn: 3425319.6316828\ttotal: 6.2s\tremaining: 1.69s\n",
      "860:\tlearn: 3425319.6158357\ttotal: 6.2s\tremaining: 1.69s\n",
      "861:\tlearn: 3423503.7818069\ttotal: 6.21s\tremaining: 1.68s\n",
      "862:\tlearn: 3422847.6731248\ttotal: 6.22s\tremaining: 1.67s\n",
      "863:\tlearn: 3420024.0221766\ttotal: 6.23s\tremaining: 1.67s\n",
      "864:\tlearn: 3419137.7025787\ttotal: 6.23s\tremaining: 1.66s\n",
      "865:\tlearn: 3416037.5980616\ttotal: 6.24s\tremaining: 1.65s\n",
      "866:\tlearn: 3413918.6688247\ttotal: 6.25s\tremaining: 1.64s\n",
      "867:\tlearn: 3413863.5989148\ttotal: 6.25s\tremaining: 1.64s\n",
      "868:\tlearn: 3411625.9866738\ttotal: 6.26s\tremaining: 1.63s\n",
      "869:\tlearn: 3409229.8384882\ttotal: 6.27s\tremaining: 1.62s\n",
      "870:\tlearn: 3406426.4001098\ttotal: 6.28s\tremaining: 1.61s\n",
      "871:\tlearn: 3403968.8698024\ttotal: 6.29s\tremaining: 1.61s\n",
      "872:\tlearn: 3403948.3097758\ttotal: 6.29s\tremaining: 1.6s\n",
      "873:\tlearn: 3402107.8988645\ttotal: 6.3s\tremaining: 1.59s\n",
      "874:\tlearn: 3399078.3193092\ttotal: 6.31s\tremaining: 1.59s\n",
      "875:\tlearn: 3398469.9301128\ttotal: 6.32s\tremaining: 1.58s\n",
      "876:\tlearn: 3396960.3635939\ttotal: 6.32s\tremaining: 1.57s\n",
      "877:\tlearn: 3394108.7005846\ttotal: 6.33s\tremaining: 1.56s\n",
      "878:\tlearn: 3392299.2325542\ttotal: 6.34s\tremaining: 1.56s\n",
      "879:\tlearn: 3389836.2009430\ttotal: 6.35s\tremaining: 1.55s\n",
      "880:\tlearn: 3386776.8210461\ttotal: 6.36s\tremaining: 1.54s\n",
      "881:\tlearn: 3386640.4857618\ttotal: 6.36s\tremaining: 1.54s\n",
      "882:\tlearn: 3383743.9935028\ttotal: 6.37s\tremaining: 1.53s\n",
      "883:\tlearn: 3380549.1390657\ttotal: 6.38s\tremaining: 1.52s\n",
      "884:\tlearn: 3380549.1226169\ttotal: 6.38s\tremaining: 1.51s\n",
      "885:\tlearn: 3379100.7410215\ttotal: 6.39s\tremaining: 1.51s\n",
      "886:\tlearn: 3376306.4175570\ttotal: 6.4s\tremaining: 1.5s\n",
      "887:\tlearn: 3375337.4397760\ttotal: 6.41s\tremaining: 1.49s\n",
      "888:\tlearn: 3372927.2712654\ttotal: 6.42s\tremaining: 1.49s\n",
      "889:\tlearn: 3370072.5703867\ttotal: 6.43s\tremaining: 1.48s\n",
      "890:\tlearn: 3369087.9170620\ttotal: 6.44s\tremaining: 1.47s\n",
      "891:\tlearn: 3366552.7476289\ttotal: 6.45s\tremaining: 1.47s\n",
      "892:\tlearn: 3364677.4771557\ttotal: 6.46s\tremaining: 1.46s\n",
      "893:\tlearn: 3364677.4456020\ttotal: 6.46s\tremaining: 1.45s\n",
      "894:\tlearn: 3362967.5692847\ttotal: 6.47s\tremaining: 1.45s\n",
      "895:\tlearn: 3359830.2615144\ttotal: 6.47s\tremaining: 1.44s\n",
      "896:\tlearn: 3357213.6055330\ttotal: 6.49s\tremaining: 1.43s\n",
      "897:\tlearn: 3355049.3672358\ttotal: 6.5s\tremaining: 1.42s\n",
      "898:\tlearn: 3353961.9072046\ttotal: 6.5s\tremaining: 1.42s\n",
      "899:\tlearn: 3353579.7678819\ttotal: 6.5s\tremaining: 1.41s\n",
      "900:\tlearn: 3351056.3265078\ttotal: 6.51s\tremaining: 1.4s\n",
      "901:\tlearn: 3349585.4221721\ttotal: 6.52s\tremaining: 1.39s\n",
      "902:\tlearn: 3347570.5341852\ttotal: 6.53s\tremaining: 1.39s\n",
      "903:\tlearn: 3345142.0276969\ttotal: 6.54s\tremaining: 1.38s\n",
      "904:\tlearn: 3342423.5203619\ttotal: 6.55s\tremaining: 1.37s\n",
      "905:\tlearn: 3340552.6946063\ttotal: 6.55s\tremaining: 1.37s\n",
      "906:\tlearn: 3338347.7273822\ttotal: 6.56s\tremaining: 1.36s\n",
      "907:\tlearn: 3336759.6245253\ttotal: 6.57s\tremaining: 1.35s\n",
      "908:\tlearn: 3334344.1355076\ttotal: 6.58s\tremaining: 1.35s\n",
      "909:\tlearn: 3332502.4427658\ttotal: 6.59s\tremaining: 1.34s\n",
      "910:\tlearn: 3332388.9821125\ttotal: 6.59s\tremaining: 1.33s\n",
      "911:\tlearn: 3331356.6586007\ttotal: 6.6s\tremaining: 1.32s\n",
      "912:\tlearn: 3329225.2077937\ttotal: 6.6s\tremaining: 1.32s\n",
      "913:\tlearn: 3326636.3505651\ttotal: 6.61s\tremaining: 1.31s\n",
      "914:\tlearn: 3324780.9270839\ttotal: 6.62s\tremaining: 1.3s\n",
      "915:\tlearn: 3322032.4158612\ttotal: 6.63s\tremaining: 1.29s\n",
      "916:\tlearn: 3320404.3127587\ttotal: 6.64s\tremaining: 1.29s\n",
      "917:\tlearn: 3320371.7410592\ttotal: 6.64s\tremaining: 1.28s\n",
      "918:\tlearn: 3317739.3990779\ttotal: 6.65s\tremaining: 1.27s\n",
      "919:\tlearn: 3315234.3341196\ttotal: 6.66s\tremaining: 1.27s\n",
      "920:\tlearn: 3313129.7597868\ttotal: 6.67s\tremaining: 1.26s\n",
      "921:\tlearn: 3312072.3856165\ttotal: 6.67s\tremaining: 1.25s\n",
      "922:\tlearn: 3310353.8195936\ttotal: 6.68s\tremaining: 1.25s\n",
      "923:\tlearn: 3309571.0474866\ttotal: 6.69s\tremaining: 1.24s\n",
      "924:\tlearn: 3308486.6182865\ttotal: 6.7s\tremaining: 1.23s\n",
      "925:\tlearn: 3306361.3829445\ttotal: 6.7s\tremaining: 1.22s\n",
      "926:\tlearn: 3304593.4067051\ttotal: 6.71s\tremaining: 1.22s\n",
      "927:\tlearn: 3302455.1491346\ttotal: 6.72s\tremaining: 1.21s\n",
      "928:\tlearn: 3301131.0965148\ttotal: 6.73s\tremaining: 1.2s\n",
      "929:\tlearn: 3298339.3695966\ttotal: 6.73s\tremaining: 1.19s\n",
      "930:\tlearn: 3297187.2422176\ttotal: 6.74s\tremaining: 1.19s\n",
      "931:\tlearn: 3296155.0462382\ttotal: 6.75s\tremaining: 1.18s\n",
      "932:\tlearn: 3294040.8591790\ttotal: 6.76s\tremaining: 1.17s\n",
      "933:\tlearn: 3292339.5976858\ttotal: 6.76s\tremaining: 1.17s\n",
      "934:\tlearn: 3289080.5530070\ttotal: 6.77s\tremaining: 1.16s\n",
      "935:\tlearn: 3288708.6265850\ttotal: 6.77s\tremaining: 1.15s\n",
      "936:\tlearn: 3288127.5264662\ttotal: 6.78s\tremaining: 1.14s\n",
      "937:\tlearn: 3287203.3066888\ttotal: 6.79s\tremaining: 1.14s\n",
      "938:\tlearn: 3285125.2266438\ttotal: 6.8s\tremaining: 1.13s\n",
      "939:\tlearn: 3282842.5622296\ttotal: 6.81s\tremaining: 1.12s\n",
      "940:\tlearn: 3281565.1446134\ttotal: 6.82s\tremaining: 1.11s\n",
      "941:\tlearn: 3280882.6748309\ttotal: 6.83s\tremaining: 1.11s\n",
      "942:\tlearn: 3279199.8725238\ttotal: 6.83s\tremaining: 1.1s\n",
      "943:\tlearn: 3277425.3884325\ttotal: 6.84s\tremaining: 1.09s\n",
      "944:\tlearn: 3275879.1281053\ttotal: 6.85s\tremaining: 1.09s\n",
      "945:\tlearn: 3275879.1039344\ttotal: 6.85s\tremaining: 1.08s\n",
      "946:\tlearn: 3272988.7813908\ttotal: 6.86s\tremaining: 1.07s\n",
      "947:\tlearn: 3272867.4728754\ttotal: 6.86s\tremaining: 1.06s\n",
      "948:\tlearn: 3270450.4585947\ttotal: 6.87s\tremaining: 1.06s\n",
      "949:\tlearn: 3269191.0745177\ttotal: 6.88s\tremaining: 1.05s\n",
      "950:\tlearn: 3267740.9729838\ttotal: 6.88s\tremaining: 1.04s\n",
      "951:\tlearn: 3265571.4546373\ttotal: 6.89s\tremaining: 1.03s\n",
      "952:\tlearn: 3262230.9295804\ttotal: 6.9s\tremaining: 1.03s\n",
      "953:\tlearn: 3260252.8213448\ttotal: 6.9s\tremaining: 1.02s\n",
      "954:\tlearn: 3258542.4741015\ttotal: 6.91s\tremaining: 1.01s\n",
      "955:\tlearn: 3256145.9120155\ttotal: 6.92s\tremaining: 1.01s\n",
      "956:\tlearn: 3254876.9329696\ttotal: 6.93s\tremaining: 999ms\n",
      "957:\tlearn: 3251819.5538741\ttotal: 6.93s\tremaining: 992ms\n",
      "958:\tlearn: 3250231.6827333\ttotal: 6.95s\tremaining: 985ms\n",
      "959:\tlearn: 3248416.8476770\ttotal: 6.95s\tremaining: 978ms\n",
      "960:\tlearn: 3246155.4947927\ttotal: 6.96s\tremaining: 971ms\n",
      "961:\tlearn: 3244194.8487469\ttotal: 6.97s\tremaining: 964ms\n",
      "962:\tlearn: 3242117.6135496\ttotal: 6.98s\tremaining: 957ms\n",
      "963:\tlearn: 3240881.0318298\ttotal: 6.99s\tremaining: 950ms\n",
      "964:\tlearn: 3239786.8915973\ttotal: 7s\tremaining: 943ms\n",
      "965:\tlearn: 3238716.7404504\ttotal: 7.01s\tremaining: 936ms\n",
      "966:\tlearn: 3237068.8076465\ttotal: 7.01s\tremaining: 928ms\n",
      "967:\tlearn: 3237068.7790335\ttotal: 7.01s\tremaining: 920ms\n",
      "968:\tlearn: 3236732.8101355\ttotal: 7.01s\tremaining: 912ms\n",
      "969:\tlearn: 3236439.9646727\ttotal: 7.02s\tremaining: 904ms\n",
      "970:\tlearn: 3233664.0370551\ttotal: 7.03s\tremaining: 897ms\n",
      "971:\tlearn: 3231454.8927576\ttotal: 7.03s\tremaining: 890ms\n",
      "972:\tlearn: 3230143.2099870\ttotal: 7.04s\tremaining: 883ms\n",
      "973:\tlearn: 3228961.3886234\ttotal: 7.05s\tremaining: 876ms\n",
      "974:\tlearn: 3226900.2371628\ttotal: 7.06s\tremaining: 869ms\n",
      "975:\tlearn: 3224895.3779830\ttotal: 7.07s\tremaining: 862ms\n",
      "976:\tlearn: 3222713.4111956\ttotal: 7.08s\tremaining: 855ms\n",
      "977:\tlearn: 3221841.8536962\ttotal: 7.09s\tremaining: 848ms\n",
      "978:\tlearn: 3221833.4481763\ttotal: 7.09s\tremaining: 840ms\n",
      "979:\tlearn: 3220574.8152413\ttotal: 7.09s\tremaining: 833ms\n",
      "980:\tlearn: 3218986.5007644\ttotal: 7.1s\tremaining: 825ms\n",
      "981:\tlearn: 3217988.2464973\ttotal: 7.11s\tremaining: 819ms\n",
      "982:\tlearn: 3216420.0487672\ttotal: 7.12s\tremaining: 811ms\n",
      "983:\tlearn: 3214257.7718836\ttotal: 7.13s\tremaining: 804ms\n",
      "984:\tlearn: 3212753.2771767\ttotal: 7.14s\tremaining: 797ms\n",
      "985:\tlearn: 3211469.4845183\ttotal: 7.14s\tremaining: 790ms\n",
      "986:\tlearn: 3210314.5464826\ttotal: 7.15s\tremaining: 783ms\n",
      "987:\tlearn: 3207295.7547874\ttotal: 7.16s\tremaining: 776ms\n",
      "988:\tlearn: 3205149.9245669\ttotal: 7.17s\tremaining: 769ms\n",
      "989:\tlearn: 3202675.3956727\ttotal: 7.18s\tremaining: 762ms\n",
      "990:\tlearn: 3200930.7698746\ttotal: 7.19s\tremaining: 755ms\n",
      "991:\tlearn: 3200869.1688234\ttotal: 7.2s\tremaining: 747ms\n",
      "992:\tlearn: 3199087.6052282\ttotal: 7.2s\tremaining: 740ms\n",
      "993:\tlearn: 3195996.4531286\ttotal: 7.21s\tremaining: 733ms\n",
      "994:\tlearn: 3195414.3184353\ttotal: 7.21s\tremaining: 725ms\n",
      "995:\tlearn: 3191153.3959636\ttotal: 7.23s\tremaining: 718ms\n",
      "996:\tlearn: 3189622.9433496\ttotal: 7.24s\tremaining: 711ms\n",
      "997:\tlearn: 3187982.4521227\ttotal: 7.25s\tremaining: 704ms\n",
      "998:\tlearn: 3186430.3905887\ttotal: 7.26s\tremaining: 698ms\n",
      "999:\tlearn: 3184548.3867147\ttotal: 7.26s\tremaining: 690ms\n",
      "1000:\tlearn: 3182738.6067629\ttotal: 7.27s\tremaining: 683ms\n",
      "1001:\tlearn: 3181614.4707168\ttotal: 7.28s\tremaining: 676ms\n",
      "1002:\tlearn: 3179072.1971961\ttotal: 7.29s\tremaining: 669ms\n",
      "1003:\tlearn: 3177377.1537172\ttotal: 7.3s\tremaining: 662ms\n",
      "1004:\tlearn: 3175663.8369413\ttotal: 7.31s\tremaining: 654ms\n",
      "1005:\tlearn: 3174428.1228742\ttotal: 7.32s\tremaining: 647ms\n",
      "1006:\tlearn: 3172004.8683129\ttotal: 7.33s\tremaining: 640ms\n",
      "1007:\tlearn: 3170720.3337754\ttotal: 7.33s\tremaining: 633ms\n",
      "1008:\tlearn: 3169970.6484161\ttotal: 7.34s\tremaining: 625ms\n",
      "1009:\tlearn: 3168905.4883292\ttotal: 7.34s\tremaining: 618ms\n",
      "1010:\tlearn: 3168789.1778122\ttotal: 7.34s\tremaining: 610ms\n",
      "1011:\tlearn: 3166546.4077600\ttotal: 7.36s\tremaining: 603ms\n",
      "1012:\tlearn: 3164260.4513055\ttotal: 7.36s\tremaining: 596ms\n",
      "1013:\tlearn: 3159834.4180092\ttotal: 7.37s\tremaining: 589ms\n",
      "1014:\tlearn: 3157111.9970049\ttotal: 7.38s\tremaining: 582ms\n",
      "1015:\tlearn: 3154767.6564671\ttotal: 7.39s\tremaining: 574ms\n",
      "1016:\tlearn: 3152882.4936298\ttotal: 7.4s\tremaining: 567ms\n",
      "1017:\tlearn: 3151110.6380824\ttotal: 7.4s\tremaining: 560ms\n",
      "1018:\tlearn: 3149867.1486110\ttotal: 7.41s\tremaining: 553ms\n",
      "1019:\tlearn: 3149543.6834396\ttotal: 7.41s\tremaining: 545ms\n",
      "1020:\tlearn: 3148635.2550595\ttotal: 7.42s\tremaining: 538ms\n",
      "1021:\tlearn: 3147048.8652403\ttotal: 7.43s\tremaining: 531ms\n",
      "1022:\tlearn: 3144836.8222399\ttotal: 7.44s\tremaining: 524ms\n",
      "1023:\tlearn: 3142011.2484824\ttotal: 7.45s\tremaining: 517ms\n",
      "1024:\tlearn: 3139535.7966351\ttotal: 7.46s\tremaining: 510ms\n",
      "1025:\tlearn: 3137995.2245522\ttotal: 7.47s\tremaining: 503ms\n",
      "1026:\tlearn: 3136090.9419715\ttotal: 7.48s\tremaining: 496ms\n",
      "1027:\tlearn: 3133869.6565581\ttotal: 7.49s\tremaining: 488ms\n",
      "1028:\tlearn: 3130831.8040047\ttotal: 7.5s\tremaining: 481ms\n",
      "1029:\tlearn: 3129552.4663057\ttotal: 7.5s\tremaining: 474ms\n",
      "1030:\tlearn: 3129454.2438742\ttotal: 7.51s\tremaining: 466ms\n",
      "1031:\tlearn: 3124856.4019170\ttotal: 7.51s\tremaining: 459ms\n",
      "1032:\tlearn: 3122485.8941946\ttotal: 7.52s\tremaining: 452ms\n",
      "1033:\tlearn: 3120596.0136841\ttotal: 7.53s\tremaining: 445ms\n",
      "1034:\tlearn: 3120595.9990564\ttotal: 7.54s\tremaining: 437ms\n",
      "1035:\tlearn: 3119179.1658472\ttotal: 7.54s\tremaining: 430ms\n",
      "1036:\tlearn: 3117979.4945715\ttotal: 7.55s\tremaining: 423ms\n",
      "1037:\tlearn: 3116788.5522046\ttotal: 7.56s\tremaining: 415ms\n",
      "1038:\tlearn: 3113309.8062383\ttotal: 7.57s\tremaining: 408ms\n",
      "1039:\tlearn: 3111835.1441345\ttotal: 7.58s\tremaining: 401ms\n",
      "1040:\tlearn: 3110052.1346048\ttotal: 7.59s\tremaining: 394ms\n",
      "1041:\tlearn: 3108941.5577105\ttotal: 7.6s\tremaining: 387ms\n",
      "1042:\tlearn: 3108936.8658834\ttotal: 7.6s\tremaining: 379ms\n",
      "1043:\tlearn: 3106910.3081741\ttotal: 7.61s\tremaining: 372ms\n",
      "1044:\tlearn: 3103794.3868797\ttotal: 7.62s\tremaining: 365ms\n",
      "1045:\tlearn: 3102676.5495844\ttotal: 7.63s\tremaining: 357ms\n",
      "1046:\tlearn: 3102209.0989212\ttotal: 7.63s\tremaining: 350ms\n",
      "1047:\tlearn: 3100491.0749559\ttotal: 7.63s\tremaining: 342ms\n",
      "1048:\tlearn: 3100047.4333723\ttotal: 7.64s\tremaining: 335ms\n",
      "1049:\tlearn: 3097587.9955595\ttotal: 7.64s\tremaining: 328ms\n",
      "1050:\tlearn: 3095032.1884953\ttotal: 7.65s\tremaining: 320ms\n",
      "1051:\tlearn: 3093692.4121040\ttotal: 7.66s\tremaining: 313ms\n",
      "1052:\tlearn: 3091614.6427745\ttotal: 7.67s\tremaining: 306ms\n",
      "1053:\tlearn: 3089747.7691795\ttotal: 7.68s\tremaining: 299ms\n",
      "1054:\tlearn: 3089110.0033972\ttotal: 7.68s\tremaining: 291ms\n",
      "1055:\tlearn: 3086210.0611208\ttotal: 7.69s\tremaining: 284ms\n",
      "1056:\tlearn: 3083340.6177199\ttotal: 7.7s\tremaining: 277ms\n",
      "1057:\tlearn: 3082174.5241296\ttotal: 7.71s\tremaining: 270ms\n",
      "1058:\tlearn: 3082140.2269415\ttotal: 7.71s\tremaining: 262ms\n",
      "1059:\tlearn: 3081140.3826628\ttotal: 7.72s\tremaining: 255ms\n",
      "1060:\tlearn: 3079087.7833030\ttotal: 7.73s\tremaining: 248ms\n",
      "1061:\tlearn: 3078771.0103804\ttotal: 7.74s\tremaining: 240ms\n",
      "1062:\tlearn: 3077333.6388248\ttotal: 7.75s\tremaining: 233ms\n",
      "1063:\tlearn: 3077021.9651180\ttotal: 7.75s\tremaining: 226ms\n",
      "1064:\tlearn: 3075632.3752124\ttotal: 7.76s\tremaining: 219ms\n",
      "1065:\tlearn: 3074660.5203521\ttotal: 7.77s\tremaining: 211ms\n",
      "1066:\tlearn: 3072901.0233167\ttotal: 7.78s\tremaining: 204ms\n",
      "1067:\tlearn: 3072901.0150168\ttotal: 7.78s\tremaining: 197ms\n",
      "1068:\tlearn: 3070950.6722203\ttotal: 7.79s\tremaining: 189ms\n",
      "1069:\tlearn: 3070322.3064278\ttotal: 7.79s\tremaining: 182ms\n",
      "1070:\tlearn: 3068125.4337112\ttotal: 7.8s\tremaining: 175ms\n",
      "1071:\tlearn: 3065648.2563472\ttotal: 7.81s\tremaining: 168ms\n",
      "1072:\tlearn: 3064264.0103059\ttotal: 7.82s\tremaining: 160ms\n",
      "1073:\tlearn: 3063327.1380291\ttotal: 7.83s\tremaining: 153ms\n",
      "1074:\tlearn: 3062239.9251455\ttotal: 7.83s\tremaining: 146ms\n",
      "1075:\tlearn: 3060093.4941831\ttotal: 7.84s\tremaining: 138ms\n",
      "1076:\tlearn: 3058843.4353654\ttotal: 7.85s\tremaining: 131ms\n",
      "1077:\tlearn: 3058708.2940077\ttotal: 7.85s\tremaining: 124ms\n",
      "1078:\tlearn: 3056874.5986517\ttotal: 7.86s\tremaining: 116ms\n",
      "1079:\tlearn: 3054740.8827441\ttotal: 7.86s\tremaining: 109ms\n",
      "1080:\tlearn: 3053804.3784000\ttotal: 7.88s\tremaining: 102ms\n",
      "1081:\tlearn: 3052301.4693601\ttotal: 7.88s\tremaining: 94.7ms\n",
      "1082:\tlearn: 3051397.1291187\ttotal: 7.89s\tremaining: 87.4ms\n",
      "1083:\tlearn: 3049079.3590973\ttotal: 7.9s\tremaining: 80.1ms\n",
      "1084:\tlearn: 3048244.5699765\ttotal: 7.91s\tremaining: 72.9ms\n",
      "1085:\tlearn: 3048243.5617851\ttotal: 7.91s\tremaining: 65.5ms\n",
      "1086:\tlearn: 3046427.8039458\ttotal: 7.92s\tremaining: 58.3ms\n",
      "1087:\tlearn: 3044046.2872836\ttotal: 7.93s\tremaining: 51ms\n",
      "1088:\tlearn: 3042135.0538026\ttotal: 7.94s\tremaining: 43.7ms\n",
      "1089:\tlearn: 3039779.1197324\ttotal: 7.94s\tremaining: 36.4ms\n",
      "1090:\tlearn: 3038175.8718078\ttotal: 7.95s\tremaining: 29.1ms\n",
      "1091:\tlearn: 3038135.3446436\ttotal: 7.95s\tremaining: 21.8ms\n",
      "1092:\tlearn: 3036104.7862360\ttotal: 7.96s\tremaining: 14.6ms\n",
      "1093:\tlearn: 3034825.1929500\ttotal: 7.97s\tremaining: 7.28ms\n",
      "1094:\tlearn: 3032692.9961893\ttotal: 7.98s\tremaining: 0us\n",
      "\n",
      "====== Models After Hyper Parameter Tuning ======\n"
     ]
    },
    {
     "data": {
      "text/html": [
       "<div>\n",
       "<style scoped>\n",
       "    .dataframe tbody tr th:only-of-type {\n",
       "        vertical-align: middle;\n",
       "    }\n",
       "\n",
       "    .dataframe tbody tr th {\n",
       "        vertical-align: top;\n",
       "    }\n",
       "\n",
       "    .dataframe thead th {\n",
       "        text-align: right;\n",
       "    }\n",
       "</style>\n",
       "<table border=\"1\" class=\"dataframe\">\n",
       "  <thead>\n",
       "    <tr style=\"text-align: right;\">\n",
       "      <th></th>\n",
       "      <th>Model</th>\n",
       "      <th>MAE</th>\n",
       "      <th>MSE</th>\n",
       "      <th>RMSE</th>\n",
       "      <th>RMSLE</th>\n",
       "      <th>R2 Score</th>\n",
       "    </tr>\n",
       "  </thead>\n",
       "  <tbody>\n",
       "    <tr>\n",
       "      <th>0</th>\n",
       "      <td>CatBoost_tuned</td>\n",
       "      <td>3987036.00</td>\n",
       "      <td>73823103532870.88</td>\n",
       "      <td>8592037.22</td>\n",
       "      <td>0.70</td>\n",
       "      <td>0.73</td>\n",
       "    </tr>\n",
       "  </tbody>\n",
       "</table>\n",
       "</div>"
      ],
      "text/plain": [
       "            Model         MAE                MSE        RMSE RMSLE R2 Score\n",
       "0  CatBoost_tuned  3987036.00  73823103532870.88  8592037.22  0.70     0.73"
      ]
     },
     "execution_count": 39,
     "metadata": {},
     "output_type": "execute_result"
    }
   ],
   "source": [
    "cat_optuna = CatBoostRegressor(**study_cat.best_params)\n",
    "model_list([(\"CatBoost_tuned\", cat_optuna)], \"After\")"
   ]
  },
  {
   "cell_type": "markdown",
   "metadata": {},
   "source": [
    "#### `XGBoost`"
   ]
  },
  {
   "cell_type": "code",
   "execution_count": 40,
   "metadata": {},
   "outputs": [],
   "source": [
    "def objective_xgb(trial):\n",
    "    params = {\n",
    "        \"objective\": \"reg:squarederror\",\n",
    "        \"n_estimators\" : trial.suggest_int('n_estimators', 500, 4000),\n",
    "        \"verbosity\": 0,\n",
    "        \"learning_rate\": trial.suggest_float(\"learning_rate\", 1e-3, 0.1, log=True),\n",
    "        \"max_depth\": trial.suggest_int(\"max_depth\", 1, 10),\n",
    "        \"subsample\": trial.suggest_float(\"subsample\", 0.05, 1.0),\n",
    "        \"colsample_bytree\": trial.suggest_float(\"colsample_bytree\", 0.05, 1.0),\n",
    "        \"min_child_weight\": trial.suggest_int(\"min_child_weight\", 1, 20),\n",
    "    }\n",
    "\n",
    "    model = XGBRegressor(**params, random_state=42)\n",
    "    model.fit(X_train, y_train, verbose=False)\n",
    "    predictions = model.predict(X_test)\n",
    "    rmsle = get_rmsle(y_test, predictions)\n",
    "\n",
    "    return rmsle"
   ]
  },
  {
   "cell_type": "code",
   "execution_count": 41,
   "metadata": {},
   "outputs": [
    {
     "name": "stderr",
     "output_type": "stream",
     "text": [
      "[I 2024-04-03 16:22:04,815] A new study created in memory with name: no-name-ba682b6a-5f4d-4f78-8f5a-34070f2a8bf6\n"
     ]
    },
    {
     "name": "stderr",
     "output_type": "stream",
     "text": [
      "[I 2024-04-03 16:22:06,208] Trial 0 finished with value: 0.7318185565801624 and parameters: {'n_estimators': 610, 'learning_rate': 0.0187422109855557, 'max_depth': 4, 'subsample': 0.5331421566064676, 'colsample_bytree': 0.9121881502297884, 'min_child_weight': 5}. Best is trial 0 with value: 0.7318185565801624.\n",
      "[I 2024-04-03 16:22:08,274] Trial 1 finished with value: 0.8615265738243391 and parameters: {'n_estimators': 1936, 'learning_rate': 0.03244160088734161, 'max_depth': 3, 'subsample': 0.12313091433735335, 'colsample_bytree': 0.3252638802680796, 'min_child_weight': 4}. Best is trial 0 with value: 0.7318185565801624.\n",
      "[I 2024-04-03 16:22:20,994] Trial 2 finished with value: 0.7629689986248309 and parameters: {'n_estimators': 3754, 'learning_rate': 0.04132765459466366, 'max_depth': 7, 'subsample': 0.8778875606783318, 'colsample_bytree': 0.8134884730541587, 'min_child_weight': 4}. Best is trial 0 with value: 0.7318185565801624.\n",
      "[I 2024-04-03 16:22:33,870] Trial 3 finished with value: 0.7294666516212528 and parameters: {'n_estimators': 3624, 'learning_rate': 0.011986281799901188, 'max_depth': 9, 'subsample': 0.9012867349273186, 'colsample_bytree': 0.35210330122327066, 'min_child_weight': 3}. Best is trial 3 with value: 0.7294666516212528.\n",
      "[I 2024-04-03 16:22:36,377] Trial 4 finished with value: 0.9320573391088502 and parameters: {'n_estimators': 1298, 'learning_rate': 0.007148510793512987, 'max_depth': 9, 'subsample': 0.8676940540935263, 'colsample_bytree': 0.056604524004631174, 'min_child_weight': 11}. Best is trial 3 with value: 0.7294666516212528.\n",
      "[I 2024-04-03 16:22:38,698] Trial 5 finished with value: 0.8368860526853976 and parameters: {'n_estimators': 1961, 'learning_rate': 0.0027810936979265548, 'max_depth': 2, 'subsample': 0.37073441283344655, 'colsample_bytree': 0.9457642187168932, 'min_child_weight': 7}. Best is trial 3 with value: 0.7294666516212528.\n",
      "[I 2024-04-03 16:22:43,003] Trial 6 finished with value: 0.7011893167360671 and parameters: {'n_estimators': 2316, 'learning_rate': 0.025470526233391178, 'max_depth': 4, 'subsample': 0.9731929785849126, 'colsample_bytree': 0.9643249301950056, 'min_child_weight': 6}. Best is trial 6 with value: 0.7011893167360671.\n",
      "[I 2024-04-03 16:22:45,425] Trial 7 finished with value: 0.7661291821210506 and parameters: {'n_estimators': 2240, 'learning_rate': 0.0039972068191218065, 'max_depth': 3, 'subsample': 0.08504259998680616, 'colsample_bytree': 0.629086117280902, 'min_child_weight': 11}. Best is trial 6 with value: 0.7011893167360671.\n",
      "[I 2024-04-03 16:22:47,262] Trial 8 finished with value: 0.9862494899106024 and parameters: {'n_estimators': 680, 'learning_rate': 0.0036082193273637873, 'max_depth': 10, 'subsample': 0.2775837961336238, 'colsample_bytree': 0.18765012848666196, 'min_child_weight': 10}. Best is trial 6 with value: 0.7011893167360671.\n",
      "[I 2024-04-03 16:22:56,981] Trial 9 finished with value: 0.7849227963337585 and parameters: {'n_estimators': 3950, 'learning_rate': 0.0030486708834580683, 'max_depth': 7, 'subsample': 0.7735386345622817, 'colsample_bytree': 0.2757556667927797, 'min_child_weight': 15}. Best is trial 6 with value: 0.7011893167360671.\n",
      "[I 2024-04-03 16:22:59,593] Trial 10 finished with value: 0.8830571309105081 and parameters: {'n_estimators': 3057, 'learning_rate': 0.08663749733349763, 'max_depth': 1, 'subsample': 0.6284844127020267, 'colsample_bytree': 0.649709788776534, 'min_child_weight': 18}. Best is trial 6 with value: 0.7011893167360671.\n",
      "[I 2024-04-03 16:23:06,717] Trial 11 finished with value: 0.7228577867293243 and parameters: {'n_estimators': 3049, 'learning_rate': 0.012473304770335768, 'max_depth': 6, 'subsample': 0.9929900791132015, 'colsample_bytree': 0.47575366838441746, 'min_child_weight': 1}. Best is trial 6 with value: 0.7011893167360671.\n",
      "[I 2024-04-03 16:23:14,617] Trial 12 finished with value: 0.7104891886701066 and parameters: {'n_estimators': 2854, 'learning_rate': 0.021184644638272618, 'max_depth': 7, 'subsample': 0.987100570751279, 'colsample_bytree': 0.48557906691323044, 'min_child_weight': 1}. Best is trial 6 with value: 0.7011893167360671.\n",
      "[I 2024-04-03 16:23:21,070] Trial 13 finished with value: 0.767306337862459 and parameters: {'n_estimators': 2773, 'learning_rate': 0.03302601629514059, 'max_depth': 5, 'subsample': 0.6981914148150189, 'colsample_bytree': 0.6873220434135628, 'min_child_weight': 1}. Best is trial 6 with value: 0.7011893167360671.\n",
      "[I 2024-04-03 16:23:27,099] Trial 14 finished with value: 0.8353292645732528 and parameters: {'n_estimators': 2568, 'learning_rate': 0.08463959338824556, 'max_depth': 6, 'subsample': 0.9604846308731702, 'colsample_bytree': 0.48662275949911804, 'min_child_weight': 8}. Best is trial 6 with value: 0.7011893167360671.\n",
      "[I 2024-04-03 16:23:32,433] Trial 15 finished with value: 0.6933108722472888 and parameters: {'n_estimators': 1484, 'learning_rate': 0.022116501539569622, 'max_depth': 8, 'subsample': 0.772404825755016, 'colsample_bytree': 0.7658698225157771, 'min_child_weight': 8}. Best is trial 15 with value: 0.6933108722472888.\n",
      "[I 2024-04-03 16:23:38,030] Trial 16 finished with value: 0.6651399041898545 and parameters: {'n_estimators': 1380, 'learning_rate': 0.0014301571442349292, 'max_depth': 8, 'subsample': 0.7674267736267664, 'colsample_bytree': 0.8104212469616897, 'min_child_weight': 15}. Best is trial 16 with value: 0.6651399041898545.\n",
      "[I 2024-04-03 16:23:43,493] Trial 17 finished with value: 0.6730676418153763 and parameters: {'n_estimators': 1343, 'learning_rate': 0.0013394776405658711, 'max_depth': 8, 'subsample': 0.7614568053313961, 'colsample_bytree': 0.8023204811860761, 'min_child_weight': 14}. Best is trial 16 with value: 0.6651399041898545.\n",
      "[I 2024-04-03 16:23:50,157] Trial 18 finished with value: 0.6988799369769442 and parameters: {'n_estimators': 1244, 'learning_rate': 0.0010129362203739308, 'max_depth': 10, 'subsample': 0.5430239636781449, 'colsample_bytree': 0.8271907211484841, 'min_child_weight': 15}. Best is trial 16 with value: 0.6651399041898545.\n",
      "[I 2024-04-03 16:23:53,907] Trial 19 finished with value: 0.7205546158368977 and parameters: {'n_estimators': 976, 'learning_rate': 0.0012156430709150874, 'max_depth': 8, 'subsample': 0.4305666284000321, 'colsample_bytree': 0.7299525190703331, 'min_child_weight': 20}. Best is trial 16 with value: 0.6651399041898545.\n",
      "[I 2024-04-03 16:24:00,961] Trial 20 finished with value: 0.6428948530755243 and parameters: {'n_estimators': 1729, 'learning_rate': 0.0018077740176281223, 'max_depth': 8, 'subsample': 0.6591022618579752, 'colsample_bytree': 0.8766641843655423, 'min_child_weight': 14}. Best is trial 20 with value: 0.6428948530755243.\n",
      "[I 2024-04-03 16:24:07,602] Trial 21 finished with value: 0.6452649276997926 and parameters: {'n_estimators': 1617, 'learning_rate': 0.0017995493064431806, 'max_depth': 8, 'subsample': 0.6543251326342102, 'colsample_bytree': 0.8820325496951904, 'min_child_weight': 14}. Best is trial 20 with value: 0.6428948530755243.\n",
      "[I 2024-04-03 16:24:15,462] Trial 22 finished with value: 0.635341869983216 and parameters: {'n_estimators': 1675, 'learning_rate': 0.0018815779176634068, 'max_depth': 9, 'subsample': 0.6147446894239538, 'colsample_bytree': 0.8826558538911241, 'min_child_weight': 13}. Best is trial 22 with value: 0.635341869983216.\n",
      "[I 2024-04-03 16:24:23,816] Trial 23 finished with value: 0.6305343965562406 and parameters: {'n_estimators': 1778, 'learning_rate': 0.00202807867527603, 'max_depth': 9, 'subsample': 0.6281432525683256, 'colsample_bytree': 0.878440948866664, 'min_child_weight': 13}. Best is trial 23 with value: 0.6305343965562406.\n",
      "[I 2024-04-03 16:24:31,934] Trial 24 finished with value: 0.6337627894439305 and parameters: {'n_estimators': 1758, 'learning_rate': 0.0020781219396198533, 'max_depth': 9, 'subsample': 0.44759287543177434, 'colsample_bytree': 0.9912167863965263, 'min_child_weight': 12}. Best is trial 23 with value: 0.6305343965562406.\n",
      "[I 2024-04-03 16:24:40,582] Trial 25 finished with value: 0.6268906286147976 and parameters: {'n_estimators': 1920, 'learning_rate': 0.005999767426280215, 'max_depth': 10, 'subsample': 0.4521025859715501, 'colsample_bytree': 0.9655313963675614, 'min_child_weight': 12}. Best is trial 25 with value: 0.6268906286147976.\n",
      "[I 2024-04-03 16:24:50,144] Trial 26 finished with value: 0.6409071151910658 and parameters: {'n_estimators': 2398, 'learning_rate': 0.0053893105021797305, 'max_depth': 10, 'subsample': 0.3566938228458195, 'colsample_bytree': 0.9975686701783053, 'min_child_weight': 17}. Best is trial 25 with value: 0.6268906286147976.\n",
      "[I 2024-04-03 16:24:58,022] Trial 27 finished with value: 0.6852098108650263 and parameters: {'n_estimators': 2000, 'learning_rate': 0.006882814045577277, 'max_depth': 10, 'subsample': 0.4672787898011887, 'colsample_bytree': 0.5710599973013069, 'min_child_weight': 12}. Best is trial 25 with value: 0.6268906286147976.\n",
      "[I 2024-04-03 16:25:01,899] Trial 28 finished with value: 0.6346410304313357 and parameters: {'n_estimators': 986, 'learning_rate': 0.005107991147230727, 'max_depth': 9, 'subsample': 0.2720597045560662, 'colsample_bytree': 0.9956832601376576, 'min_child_weight': 9}. Best is trial 25 with value: 0.6268906286147976.\n",
      "[I 2024-04-03 16:25:11,257] Trial 29 finished with value: 0.6331125671897773 and parameters: {'n_estimators': 2089, 'learning_rate': 0.002358695885177082, 'max_depth': 9, 'subsample': 0.533151146798377, 'colsample_bytree': 0.9221640205245247, 'min_child_weight': 17}. Best is trial 25 with value: 0.6268906286147976.\n"
     ]
    }
   ],
   "source": [
    "study_xgb = optuna.create_study(direction='minimize', sampler=sampler)\n",
    "study_xgb.optimize(objective_xgb, n_trials=30)"
   ]
  },
  {
   "cell_type": "code",
   "execution_count": 42,
   "metadata": {},
   "outputs": [
    {
     "name": "stdout",
     "output_type": "stream",
     "text": [
      "Best hyperparameters:\n",
      "{'n_estimators': 1920, 'learning_rate': 0.005999767426280215, 'max_depth': 10, 'subsample': 0.4521025859715501, 'colsample_bytree': 0.9655313963675614, 'min_child_weight': 12}\n",
      "-----------------------------------------------------------------------------------------------------------------\n",
      "Best RMSLE:\n",
      "0.6268906286147976\n"
     ]
    }
   ],
   "source": [
    "print(\"Best hyperparameters:\", study_xgb.best_params, sep=\"\\n\")\n",
    "print(\"-----------------------------------------------------------------------------------------------------------------\")\n",
    "print(\"Best RMSLE:\", study_xgb.best_value, sep=\"\\n\")"
   ]
  },
  {
   "cell_type": "code",
   "execution_count": 43,
   "metadata": {},
   "outputs": [
    {
     "data": {
      "application/vnd.plotly.v1+json": {
       "config": {
        "plotlyServerURL": "https://plot.ly"
       },
       "data": [
        {
         "cliponaxis": false,
         "hovertemplate": [
          "subsample (FloatDistribution): 0.021652186353600413<extra></extra>",
          "min_child_weight (IntDistribution): 0.04065185542464905<extra></extra>",
          "n_estimators (IntDistribution): 0.05176745504668372<extra></extra>",
          "learning_rate (FloatDistribution): 0.0688712149960158<extra></extra>",
          "max_depth (IntDistribution): 0.2796829775313824<extra></extra>",
          "colsample_bytree (FloatDistribution): 0.5373743106476688<extra></extra>"
         ],
         "name": "Objective Value",
         "orientation": "h",
         "text": [
          "0.02",
          "0.04",
          "0.05",
          "0.07",
          "0.28",
          "0.54"
         ],
         "textposition": "outside",
         "type": "bar",
         "x": [
          0.021652186353600413,
          0.04065185542464905,
          0.05176745504668372,
          0.0688712149960158,
          0.2796829775313824,
          0.5373743106476688
         ],
         "y": [
          "subsample",
          "min_child_weight",
          "n_estimators",
          "learning_rate",
          "max_depth",
          "colsample_bytree"
         ]
        }
       ],
       "layout": {
        "template": {
         "data": {
          "bar": [
           {
            "error_x": {
             "color": "#2a3f5f"
            },
            "error_y": {
             "color": "#2a3f5f"
            },
            "marker": {
             "line": {
              "color": "#E5ECF6",
              "width": 0.5
             },
             "pattern": {
              "fillmode": "overlay",
              "size": 10,
              "solidity": 0.2
             }
            },
            "type": "bar"
           }
          ],
          "barpolar": [
           {
            "marker": {
             "line": {
              "color": "#E5ECF6",
              "width": 0.5
             },
             "pattern": {
              "fillmode": "overlay",
              "size": 10,
              "solidity": 0.2
             }
            },
            "type": "barpolar"
           }
          ],
          "carpet": [
           {
            "aaxis": {
             "endlinecolor": "#2a3f5f",
             "gridcolor": "white",
             "linecolor": "white",
             "minorgridcolor": "white",
             "startlinecolor": "#2a3f5f"
            },
            "baxis": {
             "endlinecolor": "#2a3f5f",
             "gridcolor": "white",
             "linecolor": "white",
             "minorgridcolor": "white",
             "startlinecolor": "#2a3f5f"
            },
            "type": "carpet"
           }
          ],
          "choropleth": [
           {
            "colorbar": {
             "outlinewidth": 0,
             "ticks": ""
            },
            "type": "choropleth"
           }
          ],
          "contour": [
           {
            "colorbar": {
             "outlinewidth": 0,
             "ticks": ""
            },
            "colorscale": [
             [
              0,
              "#0d0887"
             ],
             [
              0.1111111111111111,
              "#46039f"
             ],
             [
              0.2222222222222222,
              "#7201a8"
             ],
             [
              0.3333333333333333,
              "#9c179e"
             ],
             [
              0.4444444444444444,
              "#bd3786"
             ],
             [
              0.5555555555555556,
              "#d8576b"
             ],
             [
              0.6666666666666666,
              "#ed7953"
             ],
             [
              0.7777777777777778,
              "#fb9f3a"
             ],
             [
              0.8888888888888888,
              "#fdca26"
             ],
             [
              1,
              "#f0f921"
             ]
            ],
            "type": "contour"
           }
          ],
          "contourcarpet": [
           {
            "colorbar": {
             "outlinewidth": 0,
             "ticks": ""
            },
            "type": "contourcarpet"
           }
          ],
          "heatmap": [
           {
            "colorbar": {
             "outlinewidth": 0,
             "ticks": ""
            },
            "colorscale": [
             [
              0,
              "#0d0887"
             ],
             [
              0.1111111111111111,
              "#46039f"
             ],
             [
              0.2222222222222222,
              "#7201a8"
             ],
             [
              0.3333333333333333,
              "#9c179e"
             ],
             [
              0.4444444444444444,
              "#bd3786"
             ],
             [
              0.5555555555555556,
              "#d8576b"
             ],
             [
              0.6666666666666666,
              "#ed7953"
             ],
             [
              0.7777777777777778,
              "#fb9f3a"
             ],
             [
              0.8888888888888888,
              "#fdca26"
             ],
             [
              1,
              "#f0f921"
             ]
            ],
            "type": "heatmap"
           }
          ],
          "heatmapgl": [
           {
            "colorbar": {
             "outlinewidth": 0,
             "ticks": ""
            },
            "colorscale": [
             [
              0,
              "#0d0887"
             ],
             [
              0.1111111111111111,
              "#46039f"
             ],
             [
              0.2222222222222222,
              "#7201a8"
             ],
             [
              0.3333333333333333,
              "#9c179e"
             ],
             [
              0.4444444444444444,
              "#bd3786"
             ],
             [
              0.5555555555555556,
              "#d8576b"
             ],
             [
              0.6666666666666666,
              "#ed7953"
             ],
             [
              0.7777777777777778,
              "#fb9f3a"
             ],
             [
              0.8888888888888888,
              "#fdca26"
             ],
             [
              1,
              "#f0f921"
             ]
            ],
            "type": "heatmapgl"
           }
          ],
          "histogram": [
           {
            "marker": {
             "pattern": {
              "fillmode": "overlay",
              "size": 10,
              "solidity": 0.2
             }
            },
            "type": "histogram"
           }
          ],
          "histogram2d": [
           {
            "colorbar": {
             "outlinewidth": 0,
             "ticks": ""
            },
            "colorscale": [
             [
              0,
              "#0d0887"
             ],
             [
              0.1111111111111111,
              "#46039f"
             ],
             [
              0.2222222222222222,
              "#7201a8"
             ],
             [
              0.3333333333333333,
              "#9c179e"
             ],
             [
              0.4444444444444444,
              "#bd3786"
             ],
             [
              0.5555555555555556,
              "#d8576b"
             ],
             [
              0.6666666666666666,
              "#ed7953"
             ],
             [
              0.7777777777777778,
              "#fb9f3a"
             ],
             [
              0.8888888888888888,
              "#fdca26"
             ],
             [
              1,
              "#f0f921"
             ]
            ],
            "type": "histogram2d"
           }
          ],
          "histogram2dcontour": [
           {
            "colorbar": {
             "outlinewidth": 0,
             "ticks": ""
            },
            "colorscale": [
             [
              0,
              "#0d0887"
             ],
             [
              0.1111111111111111,
              "#46039f"
             ],
             [
              0.2222222222222222,
              "#7201a8"
             ],
             [
              0.3333333333333333,
              "#9c179e"
             ],
             [
              0.4444444444444444,
              "#bd3786"
             ],
             [
              0.5555555555555556,
              "#d8576b"
             ],
             [
              0.6666666666666666,
              "#ed7953"
             ],
             [
              0.7777777777777778,
              "#fb9f3a"
             ],
             [
              0.8888888888888888,
              "#fdca26"
             ],
             [
              1,
              "#f0f921"
             ]
            ],
            "type": "histogram2dcontour"
           }
          ],
          "mesh3d": [
           {
            "colorbar": {
             "outlinewidth": 0,
             "ticks": ""
            },
            "type": "mesh3d"
           }
          ],
          "parcoords": [
           {
            "line": {
             "colorbar": {
              "outlinewidth": 0,
              "ticks": ""
             }
            },
            "type": "parcoords"
           }
          ],
          "pie": [
           {
            "automargin": true,
            "type": "pie"
           }
          ],
          "scatter": [
           {
            "fillpattern": {
             "fillmode": "overlay",
             "size": 10,
             "solidity": 0.2
            },
            "type": "scatter"
           }
          ],
          "scatter3d": [
           {
            "line": {
             "colorbar": {
              "outlinewidth": 0,
              "ticks": ""
             }
            },
            "marker": {
             "colorbar": {
              "outlinewidth": 0,
              "ticks": ""
             }
            },
            "type": "scatter3d"
           }
          ],
          "scattercarpet": [
           {
            "marker": {
             "colorbar": {
              "outlinewidth": 0,
              "ticks": ""
             }
            },
            "type": "scattercarpet"
           }
          ],
          "scattergeo": [
           {
            "marker": {
             "colorbar": {
              "outlinewidth": 0,
              "ticks": ""
             }
            },
            "type": "scattergeo"
           }
          ],
          "scattergl": [
           {
            "marker": {
             "colorbar": {
              "outlinewidth": 0,
              "ticks": ""
             }
            },
            "type": "scattergl"
           }
          ],
          "scattermapbox": [
           {
            "marker": {
             "colorbar": {
              "outlinewidth": 0,
              "ticks": ""
             }
            },
            "type": "scattermapbox"
           }
          ],
          "scatterpolar": [
           {
            "marker": {
             "colorbar": {
              "outlinewidth": 0,
              "ticks": ""
             }
            },
            "type": "scatterpolar"
           }
          ],
          "scatterpolargl": [
           {
            "marker": {
             "colorbar": {
              "outlinewidth": 0,
              "ticks": ""
             }
            },
            "type": "scatterpolargl"
           }
          ],
          "scatterternary": [
           {
            "marker": {
             "colorbar": {
              "outlinewidth": 0,
              "ticks": ""
             }
            },
            "type": "scatterternary"
           }
          ],
          "surface": [
           {
            "colorbar": {
             "outlinewidth": 0,
             "ticks": ""
            },
            "colorscale": [
             [
              0,
              "#0d0887"
             ],
             [
              0.1111111111111111,
              "#46039f"
             ],
             [
              0.2222222222222222,
              "#7201a8"
             ],
             [
              0.3333333333333333,
              "#9c179e"
             ],
             [
              0.4444444444444444,
              "#bd3786"
             ],
             [
              0.5555555555555556,
              "#d8576b"
             ],
             [
              0.6666666666666666,
              "#ed7953"
             ],
             [
              0.7777777777777778,
              "#fb9f3a"
             ],
             [
              0.8888888888888888,
              "#fdca26"
             ],
             [
              1,
              "#f0f921"
             ]
            ],
            "type": "surface"
           }
          ],
          "table": [
           {
            "cells": {
             "fill": {
              "color": "#EBF0F8"
             },
             "line": {
              "color": "white"
             }
            },
            "header": {
             "fill": {
              "color": "#C8D4E3"
             },
             "line": {
              "color": "white"
             }
            },
            "type": "table"
           }
          ]
         },
         "layout": {
          "annotationdefaults": {
           "arrowcolor": "#2a3f5f",
           "arrowhead": 0,
           "arrowwidth": 1
          },
          "autotypenumbers": "strict",
          "coloraxis": {
           "colorbar": {
            "outlinewidth": 0,
            "ticks": ""
           }
          },
          "colorscale": {
           "diverging": [
            [
             0,
             "#8e0152"
            ],
            [
             0.1,
             "#c51b7d"
            ],
            [
             0.2,
             "#de77ae"
            ],
            [
             0.3,
             "#f1b6da"
            ],
            [
             0.4,
             "#fde0ef"
            ],
            [
             0.5,
             "#f7f7f7"
            ],
            [
             0.6,
             "#e6f5d0"
            ],
            [
             0.7,
             "#b8e186"
            ],
            [
             0.8,
             "#7fbc41"
            ],
            [
             0.9,
             "#4d9221"
            ],
            [
             1,
             "#276419"
            ]
           ],
           "sequential": [
            [
             0,
             "#0d0887"
            ],
            [
             0.1111111111111111,
             "#46039f"
            ],
            [
             0.2222222222222222,
             "#7201a8"
            ],
            [
             0.3333333333333333,
             "#9c179e"
            ],
            [
             0.4444444444444444,
             "#bd3786"
            ],
            [
             0.5555555555555556,
             "#d8576b"
            ],
            [
             0.6666666666666666,
             "#ed7953"
            ],
            [
             0.7777777777777778,
             "#fb9f3a"
            ],
            [
             0.8888888888888888,
             "#fdca26"
            ],
            [
             1,
             "#f0f921"
            ]
           ],
           "sequentialminus": [
            [
             0,
             "#0d0887"
            ],
            [
             0.1111111111111111,
             "#46039f"
            ],
            [
             0.2222222222222222,
             "#7201a8"
            ],
            [
             0.3333333333333333,
             "#9c179e"
            ],
            [
             0.4444444444444444,
             "#bd3786"
            ],
            [
             0.5555555555555556,
             "#d8576b"
            ],
            [
             0.6666666666666666,
             "#ed7953"
            ],
            [
             0.7777777777777778,
             "#fb9f3a"
            ],
            [
             0.8888888888888888,
             "#fdca26"
            ],
            [
             1,
             "#f0f921"
            ]
           ]
          },
          "colorway": [
           "#636efa",
           "#EF553B",
           "#00cc96",
           "#ab63fa",
           "#FFA15A",
           "#19d3f3",
           "#FF6692",
           "#B6E880",
           "#FF97FF",
           "#FECB52"
          ],
          "font": {
           "color": "#2a3f5f"
          },
          "geo": {
           "bgcolor": "white",
           "lakecolor": "white",
           "landcolor": "#E5ECF6",
           "showlakes": true,
           "showland": true,
           "subunitcolor": "white"
          },
          "hoverlabel": {
           "align": "left"
          },
          "hovermode": "closest",
          "mapbox": {
           "style": "light"
          },
          "paper_bgcolor": "white",
          "plot_bgcolor": "#E5ECF6",
          "polar": {
           "angularaxis": {
            "gridcolor": "white",
            "linecolor": "white",
            "ticks": ""
           },
           "bgcolor": "#E5ECF6",
           "radialaxis": {
            "gridcolor": "white",
            "linecolor": "white",
            "ticks": ""
           }
          },
          "scene": {
           "xaxis": {
            "backgroundcolor": "#E5ECF6",
            "gridcolor": "white",
            "gridwidth": 2,
            "linecolor": "white",
            "showbackground": true,
            "ticks": "",
            "zerolinecolor": "white"
           },
           "yaxis": {
            "backgroundcolor": "#E5ECF6",
            "gridcolor": "white",
            "gridwidth": 2,
            "linecolor": "white",
            "showbackground": true,
            "ticks": "",
            "zerolinecolor": "white"
           },
           "zaxis": {
            "backgroundcolor": "#E5ECF6",
            "gridcolor": "white",
            "gridwidth": 2,
            "linecolor": "white",
            "showbackground": true,
            "ticks": "",
            "zerolinecolor": "white"
           }
          },
          "shapedefaults": {
           "line": {
            "color": "#2a3f5f"
           }
          },
          "ternary": {
           "aaxis": {
            "gridcolor": "white",
            "linecolor": "white",
            "ticks": ""
           },
           "baxis": {
            "gridcolor": "white",
            "linecolor": "white",
            "ticks": ""
           },
           "bgcolor": "#E5ECF6",
           "caxis": {
            "gridcolor": "white",
            "linecolor": "white",
            "ticks": ""
           }
          },
          "title": {
           "x": 0.05
          },
          "xaxis": {
           "automargin": true,
           "gridcolor": "white",
           "linecolor": "white",
           "ticks": "",
           "title": {
            "standoff": 15
           },
           "zerolinecolor": "white",
           "zerolinewidth": 2
          },
          "yaxis": {
           "automargin": true,
           "gridcolor": "white",
           "linecolor": "white",
           "ticks": "",
           "title": {
            "standoff": 15
           },
           "zerolinecolor": "white",
           "zerolinewidth": 2
          }
         }
        },
        "title": {
         "text": "Hyperparameter Importances"
        },
        "xaxis": {
         "title": {
          "text": "Hyperparameter Importance"
         }
        },
        "yaxis": {
         "title": {
          "text": "Hyperparameter"
         }
        }
       }
      }
     },
     "metadata": {},
     "output_type": "display_data"
    }
   ],
   "source": [
    "# 하이퍼파라미터별 중요도를 확인할 수 있는 그래프\n",
    "optuna.visualization.plot_param_importances(study_xgb)"
   ]
  },
  {
   "cell_type": "code",
   "execution_count": 44,
   "metadata": {},
   "outputs": [
    {
     "data": {
      "application/vnd.plotly.v1+json": {
       "config": {
        "plotlyServerURL": "https://plot.ly"
       },
       "data": [
        {
         "mode": "markers",
         "name": "Objective Value",
         "type": "scatter",
         "x": [
          0,
          1,
          2,
          3,
          4,
          5,
          6,
          7,
          8,
          9,
          10,
          11,
          12,
          13,
          14,
          15,
          16,
          17,
          18,
          19,
          20,
          21,
          22,
          23,
          24,
          25,
          26,
          27,
          28,
          29
         ],
         "y": [
          0.7318185565801624,
          0.8615265738243391,
          0.7629689986248309,
          0.7294666516212528,
          0.9320573391088502,
          0.8368860526853976,
          0.7011893167360671,
          0.7661291821210506,
          0.9862494899106024,
          0.7849227963337585,
          0.8830571309105081,
          0.7228577867293243,
          0.7104891886701066,
          0.767306337862459,
          0.8353292645732528,
          0.6933108722472888,
          0.6651399041898545,
          0.6730676418153763,
          0.6988799369769442,
          0.7205546158368977,
          0.6428948530755243,
          0.6452649276997926,
          0.635341869983216,
          0.6305343965562406,
          0.6337627894439305,
          0.6268906286147976,
          0.6409071151910658,
          0.6852098108650263,
          0.6346410304313357,
          0.6331125671897773
         ]
        },
        {
         "mode": "lines",
         "name": "Best Value",
         "type": "scatter",
         "x": [
          0,
          1,
          2,
          3,
          4,
          5,
          6,
          7,
          8,
          9,
          10,
          11,
          12,
          13,
          14,
          15,
          16,
          17,
          18,
          19,
          20,
          21,
          22,
          23,
          24,
          25,
          26,
          27,
          28,
          29
         ],
         "y": [
          0.7318185565801624,
          0.7318185565801624,
          0.7318185565801624,
          0.7294666516212528,
          0.7294666516212528,
          0.7294666516212528,
          0.7011893167360671,
          0.7011893167360671,
          0.7011893167360671,
          0.7011893167360671,
          0.7011893167360671,
          0.7011893167360671,
          0.7011893167360671,
          0.7011893167360671,
          0.7011893167360671,
          0.6933108722472888,
          0.6651399041898545,
          0.6651399041898545,
          0.6651399041898545,
          0.6651399041898545,
          0.6428948530755243,
          0.6428948530755243,
          0.635341869983216,
          0.6305343965562406,
          0.6305343965562406,
          0.6268906286147976,
          0.6268906286147976,
          0.6268906286147976,
          0.6268906286147976,
          0.6268906286147976
         ]
        },
        {
         "marker": {
          "color": "#cccccc"
         },
         "mode": "markers",
         "name": "Infeasible Trial",
         "showlegend": false,
         "type": "scatter",
         "x": [],
         "y": []
        }
       ],
       "layout": {
        "template": {
         "data": {
          "bar": [
           {
            "error_x": {
             "color": "#2a3f5f"
            },
            "error_y": {
             "color": "#2a3f5f"
            },
            "marker": {
             "line": {
              "color": "#E5ECF6",
              "width": 0.5
             },
             "pattern": {
              "fillmode": "overlay",
              "size": 10,
              "solidity": 0.2
             }
            },
            "type": "bar"
           }
          ],
          "barpolar": [
           {
            "marker": {
             "line": {
              "color": "#E5ECF6",
              "width": 0.5
             },
             "pattern": {
              "fillmode": "overlay",
              "size": 10,
              "solidity": 0.2
             }
            },
            "type": "barpolar"
           }
          ],
          "carpet": [
           {
            "aaxis": {
             "endlinecolor": "#2a3f5f",
             "gridcolor": "white",
             "linecolor": "white",
             "minorgridcolor": "white",
             "startlinecolor": "#2a3f5f"
            },
            "baxis": {
             "endlinecolor": "#2a3f5f",
             "gridcolor": "white",
             "linecolor": "white",
             "minorgridcolor": "white",
             "startlinecolor": "#2a3f5f"
            },
            "type": "carpet"
           }
          ],
          "choropleth": [
           {
            "colorbar": {
             "outlinewidth": 0,
             "ticks": ""
            },
            "type": "choropleth"
           }
          ],
          "contour": [
           {
            "colorbar": {
             "outlinewidth": 0,
             "ticks": ""
            },
            "colorscale": [
             [
              0,
              "#0d0887"
             ],
             [
              0.1111111111111111,
              "#46039f"
             ],
             [
              0.2222222222222222,
              "#7201a8"
             ],
             [
              0.3333333333333333,
              "#9c179e"
             ],
             [
              0.4444444444444444,
              "#bd3786"
             ],
             [
              0.5555555555555556,
              "#d8576b"
             ],
             [
              0.6666666666666666,
              "#ed7953"
             ],
             [
              0.7777777777777778,
              "#fb9f3a"
             ],
             [
              0.8888888888888888,
              "#fdca26"
             ],
             [
              1,
              "#f0f921"
             ]
            ],
            "type": "contour"
           }
          ],
          "contourcarpet": [
           {
            "colorbar": {
             "outlinewidth": 0,
             "ticks": ""
            },
            "type": "contourcarpet"
           }
          ],
          "heatmap": [
           {
            "colorbar": {
             "outlinewidth": 0,
             "ticks": ""
            },
            "colorscale": [
             [
              0,
              "#0d0887"
             ],
             [
              0.1111111111111111,
              "#46039f"
             ],
             [
              0.2222222222222222,
              "#7201a8"
             ],
             [
              0.3333333333333333,
              "#9c179e"
             ],
             [
              0.4444444444444444,
              "#bd3786"
             ],
             [
              0.5555555555555556,
              "#d8576b"
             ],
             [
              0.6666666666666666,
              "#ed7953"
             ],
             [
              0.7777777777777778,
              "#fb9f3a"
             ],
             [
              0.8888888888888888,
              "#fdca26"
             ],
             [
              1,
              "#f0f921"
             ]
            ],
            "type": "heatmap"
           }
          ],
          "heatmapgl": [
           {
            "colorbar": {
             "outlinewidth": 0,
             "ticks": ""
            },
            "colorscale": [
             [
              0,
              "#0d0887"
             ],
             [
              0.1111111111111111,
              "#46039f"
             ],
             [
              0.2222222222222222,
              "#7201a8"
             ],
             [
              0.3333333333333333,
              "#9c179e"
             ],
             [
              0.4444444444444444,
              "#bd3786"
             ],
             [
              0.5555555555555556,
              "#d8576b"
             ],
             [
              0.6666666666666666,
              "#ed7953"
             ],
             [
              0.7777777777777778,
              "#fb9f3a"
             ],
             [
              0.8888888888888888,
              "#fdca26"
             ],
             [
              1,
              "#f0f921"
             ]
            ],
            "type": "heatmapgl"
           }
          ],
          "histogram": [
           {
            "marker": {
             "pattern": {
              "fillmode": "overlay",
              "size": 10,
              "solidity": 0.2
             }
            },
            "type": "histogram"
           }
          ],
          "histogram2d": [
           {
            "colorbar": {
             "outlinewidth": 0,
             "ticks": ""
            },
            "colorscale": [
             [
              0,
              "#0d0887"
             ],
             [
              0.1111111111111111,
              "#46039f"
             ],
             [
              0.2222222222222222,
              "#7201a8"
             ],
             [
              0.3333333333333333,
              "#9c179e"
             ],
             [
              0.4444444444444444,
              "#bd3786"
             ],
             [
              0.5555555555555556,
              "#d8576b"
             ],
             [
              0.6666666666666666,
              "#ed7953"
             ],
             [
              0.7777777777777778,
              "#fb9f3a"
             ],
             [
              0.8888888888888888,
              "#fdca26"
             ],
             [
              1,
              "#f0f921"
             ]
            ],
            "type": "histogram2d"
           }
          ],
          "histogram2dcontour": [
           {
            "colorbar": {
             "outlinewidth": 0,
             "ticks": ""
            },
            "colorscale": [
             [
              0,
              "#0d0887"
             ],
             [
              0.1111111111111111,
              "#46039f"
             ],
             [
              0.2222222222222222,
              "#7201a8"
             ],
             [
              0.3333333333333333,
              "#9c179e"
             ],
             [
              0.4444444444444444,
              "#bd3786"
             ],
             [
              0.5555555555555556,
              "#d8576b"
             ],
             [
              0.6666666666666666,
              "#ed7953"
             ],
             [
              0.7777777777777778,
              "#fb9f3a"
             ],
             [
              0.8888888888888888,
              "#fdca26"
             ],
             [
              1,
              "#f0f921"
             ]
            ],
            "type": "histogram2dcontour"
           }
          ],
          "mesh3d": [
           {
            "colorbar": {
             "outlinewidth": 0,
             "ticks": ""
            },
            "type": "mesh3d"
           }
          ],
          "parcoords": [
           {
            "line": {
             "colorbar": {
              "outlinewidth": 0,
              "ticks": ""
             }
            },
            "type": "parcoords"
           }
          ],
          "pie": [
           {
            "automargin": true,
            "type": "pie"
           }
          ],
          "scatter": [
           {
            "fillpattern": {
             "fillmode": "overlay",
             "size": 10,
             "solidity": 0.2
            },
            "type": "scatter"
           }
          ],
          "scatter3d": [
           {
            "line": {
             "colorbar": {
              "outlinewidth": 0,
              "ticks": ""
             }
            },
            "marker": {
             "colorbar": {
              "outlinewidth": 0,
              "ticks": ""
             }
            },
            "type": "scatter3d"
           }
          ],
          "scattercarpet": [
           {
            "marker": {
             "colorbar": {
              "outlinewidth": 0,
              "ticks": ""
             }
            },
            "type": "scattercarpet"
           }
          ],
          "scattergeo": [
           {
            "marker": {
             "colorbar": {
              "outlinewidth": 0,
              "ticks": ""
             }
            },
            "type": "scattergeo"
           }
          ],
          "scattergl": [
           {
            "marker": {
             "colorbar": {
              "outlinewidth": 0,
              "ticks": ""
             }
            },
            "type": "scattergl"
           }
          ],
          "scattermapbox": [
           {
            "marker": {
             "colorbar": {
              "outlinewidth": 0,
              "ticks": ""
             }
            },
            "type": "scattermapbox"
           }
          ],
          "scatterpolar": [
           {
            "marker": {
             "colorbar": {
              "outlinewidth": 0,
              "ticks": ""
             }
            },
            "type": "scatterpolar"
           }
          ],
          "scatterpolargl": [
           {
            "marker": {
             "colorbar": {
              "outlinewidth": 0,
              "ticks": ""
             }
            },
            "type": "scatterpolargl"
           }
          ],
          "scatterternary": [
           {
            "marker": {
             "colorbar": {
              "outlinewidth": 0,
              "ticks": ""
             }
            },
            "type": "scatterternary"
           }
          ],
          "surface": [
           {
            "colorbar": {
             "outlinewidth": 0,
             "ticks": ""
            },
            "colorscale": [
             [
              0,
              "#0d0887"
             ],
             [
              0.1111111111111111,
              "#46039f"
             ],
             [
              0.2222222222222222,
              "#7201a8"
             ],
             [
              0.3333333333333333,
              "#9c179e"
             ],
             [
              0.4444444444444444,
              "#bd3786"
             ],
             [
              0.5555555555555556,
              "#d8576b"
             ],
             [
              0.6666666666666666,
              "#ed7953"
             ],
             [
              0.7777777777777778,
              "#fb9f3a"
             ],
             [
              0.8888888888888888,
              "#fdca26"
             ],
             [
              1,
              "#f0f921"
             ]
            ],
            "type": "surface"
           }
          ],
          "table": [
           {
            "cells": {
             "fill": {
              "color": "#EBF0F8"
             },
             "line": {
              "color": "white"
             }
            },
            "header": {
             "fill": {
              "color": "#C8D4E3"
             },
             "line": {
              "color": "white"
             }
            },
            "type": "table"
           }
          ]
         },
         "layout": {
          "annotationdefaults": {
           "arrowcolor": "#2a3f5f",
           "arrowhead": 0,
           "arrowwidth": 1
          },
          "autotypenumbers": "strict",
          "coloraxis": {
           "colorbar": {
            "outlinewidth": 0,
            "ticks": ""
           }
          },
          "colorscale": {
           "diverging": [
            [
             0,
             "#8e0152"
            ],
            [
             0.1,
             "#c51b7d"
            ],
            [
             0.2,
             "#de77ae"
            ],
            [
             0.3,
             "#f1b6da"
            ],
            [
             0.4,
             "#fde0ef"
            ],
            [
             0.5,
             "#f7f7f7"
            ],
            [
             0.6,
             "#e6f5d0"
            ],
            [
             0.7,
             "#b8e186"
            ],
            [
             0.8,
             "#7fbc41"
            ],
            [
             0.9,
             "#4d9221"
            ],
            [
             1,
             "#276419"
            ]
           ],
           "sequential": [
            [
             0,
             "#0d0887"
            ],
            [
             0.1111111111111111,
             "#46039f"
            ],
            [
             0.2222222222222222,
             "#7201a8"
            ],
            [
             0.3333333333333333,
             "#9c179e"
            ],
            [
             0.4444444444444444,
             "#bd3786"
            ],
            [
             0.5555555555555556,
             "#d8576b"
            ],
            [
             0.6666666666666666,
             "#ed7953"
            ],
            [
             0.7777777777777778,
             "#fb9f3a"
            ],
            [
             0.8888888888888888,
             "#fdca26"
            ],
            [
             1,
             "#f0f921"
            ]
           ],
           "sequentialminus": [
            [
             0,
             "#0d0887"
            ],
            [
             0.1111111111111111,
             "#46039f"
            ],
            [
             0.2222222222222222,
             "#7201a8"
            ],
            [
             0.3333333333333333,
             "#9c179e"
            ],
            [
             0.4444444444444444,
             "#bd3786"
            ],
            [
             0.5555555555555556,
             "#d8576b"
            ],
            [
             0.6666666666666666,
             "#ed7953"
            ],
            [
             0.7777777777777778,
             "#fb9f3a"
            ],
            [
             0.8888888888888888,
             "#fdca26"
            ],
            [
             1,
             "#f0f921"
            ]
           ]
          },
          "colorway": [
           "#636efa",
           "#EF553B",
           "#00cc96",
           "#ab63fa",
           "#FFA15A",
           "#19d3f3",
           "#FF6692",
           "#B6E880",
           "#FF97FF",
           "#FECB52"
          ],
          "font": {
           "color": "#2a3f5f"
          },
          "geo": {
           "bgcolor": "white",
           "lakecolor": "white",
           "landcolor": "#E5ECF6",
           "showlakes": true,
           "showland": true,
           "subunitcolor": "white"
          },
          "hoverlabel": {
           "align": "left"
          },
          "hovermode": "closest",
          "mapbox": {
           "style": "light"
          },
          "paper_bgcolor": "white",
          "plot_bgcolor": "#E5ECF6",
          "polar": {
           "angularaxis": {
            "gridcolor": "white",
            "linecolor": "white",
            "ticks": ""
           },
           "bgcolor": "#E5ECF6",
           "radialaxis": {
            "gridcolor": "white",
            "linecolor": "white",
            "ticks": ""
           }
          },
          "scene": {
           "xaxis": {
            "backgroundcolor": "#E5ECF6",
            "gridcolor": "white",
            "gridwidth": 2,
            "linecolor": "white",
            "showbackground": true,
            "ticks": "",
            "zerolinecolor": "white"
           },
           "yaxis": {
            "backgroundcolor": "#E5ECF6",
            "gridcolor": "white",
            "gridwidth": 2,
            "linecolor": "white",
            "showbackground": true,
            "ticks": "",
            "zerolinecolor": "white"
           },
           "zaxis": {
            "backgroundcolor": "#E5ECF6",
            "gridcolor": "white",
            "gridwidth": 2,
            "linecolor": "white",
            "showbackground": true,
            "ticks": "",
            "zerolinecolor": "white"
           }
          },
          "shapedefaults": {
           "line": {
            "color": "#2a3f5f"
           }
          },
          "ternary": {
           "aaxis": {
            "gridcolor": "white",
            "linecolor": "white",
            "ticks": ""
           },
           "baxis": {
            "gridcolor": "white",
            "linecolor": "white",
            "ticks": ""
           },
           "bgcolor": "#E5ECF6",
           "caxis": {
            "gridcolor": "white",
            "linecolor": "white",
            "ticks": ""
           }
          },
          "title": {
           "x": 0.05
          },
          "xaxis": {
           "automargin": true,
           "gridcolor": "white",
           "linecolor": "white",
           "ticks": "",
           "title": {
            "standoff": 15
           },
           "zerolinecolor": "white",
           "zerolinewidth": 2
          },
          "yaxis": {
           "automargin": true,
           "gridcolor": "white",
           "linecolor": "white",
           "ticks": "",
           "title": {
            "standoff": 15
           },
           "zerolinecolor": "white",
           "zerolinewidth": 2
          }
         }
        },
        "title": {
         "text": "Optimization History Plot"
        },
        "xaxis": {
         "title": {
          "text": "Trial"
         }
        },
        "yaxis": {
         "title": {
          "text": "Objective Value"
         }
        }
       }
      }
     },
     "metadata": {},
     "output_type": "display_data"
    }
   ],
   "source": [
    "# 하이퍼파라미터 최적화 과정을 확인\n",
    "optuna.visualization.plot_optimization_history(study_xgb)"
   ]
  },
  {
   "cell_type": "code",
   "execution_count": 45,
   "metadata": {},
   "outputs": [
    {
     "name": "stdout",
     "output_type": "stream",
     "text": [
      "\n",
      "====== Models After Hyper Parameter Tuning ======\n"
     ]
    },
    {
     "data": {
      "text/html": [
       "<div>\n",
       "<style scoped>\n",
       "    .dataframe tbody tr th:only-of-type {\n",
       "        vertical-align: middle;\n",
       "    }\n",
       "\n",
       "    .dataframe tbody tr th {\n",
       "        vertical-align: top;\n",
       "    }\n",
       "\n",
       "    .dataframe thead th {\n",
       "        text-align: right;\n",
       "    }\n",
       "</style>\n",
       "<table border=\"1\" class=\"dataframe\">\n",
       "  <thead>\n",
       "    <tr style=\"text-align: right;\">\n",
       "      <th></th>\n",
       "      <th>Model</th>\n",
       "      <th>MAE</th>\n",
       "      <th>MSE</th>\n",
       "      <th>RMSE</th>\n",
       "      <th>RMSLE</th>\n",
       "      <th>R2 Score</th>\n",
       "    </tr>\n",
       "  </thead>\n",
       "  <tbody>\n",
       "    <tr>\n",
       "      <th>0</th>\n",
       "      <td>XGBoost_tuned</td>\n",
       "      <td>4013202.89</td>\n",
       "      <td>73746886693052.50</td>\n",
       "      <td>8587600.75</td>\n",
       "      <td>0.63</td>\n",
       "      <td>0.73</td>\n",
       "    </tr>\n",
       "  </tbody>\n",
       "</table>\n",
       "</div>"
      ],
      "text/plain": [
       "           Model         MAE                MSE        RMSE RMSLE R2 Score\n",
       "0  XGBoost_tuned  4013202.89  73746886693052.50  8587600.75  0.63     0.73"
      ]
     },
     "execution_count": 45,
     "metadata": {},
     "output_type": "execute_result"
    }
   ],
   "source": [
    "xgb_optuna = XGBRegressor(**study_xgb.best_params)\n",
    "model_list([(\"XGBoost_tuned\", xgb_optuna)], \"After\")"
   ]
  },
  {
   "cell_type": "markdown",
   "metadata": {},
   "source": [
    "#### `LightGBM`"
   ]
  },
  {
   "cell_type": "code",
   "execution_count": 46,
   "metadata": {},
   "outputs": [],
   "source": [
    "def objective_lgbm(trial):\n",
    "    params = {\n",
    "        \"objective\": \"regression\",\n",
    "        \"metric\": \"rmse\",\n",
    "        \"n_estimators\": trial.suggest_int('n_estimators', 500, 4000),\n",
    "        \"verbosity\": -1,\n",
    "        \"bagging_freq\": 1,\n",
    "        \"learning_rate\": trial.suggest_float(\"learning_rate\", 1e-3, 0.1, log=True),\n",
    "        \"num_leaves\": trial.suggest_int(\"num_leaves\", 2, 2**10),\n",
    "        \"subsample\": trial.suggest_float(\"subsample\", 0.05, 1.0),\n",
    "        \"colsample_bytree\": trial.suggest_float(\"colsample_bytree\", 0.05, 1.0),\n",
    "        \"min_data_in_leaf\": trial.suggest_int(\"min_data_in_leaf\", 1, 100),\n",
    "    }\n",
    "\n",
    "    model = LGBMRegressor(**params, random_state=42)\n",
    "    model.fit(X_train, y_train)\n",
    "    predictions = model.predict(X_test)\n",
    "    rmsle = get_rmsle(y_test, predictions)\n",
    "\n",
    "\n",
    "    return rmsle"
   ]
  },
  {
   "cell_type": "code",
   "execution_count": 47,
   "metadata": {},
   "outputs": [
    {
     "name": "stderr",
     "output_type": "stream",
     "text": [
      "[I 2024-04-03 16:25:20,940] A new study created in memory with name: no-name-1960983b-ddb6-4350-bf54-e3b0725cd0dd\n",
      "[I 2024-04-03 16:25:23,020] Trial 0 finished with value: 0.8768770325786939 and parameters: {'n_estimators': 1787, 'learning_rate': 0.018391267498289014, 'num_leaves': 650, 'subsample': 0.5589859498710206, 'colsample_bytree': 0.1357752815516879, 'min_data_in_leaf': 84}. Best is trial 0 with value: 0.8768770325786939.\n",
      "[I 2024-04-03 16:25:24,615] Trial 1 finished with value: 0.7313190744640695 and parameters: {'n_estimators': 1623, 'learning_rate': 0.0023606794572813066, 'num_leaves': 43, 'subsample': 0.6113482960288298, 'colsample_bytree': 0.6936861437501683, 'min_data_in_leaf': 2}. Best is trial 1 with value: 0.7313190744640695.\n",
      "[I 2024-04-03 16:25:27,088] Trial 2 finished with value: 0.6673978085789343 and parameters: {'n_estimators': 2292, 'learning_rate': 0.002837863814617626, 'num_leaves': 662, 'subsample': 0.21564810755474184, 'colsample_bytree': 0.7063908511973427, 'min_data_in_leaf': 39}. Best is trial 2 with value: 0.6673978085789343.\n",
      "[I 2024-04-03 16:25:28,952] Trial 3 finished with value: 0.7720219369119358 and parameters: {'n_estimators': 3779, 'learning_rate': 0.0018838307787619744, 'num_leaves': 350, 'subsample': 0.1577998451785596, 'colsample_bytree': 0.9284589373646347, 'min_data_in_leaf': 88}. Best is trial 2 with value: 0.6673978085789343.\n",
      "[I 2024-04-03 16:25:33,780] Trial 4 finished with value: 0.7672374498628339 and parameters: {'n_estimators': 1403, 'learning_rate': 0.020891426343856455, 'num_leaves': 838, 'subsample': 0.5774407710194892, 'colsample_bytree': 0.5531680494382062, 'min_data_in_leaf': 25}. Best is trial 2 with value: 0.6673978085789343.\n",
      "[I 2024-04-03 16:25:36,286] Trial 5 finished with value: 0.8387968680529354 and parameters: {'n_estimators': 825, 'learning_rate': 0.06229189113188561, 'num_leaves': 923, 'subsample': 0.6514463844096046, 'colsample_bytree': 0.37207830149626564, 'min_data_in_leaf': 35}. Best is trial 2 with value: 0.6673978085789343.\n",
      "[I 2024-04-03 16:26:14,246] Trial 6 finished with value: 0.7408694409362561 and parameters: {'n_estimators': 3041, 'learning_rate': 0.06226163482363463, 'num_leaves': 909, 'subsample': 0.7908817685647427, 'colsample_bytree': 0.6599300638465734, 'min_data_in_leaf': 9}. Best is trial 2 with value: 0.6673978085789343.\n",
      "[I 2024-04-03 16:26:14,580] Trial 7 finished with value: 0.9111479176427147 and parameters: {'n_estimators': 1065, 'learning_rate': 0.06267702540388488, 'num_leaves': 622, 'subsample': 0.05873719903579817, 'colsample_bytree': 0.1463979657227305, 'min_data_in_leaf': 67}. Best is trial 2 with value: 0.6673978085789343.\n",
      "[I 2024-04-03 16:26:16,619] Trial 8 finished with value: 1.1173805302737858 and parameters: {'n_estimators': 517, 'learning_rate': 0.002097085333143113, 'num_leaves': 563, 'subsample': 0.7073004378080586, 'colsample_bytree': 0.6693631965274706, 'min_data_in_leaf': 23}. Best is trial 2 with value: 0.6673978085789343.\n",
      "[I 2024-04-03 16:26:21,007] Trial 9 finished with value: 0.6692489348165528 and parameters: {'n_estimators': 2993, 'learning_rate': 0.0029819350171149347, 'num_leaves': 334, 'subsample': 0.759166834862123, 'colsample_bytree': 0.667151254094854, 'min_data_in_leaf': 85}. Best is trial 2 with value: 0.6673978085789343.\n",
      "[I 2024-04-03 16:26:24,026] Trial 10 finished with value: 0.6828335328847679 and parameters: {'n_estimators': 2353, 'learning_rate': 0.006105918454463275, 'num_leaves': 359, 'subsample': 0.3269265016722424, 'colsample_bytree': 0.9412204852224804, 'min_data_in_leaf': 48}. Best is trial 2 with value: 0.6673978085789343.\n",
      "[I 2024-04-03 16:26:29,985] Trial 11 finished with value: 0.6847609136810451 and parameters: {'n_estimators': 2680, 'learning_rate': 0.0054511372003296504, 'num_leaves': 289, 'subsample': 0.9551099330960041, 'colsample_bytree': 0.8106418923982365, 'min_data_in_leaf': 64}. Best is trial 2 with value: 0.6673978085789343.\n",
      "[I 2024-04-03 16:26:32,481] Trial 12 finished with value: 0.738650119817573 and parameters: {'n_estimators': 3283, 'learning_rate': 0.001247455051432641, 'num_leaves': 139, 'subsample': 0.34741166670572066, 'colsample_bytree': 0.4548387352525054, 'min_data_in_leaf': 100}. Best is trial 2 with value: 0.6673978085789343.\n",
      "[I 2024-04-03 16:26:35,660] Trial 13 finished with value: 0.6661118560699458 and parameters: {'n_estimators': 2158, 'learning_rate': 0.004677979421458708, 'num_leaves': 794, 'subsample': 0.38008707739975267, 'colsample_bytree': 0.8074752952463718, 'min_data_in_leaf': 52}. Best is trial 13 with value: 0.6661118560699458.\n",
      "[I 2024-04-03 16:26:38,661] Trial 14 finished with value: 0.6655438607139544 and parameters: {'n_estimators': 2084, 'learning_rate': 0.00529800970517704, 'num_leaves': 743, 'subsample': 0.37219906274704084, 'colsample_bytree': 0.8106489287640424, 'min_data_in_leaf': 50}. Best is trial 14 with value: 0.6655438607139544.\n",
      "[I 2024-04-03 16:26:41,448] Trial 15 finished with value: 0.6963690523885494 and parameters: {'n_estimators': 2130, 'learning_rate': 0.010972879777282604, 'num_leaves': 768, 'subsample': 0.3887960427864496, 'colsample_bytree': 0.8337462401191255, 'min_data_in_leaf': 64}. Best is trial 14 with value: 0.6655438607139544.\n",
      "[I 2024-04-03 16:26:45,031] Trial 16 finished with value: 0.6653736108728958 and parameters: {'n_estimators': 1954, 'learning_rate': 0.006664671150015687, 'num_leaves': 997, 'subsample': 0.43154336794680387, 'colsample_bytree': 0.8006717192202069, 'min_data_in_leaf': 56}. Best is trial 16 with value: 0.6653736108728958.\n",
      "[I 2024-04-03 16:26:47,300] Trial 17 finished with value: 0.7332754474596223 and parameters: {'n_estimators': 1268, 'learning_rate': 0.011293997545694285, 'num_leaves': 971, 'subsample': 0.4711016514112322, 'colsample_bytree': 0.3107690534147035, 'min_data_in_leaf': 50}. Best is trial 16 with value: 0.6653736108728958.\n",
      "[I 2024-04-03 16:26:48,850] Trial 18 finished with value: 0.7987552189599835 and parameters: {'n_estimators': 1825, 'learning_rate': 0.02219251188499374, 'num_leaves': 993, 'subsample': 0.24758972164284954, 'colsample_bytree': 0.5401926525503513, 'min_data_in_leaf': 73}. Best is trial 16 with value: 0.6653736108728958.\n",
      "[I 2024-04-03 16:26:53,041] Trial 19 finished with value: 0.6947676239382659 and parameters: {'n_estimators': 2612, 'learning_rate': 0.008035496669081339, 'num_leaves': 464, 'subsample': 0.45743175746351883, 'colsample_bytree': 0.9548632642047161, 'min_data_in_leaf': 57}. Best is trial 16 with value: 0.6653736108728958.\n",
      "[I 2024-04-03 16:27:02,323] Trial 20 finished with value: 0.6899317069823152 and parameters: {'n_estimators': 3903, 'learning_rate': 0.0035424200146062478, 'num_leaves': 721, 'subsample': 0.48539117242186014, 'colsample_bytree': 0.7830430464527768, 'min_data_in_leaf': 38}. Best is trial 16 with value: 0.6653736108728958.\n",
      "[I 2024-04-03 16:27:05,417] Trial 21 finished with value: 0.6601502647415156 and parameters: {'n_estimators': 1981, 'learning_rate': 0.004634952797903312, 'num_leaves': 799, 'subsample': 0.3967355748420359, 'colsample_bytree': 0.877015014252917, 'min_data_in_leaf': 53}. Best is trial 21 with value: 0.6601502647415156.\n",
      "[I 2024-04-03 16:27:07,951] Trial 22 finished with value: 0.6859550405251829 and parameters: {'n_estimators': 1911, 'learning_rate': 0.008503196725923354, 'num_leaves': 864, 'subsample': 0.27070250785507255, 'colsample_bytree': 0.9978537833779848, 'min_data_in_leaf': 43}. Best is trial 21 with value: 0.6601502647415156.\n",
      "[I 2024-04-03 16:27:11,905] Trial 23 finished with value: 0.6462253527792952 and parameters: {'n_estimators': 1491, 'learning_rate': 0.004543994916573033, 'num_leaves': 1020, 'subsample': 0.4287119109937761, 'colsample_bytree': 0.9163742002067012, 'min_data_in_leaf': 30}. Best is trial 23 with value: 0.6462253527792952.\n",
      "[I 2024-04-03 16:27:15,889] Trial 24 finished with value: 0.8402262262421624 and parameters: {'n_estimators': 1487, 'learning_rate': 0.0013530061398088623, 'num_leaves': 1024, 'subsample': 0.4319195856331568, 'colsample_bytree': 0.8933508458500372, 'min_data_in_leaf': 28}. Best is trial 23 with value: 0.6462253527792952.\n",
      "[I 2024-04-03 16:27:22,300] Trial 25 finished with value: 0.7045087794549815 and parameters: {'n_estimators': 1140, 'learning_rate': 0.014932372523019377, 'num_leaves': 913, 'subsample': 0.5370144361311389, 'colsample_bytree': 0.8607990916644952, 'min_data_in_leaf': 15}. Best is trial 23 with value: 0.6462253527792952.\n",
      "[I 2024-04-03 16:27:24,137] Trial 26 finished with value: 0.8136293188047367 and parameters: {'n_estimators': 1641, 'learning_rate': 0.0353273220123264, 'num_leaves': 841, 'subsample': 0.16053038466041675, 'colsample_bytree': 0.7498572861152686, 'min_data_in_leaf': 32}. Best is trial 23 with value: 0.6462253527792952.\n",
      "[I 2024-04-03 16:27:31,043] Trial 27 finished with value: 0.6890014047102452 and parameters: {'n_estimators': 2610, 'learning_rate': 0.004074811837548363, 'num_leaves': 968, 'subsample': 0.31142378219823685, 'colsample_bytree': 0.6108442588865088, 'min_data_in_leaf': 19}. Best is trial 23 with value: 0.6462253527792952.\n",
      "[I 2024-04-03 16:27:34,117] Trial 28 finished with value: 0.6707908661667609 and parameters: {'n_estimators': 1887, 'learning_rate': 0.006385690200139852, 'num_leaves': 890, 'subsample': 0.4208328875535318, 'colsample_bytree': 0.9975335658097113, 'min_data_in_leaf': 73}. Best is trial 23 with value: 0.6462253527792952.\n",
      "[I 2024-04-03 16:27:35,949] Trial 29 finished with value: 0.6907833814864848 and parameters: {'n_estimators': 833, 'learning_rate': 0.012906537437724425, 'num_leaves': 1017, 'subsample': 0.5264277626091535, 'colsample_bytree': 0.8687559497299533, 'min_data_in_leaf': 57}. Best is trial 23 with value: 0.6462253527792952.\n"
     ]
    }
   ],
   "source": [
    "study_lgbm = optuna.create_study(direction='minimize', sampler=sampler)\n",
    "study_lgbm.optimize(objective_lgbm, n_trials=30)"
   ]
  },
  {
   "cell_type": "code",
   "execution_count": 48,
   "metadata": {},
   "outputs": [
    {
     "name": "stdout",
     "output_type": "stream",
     "text": [
      "Best hyperparameters:\n",
      "{'n_estimators': 1491, 'learning_rate': 0.004543994916573033, 'num_leaves': 1020, 'subsample': 0.4287119109937761, 'colsample_bytree': 0.9163742002067012, 'min_data_in_leaf': 30}\n",
      "-----------------------------------------------------------------------------------------------------------------\n",
      "Best RMSLE:\n",
      "0.6462253527792952\n"
     ]
    }
   ],
   "source": [
    "print(\"Best hyperparameters:\", study_lgbm.best_params, sep=\"\\n\")\n",
    "print(\"-----------------------------------------------------------------------------------------------------------------\")\n",
    "print(\"Best RMSLE:\", study_lgbm.best_value, sep=\"\\n\")"
   ]
  },
  {
   "cell_type": "code",
   "execution_count": 49,
   "metadata": {},
   "outputs": [
    {
     "data": {
      "application/vnd.plotly.v1+json": {
       "config": {
        "plotlyServerURL": "https://plot.ly"
       },
       "data": [
        {
         "cliponaxis": false,
         "hovertemplate": [
          "num_leaves (IntDistribution): 0.021311822552321235<extra></extra>",
          "min_data_in_leaf (IntDistribution): 0.03366334086388427<extra></extra>",
          "subsample (FloatDistribution): 0.05333960976342908<extra></extra>",
          "colsample_bytree (FloatDistribution): 0.1106672817601863<extra></extra>",
          "learning_rate (FloatDistribution): 0.2760562419380333<extra></extra>",
          "n_estimators (IntDistribution): 0.5049617031221457<extra></extra>"
         ],
         "name": "Objective Value",
         "orientation": "h",
         "text": [
          "0.02",
          "0.03",
          "0.05",
          "0.11",
          "0.28",
          "0.50"
         ],
         "textposition": "outside",
         "type": "bar",
         "x": [
          0.021311822552321235,
          0.03366334086388427,
          0.05333960976342908,
          0.1106672817601863,
          0.2760562419380333,
          0.5049617031221457
         ],
         "y": [
          "num_leaves",
          "min_data_in_leaf",
          "subsample",
          "colsample_bytree",
          "learning_rate",
          "n_estimators"
         ]
        }
       ],
       "layout": {
        "template": {
         "data": {
          "bar": [
           {
            "error_x": {
             "color": "#2a3f5f"
            },
            "error_y": {
             "color": "#2a3f5f"
            },
            "marker": {
             "line": {
              "color": "#E5ECF6",
              "width": 0.5
             },
             "pattern": {
              "fillmode": "overlay",
              "size": 10,
              "solidity": 0.2
             }
            },
            "type": "bar"
           }
          ],
          "barpolar": [
           {
            "marker": {
             "line": {
              "color": "#E5ECF6",
              "width": 0.5
             },
             "pattern": {
              "fillmode": "overlay",
              "size": 10,
              "solidity": 0.2
             }
            },
            "type": "barpolar"
           }
          ],
          "carpet": [
           {
            "aaxis": {
             "endlinecolor": "#2a3f5f",
             "gridcolor": "white",
             "linecolor": "white",
             "minorgridcolor": "white",
             "startlinecolor": "#2a3f5f"
            },
            "baxis": {
             "endlinecolor": "#2a3f5f",
             "gridcolor": "white",
             "linecolor": "white",
             "minorgridcolor": "white",
             "startlinecolor": "#2a3f5f"
            },
            "type": "carpet"
           }
          ],
          "choropleth": [
           {
            "colorbar": {
             "outlinewidth": 0,
             "ticks": ""
            },
            "type": "choropleth"
           }
          ],
          "contour": [
           {
            "colorbar": {
             "outlinewidth": 0,
             "ticks": ""
            },
            "colorscale": [
             [
              0,
              "#0d0887"
             ],
             [
              0.1111111111111111,
              "#46039f"
             ],
             [
              0.2222222222222222,
              "#7201a8"
             ],
             [
              0.3333333333333333,
              "#9c179e"
             ],
             [
              0.4444444444444444,
              "#bd3786"
             ],
             [
              0.5555555555555556,
              "#d8576b"
             ],
             [
              0.6666666666666666,
              "#ed7953"
             ],
             [
              0.7777777777777778,
              "#fb9f3a"
             ],
             [
              0.8888888888888888,
              "#fdca26"
             ],
             [
              1,
              "#f0f921"
             ]
            ],
            "type": "contour"
           }
          ],
          "contourcarpet": [
           {
            "colorbar": {
             "outlinewidth": 0,
             "ticks": ""
            },
            "type": "contourcarpet"
           }
          ],
          "heatmap": [
           {
            "colorbar": {
             "outlinewidth": 0,
             "ticks": ""
            },
            "colorscale": [
             [
              0,
              "#0d0887"
             ],
             [
              0.1111111111111111,
              "#46039f"
             ],
             [
              0.2222222222222222,
              "#7201a8"
             ],
             [
              0.3333333333333333,
              "#9c179e"
             ],
             [
              0.4444444444444444,
              "#bd3786"
             ],
             [
              0.5555555555555556,
              "#d8576b"
             ],
             [
              0.6666666666666666,
              "#ed7953"
             ],
             [
              0.7777777777777778,
              "#fb9f3a"
             ],
             [
              0.8888888888888888,
              "#fdca26"
             ],
             [
              1,
              "#f0f921"
             ]
            ],
            "type": "heatmap"
           }
          ],
          "heatmapgl": [
           {
            "colorbar": {
             "outlinewidth": 0,
             "ticks": ""
            },
            "colorscale": [
             [
              0,
              "#0d0887"
             ],
             [
              0.1111111111111111,
              "#46039f"
             ],
             [
              0.2222222222222222,
              "#7201a8"
             ],
             [
              0.3333333333333333,
              "#9c179e"
             ],
             [
              0.4444444444444444,
              "#bd3786"
             ],
             [
              0.5555555555555556,
              "#d8576b"
             ],
             [
              0.6666666666666666,
              "#ed7953"
             ],
             [
              0.7777777777777778,
              "#fb9f3a"
             ],
             [
              0.8888888888888888,
              "#fdca26"
             ],
             [
              1,
              "#f0f921"
             ]
            ],
            "type": "heatmapgl"
           }
          ],
          "histogram": [
           {
            "marker": {
             "pattern": {
              "fillmode": "overlay",
              "size": 10,
              "solidity": 0.2
             }
            },
            "type": "histogram"
           }
          ],
          "histogram2d": [
           {
            "colorbar": {
             "outlinewidth": 0,
             "ticks": ""
            },
            "colorscale": [
             [
              0,
              "#0d0887"
             ],
             [
              0.1111111111111111,
              "#46039f"
             ],
             [
              0.2222222222222222,
              "#7201a8"
             ],
             [
              0.3333333333333333,
              "#9c179e"
             ],
             [
              0.4444444444444444,
              "#bd3786"
             ],
             [
              0.5555555555555556,
              "#d8576b"
             ],
             [
              0.6666666666666666,
              "#ed7953"
             ],
             [
              0.7777777777777778,
              "#fb9f3a"
             ],
             [
              0.8888888888888888,
              "#fdca26"
             ],
             [
              1,
              "#f0f921"
             ]
            ],
            "type": "histogram2d"
           }
          ],
          "histogram2dcontour": [
           {
            "colorbar": {
             "outlinewidth": 0,
             "ticks": ""
            },
            "colorscale": [
             [
              0,
              "#0d0887"
             ],
             [
              0.1111111111111111,
              "#46039f"
             ],
             [
              0.2222222222222222,
              "#7201a8"
             ],
             [
              0.3333333333333333,
              "#9c179e"
             ],
             [
              0.4444444444444444,
              "#bd3786"
             ],
             [
              0.5555555555555556,
              "#d8576b"
             ],
             [
              0.6666666666666666,
              "#ed7953"
             ],
             [
              0.7777777777777778,
              "#fb9f3a"
             ],
             [
              0.8888888888888888,
              "#fdca26"
             ],
             [
              1,
              "#f0f921"
             ]
            ],
            "type": "histogram2dcontour"
           }
          ],
          "mesh3d": [
           {
            "colorbar": {
             "outlinewidth": 0,
             "ticks": ""
            },
            "type": "mesh3d"
           }
          ],
          "parcoords": [
           {
            "line": {
             "colorbar": {
              "outlinewidth": 0,
              "ticks": ""
             }
            },
            "type": "parcoords"
           }
          ],
          "pie": [
           {
            "automargin": true,
            "type": "pie"
           }
          ],
          "scatter": [
           {
            "fillpattern": {
             "fillmode": "overlay",
             "size": 10,
             "solidity": 0.2
            },
            "type": "scatter"
           }
          ],
          "scatter3d": [
           {
            "line": {
             "colorbar": {
              "outlinewidth": 0,
              "ticks": ""
             }
            },
            "marker": {
             "colorbar": {
              "outlinewidth": 0,
              "ticks": ""
             }
            },
            "type": "scatter3d"
           }
          ],
          "scattercarpet": [
           {
            "marker": {
             "colorbar": {
              "outlinewidth": 0,
              "ticks": ""
             }
            },
            "type": "scattercarpet"
           }
          ],
          "scattergeo": [
           {
            "marker": {
             "colorbar": {
              "outlinewidth": 0,
              "ticks": ""
             }
            },
            "type": "scattergeo"
           }
          ],
          "scattergl": [
           {
            "marker": {
             "colorbar": {
              "outlinewidth": 0,
              "ticks": ""
             }
            },
            "type": "scattergl"
           }
          ],
          "scattermapbox": [
           {
            "marker": {
             "colorbar": {
              "outlinewidth": 0,
              "ticks": ""
             }
            },
            "type": "scattermapbox"
           }
          ],
          "scatterpolar": [
           {
            "marker": {
             "colorbar": {
              "outlinewidth": 0,
              "ticks": ""
             }
            },
            "type": "scatterpolar"
           }
          ],
          "scatterpolargl": [
           {
            "marker": {
             "colorbar": {
              "outlinewidth": 0,
              "ticks": ""
             }
            },
            "type": "scatterpolargl"
           }
          ],
          "scatterternary": [
           {
            "marker": {
             "colorbar": {
              "outlinewidth": 0,
              "ticks": ""
             }
            },
            "type": "scatterternary"
           }
          ],
          "surface": [
           {
            "colorbar": {
             "outlinewidth": 0,
             "ticks": ""
            },
            "colorscale": [
             [
              0,
              "#0d0887"
             ],
             [
              0.1111111111111111,
              "#46039f"
             ],
             [
              0.2222222222222222,
              "#7201a8"
             ],
             [
              0.3333333333333333,
              "#9c179e"
             ],
             [
              0.4444444444444444,
              "#bd3786"
             ],
             [
              0.5555555555555556,
              "#d8576b"
             ],
             [
              0.6666666666666666,
              "#ed7953"
             ],
             [
              0.7777777777777778,
              "#fb9f3a"
             ],
             [
              0.8888888888888888,
              "#fdca26"
             ],
             [
              1,
              "#f0f921"
             ]
            ],
            "type": "surface"
           }
          ],
          "table": [
           {
            "cells": {
             "fill": {
              "color": "#EBF0F8"
             },
             "line": {
              "color": "white"
             }
            },
            "header": {
             "fill": {
              "color": "#C8D4E3"
             },
             "line": {
              "color": "white"
             }
            },
            "type": "table"
           }
          ]
         },
         "layout": {
          "annotationdefaults": {
           "arrowcolor": "#2a3f5f",
           "arrowhead": 0,
           "arrowwidth": 1
          },
          "autotypenumbers": "strict",
          "coloraxis": {
           "colorbar": {
            "outlinewidth": 0,
            "ticks": ""
           }
          },
          "colorscale": {
           "diverging": [
            [
             0,
             "#8e0152"
            ],
            [
             0.1,
             "#c51b7d"
            ],
            [
             0.2,
             "#de77ae"
            ],
            [
             0.3,
             "#f1b6da"
            ],
            [
             0.4,
             "#fde0ef"
            ],
            [
             0.5,
             "#f7f7f7"
            ],
            [
             0.6,
             "#e6f5d0"
            ],
            [
             0.7,
             "#b8e186"
            ],
            [
             0.8,
             "#7fbc41"
            ],
            [
             0.9,
             "#4d9221"
            ],
            [
             1,
             "#276419"
            ]
           ],
           "sequential": [
            [
             0,
             "#0d0887"
            ],
            [
             0.1111111111111111,
             "#46039f"
            ],
            [
             0.2222222222222222,
             "#7201a8"
            ],
            [
             0.3333333333333333,
             "#9c179e"
            ],
            [
             0.4444444444444444,
             "#bd3786"
            ],
            [
             0.5555555555555556,
             "#d8576b"
            ],
            [
             0.6666666666666666,
             "#ed7953"
            ],
            [
             0.7777777777777778,
             "#fb9f3a"
            ],
            [
             0.8888888888888888,
             "#fdca26"
            ],
            [
             1,
             "#f0f921"
            ]
           ],
           "sequentialminus": [
            [
             0,
             "#0d0887"
            ],
            [
             0.1111111111111111,
             "#46039f"
            ],
            [
             0.2222222222222222,
             "#7201a8"
            ],
            [
             0.3333333333333333,
             "#9c179e"
            ],
            [
             0.4444444444444444,
             "#bd3786"
            ],
            [
             0.5555555555555556,
             "#d8576b"
            ],
            [
             0.6666666666666666,
             "#ed7953"
            ],
            [
             0.7777777777777778,
             "#fb9f3a"
            ],
            [
             0.8888888888888888,
             "#fdca26"
            ],
            [
             1,
             "#f0f921"
            ]
           ]
          },
          "colorway": [
           "#636efa",
           "#EF553B",
           "#00cc96",
           "#ab63fa",
           "#FFA15A",
           "#19d3f3",
           "#FF6692",
           "#B6E880",
           "#FF97FF",
           "#FECB52"
          ],
          "font": {
           "color": "#2a3f5f"
          },
          "geo": {
           "bgcolor": "white",
           "lakecolor": "white",
           "landcolor": "#E5ECF6",
           "showlakes": true,
           "showland": true,
           "subunitcolor": "white"
          },
          "hoverlabel": {
           "align": "left"
          },
          "hovermode": "closest",
          "mapbox": {
           "style": "light"
          },
          "paper_bgcolor": "white",
          "plot_bgcolor": "#E5ECF6",
          "polar": {
           "angularaxis": {
            "gridcolor": "white",
            "linecolor": "white",
            "ticks": ""
           },
           "bgcolor": "#E5ECF6",
           "radialaxis": {
            "gridcolor": "white",
            "linecolor": "white",
            "ticks": ""
           }
          },
          "scene": {
           "xaxis": {
            "backgroundcolor": "#E5ECF6",
            "gridcolor": "white",
            "gridwidth": 2,
            "linecolor": "white",
            "showbackground": true,
            "ticks": "",
            "zerolinecolor": "white"
           },
           "yaxis": {
            "backgroundcolor": "#E5ECF6",
            "gridcolor": "white",
            "gridwidth": 2,
            "linecolor": "white",
            "showbackground": true,
            "ticks": "",
            "zerolinecolor": "white"
           },
           "zaxis": {
            "backgroundcolor": "#E5ECF6",
            "gridcolor": "white",
            "gridwidth": 2,
            "linecolor": "white",
            "showbackground": true,
            "ticks": "",
            "zerolinecolor": "white"
           }
          },
          "shapedefaults": {
           "line": {
            "color": "#2a3f5f"
           }
          },
          "ternary": {
           "aaxis": {
            "gridcolor": "white",
            "linecolor": "white",
            "ticks": ""
           },
           "baxis": {
            "gridcolor": "white",
            "linecolor": "white",
            "ticks": ""
           },
           "bgcolor": "#E5ECF6",
           "caxis": {
            "gridcolor": "white",
            "linecolor": "white",
            "ticks": ""
           }
          },
          "title": {
           "x": 0.05
          },
          "xaxis": {
           "automargin": true,
           "gridcolor": "white",
           "linecolor": "white",
           "ticks": "",
           "title": {
            "standoff": 15
           },
           "zerolinecolor": "white",
           "zerolinewidth": 2
          },
          "yaxis": {
           "automargin": true,
           "gridcolor": "white",
           "linecolor": "white",
           "ticks": "",
           "title": {
            "standoff": 15
           },
           "zerolinecolor": "white",
           "zerolinewidth": 2
          }
         }
        },
        "title": {
         "text": "Hyperparameter Importances"
        },
        "xaxis": {
         "title": {
          "text": "Hyperparameter Importance"
         }
        },
        "yaxis": {
         "title": {
          "text": "Hyperparameter"
         }
        }
       }
      }
     },
     "metadata": {},
     "output_type": "display_data"
    }
   ],
   "source": [
    "# 하이퍼파라미터별 중요도를 확인할 수 있는 그래프\n",
    "optuna.visualization.plot_param_importances(study_lgbm)"
   ]
  },
  {
   "cell_type": "code",
   "execution_count": 50,
   "metadata": {},
   "outputs": [
    {
     "data": {
      "application/vnd.plotly.v1+json": {
       "config": {
        "plotlyServerURL": "https://plot.ly"
       },
       "data": [
        {
         "mode": "markers",
         "name": "Objective Value",
         "type": "scatter",
         "x": [
          0,
          1,
          2,
          3,
          4,
          5,
          6,
          7,
          8,
          9,
          10,
          11,
          12,
          13,
          14,
          15,
          16,
          17,
          18,
          19,
          20,
          21,
          22,
          23,
          24,
          25,
          26,
          27,
          28,
          29
         ],
         "y": [
          0.8768770325786939,
          0.7313190744640695,
          0.6673978085789343,
          0.7720219369119358,
          0.7672374498628339,
          0.8387968680529354,
          0.7408694409362561,
          0.9111479176427147,
          1.1173805302737858,
          0.6692489348165528,
          0.6828335328847679,
          0.6847609136810451,
          0.738650119817573,
          0.6661118560699458,
          0.6655438607139544,
          0.6963690523885494,
          0.6653736108728958,
          0.7332754474596223,
          0.7987552189599835,
          0.6947676239382659,
          0.6899317069823152,
          0.6601502647415156,
          0.6859550405251829,
          0.6462253527792952,
          0.8402262262421624,
          0.7045087794549815,
          0.8136293188047367,
          0.6890014047102452,
          0.6707908661667609,
          0.6907833814864848
         ]
        },
        {
         "mode": "lines",
         "name": "Best Value",
         "type": "scatter",
         "x": [
          0,
          1,
          2,
          3,
          4,
          5,
          6,
          7,
          8,
          9,
          10,
          11,
          12,
          13,
          14,
          15,
          16,
          17,
          18,
          19,
          20,
          21,
          22,
          23,
          24,
          25,
          26,
          27,
          28,
          29
         ],
         "y": [
          0.8768770325786939,
          0.7313190744640695,
          0.6673978085789343,
          0.6673978085789343,
          0.6673978085789343,
          0.6673978085789343,
          0.6673978085789343,
          0.6673978085789343,
          0.6673978085789343,
          0.6673978085789343,
          0.6673978085789343,
          0.6673978085789343,
          0.6673978085789343,
          0.6661118560699458,
          0.6655438607139544,
          0.6655438607139544,
          0.6653736108728958,
          0.6653736108728958,
          0.6653736108728958,
          0.6653736108728958,
          0.6653736108728958,
          0.6601502647415156,
          0.6601502647415156,
          0.6462253527792952,
          0.6462253527792952,
          0.6462253527792952,
          0.6462253527792952,
          0.6462253527792952,
          0.6462253527792952,
          0.6462253527792952
         ]
        },
        {
         "marker": {
          "color": "#cccccc"
         },
         "mode": "markers",
         "name": "Infeasible Trial",
         "showlegend": false,
         "type": "scatter",
         "x": [],
         "y": []
        }
       ],
       "layout": {
        "template": {
         "data": {
          "bar": [
           {
            "error_x": {
             "color": "#2a3f5f"
            },
            "error_y": {
             "color": "#2a3f5f"
            },
            "marker": {
             "line": {
              "color": "#E5ECF6",
              "width": 0.5
             },
             "pattern": {
              "fillmode": "overlay",
              "size": 10,
              "solidity": 0.2
             }
            },
            "type": "bar"
           }
          ],
          "barpolar": [
           {
            "marker": {
             "line": {
              "color": "#E5ECF6",
              "width": 0.5
             },
             "pattern": {
              "fillmode": "overlay",
              "size": 10,
              "solidity": 0.2
             }
            },
            "type": "barpolar"
           }
          ],
          "carpet": [
           {
            "aaxis": {
             "endlinecolor": "#2a3f5f",
             "gridcolor": "white",
             "linecolor": "white",
             "minorgridcolor": "white",
             "startlinecolor": "#2a3f5f"
            },
            "baxis": {
             "endlinecolor": "#2a3f5f",
             "gridcolor": "white",
             "linecolor": "white",
             "minorgridcolor": "white",
             "startlinecolor": "#2a3f5f"
            },
            "type": "carpet"
           }
          ],
          "choropleth": [
           {
            "colorbar": {
             "outlinewidth": 0,
             "ticks": ""
            },
            "type": "choropleth"
           }
          ],
          "contour": [
           {
            "colorbar": {
             "outlinewidth": 0,
             "ticks": ""
            },
            "colorscale": [
             [
              0,
              "#0d0887"
             ],
             [
              0.1111111111111111,
              "#46039f"
             ],
             [
              0.2222222222222222,
              "#7201a8"
             ],
             [
              0.3333333333333333,
              "#9c179e"
             ],
             [
              0.4444444444444444,
              "#bd3786"
             ],
             [
              0.5555555555555556,
              "#d8576b"
             ],
             [
              0.6666666666666666,
              "#ed7953"
             ],
             [
              0.7777777777777778,
              "#fb9f3a"
             ],
             [
              0.8888888888888888,
              "#fdca26"
             ],
             [
              1,
              "#f0f921"
             ]
            ],
            "type": "contour"
           }
          ],
          "contourcarpet": [
           {
            "colorbar": {
             "outlinewidth": 0,
             "ticks": ""
            },
            "type": "contourcarpet"
           }
          ],
          "heatmap": [
           {
            "colorbar": {
             "outlinewidth": 0,
             "ticks": ""
            },
            "colorscale": [
             [
              0,
              "#0d0887"
             ],
             [
              0.1111111111111111,
              "#46039f"
             ],
             [
              0.2222222222222222,
              "#7201a8"
             ],
             [
              0.3333333333333333,
              "#9c179e"
             ],
             [
              0.4444444444444444,
              "#bd3786"
             ],
             [
              0.5555555555555556,
              "#d8576b"
             ],
             [
              0.6666666666666666,
              "#ed7953"
             ],
             [
              0.7777777777777778,
              "#fb9f3a"
             ],
             [
              0.8888888888888888,
              "#fdca26"
             ],
             [
              1,
              "#f0f921"
             ]
            ],
            "type": "heatmap"
           }
          ],
          "heatmapgl": [
           {
            "colorbar": {
             "outlinewidth": 0,
             "ticks": ""
            },
            "colorscale": [
             [
              0,
              "#0d0887"
             ],
             [
              0.1111111111111111,
              "#46039f"
             ],
             [
              0.2222222222222222,
              "#7201a8"
             ],
             [
              0.3333333333333333,
              "#9c179e"
             ],
             [
              0.4444444444444444,
              "#bd3786"
             ],
             [
              0.5555555555555556,
              "#d8576b"
             ],
             [
              0.6666666666666666,
              "#ed7953"
             ],
             [
              0.7777777777777778,
              "#fb9f3a"
             ],
             [
              0.8888888888888888,
              "#fdca26"
             ],
             [
              1,
              "#f0f921"
             ]
            ],
            "type": "heatmapgl"
           }
          ],
          "histogram": [
           {
            "marker": {
             "pattern": {
              "fillmode": "overlay",
              "size": 10,
              "solidity": 0.2
             }
            },
            "type": "histogram"
           }
          ],
          "histogram2d": [
           {
            "colorbar": {
             "outlinewidth": 0,
             "ticks": ""
            },
            "colorscale": [
             [
              0,
              "#0d0887"
             ],
             [
              0.1111111111111111,
              "#46039f"
             ],
             [
              0.2222222222222222,
              "#7201a8"
             ],
             [
              0.3333333333333333,
              "#9c179e"
             ],
             [
              0.4444444444444444,
              "#bd3786"
             ],
             [
              0.5555555555555556,
              "#d8576b"
             ],
             [
              0.6666666666666666,
              "#ed7953"
             ],
             [
              0.7777777777777778,
              "#fb9f3a"
             ],
             [
              0.8888888888888888,
              "#fdca26"
             ],
             [
              1,
              "#f0f921"
             ]
            ],
            "type": "histogram2d"
           }
          ],
          "histogram2dcontour": [
           {
            "colorbar": {
             "outlinewidth": 0,
             "ticks": ""
            },
            "colorscale": [
             [
              0,
              "#0d0887"
             ],
             [
              0.1111111111111111,
              "#46039f"
             ],
             [
              0.2222222222222222,
              "#7201a8"
             ],
             [
              0.3333333333333333,
              "#9c179e"
             ],
             [
              0.4444444444444444,
              "#bd3786"
             ],
             [
              0.5555555555555556,
              "#d8576b"
             ],
             [
              0.6666666666666666,
              "#ed7953"
             ],
             [
              0.7777777777777778,
              "#fb9f3a"
             ],
             [
              0.8888888888888888,
              "#fdca26"
             ],
             [
              1,
              "#f0f921"
             ]
            ],
            "type": "histogram2dcontour"
           }
          ],
          "mesh3d": [
           {
            "colorbar": {
             "outlinewidth": 0,
             "ticks": ""
            },
            "type": "mesh3d"
           }
          ],
          "parcoords": [
           {
            "line": {
             "colorbar": {
              "outlinewidth": 0,
              "ticks": ""
             }
            },
            "type": "parcoords"
           }
          ],
          "pie": [
           {
            "automargin": true,
            "type": "pie"
           }
          ],
          "scatter": [
           {
            "fillpattern": {
             "fillmode": "overlay",
             "size": 10,
             "solidity": 0.2
            },
            "type": "scatter"
           }
          ],
          "scatter3d": [
           {
            "line": {
             "colorbar": {
              "outlinewidth": 0,
              "ticks": ""
             }
            },
            "marker": {
             "colorbar": {
              "outlinewidth": 0,
              "ticks": ""
             }
            },
            "type": "scatter3d"
           }
          ],
          "scattercarpet": [
           {
            "marker": {
             "colorbar": {
              "outlinewidth": 0,
              "ticks": ""
             }
            },
            "type": "scattercarpet"
           }
          ],
          "scattergeo": [
           {
            "marker": {
             "colorbar": {
              "outlinewidth": 0,
              "ticks": ""
             }
            },
            "type": "scattergeo"
           }
          ],
          "scattergl": [
           {
            "marker": {
             "colorbar": {
              "outlinewidth": 0,
              "ticks": ""
             }
            },
            "type": "scattergl"
           }
          ],
          "scattermapbox": [
           {
            "marker": {
             "colorbar": {
              "outlinewidth": 0,
              "ticks": ""
             }
            },
            "type": "scattermapbox"
           }
          ],
          "scatterpolar": [
           {
            "marker": {
             "colorbar": {
              "outlinewidth": 0,
              "ticks": ""
             }
            },
            "type": "scatterpolar"
           }
          ],
          "scatterpolargl": [
           {
            "marker": {
             "colorbar": {
              "outlinewidth": 0,
              "ticks": ""
             }
            },
            "type": "scatterpolargl"
           }
          ],
          "scatterternary": [
           {
            "marker": {
             "colorbar": {
              "outlinewidth": 0,
              "ticks": ""
             }
            },
            "type": "scatterternary"
           }
          ],
          "surface": [
           {
            "colorbar": {
             "outlinewidth": 0,
             "ticks": ""
            },
            "colorscale": [
             [
              0,
              "#0d0887"
             ],
             [
              0.1111111111111111,
              "#46039f"
             ],
             [
              0.2222222222222222,
              "#7201a8"
             ],
             [
              0.3333333333333333,
              "#9c179e"
             ],
             [
              0.4444444444444444,
              "#bd3786"
             ],
             [
              0.5555555555555556,
              "#d8576b"
             ],
             [
              0.6666666666666666,
              "#ed7953"
             ],
             [
              0.7777777777777778,
              "#fb9f3a"
             ],
             [
              0.8888888888888888,
              "#fdca26"
             ],
             [
              1,
              "#f0f921"
             ]
            ],
            "type": "surface"
           }
          ],
          "table": [
           {
            "cells": {
             "fill": {
              "color": "#EBF0F8"
             },
             "line": {
              "color": "white"
             }
            },
            "header": {
             "fill": {
              "color": "#C8D4E3"
             },
             "line": {
              "color": "white"
             }
            },
            "type": "table"
           }
          ]
         },
         "layout": {
          "annotationdefaults": {
           "arrowcolor": "#2a3f5f",
           "arrowhead": 0,
           "arrowwidth": 1
          },
          "autotypenumbers": "strict",
          "coloraxis": {
           "colorbar": {
            "outlinewidth": 0,
            "ticks": ""
           }
          },
          "colorscale": {
           "diverging": [
            [
             0,
             "#8e0152"
            ],
            [
             0.1,
             "#c51b7d"
            ],
            [
             0.2,
             "#de77ae"
            ],
            [
             0.3,
             "#f1b6da"
            ],
            [
             0.4,
             "#fde0ef"
            ],
            [
             0.5,
             "#f7f7f7"
            ],
            [
             0.6,
             "#e6f5d0"
            ],
            [
             0.7,
             "#b8e186"
            ],
            [
             0.8,
             "#7fbc41"
            ],
            [
             0.9,
             "#4d9221"
            ],
            [
             1,
             "#276419"
            ]
           ],
           "sequential": [
            [
             0,
             "#0d0887"
            ],
            [
             0.1111111111111111,
             "#46039f"
            ],
            [
             0.2222222222222222,
             "#7201a8"
            ],
            [
             0.3333333333333333,
             "#9c179e"
            ],
            [
             0.4444444444444444,
             "#bd3786"
            ],
            [
             0.5555555555555556,
             "#d8576b"
            ],
            [
             0.6666666666666666,
             "#ed7953"
            ],
            [
             0.7777777777777778,
             "#fb9f3a"
            ],
            [
             0.8888888888888888,
             "#fdca26"
            ],
            [
             1,
             "#f0f921"
            ]
           ],
           "sequentialminus": [
            [
             0,
             "#0d0887"
            ],
            [
             0.1111111111111111,
             "#46039f"
            ],
            [
             0.2222222222222222,
             "#7201a8"
            ],
            [
             0.3333333333333333,
             "#9c179e"
            ],
            [
             0.4444444444444444,
             "#bd3786"
            ],
            [
             0.5555555555555556,
             "#d8576b"
            ],
            [
             0.6666666666666666,
             "#ed7953"
            ],
            [
             0.7777777777777778,
             "#fb9f3a"
            ],
            [
             0.8888888888888888,
             "#fdca26"
            ],
            [
             1,
             "#f0f921"
            ]
           ]
          },
          "colorway": [
           "#636efa",
           "#EF553B",
           "#00cc96",
           "#ab63fa",
           "#FFA15A",
           "#19d3f3",
           "#FF6692",
           "#B6E880",
           "#FF97FF",
           "#FECB52"
          ],
          "font": {
           "color": "#2a3f5f"
          },
          "geo": {
           "bgcolor": "white",
           "lakecolor": "white",
           "landcolor": "#E5ECF6",
           "showlakes": true,
           "showland": true,
           "subunitcolor": "white"
          },
          "hoverlabel": {
           "align": "left"
          },
          "hovermode": "closest",
          "mapbox": {
           "style": "light"
          },
          "paper_bgcolor": "white",
          "plot_bgcolor": "#E5ECF6",
          "polar": {
           "angularaxis": {
            "gridcolor": "white",
            "linecolor": "white",
            "ticks": ""
           },
           "bgcolor": "#E5ECF6",
           "radialaxis": {
            "gridcolor": "white",
            "linecolor": "white",
            "ticks": ""
           }
          },
          "scene": {
           "xaxis": {
            "backgroundcolor": "#E5ECF6",
            "gridcolor": "white",
            "gridwidth": 2,
            "linecolor": "white",
            "showbackground": true,
            "ticks": "",
            "zerolinecolor": "white"
           },
           "yaxis": {
            "backgroundcolor": "#E5ECF6",
            "gridcolor": "white",
            "gridwidth": 2,
            "linecolor": "white",
            "showbackground": true,
            "ticks": "",
            "zerolinecolor": "white"
           },
           "zaxis": {
            "backgroundcolor": "#E5ECF6",
            "gridcolor": "white",
            "gridwidth": 2,
            "linecolor": "white",
            "showbackground": true,
            "ticks": "",
            "zerolinecolor": "white"
           }
          },
          "shapedefaults": {
           "line": {
            "color": "#2a3f5f"
           }
          },
          "ternary": {
           "aaxis": {
            "gridcolor": "white",
            "linecolor": "white",
            "ticks": ""
           },
           "baxis": {
            "gridcolor": "white",
            "linecolor": "white",
            "ticks": ""
           },
           "bgcolor": "#E5ECF6",
           "caxis": {
            "gridcolor": "white",
            "linecolor": "white",
            "ticks": ""
           }
          },
          "title": {
           "x": 0.05
          },
          "xaxis": {
           "automargin": true,
           "gridcolor": "white",
           "linecolor": "white",
           "ticks": "",
           "title": {
            "standoff": 15
           },
           "zerolinecolor": "white",
           "zerolinewidth": 2
          },
          "yaxis": {
           "automargin": true,
           "gridcolor": "white",
           "linecolor": "white",
           "ticks": "",
           "title": {
            "standoff": 15
           },
           "zerolinecolor": "white",
           "zerolinewidth": 2
          }
         }
        },
        "title": {
         "text": "Optimization History Plot"
        },
        "xaxis": {
         "title": {
          "text": "Trial"
         }
        },
        "yaxis": {
         "title": {
          "text": "Objective Value"
         }
        }
       }
      }
     },
     "metadata": {},
     "output_type": "display_data"
    }
   ],
   "source": [
    "# 하이퍼파라미터 최적화 과정을 확인\n",
    "optuna.visualization.plot_optimization_history(study_lgbm)"
   ]
  },
  {
   "cell_type": "code",
   "execution_count": 51,
   "metadata": {},
   "outputs": [
    {
     "name": "stdout",
     "output_type": "stream",
     "text": [
      "[LightGBM] [Warning] min_data_in_leaf is set=30, min_child_samples=20 will be ignored. Current value: min_data_in_leaf=30\n",
      "[LightGBM] [Warning] min_data_in_leaf is set=30, min_child_samples=20 will be ignored. Current value: min_data_in_leaf=30\n",
      "[LightGBM] [Info] Auto-choosing col-wise multi-threading, the overhead of testing was 0.000512 seconds.\n",
      "You can set `force_col_wise=true` to remove the overhead.\n",
      "[LightGBM] [Info] Total Bins 1223\n",
      "[LightGBM] [Info] Number of data points in the train set: 10464, number of used features: 12\n",
      "[LightGBM] [Info] Start training from score 8983092.029817\n",
      "[LightGBM] [Warning] No further splits with positive gain, best gain: -inf\n",
      "[LightGBM] [Warning] No further splits with positive gain, best gain: -inf\n",
      "[LightGBM] [Warning] No further splits with positive gain, best gain: -inf\n",
      "[LightGBM] [Warning] No further splits with positive gain, best gain: -inf\n",
      "[LightGBM] [Warning] No further splits with positive gain, best gain: -inf\n",
      "[LightGBM] [Warning] No further splits with positive gain, best gain: -inf\n",
      "[LightGBM] [Warning] No further splits with positive gain, best gain: -inf\n",
      "[LightGBM] [Warning] No further splits with positive gain, best gain: -inf\n",
      "[LightGBM] [Warning] No further splits with positive gain, best gain: -inf\n",
      "[LightGBM] [Warning] No further splits with positive gain, best gain: -inf\n",
      "[LightGBM] [Warning] No further splits with positive gain, best gain: -inf\n",
      "[LightGBM] [Warning] No further splits with positive gain, best gain: -inf\n",
      "[LightGBM] [Warning] No further splits with positive gain, best gain: -inf\n",
      "[LightGBM] [Warning] No further splits with positive gain, best gain: -inf\n",
      "[LightGBM] [Warning] No further splits with positive gain, best gain: -inf\n",
      "[LightGBM] [Warning] No further splits with positive gain, best gain: -inf\n",
      "[LightGBM] [Warning] No further splits with positive gain, best gain: -inf\n",
      "[LightGBM] [Warning] No further splits with positive gain, best gain: -inf\n",
      "[LightGBM] [Warning] No further splits with positive gain, best gain: -inf\n",
      "[LightGBM] [Warning] No further splits with positive gain, best gain: -inf\n",
      "[LightGBM] [Warning] No further splits with positive gain, best gain: -inf\n",
      "[LightGBM] [Warning] No further splits with positive gain, best gain: -inf\n",
      "[LightGBM] [Warning] No further splits with positive gain, best gain: -inf\n",
      "[LightGBM] [Warning] No further splits with positive gain, best gain: -inf\n",
      "[LightGBM] [Warning] No further splits with positive gain, best gain: -inf\n",
      "[LightGBM] [Warning] No further splits with positive gain, best gain: -inf\n",
      "[LightGBM] [Warning] No further splits with positive gain, best gain: -inf\n",
      "[LightGBM] [Warning] No further splits with positive gain, best gain: -inf\n",
      "[LightGBM] [Warning] No further splits with positive gain, best gain: -inf\n",
      "[LightGBM] [Warning] No further splits with positive gain, best gain: -inf\n",
      "[LightGBM] [Warning] No further splits with positive gain, best gain: -inf\n",
      "[LightGBM] [Warning] No further splits with positive gain, best gain: -inf\n",
      "[LightGBM] [Warning] No further splits with positive gain, best gain: -inf\n",
      "[LightGBM] [Warning] No further splits with positive gain, best gain: -inf\n",
      "[LightGBM] [Warning] No further splits with positive gain, best gain: -inf\n",
      "[LightGBM] [Warning] No further splits with positive gain, best gain: -inf\n",
      "[LightGBM] [Warning] No further splits with positive gain, best gain: -inf\n",
      "[LightGBM] [Warning] No further splits with positive gain, best gain: -inf\n",
      "[LightGBM] [Warning] No further splits with positive gain, best gain: -inf\n",
      "[LightGBM] [Warning] No further splits with positive gain, best gain: -inf\n",
      "[LightGBM] [Warning] No further splits with positive gain, best gain: -inf\n",
      "[LightGBM] [Warning] No further splits with positive gain, best gain: -inf\n",
      "[LightGBM] [Warning] No further splits with positive gain, best gain: -inf\n",
      "[LightGBM] [Warning] No further splits with positive gain, best gain: -inf\n",
      "[LightGBM] [Warning] No further splits with positive gain, best gain: -inf\n",
      "[LightGBM] [Warning] No further splits with positive gain, best gain: -inf\n",
      "[LightGBM] [Warning] No further splits with positive gain, best gain: -inf\n",
      "[LightGBM] [Warning] No further splits with positive gain, best gain: -inf\n",
      "[LightGBM] [Warning] No further splits with positive gain, best gain: -inf\n",
      "[LightGBM] [Warning] No further splits with positive gain, best gain: -inf\n",
      "[LightGBM] [Warning] No further splits with positive gain, best gain: -inf\n",
      "[LightGBM] [Warning] No further splits with positive gain, best gain: -inf\n",
      "[LightGBM] [Warning] No further splits with positive gain, best gain: -inf\n",
      "[LightGBM] [Warning] No further splits with positive gain, best gain: -inf\n",
      "[LightGBM] [Warning] No further splits with positive gain, best gain: -inf\n",
      "[LightGBM] [Warning] No further splits with positive gain, best gain: -inf\n",
      "[LightGBM] [Warning] No further splits with positive gain, best gain: -inf\n",
      "[LightGBM] [Warning] No further splits with positive gain, best gain: -inf\n",
      "[LightGBM] [Warning] No further splits with positive gain, best gain: -inf\n",
      "[LightGBM] [Warning] No further splits with positive gain, best gain: -inf\n",
      "[LightGBM] [Warning] No further splits with positive gain, best gain: -inf\n",
      "[LightGBM] [Warning] No further splits with positive gain, best gain: -inf\n",
      "[LightGBM] [Warning] No further splits with positive gain, best gain: -inf\n",
      "[LightGBM] [Warning] No further splits with positive gain, best gain: -inf\n",
      "[LightGBM] [Warning] No further splits with positive gain, best gain: -inf\n",
      "[LightGBM] [Warning] No further splits with positive gain, best gain: -inf\n",
      "[LightGBM] [Warning] No further splits with positive gain, best gain: -inf\n",
      "[LightGBM] [Warning] No further splits with positive gain, best gain: -inf\n",
      "[LightGBM] [Warning] No further splits with positive gain, best gain: -inf\n",
      "[LightGBM] [Warning] No further splits with positive gain, best gain: -inf\n",
      "[LightGBM] [Warning] No further splits with positive gain, best gain: -inf\n",
      "[LightGBM] [Warning] No further splits with positive gain, best gain: -inf\n",
      "[LightGBM] [Warning] No further splits with positive gain, best gain: -inf\n",
      "[LightGBM] [Warning] No further splits with positive gain, best gain: -inf\n",
      "[LightGBM] [Warning] No further splits with positive gain, best gain: -inf\n",
      "[LightGBM] [Warning] No further splits with positive gain, best gain: -inf\n",
      "[LightGBM] [Warning] No further splits with positive gain, best gain: -inf\n",
      "[LightGBM] [Warning] No further splits with positive gain, best gain: -inf\n",
      "[LightGBM] [Warning] No further splits with positive gain, best gain: -inf\n",
      "[LightGBM] [Warning] No further splits with positive gain, best gain: -inf\n",
      "[LightGBM] [Warning] No further splits with positive gain, best gain: -inf\n",
      "[LightGBM] [Warning] No further splits with positive gain, best gain: -inf\n",
      "[LightGBM] [Warning] No further splits with positive gain, best gain: -inf\n",
      "[LightGBM] [Warning] No further splits with positive gain, best gain: -inf\n",
      "[LightGBM] [Warning] No further splits with positive gain, best gain: -inf\n",
      "[LightGBM] [Warning] No further splits with positive gain, best gain: -inf\n",
      "[LightGBM] [Warning] No further splits with positive gain, best gain: -inf\n",
      "[LightGBM] [Warning] No further splits with positive gain, best gain: -inf\n",
      "[LightGBM] [Warning] No further splits with positive gain, best gain: -inf\n",
      "[LightGBM] [Warning] No further splits with positive gain, best gain: -inf\n",
      "[LightGBM] [Warning] No further splits with positive gain, best gain: -inf\n",
      "[LightGBM] [Warning] No further splits with positive gain, best gain: -inf\n",
      "[LightGBM] [Warning] No further splits with positive gain, best gain: -inf\n",
      "[LightGBM] [Warning] No further splits with positive gain, best gain: -inf\n",
      "[LightGBM] [Warning] No further splits with positive gain, best gain: -inf\n",
      "[LightGBM] [Warning] No further splits with positive gain, best gain: -inf\n",
      "[LightGBM] [Warning] No further splits with positive gain, best gain: -inf\n",
      "[LightGBM] [Warning] No further splits with positive gain, best gain: -inf\n",
      "[LightGBM] [Warning] No further splits with positive gain, best gain: -inf\n",
      "[LightGBM] [Warning] No further splits with positive gain, best gain: -inf\n",
      "[LightGBM] [Warning] No further splits with positive gain, best gain: -inf\n",
      "[LightGBM] [Warning] No further splits with positive gain, best gain: -inf\n",
      "[LightGBM] [Warning] No further splits with positive gain, best gain: -inf\n",
      "[LightGBM] [Warning] No further splits with positive gain, best gain: -inf\n",
      "[LightGBM] [Warning] No further splits with positive gain, best gain: -inf\n",
      "[LightGBM] [Warning] No further splits with positive gain, best gain: -inf\n",
      "[LightGBM] [Warning] No further splits with positive gain, best gain: -inf\n",
      "[LightGBM] [Warning] No further splits with positive gain, best gain: -inf\n",
      "[LightGBM] [Warning] No further splits with positive gain, best gain: -inf\n",
      "[LightGBM] [Warning] No further splits with positive gain, best gain: -inf\n",
      "[LightGBM] [Warning] No further splits with positive gain, best gain: -inf\n",
      "[LightGBM] [Warning] No further splits with positive gain, best gain: -inf\n",
      "[LightGBM] [Warning] No further splits with positive gain, best gain: -inf\n",
      "[LightGBM] [Warning] No further splits with positive gain, best gain: -inf\n",
      "[LightGBM] [Warning] No further splits with positive gain, best gain: -inf\n",
      "[LightGBM] [Warning] No further splits with positive gain, best gain: -inf\n",
      "[LightGBM] [Warning] No further splits with positive gain, best gain: -inf\n",
      "[LightGBM] [Warning] No further splits with positive gain, best gain: -inf\n",
      "[LightGBM] [Warning] No further splits with positive gain, best gain: -inf\n",
      "[LightGBM] [Warning] No further splits with positive gain, best gain: -inf\n",
      "[LightGBM] [Warning] No further splits with positive gain, best gain: -inf\n",
      "[LightGBM] [Warning] No further splits with positive gain, best gain: -inf\n",
      "[LightGBM] [Warning] No further splits with positive gain, best gain: -inf\n",
      "[LightGBM] [Warning] No further splits with positive gain, best gain: -inf\n",
      "[LightGBM] [Warning] No further splits with positive gain, best gain: -inf\n",
      "[LightGBM] [Warning] No further splits with positive gain, best gain: -inf\n",
      "[LightGBM] [Warning] No further splits with positive gain, best gain: -inf\n",
      "[LightGBM] [Warning] No further splits with positive gain, best gain: -inf\n",
      "[LightGBM] [Warning] No further splits with positive gain, best gain: -inf\n",
      "[LightGBM] [Warning] No further splits with positive gain, best gain: -inf\n",
      "[LightGBM] [Warning] No further splits with positive gain, best gain: -inf\n",
      "[LightGBM] [Warning] No further splits with positive gain, best gain: -inf\n",
      "[LightGBM] [Warning] No further splits with positive gain, best gain: -inf\n",
      "[LightGBM] [Warning] No further splits with positive gain, best gain: -inf\n",
      "[LightGBM] [Warning] No further splits with positive gain, best gain: -inf\n",
      "[LightGBM] [Warning] No further splits with positive gain, best gain: -inf\n",
      "[LightGBM] [Warning] No further splits with positive gain, best gain: -inf\n",
      "[LightGBM] [Warning] No further splits with positive gain, best gain: -inf\n",
      "[LightGBM] [Warning] No further splits with positive gain, best gain: -inf\n",
      "[LightGBM] [Warning] No further splits with positive gain, best gain: -inf\n",
      "[LightGBM] [Warning] No further splits with positive gain, best gain: -inf\n",
      "[LightGBM] [Warning] No further splits with positive gain, best gain: -inf\n",
      "[LightGBM] [Warning] No further splits with positive gain, best gain: -inf\n",
      "[LightGBM] [Warning] No further splits with positive gain, best gain: -inf\n",
      "[LightGBM] [Warning] No further splits with positive gain, best gain: -inf\n",
      "[LightGBM] [Warning] No further splits with positive gain, best gain: -inf\n",
      "[LightGBM] [Warning] No further splits with positive gain, best gain: -inf\n",
      "[LightGBM] [Warning] No further splits with positive gain, best gain: -inf\n",
      "[LightGBM] [Warning] No further splits with positive gain, best gain: -inf\n",
      "[LightGBM] [Warning] No further splits with positive gain, best gain: -inf\n",
      "[LightGBM] [Warning] No further splits with positive gain, best gain: -inf\n",
      "[LightGBM] [Warning] No further splits with positive gain, best gain: -inf\n",
      "[LightGBM] [Warning] No further splits with positive gain, best gain: -inf\n",
      "[LightGBM] [Warning] No further splits with positive gain, best gain: -inf\n",
      "[LightGBM] [Warning] No further splits with positive gain, best gain: -inf\n",
      "[LightGBM] [Warning] No further splits with positive gain, best gain: -inf\n",
      "[LightGBM] [Warning] No further splits with positive gain, best gain: -inf\n",
      "[LightGBM] [Warning] No further splits with positive gain, best gain: -inf\n",
      "[LightGBM] [Warning] No further splits with positive gain, best gain: -inf\n",
      "[LightGBM] [Warning] No further splits with positive gain, best gain: -inf\n",
      "[LightGBM] [Warning] No further splits with positive gain, best gain: -inf\n",
      "[LightGBM] [Warning] No further splits with positive gain, best gain: -inf\n",
      "[LightGBM] [Warning] No further splits with positive gain, best gain: -inf\n",
      "[LightGBM] [Warning] No further splits with positive gain, best gain: -inf\n",
      "[LightGBM] [Warning] No further splits with positive gain, best gain: -inf\n",
      "[LightGBM] [Warning] No further splits with positive gain, best gain: -inf\n",
      "[LightGBM] [Warning] No further splits with positive gain, best gain: -inf\n",
      "[LightGBM] [Warning] No further splits with positive gain, best gain: -inf\n",
      "[LightGBM] [Warning] No further splits with positive gain, best gain: -inf\n",
      "[LightGBM] [Warning] No further splits with positive gain, best gain: -inf\n",
      "[LightGBM] [Warning] No further splits with positive gain, best gain: -inf\n",
      "[LightGBM] [Warning] No further splits with positive gain, best gain: -inf\n",
      "[LightGBM] [Warning] No further splits with positive gain, best gain: -inf\n",
      "[LightGBM] [Warning] No further splits with positive gain, best gain: -inf\n",
      "[LightGBM] [Warning] No further splits with positive gain, best gain: -inf\n",
      "[LightGBM] [Warning] No further splits with positive gain, best gain: -inf\n",
      "[LightGBM] [Warning] No further splits with positive gain, best gain: -inf\n",
      "[LightGBM] [Warning] No further splits with positive gain, best gain: -inf\n",
      "[LightGBM] [Warning] No further splits with positive gain, best gain: -inf\n",
      "[LightGBM] [Warning] No further splits with positive gain, best gain: -inf\n",
      "[LightGBM] [Warning] No further splits with positive gain, best gain: -inf\n",
      "[LightGBM] [Warning] No further splits with positive gain, best gain: -inf\n",
      "[LightGBM] [Warning] No further splits with positive gain, best gain: -inf\n",
      "[LightGBM] [Warning] No further splits with positive gain, best gain: -inf\n",
      "[LightGBM] [Warning] No further splits with positive gain, best gain: -inf\n",
      "[LightGBM] [Warning] No further splits with positive gain, best gain: -inf\n",
      "[LightGBM] [Warning] No further splits with positive gain, best gain: -inf\n",
      "[LightGBM] [Warning] No further splits with positive gain, best gain: -inf\n",
      "[LightGBM] [Warning] No further splits with positive gain, best gain: -inf\n",
      "[LightGBM] [Warning] No further splits with positive gain, best gain: -inf\n",
      "[LightGBM] [Warning] No further splits with positive gain, best gain: -inf\n",
      "[LightGBM] [Warning] No further splits with positive gain, best gain: -inf\n",
      "[LightGBM] [Warning] No further splits with positive gain, best gain: -inf\n",
      "[LightGBM] [Warning] No further splits with positive gain, best gain: -inf\n",
      "[LightGBM] [Warning] No further splits with positive gain, best gain: -inf\n",
      "[LightGBM] [Warning] No further splits with positive gain, best gain: -inf\n",
      "[LightGBM] [Warning] No further splits with positive gain, best gain: -inf\n",
      "[LightGBM] [Warning] No further splits with positive gain, best gain: -inf\n",
      "[LightGBM] [Warning] No further splits with positive gain, best gain: -inf\n",
      "[LightGBM] [Warning] No further splits with positive gain, best gain: -inf\n",
      "[LightGBM] [Warning] No further splits with positive gain, best gain: -inf\n",
      "[LightGBM] [Warning] No further splits with positive gain, best gain: -inf\n",
      "[LightGBM] [Warning] No further splits with positive gain, best gain: -inf\n",
      "[LightGBM] [Warning] No further splits with positive gain, best gain: -inf\n",
      "[LightGBM] [Warning] No further splits with positive gain, best gain: -inf\n",
      "[LightGBM] [Warning] No further splits with positive gain, best gain: -inf\n",
      "[LightGBM] [Warning] No further splits with positive gain, best gain: -inf\n",
      "[LightGBM] [Warning] No further splits with positive gain, best gain: -inf\n",
      "[LightGBM] [Warning] No further splits with positive gain, best gain: -inf\n",
      "[LightGBM] [Warning] No further splits with positive gain, best gain: -inf\n",
      "[LightGBM] [Warning] No further splits with positive gain, best gain: -inf\n",
      "[LightGBM] [Warning] No further splits with positive gain, best gain: -inf\n",
      "[LightGBM] [Warning] No further splits with positive gain, best gain: -inf\n",
      "[LightGBM] [Warning] No further splits with positive gain, best gain: -inf\n",
      "[LightGBM] [Warning] No further splits with positive gain, best gain: -inf\n",
      "[LightGBM] [Warning] No further splits with positive gain, best gain: -inf\n",
      "[LightGBM] [Warning] No further splits with positive gain, best gain: -inf\n",
      "[LightGBM] [Warning] No further splits with positive gain, best gain: -inf\n",
      "[LightGBM] [Warning] No further splits with positive gain, best gain: -inf\n",
      "[LightGBM] [Warning] No further splits with positive gain, best gain: -inf\n",
      "[LightGBM] [Warning] No further splits with positive gain, best gain: -inf\n",
      "[LightGBM] [Warning] No further splits with positive gain, best gain: -inf\n",
      "[LightGBM] [Warning] No further splits with positive gain, best gain: -inf\n",
      "[LightGBM] [Warning] No further splits with positive gain, best gain: -inf\n",
      "[LightGBM] [Warning] No further splits with positive gain, best gain: -inf\n",
      "[LightGBM] [Warning] No further splits with positive gain, best gain: -inf\n",
      "[LightGBM] [Warning] No further splits with positive gain, best gain: -inf\n",
      "[LightGBM] [Warning] No further splits with positive gain, best gain: -inf\n",
      "[LightGBM] [Warning] No further splits with positive gain, best gain: -inf\n",
      "[LightGBM] [Warning] No further splits with positive gain, best gain: -inf\n",
      "[LightGBM] [Warning] No further splits with positive gain, best gain: -inf\n",
      "[LightGBM] [Warning] No further splits with positive gain, best gain: -inf\n",
      "[LightGBM] [Warning] No further splits with positive gain, best gain: -inf\n",
      "[LightGBM] [Warning] No further splits with positive gain, best gain: -inf\n",
      "[LightGBM] [Warning] No further splits with positive gain, best gain: -inf\n",
      "[LightGBM] [Warning] No further splits with positive gain, best gain: -inf\n",
      "[LightGBM] [Warning] No further splits with positive gain, best gain: -inf\n",
      "[LightGBM] [Warning] No further splits with positive gain, best gain: -inf\n",
      "[LightGBM] [Warning] No further splits with positive gain, best gain: -inf\n",
      "[LightGBM] [Warning] No further splits with positive gain, best gain: -inf\n",
      "[LightGBM] [Warning] No further splits with positive gain, best gain: -inf\n",
      "[LightGBM] [Warning] No further splits with positive gain, best gain: -inf\n",
      "[LightGBM] [Warning] No further splits with positive gain, best gain: -inf\n",
      "[LightGBM] [Warning] No further splits with positive gain, best gain: -inf\n",
      "[LightGBM] [Warning] No further splits with positive gain, best gain: -inf\n",
      "[LightGBM] [Warning] No further splits with positive gain, best gain: -inf\n",
      "[LightGBM] [Warning] No further splits with positive gain, best gain: -inf\n",
      "[LightGBM] [Warning] No further splits with positive gain, best gain: -inf\n",
      "[LightGBM] [Warning] No further splits with positive gain, best gain: -inf\n",
      "[LightGBM] [Warning] No further splits with positive gain, best gain: -inf\n",
      "[LightGBM] [Warning] No further splits with positive gain, best gain: -inf\n",
      "[LightGBM] [Warning] No further splits with positive gain, best gain: -inf\n",
      "[LightGBM] [Warning] No further splits with positive gain, best gain: -inf\n",
      "[LightGBM] [Warning] No further splits with positive gain, best gain: -inf\n",
      "[LightGBM] [Warning] No further splits with positive gain, best gain: -inf\n",
      "[LightGBM] [Warning] No further splits with positive gain, best gain: -inf\n",
      "[LightGBM] [Warning] No further splits with positive gain, best gain: -inf\n",
      "[LightGBM] [Warning] No further splits with positive gain, best gain: -inf\n",
      "[LightGBM] [Warning] No further splits with positive gain, best gain: -inf\n",
      "[LightGBM] [Warning] No further splits with positive gain, best gain: -inf\n",
      "[LightGBM] [Warning] No further splits with positive gain, best gain: -inf\n",
      "[LightGBM] [Warning] No further splits with positive gain, best gain: -inf\n",
      "[LightGBM] [Warning] No further splits with positive gain, best gain: -inf\n",
      "[LightGBM] [Warning] No further splits with positive gain, best gain: -inf\n",
      "[LightGBM] [Warning] No further splits with positive gain, best gain: -inf\n",
      "[LightGBM] [Warning] No further splits with positive gain, best gain: -inf\n",
      "[LightGBM] [Warning] No further splits with positive gain, best gain: -inf\n",
      "[LightGBM] [Warning] No further splits with positive gain, best gain: -inf\n",
      "[LightGBM] [Warning] No further splits with positive gain, best gain: -inf\n",
      "[LightGBM] [Warning] No further splits with positive gain, best gain: -inf\n",
      "[LightGBM] [Warning] No further splits with positive gain, best gain: -inf\n",
      "[LightGBM] [Warning] No further splits with positive gain, best gain: -inf\n",
      "[LightGBM] [Warning] No further splits with positive gain, best gain: -inf\n",
      "[LightGBM] [Warning] No further splits with positive gain, best gain: -inf\n",
      "[LightGBM] [Warning] No further splits with positive gain, best gain: -inf\n",
      "[LightGBM] [Warning] No further splits with positive gain, best gain: -inf\n",
      "[LightGBM] [Warning] No further splits with positive gain, best gain: -inf\n",
      "[LightGBM] [Warning] No further splits with positive gain, best gain: -inf\n",
      "[LightGBM] [Warning] No further splits with positive gain, best gain: -inf\n",
      "[LightGBM] [Warning] No further splits with positive gain, best gain: -inf\n",
      "[LightGBM] [Warning] No further splits with positive gain, best gain: -inf\n",
      "[LightGBM] [Warning] No further splits with positive gain, best gain: -inf\n",
      "[LightGBM] [Warning] No further splits with positive gain, best gain: -inf\n",
      "[LightGBM] [Warning] No further splits with positive gain, best gain: -inf\n",
      "[LightGBM] [Warning] No further splits with positive gain, best gain: -inf\n",
      "[LightGBM] [Warning] No further splits with positive gain, best gain: -inf\n",
      "[LightGBM] [Warning] No further splits with positive gain, best gain: -inf\n",
      "[LightGBM] [Warning] No further splits with positive gain, best gain: -inf\n",
      "[LightGBM] [Warning] No further splits with positive gain, best gain: -inf\n",
      "[LightGBM] [Warning] No further splits with positive gain, best gain: -inf\n",
      "[LightGBM] [Warning] No further splits with positive gain, best gain: -inf\n",
      "[LightGBM] [Warning] No further splits with positive gain, best gain: -inf\n",
      "[LightGBM] [Warning] No further splits with positive gain, best gain: -inf\n",
      "[LightGBM] [Warning] No further splits with positive gain, best gain: -inf\n",
      "[LightGBM] [Warning] No further splits with positive gain, best gain: -inf\n",
      "[LightGBM] [Warning] No further splits with positive gain, best gain: -inf\n",
      "[LightGBM] [Warning] No further splits with positive gain, best gain: -inf\n",
      "[LightGBM] [Warning] No further splits with positive gain, best gain: -inf\n",
      "[LightGBM] [Warning] No further splits with positive gain, best gain: -inf\n",
      "[LightGBM] [Warning] No further splits with positive gain, best gain: -inf\n",
      "[LightGBM] [Warning] No further splits with positive gain, best gain: -inf\n",
      "[LightGBM] [Warning] No further splits with positive gain, best gain: -inf\n",
      "[LightGBM] [Warning] No further splits with positive gain, best gain: -inf\n",
      "[LightGBM] [Warning] No further splits with positive gain, best gain: -inf\n",
      "[LightGBM] [Warning] No further splits with positive gain, best gain: -inf\n",
      "[LightGBM] [Warning] No further splits with positive gain, best gain: -inf\n",
      "[LightGBM] [Warning] No further splits with positive gain, best gain: -inf\n",
      "[LightGBM] [Warning] No further splits with positive gain, best gain: -inf\n",
      "[LightGBM] [Warning] No further splits with positive gain, best gain: -inf\n",
      "[LightGBM] [Warning] No further splits with positive gain, best gain: -inf\n",
      "[LightGBM] [Warning] No further splits with positive gain, best gain: -inf\n",
      "[LightGBM] [Warning] No further splits with positive gain, best gain: -inf\n",
      "[LightGBM] [Warning] No further splits with positive gain, best gain: -inf\n",
      "[LightGBM] [Warning] No further splits with positive gain, best gain: -inf\n",
      "[LightGBM] [Warning] No further splits with positive gain, best gain: -inf\n",
      "[LightGBM] [Warning] No further splits with positive gain, best gain: -inf\n",
      "[LightGBM] [Warning] No further splits with positive gain, best gain: -inf\n",
      "[LightGBM] [Warning] No further splits with positive gain, best gain: -inf\n",
      "[LightGBM] [Warning] No further splits with positive gain, best gain: -inf\n",
      "[LightGBM] [Warning] No further splits with positive gain, best gain: -inf\n",
      "[LightGBM] [Warning] No further splits with positive gain, best gain: -inf\n",
      "[LightGBM] [Warning] No further splits with positive gain, best gain: -inf\n",
      "[LightGBM] [Warning] No further splits with positive gain, best gain: -inf\n",
      "[LightGBM] [Warning] No further splits with positive gain, best gain: -inf\n",
      "[LightGBM] [Warning] No further splits with positive gain, best gain: -inf\n",
      "[LightGBM] [Warning] No further splits with positive gain, best gain: -inf\n",
      "[LightGBM] [Warning] No further splits with positive gain, best gain: -inf\n",
      "[LightGBM] [Warning] No further splits with positive gain, best gain: -inf\n",
      "[LightGBM] [Warning] No further splits with positive gain, best gain: -inf\n",
      "[LightGBM] [Warning] No further splits with positive gain, best gain: -inf\n",
      "[LightGBM] [Warning] No further splits with positive gain, best gain: -inf\n",
      "[LightGBM] [Warning] No further splits with positive gain, best gain: -inf\n",
      "[LightGBM] [Warning] No further splits with positive gain, best gain: -inf\n",
      "[LightGBM] [Warning] No further splits with positive gain, best gain: -inf\n",
      "[LightGBM] [Warning] No further splits with positive gain, best gain: -inf\n",
      "[LightGBM] [Warning] No further splits with positive gain, best gain: -inf\n",
      "[LightGBM] [Warning] No further splits with positive gain, best gain: -inf\n",
      "[LightGBM] [Warning] No further splits with positive gain, best gain: -inf\n",
      "[LightGBM] [Warning] No further splits with positive gain, best gain: -inf\n",
      "[LightGBM] [Warning] No further splits with positive gain, best gain: -inf\n",
      "[LightGBM] [Warning] No further splits with positive gain, best gain: -inf\n",
      "[LightGBM] [Warning] No further splits with positive gain, best gain: -inf\n",
      "[LightGBM] [Warning] No further splits with positive gain, best gain: -inf\n",
      "[LightGBM] [Warning] No further splits with positive gain, best gain: -inf\n",
      "[LightGBM] [Warning] No further splits with positive gain, best gain: -inf\n",
      "[LightGBM] [Warning] No further splits with positive gain, best gain: -inf\n",
      "[LightGBM] [Warning] No further splits with positive gain, best gain: -inf\n",
      "[LightGBM] [Warning] No further splits with positive gain, best gain: -inf\n",
      "[LightGBM] [Warning] No further splits with positive gain, best gain: -inf\n",
      "[LightGBM] [Warning] No further splits with positive gain, best gain: -inf\n",
      "[LightGBM] [Warning] No further splits with positive gain, best gain: -inf\n",
      "[LightGBM] [Warning] No further splits with positive gain, best gain: -inf\n",
      "[LightGBM] [Warning] No further splits with positive gain, best gain: -inf\n",
      "[LightGBM] [Warning] No further splits with positive gain, best gain: -inf\n",
      "[LightGBM] [Warning] No further splits with positive gain, best gain: -inf\n",
      "[LightGBM] [Warning] No further splits with positive gain, best gain: -inf\n",
      "[LightGBM] [Warning] No further splits with positive gain, best gain: -inf\n",
      "[LightGBM] [Warning] No further splits with positive gain, best gain: -inf\n",
      "[LightGBM] [Warning] No further splits with positive gain, best gain: -inf\n",
      "[LightGBM] [Warning] No further splits with positive gain, best gain: -inf\n",
      "[LightGBM] [Warning] No further splits with positive gain, best gain: -inf\n",
      "[LightGBM] [Warning] No further splits with positive gain, best gain: -inf\n",
      "[LightGBM] [Warning] No further splits with positive gain, best gain: -inf\n",
      "[LightGBM] [Warning] No further splits with positive gain, best gain: -inf\n",
      "[LightGBM] [Warning] No further splits with positive gain, best gain: -inf\n",
      "[LightGBM] [Warning] No further splits with positive gain, best gain: -inf\n",
      "[LightGBM] [Warning] No further splits with positive gain, best gain: -inf\n",
      "[LightGBM] [Warning] No further splits with positive gain, best gain: -inf\n",
      "[LightGBM] [Warning] No further splits with positive gain, best gain: -inf\n",
      "[LightGBM] [Warning] No further splits with positive gain, best gain: -inf\n",
      "[LightGBM] [Warning] No further splits with positive gain, best gain: -inf\n",
      "[LightGBM] [Warning] No further splits with positive gain, best gain: -inf\n",
      "[LightGBM] [Warning] No further splits with positive gain, best gain: -inf\n",
      "[LightGBM] [Warning] No further splits with positive gain, best gain: -inf\n",
      "[LightGBM] [Warning] No further splits with positive gain, best gain: -inf\n",
      "[LightGBM] [Warning] No further splits with positive gain, best gain: -inf\n",
      "[LightGBM] [Warning] No further splits with positive gain, best gain: -inf\n",
      "[LightGBM] [Warning] No further splits with positive gain, best gain: -inf\n",
      "[LightGBM] [Warning] No further splits with positive gain, best gain: -inf\n",
      "[LightGBM] [Warning] No further splits with positive gain, best gain: -inf\n",
      "[LightGBM] [Warning] No further splits with positive gain, best gain: -inf\n",
      "[LightGBM] [Warning] No further splits with positive gain, best gain: -inf\n",
      "[LightGBM] [Warning] No further splits with positive gain, best gain: -inf\n",
      "[LightGBM] [Warning] No further splits with positive gain, best gain: -inf\n",
      "[LightGBM] [Warning] No further splits with positive gain, best gain: -inf\n",
      "[LightGBM] [Warning] No further splits with positive gain, best gain: -inf\n",
      "[LightGBM] [Warning] No further splits with positive gain, best gain: -inf\n",
      "[LightGBM] [Warning] No further splits with positive gain, best gain: -inf\n",
      "[LightGBM] [Warning] No further splits with positive gain, best gain: -inf\n",
      "[LightGBM] [Warning] No further splits with positive gain, best gain: -inf\n",
      "[LightGBM] [Warning] No further splits with positive gain, best gain: -inf\n",
      "[LightGBM] [Warning] No further splits with positive gain, best gain: -inf\n",
      "[LightGBM] [Warning] No further splits with positive gain, best gain: -inf\n",
      "[LightGBM] [Warning] No further splits with positive gain, best gain: -inf\n",
      "[LightGBM] [Warning] No further splits with positive gain, best gain: -inf\n",
      "[LightGBM] [Warning] No further splits with positive gain, best gain: -inf\n",
      "[LightGBM] [Warning] No further splits with positive gain, best gain: -inf\n",
      "[LightGBM] [Warning] No further splits with positive gain, best gain: -inf\n",
      "[LightGBM] [Warning] No further splits with positive gain, best gain: -inf\n",
      "[LightGBM] [Warning] No further splits with positive gain, best gain: -inf\n",
      "[LightGBM] [Warning] No further splits with positive gain, best gain: -inf\n",
      "[LightGBM] [Warning] No further splits with positive gain, best gain: -inf\n",
      "[LightGBM] [Warning] No further splits with positive gain, best gain: -inf\n",
      "[LightGBM] [Warning] No further splits with positive gain, best gain: -inf\n",
      "[LightGBM] [Warning] No further splits with positive gain, best gain: -inf\n",
      "[LightGBM] [Warning] No further splits with positive gain, best gain: -inf\n",
      "[LightGBM] [Warning] No further splits with positive gain, best gain: -inf\n",
      "[LightGBM] [Warning] No further splits with positive gain, best gain: -inf\n",
      "[LightGBM] [Warning] No further splits with positive gain, best gain: -inf\n",
      "[LightGBM] [Warning] No further splits with positive gain, best gain: -inf\n",
      "[LightGBM] [Warning] No further splits with positive gain, best gain: -inf\n",
      "[LightGBM] [Warning] No further splits with positive gain, best gain: -inf\n",
      "[LightGBM] [Warning] No further splits with positive gain, best gain: -inf\n",
      "[LightGBM] [Warning] No further splits with positive gain, best gain: -inf\n",
      "[LightGBM] [Warning] No further splits with positive gain, best gain: -inf\n",
      "[LightGBM] [Warning] No further splits with positive gain, best gain: -inf\n",
      "[LightGBM] [Warning] No further splits with positive gain, best gain: -inf\n",
      "[LightGBM] [Warning] No further splits with positive gain, best gain: -inf\n",
      "[LightGBM] [Warning] No further splits with positive gain, best gain: -inf\n",
      "[LightGBM] [Warning] No further splits with positive gain, best gain: -inf\n",
      "[LightGBM] [Warning] No further splits with positive gain, best gain: -inf\n",
      "[LightGBM] [Warning] No further splits with positive gain, best gain: -inf\n",
      "[LightGBM] [Warning] No further splits with positive gain, best gain: -inf\n",
      "[LightGBM] [Warning] No further splits with positive gain, best gain: -inf\n",
      "[LightGBM] [Warning] No further splits with positive gain, best gain: -inf\n",
      "[LightGBM] [Warning] No further splits with positive gain, best gain: -inf\n",
      "[LightGBM] [Warning] No further splits with positive gain, best gain: -inf\n",
      "[LightGBM] [Warning] No further splits with positive gain, best gain: -inf\n",
      "[LightGBM] [Warning] No further splits with positive gain, best gain: -inf\n",
      "[LightGBM] [Warning] No further splits with positive gain, best gain: -inf\n",
      "[LightGBM] [Warning] No further splits with positive gain, best gain: -inf\n",
      "[LightGBM] [Warning] No further splits with positive gain, best gain: -inf\n",
      "[LightGBM] [Warning] No further splits with positive gain, best gain: -inf\n",
      "[LightGBM] [Warning] No further splits with positive gain, best gain: -inf\n",
      "[LightGBM] [Warning] No further splits with positive gain, best gain: -inf\n",
      "[LightGBM] [Warning] No further splits with positive gain, best gain: -inf\n",
      "[LightGBM] [Warning] No further splits with positive gain, best gain: -inf\n",
      "[LightGBM] [Warning] No further splits with positive gain, best gain: -inf\n",
      "[LightGBM] [Warning] No further splits with positive gain, best gain: -inf\n",
      "[LightGBM] [Warning] No further splits with positive gain, best gain: -inf\n",
      "[LightGBM] [Warning] No further splits with positive gain, best gain: -inf\n",
      "[LightGBM] [Warning] No further splits with positive gain, best gain: -inf\n",
      "[LightGBM] [Warning] No further splits with positive gain, best gain: -inf\n",
      "[LightGBM] [Warning] No further splits with positive gain, best gain: -inf\n",
      "[LightGBM] [Warning] No further splits with positive gain, best gain: -inf\n",
      "[LightGBM] [Warning] No further splits with positive gain, best gain: -inf\n",
      "[LightGBM] [Warning] No further splits with positive gain, best gain: -inf\n",
      "[LightGBM] [Warning] No further splits with positive gain, best gain: -inf\n",
      "[LightGBM] [Warning] No further splits with positive gain, best gain: -inf\n",
      "[LightGBM] [Warning] No further splits with positive gain, best gain: -inf\n",
      "[LightGBM] [Warning] No further splits with positive gain, best gain: -inf\n",
      "[LightGBM] [Warning] No further splits with positive gain, best gain: -inf\n",
      "[LightGBM] [Warning] No further splits with positive gain, best gain: -inf\n",
      "[LightGBM] [Warning] No further splits with positive gain, best gain: -inf\n",
      "[LightGBM] [Warning] No further splits with positive gain, best gain: -inf\n",
      "[LightGBM] [Warning] No further splits with positive gain, best gain: -inf\n",
      "[LightGBM] [Warning] No further splits with positive gain, best gain: -inf\n",
      "[LightGBM] [Warning] No further splits with positive gain, best gain: -inf\n",
      "[LightGBM] [Warning] No further splits with positive gain, best gain: -inf\n",
      "[LightGBM] [Warning] No further splits with positive gain, best gain: -inf\n",
      "[LightGBM] [Warning] No further splits with positive gain, best gain: -inf\n",
      "[LightGBM] [Warning] No further splits with positive gain, best gain: -inf\n",
      "[LightGBM] [Warning] No further splits with positive gain, best gain: -inf\n",
      "[LightGBM] [Warning] No further splits with positive gain, best gain: -inf\n",
      "[LightGBM] [Warning] No further splits with positive gain, best gain: -inf\n",
      "[LightGBM] [Warning] No further splits with positive gain, best gain: -inf\n",
      "[LightGBM] [Warning] No further splits with positive gain, best gain: -inf\n",
      "[LightGBM] [Warning] No further splits with positive gain, best gain: -inf\n",
      "[LightGBM] [Warning] No further splits with positive gain, best gain: -inf\n",
      "[LightGBM] [Warning] No further splits with positive gain, best gain: -inf\n",
      "[LightGBM] [Warning] No further splits with positive gain, best gain: -inf\n",
      "[LightGBM] [Warning] No further splits with positive gain, best gain: -inf\n",
      "[LightGBM] [Warning] No further splits with positive gain, best gain: -inf\n",
      "[LightGBM] [Warning] No further splits with positive gain, best gain: -inf\n",
      "[LightGBM] [Warning] No further splits with positive gain, best gain: -inf\n",
      "[LightGBM] [Warning] No further splits with positive gain, best gain: -inf\n",
      "[LightGBM] [Warning] No further splits with positive gain, best gain: -inf\n",
      "[LightGBM] [Warning] No further splits with positive gain, best gain: -inf\n",
      "[LightGBM] [Warning] No further splits with positive gain, best gain: -inf\n",
      "[LightGBM] [Warning] No further splits with positive gain, best gain: -inf\n",
      "[LightGBM] [Warning] No further splits with positive gain, best gain: -inf\n",
      "[LightGBM] [Warning] No further splits with positive gain, best gain: -inf\n",
      "[LightGBM] [Warning] No further splits with positive gain, best gain: -inf\n",
      "[LightGBM] [Warning] No further splits with positive gain, best gain: -inf\n",
      "[LightGBM] [Warning] No further splits with positive gain, best gain: -inf\n",
      "[LightGBM] [Warning] No further splits with positive gain, best gain: -inf\n",
      "[LightGBM] [Warning] No further splits with positive gain, best gain: -inf\n",
      "[LightGBM] [Warning] No further splits with positive gain, best gain: -inf\n",
      "[LightGBM] [Warning] No further splits with positive gain, best gain: -inf\n",
      "[LightGBM] [Warning] No further splits with positive gain, best gain: -inf\n",
      "[LightGBM] [Warning] No further splits with positive gain, best gain: -inf\n",
      "[LightGBM] [Warning] No further splits with positive gain, best gain: -inf\n",
      "[LightGBM] [Warning] No further splits with positive gain, best gain: -inf\n",
      "[LightGBM] [Warning] No further splits with positive gain, best gain: -inf\n",
      "[LightGBM] [Warning] No further splits with positive gain, best gain: -inf\n",
      "[LightGBM] [Warning] No further splits with positive gain, best gain: -inf\n",
      "[LightGBM] [Warning] No further splits with positive gain, best gain: -inf\n",
      "[LightGBM] [Warning] No further splits with positive gain, best gain: -inf\n",
      "[LightGBM] [Warning] No further splits with positive gain, best gain: -inf\n",
      "[LightGBM] [Warning] No further splits with positive gain, best gain: -inf\n",
      "[LightGBM] [Warning] No further splits with positive gain, best gain: -inf\n",
      "[LightGBM] [Warning] No further splits with positive gain, best gain: -inf\n",
      "[LightGBM] [Warning] No further splits with positive gain, best gain: -inf\n",
      "[LightGBM] [Warning] No further splits with positive gain, best gain: -inf\n",
      "[LightGBM] [Warning] No further splits with positive gain, best gain: -inf\n",
      "[LightGBM] [Warning] No further splits with positive gain, best gain: -inf\n",
      "[LightGBM] [Warning] No further splits with positive gain, best gain: -inf\n",
      "[LightGBM] [Warning] No further splits with positive gain, best gain: -inf\n",
      "[LightGBM] [Warning] No further splits with positive gain, best gain: -inf\n",
      "[LightGBM] [Warning] No further splits with positive gain, best gain: -inf\n",
      "[LightGBM] [Warning] No further splits with positive gain, best gain: -inf\n",
      "[LightGBM] [Warning] No further splits with positive gain, best gain: -inf\n",
      "[LightGBM] [Warning] No further splits with positive gain, best gain: -inf\n",
      "[LightGBM] [Warning] No further splits with positive gain, best gain: -inf\n",
      "[LightGBM] [Warning] No further splits with positive gain, best gain: -inf\n",
      "[LightGBM] [Warning] No further splits with positive gain, best gain: -inf\n",
      "[LightGBM] [Warning] No further splits with positive gain, best gain: -inf\n",
      "[LightGBM] [Warning] No further splits with positive gain, best gain: -inf\n",
      "[LightGBM] [Warning] No further splits with positive gain, best gain: -inf\n",
      "[LightGBM] [Warning] No further splits with positive gain, best gain: -inf\n",
      "[LightGBM] [Warning] No further splits with positive gain, best gain: -inf\n",
      "[LightGBM] [Warning] No further splits with positive gain, best gain: -inf\n",
      "[LightGBM] [Warning] No further splits with positive gain, best gain: -inf\n",
      "[LightGBM] [Warning] No further splits with positive gain, best gain: -inf\n",
      "[LightGBM] [Warning] No further splits with positive gain, best gain: -inf\n",
      "[LightGBM] [Warning] No further splits with positive gain, best gain: -inf\n",
      "[LightGBM] [Warning] No further splits with positive gain, best gain: -inf\n",
      "[LightGBM] [Warning] No further splits with positive gain, best gain: -inf\n",
      "[LightGBM] [Warning] No further splits with positive gain, best gain: -inf\n",
      "[LightGBM] [Warning] No further splits with positive gain, best gain: -inf\n",
      "[LightGBM] [Warning] No further splits with positive gain, best gain: -inf\n",
      "[LightGBM] [Warning] No further splits with positive gain, best gain: -inf\n",
      "[LightGBM] [Warning] No further splits with positive gain, best gain: -inf\n",
      "[LightGBM] [Warning] No further splits with positive gain, best gain: -inf\n",
      "[LightGBM] [Warning] No further splits with positive gain, best gain: -inf\n",
      "[LightGBM] [Warning] No further splits with positive gain, best gain: -inf\n",
      "[LightGBM] [Warning] No further splits with positive gain, best gain: -inf\n",
      "[LightGBM] [Warning] No further splits with positive gain, best gain: -inf\n",
      "[LightGBM] [Warning] No further splits with positive gain, best gain: -inf\n",
      "[LightGBM] [Warning] No further splits with positive gain, best gain: -inf\n",
      "[LightGBM] [Warning] No further splits with positive gain, best gain: -inf\n",
      "[LightGBM] [Warning] No further splits with positive gain, best gain: -inf\n",
      "[LightGBM] [Warning] No further splits with positive gain, best gain: -inf\n",
      "[LightGBM] [Warning] No further splits with positive gain, best gain: -inf\n",
      "[LightGBM] [Warning] No further splits with positive gain, best gain: -inf\n",
      "[LightGBM] [Warning] No further splits with positive gain, best gain: -inf\n",
      "[LightGBM] [Warning] No further splits with positive gain, best gain: -inf\n",
      "[LightGBM] [Warning] No further splits with positive gain, best gain: -inf\n",
      "[LightGBM] [Warning] No further splits with positive gain, best gain: -inf\n",
      "[LightGBM] [Warning] No further splits with positive gain, best gain: -inf\n",
      "[LightGBM] [Warning] No further splits with positive gain, best gain: -inf\n",
      "[LightGBM] [Warning] No further splits with positive gain, best gain: -inf\n",
      "[LightGBM] [Warning] No further splits with positive gain, best gain: -inf\n",
      "[LightGBM] [Warning] No further splits with positive gain, best gain: -inf\n",
      "[LightGBM] [Warning] No further splits with positive gain, best gain: -inf\n",
      "[LightGBM] [Warning] No further splits with positive gain, best gain: -inf\n",
      "[LightGBM] [Warning] No further splits with positive gain, best gain: -inf\n",
      "[LightGBM] [Warning] No further splits with positive gain, best gain: -inf\n",
      "[LightGBM] [Warning] No further splits with positive gain, best gain: -inf\n",
      "[LightGBM] [Warning] No further splits with positive gain, best gain: -inf\n",
      "[LightGBM] [Warning] No further splits with positive gain, best gain: -inf\n",
      "[LightGBM] [Warning] No further splits with positive gain, best gain: -inf\n",
      "[LightGBM] [Warning] No further splits with positive gain, best gain: -inf\n",
      "[LightGBM] [Warning] No further splits with positive gain, best gain: -inf\n",
      "[LightGBM] [Warning] No further splits with positive gain, best gain: -inf\n",
      "[LightGBM] [Warning] No further splits with positive gain, best gain: -inf\n",
      "[LightGBM] [Warning] No further splits with positive gain, best gain: -inf\n",
      "[LightGBM] [Warning] No further splits with positive gain, best gain: -inf\n",
      "[LightGBM] [Warning] No further splits with positive gain, best gain: -inf\n",
      "[LightGBM] [Warning] No further splits with positive gain, best gain: -inf\n",
      "[LightGBM] [Warning] No further splits with positive gain, best gain: -inf\n",
      "[LightGBM] [Warning] No further splits with positive gain, best gain: -inf\n",
      "[LightGBM] [Warning] No further splits with positive gain, best gain: -inf\n",
      "[LightGBM] [Warning] No further splits with positive gain, best gain: -inf\n",
      "[LightGBM] [Warning] No further splits with positive gain, best gain: -inf\n",
      "[LightGBM] [Warning] No further splits with positive gain, best gain: -inf\n",
      "[LightGBM] [Warning] No further splits with positive gain, best gain: -inf\n",
      "[LightGBM] [Warning] No further splits with positive gain, best gain: -inf\n",
      "[LightGBM] [Warning] No further splits with positive gain, best gain: -inf\n",
      "[LightGBM] [Warning] No further splits with positive gain, best gain: -inf\n",
      "[LightGBM] [Warning] No further splits with positive gain, best gain: -inf\n",
      "[LightGBM] [Warning] No further splits with positive gain, best gain: -inf\n",
      "[LightGBM] [Warning] No further splits with positive gain, best gain: -inf\n",
      "[LightGBM] [Warning] No further splits with positive gain, best gain: -inf\n",
      "[LightGBM] [Warning] No further splits with positive gain, best gain: -inf\n",
      "[LightGBM] [Warning] No further splits with positive gain, best gain: -inf\n",
      "[LightGBM] [Warning] No further splits with positive gain, best gain: -inf\n",
      "[LightGBM] [Warning] No further splits with positive gain, best gain: -inf\n",
      "[LightGBM] [Warning] No further splits with positive gain, best gain: -inf\n",
      "[LightGBM] [Warning] No further splits with positive gain, best gain: -inf\n",
      "[LightGBM] [Warning] No further splits with positive gain, best gain: -inf\n",
      "[LightGBM] [Warning] No further splits with positive gain, best gain: -inf\n",
      "[LightGBM] [Warning] No further splits with positive gain, best gain: -inf\n",
      "[LightGBM] [Warning] No further splits with positive gain, best gain: -inf\n",
      "[LightGBM] [Warning] No further splits with positive gain, best gain: -inf\n",
      "[LightGBM] [Warning] No further splits with positive gain, best gain: -inf\n",
      "[LightGBM] [Warning] No further splits with positive gain, best gain: -inf\n",
      "[LightGBM] [Warning] No further splits with positive gain, best gain: -inf\n",
      "[LightGBM] [Warning] No further splits with positive gain, best gain: -inf\n",
      "[LightGBM] [Warning] No further splits with positive gain, best gain: -inf\n",
      "[LightGBM] [Warning] No further splits with positive gain, best gain: -inf\n",
      "[LightGBM] [Warning] No further splits with positive gain, best gain: -inf\n",
      "[LightGBM] [Warning] No further splits with positive gain, best gain: -inf\n",
      "[LightGBM] [Warning] No further splits with positive gain, best gain: -inf\n",
      "[LightGBM] [Warning] No further splits with positive gain, best gain: -inf\n",
      "[LightGBM] [Warning] No further splits with positive gain, best gain: -inf\n",
      "[LightGBM] [Warning] No further splits with positive gain, best gain: -inf\n",
      "[LightGBM] [Warning] No further splits with positive gain, best gain: -inf\n",
      "[LightGBM] [Warning] No further splits with positive gain, best gain: -inf\n",
      "[LightGBM] [Warning] No further splits with positive gain, best gain: -inf\n",
      "[LightGBM] [Warning] No further splits with positive gain, best gain: -inf\n",
      "[LightGBM] [Warning] No further splits with positive gain, best gain: -inf\n",
      "[LightGBM] [Warning] No further splits with positive gain, best gain: -inf\n",
      "[LightGBM] [Warning] No further splits with positive gain, best gain: -inf\n",
      "[LightGBM] [Warning] No further splits with positive gain, best gain: -inf\n",
      "[LightGBM] [Warning] No further splits with positive gain, best gain: -inf\n",
      "[LightGBM] [Warning] No further splits with positive gain, best gain: -inf\n",
      "[LightGBM] [Warning] No further splits with positive gain, best gain: -inf\n",
      "[LightGBM] [Warning] No further splits with positive gain, best gain: -inf\n",
      "[LightGBM] [Warning] No further splits with positive gain, best gain: -inf\n",
      "[LightGBM] [Warning] No further splits with positive gain, best gain: -inf\n",
      "[LightGBM] [Warning] No further splits with positive gain, best gain: -inf\n",
      "[LightGBM] [Warning] No further splits with positive gain, best gain: -inf\n",
      "[LightGBM] [Warning] No further splits with positive gain, best gain: -inf\n",
      "[LightGBM] [Warning] No further splits with positive gain, best gain: -inf\n",
      "[LightGBM] [Warning] No further splits with positive gain, best gain: -inf\n",
      "[LightGBM] [Warning] No further splits with positive gain, best gain: -inf\n",
      "[LightGBM] [Warning] No further splits with positive gain, best gain: -inf\n",
      "[LightGBM] [Warning] No further splits with positive gain, best gain: -inf\n",
      "[LightGBM] [Warning] No further splits with positive gain, best gain: -inf\n",
      "[LightGBM] [Warning] No further splits with positive gain, best gain: -inf\n",
      "[LightGBM] [Warning] No further splits with positive gain, best gain: -inf\n",
      "[LightGBM] [Warning] No further splits with positive gain, best gain: -inf\n",
      "[LightGBM] [Warning] No further splits with positive gain, best gain: -inf\n",
      "[LightGBM] [Warning] No further splits with positive gain, best gain: -inf\n",
      "[LightGBM] [Warning] No further splits with positive gain, best gain: -inf\n",
      "[LightGBM] [Warning] No further splits with positive gain, best gain: -inf\n",
      "[LightGBM] [Warning] No further splits with positive gain, best gain: -inf\n",
      "[LightGBM] [Warning] No further splits with positive gain, best gain: -inf\n",
      "[LightGBM] [Warning] No further splits with positive gain, best gain: -inf\n",
      "[LightGBM] [Warning] No further splits with positive gain, best gain: -inf\n",
      "[LightGBM] [Warning] No further splits with positive gain, best gain: -inf\n",
      "[LightGBM] [Warning] No further splits with positive gain, best gain: -inf\n",
      "[LightGBM] [Warning] No further splits with positive gain, best gain: -inf\n",
      "[LightGBM] [Warning] No further splits with positive gain, best gain: -inf\n",
      "[LightGBM] [Warning] No further splits with positive gain, best gain: -inf\n",
      "[LightGBM] [Warning] No further splits with positive gain, best gain: -inf\n",
      "[LightGBM] [Warning] No further splits with positive gain, best gain: -inf\n",
      "[LightGBM] [Warning] No further splits with positive gain, best gain: -inf\n",
      "[LightGBM] [Warning] No further splits with positive gain, best gain: -inf\n",
      "[LightGBM] [Warning] No further splits with positive gain, best gain: -inf\n",
      "[LightGBM] [Warning] No further splits with positive gain, best gain: -inf\n",
      "[LightGBM] [Warning] No further splits with positive gain, best gain: -inf\n",
      "[LightGBM] [Warning] No further splits with positive gain, best gain: -inf\n",
      "[LightGBM] [Warning] No further splits with positive gain, best gain: -inf\n",
      "[LightGBM] [Warning] No further splits with positive gain, best gain: -inf\n",
      "[LightGBM] [Warning] No further splits with positive gain, best gain: -inf\n",
      "[LightGBM] [Warning] No further splits with positive gain, best gain: -inf\n",
      "[LightGBM] [Warning] No further splits with positive gain, best gain: -inf\n",
      "[LightGBM] [Warning] No further splits with positive gain, best gain: -inf\n",
      "[LightGBM] [Warning] No further splits with positive gain, best gain: -inf\n",
      "[LightGBM] [Warning] No further splits with positive gain, best gain: -inf\n",
      "[LightGBM] [Warning] No further splits with positive gain, best gain: -inf\n",
      "[LightGBM] [Warning] No further splits with positive gain, best gain: -inf\n",
      "[LightGBM] [Warning] No further splits with positive gain, best gain: -inf\n",
      "[LightGBM] [Warning] No further splits with positive gain, best gain: -inf\n",
      "[LightGBM] [Warning] No further splits with positive gain, best gain: -inf\n",
      "[LightGBM] [Warning] No further splits with positive gain, best gain: -inf\n",
      "[LightGBM] [Warning] No further splits with positive gain, best gain: -inf\n",
      "[LightGBM] [Warning] No further splits with positive gain, best gain: -inf\n",
      "[LightGBM] [Warning] No further splits with positive gain, best gain: -inf\n",
      "[LightGBM] [Warning] No further splits with positive gain, best gain: -inf\n",
      "[LightGBM] [Warning] No further splits with positive gain, best gain: -inf\n",
      "[LightGBM] [Warning] No further splits with positive gain, best gain: -inf\n",
      "[LightGBM] [Warning] No further splits with positive gain, best gain: -inf\n",
      "[LightGBM] [Warning] No further splits with positive gain, best gain: -inf\n",
      "[LightGBM] [Warning] No further splits with positive gain, best gain: -inf\n",
      "[LightGBM] [Warning] No further splits with positive gain, best gain: -inf\n",
      "[LightGBM] [Warning] No further splits with positive gain, best gain: -inf\n",
      "[LightGBM] [Warning] No further splits with positive gain, best gain: -inf\n",
      "[LightGBM] [Warning] No further splits with positive gain, best gain: -inf\n",
      "[LightGBM] [Warning] No further splits with positive gain, best gain: -inf\n",
      "[LightGBM] [Warning] No further splits with positive gain, best gain: -inf\n",
      "[LightGBM] [Warning] No further splits with positive gain, best gain: -inf\n",
      "[LightGBM] [Warning] No further splits with positive gain, best gain: -inf\n",
      "[LightGBM] [Warning] No further splits with positive gain, best gain: -inf\n",
      "[LightGBM] [Warning] No further splits with positive gain, best gain: -inf\n",
      "[LightGBM] [Warning] No further splits with positive gain, best gain: -inf\n",
      "[LightGBM] [Warning] No further splits with positive gain, best gain: -inf\n",
      "[LightGBM] [Warning] No further splits with positive gain, best gain: -inf\n",
      "[LightGBM] [Warning] No further splits with positive gain, best gain: -inf\n",
      "[LightGBM] [Warning] No further splits with positive gain, best gain: -inf\n",
      "[LightGBM] [Warning] No further splits with positive gain, best gain: -inf\n",
      "[LightGBM] [Warning] No further splits with positive gain, best gain: -inf\n",
      "[LightGBM] [Warning] No further splits with positive gain, best gain: -inf\n",
      "[LightGBM] [Warning] No further splits with positive gain, best gain: -inf\n",
      "[LightGBM] [Warning] No further splits with positive gain, best gain: -inf\n",
      "[LightGBM] [Warning] No further splits with positive gain, best gain: -inf\n",
      "[LightGBM] [Warning] No further splits with positive gain, best gain: -inf\n",
      "[LightGBM] [Warning] No further splits with positive gain, best gain: -inf\n",
      "[LightGBM] [Warning] No further splits with positive gain, best gain: -inf\n",
      "[LightGBM] [Warning] No further splits with positive gain, best gain: -inf\n",
      "[LightGBM] [Warning] No further splits with positive gain, best gain: -inf\n",
      "[LightGBM] [Warning] No further splits with positive gain, best gain: -inf\n",
      "[LightGBM] [Warning] No further splits with positive gain, best gain: -inf\n",
      "[LightGBM] [Warning] No further splits with positive gain, best gain: -inf\n",
      "[LightGBM] [Warning] No further splits with positive gain, best gain: -inf\n",
      "[LightGBM] [Warning] No further splits with positive gain, best gain: -inf\n",
      "[LightGBM] [Warning] No further splits with positive gain, best gain: -inf\n",
      "[LightGBM] [Warning] No further splits with positive gain, best gain: -inf\n",
      "[LightGBM] [Warning] No further splits with positive gain, best gain: -inf\n",
      "[LightGBM] [Warning] No further splits with positive gain, best gain: -inf\n",
      "[LightGBM] [Warning] No further splits with positive gain, best gain: -inf\n",
      "[LightGBM] [Warning] No further splits with positive gain, best gain: -inf\n",
      "[LightGBM] [Warning] No further splits with positive gain, best gain: -inf\n",
      "[LightGBM] [Warning] No further splits with positive gain, best gain: -inf\n",
      "[LightGBM] [Warning] No further splits with positive gain, best gain: -inf\n",
      "[LightGBM] [Warning] No further splits with positive gain, best gain: -inf\n",
      "[LightGBM] [Warning] No further splits with positive gain, best gain: -inf\n",
      "[LightGBM] [Warning] No further splits with positive gain, best gain: -inf\n",
      "[LightGBM] [Warning] No further splits with positive gain, best gain: -inf\n",
      "[LightGBM] [Warning] No further splits with positive gain, best gain: -inf\n",
      "[LightGBM] [Warning] No further splits with positive gain, best gain: -inf\n",
      "[LightGBM] [Warning] No further splits with positive gain, best gain: -inf\n",
      "[LightGBM] [Warning] No further splits with positive gain, best gain: -inf\n",
      "[LightGBM] [Warning] No further splits with positive gain, best gain: -inf\n",
      "[LightGBM] [Warning] No further splits with positive gain, best gain: -inf\n",
      "[LightGBM] [Warning] No further splits with positive gain, best gain: -inf\n",
      "[LightGBM] [Warning] No further splits with positive gain, best gain: -inf\n",
      "[LightGBM] [Warning] No further splits with positive gain, best gain: -inf\n",
      "[LightGBM] [Warning] No further splits with positive gain, best gain: -inf\n",
      "[LightGBM] [Warning] No further splits with positive gain, best gain: -inf\n",
      "[LightGBM] [Warning] No further splits with positive gain, best gain: -inf\n",
      "[LightGBM] [Warning] No further splits with positive gain, best gain: -inf\n",
      "[LightGBM] [Warning] No further splits with positive gain, best gain: -inf\n",
      "[LightGBM] [Warning] No further splits with positive gain, best gain: -inf\n",
      "[LightGBM] [Warning] No further splits with positive gain, best gain: -inf\n",
      "[LightGBM] [Warning] No further splits with positive gain, best gain: -inf\n",
      "[LightGBM] [Warning] No further splits with positive gain, best gain: -inf\n",
      "[LightGBM] [Warning] No further splits with positive gain, best gain: -inf\n",
      "[LightGBM] [Warning] No further splits with positive gain, best gain: -inf\n",
      "[LightGBM] [Warning] No further splits with positive gain, best gain: -inf\n",
      "[LightGBM] [Warning] No further splits with positive gain, best gain: -inf\n",
      "[LightGBM] [Warning] No further splits with positive gain, best gain: -inf\n",
      "[LightGBM] [Warning] No further splits with positive gain, best gain: -inf\n",
      "[LightGBM] [Warning] No further splits with positive gain, best gain: -inf\n",
      "[LightGBM] [Warning] No further splits with positive gain, best gain: -inf\n",
      "[LightGBM] [Warning] No further splits with positive gain, best gain: -inf\n",
      "[LightGBM] [Warning] No further splits with positive gain, best gain: -inf\n",
      "[LightGBM] [Warning] No further splits with positive gain, best gain: -inf\n",
      "[LightGBM] [Warning] No further splits with positive gain, best gain: -inf\n",
      "[LightGBM] [Warning] No further splits with positive gain, best gain: -inf\n",
      "[LightGBM] [Warning] No further splits with positive gain, best gain: -inf\n",
      "[LightGBM] [Warning] No further splits with positive gain, best gain: -inf\n",
      "[LightGBM] [Warning] No further splits with positive gain, best gain: -inf\n",
      "[LightGBM] [Warning] No further splits with positive gain, best gain: -inf\n",
      "[LightGBM] [Warning] No further splits with positive gain, best gain: -inf\n",
      "[LightGBM] [Warning] No further splits with positive gain, best gain: -inf\n",
      "[LightGBM] [Warning] No further splits with positive gain, best gain: -inf\n",
      "[LightGBM] [Warning] No further splits with positive gain, best gain: -inf\n",
      "[LightGBM] [Warning] No further splits with positive gain, best gain: -inf\n",
      "[LightGBM] [Warning] No further splits with positive gain, best gain: -inf\n",
      "[LightGBM] [Warning] No further splits with positive gain, best gain: -inf\n",
      "[LightGBM] [Warning] No further splits with positive gain, best gain: -inf\n",
      "[LightGBM] [Warning] No further splits with positive gain, best gain: -inf\n",
      "[LightGBM] [Warning] No further splits with positive gain, best gain: -inf\n",
      "[LightGBM] [Warning] No further splits with positive gain, best gain: -inf\n",
      "[LightGBM] [Warning] No further splits with positive gain, best gain: -inf\n",
      "[LightGBM] [Warning] No further splits with positive gain, best gain: -inf\n",
      "[LightGBM] [Warning] No further splits with positive gain, best gain: -inf\n",
      "[LightGBM] [Warning] No further splits with positive gain, best gain: -inf\n",
      "[LightGBM] [Warning] No further splits with positive gain, best gain: -inf\n",
      "[LightGBM] [Warning] No further splits with positive gain, best gain: -inf\n",
      "[LightGBM] [Warning] No further splits with positive gain, best gain: -inf\n",
      "[LightGBM] [Warning] No further splits with positive gain, best gain: -inf\n",
      "[LightGBM] [Warning] No further splits with positive gain, best gain: -inf\n",
      "[LightGBM] [Warning] No further splits with positive gain, best gain: -inf\n",
      "[LightGBM] [Warning] No further splits with positive gain, best gain: -inf\n",
      "[LightGBM] [Warning] No further splits with positive gain, best gain: -inf\n",
      "[LightGBM] [Warning] No further splits with positive gain, best gain: -inf\n",
      "[LightGBM] [Warning] No further splits with positive gain, best gain: -inf\n",
      "[LightGBM] [Warning] No further splits with positive gain, best gain: -inf\n",
      "[LightGBM] [Warning] No further splits with positive gain, best gain: -inf\n",
      "[LightGBM] [Warning] No further splits with positive gain, best gain: -inf\n",
      "[LightGBM] [Warning] No further splits with positive gain, best gain: -inf\n",
      "[LightGBM] [Warning] No further splits with positive gain, best gain: -inf\n",
      "[LightGBM] [Warning] No further splits with positive gain, best gain: -inf\n",
      "[LightGBM] [Warning] No further splits with positive gain, best gain: -inf\n",
      "[LightGBM] [Warning] No further splits with positive gain, best gain: -inf\n",
      "[LightGBM] [Warning] No further splits with positive gain, best gain: -inf\n",
      "[LightGBM] [Warning] No further splits with positive gain, best gain: -inf\n",
      "[LightGBM] [Warning] No further splits with positive gain, best gain: -inf\n",
      "[LightGBM] [Warning] No further splits with positive gain, best gain: -inf\n",
      "[LightGBM] [Warning] No further splits with positive gain, best gain: -inf\n",
      "[LightGBM] [Warning] No further splits with positive gain, best gain: -inf\n",
      "[LightGBM] [Warning] No further splits with positive gain, best gain: -inf\n",
      "[LightGBM] [Warning] No further splits with positive gain, best gain: -inf\n",
      "[LightGBM] [Warning] No further splits with positive gain, best gain: -inf\n",
      "[LightGBM] [Warning] No further splits with positive gain, best gain: -inf\n",
      "[LightGBM] [Warning] No further splits with positive gain, best gain: -inf\n",
      "[LightGBM] [Warning] No further splits with positive gain, best gain: -inf\n",
      "[LightGBM] [Warning] No further splits with positive gain, best gain: -inf\n",
      "[LightGBM] [Warning] No further splits with positive gain, best gain: -inf\n",
      "[LightGBM] [Warning] No further splits with positive gain, best gain: -inf\n",
      "[LightGBM] [Warning] No further splits with positive gain, best gain: -inf\n",
      "[LightGBM] [Warning] No further splits with positive gain, best gain: -inf\n",
      "[LightGBM] [Warning] No further splits with positive gain, best gain: -inf\n",
      "[LightGBM] [Warning] No further splits with positive gain, best gain: -inf\n",
      "[LightGBM] [Warning] No further splits with positive gain, best gain: -inf\n",
      "[LightGBM] [Warning] No further splits with positive gain, best gain: -inf\n",
      "[LightGBM] [Warning] No further splits with positive gain, best gain: -inf\n",
      "[LightGBM] [Warning] No further splits with positive gain, best gain: -inf\n",
      "[LightGBM] [Warning] No further splits with positive gain, best gain: -inf\n",
      "[LightGBM] [Warning] No further splits with positive gain, best gain: -inf\n",
      "[LightGBM] [Warning] No further splits with positive gain, best gain: -inf\n",
      "[LightGBM] [Warning] No further splits with positive gain, best gain: -inf\n",
      "[LightGBM] [Warning] No further splits with positive gain, best gain: -inf\n",
      "[LightGBM] [Warning] No further splits with positive gain, best gain: -inf\n",
      "[LightGBM] [Warning] No further splits with positive gain, best gain: -inf\n",
      "[LightGBM] [Warning] No further splits with positive gain, best gain: -inf\n",
      "[LightGBM] [Warning] No further splits with positive gain, best gain: -inf\n",
      "[LightGBM] [Warning] No further splits with positive gain, best gain: -inf\n",
      "[LightGBM] [Warning] No further splits with positive gain, best gain: -inf\n",
      "[LightGBM] [Warning] No further splits with positive gain, best gain: -inf\n",
      "[LightGBM] [Warning] No further splits with positive gain, best gain: -inf\n",
      "[LightGBM] [Warning] No further splits with positive gain, best gain: -inf\n",
      "[LightGBM] [Warning] No further splits with positive gain, best gain: -inf\n",
      "[LightGBM] [Warning] No further splits with positive gain, best gain: -inf\n",
      "[LightGBM] [Warning] No further splits with positive gain, best gain: -inf\n",
      "[LightGBM] [Warning] No further splits with positive gain, best gain: -inf\n",
      "[LightGBM] [Warning] No further splits with positive gain, best gain: -inf\n",
      "[LightGBM] [Warning] No further splits with positive gain, best gain: -inf\n",
      "[LightGBM] [Warning] No further splits with positive gain, best gain: -inf\n",
      "[LightGBM] [Warning] No further splits with positive gain, best gain: -inf\n",
      "[LightGBM] [Warning] No further splits with positive gain, best gain: -inf\n",
      "[LightGBM] [Warning] No further splits with positive gain, best gain: -inf\n",
      "[LightGBM] [Warning] No further splits with positive gain, best gain: -inf\n",
      "[LightGBM] [Warning] No further splits with positive gain, best gain: -inf\n",
      "[LightGBM] [Warning] No further splits with positive gain, best gain: -inf\n",
      "[LightGBM] [Warning] No further splits with positive gain, best gain: -inf\n",
      "[LightGBM] [Warning] No further splits with positive gain, best gain: -inf\n",
      "[LightGBM] [Warning] No further splits with positive gain, best gain: -inf\n",
      "[LightGBM] [Warning] No further splits with positive gain, best gain: -inf\n",
      "[LightGBM] [Warning] No further splits with positive gain, best gain: -inf\n",
      "[LightGBM] [Warning] No further splits with positive gain, best gain: -inf\n",
      "[LightGBM] [Warning] No further splits with positive gain, best gain: -inf\n",
      "[LightGBM] [Warning] No further splits with positive gain, best gain: -inf\n",
      "[LightGBM] [Warning] No further splits with positive gain, best gain: -inf\n",
      "[LightGBM] [Warning] No further splits with positive gain, best gain: -inf\n",
      "[LightGBM] [Warning] No further splits with positive gain, best gain: -inf\n",
      "[LightGBM] [Warning] No further splits with positive gain, best gain: -inf\n",
      "[LightGBM] [Warning] No further splits with positive gain, best gain: -inf\n",
      "[LightGBM] [Warning] No further splits with positive gain, best gain: -inf\n",
      "[LightGBM] [Warning] No further splits with positive gain, best gain: -inf\n",
      "[LightGBM] [Warning] No further splits with positive gain, best gain: -inf\n",
      "[LightGBM] [Warning] No further splits with positive gain, best gain: -inf\n",
      "[LightGBM] [Warning] No further splits with positive gain, best gain: -inf\n",
      "[LightGBM] [Warning] No further splits with positive gain, best gain: -inf\n",
      "[LightGBM] [Warning] No further splits with positive gain, best gain: -inf\n",
      "[LightGBM] [Warning] No further splits with positive gain, best gain: -inf\n",
      "[LightGBM] [Warning] No further splits with positive gain, best gain: -inf\n",
      "[LightGBM] [Warning] No further splits with positive gain, best gain: -inf\n",
      "[LightGBM] [Warning] No further splits with positive gain, best gain: -inf\n",
      "[LightGBM] [Warning] No further splits with positive gain, best gain: -inf\n",
      "[LightGBM] [Warning] No further splits with positive gain, best gain: -inf\n",
      "[LightGBM] [Warning] No further splits with positive gain, best gain: -inf\n",
      "[LightGBM] [Warning] No further splits with positive gain, best gain: -inf\n",
      "[LightGBM] [Warning] No further splits with positive gain, best gain: -inf\n",
      "[LightGBM] [Warning] No further splits with positive gain, best gain: -inf\n",
      "[LightGBM] [Warning] No further splits with positive gain, best gain: -inf\n",
      "[LightGBM] [Warning] No further splits with positive gain, best gain: -inf\n",
      "[LightGBM] [Warning] No further splits with positive gain, best gain: -inf\n",
      "[LightGBM] [Warning] No further splits with positive gain, best gain: -inf\n",
      "[LightGBM] [Warning] No further splits with positive gain, best gain: -inf\n",
      "[LightGBM] [Warning] No further splits with positive gain, best gain: -inf\n",
      "[LightGBM] [Warning] No further splits with positive gain, best gain: -inf\n",
      "[LightGBM] [Warning] No further splits with positive gain, best gain: -inf\n",
      "[LightGBM] [Warning] No further splits with positive gain, best gain: -inf\n",
      "[LightGBM] [Warning] No further splits with positive gain, best gain: -inf\n",
      "[LightGBM] [Warning] No further splits with positive gain, best gain: -inf\n",
      "[LightGBM] [Warning] No further splits with positive gain, best gain: -inf\n",
      "[LightGBM] [Warning] No further splits with positive gain, best gain: -inf\n",
      "[LightGBM] [Warning] No further splits with positive gain, best gain: -inf\n",
      "[LightGBM] [Warning] No further splits with positive gain, best gain: -inf\n",
      "[LightGBM] [Warning] No further splits with positive gain, best gain: -inf\n",
      "[LightGBM] [Warning] No further splits with positive gain, best gain: -inf\n",
      "[LightGBM] [Warning] No further splits with positive gain, best gain: -inf\n",
      "[LightGBM] [Warning] No further splits with positive gain, best gain: -inf\n",
      "[LightGBM] [Warning] No further splits with positive gain, best gain: -inf\n",
      "[LightGBM] [Warning] No further splits with positive gain, best gain: -inf\n",
      "[LightGBM] [Warning] No further splits with positive gain, best gain: -inf\n",
      "[LightGBM] [Warning] No further splits with positive gain, best gain: -inf\n",
      "[LightGBM] [Warning] No further splits with positive gain, best gain: -inf\n",
      "[LightGBM] [Warning] No further splits with positive gain, best gain: -inf\n",
      "[LightGBM] [Warning] No further splits with positive gain, best gain: -inf\n",
      "[LightGBM] [Warning] No further splits with positive gain, best gain: -inf\n",
      "[LightGBM] [Warning] No further splits with positive gain, best gain: -inf\n",
      "[LightGBM] [Warning] No further splits with positive gain, best gain: -inf\n",
      "[LightGBM] [Warning] No further splits with positive gain, best gain: -inf\n",
      "[LightGBM] [Warning] No further splits with positive gain, best gain: -inf\n",
      "[LightGBM] [Warning] No further splits with positive gain, best gain: -inf\n",
      "[LightGBM] [Warning] No further splits with positive gain, best gain: -inf\n",
      "[LightGBM] [Warning] No further splits with positive gain, best gain: -inf\n",
      "[LightGBM] [Warning] No further splits with positive gain, best gain: -inf\n",
      "[LightGBM] [Warning] No further splits with positive gain, best gain: -inf\n",
      "[LightGBM] [Warning] No further splits with positive gain, best gain: -inf\n",
      "[LightGBM] [Warning] No further splits with positive gain, best gain: -inf\n",
      "[LightGBM] [Warning] No further splits with positive gain, best gain: -inf\n",
      "[LightGBM] [Warning] No further splits with positive gain, best gain: -inf\n",
      "[LightGBM] [Warning] No further splits with positive gain, best gain: -inf\n",
      "[LightGBM] [Warning] No further splits with positive gain, best gain: -inf\n",
      "[LightGBM] [Warning] No further splits with positive gain, best gain: -inf\n",
      "[LightGBM] [Warning] No further splits with positive gain, best gain: -inf\n",
      "[LightGBM] [Warning] No further splits with positive gain, best gain: -inf\n",
      "[LightGBM] [Warning] No further splits with positive gain, best gain: -inf\n",
      "[LightGBM] [Warning] No further splits with positive gain, best gain: -inf\n",
      "[LightGBM] [Warning] No further splits with positive gain, best gain: -inf\n",
      "[LightGBM] [Warning] No further splits with positive gain, best gain: -inf\n",
      "[LightGBM] [Warning] No further splits with positive gain, best gain: -inf\n",
      "[LightGBM] [Warning] No further splits with positive gain, best gain: -inf\n",
      "[LightGBM] [Warning] No further splits with positive gain, best gain: -inf\n",
      "[LightGBM] [Warning] No further splits with positive gain, best gain: -inf\n",
      "[LightGBM] [Warning] No further splits with positive gain, best gain: -inf\n",
      "[LightGBM] [Warning] No further splits with positive gain, best gain: -inf\n",
      "[LightGBM] [Warning] No further splits with positive gain, best gain: -inf\n",
      "[LightGBM] [Warning] No further splits with positive gain, best gain: -inf\n",
      "[LightGBM] [Warning] No further splits with positive gain, best gain: -inf\n",
      "[LightGBM] [Warning] No further splits with positive gain, best gain: -inf\n",
      "[LightGBM] [Warning] No further splits with positive gain, best gain: -inf\n",
      "[LightGBM] [Warning] No further splits with positive gain, best gain: -inf\n",
      "[LightGBM] [Warning] No further splits with positive gain, best gain: -inf\n",
      "[LightGBM] [Warning] No further splits with positive gain, best gain: -inf\n",
      "[LightGBM] [Warning] No further splits with positive gain, best gain: -inf\n",
      "[LightGBM] [Warning] No further splits with positive gain, best gain: -inf\n",
      "[LightGBM] [Warning] No further splits with positive gain, best gain: -inf\n",
      "[LightGBM] [Warning] No further splits with positive gain, best gain: -inf\n",
      "[LightGBM] [Warning] No further splits with positive gain, best gain: -inf\n",
      "[LightGBM] [Warning] No further splits with positive gain, best gain: -inf\n",
      "[LightGBM] [Warning] No further splits with positive gain, best gain: -inf\n",
      "[LightGBM] [Warning] No further splits with positive gain, best gain: -inf\n",
      "[LightGBM] [Warning] No further splits with positive gain, best gain: -inf\n",
      "[LightGBM] [Warning] No further splits with positive gain, best gain: -inf\n",
      "[LightGBM] [Warning] No further splits with positive gain, best gain: -inf\n",
      "[LightGBM] [Warning] No further splits with positive gain, best gain: -inf\n",
      "[LightGBM] [Warning] No further splits with positive gain, best gain: -inf\n",
      "[LightGBM] [Warning] No further splits with positive gain, best gain: -inf\n",
      "[LightGBM] [Warning] No further splits with positive gain, best gain: -inf\n",
      "[LightGBM] [Warning] No further splits with positive gain, best gain: -inf\n",
      "[LightGBM] [Warning] No further splits with positive gain, best gain: -inf\n",
      "[LightGBM] [Warning] No further splits with positive gain, best gain: -inf\n",
      "[LightGBM] [Warning] No further splits with positive gain, best gain: -inf\n",
      "[LightGBM] [Warning] No further splits with positive gain, best gain: -inf\n",
      "[LightGBM] [Warning] No further splits with positive gain, best gain: -inf\n",
      "[LightGBM] [Warning] No further splits with positive gain, best gain: -inf\n",
      "[LightGBM] [Warning] No further splits with positive gain, best gain: -inf\n",
      "[LightGBM] [Warning] No further splits with positive gain, best gain: -inf\n",
      "[LightGBM] [Warning] No further splits with positive gain, best gain: -inf\n",
      "[LightGBM] [Warning] No further splits with positive gain, best gain: -inf\n",
      "[LightGBM] [Warning] No further splits with positive gain, best gain: -inf\n",
      "[LightGBM] [Warning] No further splits with positive gain, best gain: -inf\n",
      "[LightGBM] [Warning] No further splits with positive gain, best gain: -inf\n",
      "[LightGBM] [Warning] No further splits with positive gain, best gain: -inf\n",
      "[LightGBM] [Warning] No further splits with positive gain, best gain: -inf\n",
      "[LightGBM] [Warning] No further splits with positive gain, best gain: -inf\n",
      "[LightGBM] [Warning] No further splits with positive gain, best gain: -inf\n",
      "[LightGBM] [Warning] No further splits with positive gain, best gain: -inf\n",
      "[LightGBM] [Warning] No further splits with positive gain, best gain: -inf\n",
      "[LightGBM] [Warning] No further splits with positive gain, best gain: -inf\n",
      "[LightGBM] [Warning] No further splits with positive gain, best gain: -inf\n",
      "[LightGBM] [Warning] No further splits with positive gain, best gain: -inf\n",
      "[LightGBM] [Warning] No further splits with positive gain, best gain: -inf\n",
      "[LightGBM] [Warning] No further splits with positive gain, best gain: -inf\n",
      "[LightGBM] [Warning] No further splits with positive gain, best gain: -inf\n",
      "[LightGBM] [Warning] No further splits with positive gain, best gain: -inf\n",
      "[LightGBM] [Warning] No further splits with positive gain, best gain: -inf\n",
      "[LightGBM] [Warning] No further splits with positive gain, best gain: -inf\n",
      "[LightGBM] [Warning] No further splits with positive gain, best gain: -inf\n",
      "[LightGBM] [Warning] No further splits with positive gain, best gain: -inf\n",
      "[LightGBM] [Warning] No further splits with positive gain, best gain: -inf\n",
      "[LightGBM] [Warning] No further splits with positive gain, best gain: -inf\n",
      "[LightGBM] [Warning] No further splits with positive gain, best gain: -inf\n",
      "[LightGBM] [Warning] No further splits with positive gain, best gain: -inf\n",
      "[LightGBM] [Warning] No further splits with positive gain, best gain: -inf\n",
      "[LightGBM] [Warning] No further splits with positive gain, best gain: -inf\n",
      "[LightGBM] [Warning] No further splits with positive gain, best gain: -inf\n",
      "[LightGBM] [Warning] No further splits with positive gain, best gain: -inf\n",
      "[LightGBM] [Warning] No further splits with positive gain, best gain: -inf\n",
      "[LightGBM] [Warning] No further splits with positive gain, best gain: -inf\n",
      "[LightGBM] [Warning] No further splits with positive gain, best gain: -inf\n",
      "[LightGBM] [Warning] No further splits with positive gain, best gain: -inf\n",
      "[LightGBM] [Warning] No further splits with positive gain, best gain: -inf\n",
      "[LightGBM] [Warning] No further splits with positive gain, best gain: -inf\n",
      "[LightGBM] [Warning] No further splits with positive gain, best gain: -inf\n",
      "[LightGBM] [Warning] No further splits with positive gain, best gain: -inf\n",
      "[LightGBM] [Warning] No further splits with positive gain, best gain: -inf\n",
      "[LightGBM] [Warning] No further splits with positive gain, best gain: -inf\n",
      "[LightGBM] [Warning] No further splits with positive gain, best gain: -inf\n",
      "[LightGBM] [Warning] No further splits with positive gain, best gain: -inf\n",
      "[LightGBM] [Warning] No further splits with positive gain, best gain: -inf\n",
      "[LightGBM] [Warning] No further splits with positive gain, best gain: -inf\n",
      "[LightGBM] [Warning] No further splits with positive gain, best gain: -inf\n",
      "[LightGBM] [Warning] No further splits with positive gain, best gain: -inf\n",
      "[LightGBM] [Warning] No further splits with positive gain, best gain: -inf\n",
      "[LightGBM] [Warning] No further splits with positive gain, best gain: -inf\n",
      "[LightGBM] [Warning] No further splits with positive gain, best gain: -inf\n",
      "[LightGBM] [Warning] No further splits with positive gain, best gain: -inf\n",
      "[LightGBM] [Warning] No further splits with positive gain, best gain: -inf\n",
      "[LightGBM] [Warning] No further splits with positive gain, best gain: -inf\n",
      "[LightGBM] [Warning] No further splits with positive gain, best gain: -inf\n",
      "[LightGBM] [Warning] No further splits with positive gain, best gain: -inf\n",
      "[LightGBM] [Warning] No further splits with positive gain, best gain: -inf\n",
      "[LightGBM] [Warning] No further splits with positive gain, best gain: -inf\n",
      "[LightGBM] [Warning] No further splits with positive gain, best gain: -inf\n",
      "[LightGBM] [Warning] No further splits with positive gain, best gain: -inf\n",
      "[LightGBM] [Warning] No further splits with positive gain, best gain: -inf\n",
      "[LightGBM] [Warning] No further splits with positive gain, best gain: -inf\n",
      "[LightGBM] [Warning] No further splits with positive gain, best gain: -inf\n",
      "[LightGBM] [Warning] No further splits with positive gain, best gain: -inf\n",
      "[LightGBM] [Warning] No further splits with positive gain, best gain: -inf\n",
      "[LightGBM] [Warning] No further splits with positive gain, best gain: -inf\n",
      "[LightGBM] [Warning] No further splits with positive gain, best gain: -inf\n",
      "[LightGBM] [Warning] No further splits with positive gain, best gain: -inf\n",
      "[LightGBM] [Warning] No further splits with positive gain, best gain: -inf\n",
      "[LightGBM] [Warning] No further splits with positive gain, best gain: -inf\n",
      "[LightGBM] [Warning] No further splits with positive gain, best gain: -inf\n",
      "[LightGBM] [Warning] No further splits with positive gain, best gain: -inf\n",
      "[LightGBM] [Warning] No further splits with positive gain, best gain: -inf\n",
      "[LightGBM] [Warning] No further splits with positive gain, best gain: -inf\n",
      "[LightGBM] [Warning] No further splits with positive gain, best gain: -inf\n",
      "[LightGBM] [Warning] No further splits with positive gain, best gain: -inf\n",
      "[LightGBM] [Warning] No further splits with positive gain, best gain: -inf\n",
      "[LightGBM] [Warning] No further splits with positive gain, best gain: -inf\n",
      "[LightGBM] [Warning] No further splits with positive gain, best gain: -inf\n",
      "[LightGBM] [Warning] No further splits with positive gain, best gain: -inf\n",
      "[LightGBM] [Warning] No further splits with positive gain, best gain: -inf\n",
      "[LightGBM] [Warning] No further splits with positive gain, best gain: -inf\n",
      "[LightGBM] [Warning] No further splits with positive gain, best gain: -inf\n",
      "[LightGBM] [Warning] No further splits with positive gain, best gain: -inf\n",
      "[LightGBM] [Warning] No further splits with positive gain, best gain: -inf\n",
      "[LightGBM] [Warning] No further splits with positive gain, best gain: -inf\n",
      "[LightGBM] [Warning] No further splits with positive gain, best gain: -inf\n",
      "[LightGBM] [Warning] No further splits with positive gain, best gain: -inf\n",
      "[LightGBM] [Warning] No further splits with positive gain, best gain: -inf\n",
      "[LightGBM] [Warning] No further splits with positive gain, best gain: -inf\n",
      "[LightGBM] [Warning] No further splits with positive gain, best gain: -inf\n",
      "[LightGBM] [Warning] No further splits with positive gain, best gain: -inf\n",
      "[LightGBM] [Warning] No further splits with positive gain, best gain: -inf\n",
      "[LightGBM] [Warning] No further splits with positive gain, best gain: -inf\n",
      "[LightGBM] [Warning] No further splits with positive gain, best gain: -inf\n",
      "[LightGBM] [Warning] No further splits with positive gain, best gain: -inf\n",
      "[LightGBM] [Warning] No further splits with positive gain, best gain: -inf\n",
      "[LightGBM] [Warning] No further splits with positive gain, best gain: -inf\n",
      "[LightGBM] [Warning] No further splits with positive gain, best gain: -inf\n",
      "[LightGBM] [Warning] No further splits with positive gain, best gain: -inf\n",
      "[LightGBM] [Warning] No further splits with positive gain, best gain: -inf\n",
      "[LightGBM] [Warning] No further splits with positive gain, best gain: -inf\n",
      "[LightGBM] [Warning] No further splits with positive gain, best gain: -inf\n",
      "[LightGBM] [Warning] No further splits with positive gain, best gain: -inf\n",
      "[LightGBM] [Warning] No further splits with positive gain, best gain: -inf\n",
      "[LightGBM] [Warning] No further splits with positive gain, best gain: -inf\n",
      "[LightGBM] [Warning] No further splits with positive gain, best gain: -inf\n",
      "[LightGBM] [Warning] No further splits with positive gain, best gain: -inf\n",
      "[LightGBM] [Warning] No further splits with positive gain, best gain: -inf\n",
      "[LightGBM] [Warning] No further splits with positive gain, best gain: -inf\n",
      "[LightGBM] [Warning] No further splits with positive gain, best gain: -inf\n",
      "[LightGBM] [Warning] No further splits with positive gain, best gain: -inf\n",
      "[LightGBM] [Warning] No further splits with positive gain, best gain: -inf\n",
      "[LightGBM] [Warning] No further splits with positive gain, best gain: -inf\n",
      "[LightGBM] [Warning] No further splits with positive gain, best gain: -inf\n",
      "[LightGBM] [Warning] No further splits with positive gain, best gain: -inf\n",
      "[LightGBM] [Warning] No further splits with positive gain, best gain: -inf\n",
      "[LightGBM] [Warning] No further splits with positive gain, best gain: -inf\n",
      "[LightGBM] [Warning] No further splits with positive gain, best gain: -inf\n",
      "[LightGBM] [Warning] No further splits with positive gain, best gain: -inf\n",
      "[LightGBM] [Warning] No further splits with positive gain, best gain: -inf\n",
      "[LightGBM] [Warning] No further splits with positive gain, best gain: -inf\n",
      "[LightGBM] [Warning] No further splits with positive gain, best gain: -inf\n",
      "[LightGBM] [Warning] No further splits with positive gain, best gain: -inf\n",
      "[LightGBM] [Warning] No further splits with positive gain, best gain: -inf\n",
      "[LightGBM] [Warning] No further splits with positive gain, best gain: -inf\n",
      "[LightGBM] [Warning] No further splits with positive gain, best gain: -inf\n",
      "[LightGBM] [Warning] No further splits with positive gain, best gain: -inf\n",
      "[LightGBM] [Warning] No further splits with positive gain, best gain: -inf\n",
      "[LightGBM] [Warning] No further splits with positive gain, best gain: -inf\n",
      "[LightGBM] [Warning] No further splits with positive gain, best gain: -inf\n",
      "[LightGBM] [Warning] No further splits with positive gain, best gain: -inf\n",
      "[LightGBM] [Warning] No further splits with positive gain, best gain: -inf\n",
      "[LightGBM] [Warning] No further splits with positive gain, best gain: -inf\n",
      "[LightGBM] [Warning] No further splits with positive gain, best gain: -inf\n",
      "[LightGBM] [Warning] No further splits with positive gain, best gain: -inf\n",
      "[LightGBM] [Warning] No further splits with positive gain, best gain: -inf\n",
      "[LightGBM] [Warning] No further splits with positive gain, best gain: -inf\n",
      "[LightGBM] [Warning] No further splits with positive gain, best gain: -inf\n",
      "[LightGBM] [Warning] No further splits with positive gain, best gain: -inf\n",
      "[LightGBM] [Warning] No further splits with positive gain, best gain: -inf\n",
      "[LightGBM] [Warning] No further splits with positive gain, best gain: -inf\n",
      "[LightGBM] [Warning] No further splits with positive gain, best gain: -inf\n",
      "[LightGBM] [Warning] No further splits with positive gain, best gain: -inf\n",
      "[LightGBM] [Warning] No further splits with positive gain, best gain: -inf\n",
      "[LightGBM] [Warning] No further splits with positive gain, best gain: -inf\n",
      "[LightGBM] [Warning] No further splits with positive gain, best gain: -inf\n",
      "[LightGBM] [Warning] No further splits with positive gain, best gain: -inf\n",
      "[LightGBM] [Warning] No further splits with positive gain, best gain: -inf\n",
      "[LightGBM] [Warning] No further splits with positive gain, best gain: -inf\n",
      "[LightGBM] [Warning] No further splits with positive gain, best gain: -inf\n",
      "[LightGBM] [Warning] No further splits with positive gain, best gain: -inf\n",
      "[LightGBM] [Warning] No further splits with positive gain, best gain: -inf\n",
      "[LightGBM] [Warning] No further splits with positive gain, best gain: -inf\n",
      "[LightGBM] [Warning] No further splits with positive gain, best gain: -inf\n",
      "[LightGBM] [Warning] No further splits with positive gain, best gain: -inf\n",
      "[LightGBM] [Warning] No further splits with positive gain, best gain: -inf\n",
      "[LightGBM] [Warning] No further splits with positive gain, best gain: -inf\n",
      "[LightGBM] [Warning] No further splits with positive gain, best gain: -inf\n",
      "[LightGBM] [Warning] No further splits with positive gain, best gain: -inf\n",
      "[LightGBM] [Warning] No further splits with positive gain, best gain: -inf\n",
      "[LightGBM] [Warning] No further splits with positive gain, best gain: -inf\n",
      "[LightGBM] [Warning] No further splits with positive gain, best gain: -inf\n",
      "[LightGBM] [Warning] No further splits with positive gain, best gain: -inf\n",
      "[LightGBM] [Warning] No further splits with positive gain, best gain: -inf\n",
      "[LightGBM] [Warning] No further splits with positive gain, best gain: -inf\n",
      "[LightGBM] [Warning] No further splits with positive gain, best gain: -inf\n",
      "[LightGBM] [Warning] No further splits with positive gain, best gain: -inf\n",
      "[LightGBM] [Warning] No further splits with positive gain, best gain: -inf\n",
      "[LightGBM] [Warning] No further splits with positive gain, best gain: -inf\n",
      "[LightGBM] [Warning] No further splits with positive gain, best gain: -inf\n",
      "[LightGBM] [Warning] No further splits with positive gain, best gain: -inf\n",
      "[LightGBM] [Warning] No further splits with positive gain, best gain: -inf\n",
      "[LightGBM] [Warning] No further splits with positive gain, best gain: -inf\n",
      "[LightGBM] [Warning] No further splits with positive gain, best gain: -inf\n",
      "[LightGBM] [Warning] No further splits with positive gain, best gain: -inf\n",
      "[LightGBM] [Warning] No further splits with positive gain, best gain: -inf\n",
      "[LightGBM] [Warning] No further splits with positive gain, best gain: -inf\n",
      "[LightGBM] [Warning] No further splits with positive gain, best gain: -inf\n",
      "[LightGBM] [Warning] No further splits with positive gain, best gain: -inf\n",
      "[LightGBM] [Warning] No further splits with positive gain, best gain: -inf\n",
      "[LightGBM] [Warning] No further splits with positive gain, best gain: -inf\n",
      "[LightGBM] [Warning] No further splits with positive gain, best gain: -inf\n",
      "[LightGBM] [Warning] No further splits with positive gain, best gain: -inf\n",
      "[LightGBM] [Warning] No further splits with positive gain, best gain: -inf\n",
      "[LightGBM] [Warning] No further splits with positive gain, best gain: -inf\n",
      "[LightGBM] [Warning] No further splits with positive gain, best gain: -inf\n",
      "[LightGBM] [Warning] No further splits with positive gain, best gain: -inf\n",
      "[LightGBM] [Warning] No further splits with positive gain, best gain: -inf\n",
      "[LightGBM] [Warning] No further splits with positive gain, best gain: -inf\n",
      "[LightGBM] [Warning] No further splits with positive gain, best gain: -inf\n",
      "[LightGBM] [Warning] No further splits with positive gain, best gain: -inf\n",
      "[LightGBM] [Warning] No further splits with positive gain, best gain: -inf\n",
      "[LightGBM] [Warning] No further splits with positive gain, best gain: -inf\n",
      "[LightGBM] [Warning] No further splits with positive gain, best gain: -inf\n",
      "[LightGBM] [Warning] No further splits with positive gain, best gain: -inf\n",
      "[LightGBM] [Warning] No further splits with positive gain, best gain: -inf\n",
      "[LightGBM] [Warning] No further splits with positive gain, best gain: -inf\n",
      "[LightGBM] [Warning] No further splits with positive gain, best gain: -inf\n",
      "[LightGBM] [Warning] No further splits with positive gain, best gain: -inf\n",
      "[LightGBM] [Warning] No further splits with positive gain, best gain: -inf\n",
      "[LightGBM] [Warning] No further splits with positive gain, best gain: -inf\n",
      "[LightGBM] [Warning] No further splits with positive gain, best gain: -inf\n",
      "[LightGBM] [Warning] No further splits with positive gain, best gain: -inf\n",
      "[LightGBM] [Warning] No further splits with positive gain, best gain: -inf\n",
      "[LightGBM] [Warning] No further splits with positive gain, best gain: -inf\n",
      "[LightGBM] [Warning] No further splits with positive gain, best gain: -inf\n",
      "[LightGBM] [Warning] No further splits with positive gain, best gain: -inf\n",
      "[LightGBM] [Warning] No further splits with positive gain, best gain: -inf\n",
      "[LightGBM] [Warning] No further splits with positive gain, best gain: -inf\n",
      "[LightGBM] [Warning] No further splits with positive gain, best gain: -inf\n",
      "[LightGBM] [Warning] No further splits with positive gain, best gain: -inf\n",
      "[LightGBM] [Warning] No further splits with positive gain, best gain: -inf\n",
      "[LightGBM] [Warning] No further splits with positive gain, best gain: -inf\n",
      "[LightGBM] [Warning] No further splits with positive gain, best gain: -inf\n",
      "[LightGBM] [Warning] No further splits with positive gain, best gain: -inf\n",
      "[LightGBM] [Warning] No further splits with positive gain, best gain: -inf\n",
      "[LightGBM] [Warning] No further splits with positive gain, best gain: -inf\n",
      "[LightGBM] [Warning] No further splits with positive gain, best gain: -inf\n",
      "[LightGBM] [Warning] No further splits with positive gain, best gain: -inf\n",
      "[LightGBM] [Warning] No further splits with positive gain, best gain: -inf\n",
      "[LightGBM] [Warning] No further splits with positive gain, best gain: -inf\n",
      "[LightGBM] [Warning] No further splits with positive gain, best gain: -inf\n",
      "[LightGBM] [Warning] No further splits with positive gain, best gain: -inf\n",
      "[LightGBM] [Warning] No further splits with positive gain, best gain: -inf\n",
      "[LightGBM] [Warning] No further splits with positive gain, best gain: -inf\n",
      "[LightGBM] [Warning] No further splits with positive gain, best gain: -inf\n",
      "[LightGBM] [Warning] No further splits with positive gain, best gain: -inf\n",
      "[LightGBM] [Warning] No further splits with positive gain, best gain: -inf\n",
      "[LightGBM] [Warning] No further splits with positive gain, best gain: -inf\n",
      "[LightGBM] [Warning] No further splits with positive gain, best gain: -inf\n",
      "[LightGBM] [Warning] No further splits with positive gain, best gain: -inf\n",
      "[LightGBM] [Warning] No further splits with positive gain, best gain: -inf\n",
      "[LightGBM] [Warning] No further splits with positive gain, best gain: -inf\n",
      "[LightGBM] [Warning] No further splits with positive gain, best gain: -inf\n",
      "[LightGBM] [Warning] No further splits with positive gain, best gain: -inf\n",
      "[LightGBM] [Warning] No further splits with positive gain, best gain: -inf\n",
      "[LightGBM] [Warning] No further splits with positive gain, best gain: -inf\n",
      "[LightGBM] [Warning] No further splits with positive gain, best gain: -inf\n",
      "[LightGBM] [Warning] No further splits with positive gain, best gain: -inf\n",
      "[LightGBM] [Warning] No further splits with positive gain, best gain: -inf\n",
      "[LightGBM] [Warning] No further splits with positive gain, best gain: -inf\n",
      "[LightGBM] [Warning] No further splits with positive gain, best gain: -inf\n",
      "[LightGBM] [Warning] No further splits with positive gain, best gain: -inf\n",
      "[LightGBM] [Warning] No further splits with positive gain, best gain: -inf\n",
      "[LightGBM] [Warning] No further splits with positive gain, best gain: -inf\n",
      "[LightGBM] [Warning] No further splits with positive gain, best gain: -inf\n",
      "[LightGBM] [Warning] No further splits with positive gain, best gain: -inf\n",
      "[LightGBM] [Warning] No further splits with positive gain, best gain: -inf\n",
      "[LightGBM] [Warning] No further splits with positive gain, best gain: -inf\n",
      "[LightGBM] [Warning] No further splits with positive gain, best gain: -inf\n",
      "[LightGBM] [Warning] No further splits with positive gain, best gain: -inf\n",
      "[LightGBM] [Warning] No further splits with positive gain, best gain: -inf\n",
      "[LightGBM] [Warning] No further splits with positive gain, best gain: -inf\n",
      "[LightGBM] [Warning] No further splits with positive gain, best gain: -inf\n",
      "[LightGBM] [Warning] No further splits with positive gain, best gain: -inf\n",
      "[LightGBM] [Warning] No further splits with positive gain, best gain: -inf\n",
      "[LightGBM] [Warning] No further splits with positive gain, best gain: -inf\n",
      "[LightGBM] [Warning] No further splits with positive gain, best gain: -inf\n",
      "[LightGBM] [Warning] No further splits with positive gain, best gain: -inf\n",
      "[LightGBM] [Warning] No further splits with positive gain, best gain: -inf\n",
      "[LightGBM] [Warning] No further splits with positive gain, best gain: -inf\n",
      "[LightGBM] [Warning] No further splits with positive gain, best gain: -inf\n",
      "[LightGBM] [Warning] No further splits with positive gain, best gain: -inf\n",
      "[LightGBM] [Warning] No further splits with positive gain, best gain: -inf\n",
      "[LightGBM] [Warning] No further splits with positive gain, best gain: -inf\n",
      "[LightGBM] [Warning] No further splits with positive gain, best gain: -inf\n",
      "[LightGBM] [Warning] No further splits with positive gain, best gain: -inf\n",
      "[LightGBM] [Warning] No further splits with positive gain, best gain: -inf\n",
      "[LightGBM] [Warning] No further splits with positive gain, best gain: -inf\n",
      "[LightGBM] [Warning] No further splits with positive gain, best gain: -inf\n",
      "[LightGBM] [Warning] No further splits with positive gain, best gain: -inf\n",
      "[LightGBM] [Warning] No further splits with positive gain, best gain: -inf\n",
      "[LightGBM] [Warning] No further splits with positive gain, best gain: -inf\n",
      "[LightGBM] [Warning] No further splits with positive gain, best gain: -inf\n",
      "[LightGBM] [Warning] No further splits with positive gain, best gain: -inf\n",
      "[LightGBM] [Warning] No further splits with positive gain, best gain: -inf\n",
      "[LightGBM] [Warning] No further splits with positive gain, best gain: -inf\n",
      "[LightGBM] [Warning] No further splits with positive gain, best gain: -inf\n",
      "[LightGBM] [Warning] No further splits with positive gain, best gain: -inf\n",
      "[LightGBM] [Warning] No further splits with positive gain, best gain: -inf\n",
      "[LightGBM] [Warning] No further splits with positive gain, best gain: -inf\n",
      "[LightGBM] [Warning] No further splits with positive gain, best gain: -inf\n",
      "[LightGBM] [Warning] No further splits with positive gain, best gain: -inf\n",
      "[LightGBM] [Warning] No further splits with positive gain, best gain: -inf\n",
      "[LightGBM] [Warning] No further splits with positive gain, best gain: -inf\n",
      "[LightGBM] [Warning] No further splits with positive gain, best gain: -inf\n",
      "[LightGBM] [Warning] No further splits with positive gain, best gain: -inf\n",
      "[LightGBM] [Warning] No further splits with positive gain, best gain: -inf\n",
      "[LightGBM] [Warning] No further splits with positive gain, best gain: -inf\n",
      "[LightGBM] [Warning] No further splits with positive gain, best gain: -inf\n",
      "[LightGBM] [Warning] No further splits with positive gain, best gain: -inf\n",
      "[LightGBM] [Warning] No further splits with positive gain, best gain: -inf\n",
      "[LightGBM] [Warning] No further splits with positive gain, best gain: -inf\n",
      "[LightGBM] [Warning] No further splits with positive gain, best gain: -inf\n",
      "[LightGBM] [Warning] No further splits with positive gain, best gain: -inf\n",
      "[LightGBM] [Warning] No further splits with positive gain, best gain: -inf\n",
      "[LightGBM] [Warning] No further splits with positive gain, best gain: -inf\n",
      "[LightGBM] [Warning] No further splits with positive gain, best gain: -inf\n",
      "[LightGBM] [Warning] No further splits with positive gain, best gain: -inf\n",
      "[LightGBM] [Warning] No further splits with positive gain, best gain: -inf\n",
      "[LightGBM] [Warning] No further splits with positive gain, best gain: -inf\n",
      "[LightGBM] [Warning] No further splits with positive gain, best gain: -inf\n",
      "[LightGBM] [Warning] No further splits with positive gain, best gain: -inf\n",
      "[LightGBM] [Warning] No further splits with positive gain, best gain: -inf\n",
      "[LightGBM] [Warning] No further splits with positive gain, best gain: -inf\n",
      "[LightGBM] [Warning] No further splits with positive gain, best gain: -inf\n",
      "[LightGBM] [Warning] No further splits with positive gain, best gain: -inf\n",
      "[LightGBM] [Warning] No further splits with positive gain, best gain: -inf\n",
      "[LightGBM] [Warning] No further splits with positive gain, best gain: -inf\n",
      "[LightGBM] [Warning] No further splits with positive gain, best gain: -inf\n",
      "[LightGBM] [Warning] No further splits with positive gain, best gain: -inf\n",
      "[LightGBM] [Warning] No further splits with positive gain, best gain: -inf\n",
      "[LightGBM] [Warning] No further splits with positive gain, best gain: -inf\n",
      "[LightGBM] [Warning] No further splits with positive gain, best gain: -inf\n",
      "[LightGBM] [Warning] No further splits with positive gain, best gain: -inf\n",
      "[LightGBM] [Warning] No further splits with positive gain, best gain: -inf\n",
      "[LightGBM] [Warning] No further splits with positive gain, best gain: -inf\n",
      "[LightGBM] [Warning] No further splits with positive gain, best gain: -inf\n",
      "[LightGBM] [Warning] No further splits with positive gain, best gain: -inf\n",
      "[LightGBM] [Warning] No further splits with positive gain, best gain: -inf\n",
      "[LightGBM] [Warning] No further splits with positive gain, best gain: -inf\n",
      "[LightGBM] [Warning] No further splits with positive gain, best gain: -inf\n",
      "[LightGBM] [Warning] No further splits with positive gain, best gain: -inf\n",
      "[LightGBM] [Warning] No further splits with positive gain, best gain: -inf\n",
      "[LightGBM] [Warning] No further splits with positive gain, best gain: -inf\n",
      "[LightGBM] [Warning] No further splits with positive gain, best gain: -inf\n",
      "[LightGBM] [Warning] No further splits with positive gain, best gain: -inf\n",
      "[LightGBM] [Warning] No further splits with positive gain, best gain: -inf\n",
      "[LightGBM] [Warning] No further splits with positive gain, best gain: -inf\n",
      "[LightGBM] [Warning] No further splits with positive gain, best gain: -inf\n",
      "[LightGBM] [Warning] No further splits with positive gain, best gain: -inf\n",
      "[LightGBM] [Warning] No further splits with positive gain, best gain: -inf\n",
      "[LightGBM] [Warning] No further splits with positive gain, best gain: -inf\n",
      "[LightGBM] [Warning] No further splits with positive gain, best gain: -inf\n",
      "[LightGBM] [Warning] No further splits with positive gain, best gain: -inf\n",
      "[LightGBM] [Warning] No further splits with positive gain, best gain: -inf\n",
      "[LightGBM] [Warning] No further splits with positive gain, best gain: -inf\n",
      "[LightGBM] [Warning] No further splits with positive gain, best gain: -inf\n",
      "[LightGBM] [Warning] No further splits with positive gain, best gain: -inf\n",
      "[LightGBM] [Warning] No further splits with positive gain, best gain: -inf\n",
      "[LightGBM] [Warning] No further splits with positive gain, best gain: -inf\n",
      "[LightGBM] [Warning] No further splits with positive gain, best gain: -inf\n",
      "[LightGBM] [Warning] No further splits with positive gain, best gain: -inf\n",
      "[LightGBM] [Warning] No further splits with positive gain, best gain: -inf\n",
      "[LightGBM] [Warning] No further splits with positive gain, best gain: -inf\n",
      "[LightGBM] [Warning] No further splits with positive gain, best gain: -inf\n",
      "[LightGBM] [Warning] No further splits with positive gain, best gain: -inf\n",
      "[LightGBM] [Warning] No further splits with positive gain, best gain: -inf\n",
      "[LightGBM] [Warning] No further splits with positive gain, best gain: -inf\n",
      "[LightGBM] [Warning] No further splits with positive gain, best gain: -inf\n",
      "[LightGBM] [Warning] No further splits with positive gain, best gain: -inf\n",
      "[LightGBM] [Warning] No further splits with positive gain, best gain: -inf\n",
      "[LightGBM] [Warning] No further splits with positive gain, best gain: -inf\n",
      "[LightGBM] [Warning] No further splits with positive gain, best gain: -inf\n",
      "[LightGBM] [Warning] No further splits with positive gain, best gain: -inf\n",
      "[LightGBM] [Warning] No further splits with positive gain, best gain: -inf\n",
      "[LightGBM] [Warning] No further splits with positive gain, best gain: -inf\n",
      "[LightGBM] [Warning] No further splits with positive gain, best gain: -inf\n",
      "[LightGBM] [Warning] No further splits with positive gain, best gain: -inf\n",
      "[LightGBM] [Warning] No further splits with positive gain, best gain: -inf\n",
      "[LightGBM] [Warning] No further splits with positive gain, best gain: -inf\n",
      "[LightGBM] [Warning] No further splits with positive gain, best gain: -inf\n",
      "[LightGBM] [Warning] No further splits with positive gain, best gain: -inf\n",
      "[LightGBM] [Warning] No further splits with positive gain, best gain: -inf\n",
      "[LightGBM] [Warning] No further splits with positive gain, best gain: -inf\n",
      "[LightGBM] [Warning] No further splits with positive gain, best gain: -inf\n",
      "[LightGBM] [Warning] No further splits with positive gain, best gain: -inf\n",
      "[LightGBM] [Warning] No further splits with positive gain, best gain: -inf\n",
      "[LightGBM] [Warning] No further splits with positive gain, best gain: -inf\n",
      "[LightGBM] [Warning] No further splits with positive gain, best gain: -inf\n",
      "[LightGBM] [Warning] No further splits with positive gain, best gain: -inf\n",
      "[LightGBM] [Warning] No further splits with positive gain, best gain: -inf\n",
      "[LightGBM] [Warning] No further splits with positive gain, best gain: -inf\n",
      "[LightGBM] [Warning] No further splits with positive gain, best gain: -inf\n",
      "[LightGBM] [Warning] No further splits with positive gain, best gain: -inf\n",
      "[LightGBM] [Warning] No further splits with positive gain, best gain: -inf\n",
      "[LightGBM] [Warning] No further splits with positive gain, best gain: -inf\n",
      "[LightGBM] [Warning] No further splits with positive gain, best gain: -inf\n",
      "[LightGBM] [Warning] No further splits with positive gain, best gain: -inf\n",
      "[LightGBM] [Warning] No further splits with positive gain, best gain: -inf\n",
      "[LightGBM] [Warning] No further splits with positive gain, best gain: -inf\n",
      "[LightGBM] [Warning] No further splits with positive gain, best gain: -inf\n",
      "[LightGBM] [Warning] No further splits with positive gain, best gain: -inf\n",
      "[LightGBM] [Warning] No further splits with positive gain, best gain: -inf\n",
      "[LightGBM] [Warning] No further splits with positive gain, best gain: -inf\n",
      "[LightGBM] [Warning] No further splits with positive gain, best gain: -inf\n",
      "[LightGBM] [Warning] No further splits with positive gain, best gain: -inf\n",
      "[LightGBM] [Warning] No further splits with positive gain, best gain: -inf\n",
      "[LightGBM] [Warning] No further splits with positive gain, best gain: -inf\n",
      "[LightGBM] [Warning] No further splits with positive gain, best gain: -inf\n",
      "[LightGBM] [Warning] No further splits with positive gain, best gain: -inf\n",
      "[LightGBM] [Warning] No further splits with positive gain, best gain: -inf\n",
      "[LightGBM] [Warning] No further splits with positive gain, best gain: -inf\n",
      "[LightGBM] [Warning] No further splits with positive gain, best gain: -inf\n",
      "[LightGBM] [Warning] No further splits with positive gain, best gain: -inf\n",
      "[LightGBM] [Warning] No further splits with positive gain, best gain: -inf\n",
      "[LightGBM] [Warning] No further splits with positive gain, best gain: -inf\n",
      "[LightGBM] [Warning] No further splits with positive gain, best gain: -inf\n",
      "[LightGBM] [Warning] No further splits with positive gain, best gain: -inf\n",
      "[LightGBM] [Warning] No further splits with positive gain, best gain: -inf\n",
      "[LightGBM] [Warning] No further splits with positive gain, best gain: -inf\n",
      "[LightGBM] [Warning] No further splits with positive gain, best gain: -inf\n",
      "[LightGBM] [Warning] No further splits with positive gain, best gain: -inf\n",
      "[LightGBM] [Warning] No further splits with positive gain, best gain: -inf\n",
      "[LightGBM] [Warning] No further splits with positive gain, best gain: -inf\n",
      "[LightGBM] [Warning] No further splits with positive gain, best gain: -inf\n",
      "[LightGBM] [Warning] No further splits with positive gain, best gain: -inf\n",
      "[LightGBM] [Warning] No further splits with positive gain, best gain: -inf\n",
      "[LightGBM] [Warning] No further splits with positive gain, best gain: -inf\n",
      "[LightGBM] [Warning] No further splits with positive gain, best gain: -inf\n",
      "[LightGBM] [Warning] No further splits with positive gain, best gain: -inf\n",
      "[LightGBM] [Warning] No further splits with positive gain, best gain: -inf\n",
      "[LightGBM] [Warning] No further splits with positive gain, best gain: -inf\n",
      "[LightGBM] [Warning] No further splits with positive gain, best gain: -inf\n",
      "[LightGBM] [Warning] No further splits with positive gain, best gain: -inf\n",
      "[LightGBM] [Warning] No further splits with positive gain, best gain: -inf\n",
      "[LightGBM] [Warning] No further splits with positive gain, best gain: -inf\n",
      "[LightGBM] [Warning] No further splits with positive gain, best gain: -inf\n",
      "[LightGBM] [Warning] No further splits with positive gain, best gain: -inf\n",
      "[LightGBM] [Warning] No further splits with positive gain, best gain: -inf\n",
      "[LightGBM] [Warning] No further splits with positive gain, best gain: -inf\n",
      "[LightGBM] [Warning] No further splits with positive gain, best gain: -inf\n",
      "[LightGBM] [Warning] No further splits with positive gain, best gain: -inf\n",
      "[LightGBM] [Warning] No further splits with positive gain, best gain: -inf\n",
      "[LightGBM] [Warning] No further splits with positive gain, best gain: -inf\n",
      "[LightGBM] [Warning] No further splits with positive gain, best gain: -inf\n",
      "[LightGBM] [Warning] No further splits with positive gain, best gain: -inf\n",
      "[LightGBM] [Warning] No further splits with positive gain, best gain: -inf\n",
      "[LightGBM] [Warning] No further splits with positive gain, best gain: -inf\n",
      "[LightGBM] [Warning] No further splits with positive gain, best gain: -inf\n",
      "[LightGBM] [Warning] No further splits with positive gain, best gain: -inf\n",
      "[LightGBM] [Warning] No further splits with positive gain, best gain: -inf\n",
      "[LightGBM] [Warning] No further splits with positive gain, best gain: -inf\n",
      "[LightGBM] [Warning] No further splits with positive gain, best gain: -inf\n",
      "[LightGBM] [Warning] No further splits with positive gain, best gain: -inf\n",
      "[LightGBM] [Warning] No further splits with positive gain, best gain: -inf\n",
      "[LightGBM] [Warning] No further splits with positive gain, best gain: -inf\n",
      "[LightGBM] [Warning] No further splits with positive gain, best gain: -inf\n",
      "[LightGBM] [Warning] No further splits with positive gain, best gain: -inf\n",
      "[LightGBM] [Warning] No further splits with positive gain, best gain: -inf\n",
      "[LightGBM] [Warning] No further splits with positive gain, best gain: -inf\n",
      "[LightGBM] [Warning] No further splits with positive gain, best gain: -inf\n",
      "[LightGBM] [Warning] No further splits with positive gain, best gain: -inf\n",
      "[LightGBM] [Warning] No further splits with positive gain, best gain: -inf\n",
      "[LightGBM] [Warning] No further splits with positive gain, best gain: -inf\n",
      "[LightGBM] [Warning] No further splits with positive gain, best gain: -inf\n",
      "[LightGBM] [Warning] No further splits with positive gain, best gain: -inf\n",
      "[LightGBM] [Warning] No further splits with positive gain, best gain: -inf\n",
      "[LightGBM] [Warning] No further splits with positive gain, best gain: -inf\n",
      "[LightGBM] [Warning] No further splits with positive gain, best gain: -inf\n",
      "[LightGBM] [Warning] No further splits with positive gain, best gain: -inf\n",
      "[LightGBM] [Warning] No further splits with positive gain, best gain: -inf\n",
      "[LightGBM] [Warning] No further splits with positive gain, best gain: -inf\n",
      "[LightGBM] [Warning] No further splits with positive gain, best gain: -inf\n",
      "[LightGBM] [Warning] No further splits with positive gain, best gain: -inf\n",
      "[LightGBM] [Warning] No further splits with positive gain, best gain: -inf\n",
      "[LightGBM] [Warning] No further splits with positive gain, best gain: -inf\n",
      "[LightGBM] [Warning] No further splits with positive gain, best gain: -inf\n",
      "[LightGBM] [Warning] No further splits with positive gain, best gain: -inf\n",
      "[LightGBM] [Warning] No further splits with positive gain, best gain: -inf\n",
      "[LightGBM] [Warning] No further splits with positive gain, best gain: -inf\n",
      "[LightGBM] [Warning] No further splits with positive gain, best gain: -inf\n",
      "[LightGBM] [Warning] No further splits with positive gain, best gain: -inf\n",
      "[LightGBM] [Warning] No further splits with positive gain, best gain: -inf\n",
      "[LightGBM] [Warning] No further splits with positive gain, best gain: -inf\n",
      "[LightGBM] [Warning] No further splits with positive gain, best gain: -inf\n",
      "[LightGBM] [Warning] No further splits with positive gain, best gain: -inf\n",
      "[LightGBM] [Warning] No further splits with positive gain, best gain: -inf\n",
      "[LightGBM] [Warning] No further splits with positive gain, best gain: -inf\n",
      "[LightGBM] [Warning] No further splits with positive gain, best gain: -inf\n",
      "[LightGBM] [Warning] No further splits with positive gain, best gain: -inf\n",
      "[LightGBM] [Warning] No further splits with positive gain, best gain: -inf\n",
      "[LightGBM] [Warning] No further splits with positive gain, best gain: -inf\n",
      "[LightGBM] [Warning] No further splits with positive gain, best gain: -inf\n",
      "[LightGBM] [Warning] No further splits with positive gain, best gain: -inf\n",
      "[LightGBM] [Warning] No further splits with positive gain, best gain: -inf\n",
      "[LightGBM] [Warning] No further splits with positive gain, best gain: -inf\n",
      "[LightGBM] [Warning] No further splits with positive gain, best gain: -inf\n",
      "[LightGBM] [Warning] No further splits with positive gain, best gain: -inf\n",
      "[LightGBM] [Warning] No further splits with positive gain, best gain: -inf\n",
      "[LightGBM] [Warning] No further splits with positive gain, best gain: -inf\n",
      "[LightGBM] [Warning] No further splits with positive gain, best gain: -inf\n",
      "[LightGBM] [Warning] No further splits with positive gain, best gain: -inf\n",
      "[LightGBM] [Warning] No further splits with positive gain, best gain: -inf\n",
      "[LightGBM] [Warning] No further splits with positive gain, best gain: -inf\n",
      "[LightGBM] [Warning] No further splits with positive gain, best gain: -inf\n",
      "[LightGBM] [Warning] No further splits with positive gain, best gain: -inf\n",
      "[LightGBM] [Warning] No further splits with positive gain, best gain: -inf\n",
      "[LightGBM] [Warning] No further splits with positive gain, best gain: -inf\n",
      "[LightGBM] [Warning] No further splits with positive gain, best gain: -inf\n",
      "[LightGBM] [Warning] No further splits with positive gain, best gain: -inf\n",
      "[LightGBM] [Warning] No further splits with positive gain, best gain: -inf\n",
      "[LightGBM] [Warning] No further splits with positive gain, best gain: -inf\n",
      "[LightGBM] [Warning] No further splits with positive gain, best gain: -inf\n",
      "[LightGBM] [Warning] No further splits with positive gain, best gain: -inf\n",
      "[LightGBM] [Warning] No further splits with positive gain, best gain: -inf\n",
      "[LightGBM] [Warning] No further splits with positive gain, best gain: -inf\n",
      "[LightGBM] [Warning] No further splits with positive gain, best gain: -inf\n",
      "[LightGBM] [Warning] No further splits with positive gain, best gain: -inf\n",
      "[LightGBM] [Warning] No further splits with positive gain, best gain: -inf\n",
      "[LightGBM] [Warning] No further splits with positive gain, best gain: -inf\n",
      "[LightGBM] [Warning] No further splits with positive gain, best gain: -inf\n",
      "[LightGBM] [Warning] No further splits with positive gain, best gain: -inf\n",
      "[LightGBM] [Warning] No further splits with positive gain, best gain: -inf\n",
      "[LightGBM] [Warning] No further splits with positive gain, best gain: -inf\n",
      "[LightGBM] [Warning] No further splits with positive gain, best gain: -inf\n",
      "[LightGBM] [Warning] No further splits with positive gain, best gain: -inf\n",
      "[LightGBM] [Warning] No further splits with positive gain, best gain: -inf\n",
      "[LightGBM] [Warning] No further splits with positive gain, best gain: -inf\n",
      "[LightGBM] [Warning] No further splits with positive gain, best gain: -inf\n",
      "[LightGBM] [Warning] No further splits with positive gain, best gain: -inf\n",
      "[LightGBM] [Warning] No further splits with positive gain, best gain: -inf\n",
      "[LightGBM] [Warning] No further splits with positive gain, best gain: -inf\n",
      "[LightGBM] [Warning] No further splits with positive gain, best gain: -inf\n",
      "[LightGBM] [Warning] No further splits with positive gain, best gain: -inf\n",
      "[LightGBM] [Warning] No further splits with positive gain, best gain: -inf\n",
      "[LightGBM] [Warning] No further splits with positive gain, best gain: -inf\n",
      "[LightGBM] [Warning] No further splits with positive gain, best gain: -inf\n",
      "[LightGBM] [Warning] No further splits with positive gain, best gain: -inf\n",
      "[LightGBM] [Warning] No further splits with positive gain, best gain: -inf\n",
      "[LightGBM] [Warning] No further splits with positive gain, best gain: -inf\n",
      "[LightGBM] [Warning] No further splits with positive gain, best gain: -inf\n",
      "[LightGBM] [Warning] No further splits with positive gain, best gain: -inf\n",
      "[LightGBM] [Warning] No further splits with positive gain, best gain: -inf\n",
      "[LightGBM] [Warning] No further splits with positive gain, best gain: -inf\n",
      "[LightGBM] [Warning] No further splits with positive gain, best gain: -inf\n",
      "[LightGBM] [Warning] No further splits with positive gain, best gain: -inf\n",
      "[LightGBM] [Warning] No further splits with positive gain, best gain: -inf\n",
      "[LightGBM] [Warning] No further splits with positive gain, best gain: -inf\n",
      "[LightGBM] [Warning] No further splits with positive gain, best gain: -inf\n",
      "[LightGBM] [Warning] No further splits with positive gain, best gain: -inf\n",
      "[LightGBM] [Warning] No further splits with positive gain, best gain: -inf\n",
      "[LightGBM] [Warning] No further splits with positive gain, best gain: -inf\n",
      "[LightGBM] [Warning] No further splits with positive gain, best gain: -inf\n",
      "[LightGBM] [Warning] No further splits with positive gain, best gain: -inf\n",
      "[LightGBM] [Warning] No further splits with positive gain, best gain: -inf\n",
      "[LightGBM] [Warning] min_data_in_leaf is set=30, min_child_samples=20 will be ignored. Current value: min_data_in_leaf=30\n",
      "[LightGBM] [Warning] min_data_in_leaf is set=30, min_child_samples=20 will be ignored. Current value: min_data_in_leaf=30\n",
      "[LightGBM] [Warning] min_data_in_leaf is set=30, min_child_samples=20 will be ignored. Current value: min_data_in_leaf=30\n",
      "[LightGBM] [Warning] min_data_in_leaf is set=30, min_child_samples=20 will be ignored. Current value: min_data_in_leaf=30\n",
      "\n",
      "====== Models After Hyper Parameter Tuning ======\n"
     ]
    },
    {
     "data": {
      "text/html": [
       "<div>\n",
       "<style scoped>\n",
       "    .dataframe tbody tr th:only-of-type {\n",
       "        vertical-align: middle;\n",
       "    }\n",
       "\n",
       "    .dataframe tbody tr th {\n",
       "        vertical-align: top;\n",
       "    }\n",
       "\n",
       "    .dataframe thead th {\n",
       "        text-align: right;\n",
       "    }\n",
       "</style>\n",
       "<table border=\"1\" class=\"dataframe\">\n",
       "  <thead>\n",
       "    <tr style=\"text-align: right;\">\n",
       "      <th></th>\n",
       "      <th>Model</th>\n",
       "      <th>MAE</th>\n",
       "      <th>MSE</th>\n",
       "      <th>RMSE</th>\n",
       "      <th>RMSLE</th>\n",
       "      <th>R2 Score</th>\n",
       "    </tr>\n",
       "  </thead>\n",
       "  <tbody>\n",
       "    <tr>\n",
       "      <th>0</th>\n",
       "      <td>LightGBM_tuned</td>\n",
       "      <td>4106613.17</td>\n",
       "      <td>75875521106308.09</td>\n",
       "      <td>8710655.61</td>\n",
       "      <td>0.66</td>\n",
       "      <td>0.72</td>\n",
       "    </tr>\n",
       "  </tbody>\n",
       "</table>\n",
       "</div>"
      ],
      "text/plain": [
       "            Model         MAE                MSE        RMSE RMSLE R2 Score\n",
       "0  LightGBM_tuned  4106613.17  75875521106308.09  8710655.61  0.66     0.72"
      ]
     },
     "execution_count": 51,
     "metadata": {},
     "output_type": "execute_result"
    }
   ],
   "source": [
    "lgbm_optuna = LGBMRegressor(**study_lgbm.best_params)\n",
    "model_list([(\"LightGBM_tuned\", lgbm_optuna)], \"After\")"
   ]
  },
  {
   "cell_type": "markdown",
   "metadata": {},
   "source": [
    "#### 튜닝한 모델들 비교"
   ]
  },
  {
   "cell_type": "code",
   "execution_count": 52,
   "metadata": {},
   "outputs": [],
   "source": [
    "models_tuned = models = [\n",
    "    (\"RandomForest_tuned\", rf_optuna),\n",
    "    (\"CatBoost_tuned\", cat_optuna),\n",
    "    (\"LightGBM_tuned\", lgbm_optuna),\n",
    "    (\"XGBoost_tuned\", xgb_optuna)\n",
    "]"
   ]
  },
  {
   "cell_type": "code",
   "execution_count": 53,
   "metadata": {},
   "outputs": [
    {
     "name": "stdout",
     "output_type": "stream",
     "text": [
      "0:\tlearn: 13856822.7590654\ttotal: 8.72ms\tremaining: 9.54s\n",
      "1:\tlearn: 13670479.2237856\ttotal: 18.7ms\tremaining: 10.2s\n",
      "2:\tlearn: 13498347.3467399\ttotal: 29.9ms\tremaining: 10.9s\n",
      "3:\tlearn: 13429007.7501475\ttotal: 31ms\tremaining: 8.47s\n",
      "4:\tlearn: 13266784.3572466\ttotal: 40.2ms\tremaining: 8.75s\n",
      "5:\tlearn: 13099736.5643978\ttotal: 46.3ms\tremaining: 8.4s\n",
      "6:\tlearn: 12925460.8546158\ttotal: 57.2ms\tremaining: 8.9s\n",
      "7:\tlearn: 12751324.0061277\ttotal: 67.2ms\tremaining: 9.13s\n",
      "8:\tlearn: 12581438.0891438\ttotal: 75.3ms\tremaining: 9.09s\n",
      "9:\tlearn: 12443186.1379230\ttotal: 81.1ms\tremaining: 8.8s\n",
      "10:\tlearn: 12316122.2721602\ttotal: 91.7ms\tremaining: 9.04s\n",
      "11:\tlearn: 12183449.9261740\ttotal: 98.2ms\tremaining: 8.86s\n",
      "12:\tlearn: 12021797.6405714\ttotal: 106ms\tremaining: 8.79s\n",
      "13:\tlearn: 11871409.0959851\ttotal: 116ms\tremaining: 8.94s\n",
      "14:\tlearn: 11727153.3623675\ttotal: 123ms\tremaining: 8.85s\n",
      "15:\tlearn: 11590485.6033456\ttotal: 131ms\tremaining: 8.82s\n",
      "16:\tlearn: 11477465.1064354\ttotal: 132ms\tremaining: 8.39s\n",
      "17:\tlearn: 11354292.9199708\ttotal: 139ms\tremaining: 8.34s\n",
      "18:\tlearn: 11225998.6187664\ttotal: 149ms\tremaining: 8.46s\n",
      "19:\tlearn: 11143415.6157140\ttotal: 151ms\tremaining: 8.11s\n",
      "20:\tlearn: 11041008.4150177\ttotal: 160ms\tremaining: 8.19s\n",
      "21:\tlearn: 10919385.3506414\ttotal: 164ms\tremaining: 8s\n",
      "22:\tlearn: 10806762.1869935\ttotal: 174ms\tremaining: 8.12s\n",
      "23:\tlearn: 10728787.0514063\ttotal: 175ms\tremaining: 7.81s\n",
      "24:\tlearn: 10607578.5081753\ttotal: 182ms\tremaining: 7.77s\n",
      "25:\tlearn: 10496326.7816453\ttotal: 192ms\tremaining: 7.9s\n",
      "26:\tlearn: 10384631.3862785\ttotal: 204ms\tremaining: 8.06s\n",
      "27:\tlearn: 10279163.4517283\ttotal: 214ms\tremaining: 8.16s\n",
      "28:\tlearn: 10177067.2655759\ttotal: 225ms\tremaining: 8.26s\n",
      "29:\tlearn: 10072835.2890586\ttotal: 236ms\tremaining: 8.39s\n",
      "30:\tlearn: 10047304.7214966\ttotal: 237ms\tremaining: 8.15s\n",
      "31:\tlearn: 9936414.3463712\ttotal: 248ms\tremaining: 8.25s\n",
      "32:\tlearn: 9833889.9800542\ttotal: 257ms\tremaining: 8.28s\n",
      "33:\tlearn: 9737519.6397799\ttotal: 266ms\tremaining: 8.29s\n",
      "34:\tlearn: 9631528.1006973\ttotal: 273ms\tremaining: 8.26s\n",
      "35:\tlearn: 9547620.9492340\ttotal: 279ms\tremaining: 8.22s\n",
      "36:\tlearn: 9472292.6271685\ttotal: 282ms\tremaining: 8.05s\n",
      "37:\tlearn: 9388577.8734816\ttotal: 287ms\tremaining: 7.98s\n",
      "38:\tlearn: 9301358.4584071\ttotal: 297ms\tremaining: 8.04s\n",
      "39:\tlearn: 9219147.3957207\ttotal: 306ms\tremaining: 8.08s\n",
      "40:\tlearn: 9133983.1169234\ttotal: 315ms\tremaining: 8.11s\n",
      "41:\tlearn: 9051889.4747011\ttotal: 322ms\tremaining: 8.07s\n",
      "42:\tlearn: 8984120.5806311\ttotal: 323ms\tremaining: 7.91s\n",
      "43:\tlearn: 8907550.4636055\ttotal: 332ms\tremaining: 7.93s\n",
      "44:\tlearn: 8838509.8847517\ttotal: 335ms\tremaining: 7.83s\n",
      "45:\tlearn: 8759711.8153126\ttotal: 344ms\tremaining: 7.84s\n",
      "46:\tlearn: 8681258.0074907\ttotal: 354ms\tremaining: 7.89s\n",
      "47:\tlearn: 8606232.7218236\ttotal: 359ms\tremaining: 7.83s\n",
      "48:\tlearn: 8546899.4135017\ttotal: 365ms\tremaining: 7.8s\n",
      "49:\tlearn: 8482968.6683074\ttotal: 370ms\tremaining: 7.74s\n",
      "50:\tlearn: 8418563.3277586\ttotal: 380ms\tremaining: 7.78s\n",
      "51:\tlearn: 8358828.9430590\ttotal: 390ms\tremaining: 7.81s\n",
      "52:\tlearn: 8298571.3686704\ttotal: 395ms\tremaining: 7.76s\n",
      "53:\tlearn: 8257892.4084077\ttotal: 402ms\tremaining: 7.75s\n",
      "54:\tlearn: 8201189.6459415\ttotal: 412ms\tremaining: 7.79s\n",
      "55:\tlearn: 8148027.9237044\ttotal: 415ms\tremaining: 7.7s\n",
      "56:\tlearn: 8095662.2570537\ttotal: 424ms\tremaining: 7.71s\n",
      "57:\tlearn: 8047148.1196889\ttotal: 431ms\tremaining: 7.71s\n",
      "58:\tlearn: 7991746.8281301\ttotal: 442ms\tremaining: 7.76s\n",
      "59:\tlearn: 7940298.2453216\ttotal: 447ms\tremaining: 7.71s\n",
      "60:\tlearn: 7880835.3007907\ttotal: 456ms\tremaining: 7.74s\n",
      "61:\tlearn: 7880715.9514649\ttotal: 457ms\tremaining: 7.62s\n",
      "62:\tlearn: 7834974.3652116\ttotal: 464ms\tremaining: 7.6s\n",
      "63:\tlearn: 7787098.2957394\ttotal: 471ms\tremaining: 7.59s\n",
      "64:\tlearn: 7741725.9795091\ttotal: 482ms\tremaining: 7.63s\n",
      "65:\tlearn: 7699037.9504776\ttotal: 488ms\tremaining: 7.61s\n",
      "66:\tlearn: 7661962.6240367\ttotal: 490ms\tremaining: 7.52s\n",
      "67:\tlearn: 7620457.7344777\ttotal: 498ms\tremaining: 7.51s\n",
      "68:\tlearn: 7578782.9320073\ttotal: 507ms\tremaining: 7.54s\n",
      "69:\tlearn: 7533514.2538775\ttotal: 517ms\tremaining: 7.57s\n",
      "70:\tlearn: 7492853.6999226\ttotal: 528ms\tremaining: 7.62s\n",
      "71:\tlearn: 7452486.5104794\ttotal: 538ms\tremaining: 7.64s\n",
      "72:\tlearn: 7414700.0984728\ttotal: 544ms\tremaining: 7.61s\n",
      "73:\tlearn: 7372804.2204917\ttotal: 554ms\tremaining: 7.64s\n",
      "74:\tlearn: 7338429.1101561\ttotal: 564ms\tremaining: 7.67s\n",
      "75:\tlearn: 7296439.7558819\ttotal: 571ms\tremaining: 7.66s\n",
      "76:\tlearn: 7260008.1964523\ttotal: 573ms\tremaining: 7.58s\n",
      "77:\tlearn: 7224821.3760031\ttotal: 582ms\tremaining: 7.59s\n",
      "78:\tlearn: 7189917.8004554\ttotal: 591ms\tremaining: 7.6s\n",
      "79:\tlearn: 7156497.0268721\ttotal: 598ms\tremaining: 7.59s\n",
      "80:\tlearn: 7122617.8858221\ttotal: 609ms\tremaining: 7.62s\n",
      "81:\tlearn: 7117761.2776138\ttotal: 610ms\tremaining: 7.53s\n",
      "82:\tlearn: 7084308.2564914\ttotal: 618ms\tremaining: 7.53s\n",
      "83:\tlearn: 7050986.8389380\ttotal: 624ms\tremaining: 7.5s\n",
      "84:\tlearn: 7014633.0519533\ttotal: 629ms\tremaining: 7.47s\n",
      "85:\tlearn: 6983280.5813565\ttotal: 634ms\tremaining: 7.43s\n",
      "86:\tlearn: 6952024.5602372\ttotal: 638ms\tremaining: 7.39s\n",
      "87:\tlearn: 6922897.5650478\ttotal: 648ms\tremaining: 7.42s\n",
      "88:\tlearn: 6892385.8423885\ttotal: 659ms\tremaining: 7.45s\n",
      "89:\tlearn: 6892284.6553061\ttotal: 660ms\tremaining: 7.37s\n",
      "90:\tlearn: 6875472.0343974\ttotal: 661ms\tremaining: 7.3s\n",
      "91:\tlearn: 6846288.0787608\ttotal: 670ms\tremaining: 7.3s\n",
      "92:\tlearn: 6846195.5655429\ttotal: 671ms\tremaining: 7.23s\n",
      "93:\tlearn: 6813383.0121428\ttotal: 681ms\tremaining: 7.26s\n",
      "94:\tlearn: 6786268.0684505\ttotal: 688ms\tremaining: 7.24s\n",
      "95:\tlearn: 6756402.1446878\ttotal: 695ms\tremaining: 7.23s\n",
      "96:\tlearn: 6731262.8036424\ttotal: 704ms\tremaining: 7.24s\n",
      "97:\tlearn: 6702958.6092244\ttotal: 714ms\tremaining: 7.27s\n",
      "98:\tlearn: 6674071.3182255\ttotal: 723ms\tremaining: 7.28s\n",
      "99:\tlearn: 6642476.7944192\ttotal: 731ms\tremaining: 7.27s\n",
      "100:\tlearn: 6615556.2031703\ttotal: 741ms\tremaining: 7.29s\n",
      "101:\tlearn: 6601820.4621191\ttotal: 743ms\tremaining: 7.23s\n",
      "102:\tlearn: 6580193.1358172\ttotal: 749ms\tremaining: 7.21s\n",
      "103:\tlearn: 6559912.3391338\ttotal: 752ms\tremaining: 7.17s\n",
      "104:\tlearn: 6541444.8656156\ttotal: 760ms\tremaining: 7.17s\n",
      "105:\tlearn: 6520525.1755791\ttotal: 769ms\tremaining: 7.17s\n",
      "106:\tlearn: 6520446.3823989\ttotal: 770ms\tremaining: 7.11s\n",
      "107:\tlearn: 6498381.8821524\ttotal: 777ms\tremaining: 7.1s\n",
      "108:\tlearn: 6474277.2512836\ttotal: 786ms\tremaining: 7.11s\n",
      "109:\tlearn: 6452835.3607850\ttotal: 795ms\tremaining: 7.12s\n",
      "110:\tlearn: 6435015.7566888\ttotal: 802ms\tremaining: 7.11s\n",
      "111:\tlearn: 6415564.9171323\ttotal: 807ms\tremaining: 7.08s\n",
      "112:\tlearn: 6393299.9438161\ttotal: 818ms\tremaining: 7.11s\n",
      "113:\tlearn: 6367822.4269227\ttotal: 828ms\tremaining: 7.13s\n",
      "114:\tlearn: 6347496.5479157\ttotal: 837ms\tremaining: 7.13s\n",
      "115:\tlearn: 6324316.7484791\ttotal: 845ms\tremaining: 7.13s\n",
      "116:\tlearn: 6323933.6400820\ttotal: 846ms\tremaining: 7.07s\n",
      "117:\tlearn: 6307325.5020386\ttotal: 855ms\tremaining: 7.08s\n",
      "118:\tlearn: 6290165.3027957\ttotal: 866ms\tremaining: 7.1s\n",
      "119:\tlearn: 6270142.7972744\ttotal: 874ms\tremaining: 7.1s\n",
      "120:\tlearn: 6252253.6333167\ttotal: 883ms\tremaining: 7.11s\n",
      "121:\tlearn: 6235820.9321769\ttotal: 890ms\tremaining: 7.1s\n",
      "122:\tlearn: 6219152.8703933\ttotal: 900ms\tremaining: 7.11s\n",
      "123:\tlearn: 6199395.2511994\ttotal: 909ms\tremaining: 7.12s\n",
      "124:\tlearn: 6181775.1746900\ttotal: 917ms\tremaining: 7.11s\n",
      "125:\tlearn: 6166795.6864665\ttotal: 919ms\tremaining: 7.07s\n",
      "126:\tlearn: 6154859.2843962\ttotal: 922ms\tremaining: 7.02s\n",
      "127:\tlearn: 6139209.0971475\ttotal: 932ms\tremaining: 7.04s\n",
      "128:\tlearn: 6125540.8390185\ttotal: 942ms\tremaining: 7.05s\n",
      "129:\tlearn: 6108040.9851964\ttotal: 952ms\tremaining: 7.07s\n",
      "130:\tlearn: 6094245.0396626\ttotal: 959ms\tremaining: 7.06s\n",
      "131:\tlearn: 6082958.9061896\ttotal: 968ms\tremaining: 7.06s\n",
      "132:\tlearn: 6066506.6935878\ttotal: 980ms\tremaining: 7.08s\n",
      "133:\tlearn: 6054811.4588815\ttotal: 989ms\tremaining: 7.09s\n",
      "134:\tlearn: 6041980.4943599\ttotal: 999ms\tremaining: 7.11s\n",
      "135:\tlearn: 6027505.1767189\ttotal: 1.01s\tremaining: 7.09s\n",
      "136:\tlearn: 6010810.3766540\ttotal: 1.01s\tremaining: 7.09s\n",
      "137:\tlearn: 5997505.6503452\ttotal: 1.02s\tremaining: 7.11s\n",
      "138:\tlearn: 5983643.4050218\ttotal: 1.03s\tremaining: 7.09s\n",
      "139:\tlearn: 5971424.6069696\ttotal: 1.04s\tremaining: 7.09s\n",
      "140:\tlearn: 5966111.3328316\ttotal: 1.04s\tremaining: 7.04s\n",
      "141:\tlearn: 5946390.3792734\ttotal: 1.05s\tremaining: 7.05s\n",
      "142:\tlearn: 5932691.0390147\ttotal: 1.06s\tremaining: 7.06s\n",
      "143:\tlearn: 5923376.6450005\ttotal: 1.07s\tremaining: 7.05s\n",
      "144:\tlearn: 5907813.7288080\ttotal: 1.08s\tremaining: 7.07s\n",
      "145:\tlearn: 5896326.5472022\ttotal: 1.09s\tremaining: 7.07s\n",
      "146:\tlearn: 5882337.3199710\ttotal: 1.1s\tremaining: 7.07s\n",
      "147:\tlearn: 5868595.0373996\ttotal: 1.1s\tremaining: 7.07s\n",
      "148:\tlearn: 5857252.2045207\ttotal: 1.11s\tremaining: 7.07s\n",
      "149:\tlearn: 5846073.1270783\ttotal: 1.12s\tremaining: 7.08s\n",
      "150:\tlearn: 5836240.1709661\ttotal: 1.13s\tremaining: 7.08s\n",
      "151:\tlearn: 5824489.4441400\ttotal: 1.14s\tremaining: 7.06s\n",
      "152:\tlearn: 5810850.3686500\ttotal: 1.15s\tremaining: 7.06s\n",
      "153:\tlearn: 5799516.1459950\ttotal: 1.16s\tremaining: 7.07s\n",
      "154:\tlearn: 5788913.1800168\ttotal: 1.17s\tremaining: 7.07s\n",
      "155:\tlearn: 5777258.8409793\ttotal: 1.18s\tremaining: 7.08s\n",
      "156:\tlearn: 5763826.8233851\ttotal: 1.18s\tremaining: 7.08s\n",
      "157:\tlearn: 5755347.9146849\ttotal: 1.19s\tremaining: 7.07s\n",
      "158:\tlearn: 5744742.5501855\ttotal: 1.2s\tremaining: 7.08s\n",
      "159:\tlearn: 5732553.3796497\ttotal: 1.21s\tremaining: 7.09s\n",
      "160:\tlearn: 5728081.5089058\ttotal: 1.21s\tremaining: 7.04s\n",
      "161:\tlearn: 5726209.1227321\ttotal: 1.22s\tremaining: 7s\n",
      "162:\tlearn: 5715595.5432479\ttotal: 1.22s\tremaining: 6.97s\n",
      "163:\tlearn: 5708525.2331623\ttotal: 1.22s\tremaining: 6.94s\n",
      "164:\tlearn: 5694318.7587982\ttotal: 1.23s\tremaining: 6.95s\n",
      "165:\tlearn: 5685967.0391110\ttotal: 1.24s\tremaining: 6.92s\n",
      "166:\tlearn: 5679525.8542279\ttotal: 1.25s\tremaining: 6.93s\n",
      "167:\tlearn: 5669626.5463292\ttotal: 1.26s\tremaining: 6.93s\n",
      "168:\tlearn: 5657429.1648430\ttotal: 1.26s\tremaining: 6.93s\n",
      "169:\tlearn: 5648110.1045178\ttotal: 1.27s\tremaining: 6.93s\n",
      "170:\tlearn: 5637838.6520111\ttotal: 1.28s\tremaining: 6.93s\n",
      "171:\tlearn: 5626047.7840808\ttotal: 1.29s\tremaining: 6.94s\n",
      "172:\tlearn: 5623496.9741393\ttotal: 1.29s\tremaining: 6.9s\n",
      "173:\tlearn: 5618801.4687352\ttotal: 1.3s\tremaining: 6.86s\n",
      "174:\tlearn: 5611888.5599164\ttotal: 1.3s\tremaining: 6.85s\n",
      "175:\tlearn: 5605083.5008402\ttotal: 1.31s\tremaining: 6.84s\n",
      "176:\tlearn: 5595575.0519493\ttotal: 1.31s\tremaining: 6.82s\n",
      "177:\tlearn: 5586842.0964767\ttotal: 1.32s\tremaining: 6.81s\n",
      "178:\tlearn: 5585129.8881851\ttotal: 1.32s\tremaining: 6.77s\n",
      "179:\tlearn: 5573176.3726155\ttotal: 1.33s\tremaining: 6.79s\n",
      "180:\tlearn: 5568231.6417756\ttotal: 1.34s\tremaining: 6.76s\n",
      "181:\tlearn: 5560197.1571540\ttotal: 1.34s\tremaining: 6.74s\n",
      "182:\tlearn: 5552314.3726803\ttotal: 1.35s\tremaining: 6.72s\n",
      "183:\tlearn: 5547708.3730803\ttotal: 1.35s\tremaining: 6.69s\n",
      "184:\tlearn: 5540314.5472705\ttotal: 1.36s\tremaining: 6.71s\n",
      "185:\tlearn: 5526899.4513385\ttotal: 1.38s\tremaining: 6.72s\n",
      "186:\tlearn: 5521171.1988268\ttotal: 1.39s\tremaining: 6.73s\n",
      "187:\tlearn: 5514740.4294680\ttotal: 1.39s\tremaining: 6.73s\n",
      "188:\tlearn: 5504903.8935657\ttotal: 1.4s\tremaining: 6.72s\n",
      "189:\tlearn: 5495092.4434582\ttotal: 1.41s\tremaining: 6.73s\n",
      "190:\tlearn: 5485978.1761991\ttotal: 1.42s\tremaining: 6.71s\n",
      "191:\tlearn: 5475757.8461067\ttotal: 1.43s\tremaining: 6.72s\n",
      "192:\tlearn: 5461594.3749980\ttotal: 1.44s\tremaining: 6.73s\n",
      "193:\tlearn: 5455748.8450604\ttotal: 1.45s\tremaining: 6.73s\n",
      "194:\tlearn: 5446578.0735239\ttotal: 1.46s\tremaining: 6.73s\n",
      "195:\tlearn: 5438647.9718501\ttotal: 1.47s\tremaining: 6.73s\n",
      "196:\tlearn: 5428724.7341190\ttotal: 1.48s\tremaining: 6.74s\n",
      "197:\tlearn: 5419563.3324426\ttotal: 1.49s\tremaining: 6.75s\n",
      "198:\tlearn: 5412856.9897337\ttotal: 1.5s\tremaining: 6.75s\n",
      "199:\tlearn: 5405446.6850763\ttotal: 1.51s\tremaining: 6.75s\n",
      "200:\tlearn: 5401465.9249158\ttotal: 1.51s\tremaining: 6.71s\n",
      "201:\tlearn: 5392745.2887890\ttotal: 1.52s\tremaining: 6.72s\n",
      "202:\tlearn: 5391306.5964105\ttotal: 1.52s\tremaining: 6.68s\n",
      "203:\tlearn: 5385978.9304044\ttotal: 1.53s\tremaining: 6.67s\n",
      "204:\tlearn: 5385963.4135942\ttotal: 1.53s\tremaining: 6.64s\n",
      "205:\tlearn: 5380840.3354915\ttotal: 1.54s\tremaining: 6.64s\n",
      "206:\tlearn: 5379443.2990550\ttotal: 1.54s\tremaining: 6.6s\n",
      "207:\tlearn: 5369511.8195241\ttotal: 1.55s\tremaining: 6.6s\n",
      "208:\tlearn: 5366111.7540785\ttotal: 1.55s\tremaining: 6.58s\n",
      "209:\tlearn: 5360279.9054244\ttotal: 1.56s\tremaining: 6.57s\n",
      "210:\tlearn: 5354337.0327386\ttotal: 1.57s\tremaining: 6.57s\n",
      "211:\tlearn: 5350962.7764105\ttotal: 1.57s\tremaining: 6.55s\n",
      "212:\tlearn: 5346870.8675263\ttotal: 1.58s\tremaining: 6.55s\n",
      "213:\tlearn: 5337145.1614055\ttotal: 1.59s\tremaining: 6.54s\n",
      "214:\tlearn: 5332128.2408899\ttotal: 1.6s\tremaining: 6.54s\n",
      "215:\tlearn: 5324832.4014162\ttotal: 1.6s\tremaining: 6.53s\n",
      "216:\tlearn: 5317279.0999269\ttotal: 1.61s\tremaining: 6.53s\n",
      "217:\tlearn: 5311918.1307569\ttotal: 1.62s\tremaining: 6.51s\n",
      "218:\tlearn: 5307777.2189861\ttotal: 1.63s\tremaining: 6.5s\n",
      "219:\tlearn: 5303225.5760063\ttotal: 1.63s\tremaining: 6.5s\n",
      "220:\tlearn: 5292310.5221929\ttotal: 1.64s\tremaining: 6.47s\n",
      "221:\tlearn: 5284153.3451968\ttotal: 1.64s\tremaining: 6.46s\n",
      "222:\tlearn: 5273951.2786293\ttotal: 1.65s\tremaining: 6.45s\n",
      "223:\tlearn: 5268230.2226516\ttotal: 1.66s\tremaining: 6.44s\n",
      "224:\tlearn: 5260434.1223719\ttotal: 1.67s\tremaining: 6.44s\n",
      "225:\tlearn: 5257876.2055547\ttotal: 1.67s\tremaining: 6.42s\n",
      "226:\tlearn: 5254750.2506495\ttotal: 1.67s\tremaining: 6.39s\n",
      "227:\tlearn: 5247420.9160508\ttotal: 1.68s\tremaining: 6.39s\n",
      "228:\tlearn: 5238974.1535686\ttotal: 1.69s\tremaining: 6.4s\n",
      "229:\tlearn: 5234888.3351339\ttotal: 1.7s\tremaining: 6.39s\n",
      "230:\tlearn: 5228104.7673165\ttotal: 1.71s\tremaining: 6.38s\n",
      "231:\tlearn: 5221529.5451317\ttotal: 1.71s\tremaining: 6.37s\n",
      "232:\tlearn: 5214265.1412019\ttotal: 1.72s\tremaining: 6.36s\n",
      "233:\tlearn: 5207330.5483904\ttotal: 1.73s\tremaining: 6.37s\n",
      "234:\tlearn: 5200766.5897657\ttotal: 1.74s\tremaining: 6.36s\n",
      "235:\tlearn: 5197062.8742581\ttotal: 1.75s\tremaining: 6.36s\n",
      "236:\tlearn: 5196044.4369164\ttotal: 1.75s\tremaining: 6.33s\n",
      "237:\tlearn: 5188607.9132600\ttotal: 1.75s\tremaining: 6.31s\n",
      "238:\tlearn: 5182589.7482050\ttotal: 1.76s\tremaining: 6.3s\n",
      "239:\tlearn: 5176097.7189996\ttotal: 1.77s\tremaining: 6.3s\n",
      "240:\tlearn: 5172530.7485687\ttotal: 1.78s\tremaining: 6.29s\n",
      "241:\tlearn: 5168800.4059134\ttotal: 1.79s\tremaining: 6.3s\n",
      "242:\tlearn: 5163389.0452533\ttotal: 1.8s\tremaining: 6.3s\n",
      "243:\tlearn: 5159225.7838923\ttotal: 1.8s\tremaining: 6.29s\n",
      "244:\tlearn: 5154318.2360798\ttotal: 1.81s\tremaining: 6.28s\n",
      "245:\tlearn: 5151346.7314126\ttotal: 1.82s\tremaining: 6.28s\n",
      "246:\tlearn: 5145543.0098282\ttotal: 1.83s\tremaining: 6.29s\n",
      "247:\tlearn: 5144516.1313903\ttotal: 1.83s\tremaining: 6.26s\n",
      "248:\tlearn: 5141413.9073783\ttotal: 1.84s\tremaining: 6.25s\n",
      "249:\tlearn: 5135287.3285714\ttotal: 1.85s\tremaining: 6.26s\n",
      "250:\tlearn: 5134593.8103915\ttotal: 1.85s\tremaining: 6.23s\n",
      "251:\tlearn: 5130972.5262382\ttotal: 1.86s\tremaining: 6.21s\n",
      "252:\tlearn: 5124017.3336116\ttotal: 1.87s\tremaining: 6.22s\n",
      "253:\tlearn: 5122633.8217960\ttotal: 1.87s\tremaining: 6.19s\n",
      "254:\tlearn: 5118231.1229498\ttotal: 1.88s\tremaining: 6.19s\n",
      "255:\tlearn: 5109119.2845797\ttotal: 1.89s\tremaining: 6.2s\n",
      "256:\tlearn: 5101854.8888080\ttotal: 1.9s\tremaining: 6.2s\n",
      "257:\tlearn: 5096572.4823811\ttotal: 1.91s\tremaining: 6.2s\n",
      "258:\tlearn: 5091490.2015696\ttotal: 1.92s\tremaining: 6.18s\n",
      "259:\tlearn: 5085975.6662214\ttotal: 1.93s\tremaining: 6.19s\n",
      "260:\tlearn: 5081851.7482549\ttotal: 1.94s\tremaining: 6.19s\n",
      "261:\tlearn: 5078279.2188159\ttotal: 1.95s\tremaining: 6.19s\n",
      "262:\tlearn: 5077140.2442159\ttotal: 1.95s\tremaining: 6.16s\n",
      "263:\tlearn: 5074886.2367374\ttotal: 1.96s\tremaining: 6.15s\n",
      "264:\tlearn: 5068477.2930462\ttotal: 1.96s\tremaining: 6.15s\n",
      "265:\tlearn: 5068043.3349355\ttotal: 1.96s\tremaining: 6.12s\n",
      "266:\tlearn: 5061225.6770486\ttotal: 1.97s\tremaining: 6.11s\n",
      "267:\tlearn: 5054541.1615022\ttotal: 1.98s\tremaining: 6.1s\n",
      "268:\tlearn: 5049560.4189146\ttotal: 1.98s\tremaining: 6.09s\n",
      "269:\tlearn: 5044792.3565479\ttotal: 1.99s\tremaining: 6.09s\n",
      "270:\tlearn: 5040771.9487477\ttotal: 2s\tremaining: 6.08s\n",
      "271:\tlearn: 5035280.7718066\ttotal: 2.01s\tremaining: 6.08s\n",
      "272:\tlearn: 5027073.4427169\ttotal: 2.02s\tremaining: 6.08s\n",
      "273:\tlearn: 5019379.3922158\ttotal: 2.03s\tremaining: 6.07s\n",
      "274:\tlearn: 5012819.2352219\ttotal: 2.04s\tremaining: 6.07s\n",
      "275:\tlearn: 5008873.7830915\ttotal: 2.04s\tremaining: 6.07s\n",
      "276:\tlearn: 5008668.7004689\ttotal: 2.04s\tremaining: 6.04s\n",
      "277:\tlearn: 5005167.0337488\ttotal: 2.05s\tremaining: 6.03s\n",
      "278:\tlearn: 4999660.1132291\ttotal: 2.06s\tremaining: 6.03s\n",
      "279:\tlearn: 4999133.4591554\ttotal: 2.06s\tremaining: 6s\n",
      "280:\tlearn: 4992873.3872780\ttotal: 2.07s\tremaining: 6s\n",
      "281:\tlearn: 4988099.9822184\ttotal: 2.08s\tremaining: 6s\n",
      "282:\tlearn: 4979221.8163867\ttotal: 2.09s\tremaining: 5.99s\n",
      "283:\tlearn: 4975890.6053507\ttotal: 2.1s\tremaining: 5.99s\n",
      "284:\tlearn: 4970334.6442438\ttotal: 2.11s\tremaining: 5.99s\n",
      "285:\tlearn: 4966508.1526816\ttotal: 2.12s\tremaining: 5.99s\n",
      "286:\tlearn: 4963516.8111910\ttotal: 2.13s\tremaining: 5.99s\n",
      "287:\tlearn: 4963513.6925064\ttotal: 2.13s\tremaining: 5.96s\n",
      "288:\tlearn: 4959685.3565612\ttotal: 2.13s\tremaining: 5.95s\n",
      "289:\tlearn: 4955323.7441159\ttotal: 2.14s\tremaining: 5.95s\n",
      "290:\tlearn: 4951384.4669095\ttotal: 2.15s\tremaining: 5.95s\n",
      "291:\tlearn: 4951036.0355619\ttotal: 2.15s\tremaining: 5.92s\n",
      "292:\tlearn: 4947819.6145099\ttotal: 2.16s\tremaining: 5.91s\n",
      "293:\tlearn: 4943304.5608297\ttotal: 2.17s\tremaining: 5.9s\n",
      "294:\tlearn: 4939554.0732865\ttotal: 2.17s\tremaining: 5.89s\n",
      "295:\tlearn: 4938224.9832429\ttotal: 2.17s\tremaining: 5.87s\n",
      "296:\tlearn: 4938212.2885047\ttotal: 2.18s\tremaining: 5.85s\n",
      "297:\tlearn: 4933468.7859289\ttotal: 2.19s\tremaining: 5.85s\n",
      "298:\tlearn: 4933291.4165363\ttotal: 2.19s\tremaining: 5.82s\n",
      "299:\tlearn: 4931859.1123720\ttotal: 2.19s\tremaining: 5.8s\n",
      "300:\tlearn: 4927472.4854666\ttotal: 2.2s\tremaining: 5.8s\n",
      "301:\tlearn: 4923414.8673883\ttotal: 2.21s\tremaining: 5.79s\n",
      "302:\tlearn: 4917487.7993838\ttotal: 2.22s\tremaining: 5.79s\n",
      "303:\tlearn: 4913902.8663501\ttotal: 2.22s\tremaining: 5.79s\n",
      "304:\tlearn: 4912552.9849789\ttotal: 2.23s\tremaining: 5.79s\n",
      "305:\tlearn: 4909771.1167548\ttotal: 2.25s\tremaining: 5.79s\n",
      "306:\tlearn: 4905719.5547378\ttotal: 2.26s\tremaining: 5.79s\n",
      "307:\tlearn: 4901725.7821526\ttotal: 2.27s\tremaining: 5.8s\n",
      "308:\tlearn: 4898261.1218188\ttotal: 2.27s\tremaining: 5.79s\n",
      "309:\tlearn: 4895343.6764547\ttotal: 2.29s\tremaining: 5.79s\n",
      "310:\tlearn: 4891039.9582017\ttotal: 2.29s\tremaining: 5.78s\n",
      "311:\tlearn: 4884002.7307521\ttotal: 2.3s\tremaining: 5.78s\n",
      "312:\tlearn: 4879436.3476878\ttotal: 2.31s\tremaining: 5.78s\n",
      "313:\tlearn: 4877130.4457572\ttotal: 2.32s\tremaining: 5.78s\n",
      "314:\tlearn: 4872835.5296288\ttotal: 2.33s\tremaining: 5.77s\n",
      "315:\tlearn: 4868989.6145847\ttotal: 2.33s\tremaining: 5.76s\n",
      "316:\tlearn: 4862527.8536585\ttotal: 2.34s\tremaining: 5.75s\n",
      "317:\tlearn: 4856693.9862801\ttotal: 2.35s\tremaining: 5.75s\n",
      "318:\tlearn: 4852730.4046148\ttotal: 2.36s\tremaining: 5.74s\n",
      "319:\tlearn: 4848417.8655352\ttotal: 2.37s\tremaining: 5.74s\n",
      "320:\tlearn: 4848416.1629353\ttotal: 2.37s\tremaining: 5.71s\n",
      "321:\tlearn: 4846199.1924889\ttotal: 2.38s\tremaining: 5.71s\n",
      "322:\tlearn: 4839470.2139099\ttotal: 2.39s\tremaining: 5.71s\n",
      "323:\tlearn: 4838831.6898473\ttotal: 2.39s\tremaining: 5.69s\n",
      "324:\tlearn: 4836550.8765375\ttotal: 2.4s\tremaining: 5.68s\n",
      "325:\tlearn: 4831265.5783744\ttotal: 2.41s\tremaining: 5.68s\n",
      "326:\tlearn: 4829297.6201645\ttotal: 2.42s\tremaining: 5.68s\n",
      "327:\tlearn: 4822035.0310217\ttotal: 2.43s\tremaining: 5.68s\n",
      "328:\tlearn: 4818427.4342836\ttotal: 2.43s\tremaining: 5.66s\n",
      "329:\tlearn: 4814194.6564353\ttotal: 2.44s\tremaining: 5.66s\n",
      "330:\tlearn: 4812164.9557168\ttotal: 2.44s\tremaining: 5.64s\n",
      "331:\tlearn: 4811326.3975431\ttotal: 2.45s\tremaining: 5.62s\n",
      "332:\tlearn: 4809495.9318188\ttotal: 2.46s\tremaining: 5.62s\n",
      "333:\tlearn: 4807123.5965825\ttotal: 2.46s\tremaining: 5.61s\n",
      "334:\tlearn: 4800715.3414335\ttotal: 2.47s\tremaining: 5.6s\n",
      "335:\tlearn: 4797799.7262429\ttotal: 2.48s\tremaining: 5.59s\n",
      "336:\tlearn: 4794681.0340677\ttotal: 2.48s\tremaining: 5.59s\n",
      "337:\tlearn: 4789935.4135919\ttotal: 2.49s\tremaining: 5.58s\n",
      "338:\tlearn: 4786396.7081449\ttotal: 2.5s\tremaining: 5.58s\n",
      "339:\tlearn: 4781497.1647991\ttotal: 2.51s\tremaining: 5.58s\n",
      "340:\tlearn: 4777777.1274151\ttotal: 2.52s\tremaining: 5.57s\n",
      "341:\tlearn: 4775331.8092466\ttotal: 2.52s\tremaining: 5.56s\n",
      "342:\tlearn: 4772369.9637465\ttotal: 2.54s\tremaining: 5.56s\n",
      "343:\tlearn: 4767003.6473125\ttotal: 2.54s\tremaining: 5.55s\n",
      "344:\tlearn: 4760715.2176585\ttotal: 2.55s\tremaining: 5.54s\n",
      "345:\tlearn: 4758466.1436123\ttotal: 2.56s\tremaining: 5.54s\n",
      "346:\tlearn: 4756657.6238141\ttotal: 2.57s\tremaining: 5.54s\n",
      "347:\tlearn: 4752969.2901148\ttotal: 2.57s\tremaining: 5.52s\n",
      "348:\tlearn: 4752791.3227721\ttotal: 2.57s\tremaining: 5.5s\n",
      "349:\tlearn: 4749571.9460452\ttotal: 2.58s\tremaining: 5.5s\n",
      "350:\tlearn: 4746010.4747156\ttotal: 2.59s\tremaining: 5.5s\n",
      "351:\tlearn: 4738581.8127548\ttotal: 2.6s\tremaining: 5.49s\n",
      "352:\tlearn: 4738443.3502687\ttotal: 2.6s\tremaining: 5.47s\n",
      "353:\tlearn: 4734255.7775300\ttotal: 2.61s\tremaining: 5.47s\n",
      "354:\tlearn: 4732366.1521022\ttotal: 2.62s\tremaining: 5.45s\n",
      "355:\tlearn: 4727539.7482593\ttotal: 2.62s\tremaining: 5.44s\n",
      "356:\tlearn: 4723625.6186067\ttotal: 2.63s\tremaining: 5.44s\n",
      "357:\tlearn: 4721200.2742665\ttotal: 2.64s\tremaining: 5.43s\n",
      "358:\tlearn: 4716165.8994207\ttotal: 2.65s\tremaining: 5.43s\n",
      "359:\tlearn: 4714025.0198387\ttotal: 2.66s\tremaining: 5.42s\n",
      "360:\tlearn: 4711393.5346234\ttotal: 2.67s\tremaining: 5.42s\n",
      "361:\tlearn: 4706269.9844298\ttotal: 2.67s\tremaining: 5.41s\n",
      "362:\tlearn: 4702014.8483422\ttotal: 2.68s\tremaining: 5.41s\n",
      "363:\tlearn: 4701866.8431484\ttotal: 2.68s\tremaining: 5.39s\n",
      "364:\tlearn: 4699104.7789202\ttotal: 2.69s\tremaining: 5.38s\n",
      "365:\tlearn: 4696570.0198796\ttotal: 2.69s\tremaining: 5.37s\n",
      "366:\tlearn: 4693010.8818105\ttotal: 2.7s\tremaining: 5.36s\n",
      "367:\tlearn: 4692981.7560006\ttotal: 2.7s\tremaining: 5.34s\n",
      "368:\tlearn: 4689006.2590680\ttotal: 2.71s\tremaining: 5.33s\n",
      "369:\tlearn: 4683084.2925612\ttotal: 2.72s\tremaining: 5.33s\n",
      "370:\tlearn: 4679896.1866444\ttotal: 2.73s\tremaining: 5.33s\n",
      "371:\tlearn: 4673569.2361637\ttotal: 2.74s\tremaining: 5.32s\n",
      "372:\tlearn: 4666372.3479152\ttotal: 2.75s\tremaining: 5.32s\n",
      "373:\tlearn: 4665549.9579912\ttotal: 2.75s\tremaining: 5.3s\n",
      "374:\tlearn: 4664009.8717367\ttotal: 2.76s\tremaining: 5.3s\n",
      "375:\tlearn: 4660758.8808607\ttotal: 2.77s\tremaining: 5.29s\n",
      "376:\tlearn: 4656739.3772205\ttotal: 2.77s\tremaining: 5.29s\n",
      "377:\tlearn: 4653886.3012700\ttotal: 2.79s\tremaining: 5.28s\n",
      "378:\tlearn: 4650860.1288828\ttotal: 2.79s\tremaining: 5.28s\n",
      "379:\tlearn: 4647427.0515849\ttotal: 2.8s\tremaining: 5.27s\n",
      "380:\tlearn: 4647320.1548209\ttotal: 2.8s\tremaining: 5.25s\n",
      "381:\tlearn: 4644608.3001027\ttotal: 2.81s\tremaining: 5.25s\n",
      "382:\tlearn: 4641405.8614188\ttotal: 2.82s\tremaining: 5.24s\n",
      "383:\tlearn: 4640968.7662638\ttotal: 2.82s\tremaining: 5.23s\n",
      "384:\tlearn: 4634261.5544195\ttotal: 2.83s\tremaining: 5.22s\n",
      "385:\tlearn: 4634182.8453425\ttotal: 2.83s\tremaining: 5.2s\n",
      "386:\tlearn: 4628929.8562054\ttotal: 2.84s\tremaining: 5.2s\n",
      "387:\tlearn: 4625367.8705056\ttotal: 2.85s\tremaining: 5.2s\n",
      "388:\tlearn: 4618395.9056701\ttotal: 2.86s\tremaining: 5.19s\n",
      "389:\tlearn: 4616002.9826267\ttotal: 2.87s\tremaining: 5.19s\n",
      "390:\tlearn: 4613093.9337050\ttotal: 2.88s\tremaining: 5.19s\n",
      "391:\tlearn: 4608710.3630040\ttotal: 2.89s\tremaining: 5.18s\n",
      "392:\tlearn: 4608174.4332784\ttotal: 2.89s\tremaining: 5.17s\n",
      "393:\tlearn: 4605437.3248425\ttotal: 2.9s\tremaining: 5.16s\n",
      "394:\tlearn: 4599137.0089602\ttotal: 2.91s\tremaining: 5.16s\n",
      "395:\tlearn: 4597153.3500272\ttotal: 2.91s\tremaining: 5.14s\n",
      "396:\tlearn: 4589858.7286051\ttotal: 2.92s\tremaining: 5.14s\n",
      "397:\tlearn: 4586433.3055693\ttotal: 2.93s\tremaining: 5.14s\n",
      "398:\tlearn: 4583618.0200371\ttotal: 2.94s\tremaining: 5.13s\n",
      "399:\tlearn: 4578181.3251057\ttotal: 2.95s\tremaining: 5.12s\n",
      "400:\tlearn: 4576213.0096675\ttotal: 2.95s\tremaining: 5.11s\n",
      "401:\tlearn: 4569420.9264107\ttotal: 2.96s\tremaining: 5.1s\n",
      "402:\tlearn: 4567552.4810018\ttotal: 2.96s\tremaining: 5.09s\n",
      "403:\tlearn: 4563785.0413964\ttotal: 2.97s\tremaining: 5.09s\n",
      "404:\tlearn: 4560345.7773749\ttotal: 2.98s\tremaining: 5.08s\n",
      "405:\tlearn: 4556887.1689175\ttotal: 2.99s\tremaining: 5.08s\n",
      "406:\tlearn: 4555034.8148884\ttotal: 3s\tremaining: 5.07s\n",
      "407:\tlearn: 4550419.5570300\ttotal: 3.01s\tremaining: 5.06s\n",
      "408:\tlearn: 4548180.5767449\ttotal: 3.02s\tremaining: 5.06s\n",
      "409:\tlearn: 4547893.6323320\ttotal: 3.02s\tremaining: 5.04s\n",
      "410:\tlearn: 4547893.1147437\ttotal: 3.02s\tremaining: 5.02s\n",
      "411:\tlearn: 4544984.3983601\ttotal: 3.02s\tremaining: 5.01s\n",
      "412:\tlearn: 4540471.7089137\ttotal: 3.03s\tremaining: 5s\n",
      "413:\tlearn: 4539664.1507590\ttotal: 3.04s\tremaining: 5s\n",
      "414:\tlearn: 4538399.0080763\ttotal: 3.05s\tremaining: 5s\n",
      "415:\tlearn: 4535720.1220363\ttotal: 3.06s\tremaining: 4.99s\n",
      "416:\tlearn: 4534548.2152866\ttotal: 3.07s\tremaining: 4.99s\n",
      "417:\tlearn: 4532110.8802721\ttotal: 3.08s\tremaining: 4.98s\n",
      "418:\tlearn: 4527991.2802265\ttotal: 3.09s\tremaining: 4.98s\n",
      "419:\tlearn: 4521756.4346694\ttotal: 3.09s\tremaining: 4.97s\n",
      "420:\tlearn: 4519721.6495299\ttotal: 3.1s\tremaining: 4.96s\n",
      "421:\tlearn: 4519640.4032216\ttotal: 3.1s\tremaining: 4.94s\n",
      "422:\tlearn: 4517160.5585290\ttotal: 3.1s\tremaining: 4.93s\n",
      "423:\tlearn: 4514186.8753341\ttotal: 3.11s\tremaining: 4.92s\n",
      "424:\tlearn: 4510478.5887616\ttotal: 3.12s\tremaining: 4.91s\n",
      "425:\tlearn: 4505892.4048255\ttotal: 3.13s\tremaining: 4.91s\n",
      "426:\tlearn: 4505365.0718965\ttotal: 3.13s\tremaining: 4.89s\n",
      "427:\tlearn: 4502183.3488199\ttotal: 3.13s\tremaining: 4.88s\n",
      "428:\tlearn: 4500728.2885974\ttotal: 3.14s\tremaining: 4.87s\n",
      "429:\tlearn: 4500293.9334676\ttotal: 3.14s\tremaining: 4.86s\n",
      "430:\tlearn: 4493223.6735294\ttotal: 3.15s\tremaining: 4.85s\n",
      "431:\tlearn: 4489120.8651507\ttotal: 3.16s\tremaining: 4.85s\n",
      "432:\tlearn: 4487845.8210957\ttotal: 3.16s\tremaining: 4.84s\n",
      "433:\tlearn: 4483415.2646155\ttotal: 3.17s\tremaining: 4.83s\n",
      "434:\tlearn: 4478005.1144440\ttotal: 3.18s\tremaining: 4.83s\n",
      "435:\tlearn: 4475314.6176639\ttotal: 3.19s\tremaining: 4.82s\n",
      "436:\tlearn: 4469489.1190346\ttotal: 3.2s\tremaining: 4.82s\n",
      "437:\tlearn: 4465445.1245423\ttotal: 3.21s\tremaining: 4.81s\n",
      "438:\tlearn: 4462257.3140478\ttotal: 3.21s\tremaining: 4.8s\n",
      "439:\tlearn: 4461967.8210785\ttotal: 3.22s\tremaining: 4.79s\n",
      "440:\tlearn: 4458950.7262484\ttotal: 3.22s\tremaining: 4.78s\n",
      "441:\tlearn: 4455466.6868638\ttotal: 3.23s\tremaining: 4.77s\n",
      "442:\tlearn: 4450725.1100811\ttotal: 3.24s\tremaining: 4.77s\n",
      "443:\tlearn: 4446369.1875785\ttotal: 3.25s\tremaining: 4.76s\n",
      "444:\tlearn: 4446336.2451094\ttotal: 3.25s\tremaining: 4.75s\n",
      "445:\tlearn: 4443672.8771511\ttotal: 3.26s\tremaining: 4.75s\n",
      "446:\tlearn: 4439828.7967293\ttotal: 3.27s\tremaining: 4.74s\n",
      "447:\tlearn: 4437246.8206549\ttotal: 3.28s\tremaining: 4.74s\n",
      "448:\tlearn: 4435809.8792134\ttotal: 3.28s\tremaining: 4.72s\n",
      "449:\tlearn: 4432654.7505600\ttotal: 3.29s\tremaining: 4.72s\n",
      "450:\tlearn: 4429740.3208627\ttotal: 3.3s\tremaining: 4.71s\n",
      "451:\tlearn: 4426281.9883043\ttotal: 3.31s\tremaining: 4.71s\n",
      "452:\tlearn: 4422396.3281509\ttotal: 3.32s\tremaining: 4.71s\n",
      "453:\tlearn: 4418343.5630678\ttotal: 3.33s\tremaining: 4.7s\n",
      "454:\tlearn: 4414742.4074624\ttotal: 3.34s\tremaining: 4.7s\n",
      "455:\tlearn: 4412009.2756659\ttotal: 3.35s\tremaining: 4.69s\n",
      "456:\tlearn: 4411009.1244118\ttotal: 3.35s\tremaining: 4.68s\n",
      "457:\tlearn: 4406268.0873783\ttotal: 3.36s\tremaining: 4.67s\n",
      "458:\tlearn: 4403470.3458392\ttotal: 3.37s\tremaining: 4.67s\n",
      "459:\tlearn: 4402275.3483570\ttotal: 3.37s\tremaining: 4.65s\n",
      "460:\tlearn: 4399728.7632302\ttotal: 3.38s\tremaining: 4.65s\n",
      "461:\tlearn: 4395534.5194769\ttotal: 3.39s\tremaining: 4.64s\n",
      "462:\tlearn: 4391217.9108981\ttotal: 3.39s\tremaining: 4.63s\n",
      "463:\tlearn: 4388713.3692977\ttotal: 3.4s\tremaining: 4.62s\n",
      "464:\tlearn: 4385644.1743273\ttotal: 3.41s\tremaining: 4.62s\n",
      "465:\tlearn: 4385464.4833412\ttotal: 3.41s\tremaining: 4.6s\n",
      "466:\tlearn: 4383740.2809695\ttotal: 3.41s\tremaining: 4.59s\n",
      "467:\tlearn: 4383604.2608824\ttotal: 3.41s\tremaining: 4.57s\n",
      "468:\tlearn: 4380480.2065398\ttotal: 3.42s\tremaining: 4.57s\n",
      "469:\tlearn: 4380443.1308039\ttotal: 3.42s\tremaining: 4.55s\n",
      "470:\tlearn: 4377073.6729567\ttotal: 3.43s\tremaining: 4.54s\n",
      "471:\tlearn: 4372335.0799482\ttotal: 3.44s\tremaining: 4.54s\n",
      "472:\tlearn: 4368268.4670742\ttotal: 3.44s\tremaining: 4.53s\n",
      "473:\tlearn: 4361696.1465169\ttotal: 3.46s\tremaining: 4.53s\n",
      "474:\tlearn: 4358449.8450535\ttotal: 3.46s\tremaining: 4.52s\n",
      "475:\tlearn: 4354410.4688363\ttotal: 3.47s\tremaining: 4.51s\n",
      "476:\tlearn: 4351528.0403635\ttotal: 3.48s\tremaining: 4.51s\n",
      "477:\tlearn: 4348074.2180070\ttotal: 3.49s\tremaining: 4.5s\n",
      "478:\tlearn: 4346372.9901249\ttotal: 3.5s\tremaining: 4.5s\n",
      "479:\tlearn: 4343862.3182095\ttotal: 3.5s\tremaining: 4.49s\n",
      "480:\tlearn: 4339099.7356746\ttotal: 3.51s\tremaining: 4.49s\n",
      "481:\tlearn: 4336053.8743206\ttotal: 3.52s\tremaining: 4.48s\n",
      "482:\tlearn: 4329214.6934841\ttotal: 3.53s\tremaining: 4.47s\n",
      "483:\tlearn: 4327800.5417519\ttotal: 3.53s\tremaining: 4.46s\n",
      "484:\tlearn: 4323997.2390879\ttotal: 3.54s\tremaining: 4.45s\n",
      "485:\tlearn: 4322039.9098229\ttotal: 3.54s\tremaining: 4.44s\n",
      "486:\tlearn: 4321985.9118900\ttotal: 3.54s\tremaining: 4.43s\n",
      "487:\tlearn: 4319639.1996871\ttotal: 3.55s\tremaining: 4.42s\n",
      "488:\tlearn: 4315460.4640048\ttotal: 3.56s\tremaining: 4.41s\n",
      "489:\tlearn: 4312904.7968301\ttotal: 3.57s\tremaining: 4.4s\n",
      "490:\tlearn: 4310944.9856135\ttotal: 3.57s\tremaining: 4.4s\n",
      "491:\tlearn: 4307321.0335878\ttotal: 3.58s\tremaining: 4.39s\n",
      "492:\tlearn: 4303338.8205169\ttotal: 3.59s\tremaining: 4.38s\n",
      "493:\tlearn: 4300087.3599666\ttotal: 3.59s\tremaining: 4.37s\n",
      "494:\tlearn: 4297627.1008133\ttotal: 3.6s\tremaining: 4.37s\n",
      "495:\tlearn: 4291983.9536891\ttotal: 3.61s\tremaining: 4.36s\n",
      "496:\tlearn: 4291928.9700083\ttotal: 3.61s\tremaining: 4.34s\n",
      "497:\tlearn: 4289167.6962663\ttotal: 3.62s\tremaining: 4.34s\n",
      "498:\tlearn: 4283623.8685112\ttotal: 3.63s\tremaining: 4.34s\n",
      "499:\tlearn: 4277381.2438578\ttotal: 3.64s\tremaining: 4.33s\n",
      "500:\tlearn: 4275650.2280470\ttotal: 3.65s\tremaining: 4.33s\n",
      "501:\tlearn: 4273683.6187969\ttotal: 3.66s\tremaining: 4.33s\n",
      "502:\tlearn: 4267429.5754254\ttotal: 3.67s\tremaining: 4.32s\n",
      "503:\tlearn: 4264797.8170161\ttotal: 3.68s\tremaining: 4.32s\n",
      "504:\tlearn: 4259942.9008476\ttotal: 3.69s\tremaining: 4.32s\n",
      "505:\tlearn: 4255315.4715733\ttotal: 3.71s\tremaining: 4.32s\n",
      "506:\tlearn: 4250600.6588104\ttotal: 3.72s\tremaining: 4.32s\n",
      "507:\tlearn: 4248027.3124402\ttotal: 3.73s\tremaining: 4.31s\n",
      "508:\tlearn: 4244426.5418275\ttotal: 3.74s\tremaining: 4.31s\n",
      "509:\tlearn: 4241985.3394756\ttotal: 3.75s\tremaining: 4.3s\n",
      "510:\tlearn: 4241004.6107768\ttotal: 3.76s\tremaining: 4.3s\n",
      "511:\tlearn: 4236326.5582593\ttotal: 3.77s\tremaining: 4.29s\n",
      "512:\tlearn: 4232153.9593804\ttotal: 3.78s\tremaining: 4.29s\n",
      "513:\tlearn: 4228962.0472911\ttotal: 3.79s\tremaining: 4.28s\n",
      "514:\tlearn: 4226056.4846404\ttotal: 3.79s\tremaining: 4.27s\n",
      "515:\tlearn: 4222265.5918262\ttotal: 3.8s\tremaining: 4.27s\n",
      "516:\tlearn: 4219663.6089871\ttotal: 3.81s\tremaining: 4.26s\n",
      "517:\tlearn: 4218688.9152164\ttotal: 3.82s\tremaining: 4.26s\n",
      "518:\tlearn: 4218059.3123790\ttotal: 3.82s\tremaining: 4.24s\n",
      "519:\tlearn: 4215224.4740371\ttotal: 3.83s\tremaining: 4.24s\n",
      "520:\tlearn: 4213131.9547060\ttotal: 3.84s\tremaining: 4.23s\n",
      "521:\tlearn: 4209954.4929461\ttotal: 3.85s\tremaining: 4.23s\n",
      "522:\tlearn: 4207917.1047568\ttotal: 3.86s\tremaining: 4.22s\n",
      "523:\tlearn: 4207027.2452669\ttotal: 3.87s\tremaining: 4.21s\n",
      "524:\tlearn: 4204128.7000106\ttotal: 3.88s\tremaining: 4.21s\n",
      "525:\tlearn: 4199352.2532253\ttotal: 3.88s\tremaining: 4.2s\n",
      "526:\tlearn: 4197015.7922104\ttotal: 3.89s\tremaining: 4.19s\n",
      "527:\tlearn: 4193684.9017320\ttotal: 3.9s\tremaining: 4.19s\n",
      "528:\tlearn: 4189807.4199770\ttotal: 3.91s\tremaining: 4.18s\n",
      "529:\tlearn: 4184167.8222235\ttotal: 3.92s\tremaining: 4.18s\n",
      "530:\tlearn: 4181788.4536400\ttotal: 3.93s\tremaining: 4.17s\n",
      "531:\tlearn: 4176598.0122614\ttotal: 3.93s\tremaining: 4.16s\n",
      "532:\tlearn: 4173971.0327913\ttotal: 3.94s\tremaining: 4.16s\n",
      "533:\tlearn: 4171817.4297465\ttotal: 3.95s\tremaining: 4.15s\n",
      "534:\tlearn: 4169299.1823711\ttotal: 3.96s\tremaining: 4.15s\n",
      "535:\tlearn: 4167035.7875852\ttotal: 3.97s\tremaining: 4.14s\n",
      "536:\tlearn: 4163487.5908095\ttotal: 3.98s\tremaining: 4.14s\n",
      "537:\tlearn: 4160743.5282833\ttotal: 3.99s\tremaining: 4.13s\n",
      "538:\tlearn: 4160743.3475070\ttotal: 3.99s\tremaining: 4.12s\n",
      "539:\tlearn: 4159183.0894854\ttotal: 4s\tremaining: 4.11s\n",
      "540:\tlearn: 4155570.8651221\ttotal: 4.01s\tremaining: 4.11s\n",
      "541:\tlearn: 4153159.4129032\ttotal: 4.02s\tremaining: 4.1s\n",
      "542:\tlearn: 4150528.5262316\ttotal: 4.03s\tremaining: 4.09s\n",
      "543:\tlearn: 4146067.0934680\ttotal: 4.03s\tremaining: 4.08s\n",
      "544:\tlearn: 4143940.6028725\ttotal: 4.04s\tremaining: 4.08s\n",
      "545:\tlearn: 4142516.0155836\ttotal: 4.04s\tremaining: 4.06s\n",
      "546:\tlearn: 4138704.4796894\ttotal: 4.05s\tremaining: 4.05s\n",
      "547:\tlearn: 4136875.4975285\ttotal: 4.05s\tremaining: 4.05s\n",
      "548:\tlearn: 4132767.3239584\ttotal: 4.06s\tremaining: 4.04s\n",
      "549:\tlearn: 4125930.5900159\ttotal: 4.07s\tremaining: 4.04s\n",
      "550:\tlearn: 4124071.9529219\ttotal: 4.08s\tremaining: 4.02s\n",
      "551:\tlearn: 4121514.1390241\ttotal: 4.09s\tremaining: 4.02s\n",
      "552:\tlearn: 4116922.2289034\ttotal: 4.1s\tremaining: 4.02s\n",
      "553:\tlearn: 4115866.5865286\ttotal: 4.1s\tremaining: 4.01s\n",
      "554:\tlearn: 4115512.4542165\ttotal: 4.11s\tremaining: 4s\n",
      "555:\tlearn: 4115396.7845453\ttotal: 4.11s\tremaining: 3.98s\n",
      "556:\tlearn: 4113103.0411485\ttotal: 4.12s\tremaining: 3.98s\n",
      "557:\tlearn: 4109558.6070896\ttotal: 4.12s\tremaining: 3.97s\n",
      "558:\tlearn: 4108027.2020451\ttotal: 4.13s\tremaining: 3.96s\n",
      "559:\tlearn: 4103910.7916298\ttotal: 4.14s\tremaining: 3.96s\n",
      "560:\tlearn: 4100407.9081219\ttotal: 4.15s\tremaining: 3.95s\n",
      "561:\tlearn: 4093882.5703396\ttotal: 4.16s\tremaining: 3.95s\n",
      "562:\tlearn: 4090852.5273680\ttotal: 4.17s\tremaining: 3.94s\n",
      "563:\tlearn: 4088644.0448123\ttotal: 4.18s\tremaining: 3.93s\n",
      "564:\tlearn: 4086596.8877231\ttotal: 4.19s\tremaining: 3.93s\n",
      "565:\tlearn: 4083465.3646021\ttotal: 4.2s\tremaining: 3.92s\n",
      "566:\tlearn: 4080850.9847418\ttotal: 4.21s\tremaining: 3.92s\n",
      "567:\tlearn: 4079034.9864971\ttotal: 4.21s\tremaining: 3.91s\n",
      "568:\tlearn: 4076886.8583080\ttotal: 4.22s\tremaining: 3.9s\n",
      "569:\tlearn: 4073639.0387327\ttotal: 4.23s\tremaining: 3.9s\n",
      "570:\tlearn: 4068851.5932708\ttotal: 4.24s\tremaining: 3.89s\n",
      "571:\tlearn: 4063180.2873842\ttotal: 4.25s\tremaining: 3.88s\n",
      "572:\tlearn: 4063180.1650010\ttotal: 4.25s\tremaining: 3.87s\n",
      "573:\tlearn: 4060792.2504852\ttotal: 4.26s\tremaining: 3.86s\n",
      "574:\tlearn: 4055826.5457898\ttotal: 4.27s\tremaining: 3.86s\n",
      "575:\tlearn: 4055712.5108725\ttotal: 4.27s\tremaining: 3.85s\n",
      "576:\tlearn: 4051781.6689597\ttotal: 4.28s\tremaining: 3.84s\n",
      "577:\tlearn: 4048305.0335465\ttotal: 4.29s\tremaining: 3.83s\n",
      "578:\tlearn: 4046210.0329714\ttotal: 4.29s\tremaining: 3.83s\n",
      "579:\tlearn: 4042712.5797981\ttotal: 4.3s\tremaining: 3.82s\n",
      "580:\tlearn: 4040540.1124878\ttotal: 4.3s\tremaining: 3.81s\n",
      "581:\tlearn: 4038526.1570883\ttotal: 4.31s\tremaining: 3.8s\n",
      "582:\tlearn: 4034681.5874900\ttotal: 4.32s\tremaining: 3.8s\n",
      "583:\tlearn: 4032697.7363916\ttotal: 4.33s\tremaining: 3.79s\n",
      "584:\tlearn: 4029146.7210432\ttotal: 4.34s\tremaining: 3.78s\n",
      "585:\tlearn: 4026447.2100571\ttotal: 4.35s\tremaining: 3.78s\n",
      "586:\tlearn: 4025157.0251671\ttotal: 4.36s\tremaining: 3.77s\n",
      "587:\tlearn: 4021360.3177158\ttotal: 4.36s\tremaining: 3.76s\n",
      "588:\tlearn: 4019300.2929743\ttotal: 4.38s\tremaining: 3.76s\n",
      "589:\tlearn: 4017261.3076419\ttotal: 4.38s\tremaining: 3.75s\n",
      "590:\tlearn: 4015039.0989240\ttotal: 4.4s\tremaining: 3.75s\n",
      "591:\tlearn: 4013672.2987365\ttotal: 4.41s\tremaining: 3.75s\n",
      "592:\tlearn: 4007728.7669332\ttotal: 4.41s\tremaining: 3.74s\n",
      "593:\tlearn: 4004070.4360484\ttotal: 4.42s\tremaining: 3.73s\n",
      "594:\tlearn: 4002410.9201578\ttotal: 4.43s\tremaining: 3.72s\n",
      "595:\tlearn: 3999185.3328762\ttotal: 4.44s\tremaining: 3.71s\n",
      "596:\tlearn: 3997503.3373885\ttotal: 4.45s\tremaining: 3.71s\n",
      "597:\tlearn: 3995126.7352974\ttotal: 4.45s\tremaining: 3.7s\n",
      "598:\tlearn: 3991276.8601502\ttotal: 4.46s\tremaining: 3.69s\n",
      "599:\tlearn: 3986714.4631460\ttotal: 4.47s\tremaining: 3.69s\n",
      "600:\tlearn: 3985657.2685981\ttotal: 4.48s\tremaining: 3.68s\n",
      "601:\tlearn: 3982221.1263651\ttotal: 4.49s\tremaining: 3.68s\n",
      "602:\tlearn: 3980008.9292739\ttotal: 4.5s\tremaining: 3.67s\n",
      "603:\tlearn: 3977614.7901955\ttotal: 4.51s\tremaining: 3.66s\n",
      "604:\tlearn: 3973355.6817705\ttotal: 4.51s\tremaining: 3.65s\n",
      "605:\tlearn: 3971302.5099501\ttotal: 4.52s\tremaining: 3.65s\n",
      "606:\tlearn: 3969537.1698235\ttotal: 4.53s\tremaining: 3.64s\n",
      "607:\tlearn: 3967038.4254930\ttotal: 4.54s\tremaining: 3.64s\n",
      "608:\tlearn: 3965832.7344793\ttotal: 4.54s\tremaining: 3.62s\n",
      "609:\tlearn: 3964166.4236499\ttotal: 4.55s\tremaining: 3.62s\n",
      "610:\tlearn: 3963698.3591022\ttotal: 4.55s\tremaining: 3.61s\n",
      "611:\tlearn: 3960346.7830356\ttotal: 4.57s\tremaining: 3.6s\n",
      "612:\tlearn: 3957151.5655506\ttotal: 4.57s\tremaining: 3.6s\n",
      "613:\tlearn: 3954861.8053469\ttotal: 4.58s\tremaining: 3.59s\n",
      "614:\tlearn: 3952745.6001048\ttotal: 4.58s\tremaining: 3.58s\n",
      "615:\tlearn: 3950286.0409002\ttotal: 4.59s\tremaining: 3.57s\n",
      "616:\tlearn: 3946828.4344210\ttotal: 4.6s\tremaining: 3.57s\n",
      "617:\tlearn: 3945676.2325403\ttotal: 4.61s\tremaining: 3.56s\n",
      "618:\tlearn: 3943534.3500263\ttotal: 4.62s\tremaining: 3.55s\n",
      "619:\tlearn: 3940638.4577258\ttotal: 4.63s\tremaining: 3.54s\n",
      "620:\tlearn: 3937206.7325345\ttotal: 4.64s\tremaining: 3.54s\n",
      "621:\tlearn: 3935480.1936228\ttotal: 4.65s\tremaining: 3.53s\n",
      "622:\tlearn: 3932338.5814388\ttotal: 4.66s\tremaining: 3.53s\n",
      "623:\tlearn: 3928852.7690075\ttotal: 4.66s\tremaining: 3.52s\n",
      "624:\tlearn: 3923234.5817519\ttotal: 4.67s\tremaining: 3.51s\n",
      "625:\tlearn: 3921155.3114932\ttotal: 4.68s\tremaining: 3.5s\n",
      "626:\tlearn: 3917732.3469359\ttotal: 4.68s\tremaining: 3.5s\n",
      "627:\tlearn: 3912007.9742195\ttotal: 4.69s\tremaining: 3.49s\n",
      "628:\tlearn: 3910076.8459579\ttotal: 4.7s\tremaining: 3.48s\n",
      "629:\tlearn: 3908433.4297972\ttotal: 4.7s\tremaining: 3.47s\n",
      "630:\tlearn: 3905964.3727465\ttotal: 4.71s\tremaining: 3.46s\n",
      "631:\tlearn: 3904018.3437106\ttotal: 4.72s\tremaining: 3.46s\n",
      "632:\tlearn: 3903459.5898352\ttotal: 4.72s\tremaining: 3.44s\n",
      "633:\tlearn: 3899667.1491574\ttotal: 4.73s\tremaining: 3.44s\n",
      "634:\tlearn: 3897461.9816112\ttotal: 4.74s\tremaining: 3.43s\n",
      "635:\tlearn: 3895008.0494205\ttotal: 4.74s\tremaining: 3.42s\n",
      "636:\tlearn: 3891580.2784072\ttotal: 4.75s\tremaining: 3.42s\n",
      "637:\tlearn: 3889133.1646015\ttotal: 4.76s\tremaining: 3.41s\n",
      "638:\tlearn: 3885714.5843974\ttotal: 4.77s\tremaining: 3.4s\n",
      "639:\tlearn: 3885693.2172745\ttotal: 4.77s\tremaining: 3.39s\n",
      "640:\tlearn: 3880864.9389095\ttotal: 4.78s\tremaining: 3.38s\n",
      "641:\tlearn: 3878909.9292688\ttotal: 4.79s\tremaining: 3.38s\n",
      "642:\tlearn: 3874973.0085690\ttotal: 4.8s\tremaining: 3.37s\n",
      "643:\tlearn: 3873314.9665301\ttotal: 4.81s\tremaining: 3.37s\n",
      "644:\tlearn: 3873314.8410417\ttotal: 4.81s\tremaining: 3.35s\n",
      "645:\tlearn: 3870570.7626431\ttotal: 4.82s\tremaining: 3.35s\n",
      "646:\tlearn: 3868596.6141092\ttotal: 4.83s\tremaining: 3.34s\n",
      "647:\tlearn: 3864347.2176151\ttotal: 4.84s\tremaining: 3.34s\n",
      "648:\tlearn: 3861771.1053848\ttotal: 4.85s\tremaining: 3.33s\n",
      "649:\tlearn: 3858376.2718857\ttotal: 4.85s\tremaining: 3.32s\n",
      "650:\tlearn: 3857769.0331836\ttotal: 4.86s\tremaining: 3.31s\n",
      "651:\tlearn: 3855060.5813743\ttotal: 4.86s\tremaining: 3.3s\n",
      "652:\tlearn: 3852272.6539139\ttotal: 4.87s\tremaining: 3.3s\n",
      "653:\tlearn: 3849256.8359283\ttotal: 4.88s\tremaining: 3.29s\n",
      "654:\tlearn: 3847303.8767543\ttotal: 4.89s\tremaining: 3.29s\n",
      "655:\tlearn: 3841064.3009700\ttotal: 4.9s\tremaining: 3.28s\n",
      "656:\tlearn: 3839343.2950803\ttotal: 4.91s\tremaining: 3.27s\n",
      "657:\tlearn: 3835572.2490808\ttotal: 4.91s\tremaining: 3.26s\n",
      "658:\tlearn: 3834142.8352325\ttotal: 4.92s\tremaining: 3.25s\n",
      "659:\tlearn: 3830671.9360015\ttotal: 4.93s\tremaining: 3.25s\n",
      "660:\tlearn: 3828619.4430355\ttotal: 4.93s\tremaining: 3.24s\n",
      "661:\tlearn: 3828405.1315775\ttotal: 4.94s\tremaining: 3.23s\n",
      "662:\tlearn: 3828299.9710979\ttotal: 4.94s\tremaining: 3.22s\n",
      "663:\tlearn: 3826077.9167820\ttotal: 4.95s\tremaining: 3.21s\n",
      "664:\tlearn: 3825809.7543068\ttotal: 4.95s\tremaining: 3.2s\n",
      "665:\tlearn: 3821567.0762873\ttotal: 4.96s\tremaining: 3.19s\n",
      "666:\tlearn: 3819651.8077558\ttotal: 4.97s\tremaining: 3.19s\n",
      "667:\tlearn: 3816969.5376678\ttotal: 4.98s\tremaining: 3.18s\n",
      "668:\tlearn: 3816938.2338297\ttotal: 4.98s\tremaining: 3.17s\n",
      "669:\tlearn: 3815190.0382748\ttotal: 4.98s\tremaining: 3.16s\n",
      "670:\tlearn: 3811608.0214786\ttotal: 4.99s\tremaining: 3.15s\n",
      "671:\tlearn: 3809549.4373455\ttotal: 5s\tremaining: 3.15s\n",
      "672:\tlearn: 3807837.2012754\ttotal: 5.01s\tremaining: 3.14s\n",
      "673:\tlearn: 3807338.9706619\ttotal: 5.02s\tremaining: 3.13s\n",
      "674:\tlearn: 3804609.0979592\ttotal: 5.03s\tremaining: 3.13s\n",
      "675:\tlearn: 3803791.5647225\ttotal: 5.03s\tremaining: 3.12s\n",
      "676:\tlearn: 3800728.8286701\ttotal: 5.04s\tremaining: 3.11s\n",
      "677:\tlearn: 3798733.8570389\ttotal: 5.05s\tremaining: 3.1s\n",
      "678:\tlearn: 3797167.8262646\ttotal: 5.05s\tremaining: 3.09s\n",
      "679:\tlearn: 3796983.1299652\ttotal: 5.05s\tremaining: 3.08s\n",
      "680:\tlearn: 3796983.0661678\ttotal: 5.05s\tremaining: 3.07s\n",
      "681:\tlearn: 3794456.4912113\ttotal: 5.06s\tremaining: 3.06s\n",
      "682:\tlearn: 3792414.0151938\ttotal: 5.07s\tremaining: 3.06s\n",
      "683:\tlearn: 3792403.5236683\ttotal: 5.07s\tremaining: 3.05s\n",
      "684:\tlearn: 3790176.4882945\ttotal: 5.08s\tremaining: 3.04s\n",
      "685:\tlearn: 3787153.3676157\ttotal: 5.09s\tremaining: 3.04s\n",
      "686:\tlearn: 3784124.2524546\ttotal: 5.1s\tremaining: 3.03s\n",
      "687:\tlearn: 3783971.7644995\ttotal: 5.1s\tremaining: 3.02s\n",
      "688:\tlearn: 3779338.3502861\ttotal: 5.11s\tremaining: 3.01s\n",
      "689:\tlearn: 3777886.0963861\ttotal: 5.12s\tremaining: 3s\n",
      "690:\tlearn: 3776592.0868796\ttotal: 5.13s\tremaining: 3s\n",
      "691:\tlearn: 3774762.4044049\ttotal: 5.13s\tremaining: 2.99s\n",
      "692:\tlearn: 3769191.8907074\ttotal: 5.14s\tremaining: 2.98s\n",
      "693:\tlearn: 3767316.0370367\ttotal: 5.15s\tremaining: 2.98s\n",
      "694:\tlearn: 3765925.9007309\ttotal: 5.16s\tremaining: 2.97s\n",
      "695:\tlearn: 3762375.5195448\ttotal: 5.17s\tremaining: 2.96s\n",
      "696:\tlearn: 3760702.1931999\ttotal: 5.18s\tremaining: 2.96s\n",
      "697:\tlearn: 3758203.1927075\ttotal: 5.19s\tremaining: 2.95s\n",
      "698:\tlearn: 3754646.4072090\ttotal: 5.2s\tremaining: 2.94s\n",
      "699:\tlearn: 3753513.2762279\ttotal: 5.2s\tremaining: 2.94s\n",
      "700:\tlearn: 3748949.4158866\ttotal: 5.21s\tremaining: 2.93s\n",
      "701:\tlearn: 3745735.2852861\ttotal: 5.23s\tremaining: 2.93s\n",
      "702:\tlearn: 3745181.4901847\ttotal: 5.23s\tremaining: 2.92s\n",
      "703:\tlearn: 3743530.6475134\ttotal: 5.24s\tremaining: 2.91s\n",
      "704:\tlearn: 3743517.8632326\ttotal: 5.24s\tremaining: 2.9s\n",
      "705:\tlearn: 3739404.0219287\ttotal: 5.25s\tremaining: 2.89s\n",
      "706:\tlearn: 3734738.8379192\ttotal: 5.26s\tremaining: 2.89s\n",
      "707:\tlearn: 3731283.0971589\ttotal: 5.27s\tremaining: 2.88s\n",
      "708:\tlearn: 3731267.2168906\ttotal: 5.27s\tremaining: 2.87s\n",
      "709:\tlearn: 3728878.4860149\ttotal: 5.28s\tremaining: 2.86s\n",
      "710:\tlearn: 3727429.3959953\ttotal: 5.29s\tremaining: 2.86s\n",
      "711:\tlearn: 3727425.6163321\ttotal: 5.29s\tremaining: 2.85s\n",
      "712:\tlearn: 3725214.1704024\ttotal: 5.3s\tremaining: 2.84s\n",
      "713:\tlearn: 3723408.6211492\ttotal: 5.31s\tremaining: 2.83s\n",
      "714:\tlearn: 3721272.5843200\ttotal: 5.32s\tremaining: 2.83s\n",
      "715:\tlearn: 3719226.1880567\ttotal: 5.33s\tremaining: 2.82s\n",
      "716:\tlearn: 3718945.3773452\ttotal: 5.33s\tremaining: 2.81s\n",
      "717:\tlearn: 3714879.2446731\ttotal: 5.34s\tremaining: 2.81s\n",
      "718:\tlearn: 3713028.1412349\ttotal: 5.36s\tremaining: 2.8s\n",
      "719:\tlearn: 3711644.6559694\ttotal: 5.37s\tremaining: 2.79s\n",
      "720:\tlearn: 3708147.7011653\ttotal: 5.38s\tremaining: 2.79s\n",
      "721:\tlearn: 3706394.5294142\ttotal: 5.39s\tremaining: 2.78s\n",
      "722:\tlearn: 3704501.7709297\ttotal: 5.39s\tremaining: 2.77s\n",
      "723:\tlearn: 3701602.2246480\ttotal: 5.4s\tremaining: 2.77s\n",
      "724:\tlearn: 3699419.7805389\ttotal: 5.41s\tremaining: 2.76s\n",
      "725:\tlearn: 3696342.0088078\ttotal: 5.42s\tremaining: 2.75s\n",
      "726:\tlearn: 3691934.0463193\ttotal: 5.43s\tremaining: 2.75s\n",
      "727:\tlearn: 3689245.4246634\ttotal: 5.44s\tremaining: 2.74s\n",
      "728:\tlearn: 3686727.9101704\ttotal: 5.45s\tremaining: 2.73s\n",
      "729:\tlearn: 3682992.0058299\ttotal: 5.46s\tremaining: 2.73s\n",
      "730:\tlearn: 3680319.3754662\ttotal: 5.47s\tremaining: 2.72s\n",
      "731:\tlearn: 3678905.9302603\ttotal: 5.47s\tremaining: 2.71s\n",
      "732:\tlearn: 3676752.5284955\ttotal: 5.48s\tremaining: 2.71s\n",
      "733:\tlearn: 3674174.8004943\ttotal: 5.49s\tremaining: 2.7s\n",
      "734:\tlearn: 3674174.7648766\ttotal: 5.49s\tremaining: 2.69s\n",
      "735:\tlearn: 3671382.0202990\ttotal: 5.5s\tremaining: 2.68s\n",
      "736:\tlearn: 3667861.0386313\ttotal: 5.51s\tremaining: 2.68s\n",
      "737:\tlearn: 3666377.0296746\ttotal: 5.51s\tremaining: 2.67s\n",
      "738:\tlearn: 3664423.4264272\ttotal: 5.53s\tremaining: 2.66s\n",
      "739:\tlearn: 3663099.3497523\ttotal: 5.54s\tremaining: 2.66s\n",
      "740:\tlearn: 3661894.9065739\ttotal: 5.54s\tremaining: 2.65s\n",
      "741:\tlearn: 3660088.8279125\ttotal: 5.55s\tremaining: 2.64s\n",
      "742:\tlearn: 3658578.8674691\ttotal: 5.56s\tremaining: 2.63s\n",
      "743:\tlearn: 3658406.8518757\ttotal: 5.56s\tremaining: 2.62s\n",
      "744:\tlearn: 3656275.9095843\ttotal: 5.56s\tremaining: 2.61s\n",
      "745:\tlearn: 3653947.0420408\ttotal: 5.57s\tremaining: 2.61s\n",
      "746:\tlearn: 3652750.8786067\ttotal: 5.58s\tremaining: 2.6s\n",
      "747:\tlearn: 3651925.8922652\ttotal: 5.58s\tremaining: 2.59s\n",
      "748:\tlearn: 3648854.3385692\ttotal: 5.59s\tremaining: 2.58s\n",
      "749:\tlearn: 3646877.8603673\ttotal: 5.6s\tremaining: 2.58s\n",
      "750:\tlearn: 3645160.0216256\ttotal: 5.61s\tremaining: 2.57s\n",
      "751:\tlearn: 3641950.0293668\ttotal: 5.62s\tremaining: 2.56s\n",
      "752:\tlearn: 3640628.0246650\ttotal: 5.63s\tremaining: 2.56s\n",
      "753:\tlearn: 3637301.1854368\ttotal: 5.63s\tremaining: 2.55s\n",
      "754:\tlearn: 3635498.8314846\ttotal: 5.64s\tremaining: 2.54s\n",
      "755:\tlearn: 3633169.9818727\ttotal: 5.65s\tremaining: 2.53s\n",
      "756:\tlearn: 3631185.1123177\ttotal: 5.66s\tremaining: 2.53s\n",
      "757:\tlearn: 3629511.6816469\ttotal: 5.67s\tremaining: 2.52s\n",
      "758:\tlearn: 3628710.9664249\ttotal: 5.67s\tremaining: 2.51s\n",
      "759:\tlearn: 3626688.9907633\ttotal: 5.68s\tremaining: 2.5s\n",
      "760:\tlearn: 3623672.0443705\ttotal: 5.69s\tremaining: 2.5s\n",
      "761:\tlearn: 3622956.3850648\ttotal: 5.69s\tremaining: 2.48s\n",
      "762:\tlearn: 3621042.5538580\ttotal: 5.7s\tremaining: 2.48s\n",
      "763:\tlearn: 3619567.9800402\ttotal: 5.7s\tremaining: 2.47s\n",
      "764:\tlearn: 3617336.8007433\ttotal: 5.71s\tremaining: 2.46s\n",
      "765:\tlearn: 3614783.5269666\ttotal: 5.72s\tremaining: 2.46s\n",
      "766:\tlearn: 3611037.9056556\ttotal: 5.73s\tremaining: 2.45s\n",
      "767:\tlearn: 3608528.8565483\ttotal: 5.74s\tremaining: 2.44s\n",
      "768:\tlearn: 3607577.5829444\ttotal: 5.75s\tremaining: 2.44s\n",
      "769:\tlearn: 3605522.5070460\ttotal: 5.75s\tremaining: 2.43s\n",
      "770:\tlearn: 3602977.4625599\ttotal: 5.76s\tremaining: 2.42s\n",
      "771:\tlearn: 3601123.4112215\ttotal: 5.76s\tremaining: 2.41s\n",
      "772:\tlearn: 3596352.8931639\ttotal: 5.77s\tremaining: 2.4s\n",
      "773:\tlearn: 3594855.7007594\ttotal: 5.78s\tremaining: 2.4s\n",
      "774:\tlearn: 3591056.7723474\ttotal: 5.79s\tremaining: 2.39s\n",
      "775:\tlearn: 3589442.8718076\ttotal: 5.8s\tremaining: 2.38s\n",
      "776:\tlearn: 3587849.6620991\ttotal: 5.81s\tremaining: 2.38s\n",
      "777:\tlearn: 3584345.5369020\ttotal: 5.82s\tremaining: 2.37s\n",
      "778:\tlearn: 3581724.8517005\ttotal: 5.83s\tremaining: 2.37s\n",
      "779:\tlearn: 3581038.8252153\ttotal: 5.83s\tremaining: 2.36s\n",
      "780:\tlearn: 3581001.8655349\ttotal: 5.83s\tremaining: 2.35s\n",
      "781:\tlearn: 3578277.2187611\ttotal: 5.84s\tremaining: 2.34s\n",
      "782:\tlearn: 3576685.6123054\ttotal: 5.85s\tremaining: 2.33s\n",
      "783:\tlearn: 3576459.7930377\ttotal: 5.85s\tremaining: 2.32s\n",
      "784:\tlearn: 3572698.7130296\ttotal: 5.86s\tremaining: 2.31s\n",
      "785:\tlearn: 3572461.1091817\ttotal: 5.86s\tremaining: 2.3s\n",
      "786:\tlearn: 3572461.0675078\ttotal: 5.86s\tremaining: 2.29s\n",
      "787:\tlearn: 3570964.6658704\ttotal: 5.87s\tremaining: 2.28s\n",
      "788:\tlearn: 3568363.0957093\ttotal: 5.87s\tremaining: 2.28s\n",
      "789:\tlearn: 3567327.3177705\ttotal: 5.88s\tremaining: 2.27s\n",
      "790:\tlearn: 3564154.3583484\ttotal: 5.89s\tremaining: 2.26s\n",
      "791:\tlearn: 3560778.0650956\ttotal: 5.9s\tremaining: 2.26s\n",
      "792:\tlearn: 3555702.7898690\ttotal: 5.91s\tremaining: 2.25s\n",
      "793:\tlearn: 3553438.0927648\ttotal: 5.91s\tremaining: 2.24s\n",
      "794:\tlearn: 3548421.5493917\ttotal: 5.92s\tremaining: 2.23s\n",
      "795:\tlearn: 3545324.9062561\ttotal: 5.93s\tremaining: 2.23s\n",
      "796:\tlearn: 3541278.7868353\ttotal: 5.94s\tremaining: 2.22s\n",
      "797:\tlearn: 3541239.7557425\ttotal: 5.94s\tremaining: 2.21s\n",
      "798:\tlearn: 3538980.9918950\ttotal: 5.95s\tremaining: 2.2s\n",
      "799:\tlearn: 3536501.0577024\ttotal: 5.96s\tremaining: 2.2s\n",
      "800:\tlearn: 3531327.3230901\ttotal: 5.97s\tremaining: 2.19s\n",
      "801:\tlearn: 3531327.2811793\ttotal: 5.97s\tremaining: 2.18s\n",
      "802:\tlearn: 3528741.7078517\ttotal: 5.98s\tremaining: 2.17s\n",
      "803:\tlearn: 3526135.8469351\ttotal: 5.99s\tremaining: 2.17s\n",
      "804:\tlearn: 3525963.6308845\ttotal: 5.99s\tremaining: 2.16s\n",
      "805:\tlearn: 3524078.1356993\ttotal: 6s\tremaining: 2.15s\n",
      "806:\tlearn: 3522558.9208505\ttotal: 6.01s\tremaining: 2.15s\n",
      "807:\tlearn: 3521167.4371501\ttotal: 6.02s\tremaining: 2.14s\n",
      "808:\tlearn: 3518842.9132488\ttotal: 6.03s\tremaining: 2.13s\n",
      "809:\tlearn: 3517333.6114435\ttotal: 6.03s\tremaining: 2.12s\n",
      "810:\tlearn: 3515791.0480308\ttotal: 6.04s\tremaining: 2.12s\n",
      "811:\tlearn: 3513808.2820954\ttotal: 6.05s\tremaining: 2.11s\n",
      "812:\tlearn: 3511791.9870225\ttotal: 6.06s\tremaining: 2.1s\n",
      "813:\tlearn: 3509135.5463619\ttotal: 6.07s\tremaining: 2.1s\n",
      "814:\tlearn: 3505891.8005658\ttotal: 6.08s\tremaining: 2.09s\n",
      "815:\tlearn: 3504544.9116072\ttotal: 6.09s\tremaining: 2.08s\n",
      "816:\tlearn: 3503066.5400413\ttotal: 6.09s\tremaining: 2.07s\n",
      "817:\tlearn: 3501764.5049866\ttotal: 6.11s\tremaining: 2.07s\n",
      "818:\tlearn: 3501419.0043097\ttotal: 6.11s\tremaining: 2.06s\n",
      "819:\tlearn: 3500326.4282105\ttotal: 6.11s\tremaining: 2.05s\n",
      "820:\tlearn: 3497489.9961195\ttotal: 6.12s\tremaining: 2.04s\n",
      "821:\tlearn: 3495023.6399870\ttotal: 6.13s\tremaining: 2.04s\n",
      "822:\tlearn: 3492227.6225598\ttotal: 6.14s\tremaining: 2.03s\n",
      "823:\tlearn: 3487833.8116065\ttotal: 6.15s\tremaining: 2.02s\n",
      "824:\tlearn: 3483971.1991906\ttotal: 6.16s\tremaining: 2.02s\n",
      "825:\tlearn: 3482475.8046623\ttotal: 6.17s\tremaining: 2.01s\n",
      "826:\tlearn: 3482467.4501320\ttotal: 6.17s\tremaining: 2s\n",
      "827:\tlearn: 3481307.5056583\ttotal: 6.17s\tremaining: 1.99s\n",
      "828:\tlearn: 3479467.5901857\ttotal: 6.18s\tremaining: 1.98s\n",
      "829:\tlearn: 3478007.8969728\ttotal: 6.19s\tremaining: 1.98s\n",
      "830:\tlearn: 3476624.2297978\ttotal: 6.2s\tremaining: 1.97s\n",
      "831:\tlearn: 3476219.3946412\ttotal: 6.2s\tremaining: 1.96s\n",
      "832:\tlearn: 3474745.4134759\ttotal: 6.21s\tremaining: 1.95s\n",
      "833:\tlearn: 3474738.8035980\ttotal: 6.21s\tremaining: 1.94s\n",
      "834:\tlearn: 3473806.1084385\ttotal: 6.21s\tremaining: 1.93s\n",
      "835:\tlearn: 3472419.7818869\ttotal: 6.22s\tremaining: 1.93s\n",
      "836:\tlearn: 3471394.5406893\ttotal: 6.23s\tremaining: 1.92s\n",
      "837:\tlearn: 3468942.1016525\ttotal: 6.24s\tremaining: 1.91s\n",
      "838:\tlearn: 3466411.6403161\ttotal: 6.25s\tremaining: 1.91s\n",
      "839:\tlearn: 3464770.5649699\ttotal: 6.26s\tremaining: 1.9s\n",
      "840:\tlearn: 3462744.2662667\ttotal: 6.27s\tremaining: 1.89s\n",
      "841:\tlearn: 3460051.7901881\ttotal: 6.27s\tremaining: 1.89s\n",
      "842:\tlearn: 3458633.4275528\ttotal: 6.28s\tremaining: 1.88s\n",
      "843:\tlearn: 3457003.6740295\ttotal: 6.29s\tremaining: 1.87s\n",
      "844:\tlearn: 3455812.2378303\ttotal: 6.3s\tremaining: 1.86s\n",
      "845:\tlearn: 3455805.3300695\ttotal: 6.3s\tremaining: 1.85s\n",
      "846:\tlearn: 3454467.5597751\ttotal: 6.31s\tremaining: 1.85s\n",
      "847:\tlearn: 3453269.9372853\ttotal: 6.32s\tremaining: 1.84s\n",
      "848:\tlearn: 3451396.8347174\ttotal: 6.32s\tremaining: 1.83s\n",
      "849:\tlearn: 3449208.3511005\ttotal: 6.33s\tremaining: 1.83s\n",
      "850:\tlearn: 3445029.8084941\ttotal: 6.34s\tremaining: 1.82s\n",
      "851:\tlearn: 3442870.0297407\ttotal: 6.36s\tremaining: 1.81s\n",
      "852:\tlearn: 3439362.0484720\ttotal: 6.37s\tremaining: 1.81s\n",
      "853:\tlearn: 3438795.9542212\ttotal: 6.37s\tremaining: 1.8s\n",
      "854:\tlearn: 3437491.4919783\ttotal: 6.38s\tremaining: 1.79s\n",
      "855:\tlearn: 3433878.5810354\ttotal: 6.39s\tremaining: 1.78s\n",
      "856:\tlearn: 3431404.9939824\ttotal: 6.39s\tremaining: 1.77s\n",
      "857:\tlearn: 3429708.3458978\ttotal: 6.4s\tremaining: 1.77s\n",
      "858:\tlearn: 3426784.8199856\ttotal: 6.41s\tremaining: 1.76s\n",
      "859:\tlearn: 3425319.6316828\ttotal: 6.42s\tremaining: 1.75s\n",
      "860:\tlearn: 3425319.6158357\ttotal: 6.42s\tremaining: 1.75s\n",
      "861:\tlearn: 3423503.7818069\ttotal: 6.43s\tremaining: 1.74s\n",
      "862:\tlearn: 3422847.6731248\ttotal: 6.44s\tremaining: 1.73s\n",
      "863:\tlearn: 3420024.0221766\ttotal: 6.45s\tremaining: 1.72s\n",
      "864:\tlearn: 3419137.7025787\ttotal: 6.46s\tremaining: 1.72s\n",
      "865:\tlearn: 3416037.5980616\ttotal: 6.46s\tremaining: 1.71s\n",
      "866:\tlearn: 3413918.6688247\ttotal: 6.47s\tremaining: 1.7s\n",
      "867:\tlearn: 3413863.5989148\ttotal: 6.48s\tremaining: 1.69s\n",
      "868:\tlearn: 3411625.9866738\ttotal: 6.49s\tremaining: 1.69s\n",
      "869:\tlearn: 3409229.8384882\ttotal: 6.5s\tremaining: 1.68s\n",
      "870:\tlearn: 3406426.4001098\ttotal: 6.5s\tremaining: 1.67s\n",
      "871:\tlearn: 3403968.8698024\ttotal: 6.51s\tremaining: 1.66s\n",
      "872:\tlearn: 3403948.3097758\ttotal: 6.51s\tremaining: 1.66s\n",
      "873:\tlearn: 3402107.8988645\ttotal: 6.52s\tremaining: 1.65s\n",
      "874:\tlearn: 3399078.3193092\ttotal: 6.53s\tremaining: 1.64s\n",
      "875:\tlearn: 3398469.9301128\ttotal: 6.54s\tremaining: 1.63s\n",
      "876:\tlearn: 3396960.3635939\ttotal: 6.54s\tremaining: 1.63s\n",
      "877:\tlearn: 3394108.7005846\ttotal: 6.55s\tremaining: 1.62s\n",
      "878:\tlearn: 3392299.2325542\ttotal: 6.56s\tremaining: 1.61s\n",
      "879:\tlearn: 3389836.2009430\ttotal: 6.57s\tremaining: 1.6s\n",
      "880:\tlearn: 3386776.8210461\ttotal: 6.58s\tremaining: 1.6s\n",
      "881:\tlearn: 3386640.4857618\ttotal: 6.58s\tremaining: 1.59s\n",
      "882:\tlearn: 3383743.9935028\ttotal: 6.6s\tremaining: 1.58s\n",
      "883:\tlearn: 3380549.1390657\ttotal: 6.6s\tremaining: 1.58s\n",
      "884:\tlearn: 3380549.1226169\ttotal: 6.61s\tremaining: 1.57s\n",
      "885:\tlearn: 3379100.7410215\ttotal: 6.61s\tremaining: 1.56s\n",
      "886:\tlearn: 3376306.4175570\ttotal: 6.62s\tremaining: 1.55s\n",
      "887:\tlearn: 3375337.4397760\ttotal: 6.63s\tremaining: 1.54s\n",
      "888:\tlearn: 3372927.2712654\ttotal: 6.64s\tremaining: 1.54s\n",
      "889:\tlearn: 3370072.5703867\ttotal: 6.65s\tremaining: 1.53s\n",
      "890:\tlearn: 3369087.9170620\ttotal: 6.66s\tremaining: 1.52s\n",
      "891:\tlearn: 3366552.7476289\ttotal: 6.67s\tremaining: 1.52s\n",
      "892:\tlearn: 3364677.4771557\ttotal: 6.68s\tremaining: 1.51s\n",
      "893:\tlearn: 3364677.4456020\ttotal: 6.68s\tremaining: 1.5s\n",
      "894:\tlearn: 3362967.5692847\ttotal: 6.69s\tremaining: 1.49s\n",
      "895:\tlearn: 3359830.2615144\ttotal: 6.7s\tremaining: 1.49s\n",
      "896:\tlearn: 3357213.6055330\ttotal: 6.71s\tremaining: 1.48s\n",
      "897:\tlearn: 3355049.3672358\ttotal: 6.72s\tremaining: 1.47s\n",
      "898:\tlearn: 3353961.9072046\ttotal: 6.72s\tremaining: 1.47s\n",
      "899:\tlearn: 3353579.7678819\ttotal: 6.72s\tremaining: 1.46s\n",
      "900:\tlearn: 3351056.3265078\ttotal: 6.74s\tremaining: 1.45s\n",
      "901:\tlearn: 3349585.4221721\ttotal: 6.74s\tremaining: 1.44s\n",
      "902:\tlearn: 3347570.5341852\ttotal: 6.75s\tremaining: 1.44s\n",
      "903:\tlearn: 3345142.0276969\ttotal: 6.76s\tremaining: 1.43s\n",
      "904:\tlearn: 3342423.5203619\ttotal: 6.77s\tremaining: 1.42s\n",
      "905:\tlearn: 3340552.6946063\ttotal: 6.78s\tremaining: 1.41s\n",
      "906:\tlearn: 3338347.7273822\ttotal: 6.79s\tremaining: 1.41s\n",
      "907:\tlearn: 3336759.6245253\ttotal: 6.79s\tremaining: 1.4s\n",
      "908:\tlearn: 3334344.1355076\ttotal: 6.8s\tremaining: 1.39s\n",
      "909:\tlearn: 3332502.4427658\ttotal: 6.81s\tremaining: 1.38s\n",
      "910:\tlearn: 3332388.9821125\ttotal: 6.81s\tremaining: 1.38s\n",
      "911:\tlearn: 3331356.6586007\ttotal: 6.82s\tremaining: 1.37s\n",
      "912:\tlearn: 3329225.2077937\ttotal: 6.83s\tremaining: 1.36s\n",
      "913:\tlearn: 3326636.3505651\ttotal: 6.84s\tremaining: 1.35s\n",
      "914:\tlearn: 3324780.9270839\ttotal: 6.84s\tremaining: 1.34s\n",
      "915:\tlearn: 3322032.4158612\ttotal: 6.85s\tremaining: 1.34s\n",
      "916:\tlearn: 3320404.3127587\ttotal: 6.86s\tremaining: 1.33s\n",
      "917:\tlearn: 3320371.7410592\ttotal: 6.86s\tremaining: 1.32s\n",
      "918:\tlearn: 3317739.3990779\ttotal: 6.87s\tremaining: 1.31s\n",
      "919:\tlearn: 3315234.3341196\ttotal: 6.88s\tremaining: 1.31s\n",
      "920:\tlearn: 3313129.7597868\ttotal: 6.89s\tremaining: 1.3s\n",
      "921:\tlearn: 3312072.3856165\ttotal: 6.9s\tremaining: 1.29s\n",
      "922:\tlearn: 3310353.8195936\ttotal: 6.91s\tremaining: 1.29s\n",
      "923:\tlearn: 3309571.0474866\ttotal: 6.91s\tremaining: 1.28s\n",
      "924:\tlearn: 3308486.6182865\ttotal: 6.92s\tremaining: 1.27s\n",
      "925:\tlearn: 3306361.3829445\ttotal: 6.93s\tremaining: 1.26s\n",
      "926:\tlearn: 3304593.4067051\ttotal: 6.94s\tremaining: 1.26s\n",
      "927:\tlearn: 3302455.1491346\ttotal: 6.94s\tremaining: 1.25s\n",
      "928:\tlearn: 3301131.0965148\ttotal: 6.95s\tremaining: 1.24s\n",
      "929:\tlearn: 3298339.3695966\ttotal: 6.96s\tremaining: 1.23s\n",
      "930:\tlearn: 3297187.2422176\ttotal: 6.97s\tremaining: 1.23s\n",
      "931:\tlearn: 3296155.0462382\ttotal: 6.98s\tremaining: 1.22s\n",
      "932:\tlearn: 3294040.8591790\ttotal: 6.99s\tremaining: 1.21s\n",
      "933:\tlearn: 3292339.5976858\ttotal: 6.99s\tremaining: 1.21s\n",
      "934:\tlearn: 3289080.5530070\ttotal: 7s\tremaining: 1.2s\n",
      "935:\tlearn: 3288708.6265850\ttotal: 7s\tremaining: 1.19s\n",
      "936:\tlearn: 3288127.5264662\ttotal: 7.01s\tremaining: 1.18s\n",
      "937:\tlearn: 3287203.3066888\ttotal: 7.02s\tremaining: 1.18s\n",
      "938:\tlearn: 3285125.2266438\ttotal: 7.03s\tremaining: 1.17s\n",
      "939:\tlearn: 3282842.5622296\ttotal: 7.04s\tremaining: 1.16s\n",
      "940:\tlearn: 3281565.1446134\ttotal: 7.05s\tremaining: 1.15s\n",
      "941:\tlearn: 3280882.6748309\ttotal: 7.06s\tremaining: 1.15s\n",
      "942:\tlearn: 3279199.8725238\ttotal: 7.06s\tremaining: 1.14s\n",
      "943:\tlearn: 3277425.3884325\ttotal: 7.07s\tremaining: 1.13s\n",
      "944:\tlearn: 3275879.1281053\ttotal: 7.08s\tremaining: 1.12s\n",
      "945:\tlearn: 3275879.1039344\ttotal: 7.08s\tremaining: 1.11s\n",
      "946:\tlearn: 3272988.7813908\ttotal: 7.09s\tremaining: 1.11s\n",
      "947:\tlearn: 3272867.4728754\ttotal: 7.09s\tremaining: 1.1s\n",
      "948:\tlearn: 3270450.4585947\ttotal: 7.1s\tremaining: 1.09s\n",
      "949:\tlearn: 3269191.0745177\ttotal: 7.11s\tremaining: 1.08s\n",
      "950:\tlearn: 3267740.9729838\ttotal: 7.12s\tremaining: 1.08s\n",
      "951:\tlearn: 3265571.4546373\ttotal: 7.13s\tremaining: 1.07s\n",
      "952:\tlearn: 3262230.9295804\ttotal: 7.14s\tremaining: 1.06s\n",
      "953:\tlearn: 3260252.8213448\ttotal: 7.14s\tremaining: 1.05s\n",
      "954:\tlearn: 3258542.4741015\ttotal: 7.15s\tremaining: 1.05s\n",
      "955:\tlearn: 3256145.9120155\ttotal: 7.16s\tremaining: 1.04s\n",
      "956:\tlearn: 3254876.9329696\ttotal: 7.17s\tremaining: 1.03s\n",
      "957:\tlearn: 3251819.5538741\ttotal: 7.17s\tremaining: 1.03s\n",
      "958:\tlearn: 3250231.6827333\ttotal: 7.18s\tremaining: 1.02s\n",
      "959:\tlearn: 3248416.8476770\ttotal: 7.19s\tremaining: 1.01s\n",
      "960:\tlearn: 3246155.4947927\ttotal: 7.2s\tremaining: 1s\n",
      "961:\tlearn: 3244194.8487469\ttotal: 7.21s\tremaining: 998ms\n",
      "962:\tlearn: 3242117.6135496\ttotal: 7.22s\tremaining: 990ms\n",
      "963:\tlearn: 3240881.0318298\ttotal: 7.24s\tremaining: 983ms\n",
      "964:\tlearn: 3239786.8915973\ttotal: 7.24s\tremaining: 976ms\n",
      "965:\tlearn: 3238716.7404504\ttotal: 7.25s\tremaining: 968ms\n",
      "966:\tlearn: 3237068.8076465\ttotal: 7.25s\tremaining: 960ms\n",
      "967:\tlearn: 3237068.7790335\ttotal: 7.25s\tremaining: 952ms\n",
      "968:\tlearn: 3236732.8101355\ttotal: 7.26s\tremaining: 944ms\n",
      "969:\tlearn: 3236439.9646727\ttotal: 7.26s\tremaining: 936ms\n",
      "970:\tlearn: 3233664.0370551\ttotal: 7.27s\tremaining: 928ms\n",
      "971:\tlearn: 3231454.8927576\ttotal: 7.28s\tremaining: 921ms\n",
      "972:\tlearn: 3230143.2099870\ttotal: 7.28s\tremaining: 913ms\n",
      "973:\tlearn: 3228961.3886234\ttotal: 7.29s\tremaining: 906ms\n",
      "974:\tlearn: 3226900.2371628\ttotal: 7.3s\tremaining: 898ms\n",
      "975:\tlearn: 3224895.3779830\ttotal: 7.31s\tremaining: 891ms\n",
      "976:\tlearn: 3222713.4111956\ttotal: 7.32s\tremaining: 884ms\n",
      "977:\tlearn: 3221841.8536962\ttotal: 7.33s\tremaining: 877ms\n",
      "978:\tlearn: 3221833.4481763\ttotal: 7.33s\tremaining: 868ms\n",
      "979:\tlearn: 3220574.8152413\ttotal: 7.34s\tremaining: 861ms\n",
      "980:\tlearn: 3218986.5007644\ttotal: 7.35s\tremaining: 854ms\n",
      "981:\tlearn: 3217988.2464973\ttotal: 7.36s\tremaining: 847ms\n",
      "982:\tlearn: 3216420.0487672\ttotal: 7.37s\tremaining: 839ms\n",
      "983:\tlearn: 3214257.7718836\ttotal: 7.37s\tremaining: 832ms\n",
      "984:\tlearn: 3212753.2771767\ttotal: 7.38s\tremaining: 825ms\n",
      "985:\tlearn: 3211469.4845183\ttotal: 7.39s\tremaining: 817ms\n",
      "986:\tlearn: 3210314.5464826\ttotal: 7.4s\tremaining: 810ms\n",
      "987:\tlearn: 3207295.7547874\ttotal: 7.41s\tremaining: 803ms\n",
      "988:\tlearn: 3205149.9245669\ttotal: 7.42s\tremaining: 796ms\n",
      "989:\tlearn: 3202675.3956727\ttotal: 7.43s\tremaining: 788ms\n",
      "990:\tlearn: 3200930.7698746\ttotal: 7.45s\tremaining: 781ms\n",
      "991:\tlearn: 3200869.1688234\ttotal: 7.45s\tremaining: 773ms\n",
      "992:\tlearn: 3199087.6052282\ttotal: 7.46s\tremaining: 766ms\n",
      "993:\tlearn: 3195996.4531286\ttotal: 7.46s\tremaining: 759ms\n",
      "994:\tlearn: 3195414.3184353\ttotal: 7.47s\tremaining: 751ms\n",
      "995:\tlearn: 3191153.3959636\ttotal: 7.48s\tremaining: 743ms\n",
      "996:\tlearn: 3189622.9433496\ttotal: 7.49s\tremaining: 736ms\n",
      "997:\tlearn: 3187982.4521227\ttotal: 7.5s\tremaining: 729ms\n",
      "998:\tlearn: 3186430.3905887\ttotal: 7.51s\tremaining: 722ms\n",
      "999:\tlearn: 3184548.3867147\ttotal: 7.52s\tremaining: 714ms\n",
      "1000:\tlearn: 3182738.6067629\ttotal: 7.53s\tremaining: 707ms\n",
      "1001:\tlearn: 3181614.4707168\ttotal: 7.53s\tremaining: 699ms\n",
      "1002:\tlearn: 3179072.1971961\ttotal: 7.54s\tremaining: 692ms\n",
      "1003:\tlearn: 3177377.1537172\ttotal: 7.55s\tremaining: 685ms\n",
      "1004:\tlearn: 3175663.8369413\ttotal: 7.56s\tremaining: 677ms\n",
      "1005:\tlearn: 3174428.1228742\ttotal: 7.57s\tremaining: 670ms\n",
      "1006:\tlearn: 3172004.8683129\ttotal: 7.58s\tremaining: 662ms\n",
      "1007:\tlearn: 3170720.3337754\ttotal: 7.58s\tremaining: 655ms\n",
      "1008:\tlearn: 3169970.6484161\ttotal: 7.59s\tremaining: 647ms\n",
      "1009:\tlearn: 3168905.4883292\ttotal: 7.6s\tremaining: 639ms\n",
      "1010:\tlearn: 3168789.1778122\ttotal: 7.6s\tremaining: 631ms\n",
      "1011:\tlearn: 3166546.4077600\ttotal: 7.61s\tremaining: 624ms\n",
      "1012:\tlearn: 3164260.4513055\ttotal: 7.61s\tremaining: 616ms\n",
      "1013:\tlearn: 3159834.4180092\ttotal: 7.62s\tremaining: 609ms\n",
      "1014:\tlearn: 3157111.9970049\ttotal: 7.63s\tremaining: 601ms\n",
      "1015:\tlearn: 3154767.6564671\ttotal: 7.64s\tremaining: 594ms\n",
      "1016:\tlearn: 3152882.4936298\ttotal: 7.65s\tremaining: 587ms\n",
      "1017:\tlearn: 3151110.6380824\ttotal: 7.65s\tremaining: 579ms\n",
      "1018:\tlearn: 3149867.1486110\ttotal: 7.66s\tremaining: 572ms\n",
      "1019:\tlearn: 3149543.6834396\ttotal: 7.66s\tremaining: 564ms\n",
      "1020:\tlearn: 3148635.2550595\ttotal: 7.67s\tremaining: 556ms\n",
      "1021:\tlearn: 3147048.8652403\ttotal: 7.68s\tremaining: 549ms\n",
      "1022:\tlearn: 3144836.8222399\ttotal: 7.69s\tremaining: 541ms\n",
      "1023:\tlearn: 3142011.2484824\ttotal: 7.7s\tremaining: 534ms\n",
      "1024:\tlearn: 3139535.7966351\ttotal: 7.71s\tremaining: 527ms\n",
      "1025:\tlearn: 3137995.2245522\ttotal: 7.72s\tremaining: 519ms\n",
      "1026:\tlearn: 3136090.9419715\ttotal: 7.73s\tremaining: 512ms\n",
      "1027:\tlearn: 3133869.6565581\ttotal: 7.74s\tremaining: 504ms\n",
      "1028:\tlearn: 3130831.8040047\ttotal: 7.75s\tremaining: 497ms\n",
      "1029:\tlearn: 3129552.4663057\ttotal: 7.75s\tremaining: 489ms\n",
      "1030:\tlearn: 3129454.2438742\ttotal: 7.75s\tremaining: 481ms\n",
      "1031:\tlearn: 3124856.4019170\ttotal: 7.76s\tremaining: 474ms\n",
      "1032:\tlearn: 3122485.8941946\ttotal: 7.77s\tremaining: 467ms\n",
      "1033:\tlearn: 3120596.0136841\ttotal: 7.78s\tremaining: 459ms\n",
      "1034:\tlearn: 3120595.9990564\ttotal: 7.78s\tremaining: 451ms\n",
      "1035:\tlearn: 3119179.1658472\ttotal: 7.79s\tremaining: 444ms\n",
      "1036:\tlearn: 3117979.4945715\ttotal: 7.8s\tremaining: 436ms\n",
      "1037:\tlearn: 3116788.5522046\ttotal: 7.81s\tremaining: 429ms\n",
      "1038:\tlearn: 3113309.8062383\ttotal: 7.82s\tremaining: 422ms\n",
      "1039:\tlearn: 3111835.1441345\ttotal: 7.83s\tremaining: 414ms\n",
      "1040:\tlearn: 3110052.1346048\ttotal: 7.84s\tremaining: 407ms\n",
      "1041:\tlearn: 3108941.5577105\ttotal: 7.85s\tremaining: 399ms\n",
      "1042:\tlearn: 3108936.8658834\ttotal: 7.85s\tremaining: 391ms\n",
      "1043:\tlearn: 3106910.3081741\ttotal: 7.86s\tremaining: 384ms\n",
      "1044:\tlearn: 3103794.3868797\ttotal: 7.87s\tremaining: 376ms\n",
      "1045:\tlearn: 3102676.5495844\ttotal: 7.88s\tremaining: 369ms\n",
      "1046:\tlearn: 3102209.0989212\ttotal: 7.88s\tremaining: 361ms\n",
      "1047:\tlearn: 3100491.0749559\ttotal: 7.88s\tremaining: 353ms\n",
      "1048:\tlearn: 3100047.4333723\ttotal: 7.89s\tremaining: 346ms\n",
      "1049:\tlearn: 3097587.9955595\ttotal: 7.89s\tremaining: 338ms\n",
      "1050:\tlearn: 3095032.1884953\ttotal: 7.9s\tremaining: 331ms\n",
      "1051:\tlearn: 3093692.4121040\ttotal: 7.91s\tremaining: 323ms\n",
      "1052:\tlearn: 3091614.6427745\ttotal: 7.92s\tremaining: 316ms\n",
      "1053:\tlearn: 3089747.7691795\ttotal: 7.93s\tremaining: 308ms\n",
      "1054:\tlearn: 3089110.0033972\ttotal: 7.93s\tremaining: 301ms\n",
      "1055:\tlearn: 3086210.0611208\ttotal: 7.95s\tremaining: 293ms\n",
      "1056:\tlearn: 3083340.6177199\ttotal: 7.95s\tremaining: 286ms\n",
      "1057:\tlearn: 3082174.5241296\ttotal: 7.96s\tremaining: 279ms\n",
      "1058:\tlearn: 3082140.2269415\ttotal: 7.97s\tremaining: 271ms\n",
      "1059:\tlearn: 3081140.3826628\ttotal: 7.98s\tremaining: 263ms\n",
      "1060:\tlearn: 3079087.7833030\ttotal: 7.99s\tremaining: 256ms\n",
      "1061:\tlearn: 3078771.0103804\ttotal: 7.99s\tremaining: 248ms\n",
      "1062:\tlearn: 3077333.6388248\ttotal: 8s\tremaining: 241ms\n",
      "1063:\tlearn: 3077021.9651180\ttotal: 8.01s\tremaining: 233ms\n",
      "1064:\tlearn: 3075632.3752124\ttotal: 8.02s\tremaining: 226ms\n",
      "1065:\tlearn: 3074660.5203521\ttotal: 8.03s\tremaining: 218ms\n",
      "1066:\tlearn: 3072901.0233167\ttotal: 8.03s\tremaining: 211ms\n",
      "1067:\tlearn: 3072901.0150168\ttotal: 8.03s\tremaining: 203ms\n",
      "1068:\tlearn: 3070950.6722203\ttotal: 8.04s\tremaining: 196ms\n",
      "1069:\tlearn: 3070322.3064278\ttotal: 8.05s\tremaining: 188ms\n",
      "1070:\tlearn: 3068125.4337112\ttotal: 8.06s\tremaining: 181ms\n",
      "1071:\tlearn: 3065648.2563472\ttotal: 8.07s\tremaining: 173ms\n",
      "1072:\tlearn: 3064264.0103059\ttotal: 8.08s\tremaining: 166ms\n",
      "1073:\tlearn: 3063327.1380291\ttotal: 8.09s\tremaining: 158ms\n",
      "1074:\tlearn: 3062239.9251455\ttotal: 8.1s\tremaining: 151ms\n",
      "1075:\tlearn: 3060093.4941831\ttotal: 8.1s\tremaining: 143ms\n",
      "1076:\tlearn: 3058843.4353654\ttotal: 8.11s\tremaining: 136ms\n",
      "1077:\tlearn: 3058708.2940077\ttotal: 8.11s\tremaining: 128ms\n",
      "1078:\tlearn: 3056874.5986517\ttotal: 8.12s\tremaining: 120ms\n",
      "1079:\tlearn: 3054740.8827441\ttotal: 8.13s\tremaining: 113ms\n",
      "1080:\tlearn: 3053804.3784000\ttotal: 8.14s\tremaining: 105ms\n",
      "1081:\tlearn: 3052301.4693601\ttotal: 8.15s\tremaining: 97.9ms\n",
      "1082:\tlearn: 3051397.1291187\ttotal: 8.16s\tremaining: 90.4ms\n",
      "1083:\tlearn: 3049079.3590973\ttotal: 8.17s\tremaining: 82.9ms\n",
      "1084:\tlearn: 3048244.5699765\ttotal: 8.18s\tremaining: 75.4ms\n",
      "1085:\tlearn: 3048243.5617851\ttotal: 8.18s\tremaining: 67.8ms\n",
      "1086:\tlearn: 3046427.8039458\ttotal: 8.19s\tremaining: 60.3ms\n",
      "1087:\tlearn: 3044046.2872836\ttotal: 8.2s\tremaining: 52.7ms\n",
      "1088:\tlearn: 3042135.0538026\ttotal: 8.21s\tremaining: 45.2ms\n",
      "1089:\tlearn: 3039779.1197324\ttotal: 8.21s\tremaining: 37.7ms\n",
      "1090:\tlearn: 3038175.8718078\ttotal: 8.22s\tremaining: 30.1ms\n",
      "1091:\tlearn: 3038135.3446436\ttotal: 8.22s\tremaining: 22.6ms\n",
      "1092:\tlearn: 3036104.7862360\ttotal: 8.23s\tremaining: 15.1ms\n",
      "1093:\tlearn: 3034825.1929500\ttotal: 8.24s\tremaining: 7.53ms\n",
      "1094:\tlearn: 3032692.9961893\ttotal: 8.25s\tremaining: 0us\n",
      "[LightGBM] [Warning] min_data_in_leaf is set=30, min_child_samples=20 will be ignored. Current value: min_data_in_leaf=30\n",
      "[LightGBM] [Warning] min_data_in_leaf is set=30, min_child_samples=20 will be ignored. Current value: min_data_in_leaf=30\n",
      "[LightGBM] [Info] Auto-choosing col-wise multi-threading, the overhead of testing was 0.000477 seconds.\n",
      "You can set `force_col_wise=true` to remove the overhead.\n",
      "[LightGBM] [Info] Total Bins 1223\n",
      "[LightGBM] [Info] Number of data points in the train set: 10464, number of used features: 12\n",
      "[LightGBM] [Info] Start training from score 8983092.029817\n",
      "[LightGBM] [Warning] No further splits with positive gain, best gain: -inf\n",
      "[LightGBM] [Warning] No further splits with positive gain, best gain: -inf\n",
      "[LightGBM] [Warning] No further splits with positive gain, best gain: -inf\n",
      "[LightGBM] [Warning] No further splits with positive gain, best gain: -inf\n",
      "[LightGBM] [Warning] No further splits with positive gain, best gain: -inf\n",
      "[LightGBM] [Warning] No further splits with positive gain, best gain: -inf\n",
      "[LightGBM] [Warning] No further splits with positive gain, best gain: -inf\n",
      "[LightGBM] [Warning] No further splits with positive gain, best gain: -inf\n",
      "[LightGBM] [Warning] No further splits with positive gain, best gain: -inf\n",
      "[LightGBM] [Warning] No further splits with positive gain, best gain: -inf\n",
      "[LightGBM] [Warning] No further splits with positive gain, best gain: -inf\n",
      "[LightGBM] [Warning] No further splits with positive gain, best gain: -inf\n",
      "[LightGBM] [Warning] No further splits with positive gain, best gain: -inf\n",
      "[LightGBM] [Warning] No further splits with positive gain, best gain: -inf\n",
      "[LightGBM] [Warning] No further splits with positive gain, best gain: -inf\n",
      "[LightGBM] [Warning] No further splits with positive gain, best gain: -inf\n",
      "[LightGBM] [Warning] No further splits with positive gain, best gain: -inf\n",
      "[LightGBM] [Warning] No further splits with positive gain, best gain: -inf\n",
      "[LightGBM] [Warning] No further splits with positive gain, best gain: -inf\n",
      "[LightGBM] [Warning] No further splits with positive gain, best gain: -inf\n",
      "[LightGBM] [Warning] No further splits with positive gain, best gain: -inf\n",
      "[LightGBM] [Warning] No further splits with positive gain, best gain: -inf\n",
      "[LightGBM] [Warning] No further splits with positive gain, best gain: -inf\n",
      "[LightGBM] [Warning] No further splits with positive gain, best gain: -inf\n",
      "[LightGBM] [Warning] No further splits with positive gain, best gain: -inf\n",
      "[LightGBM] [Warning] No further splits with positive gain, best gain: -inf\n",
      "[LightGBM] [Warning] No further splits with positive gain, best gain: -inf\n",
      "[LightGBM] [Warning] No further splits with positive gain, best gain: -inf\n",
      "[LightGBM] [Warning] No further splits with positive gain, best gain: -inf\n",
      "[LightGBM] [Warning] No further splits with positive gain, best gain: -inf\n",
      "[LightGBM] [Warning] No further splits with positive gain, best gain: -inf\n",
      "[LightGBM] [Warning] No further splits with positive gain, best gain: -inf\n",
      "[LightGBM] [Warning] No further splits with positive gain, best gain: -inf\n",
      "[LightGBM] [Warning] No further splits with positive gain, best gain: -inf\n",
      "[LightGBM] [Warning] No further splits with positive gain, best gain: -inf\n",
      "[LightGBM] [Warning] No further splits with positive gain, best gain: -inf\n",
      "[LightGBM] [Warning] No further splits with positive gain, best gain: -inf\n",
      "[LightGBM] [Warning] No further splits with positive gain, best gain: -inf\n",
      "[LightGBM] [Warning] No further splits with positive gain, best gain: -inf\n",
      "[LightGBM] [Warning] No further splits with positive gain, best gain: -inf\n",
      "[LightGBM] [Warning] No further splits with positive gain, best gain: -inf\n",
      "[LightGBM] [Warning] No further splits with positive gain, best gain: -inf\n",
      "[LightGBM] [Warning] No further splits with positive gain, best gain: -inf\n",
      "[LightGBM] [Warning] No further splits with positive gain, best gain: -inf\n",
      "[LightGBM] [Warning] No further splits with positive gain, best gain: -inf\n",
      "[LightGBM] [Warning] No further splits with positive gain, best gain: -inf\n",
      "[LightGBM] [Warning] No further splits with positive gain, best gain: -inf\n",
      "[LightGBM] [Warning] No further splits with positive gain, best gain: -inf\n",
      "[LightGBM] [Warning] No further splits with positive gain, best gain: -inf\n",
      "[LightGBM] [Warning] No further splits with positive gain, best gain: -inf\n",
      "[LightGBM] [Warning] No further splits with positive gain, best gain: -inf\n",
      "[LightGBM] [Warning] No further splits with positive gain, best gain: -inf\n",
      "[LightGBM] [Warning] No further splits with positive gain, best gain: -inf\n",
      "[LightGBM] [Warning] No further splits with positive gain, best gain: -inf\n",
      "[LightGBM] [Warning] No further splits with positive gain, best gain: -inf\n",
      "[LightGBM] [Warning] No further splits with positive gain, best gain: -inf\n",
      "[LightGBM] [Warning] No further splits with positive gain, best gain: -inf\n",
      "[LightGBM] [Warning] No further splits with positive gain, best gain: -inf\n",
      "[LightGBM] [Warning] No further splits with positive gain, best gain: -inf\n",
      "[LightGBM] [Warning] No further splits with positive gain, best gain: -inf\n",
      "[LightGBM] [Warning] No further splits with positive gain, best gain: -inf\n",
      "[LightGBM] [Warning] No further splits with positive gain, best gain: -inf\n",
      "[LightGBM] [Warning] No further splits with positive gain, best gain: -inf\n",
      "[LightGBM] [Warning] No further splits with positive gain, best gain: -inf\n",
      "[LightGBM] [Warning] No further splits with positive gain, best gain: -inf\n",
      "[LightGBM] [Warning] No further splits with positive gain, best gain: -inf\n",
      "[LightGBM] [Warning] No further splits with positive gain, best gain: -inf\n",
      "[LightGBM] [Warning] No further splits with positive gain, best gain: -inf\n",
      "[LightGBM] [Warning] No further splits with positive gain, best gain: -inf\n",
      "[LightGBM] [Warning] No further splits with positive gain, best gain: -inf\n",
      "[LightGBM] [Warning] No further splits with positive gain, best gain: -inf\n",
      "[LightGBM] [Warning] No further splits with positive gain, best gain: -inf\n",
      "[LightGBM] [Warning] No further splits with positive gain, best gain: -inf\n",
      "[LightGBM] [Warning] No further splits with positive gain, best gain: -inf\n",
      "[LightGBM] [Warning] No further splits with positive gain, best gain: -inf\n",
      "[LightGBM] [Warning] No further splits with positive gain, best gain: -inf\n",
      "[LightGBM] [Warning] No further splits with positive gain, best gain: -inf\n",
      "[LightGBM] [Warning] No further splits with positive gain, best gain: -inf\n",
      "[LightGBM] [Warning] No further splits with positive gain, best gain: -inf\n",
      "[LightGBM] [Warning] No further splits with positive gain, best gain: -inf\n",
      "[LightGBM] [Warning] No further splits with positive gain, best gain: -inf\n",
      "[LightGBM] [Warning] No further splits with positive gain, best gain: -inf\n",
      "[LightGBM] [Warning] No further splits with positive gain, best gain: -inf\n",
      "[LightGBM] [Warning] No further splits with positive gain, best gain: -inf\n",
      "[LightGBM] [Warning] No further splits with positive gain, best gain: -inf\n",
      "[LightGBM] [Warning] No further splits with positive gain, best gain: -inf\n",
      "[LightGBM] [Warning] No further splits with positive gain, best gain: -inf\n",
      "[LightGBM] [Warning] No further splits with positive gain, best gain: -inf\n",
      "[LightGBM] [Warning] No further splits with positive gain, best gain: -inf\n",
      "[LightGBM] [Warning] No further splits with positive gain, best gain: -inf\n",
      "[LightGBM] [Warning] No further splits with positive gain, best gain: -inf\n",
      "[LightGBM] [Warning] No further splits with positive gain, best gain: -inf\n",
      "[LightGBM] [Warning] No further splits with positive gain, best gain: -inf\n",
      "[LightGBM] [Warning] No further splits with positive gain, best gain: -inf\n",
      "[LightGBM] [Warning] No further splits with positive gain, best gain: -inf\n",
      "[LightGBM] [Warning] No further splits with positive gain, best gain: -inf\n",
      "[LightGBM] [Warning] No further splits with positive gain, best gain: -inf\n",
      "[LightGBM] [Warning] No further splits with positive gain, best gain: -inf\n",
      "[LightGBM] [Warning] No further splits with positive gain, best gain: -inf\n",
      "[LightGBM] [Warning] No further splits with positive gain, best gain: -inf\n",
      "[LightGBM] [Warning] No further splits with positive gain, best gain: -inf\n",
      "[LightGBM] [Warning] No further splits with positive gain, best gain: -inf\n",
      "[LightGBM] [Warning] No further splits with positive gain, best gain: -inf\n",
      "[LightGBM] [Warning] No further splits with positive gain, best gain: -inf\n",
      "[LightGBM] [Warning] No further splits with positive gain, best gain: -inf\n",
      "[LightGBM] [Warning] No further splits with positive gain, best gain: -inf\n",
      "[LightGBM] [Warning] No further splits with positive gain, best gain: -inf\n",
      "[LightGBM] [Warning] No further splits with positive gain, best gain: -inf\n",
      "[LightGBM] [Warning] No further splits with positive gain, best gain: -inf\n",
      "[LightGBM] [Warning] No further splits with positive gain, best gain: -inf\n",
      "[LightGBM] [Warning] No further splits with positive gain, best gain: -inf\n",
      "[LightGBM] [Warning] No further splits with positive gain, best gain: -inf\n",
      "[LightGBM] [Warning] No further splits with positive gain, best gain: -inf\n",
      "[LightGBM] [Warning] No further splits with positive gain, best gain: -inf\n",
      "[LightGBM] [Warning] No further splits with positive gain, best gain: -inf\n",
      "[LightGBM] [Warning] No further splits with positive gain, best gain: -inf\n",
      "[LightGBM] [Warning] No further splits with positive gain, best gain: -inf\n",
      "[LightGBM] [Warning] No further splits with positive gain, best gain: -inf\n",
      "[LightGBM] [Warning] No further splits with positive gain, best gain: -inf\n",
      "[LightGBM] [Warning] No further splits with positive gain, best gain: -inf\n",
      "[LightGBM] [Warning] No further splits with positive gain, best gain: -inf\n",
      "[LightGBM] [Warning] No further splits with positive gain, best gain: -inf\n",
      "[LightGBM] [Warning] No further splits with positive gain, best gain: -inf\n",
      "[LightGBM] [Warning] No further splits with positive gain, best gain: -inf\n",
      "[LightGBM] [Warning] No further splits with positive gain, best gain: -inf\n",
      "[LightGBM] [Warning] No further splits with positive gain, best gain: -inf\n",
      "[LightGBM] [Warning] No further splits with positive gain, best gain: -inf\n",
      "[LightGBM] [Warning] No further splits with positive gain, best gain: -inf\n",
      "[LightGBM] [Warning] No further splits with positive gain, best gain: -inf\n",
      "[LightGBM] [Warning] No further splits with positive gain, best gain: -inf\n",
      "[LightGBM] [Warning] No further splits with positive gain, best gain: -inf\n",
      "[LightGBM] [Warning] No further splits with positive gain, best gain: -inf\n",
      "[LightGBM] [Warning] No further splits with positive gain, best gain: -inf\n",
      "[LightGBM] [Warning] No further splits with positive gain, best gain: -inf\n",
      "[LightGBM] [Warning] No further splits with positive gain, best gain: -inf\n",
      "[LightGBM] [Warning] No further splits with positive gain, best gain: -inf\n",
      "[LightGBM] [Warning] No further splits with positive gain, best gain: -inf\n",
      "[LightGBM] [Warning] No further splits with positive gain, best gain: -inf\n",
      "[LightGBM] [Warning] No further splits with positive gain, best gain: -inf\n",
      "[LightGBM] [Warning] No further splits with positive gain, best gain: -inf\n",
      "[LightGBM] [Warning] No further splits with positive gain, best gain: -inf\n",
      "[LightGBM] [Warning] No further splits with positive gain, best gain: -inf\n",
      "[LightGBM] [Warning] No further splits with positive gain, best gain: -inf\n",
      "[LightGBM] [Warning] No further splits with positive gain, best gain: -inf\n",
      "[LightGBM] [Warning] No further splits with positive gain, best gain: -inf\n",
      "[LightGBM] [Warning] No further splits with positive gain, best gain: -inf\n",
      "[LightGBM] [Warning] No further splits with positive gain, best gain: -inf\n",
      "[LightGBM] [Warning] No further splits with positive gain, best gain: -inf\n",
      "[LightGBM] [Warning] No further splits with positive gain, best gain: -inf\n",
      "[LightGBM] [Warning] No further splits with positive gain, best gain: -inf\n",
      "[LightGBM] [Warning] No further splits with positive gain, best gain: -inf\n",
      "[LightGBM] [Warning] No further splits with positive gain, best gain: -inf\n",
      "[LightGBM] [Warning] No further splits with positive gain, best gain: -inf\n",
      "[LightGBM] [Warning] No further splits with positive gain, best gain: -inf\n",
      "[LightGBM] [Warning] No further splits with positive gain, best gain: -inf\n",
      "[LightGBM] [Warning] No further splits with positive gain, best gain: -inf\n",
      "[LightGBM] [Warning] No further splits with positive gain, best gain: -inf\n",
      "[LightGBM] [Warning] No further splits with positive gain, best gain: -inf\n",
      "[LightGBM] [Warning] No further splits with positive gain, best gain: -inf\n",
      "[LightGBM] [Warning] No further splits with positive gain, best gain: -inf\n",
      "[LightGBM] [Warning] No further splits with positive gain, best gain: -inf\n",
      "[LightGBM] [Warning] No further splits with positive gain, best gain: -inf\n",
      "[LightGBM] [Warning] No further splits with positive gain, best gain: -inf\n",
      "[LightGBM] [Warning] No further splits with positive gain, best gain: -inf\n",
      "[LightGBM] [Warning] No further splits with positive gain, best gain: -inf\n",
      "[LightGBM] [Warning] No further splits with positive gain, best gain: -inf\n",
      "[LightGBM] [Warning] No further splits with positive gain, best gain: -inf\n",
      "[LightGBM] [Warning] No further splits with positive gain, best gain: -inf\n",
      "[LightGBM] [Warning] No further splits with positive gain, best gain: -inf\n",
      "[LightGBM] [Warning] No further splits with positive gain, best gain: -inf\n",
      "[LightGBM] [Warning] No further splits with positive gain, best gain: -inf\n",
      "[LightGBM] [Warning] No further splits with positive gain, best gain: -inf\n",
      "[LightGBM] [Warning] No further splits with positive gain, best gain: -inf\n",
      "[LightGBM] [Warning] No further splits with positive gain, best gain: -inf\n",
      "[LightGBM] [Warning] No further splits with positive gain, best gain: -inf\n",
      "[LightGBM] [Warning] No further splits with positive gain, best gain: -inf\n",
      "[LightGBM] [Warning] No further splits with positive gain, best gain: -inf\n",
      "[LightGBM] [Warning] No further splits with positive gain, best gain: -inf\n",
      "[LightGBM] [Warning] No further splits with positive gain, best gain: -inf\n",
      "[LightGBM] [Warning] No further splits with positive gain, best gain: -inf\n",
      "[LightGBM] [Warning] No further splits with positive gain, best gain: -inf\n",
      "[LightGBM] [Warning] No further splits with positive gain, best gain: -inf\n",
      "[LightGBM] [Warning] No further splits with positive gain, best gain: -inf\n",
      "[LightGBM] [Warning] No further splits with positive gain, best gain: -inf\n",
      "[LightGBM] [Warning] No further splits with positive gain, best gain: -inf\n",
      "[LightGBM] [Warning] No further splits with positive gain, best gain: -inf\n",
      "[LightGBM] [Warning] No further splits with positive gain, best gain: -inf\n",
      "[LightGBM] [Warning] No further splits with positive gain, best gain: -inf\n",
      "[LightGBM] [Warning] No further splits with positive gain, best gain: -inf\n",
      "[LightGBM] [Warning] No further splits with positive gain, best gain: -inf\n",
      "[LightGBM] [Warning] No further splits with positive gain, best gain: -inf\n",
      "[LightGBM] [Warning] No further splits with positive gain, best gain: -inf\n",
      "[LightGBM] [Warning] No further splits with positive gain, best gain: -inf\n",
      "[LightGBM] [Warning] No further splits with positive gain, best gain: -inf\n",
      "[LightGBM] [Warning] No further splits with positive gain, best gain: -inf\n",
      "[LightGBM] [Warning] No further splits with positive gain, best gain: -inf\n",
      "[LightGBM] [Warning] No further splits with positive gain, best gain: -inf\n",
      "[LightGBM] [Warning] No further splits with positive gain, best gain: -inf\n",
      "[LightGBM] [Warning] No further splits with positive gain, best gain: -inf\n",
      "[LightGBM] [Warning] No further splits with positive gain, best gain: -inf\n",
      "[LightGBM] [Warning] No further splits with positive gain, best gain: -inf\n",
      "[LightGBM] [Warning] No further splits with positive gain, best gain: -inf\n",
      "[LightGBM] [Warning] No further splits with positive gain, best gain: -inf\n",
      "[LightGBM] [Warning] No further splits with positive gain, best gain: -inf\n",
      "[LightGBM] [Warning] No further splits with positive gain, best gain: -inf\n",
      "[LightGBM] [Warning] No further splits with positive gain, best gain: -inf\n",
      "[LightGBM] [Warning] No further splits with positive gain, best gain: -inf\n",
      "[LightGBM] [Warning] No further splits with positive gain, best gain: -inf\n",
      "[LightGBM] [Warning] No further splits with positive gain, best gain: -inf\n",
      "[LightGBM] [Warning] No further splits with positive gain, best gain: -inf\n",
      "[LightGBM] [Warning] No further splits with positive gain, best gain: -inf\n",
      "[LightGBM] [Warning] No further splits with positive gain, best gain: -inf\n",
      "[LightGBM] [Warning] No further splits with positive gain, best gain: -inf\n",
      "[LightGBM] [Warning] No further splits with positive gain, best gain: -inf\n",
      "[LightGBM] [Warning] No further splits with positive gain, best gain: -inf\n",
      "[LightGBM] [Warning] No further splits with positive gain, best gain: -inf\n",
      "[LightGBM] [Warning] No further splits with positive gain, best gain: -inf\n",
      "[LightGBM] [Warning] No further splits with positive gain, best gain: -inf\n",
      "[LightGBM] [Warning] No further splits with positive gain, best gain: -inf\n",
      "[LightGBM] [Warning] No further splits with positive gain, best gain: -inf\n",
      "[LightGBM] [Warning] No further splits with positive gain, best gain: -inf\n",
      "[LightGBM] [Warning] No further splits with positive gain, best gain: -inf\n",
      "[LightGBM] [Warning] No further splits with positive gain, best gain: -inf\n",
      "[LightGBM] [Warning] No further splits with positive gain, best gain: -inf\n",
      "[LightGBM] [Warning] No further splits with positive gain, best gain: -inf\n",
      "[LightGBM] [Warning] No further splits with positive gain, best gain: -inf\n",
      "[LightGBM] [Warning] No further splits with positive gain, best gain: -inf\n",
      "[LightGBM] [Warning] No further splits with positive gain, best gain: -inf\n",
      "[LightGBM] [Warning] No further splits with positive gain, best gain: -inf\n",
      "[LightGBM] [Warning] No further splits with positive gain, best gain: -inf\n",
      "[LightGBM] [Warning] No further splits with positive gain, best gain: -inf\n",
      "[LightGBM] [Warning] No further splits with positive gain, best gain: -inf\n",
      "[LightGBM] [Warning] No further splits with positive gain, best gain: -inf\n",
      "[LightGBM] [Warning] No further splits with positive gain, best gain: -inf\n",
      "[LightGBM] [Warning] No further splits with positive gain, best gain: -inf\n",
      "[LightGBM] [Warning] No further splits with positive gain, best gain: -inf\n",
      "[LightGBM] [Warning] No further splits with positive gain, best gain: -inf\n",
      "[LightGBM] [Warning] No further splits with positive gain, best gain: -inf\n",
      "[LightGBM] [Warning] No further splits with positive gain, best gain: -inf\n",
      "[LightGBM] [Warning] No further splits with positive gain, best gain: -inf\n",
      "[LightGBM] [Warning] No further splits with positive gain, best gain: -inf\n",
      "[LightGBM] [Warning] No further splits with positive gain, best gain: -inf\n",
      "[LightGBM] [Warning] No further splits with positive gain, best gain: -inf\n",
      "[LightGBM] [Warning] No further splits with positive gain, best gain: -inf\n",
      "[LightGBM] [Warning] No further splits with positive gain, best gain: -inf\n",
      "[LightGBM] [Warning] No further splits with positive gain, best gain: -inf\n",
      "[LightGBM] [Warning] No further splits with positive gain, best gain: -inf\n",
      "[LightGBM] [Warning] No further splits with positive gain, best gain: -inf\n",
      "[LightGBM] [Warning] No further splits with positive gain, best gain: -inf\n",
      "[LightGBM] [Warning] No further splits with positive gain, best gain: -inf\n",
      "[LightGBM] [Warning] No further splits with positive gain, best gain: -inf\n",
      "[LightGBM] [Warning] No further splits with positive gain, best gain: -inf\n",
      "[LightGBM] [Warning] No further splits with positive gain, best gain: -inf\n",
      "[LightGBM] [Warning] No further splits with positive gain, best gain: -inf\n",
      "[LightGBM] [Warning] No further splits with positive gain, best gain: -inf\n",
      "[LightGBM] [Warning] No further splits with positive gain, best gain: -inf\n",
      "[LightGBM] [Warning] No further splits with positive gain, best gain: -inf\n",
      "[LightGBM] [Warning] No further splits with positive gain, best gain: -inf\n",
      "[LightGBM] [Warning] No further splits with positive gain, best gain: -inf\n",
      "[LightGBM] [Warning] No further splits with positive gain, best gain: -inf\n",
      "[LightGBM] [Warning] No further splits with positive gain, best gain: -inf\n",
      "[LightGBM] [Warning] No further splits with positive gain, best gain: -inf\n",
      "[LightGBM] [Warning] No further splits with positive gain, best gain: -inf\n",
      "[LightGBM] [Warning] No further splits with positive gain, best gain: -inf\n",
      "[LightGBM] [Warning] No further splits with positive gain, best gain: -inf\n",
      "[LightGBM] [Warning] No further splits with positive gain, best gain: -inf\n",
      "[LightGBM] [Warning] No further splits with positive gain, best gain: -inf\n",
      "[LightGBM] [Warning] No further splits with positive gain, best gain: -inf\n",
      "[LightGBM] [Warning] No further splits with positive gain, best gain: -inf\n",
      "[LightGBM] [Warning] No further splits with positive gain, best gain: -inf\n",
      "[LightGBM] [Warning] No further splits with positive gain, best gain: -inf\n",
      "[LightGBM] [Warning] No further splits with positive gain, best gain: -inf\n",
      "[LightGBM] [Warning] No further splits with positive gain, best gain: -inf\n",
      "[LightGBM] [Warning] No further splits with positive gain, best gain: -inf\n",
      "[LightGBM] [Warning] No further splits with positive gain, best gain: -inf\n",
      "[LightGBM] [Warning] No further splits with positive gain, best gain: -inf\n",
      "[LightGBM] [Warning] No further splits with positive gain, best gain: -inf\n",
      "[LightGBM] [Warning] No further splits with positive gain, best gain: -inf\n",
      "[LightGBM] [Warning] No further splits with positive gain, best gain: -inf\n",
      "[LightGBM] [Warning] No further splits with positive gain, best gain: -inf\n",
      "[LightGBM] [Warning] No further splits with positive gain, best gain: -inf\n",
      "[LightGBM] [Warning] No further splits with positive gain, best gain: -inf\n",
      "[LightGBM] [Warning] No further splits with positive gain, best gain: -inf\n",
      "[LightGBM] [Warning] No further splits with positive gain, best gain: -inf\n",
      "[LightGBM] [Warning] No further splits with positive gain, best gain: -inf\n",
      "[LightGBM] [Warning] No further splits with positive gain, best gain: -inf\n",
      "[LightGBM] [Warning] No further splits with positive gain, best gain: -inf\n",
      "[LightGBM] [Warning] No further splits with positive gain, best gain: -inf\n",
      "[LightGBM] [Warning] No further splits with positive gain, best gain: -inf\n",
      "[LightGBM] [Warning] No further splits with positive gain, best gain: -inf\n",
      "[LightGBM] [Warning] No further splits with positive gain, best gain: -inf\n",
      "[LightGBM] [Warning] No further splits with positive gain, best gain: -inf\n",
      "[LightGBM] [Warning] No further splits with positive gain, best gain: -inf\n",
      "[LightGBM] [Warning] No further splits with positive gain, best gain: -inf\n",
      "[LightGBM] [Warning] No further splits with positive gain, best gain: -inf\n",
      "[LightGBM] [Warning] No further splits with positive gain, best gain: -inf\n",
      "[LightGBM] [Warning] No further splits with positive gain, best gain: -inf\n",
      "[LightGBM] [Warning] No further splits with positive gain, best gain: -inf\n",
      "[LightGBM] [Warning] No further splits with positive gain, best gain: -inf\n",
      "[LightGBM] [Warning] No further splits with positive gain, best gain: -inf\n",
      "[LightGBM] [Warning] No further splits with positive gain, best gain: -inf\n",
      "[LightGBM] [Warning] No further splits with positive gain, best gain: -inf\n",
      "[LightGBM] [Warning] No further splits with positive gain, best gain: -inf\n",
      "[LightGBM] [Warning] No further splits with positive gain, best gain: -inf\n",
      "[LightGBM] [Warning] No further splits with positive gain, best gain: -inf\n",
      "[LightGBM] [Warning] No further splits with positive gain, best gain: -inf\n",
      "[LightGBM] [Warning] No further splits with positive gain, best gain: -inf\n",
      "[LightGBM] [Warning] No further splits with positive gain, best gain: -inf\n",
      "[LightGBM] [Warning] No further splits with positive gain, best gain: -inf\n",
      "[LightGBM] [Warning] No further splits with positive gain, best gain: -inf\n",
      "[LightGBM] [Warning] No further splits with positive gain, best gain: -inf\n",
      "[LightGBM] [Warning] No further splits with positive gain, best gain: -inf\n",
      "[LightGBM] [Warning] No further splits with positive gain, best gain: -inf\n",
      "[LightGBM] [Warning] No further splits with positive gain, best gain: -inf\n",
      "[LightGBM] [Warning] No further splits with positive gain, best gain: -inf\n",
      "[LightGBM] [Warning] No further splits with positive gain, best gain: -inf\n",
      "[LightGBM] [Warning] No further splits with positive gain, best gain: -inf\n",
      "[LightGBM] [Warning] No further splits with positive gain, best gain: -inf\n",
      "[LightGBM] [Warning] No further splits with positive gain, best gain: -inf\n",
      "[LightGBM] [Warning] No further splits with positive gain, best gain: -inf\n",
      "[LightGBM] [Warning] No further splits with positive gain, best gain: -inf\n",
      "[LightGBM] [Warning] No further splits with positive gain, best gain: -inf\n",
      "[LightGBM] [Warning] No further splits with positive gain, best gain: -inf\n",
      "[LightGBM] [Warning] No further splits with positive gain, best gain: -inf\n",
      "[LightGBM] [Warning] No further splits with positive gain, best gain: -inf\n",
      "[LightGBM] [Warning] No further splits with positive gain, best gain: -inf\n",
      "[LightGBM] [Warning] No further splits with positive gain, best gain: -inf\n",
      "[LightGBM] [Warning] No further splits with positive gain, best gain: -inf\n",
      "[LightGBM] [Warning] No further splits with positive gain, best gain: -inf\n",
      "[LightGBM] [Warning] No further splits with positive gain, best gain: -inf\n",
      "[LightGBM] [Warning] No further splits with positive gain, best gain: -inf\n",
      "[LightGBM] [Warning] No further splits with positive gain, best gain: -inf\n",
      "[LightGBM] [Warning] No further splits with positive gain, best gain: -inf\n",
      "[LightGBM] [Warning] No further splits with positive gain, best gain: -inf\n",
      "[LightGBM] [Warning] No further splits with positive gain, best gain: -inf\n",
      "[LightGBM] [Warning] No further splits with positive gain, best gain: -inf\n",
      "[LightGBM] [Warning] No further splits with positive gain, best gain: -inf\n",
      "[LightGBM] [Warning] No further splits with positive gain, best gain: -inf\n",
      "[LightGBM] [Warning] No further splits with positive gain, best gain: -inf\n",
      "[LightGBM] [Warning] No further splits with positive gain, best gain: -inf\n",
      "[LightGBM] [Warning] No further splits with positive gain, best gain: -inf\n",
      "[LightGBM] [Warning] No further splits with positive gain, best gain: -inf\n",
      "[LightGBM] [Warning] No further splits with positive gain, best gain: -inf\n",
      "[LightGBM] [Warning] No further splits with positive gain, best gain: -inf\n",
      "[LightGBM] [Warning] No further splits with positive gain, best gain: -inf\n",
      "[LightGBM] [Warning] No further splits with positive gain, best gain: -inf\n",
      "[LightGBM] [Warning] No further splits with positive gain, best gain: -inf\n",
      "[LightGBM] [Warning] No further splits with positive gain, best gain: -inf\n",
      "[LightGBM] [Warning] No further splits with positive gain, best gain: -inf\n",
      "[LightGBM] [Warning] No further splits with positive gain, best gain: -inf\n",
      "[LightGBM] [Warning] No further splits with positive gain, best gain: -inf\n",
      "[LightGBM] [Warning] No further splits with positive gain, best gain: -inf\n",
      "[LightGBM] [Warning] No further splits with positive gain, best gain: -inf\n",
      "[LightGBM] [Warning] No further splits with positive gain, best gain: -inf\n",
      "[LightGBM] [Warning] No further splits with positive gain, best gain: -inf\n",
      "[LightGBM] [Warning] No further splits with positive gain, best gain: -inf\n",
      "[LightGBM] [Warning] No further splits with positive gain, best gain: -inf\n",
      "[LightGBM] [Warning] No further splits with positive gain, best gain: -inf\n",
      "[LightGBM] [Warning] No further splits with positive gain, best gain: -inf\n",
      "[LightGBM] [Warning] No further splits with positive gain, best gain: -inf\n",
      "[LightGBM] [Warning] No further splits with positive gain, best gain: -inf\n",
      "[LightGBM] [Warning] No further splits with positive gain, best gain: -inf\n",
      "[LightGBM] [Warning] No further splits with positive gain, best gain: -inf\n",
      "[LightGBM] [Warning] No further splits with positive gain, best gain: -inf\n",
      "[LightGBM] [Warning] No further splits with positive gain, best gain: -inf\n",
      "[LightGBM] [Warning] No further splits with positive gain, best gain: -inf\n",
      "[LightGBM] [Warning] No further splits with positive gain, best gain: -inf\n",
      "[LightGBM] [Warning] No further splits with positive gain, best gain: -inf\n",
      "[LightGBM] [Warning] No further splits with positive gain, best gain: -inf\n",
      "[LightGBM] [Warning] No further splits with positive gain, best gain: -inf\n",
      "[LightGBM] [Warning] No further splits with positive gain, best gain: -inf\n",
      "[LightGBM] [Warning] No further splits with positive gain, best gain: -inf\n",
      "[LightGBM] [Warning] No further splits with positive gain, best gain: -inf\n",
      "[LightGBM] [Warning] No further splits with positive gain, best gain: -inf\n",
      "[LightGBM] [Warning] No further splits with positive gain, best gain: -inf\n",
      "[LightGBM] [Warning] No further splits with positive gain, best gain: -inf\n",
      "[LightGBM] [Warning] No further splits with positive gain, best gain: -inf\n",
      "[LightGBM] [Warning] No further splits with positive gain, best gain: -inf\n",
      "[LightGBM] [Warning] No further splits with positive gain, best gain: -inf\n",
      "[LightGBM] [Warning] No further splits with positive gain, best gain: -inf\n",
      "[LightGBM] [Warning] No further splits with positive gain, best gain: -inf\n",
      "[LightGBM] [Warning] No further splits with positive gain, best gain: -inf\n",
      "[LightGBM] [Warning] No further splits with positive gain, best gain: -inf\n",
      "[LightGBM] [Warning] No further splits with positive gain, best gain: -inf\n",
      "[LightGBM] [Warning] No further splits with positive gain, best gain: -inf\n",
      "[LightGBM] [Warning] No further splits with positive gain, best gain: -inf\n",
      "[LightGBM] [Warning] No further splits with positive gain, best gain: -inf\n",
      "[LightGBM] [Warning] No further splits with positive gain, best gain: -inf\n",
      "[LightGBM] [Warning] No further splits with positive gain, best gain: -inf\n",
      "[LightGBM] [Warning] No further splits with positive gain, best gain: -inf\n",
      "[LightGBM] [Warning] No further splits with positive gain, best gain: -inf\n",
      "[LightGBM] [Warning] No further splits with positive gain, best gain: -inf\n",
      "[LightGBM] [Warning] No further splits with positive gain, best gain: -inf\n",
      "[LightGBM] [Warning] No further splits with positive gain, best gain: -inf\n",
      "[LightGBM] [Warning] No further splits with positive gain, best gain: -inf\n",
      "[LightGBM] [Warning] No further splits with positive gain, best gain: -inf\n",
      "[LightGBM] [Warning] No further splits with positive gain, best gain: -inf\n",
      "[LightGBM] [Warning] No further splits with positive gain, best gain: -inf\n",
      "[LightGBM] [Warning] No further splits with positive gain, best gain: -inf\n",
      "[LightGBM] [Warning] No further splits with positive gain, best gain: -inf\n",
      "[LightGBM] [Warning] No further splits with positive gain, best gain: -inf\n",
      "[LightGBM] [Warning] No further splits with positive gain, best gain: -inf\n",
      "[LightGBM] [Warning] No further splits with positive gain, best gain: -inf\n",
      "[LightGBM] [Warning] No further splits with positive gain, best gain: -inf\n",
      "[LightGBM] [Warning] No further splits with positive gain, best gain: -inf\n",
      "[LightGBM] [Warning] No further splits with positive gain, best gain: -inf\n",
      "[LightGBM] [Warning] No further splits with positive gain, best gain: -inf\n",
      "[LightGBM] [Warning] No further splits with positive gain, best gain: -inf\n",
      "[LightGBM] [Warning] No further splits with positive gain, best gain: -inf\n",
      "[LightGBM] [Warning] No further splits with positive gain, best gain: -inf\n",
      "[LightGBM] [Warning] No further splits with positive gain, best gain: -inf\n",
      "[LightGBM] [Warning] No further splits with positive gain, best gain: -inf\n",
      "[LightGBM] [Warning] No further splits with positive gain, best gain: -inf\n",
      "[LightGBM] [Warning] No further splits with positive gain, best gain: -inf\n",
      "[LightGBM] [Warning] No further splits with positive gain, best gain: -inf\n",
      "[LightGBM] [Warning] No further splits with positive gain, best gain: -inf\n",
      "[LightGBM] [Warning] No further splits with positive gain, best gain: -inf\n",
      "[LightGBM] [Warning] No further splits with positive gain, best gain: -inf\n",
      "[LightGBM] [Warning] No further splits with positive gain, best gain: -inf\n",
      "[LightGBM] [Warning] No further splits with positive gain, best gain: -inf\n",
      "[LightGBM] [Warning] No further splits with positive gain, best gain: -inf\n",
      "[LightGBM] [Warning] No further splits with positive gain, best gain: -inf\n",
      "[LightGBM] [Warning] No further splits with positive gain, best gain: -inf\n",
      "[LightGBM] [Warning] No further splits with positive gain, best gain: -inf\n",
      "[LightGBM] [Warning] No further splits with positive gain, best gain: -inf\n",
      "[LightGBM] [Warning] No further splits with positive gain, best gain: -inf\n",
      "[LightGBM] [Warning] No further splits with positive gain, best gain: -inf\n",
      "[LightGBM] [Warning] No further splits with positive gain, best gain: -inf\n",
      "[LightGBM] [Warning] No further splits with positive gain, best gain: -inf\n",
      "[LightGBM] [Warning] No further splits with positive gain, best gain: -inf\n",
      "[LightGBM] [Warning] No further splits with positive gain, best gain: -inf\n",
      "[LightGBM] [Warning] No further splits with positive gain, best gain: -inf\n",
      "[LightGBM] [Warning] No further splits with positive gain, best gain: -inf\n",
      "[LightGBM] [Warning] No further splits with positive gain, best gain: -inf\n",
      "[LightGBM] [Warning] No further splits with positive gain, best gain: -inf\n",
      "[LightGBM] [Warning] No further splits with positive gain, best gain: -inf\n",
      "[LightGBM] [Warning] No further splits with positive gain, best gain: -inf\n",
      "[LightGBM] [Warning] No further splits with positive gain, best gain: -inf\n",
      "[LightGBM] [Warning] No further splits with positive gain, best gain: -inf\n",
      "[LightGBM] [Warning] No further splits with positive gain, best gain: -inf\n",
      "[LightGBM] [Warning] No further splits with positive gain, best gain: -inf\n",
      "[LightGBM] [Warning] No further splits with positive gain, best gain: -inf\n",
      "[LightGBM] [Warning] No further splits with positive gain, best gain: -inf\n",
      "[LightGBM] [Warning] No further splits with positive gain, best gain: -inf\n",
      "[LightGBM] [Warning] No further splits with positive gain, best gain: -inf\n",
      "[LightGBM] [Warning] No further splits with positive gain, best gain: -inf\n",
      "[LightGBM] [Warning] No further splits with positive gain, best gain: -inf\n",
      "[LightGBM] [Warning] No further splits with positive gain, best gain: -inf\n",
      "[LightGBM] [Warning] No further splits with positive gain, best gain: -inf\n",
      "[LightGBM] [Warning] No further splits with positive gain, best gain: -inf\n",
      "[LightGBM] [Warning] No further splits with positive gain, best gain: -inf\n",
      "[LightGBM] [Warning] No further splits with positive gain, best gain: -inf\n",
      "[LightGBM] [Warning] No further splits with positive gain, best gain: -inf\n",
      "[LightGBM] [Warning] No further splits with positive gain, best gain: -inf\n",
      "[LightGBM] [Warning] No further splits with positive gain, best gain: -inf\n",
      "[LightGBM] [Warning] No further splits with positive gain, best gain: -inf\n",
      "[LightGBM] [Warning] No further splits with positive gain, best gain: -inf\n",
      "[LightGBM] [Warning] No further splits with positive gain, best gain: -inf\n",
      "[LightGBM] [Warning] No further splits with positive gain, best gain: -inf\n",
      "[LightGBM] [Warning] No further splits with positive gain, best gain: -inf\n",
      "[LightGBM] [Warning] No further splits with positive gain, best gain: -inf\n",
      "[LightGBM] [Warning] No further splits with positive gain, best gain: -inf\n",
      "[LightGBM] [Warning] No further splits with positive gain, best gain: -inf\n",
      "[LightGBM] [Warning] No further splits with positive gain, best gain: -inf\n",
      "[LightGBM] [Warning] No further splits with positive gain, best gain: -inf\n",
      "[LightGBM] [Warning] No further splits with positive gain, best gain: -inf\n",
      "[LightGBM] [Warning] No further splits with positive gain, best gain: -inf\n",
      "[LightGBM] [Warning] No further splits with positive gain, best gain: -inf\n",
      "[LightGBM] [Warning] No further splits with positive gain, best gain: -inf\n",
      "[LightGBM] [Warning] No further splits with positive gain, best gain: -inf\n",
      "[LightGBM] [Warning] No further splits with positive gain, best gain: -inf\n",
      "[LightGBM] [Warning] No further splits with positive gain, best gain: -inf\n",
      "[LightGBM] [Warning] No further splits with positive gain, best gain: -inf\n",
      "[LightGBM] [Warning] No further splits with positive gain, best gain: -inf\n",
      "[LightGBM] [Warning] No further splits with positive gain, best gain: -inf\n",
      "[LightGBM] [Warning] No further splits with positive gain, best gain: -inf\n",
      "[LightGBM] [Warning] No further splits with positive gain, best gain: -inf\n",
      "[LightGBM] [Warning] No further splits with positive gain, best gain: -inf\n",
      "[LightGBM] [Warning] No further splits with positive gain, best gain: -inf\n",
      "[LightGBM] [Warning] No further splits with positive gain, best gain: -inf\n",
      "[LightGBM] [Warning] No further splits with positive gain, best gain: -inf\n",
      "[LightGBM] [Warning] No further splits with positive gain, best gain: -inf\n",
      "[LightGBM] [Warning] No further splits with positive gain, best gain: -inf\n",
      "[LightGBM] [Warning] No further splits with positive gain, best gain: -inf\n",
      "[LightGBM] [Warning] No further splits with positive gain, best gain: -inf\n",
      "[LightGBM] [Warning] No further splits with positive gain, best gain: -inf\n",
      "[LightGBM] [Warning] No further splits with positive gain, best gain: -inf\n",
      "[LightGBM] [Warning] No further splits with positive gain, best gain: -inf\n",
      "[LightGBM] [Warning] No further splits with positive gain, best gain: -inf\n",
      "[LightGBM] [Warning] No further splits with positive gain, best gain: -inf\n",
      "[LightGBM] [Warning] No further splits with positive gain, best gain: -inf\n",
      "[LightGBM] [Warning] No further splits with positive gain, best gain: -inf\n",
      "[LightGBM] [Warning] No further splits with positive gain, best gain: -inf\n",
      "[LightGBM] [Warning] No further splits with positive gain, best gain: -inf\n",
      "[LightGBM] [Warning] No further splits with positive gain, best gain: -inf\n",
      "[LightGBM] [Warning] No further splits with positive gain, best gain: -inf\n",
      "[LightGBM] [Warning] No further splits with positive gain, best gain: -inf\n",
      "[LightGBM] [Warning] No further splits with positive gain, best gain: -inf\n",
      "[LightGBM] [Warning] No further splits with positive gain, best gain: -inf\n",
      "[LightGBM] [Warning] No further splits with positive gain, best gain: -inf\n",
      "[LightGBM] [Warning] No further splits with positive gain, best gain: -inf\n",
      "[LightGBM] [Warning] No further splits with positive gain, best gain: -inf\n",
      "[LightGBM] [Warning] No further splits with positive gain, best gain: -inf\n",
      "[LightGBM] [Warning] No further splits with positive gain, best gain: -inf\n",
      "[LightGBM] [Warning] No further splits with positive gain, best gain: -inf\n",
      "[LightGBM] [Warning] No further splits with positive gain, best gain: -inf\n",
      "[LightGBM] [Warning] No further splits with positive gain, best gain: -inf\n",
      "[LightGBM] [Warning] No further splits with positive gain, best gain: -inf\n",
      "[LightGBM] [Warning] No further splits with positive gain, best gain: -inf\n",
      "[LightGBM] [Warning] No further splits with positive gain, best gain: -inf\n",
      "[LightGBM] [Warning] No further splits with positive gain, best gain: -inf\n",
      "[LightGBM] [Warning] No further splits with positive gain, best gain: -inf\n",
      "[LightGBM] [Warning] No further splits with positive gain, best gain: -inf\n",
      "[LightGBM] [Warning] No further splits with positive gain, best gain: -inf\n",
      "[LightGBM] [Warning] No further splits with positive gain, best gain: -inf\n",
      "[LightGBM] [Warning] No further splits with positive gain, best gain: -inf\n",
      "[LightGBM] [Warning] No further splits with positive gain, best gain: -inf\n",
      "[LightGBM] [Warning] No further splits with positive gain, best gain: -inf\n",
      "[LightGBM] [Warning] No further splits with positive gain, best gain: -inf\n",
      "[LightGBM] [Warning] No further splits with positive gain, best gain: -inf\n",
      "[LightGBM] [Warning] No further splits with positive gain, best gain: -inf\n",
      "[LightGBM] [Warning] No further splits with positive gain, best gain: -inf\n",
      "[LightGBM] [Warning] No further splits with positive gain, best gain: -inf\n",
      "[LightGBM] [Warning] No further splits with positive gain, best gain: -inf\n",
      "[LightGBM] [Warning] No further splits with positive gain, best gain: -inf\n",
      "[LightGBM] [Warning] No further splits with positive gain, best gain: -inf\n",
      "[LightGBM] [Warning] No further splits with positive gain, best gain: -inf\n",
      "[LightGBM] [Warning] No further splits with positive gain, best gain: -inf\n",
      "[LightGBM] [Warning] No further splits with positive gain, best gain: -inf\n",
      "[LightGBM] [Warning] No further splits with positive gain, best gain: -inf\n",
      "[LightGBM] [Warning] No further splits with positive gain, best gain: -inf\n",
      "[LightGBM] [Warning] No further splits with positive gain, best gain: -inf\n",
      "[LightGBM] [Warning] No further splits with positive gain, best gain: -inf\n",
      "[LightGBM] [Warning] No further splits with positive gain, best gain: -inf\n",
      "[LightGBM] [Warning] No further splits with positive gain, best gain: -inf\n",
      "[LightGBM] [Warning] No further splits with positive gain, best gain: -inf\n",
      "[LightGBM] [Warning] No further splits with positive gain, best gain: -inf\n",
      "[LightGBM] [Warning] No further splits with positive gain, best gain: -inf\n",
      "[LightGBM] [Warning] No further splits with positive gain, best gain: -inf\n",
      "[LightGBM] [Warning] No further splits with positive gain, best gain: -inf\n",
      "[LightGBM] [Warning] No further splits with positive gain, best gain: -inf\n",
      "[LightGBM] [Warning] No further splits with positive gain, best gain: -inf\n",
      "[LightGBM] [Warning] No further splits with positive gain, best gain: -inf\n",
      "[LightGBM] [Warning] No further splits with positive gain, best gain: -inf\n",
      "[LightGBM] [Warning] No further splits with positive gain, best gain: -inf\n",
      "[LightGBM] [Warning] No further splits with positive gain, best gain: -inf\n",
      "[LightGBM] [Warning] No further splits with positive gain, best gain: -inf\n",
      "[LightGBM] [Warning] No further splits with positive gain, best gain: -inf\n",
      "[LightGBM] [Warning] No further splits with positive gain, best gain: -inf\n",
      "[LightGBM] [Warning] No further splits with positive gain, best gain: -inf\n",
      "[LightGBM] [Warning] No further splits with positive gain, best gain: -inf\n",
      "[LightGBM] [Warning] No further splits with positive gain, best gain: -inf\n",
      "[LightGBM] [Warning] No further splits with positive gain, best gain: -inf\n",
      "[LightGBM] [Warning] No further splits with positive gain, best gain: -inf\n",
      "[LightGBM] [Warning] No further splits with positive gain, best gain: -inf\n",
      "[LightGBM] [Warning] No further splits with positive gain, best gain: -inf\n",
      "[LightGBM] [Warning] No further splits with positive gain, best gain: -inf\n",
      "[LightGBM] [Warning] No further splits with positive gain, best gain: -inf\n",
      "[LightGBM] [Warning] No further splits with positive gain, best gain: -inf\n",
      "[LightGBM] [Warning] No further splits with positive gain, best gain: -inf\n",
      "[LightGBM] [Warning] No further splits with positive gain, best gain: -inf\n",
      "[LightGBM] [Warning] No further splits with positive gain, best gain: -inf\n",
      "[LightGBM] [Warning] No further splits with positive gain, best gain: -inf\n",
      "[LightGBM] [Warning] No further splits with positive gain, best gain: -inf\n",
      "[LightGBM] [Warning] No further splits with positive gain, best gain: -inf\n",
      "[LightGBM] [Warning] No further splits with positive gain, best gain: -inf\n",
      "[LightGBM] [Warning] No further splits with positive gain, best gain: -inf\n",
      "[LightGBM] [Warning] No further splits with positive gain, best gain: -inf\n",
      "[LightGBM] [Warning] No further splits with positive gain, best gain: -inf\n",
      "[LightGBM] [Warning] No further splits with positive gain, best gain: -inf\n",
      "[LightGBM] [Warning] No further splits with positive gain, best gain: -inf\n",
      "[LightGBM] [Warning] No further splits with positive gain, best gain: -inf\n",
      "[LightGBM] [Warning] No further splits with positive gain, best gain: -inf\n",
      "[LightGBM] [Warning] No further splits with positive gain, best gain: -inf\n",
      "[LightGBM] [Warning] No further splits with positive gain, best gain: -inf\n",
      "[LightGBM] [Warning] No further splits with positive gain, best gain: -inf\n",
      "[LightGBM] [Warning] No further splits with positive gain, best gain: -inf\n",
      "[LightGBM] [Warning] No further splits with positive gain, best gain: -inf\n",
      "[LightGBM] [Warning] No further splits with positive gain, best gain: -inf\n",
      "[LightGBM] [Warning] No further splits with positive gain, best gain: -inf\n",
      "[LightGBM] [Warning] No further splits with positive gain, best gain: -inf\n",
      "[LightGBM] [Warning] No further splits with positive gain, best gain: -inf\n",
      "[LightGBM] [Warning] No further splits with positive gain, best gain: -inf\n",
      "[LightGBM] [Warning] No further splits with positive gain, best gain: -inf\n",
      "[LightGBM] [Warning] No further splits with positive gain, best gain: -inf\n",
      "[LightGBM] [Warning] No further splits with positive gain, best gain: -inf\n",
      "[LightGBM] [Warning] No further splits with positive gain, best gain: -inf\n",
      "[LightGBM] [Warning] No further splits with positive gain, best gain: -inf\n",
      "[LightGBM] [Warning] No further splits with positive gain, best gain: -inf\n",
      "[LightGBM] [Warning] No further splits with positive gain, best gain: -inf\n",
      "[LightGBM] [Warning] No further splits with positive gain, best gain: -inf\n",
      "[LightGBM] [Warning] No further splits with positive gain, best gain: -inf\n",
      "[LightGBM] [Warning] No further splits with positive gain, best gain: -inf\n",
      "[LightGBM] [Warning] No further splits with positive gain, best gain: -inf\n",
      "[LightGBM] [Warning] No further splits with positive gain, best gain: -inf\n",
      "[LightGBM] [Warning] No further splits with positive gain, best gain: -inf\n",
      "[LightGBM] [Warning] No further splits with positive gain, best gain: -inf\n",
      "[LightGBM] [Warning] No further splits with positive gain, best gain: -inf\n",
      "[LightGBM] [Warning] No further splits with positive gain, best gain: -inf\n",
      "[LightGBM] [Warning] No further splits with positive gain, best gain: -inf\n",
      "[LightGBM] [Warning] No further splits with positive gain, best gain: -inf\n",
      "[LightGBM] [Warning] No further splits with positive gain, best gain: -inf\n",
      "[LightGBM] [Warning] No further splits with positive gain, best gain: -inf\n",
      "[LightGBM] [Warning] No further splits with positive gain, best gain: -inf\n",
      "[LightGBM] [Warning] No further splits with positive gain, best gain: -inf\n",
      "[LightGBM] [Warning] No further splits with positive gain, best gain: -inf\n",
      "[LightGBM] [Warning] No further splits with positive gain, best gain: -inf\n",
      "[LightGBM] [Warning] No further splits with positive gain, best gain: -inf\n",
      "[LightGBM] [Warning] No further splits with positive gain, best gain: -inf\n",
      "[LightGBM] [Warning] No further splits with positive gain, best gain: -inf\n",
      "[LightGBM] [Warning] No further splits with positive gain, best gain: -inf\n",
      "[LightGBM] [Warning] No further splits with positive gain, best gain: -inf\n",
      "[LightGBM] [Warning] No further splits with positive gain, best gain: -inf\n",
      "[LightGBM] [Warning] No further splits with positive gain, best gain: -inf\n",
      "[LightGBM] [Warning] No further splits with positive gain, best gain: -inf\n",
      "[LightGBM] [Warning] No further splits with positive gain, best gain: -inf\n",
      "[LightGBM] [Warning] No further splits with positive gain, best gain: -inf\n",
      "[LightGBM] [Warning] No further splits with positive gain, best gain: -inf\n",
      "[LightGBM] [Warning] No further splits with positive gain, best gain: -inf\n",
      "[LightGBM] [Warning] No further splits with positive gain, best gain: -inf\n",
      "[LightGBM] [Warning] No further splits with positive gain, best gain: -inf\n",
      "[LightGBM] [Warning] No further splits with positive gain, best gain: -inf\n",
      "[LightGBM] [Warning] No further splits with positive gain, best gain: -inf\n",
      "[LightGBM] [Warning] No further splits with positive gain, best gain: -inf\n",
      "[LightGBM] [Warning] No further splits with positive gain, best gain: -inf\n",
      "[LightGBM] [Warning] No further splits with positive gain, best gain: -inf\n",
      "[LightGBM] [Warning] No further splits with positive gain, best gain: -inf\n",
      "[LightGBM] [Warning] No further splits with positive gain, best gain: -inf\n",
      "[LightGBM] [Warning] No further splits with positive gain, best gain: -inf\n",
      "[LightGBM] [Warning] No further splits with positive gain, best gain: -inf\n",
      "[LightGBM] [Warning] No further splits with positive gain, best gain: -inf\n",
      "[LightGBM] [Warning] No further splits with positive gain, best gain: -inf\n",
      "[LightGBM] [Warning] No further splits with positive gain, best gain: -inf\n",
      "[LightGBM] [Warning] No further splits with positive gain, best gain: -inf\n",
      "[LightGBM] [Warning] No further splits with positive gain, best gain: -inf\n",
      "[LightGBM] [Warning] No further splits with positive gain, best gain: -inf\n",
      "[LightGBM] [Warning] No further splits with positive gain, best gain: -inf\n",
      "[LightGBM] [Warning] No further splits with positive gain, best gain: -inf\n",
      "[LightGBM] [Warning] No further splits with positive gain, best gain: -inf\n",
      "[LightGBM] [Warning] No further splits with positive gain, best gain: -inf\n",
      "[LightGBM] [Warning] No further splits with positive gain, best gain: -inf\n",
      "[LightGBM] [Warning] No further splits with positive gain, best gain: -inf\n",
      "[LightGBM] [Warning] No further splits with positive gain, best gain: -inf\n",
      "[LightGBM] [Warning] No further splits with positive gain, best gain: -inf\n",
      "[LightGBM] [Warning] No further splits with positive gain, best gain: -inf\n",
      "[LightGBM] [Warning] No further splits with positive gain, best gain: -inf\n",
      "[LightGBM] [Warning] No further splits with positive gain, best gain: -inf\n",
      "[LightGBM] [Warning] No further splits with positive gain, best gain: -inf\n",
      "[LightGBM] [Warning] No further splits with positive gain, best gain: -inf\n",
      "[LightGBM] [Warning] No further splits with positive gain, best gain: -inf\n",
      "[LightGBM] [Warning] No further splits with positive gain, best gain: -inf\n",
      "[LightGBM] [Warning] No further splits with positive gain, best gain: -inf\n",
      "[LightGBM] [Warning] No further splits with positive gain, best gain: -inf\n",
      "[LightGBM] [Warning] No further splits with positive gain, best gain: -inf\n",
      "[LightGBM] [Warning] No further splits with positive gain, best gain: -inf\n",
      "[LightGBM] [Warning] No further splits with positive gain, best gain: -inf\n",
      "[LightGBM] [Warning] No further splits with positive gain, best gain: -inf\n",
      "[LightGBM] [Warning] No further splits with positive gain, best gain: -inf\n",
      "[LightGBM] [Warning] No further splits with positive gain, best gain: -inf\n",
      "[LightGBM] [Warning] No further splits with positive gain, best gain: -inf\n",
      "[LightGBM] [Warning] No further splits with positive gain, best gain: -inf\n",
      "[LightGBM] [Warning] No further splits with positive gain, best gain: -inf\n",
      "[LightGBM] [Warning] No further splits with positive gain, best gain: -inf\n",
      "[LightGBM] [Warning] No further splits with positive gain, best gain: -inf\n",
      "[LightGBM] [Warning] No further splits with positive gain, best gain: -inf\n",
      "[LightGBM] [Warning] No further splits with positive gain, best gain: -inf\n",
      "[LightGBM] [Warning] No further splits with positive gain, best gain: -inf\n",
      "[LightGBM] [Warning] No further splits with positive gain, best gain: -inf\n",
      "[LightGBM] [Warning] No further splits with positive gain, best gain: -inf\n",
      "[LightGBM] [Warning] No further splits with positive gain, best gain: -inf\n",
      "[LightGBM] [Warning] No further splits with positive gain, best gain: -inf\n",
      "[LightGBM] [Warning] No further splits with positive gain, best gain: -inf\n",
      "[LightGBM] [Warning] No further splits with positive gain, best gain: -inf\n",
      "[LightGBM] [Warning] No further splits with positive gain, best gain: -inf\n",
      "[LightGBM] [Warning] No further splits with positive gain, best gain: -inf\n",
      "[LightGBM] [Warning] No further splits with positive gain, best gain: -inf\n",
      "[LightGBM] [Warning] No further splits with positive gain, best gain: -inf\n",
      "[LightGBM] [Warning] No further splits with positive gain, best gain: -inf\n",
      "[LightGBM] [Warning] No further splits with positive gain, best gain: -inf\n",
      "[LightGBM] [Warning] No further splits with positive gain, best gain: -inf\n",
      "[LightGBM] [Warning] No further splits with positive gain, best gain: -inf\n",
      "[LightGBM] [Warning] No further splits with positive gain, best gain: -inf\n",
      "[LightGBM] [Warning] No further splits with positive gain, best gain: -inf\n",
      "[LightGBM] [Warning] No further splits with positive gain, best gain: -inf\n",
      "[LightGBM] [Warning] No further splits with positive gain, best gain: -inf\n",
      "[LightGBM] [Warning] No further splits with positive gain, best gain: -inf\n",
      "[LightGBM] [Warning] No further splits with positive gain, best gain: -inf\n",
      "[LightGBM] [Warning] No further splits with positive gain, best gain: -inf\n",
      "[LightGBM] [Warning] No further splits with positive gain, best gain: -inf\n",
      "[LightGBM] [Warning] No further splits with positive gain, best gain: -inf\n",
      "[LightGBM] [Warning] No further splits with positive gain, best gain: -inf\n",
      "[LightGBM] [Warning] No further splits with positive gain, best gain: -inf\n",
      "[LightGBM] [Warning] No further splits with positive gain, best gain: -inf\n",
      "[LightGBM] [Warning] No further splits with positive gain, best gain: -inf\n",
      "[LightGBM] [Warning] No further splits with positive gain, best gain: -inf\n",
      "[LightGBM] [Warning] No further splits with positive gain, best gain: -inf\n",
      "[LightGBM] [Warning] No further splits with positive gain, best gain: -inf\n",
      "[LightGBM] [Warning] No further splits with positive gain, best gain: -inf\n",
      "[LightGBM] [Warning] No further splits with positive gain, best gain: -inf\n",
      "[LightGBM] [Warning] No further splits with positive gain, best gain: -inf\n",
      "[LightGBM] [Warning] No further splits with positive gain, best gain: -inf\n",
      "[LightGBM] [Warning] No further splits with positive gain, best gain: -inf\n",
      "[LightGBM] [Warning] No further splits with positive gain, best gain: -inf\n",
      "[LightGBM] [Warning] No further splits with positive gain, best gain: -inf\n",
      "[LightGBM] [Warning] No further splits with positive gain, best gain: -inf\n",
      "[LightGBM] [Warning] No further splits with positive gain, best gain: -inf\n",
      "[LightGBM] [Warning] No further splits with positive gain, best gain: -inf\n",
      "[LightGBM] [Warning] No further splits with positive gain, best gain: -inf\n",
      "[LightGBM] [Warning] No further splits with positive gain, best gain: -inf\n",
      "[LightGBM] [Warning] No further splits with positive gain, best gain: -inf\n",
      "[LightGBM] [Warning] No further splits with positive gain, best gain: -inf\n",
      "[LightGBM] [Warning] No further splits with positive gain, best gain: -inf\n",
      "[LightGBM] [Warning] No further splits with positive gain, best gain: -inf\n",
      "[LightGBM] [Warning] No further splits with positive gain, best gain: -inf\n",
      "[LightGBM] [Warning] No further splits with positive gain, best gain: -inf\n",
      "[LightGBM] [Warning] No further splits with positive gain, best gain: -inf\n",
      "[LightGBM] [Warning] No further splits with positive gain, best gain: -inf\n",
      "[LightGBM] [Warning] No further splits with positive gain, best gain: -inf\n",
      "[LightGBM] [Warning] No further splits with positive gain, best gain: -inf\n",
      "[LightGBM] [Warning] No further splits with positive gain, best gain: -inf\n",
      "[LightGBM] [Warning] No further splits with positive gain, best gain: -inf\n",
      "[LightGBM] [Warning] No further splits with positive gain, best gain: -inf\n",
      "[LightGBM] [Warning] No further splits with positive gain, best gain: -inf\n",
      "[LightGBM] [Warning] No further splits with positive gain, best gain: -inf\n",
      "[LightGBM] [Warning] No further splits with positive gain, best gain: -inf\n",
      "[LightGBM] [Warning] No further splits with positive gain, best gain: -inf\n",
      "[LightGBM] [Warning] No further splits with positive gain, best gain: -inf\n",
      "[LightGBM] [Warning] No further splits with positive gain, best gain: -inf\n",
      "[LightGBM] [Warning] No further splits with positive gain, best gain: -inf\n",
      "[LightGBM] [Warning] No further splits with positive gain, best gain: -inf\n",
      "[LightGBM] [Warning] No further splits with positive gain, best gain: -inf\n",
      "[LightGBM] [Warning] No further splits with positive gain, best gain: -inf\n",
      "[LightGBM] [Warning] No further splits with positive gain, best gain: -inf\n",
      "[LightGBM] [Warning] No further splits with positive gain, best gain: -inf\n",
      "[LightGBM] [Warning] No further splits with positive gain, best gain: -inf\n",
      "[LightGBM] [Warning] No further splits with positive gain, best gain: -inf\n",
      "[LightGBM] [Warning] No further splits with positive gain, best gain: -inf\n",
      "[LightGBM] [Warning] No further splits with positive gain, best gain: -inf\n",
      "[LightGBM] [Warning] No further splits with positive gain, best gain: -inf\n",
      "[LightGBM] [Warning] No further splits with positive gain, best gain: -inf\n",
      "[LightGBM] [Warning] No further splits with positive gain, best gain: -inf\n",
      "[LightGBM] [Warning] No further splits with positive gain, best gain: -inf\n",
      "[LightGBM] [Warning] No further splits with positive gain, best gain: -inf\n",
      "[LightGBM] [Warning] No further splits with positive gain, best gain: -inf\n",
      "[LightGBM] [Warning] No further splits with positive gain, best gain: -inf\n",
      "[LightGBM] [Warning] No further splits with positive gain, best gain: -inf\n",
      "[LightGBM] [Warning] No further splits with positive gain, best gain: -inf\n",
      "[LightGBM] [Warning] No further splits with positive gain, best gain: -inf\n",
      "[LightGBM] [Warning] No further splits with positive gain, best gain: -inf\n",
      "[LightGBM] [Warning] No further splits with positive gain, best gain: -inf\n",
      "[LightGBM] [Warning] No further splits with positive gain, best gain: -inf\n",
      "[LightGBM] [Warning] No further splits with positive gain, best gain: -inf\n",
      "[LightGBM] [Warning] No further splits with positive gain, best gain: -inf\n",
      "[LightGBM] [Warning] No further splits with positive gain, best gain: -inf\n",
      "[LightGBM] [Warning] No further splits with positive gain, best gain: -inf\n",
      "[LightGBM] [Warning] No further splits with positive gain, best gain: -inf\n",
      "[LightGBM] [Warning] No further splits with positive gain, best gain: -inf\n",
      "[LightGBM] [Warning] No further splits with positive gain, best gain: -inf\n",
      "[LightGBM] [Warning] No further splits with positive gain, best gain: -inf\n",
      "[LightGBM] [Warning] No further splits with positive gain, best gain: -inf\n",
      "[LightGBM] [Warning] No further splits with positive gain, best gain: -inf\n",
      "[LightGBM] [Warning] No further splits with positive gain, best gain: -inf\n",
      "[LightGBM] [Warning] No further splits with positive gain, best gain: -inf\n",
      "[LightGBM] [Warning] No further splits with positive gain, best gain: -inf\n",
      "[LightGBM] [Warning] No further splits with positive gain, best gain: -inf\n",
      "[LightGBM] [Warning] No further splits with positive gain, best gain: -inf\n",
      "[LightGBM] [Warning] No further splits with positive gain, best gain: -inf\n",
      "[LightGBM] [Warning] No further splits with positive gain, best gain: -inf\n",
      "[LightGBM] [Warning] No further splits with positive gain, best gain: -inf\n",
      "[LightGBM] [Warning] No further splits with positive gain, best gain: -inf\n",
      "[LightGBM] [Warning] No further splits with positive gain, best gain: -inf\n",
      "[LightGBM] [Warning] No further splits with positive gain, best gain: -inf\n",
      "[LightGBM] [Warning] No further splits with positive gain, best gain: -inf\n",
      "[LightGBM] [Warning] No further splits with positive gain, best gain: -inf\n",
      "[LightGBM] [Warning] No further splits with positive gain, best gain: -inf\n",
      "[LightGBM] [Warning] No further splits with positive gain, best gain: -inf\n",
      "[LightGBM] [Warning] No further splits with positive gain, best gain: -inf\n",
      "[LightGBM] [Warning] No further splits with positive gain, best gain: -inf\n",
      "[LightGBM] [Warning] No further splits with positive gain, best gain: -inf\n",
      "[LightGBM] [Warning] No further splits with positive gain, best gain: -inf\n",
      "[LightGBM] [Warning] No further splits with positive gain, best gain: -inf\n",
      "[LightGBM] [Warning] No further splits with positive gain, best gain: -inf\n",
      "[LightGBM] [Warning] No further splits with positive gain, best gain: -inf\n",
      "[LightGBM] [Warning] No further splits with positive gain, best gain: -inf\n",
      "[LightGBM] [Warning] No further splits with positive gain, best gain: -inf\n",
      "[LightGBM] [Warning] No further splits with positive gain, best gain: -inf\n",
      "[LightGBM] [Warning] No further splits with positive gain, best gain: -inf\n",
      "[LightGBM] [Warning] No further splits with positive gain, best gain: -inf\n",
      "[LightGBM] [Warning] No further splits with positive gain, best gain: -inf\n",
      "[LightGBM] [Warning] No further splits with positive gain, best gain: -inf\n",
      "[LightGBM] [Warning] No further splits with positive gain, best gain: -inf\n",
      "[LightGBM] [Warning] No further splits with positive gain, best gain: -inf\n",
      "[LightGBM] [Warning] No further splits with positive gain, best gain: -inf\n",
      "[LightGBM] [Warning] No further splits with positive gain, best gain: -inf\n",
      "[LightGBM] [Warning] No further splits with positive gain, best gain: -inf\n",
      "[LightGBM] [Warning] No further splits with positive gain, best gain: -inf\n",
      "[LightGBM] [Warning] No further splits with positive gain, best gain: -inf\n",
      "[LightGBM] [Warning] No further splits with positive gain, best gain: -inf\n",
      "[LightGBM] [Warning] No further splits with positive gain, best gain: -inf\n",
      "[LightGBM] [Warning] No further splits with positive gain, best gain: -inf\n",
      "[LightGBM] [Warning] No further splits with positive gain, best gain: -inf\n",
      "[LightGBM] [Warning] No further splits with positive gain, best gain: -inf\n",
      "[LightGBM] [Warning] No further splits with positive gain, best gain: -inf\n",
      "[LightGBM] [Warning] No further splits with positive gain, best gain: -inf\n",
      "[LightGBM] [Warning] No further splits with positive gain, best gain: -inf\n",
      "[LightGBM] [Warning] No further splits with positive gain, best gain: -inf\n",
      "[LightGBM] [Warning] No further splits with positive gain, best gain: -inf\n",
      "[LightGBM] [Warning] No further splits with positive gain, best gain: -inf\n",
      "[LightGBM] [Warning] No further splits with positive gain, best gain: -inf\n",
      "[LightGBM] [Warning] No further splits with positive gain, best gain: -inf\n",
      "[LightGBM] [Warning] No further splits with positive gain, best gain: -inf\n",
      "[LightGBM] [Warning] No further splits with positive gain, best gain: -inf\n",
      "[LightGBM] [Warning] No further splits with positive gain, best gain: -inf\n",
      "[LightGBM] [Warning] No further splits with positive gain, best gain: -inf\n",
      "[LightGBM] [Warning] No further splits with positive gain, best gain: -inf\n",
      "[LightGBM] [Warning] No further splits with positive gain, best gain: -inf\n",
      "[LightGBM] [Warning] No further splits with positive gain, best gain: -inf\n",
      "[LightGBM] [Warning] No further splits with positive gain, best gain: -inf\n",
      "[LightGBM] [Warning] No further splits with positive gain, best gain: -inf\n",
      "[LightGBM] [Warning] No further splits with positive gain, best gain: -inf\n",
      "[LightGBM] [Warning] No further splits with positive gain, best gain: -inf\n",
      "[LightGBM] [Warning] No further splits with positive gain, best gain: -inf\n",
      "[LightGBM] [Warning] No further splits with positive gain, best gain: -inf\n",
      "[LightGBM] [Warning] No further splits with positive gain, best gain: -inf\n",
      "[LightGBM] [Warning] No further splits with positive gain, best gain: -inf\n",
      "[LightGBM] [Warning] No further splits with positive gain, best gain: -inf\n",
      "[LightGBM] [Warning] No further splits with positive gain, best gain: -inf\n",
      "[LightGBM] [Warning] No further splits with positive gain, best gain: -inf\n",
      "[LightGBM] [Warning] No further splits with positive gain, best gain: -inf\n",
      "[LightGBM] [Warning] No further splits with positive gain, best gain: -inf\n",
      "[LightGBM] [Warning] No further splits with positive gain, best gain: -inf\n",
      "[LightGBM] [Warning] No further splits with positive gain, best gain: -inf\n",
      "[LightGBM] [Warning] No further splits with positive gain, best gain: -inf\n",
      "[LightGBM] [Warning] No further splits with positive gain, best gain: -inf\n",
      "[LightGBM] [Warning] No further splits with positive gain, best gain: -inf\n",
      "[LightGBM] [Warning] No further splits with positive gain, best gain: -inf\n",
      "[LightGBM] [Warning] No further splits with positive gain, best gain: -inf\n",
      "[LightGBM] [Warning] No further splits with positive gain, best gain: -inf\n",
      "[LightGBM] [Warning] No further splits with positive gain, best gain: -inf\n",
      "[LightGBM] [Warning] No further splits with positive gain, best gain: -inf\n",
      "[LightGBM] [Warning] No further splits with positive gain, best gain: -inf\n",
      "[LightGBM] [Warning] No further splits with positive gain, best gain: -inf\n",
      "[LightGBM] [Warning] No further splits with positive gain, best gain: -inf\n",
      "[LightGBM] [Warning] No further splits with positive gain, best gain: -inf\n",
      "[LightGBM] [Warning] No further splits with positive gain, best gain: -inf\n",
      "[LightGBM] [Warning] No further splits with positive gain, best gain: -inf\n",
      "[LightGBM] [Warning] No further splits with positive gain, best gain: -inf\n",
      "[LightGBM] [Warning] No further splits with positive gain, best gain: -inf\n",
      "[LightGBM] [Warning] No further splits with positive gain, best gain: -inf\n",
      "[LightGBM] [Warning] No further splits with positive gain, best gain: -inf\n",
      "[LightGBM] [Warning] No further splits with positive gain, best gain: -inf\n",
      "[LightGBM] [Warning] No further splits with positive gain, best gain: -inf\n",
      "[LightGBM] [Warning] No further splits with positive gain, best gain: -inf\n",
      "[LightGBM] [Warning] No further splits with positive gain, best gain: -inf\n",
      "[LightGBM] [Warning] No further splits with positive gain, best gain: -inf\n",
      "[LightGBM] [Warning] No further splits with positive gain, best gain: -inf\n",
      "[LightGBM] [Warning] No further splits with positive gain, best gain: -inf\n",
      "[LightGBM] [Warning] No further splits with positive gain, best gain: -inf\n",
      "[LightGBM] [Warning] No further splits with positive gain, best gain: -inf\n",
      "[LightGBM] [Warning] No further splits with positive gain, best gain: -inf\n",
      "[LightGBM] [Warning] No further splits with positive gain, best gain: -inf\n",
      "[LightGBM] [Warning] No further splits with positive gain, best gain: -inf\n",
      "[LightGBM] [Warning] No further splits with positive gain, best gain: -inf\n",
      "[LightGBM] [Warning] No further splits with positive gain, best gain: -inf\n",
      "[LightGBM] [Warning] No further splits with positive gain, best gain: -inf\n",
      "[LightGBM] [Warning] No further splits with positive gain, best gain: -inf\n",
      "[LightGBM] [Warning] No further splits with positive gain, best gain: -inf\n",
      "[LightGBM] [Warning] No further splits with positive gain, best gain: -inf\n",
      "[LightGBM] [Warning] No further splits with positive gain, best gain: -inf\n",
      "[LightGBM] [Warning] No further splits with positive gain, best gain: -inf\n",
      "[LightGBM] [Warning] No further splits with positive gain, best gain: -inf\n",
      "[LightGBM] [Warning] No further splits with positive gain, best gain: -inf\n",
      "[LightGBM] [Warning] No further splits with positive gain, best gain: -inf\n",
      "[LightGBM] [Warning] No further splits with positive gain, best gain: -inf\n",
      "[LightGBM] [Warning] No further splits with positive gain, best gain: -inf\n",
      "[LightGBM] [Warning] No further splits with positive gain, best gain: -inf\n",
      "[LightGBM] [Warning] No further splits with positive gain, best gain: -inf\n",
      "[LightGBM] [Warning] No further splits with positive gain, best gain: -inf\n",
      "[LightGBM] [Warning] No further splits with positive gain, best gain: -inf\n",
      "[LightGBM] [Warning] No further splits with positive gain, best gain: -inf\n",
      "[LightGBM] [Warning] No further splits with positive gain, best gain: -inf\n",
      "[LightGBM] [Warning] No further splits with positive gain, best gain: -inf\n",
      "[LightGBM] [Warning] No further splits with positive gain, best gain: -inf\n",
      "[LightGBM] [Warning] No further splits with positive gain, best gain: -inf\n",
      "[LightGBM] [Warning] No further splits with positive gain, best gain: -inf\n",
      "[LightGBM] [Warning] No further splits with positive gain, best gain: -inf\n",
      "[LightGBM] [Warning] No further splits with positive gain, best gain: -inf\n",
      "[LightGBM] [Warning] No further splits with positive gain, best gain: -inf\n",
      "[LightGBM] [Warning] No further splits with positive gain, best gain: -inf\n",
      "[LightGBM] [Warning] No further splits with positive gain, best gain: -inf\n",
      "[LightGBM] [Warning] No further splits with positive gain, best gain: -inf\n",
      "[LightGBM] [Warning] No further splits with positive gain, best gain: -inf\n",
      "[LightGBM] [Warning] No further splits with positive gain, best gain: -inf\n",
      "[LightGBM] [Warning] No further splits with positive gain, best gain: -inf\n",
      "[LightGBM] [Warning] No further splits with positive gain, best gain: -inf\n",
      "[LightGBM] [Warning] No further splits with positive gain, best gain: -inf\n",
      "[LightGBM] [Warning] No further splits with positive gain, best gain: -inf\n",
      "[LightGBM] [Warning] No further splits with positive gain, best gain: -inf\n",
      "[LightGBM] [Warning] No further splits with positive gain, best gain: -inf\n",
      "[LightGBM] [Warning] No further splits with positive gain, best gain: -inf\n",
      "[LightGBM] [Warning] No further splits with positive gain, best gain: -inf\n",
      "[LightGBM] [Warning] No further splits with positive gain, best gain: -inf\n",
      "[LightGBM] [Warning] No further splits with positive gain, best gain: -inf\n",
      "[LightGBM] [Warning] No further splits with positive gain, best gain: -inf\n",
      "[LightGBM] [Warning] No further splits with positive gain, best gain: -inf\n",
      "[LightGBM] [Warning] No further splits with positive gain, best gain: -inf\n",
      "[LightGBM] [Warning] No further splits with positive gain, best gain: -inf\n",
      "[LightGBM] [Warning] No further splits with positive gain, best gain: -inf\n",
      "[LightGBM] [Warning] No further splits with positive gain, best gain: -inf\n",
      "[LightGBM] [Warning] No further splits with positive gain, best gain: -inf\n",
      "[LightGBM] [Warning] No further splits with positive gain, best gain: -inf\n",
      "[LightGBM] [Warning] No further splits with positive gain, best gain: -inf\n",
      "[LightGBM] [Warning] No further splits with positive gain, best gain: -inf\n",
      "[LightGBM] [Warning] No further splits with positive gain, best gain: -inf\n",
      "[LightGBM] [Warning] No further splits with positive gain, best gain: -inf\n",
      "[LightGBM] [Warning] No further splits with positive gain, best gain: -inf\n",
      "[LightGBM] [Warning] No further splits with positive gain, best gain: -inf\n",
      "[LightGBM] [Warning] No further splits with positive gain, best gain: -inf\n",
      "[LightGBM] [Warning] No further splits with positive gain, best gain: -inf\n",
      "[LightGBM] [Warning] No further splits with positive gain, best gain: -inf\n",
      "[LightGBM] [Warning] No further splits with positive gain, best gain: -inf\n",
      "[LightGBM] [Warning] No further splits with positive gain, best gain: -inf\n",
      "[LightGBM] [Warning] No further splits with positive gain, best gain: -inf\n",
      "[LightGBM] [Warning] No further splits with positive gain, best gain: -inf\n",
      "[LightGBM] [Warning] No further splits with positive gain, best gain: -inf\n",
      "[LightGBM] [Warning] No further splits with positive gain, best gain: -inf\n",
      "[LightGBM] [Warning] No further splits with positive gain, best gain: -inf\n",
      "[LightGBM] [Warning] No further splits with positive gain, best gain: -inf\n",
      "[LightGBM] [Warning] No further splits with positive gain, best gain: -inf\n",
      "[LightGBM] [Warning] No further splits with positive gain, best gain: -inf\n",
      "[LightGBM] [Warning] No further splits with positive gain, best gain: -inf\n",
      "[LightGBM] [Warning] No further splits with positive gain, best gain: -inf\n",
      "[LightGBM] [Warning] No further splits with positive gain, best gain: -inf\n",
      "[LightGBM] [Warning] No further splits with positive gain, best gain: -inf\n",
      "[LightGBM] [Warning] No further splits with positive gain, best gain: -inf\n",
      "[LightGBM] [Warning] No further splits with positive gain, best gain: -inf\n",
      "[LightGBM] [Warning] No further splits with positive gain, best gain: -inf\n",
      "[LightGBM] [Warning] No further splits with positive gain, best gain: -inf\n",
      "[LightGBM] [Warning] No further splits with positive gain, best gain: -inf\n",
      "[LightGBM] [Warning] No further splits with positive gain, best gain: -inf\n",
      "[LightGBM] [Warning] No further splits with positive gain, best gain: -inf\n",
      "[LightGBM] [Warning] No further splits with positive gain, best gain: -inf\n",
      "[LightGBM] [Warning] No further splits with positive gain, best gain: -inf\n",
      "[LightGBM] [Warning] No further splits with positive gain, best gain: -inf\n",
      "[LightGBM] [Warning] No further splits with positive gain, best gain: -inf\n",
      "[LightGBM] [Warning] No further splits with positive gain, best gain: -inf\n",
      "[LightGBM] [Warning] No further splits with positive gain, best gain: -inf\n",
      "[LightGBM] [Warning] No further splits with positive gain, best gain: -inf\n",
      "[LightGBM] [Warning] No further splits with positive gain, best gain: -inf\n",
      "[LightGBM] [Warning] No further splits with positive gain, best gain: -inf\n",
      "[LightGBM] [Warning] No further splits with positive gain, best gain: -inf\n",
      "[LightGBM] [Warning] No further splits with positive gain, best gain: -inf\n",
      "[LightGBM] [Warning] No further splits with positive gain, best gain: -inf\n",
      "[LightGBM] [Warning] No further splits with positive gain, best gain: -inf\n",
      "[LightGBM] [Warning] No further splits with positive gain, best gain: -inf\n",
      "[LightGBM] [Warning] No further splits with positive gain, best gain: -inf\n",
      "[LightGBM] [Warning] No further splits with positive gain, best gain: -inf\n",
      "[LightGBM] [Warning] No further splits with positive gain, best gain: -inf\n",
      "[LightGBM] [Warning] No further splits with positive gain, best gain: -inf\n",
      "[LightGBM] [Warning] No further splits with positive gain, best gain: -inf\n",
      "[LightGBM] [Warning] No further splits with positive gain, best gain: -inf\n",
      "[LightGBM] [Warning] No further splits with positive gain, best gain: -inf\n",
      "[LightGBM] [Warning] No further splits with positive gain, best gain: -inf\n",
      "[LightGBM] [Warning] No further splits with positive gain, best gain: -inf\n",
      "[LightGBM] [Warning] No further splits with positive gain, best gain: -inf\n",
      "[LightGBM] [Warning] No further splits with positive gain, best gain: -inf\n",
      "[LightGBM] [Warning] No further splits with positive gain, best gain: -inf\n",
      "[LightGBM] [Warning] No further splits with positive gain, best gain: -inf\n",
      "[LightGBM] [Warning] No further splits with positive gain, best gain: -inf\n",
      "[LightGBM] [Warning] No further splits with positive gain, best gain: -inf\n",
      "[LightGBM] [Warning] No further splits with positive gain, best gain: -inf\n",
      "[LightGBM] [Warning] No further splits with positive gain, best gain: -inf\n",
      "[LightGBM] [Warning] No further splits with positive gain, best gain: -inf\n",
      "[LightGBM] [Warning] No further splits with positive gain, best gain: -inf\n",
      "[LightGBM] [Warning] No further splits with positive gain, best gain: -inf\n",
      "[LightGBM] [Warning] No further splits with positive gain, best gain: -inf\n",
      "[LightGBM] [Warning] No further splits with positive gain, best gain: -inf\n",
      "[LightGBM] [Warning] No further splits with positive gain, best gain: -inf\n",
      "[LightGBM] [Warning] No further splits with positive gain, best gain: -inf\n",
      "[LightGBM] [Warning] No further splits with positive gain, best gain: -inf\n",
      "[LightGBM] [Warning] No further splits with positive gain, best gain: -inf\n",
      "[LightGBM] [Warning] No further splits with positive gain, best gain: -inf\n",
      "[LightGBM] [Warning] No further splits with positive gain, best gain: -inf\n",
      "[LightGBM] [Warning] No further splits with positive gain, best gain: -inf\n",
      "[LightGBM] [Warning] No further splits with positive gain, best gain: -inf\n",
      "[LightGBM] [Warning] No further splits with positive gain, best gain: -inf\n",
      "[LightGBM] [Warning] No further splits with positive gain, best gain: -inf\n",
      "[LightGBM] [Warning] No further splits with positive gain, best gain: -inf\n",
      "[LightGBM] [Warning] No further splits with positive gain, best gain: -inf\n",
      "[LightGBM] [Warning] No further splits with positive gain, best gain: -inf\n",
      "[LightGBM] [Warning] No further splits with positive gain, best gain: -inf\n",
      "[LightGBM] [Warning] No further splits with positive gain, best gain: -inf\n",
      "[LightGBM] [Warning] No further splits with positive gain, best gain: -inf\n",
      "[LightGBM] [Warning] No further splits with positive gain, best gain: -inf\n",
      "[LightGBM] [Warning] No further splits with positive gain, best gain: -inf\n",
      "[LightGBM] [Warning] No further splits with positive gain, best gain: -inf\n",
      "[LightGBM] [Warning] No further splits with positive gain, best gain: -inf\n",
      "[LightGBM] [Warning] No further splits with positive gain, best gain: -inf\n",
      "[LightGBM] [Warning] No further splits with positive gain, best gain: -inf\n",
      "[LightGBM] [Warning] No further splits with positive gain, best gain: -inf\n",
      "[LightGBM] [Warning] No further splits with positive gain, best gain: -inf\n",
      "[LightGBM] [Warning] No further splits with positive gain, best gain: -inf\n",
      "[LightGBM] [Warning] No further splits with positive gain, best gain: -inf\n",
      "[LightGBM] [Warning] No further splits with positive gain, best gain: -inf\n",
      "[LightGBM] [Warning] No further splits with positive gain, best gain: -inf\n",
      "[LightGBM] [Warning] No further splits with positive gain, best gain: -inf\n",
      "[LightGBM] [Warning] No further splits with positive gain, best gain: -inf\n",
      "[LightGBM] [Warning] No further splits with positive gain, best gain: -inf\n",
      "[LightGBM] [Warning] No further splits with positive gain, best gain: -inf\n",
      "[LightGBM] [Warning] No further splits with positive gain, best gain: -inf\n",
      "[LightGBM] [Warning] No further splits with positive gain, best gain: -inf\n",
      "[LightGBM] [Warning] No further splits with positive gain, best gain: -inf\n",
      "[LightGBM] [Warning] No further splits with positive gain, best gain: -inf\n",
      "[LightGBM] [Warning] No further splits with positive gain, best gain: -inf\n",
      "[LightGBM] [Warning] No further splits with positive gain, best gain: -inf\n",
      "[LightGBM] [Warning] No further splits with positive gain, best gain: -inf\n",
      "[LightGBM] [Warning] No further splits with positive gain, best gain: -inf\n",
      "[LightGBM] [Warning] No further splits with positive gain, best gain: -inf\n",
      "[LightGBM] [Warning] No further splits with positive gain, best gain: -inf\n",
      "[LightGBM] [Warning] No further splits with positive gain, best gain: -inf\n",
      "[LightGBM] [Warning] No further splits with positive gain, best gain: -inf\n",
      "[LightGBM] [Warning] No further splits with positive gain, best gain: -inf\n",
      "[LightGBM] [Warning] No further splits with positive gain, best gain: -inf\n",
      "[LightGBM] [Warning] No further splits with positive gain, best gain: -inf\n",
      "[LightGBM] [Warning] No further splits with positive gain, best gain: -inf\n",
      "[LightGBM] [Warning] No further splits with positive gain, best gain: -inf\n",
      "[LightGBM] [Warning] No further splits with positive gain, best gain: -inf\n",
      "[LightGBM] [Warning] No further splits with positive gain, best gain: -inf\n",
      "[LightGBM] [Warning] No further splits with positive gain, best gain: -inf\n",
      "[LightGBM] [Warning] No further splits with positive gain, best gain: -inf\n",
      "[LightGBM] [Warning] No further splits with positive gain, best gain: -inf\n",
      "[LightGBM] [Warning] No further splits with positive gain, best gain: -inf\n",
      "[LightGBM] [Warning] No further splits with positive gain, best gain: -inf\n",
      "[LightGBM] [Warning] No further splits with positive gain, best gain: -inf\n",
      "[LightGBM] [Warning] No further splits with positive gain, best gain: -inf\n",
      "[LightGBM] [Warning] No further splits with positive gain, best gain: -inf\n",
      "[LightGBM] [Warning] No further splits with positive gain, best gain: -inf\n",
      "[LightGBM] [Warning] No further splits with positive gain, best gain: -inf\n",
      "[LightGBM] [Warning] No further splits with positive gain, best gain: -inf\n",
      "[LightGBM] [Warning] No further splits with positive gain, best gain: -inf\n",
      "[LightGBM] [Warning] No further splits with positive gain, best gain: -inf\n",
      "[LightGBM] [Warning] No further splits with positive gain, best gain: -inf\n",
      "[LightGBM] [Warning] No further splits with positive gain, best gain: -inf\n",
      "[LightGBM] [Warning] No further splits with positive gain, best gain: -inf\n",
      "[LightGBM] [Warning] No further splits with positive gain, best gain: -inf\n",
      "[LightGBM] [Warning] No further splits with positive gain, best gain: -inf\n",
      "[LightGBM] [Warning] No further splits with positive gain, best gain: -inf\n",
      "[LightGBM] [Warning] No further splits with positive gain, best gain: -inf\n",
      "[LightGBM] [Warning] No further splits with positive gain, best gain: -inf\n",
      "[LightGBM] [Warning] No further splits with positive gain, best gain: -inf\n",
      "[LightGBM] [Warning] No further splits with positive gain, best gain: -inf\n",
      "[LightGBM] [Warning] No further splits with positive gain, best gain: -inf\n",
      "[LightGBM] [Warning] No further splits with positive gain, best gain: -inf\n",
      "[LightGBM] [Warning] No further splits with positive gain, best gain: -inf\n",
      "[LightGBM] [Warning] No further splits with positive gain, best gain: -inf\n",
      "[LightGBM] [Warning] No further splits with positive gain, best gain: -inf\n",
      "[LightGBM] [Warning] No further splits with positive gain, best gain: -inf\n",
      "[LightGBM] [Warning] No further splits with positive gain, best gain: -inf\n",
      "[LightGBM] [Warning] No further splits with positive gain, best gain: -inf\n",
      "[LightGBM] [Warning] No further splits with positive gain, best gain: -inf\n",
      "[LightGBM] [Warning] No further splits with positive gain, best gain: -inf\n",
      "[LightGBM] [Warning] No further splits with positive gain, best gain: -inf\n",
      "[LightGBM] [Warning] No further splits with positive gain, best gain: -inf\n",
      "[LightGBM] [Warning] No further splits with positive gain, best gain: -inf\n",
      "[LightGBM] [Warning] No further splits with positive gain, best gain: -inf\n",
      "[LightGBM] [Warning] No further splits with positive gain, best gain: -inf\n",
      "[LightGBM] [Warning] No further splits with positive gain, best gain: -inf\n",
      "[LightGBM] [Warning] No further splits with positive gain, best gain: -inf\n",
      "[LightGBM] [Warning] No further splits with positive gain, best gain: -inf\n",
      "[LightGBM] [Warning] No further splits with positive gain, best gain: -inf\n",
      "[LightGBM] [Warning] No further splits with positive gain, best gain: -inf\n",
      "[LightGBM] [Warning] No further splits with positive gain, best gain: -inf\n",
      "[LightGBM] [Warning] No further splits with positive gain, best gain: -inf\n",
      "[LightGBM] [Warning] No further splits with positive gain, best gain: -inf\n",
      "[LightGBM] [Warning] No further splits with positive gain, best gain: -inf\n",
      "[LightGBM] [Warning] No further splits with positive gain, best gain: -inf\n",
      "[LightGBM] [Warning] No further splits with positive gain, best gain: -inf\n",
      "[LightGBM] [Warning] No further splits with positive gain, best gain: -inf\n",
      "[LightGBM] [Warning] No further splits with positive gain, best gain: -inf\n",
      "[LightGBM] [Warning] No further splits with positive gain, best gain: -inf\n",
      "[LightGBM] [Warning] No further splits with positive gain, best gain: -inf\n",
      "[LightGBM] [Warning] No further splits with positive gain, best gain: -inf\n",
      "[LightGBM] [Warning] No further splits with positive gain, best gain: -inf\n",
      "[LightGBM] [Warning] No further splits with positive gain, best gain: -inf\n",
      "[LightGBM] [Warning] No further splits with positive gain, best gain: -inf\n",
      "[LightGBM] [Warning] No further splits with positive gain, best gain: -inf\n",
      "[LightGBM] [Warning] No further splits with positive gain, best gain: -inf\n",
      "[LightGBM] [Warning] No further splits with positive gain, best gain: -inf\n",
      "[LightGBM] [Warning] No further splits with positive gain, best gain: -inf\n",
      "[LightGBM] [Warning] No further splits with positive gain, best gain: -inf\n",
      "[LightGBM] [Warning] No further splits with positive gain, best gain: -inf\n",
      "[LightGBM] [Warning] No further splits with positive gain, best gain: -inf\n",
      "[LightGBM] [Warning] No further splits with positive gain, best gain: -inf\n",
      "[LightGBM] [Warning] No further splits with positive gain, best gain: -inf\n",
      "[LightGBM] [Warning] No further splits with positive gain, best gain: -inf\n",
      "[LightGBM] [Warning] No further splits with positive gain, best gain: -inf\n",
      "[LightGBM] [Warning] No further splits with positive gain, best gain: -inf\n",
      "[LightGBM] [Warning] No further splits with positive gain, best gain: -inf\n",
      "[LightGBM] [Warning] No further splits with positive gain, best gain: -inf\n",
      "[LightGBM] [Warning] No further splits with positive gain, best gain: -inf\n",
      "[LightGBM] [Warning] No further splits with positive gain, best gain: -inf\n",
      "[LightGBM] [Warning] No further splits with positive gain, best gain: -inf\n",
      "[LightGBM] [Warning] No further splits with positive gain, best gain: -inf\n",
      "[LightGBM] [Warning] No further splits with positive gain, best gain: -inf\n",
      "[LightGBM] [Warning] No further splits with positive gain, best gain: -inf\n",
      "[LightGBM] [Warning] No further splits with positive gain, best gain: -inf\n",
      "[LightGBM] [Warning] No further splits with positive gain, best gain: -inf\n",
      "[LightGBM] [Warning] No further splits with positive gain, best gain: -inf\n",
      "[LightGBM] [Warning] No further splits with positive gain, best gain: -inf\n",
      "[LightGBM] [Warning] No further splits with positive gain, best gain: -inf\n",
      "[LightGBM] [Warning] No further splits with positive gain, best gain: -inf\n",
      "[LightGBM] [Warning] No further splits with positive gain, best gain: -inf\n",
      "[LightGBM] [Warning] No further splits with positive gain, best gain: -inf\n",
      "[LightGBM] [Warning] No further splits with positive gain, best gain: -inf\n",
      "[LightGBM] [Warning] No further splits with positive gain, best gain: -inf\n",
      "[LightGBM] [Warning] No further splits with positive gain, best gain: -inf\n",
      "[LightGBM] [Warning] No further splits with positive gain, best gain: -inf\n",
      "[LightGBM] [Warning] No further splits with positive gain, best gain: -inf\n",
      "[LightGBM] [Warning] No further splits with positive gain, best gain: -inf\n",
      "[LightGBM] [Warning] No further splits with positive gain, best gain: -inf\n",
      "[LightGBM] [Warning] No further splits with positive gain, best gain: -inf\n",
      "[LightGBM] [Warning] No further splits with positive gain, best gain: -inf\n",
      "[LightGBM] [Warning] No further splits with positive gain, best gain: -inf\n",
      "[LightGBM] [Warning] No further splits with positive gain, best gain: -inf\n",
      "[LightGBM] [Warning] No further splits with positive gain, best gain: -inf\n",
      "[LightGBM] [Warning] No further splits with positive gain, best gain: -inf\n",
      "[LightGBM] [Warning] No further splits with positive gain, best gain: -inf\n",
      "[LightGBM] [Warning] No further splits with positive gain, best gain: -inf\n",
      "[LightGBM] [Warning] No further splits with positive gain, best gain: -inf\n",
      "[LightGBM] [Warning] No further splits with positive gain, best gain: -inf\n",
      "[LightGBM] [Warning] No further splits with positive gain, best gain: -inf\n",
      "[LightGBM] [Warning] No further splits with positive gain, best gain: -inf\n",
      "[LightGBM] [Warning] No further splits with positive gain, best gain: -inf\n",
      "[LightGBM] [Warning] No further splits with positive gain, best gain: -inf\n",
      "[LightGBM] [Warning] No further splits with positive gain, best gain: -inf\n",
      "[LightGBM] [Warning] No further splits with positive gain, best gain: -inf\n",
      "[LightGBM] [Warning] No further splits with positive gain, best gain: -inf\n",
      "[LightGBM] [Warning] No further splits with positive gain, best gain: -inf\n",
      "[LightGBM] [Warning] No further splits with positive gain, best gain: -inf\n",
      "[LightGBM] [Warning] No further splits with positive gain, best gain: -inf\n",
      "[LightGBM] [Warning] No further splits with positive gain, best gain: -inf\n",
      "[LightGBM] [Warning] No further splits with positive gain, best gain: -inf\n",
      "[LightGBM] [Warning] No further splits with positive gain, best gain: -inf\n",
      "[LightGBM] [Warning] No further splits with positive gain, best gain: -inf\n",
      "[LightGBM] [Warning] No further splits with positive gain, best gain: -inf\n",
      "[LightGBM] [Warning] No further splits with positive gain, best gain: -inf\n",
      "[LightGBM] [Warning] No further splits with positive gain, best gain: -inf\n",
      "[LightGBM] [Warning] No further splits with positive gain, best gain: -inf\n",
      "[LightGBM] [Warning] No further splits with positive gain, best gain: -inf\n",
      "[LightGBM] [Warning] No further splits with positive gain, best gain: -inf\n",
      "[LightGBM] [Warning] No further splits with positive gain, best gain: -inf\n",
      "[LightGBM] [Warning] No further splits with positive gain, best gain: -inf\n",
      "[LightGBM] [Warning] No further splits with positive gain, best gain: -inf\n",
      "[LightGBM] [Warning] No further splits with positive gain, best gain: -inf\n",
      "[LightGBM] [Warning] No further splits with positive gain, best gain: -inf\n",
      "[LightGBM] [Warning] No further splits with positive gain, best gain: -inf\n",
      "[LightGBM] [Warning] No further splits with positive gain, best gain: -inf\n",
      "[LightGBM] [Warning] No further splits with positive gain, best gain: -inf\n",
      "[LightGBM] [Warning] No further splits with positive gain, best gain: -inf\n",
      "[LightGBM] [Warning] No further splits with positive gain, best gain: -inf\n",
      "[LightGBM] [Warning] No further splits with positive gain, best gain: -inf\n",
      "[LightGBM] [Warning] No further splits with positive gain, best gain: -inf\n",
      "[LightGBM] [Warning] No further splits with positive gain, best gain: -inf\n",
      "[LightGBM] [Warning] No further splits with positive gain, best gain: -inf\n",
      "[LightGBM] [Warning] No further splits with positive gain, best gain: -inf\n",
      "[LightGBM] [Warning] No further splits with positive gain, best gain: -inf\n",
      "[LightGBM] [Warning] No further splits with positive gain, best gain: -inf\n",
      "[LightGBM] [Warning] No further splits with positive gain, best gain: -inf\n",
      "[LightGBM] [Warning] No further splits with positive gain, best gain: -inf\n",
      "[LightGBM] [Warning] No further splits with positive gain, best gain: -inf\n",
      "[LightGBM] [Warning] No further splits with positive gain, best gain: -inf\n",
      "[LightGBM] [Warning] No further splits with positive gain, best gain: -inf\n",
      "[LightGBM] [Warning] No further splits with positive gain, best gain: -inf\n",
      "[LightGBM] [Warning] No further splits with positive gain, best gain: -inf\n",
      "[LightGBM] [Warning] No further splits with positive gain, best gain: -inf\n",
      "[LightGBM] [Warning] No further splits with positive gain, best gain: -inf\n",
      "[LightGBM] [Warning] No further splits with positive gain, best gain: -inf\n",
      "[LightGBM] [Warning] No further splits with positive gain, best gain: -inf\n",
      "[LightGBM] [Warning] No further splits with positive gain, best gain: -inf\n",
      "[LightGBM] [Warning] No further splits with positive gain, best gain: -inf\n",
      "[LightGBM] [Warning] No further splits with positive gain, best gain: -inf\n",
      "[LightGBM] [Warning] No further splits with positive gain, best gain: -inf\n",
      "[LightGBM] [Warning] No further splits with positive gain, best gain: -inf\n",
      "[LightGBM] [Warning] No further splits with positive gain, best gain: -inf\n",
      "[LightGBM] [Warning] No further splits with positive gain, best gain: -inf\n",
      "[LightGBM] [Warning] No further splits with positive gain, best gain: -inf\n",
      "[LightGBM] [Warning] No further splits with positive gain, best gain: -inf\n",
      "[LightGBM] [Warning] No further splits with positive gain, best gain: -inf\n",
      "[LightGBM] [Warning] No further splits with positive gain, best gain: -inf\n",
      "[LightGBM] [Warning] No further splits with positive gain, best gain: -inf\n",
      "[LightGBM] [Warning] No further splits with positive gain, best gain: -inf\n",
      "[LightGBM] [Warning] No further splits with positive gain, best gain: -inf\n",
      "[LightGBM] [Warning] No further splits with positive gain, best gain: -inf\n",
      "[LightGBM] [Warning] No further splits with positive gain, best gain: -inf\n",
      "[LightGBM] [Warning] No further splits with positive gain, best gain: -inf\n",
      "[LightGBM] [Warning] No further splits with positive gain, best gain: -inf\n",
      "[LightGBM] [Warning] No further splits with positive gain, best gain: -inf\n",
      "[LightGBM] [Warning] No further splits with positive gain, best gain: -inf\n",
      "[LightGBM] [Warning] No further splits with positive gain, best gain: -inf\n",
      "[LightGBM] [Warning] No further splits with positive gain, best gain: -inf\n",
      "[LightGBM] [Warning] No further splits with positive gain, best gain: -inf\n",
      "[LightGBM] [Warning] No further splits with positive gain, best gain: -inf\n",
      "[LightGBM] [Warning] No further splits with positive gain, best gain: -inf\n",
      "[LightGBM] [Warning] No further splits with positive gain, best gain: -inf\n",
      "[LightGBM] [Warning] No further splits with positive gain, best gain: -inf\n",
      "[LightGBM] [Warning] No further splits with positive gain, best gain: -inf\n",
      "[LightGBM] [Warning] No further splits with positive gain, best gain: -inf\n",
      "[LightGBM] [Warning] No further splits with positive gain, best gain: -inf\n",
      "[LightGBM] [Warning] No further splits with positive gain, best gain: -inf\n",
      "[LightGBM] [Warning] No further splits with positive gain, best gain: -inf\n",
      "[LightGBM] [Warning] No further splits with positive gain, best gain: -inf\n",
      "[LightGBM] [Warning] No further splits with positive gain, best gain: -inf\n",
      "[LightGBM] [Warning] No further splits with positive gain, best gain: -inf\n",
      "[LightGBM] [Warning] No further splits with positive gain, best gain: -inf\n",
      "[LightGBM] [Warning] No further splits with positive gain, best gain: -inf\n",
      "[LightGBM] [Warning] No further splits with positive gain, best gain: -inf\n",
      "[LightGBM] [Warning] No further splits with positive gain, best gain: -inf\n",
      "[LightGBM] [Warning] No further splits with positive gain, best gain: -inf\n",
      "[LightGBM] [Warning] No further splits with positive gain, best gain: -inf\n",
      "[LightGBM] [Warning] No further splits with positive gain, best gain: -inf\n",
      "[LightGBM] [Warning] No further splits with positive gain, best gain: -inf\n",
      "[LightGBM] [Warning] No further splits with positive gain, best gain: -inf\n",
      "[LightGBM] [Warning] No further splits with positive gain, best gain: -inf\n",
      "[LightGBM] [Warning] No further splits with positive gain, best gain: -inf\n",
      "[LightGBM] [Warning] No further splits with positive gain, best gain: -inf\n",
      "[LightGBM] [Warning] No further splits with positive gain, best gain: -inf\n",
      "[LightGBM] [Warning] No further splits with positive gain, best gain: -inf\n",
      "[LightGBM] [Warning] No further splits with positive gain, best gain: -inf\n",
      "[LightGBM] [Warning] No further splits with positive gain, best gain: -inf\n",
      "[LightGBM] [Warning] No further splits with positive gain, best gain: -inf\n",
      "[LightGBM] [Warning] No further splits with positive gain, best gain: -inf\n",
      "[LightGBM] [Warning] No further splits with positive gain, best gain: -inf\n",
      "[LightGBM] [Warning] No further splits with positive gain, best gain: -inf\n",
      "[LightGBM] [Warning] No further splits with positive gain, best gain: -inf\n",
      "[LightGBM] [Warning] No further splits with positive gain, best gain: -inf\n",
      "[LightGBM] [Warning] No further splits with positive gain, best gain: -inf\n",
      "[LightGBM] [Warning] No further splits with positive gain, best gain: -inf\n",
      "[LightGBM] [Warning] No further splits with positive gain, best gain: -inf\n",
      "[LightGBM] [Warning] No further splits with positive gain, best gain: -inf\n",
      "[LightGBM] [Warning] No further splits with positive gain, best gain: -inf\n",
      "[LightGBM] [Warning] No further splits with positive gain, best gain: -inf\n",
      "[LightGBM] [Warning] No further splits with positive gain, best gain: -inf\n",
      "[LightGBM] [Warning] No further splits with positive gain, best gain: -inf\n",
      "[LightGBM] [Warning] No further splits with positive gain, best gain: -inf\n",
      "[LightGBM] [Warning] No further splits with positive gain, best gain: -inf\n",
      "[LightGBM] [Warning] No further splits with positive gain, best gain: -inf\n",
      "[LightGBM] [Warning] No further splits with positive gain, best gain: -inf\n",
      "[LightGBM] [Warning] No further splits with positive gain, best gain: -inf\n",
      "[LightGBM] [Warning] No further splits with positive gain, best gain: -inf\n",
      "[LightGBM] [Warning] No further splits with positive gain, best gain: -inf\n",
      "[LightGBM] [Warning] No further splits with positive gain, best gain: -inf\n",
      "[LightGBM] [Warning] No further splits with positive gain, best gain: -inf\n",
      "[LightGBM] [Warning] No further splits with positive gain, best gain: -inf\n",
      "[LightGBM] [Warning] No further splits with positive gain, best gain: -inf\n",
      "[LightGBM] [Warning] No further splits with positive gain, best gain: -inf\n",
      "[LightGBM] [Warning] No further splits with positive gain, best gain: -inf\n",
      "[LightGBM] [Warning] No further splits with positive gain, best gain: -inf\n",
      "[LightGBM] [Warning] No further splits with positive gain, best gain: -inf\n",
      "[LightGBM] [Warning] No further splits with positive gain, best gain: -inf\n",
      "[LightGBM] [Warning] No further splits with positive gain, best gain: -inf\n",
      "[LightGBM] [Warning] No further splits with positive gain, best gain: -inf\n",
      "[LightGBM] [Warning] No further splits with positive gain, best gain: -inf\n",
      "[LightGBM] [Warning] No further splits with positive gain, best gain: -inf\n",
      "[LightGBM] [Warning] No further splits with positive gain, best gain: -inf\n",
      "[LightGBM] [Warning] No further splits with positive gain, best gain: -inf\n",
      "[LightGBM] [Warning] No further splits with positive gain, best gain: -inf\n",
      "[LightGBM] [Warning] No further splits with positive gain, best gain: -inf\n",
      "[LightGBM] [Warning] No further splits with positive gain, best gain: -inf\n",
      "[LightGBM] [Warning] No further splits with positive gain, best gain: -inf\n",
      "[LightGBM] [Warning] No further splits with positive gain, best gain: -inf\n",
      "[LightGBM] [Warning] No further splits with positive gain, best gain: -inf\n",
      "[LightGBM] [Warning] No further splits with positive gain, best gain: -inf\n",
      "[LightGBM] [Warning] No further splits with positive gain, best gain: -inf\n",
      "[LightGBM] [Warning] No further splits with positive gain, best gain: -inf\n",
      "[LightGBM] [Warning] No further splits with positive gain, best gain: -inf\n",
      "[LightGBM] [Warning] No further splits with positive gain, best gain: -inf\n",
      "[LightGBM] [Warning] No further splits with positive gain, best gain: -inf\n",
      "[LightGBM] [Warning] No further splits with positive gain, best gain: -inf\n",
      "[LightGBM] [Warning] No further splits with positive gain, best gain: -inf\n",
      "[LightGBM] [Warning] No further splits with positive gain, best gain: -inf\n",
      "[LightGBM] [Warning] No further splits with positive gain, best gain: -inf\n",
      "[LightGBM] [Warning] No further splits with positive gain, best gain: -inf\n",
      "[LightGBM] [Warning] No further splits with positive gain, best gain: -inf\n",
      "[LightGBM] [Warning] No further splits with positive gain, best gain: -inf\n",
      "[LightGBM] [Warning] No further splits with positive gain, best gain: -inf\n",
      "[LightGBM] [Warning] No further splits with positive gain, best gain: -inf\n",
      "[LightGBM] [Warning] No further splits with positive gain, best gain: -inf\n",
      "[LightGBM] [Warning] No further splits with positive gain, best gain: -inf\n",
      "[LightGBM] [Warning] No further splits with positive gain, best gain: -inf\n",
      "[LightGBM] [Warning] No further splits with positive gain, best gain: -inf\n",
      "[LightGBM] [Warning] No further splits with positive gain, best gain: -inf\n",
      "[LightGBM] [Warning] No further splits with positive gain, best gain: -inf\n",
      "[LightGBM] [Warning] No further splits with positive gain, best gain: -inf\n",
      "[LightGBM] [Warning] No further splits with positive gain, best gain: -inf\n",
      "[LightGBM] [Warning] No further splits with positive gain, best gain: -inf\n",
      "[LightGBM] [Warning] No further splits with positive gain, best gain: -inf\n",
      "[LightGBM] [Warning] No further splits with positive gain, best gain: -inf\n",
      "[LightGBM] [Warning] No further splits with positive gain, best gain: -inf\n",
      "[LightGBM] [Warning] No further splits with positive gain, best gain: -inf\n",
      "[LightGBM] [Warning] No further splits with positive gain, best gain: -inf\n",
      "[LightGBM] [Warning] No further splits with positive gain, best gain: -inf\n",
      "[LightGBM] [Warning] No further splits with positive gain, best gain: -inf\n",
      "[LightGBM] [Warning] No further splits with positive gain, best gain: -inf\n",
      "[LightGBM] [Warning] No further splits with positive gain, best gain: -inf\n",
      "[LightGBM] [Warning] No further splits with positive gain, best gain: -inf\n",
      "[LightGBM] [Warning] No further splits with positive gain, best gain: -inf\n",
      "[LightGBM] [Warning] No further splits with positive gain, best gain: -inf\n",
      "[LightGBM] [Warning] No further splits with positive gain, best gain: -inf\n",
      "[LightGBM] [Warning] No further splits with positive gain, best gain: -inf\n",
      "[LightGBM] [Warning] No further splits with positive gain, best gain: -inf\n",
      "[LightGBM] [Warning] No further splits with positive gain, best gain: -inf\n",
      "[LightGBM] [Warning] No further splits with positive gain, best gain: -inf\n",
      "[LightGBM] [Warning] No further splits with positive gain, best gain: -inf\n",
      "[LightGBM] [Warning] No further splits with positive gain, best gain: -inf\n",
      "[LightGBM] [Warning] No further splits with positive gain, best gain: -inf\n",
      "[LightGBM] [Warning] No further splits with positive gain, best gain: -inf\n",
      "[LightGBM] [Warning] No further splits with positive gain, best gain: -inf\n",
      "[LightGBM] [Warning] No further splits with positive gain, best gain: -inf\n",
      "[LightGBM] [Warning] No further splits with positive gain, best gain: -inf\n",
      "[LightGBM] [Warning] No further splits with positive gain, best gain: -inf\n",
      "[LightGBM] [Warning] No further splits with positive gain, best gain: -inf\n",
      "[LightGBM] [Warning] No further splits with positive gain, best gain: -inf\n",
      "[LightGBM] [Warning] No further splits with positive gain, best gain: -inf\n",
      "[LightGBM] [Warning] No further splits with positive gain, best gain: -inf\n",
      "[LightGBM] [Warning] No further splits with positive gain, best gain: -inf\n",
      "[LightGBM] [Warning] No further splits with positive gain, best gain: -inf\n",
      "[LightGBM] [Warning] No further splits with positive gain, best gain: -inf\n",
      "[LightGBM] [Warning] No further splits with positive gain, best gain: -inf\n",
      "[LightGBM] [Warning] No further splits with positive gain, best gain: -inf\n",
      "[LightGBM] [Warning] No further splits with positive gain, best gain: -inf\n",
      "[LightGBM] [Warning] No further splits with positive gain, best gain: -inf\n",
      "[LightGBM] [Warning] No further splits with positive gain, best gain: -inf\n",
      "[LightGBM] [Warning] No further splits with positive gain, best gain: -inf\n",
      "[LightGBM] [Warning] No further splits with positive gain, best gain: -inf\n",
      "[LightGBM] [Warning] No further splits with positive gain, best gain: -inf\n",
      "[LightGBM] [Warning] No further splits with positive gain, best gain: -inf\n",
      "[LightGBM] [Warning] No further splits with positive gain, best gain: -inf\n",
      "[LightGBM] [Warning] No further splits with positive gain, best gain: -inf\n",
      "[LightGBM] [Warning] No further splits with positive gain, best gain: -inf\n",
      "[LightGBM] [Warning] No further splits with positive gain, best gain: -inf\n",
      "[LightGBM] [Warning] No further splits with positive gain, best gain: -inf\n",
      "[LightGBM] [Warning] No further splits with positive gain, best gain: -inf\n",
      "[LightGBM] [Warning] No further splits with positive gain, best gain: -inf\n",
      "[LightGBM] [Warning] No further splits with positive gain, best gain: -inf\n",
      "[LightGBM] [Warning] No further splits with positive gain, best gain: -inf\n",
      "[LightGBM] [Warning] No further splits with positive gain, best gain: -inf\n",
      "[LightGBM] [Warning] No further splits with positive gain, best gain: -inf\n",
      "[LightGBM] [Warning] No further splits with positive gain, best gain: -inf\n",
      "[LightGBM] [Warning] No further splits with positive gain, best gain: -inf\n",
      "[LightGBM] [Warning] No further splits with positive gain, best gain: -inf\n",
      "[LightGBM] [Warning] No further splits with positive gain, best gain: -inf\n",
      "[LightGBM] [Warning] No further splits with positive gain, best gain: -inf\n",
      "[LightGBM] [Warning] No further splits with positive gain, best gain: -inf\n",
      "[LightGBM] [Warning] No further splits with positive gain, best gain: -inf\n",
      "[LightGBM] [Warning] No further splits with positive gain, best gain: -inf\n",
      "[LightGBM] [Warning] No further splits with positive gain, best gain: -inf\n",
      "[LightGBM] [Warning] No further splits with positive gain, best gain: -inf\n",
      "[LightGBM] [Warning] No further splits with positive gain, best gain: -inf\n",
      "[LightGBM] [Warning] No further splits with positive gain, best gain: -inf\n",
      "[LightGBM] [Warning] No further splits with positive gain, best gain: -inf\n",
      "[LightGBM] [Warning] No further splits with positive gain, best gain: -inf\n",
      "[LightGBM] [Warning] No further splits with positive gain, best gain: -inf\n",
      "[LightGBM] [Warning] No further splits with positive gain, best gain: -inf\n",
      "[LightGBM] [Warning] No further splits with positive gain, best gain: -inf\n",
      "[LightGBM] [Warning] No further splits with positive gain, best gain: -inf\n",
      "[LightGBM] [Warning] No further splits with positive gain, best gain: -inf\n",
      "[LightGBM] [Warning] No further splits with positive gain, best gain: -inf\n",
      "[LightGBM] [Warning] No further splits with positive gain, best gain: -inf\n",
      "[LightGBM] [Warning] No further splits with positive gain, best gain: -inf\n",
      "[LightGBM] [Warning] No further splits with positive gain, best gain: -inf\n",
      "[LightGBM] [Warning] No further splits with positive gain, best gain: -inf\n",
      "[LightGBM] [Warning] No further splits with positive gain, best gain: -inf\n",
      "[LightGBM] [Warning] No further splits with positive gain, best gain: -inf\n",
      "[LightGBM] [Warning] No further splits with positive gain, best gain: -inf\n",
      "[LightGBM] [Warning] No further splits with positive gain, best gain: -inf\n",
      "[LightGBM] [Warning] No further splits with positive gain, best gain: -inf\n",
      "[LightGBM] [Warning] No further splits with positive gain, best gain: -inf\n",
      "[LightGBM] [Warning] No further splits with positive gain, best gain: -inf\n",
      "[LightGBM] [Warning] No further splits with positive gain, best gain: -inf\n",
      "[LightGBM] [Warning] No further splits with positive gain, best gain: -inf\n",
      "[LightGBM] [Warning] No further splits with positive gain, best gain: -inf\n",
      "[LightGBM] [Warning] No further splits with positive gain, best gain: -inf\n",
      "[LightGBM] [Warning] No further splits with positive gain, best gain: -inf\n",
      "[LightGBM] [Warning] No further splits with positive gain, best gain: -inf\n",
      "[LightGBM] [Warning] No further splits with positive gain, best gain: -inf\n",
      "[LightGBM] [Warning] No further splits with positive gain, best gain: -inf\n",
      "[LightGBM] [Warning] No further splits with positive gain, best gain: -inf\n",
      "[LightGBM] [Warning] No further splits with positive gain, best gain: -inf\n",
      "[LightGBM] [Warning] No further splits with positive gain, best gain: -inf\n",
      "[LightGBM] [Warning] No further splits with positive gain, best gain: -inf\n",
      "[LightGBM] [Warning] No further splits with positive gain, best gain: -inf\n",
      "[LightGBM] [Warning] No further splits with positive gain, best gain: -inf\n",
      "[LightGBM] [Warning] No further splits with positive gain, best gain: -inf\n",
      "[LightGBM] [Warning] No further splits with positive gain, best gain: -inf\n",
      "[LightGBM] [Warning] No further splits with positive gain, best gain: -inf\n",
      "[LightGBM] [Warning] No further splits with positive gain, best gain: -inf\n",
      "[LightGBM] [Warning] No further splits with positive gain, best gain: -inf\n",
      "[LightGBM] [Warning] No further splits with positive gain, best gain: -inf\n",
      "[LightGBM] [Warning] No further splits with positive gain, best gain: -inf\n",
      "[LightGBM] [Warning] No further splits with positive gain, best gain: -inf\n",
      "[LightGBM] [Warning] No further splits with positive gain, best gain: -inf\n",
      "[LightGBM] [Warning] No further splits with positive gain, best gain: -inf\n",
      "[LightGBM] [Warning] No further splits with positive gain, best gain: -inf\n",
      "[LightGBM] [Warning] No further splits with positive gain, best gain: -inf\n",
      "[LightGBM] [Warning] No further splits with positive gain, best gain: -inf\n",
      "[LightGBM] [Warning] No further splits with positive gain, best gain: -inf\n",
      "[LightGBM] [Warning] No further splits with positive gain, best gain: -inf\n",
      "[LightGBM] [Warning] No further splits with positive gain, best gain: -inf\n",
      "[LightGBM] [Warning] No further splits with positive gain, best gain: -inf\n",
      "[LightGBM] [Warning] No further splits with positive gain, best gain: -inf\n",
      "[LightGBM] [Warning] No further splits with positive gain, best gain: -inf\n",
      "[LightGBM] [Warning] No further splits with positive gain, best gain: -inf\n",
      "[LightGBM] [Warning] No further splits with positive gain, best gain: -inf\n",
      "[LightGBM] [Warning] No further splits with positive gain, best gain: -inf\n",
      "[LightGBM] [Warning] No further splits with positive gain, best gain: -inf\n",
      "[LightGBM] [Warning] No further splits with positive gain, best gain: -inf\n",
      "[LightGBM] [Warning] No further splits with positive gain, best gain: -inf\n",
      "[LightGBM] [Warning] No further splits with positive gain, best gain: -inf\n",
      "[LightGBM] [Warning] No further splits with positive gain, best gain: -inf\n",
      "[LightGBM] [Warning] No further splits with positive gain, best gain: -inf\n",
      "[LightGBM] [Warning] No further splits with positive gain, best gain: -inf\n",
      "[LightGBM] [Warning] No further splits with positive gain, best gain: -inf\n",
      "[LightGBM] [Warning] No further splits with positive gain, best gain: -inf\n",
      "[LightGBM] [Warning] No further splits with positive gain, best gain: -inf\n",
      "[LightGBM] [Warning] No further splits with positive gain, best gain: -inf\n",
      "[LightGBM] [Warning] No further splits with positive gain, best gain: -inf\n",
      "[LightGBM] [Warning] No further splits with positive gain, best gain: -inf\n",
      "[LightGBM] [Warning] No further splits with positive gain, best gain: -inf\n",
      "[LightGBM] [Warning] No further splits with positive gain, best gain: -inf\n",
      "[LightGBM] [Warning] No further splits with positive gain, best gain: -inf\n",
      "[LightGBM] [Warning] No further splits with positive gain, best gain: -inf\n",
      "[LightGBM] [Warning] No further splits with positive gain, best gain: -inf\n",
      "[LightGBM] [Warning] No further splits with positive gain, best gain: -inf\n",
      "[LightGBM] [Warning] No further splits with positive gain, best gain: -inf\n",
      "[LightGBM] [Warning] No further splits with positive gain, best gain: -inf\n",
      "[LightGBM] [Warning] No further splits with positive gain, best gain: -inf\n",
      "[LightGBM] [Warning] No further splits with positive gain, best gain: -inf\n",
      "[LightGBM] [Warning] No further splits with positive gain, best gain: -inf\n",
      "[LightGBM] [Warning] No further splits with positive gain, best gain: -inf\n",
      "[LightGBM] [Warning] No further splits with positive gain, best gain: -inf\n",
      "[LightGBM] [Warning] No further splits with positive gain, best gain: -inf\n",
      "[LightGBM] [Warning] No further splits with positive gain, best gain: -inf\n",
      "[LightGBM] [Warning] No further splits with positive gain, best gain: -inf\n",
      "[LightGBM] [Warning] No further splits with positive gain, best gain: -inf\n",
      "[LightGBM] [Warning] No further splits with positive gain, best gain: -inf\n",
      "[LightGBM] [Warning] No further splits with positive gain, best gain: -inf\n",
      "[LightGBM] [Warning] No further splits with positive gain, best gain: -inf\n",
      "[LightGBM] [Warning] No further splits with positive gain, best gain: -inf\n",
      "[LightGBM] [Warning] No further splits with positive gain, best gain: -inf\n",
      "[LightGBM] [Warning] No further splits with positive gain, best gain: -inf\n",
      "[LightGBM] [Warning] No further splits with positive gain, best gain: -inf\n",
      "[LightGBM] [Warning] No further splits with positive gain, best gain: -inf\n",
      "[LightGBM] [Warning] No further splits with positive gain, best gain: -inf\n",
      "[LightGBM] [Warning] No further splits with positive gain, best gain: -inf\n",
      "[LightGBM] [Warning] No further splits with positive gain, best gain: -inf\n",
      "[LightGBM] [Warning] No further splits with positive gain, best gain: -inf\n",
      "[LightGBM] [Warning] No further splits with positive gain, best gain: -inf\n",
      "[LightGBM] [Warning] No further splits with positive gain, best gain: -inf\n",
      "[LightGBM] [Warning] No further splits with positive gain, best gain: -inf\n",
      "[LightGBM] [Warning] No further splits with positive gain, best gain: -inf\n",
      "[LightGBM] [Warning] No further splits with positive gain, best gain: -inf\n",
      "[LightGBM] [Warning] No further splits with positive gain, best gain: -inf\n",
      "[LightGBM] [Warning] No further splits with positive gain, best gain: -inf\n",
      "[LightGBM] [Warning] No further splits with positive gain, best gain: -inf\n",
      "[LightGBM] [Warning] No further splits with positive gain, best gain: -inf\n",
      "[LightGBM] [Warning] No further splits with positive gain, best gain: -inf\n",
      "[LightGBM] [Warning] No further splits with positive gain, best gain: -inf\n",
      "[LightGBM] [Warning] No further splits with positive gain, best gain: -inf\n",
      "[LightGBM] [Warning] No further splits with positive gain, best gain: -inf\n",
      "[LightGBM] [Warning] No further splits with positive gain, best gain: -inf\n",
      "[LightGBM] [Warning] No further splits with positive gain, best gain: -inf\n",
      "[LightGBM] [Warning] No further splits with positive gain, best gain: -inf\n",
      "[LightGBM] [Warning] No further splits with positive gain, best gain: -inf\n",
      "[LightGBM] [Warning] No further splits with positive gain, best gain: -inf\n",
      "[LightGBM] [Warning] No further splits with positive gain, best gain: -inf\n",
      "[LightGBM] [Warning] No further splits with positive gain, best gain: -inf\n",
      "[LightGBM] [Warning] No further splits with positive gain, best gain: -inf\n",
      "[LightGBM] [Warning] No further splits with positive gain, best gain: -inf\n",
      "[LightGBM] [Warning] No further splits with positive gain, best gain: -inf\n",
      "[LightGBM] [Warning] No further splits with positive gain, best gain: -inf\n",
      "[LightGBM] [Warning] No further splits with positive gain, best gain: -inf\n",
      "[LightGBM] [Warning] No further splits with positive gain, best gain: -inf\n",
      "[LightGBM] [Warning] No further splits with positive gain, best gain: -inf\n",
      "[LightGBM] [Warning] No further splits with positive gain, best gain: -inf\n",
      "[LightGBM] [Warning] No further splits with positive gain, best gain: -inf\n",
      "[LightGBM] [Warning] No further splits with positive gain, best gain: -inf\n",
      "[LightGBM] [Warning] No further splits with positive gain, best gain: -inf\n",
      "[LightGBM] [Warning] No further splits with positive gain, best gain: -inf\n",
      "[LightGBM] [Warning] No further splits with positive gain, best gain: -inf\n",
      "[LightGBM] [Warning] No further splits with positive gain, best gain: -inf\n",
      "[LightGBM] [Warning] No further splits with positive gain, best gain: -inf\n",
      "[LightGBM] [Warning] min_data_in_leaf is set=30, min_child_samples=20 will be ignored. Current value: min_data_in_leaf=30\n",
      "[LightGBM] [Warning] min_data_in_leaf is set=30, min_child_samples=20 will be ignored. Current value: min_data_in_leaf=30\n",
      "[LightGBM] [Warning] min_data_in_leaf is set=30, min_child_samples=20 will be ignored. Current value: min_data_in_leaf=30\n",
      "[LightGBM] [Warning] min_data_in_leaf is set=30, min_child_samples=20 will be ignored. Current value: min_data_in_leaf=30\n",
      "\n",
      "====== Models After Hyper Parameter Tuning ======\n"
     ]
    },
    {
     "data": {
      "text/html": [
       "<div>\n",
       "<style scoped>\n",
       "    .dataframe tbody tr th:only-of-type {\n",
       "        vertical-align: middle;\n",
       "    }\n",
       "\n",
       "    .dataframe tbody tr th {\n",
       "        vertical-align: top;\n",
       "    }\n",
       "\n",
       "    .dataframe thead th {\n",
       "        text-align: right;\n",
       "    }\n",
       "</style>\n",
       "<table border=\"1\" class=\"dataframe\">\n",
       "  <thead>\n",
       "    <tr style=\"text-align: right;\">\n",
       "      <th></th>\n",
       "      <th>Model</th>\n",
       "      <th>MAE</th>\n",
       "      <th>MSE</th>\n",
       "      <th>RMSE</th>\n",
       "      <th>RMSLE</th>\n",
       "      <th>R2 Score</th>\n",
       "    </tr>\n",
       "  </thead>\n",
       "  <tbody>\n",
       "    <tr>\n",
       "      <th>0</th>\n",
       "      <td>XGBoost_tuned</td>\n",
       "      <td>4013202.89</td>\n",
       "      <td>73746886693052.50</td>\n",
       "      <td>8587600.75</td>\n",
       "      <td>0.63</td>\n",
       "      <td>0.73</td>\n",
       "    </tr>\n",
       "    <tr>\n",
       "      <th>1</th>\n",
       "      <td>LightGBM_tuned</td>\n",
       "      <td>4106613.17</td>\n",
       "      <td>75875521106308.09</td>\n",
       "      <td>8710655.61</td>\n",
       "      <td>0.66</td>\n",
       "      <td>0.72</td>\n",
       "    </tr>\n",
       "    <tr>\n",
       "      <th>2</th>\n",
       "      <td>CatBoost_tuned</td>\n",
       "      <td>3987036.00</td>\n",
       "      <td>73823103532870.88</td>\n",
       "      <td>8592037.22</td>\n",
       "      <td>0.70</td>\n",
       "      <td>0.73</td>\n",
       "    </tr>\n",
       "    <tr>\n",
       "      <th>3</th>\n",
       "      <td>RandomForest_tuned</td>\n",
       "      <td>4322170.18</td>\n",
       "      <td>85302529950004.66</td>\n",
       "      <td>9235936.87</td>\n",
       "      <td>0.70</td>\n",
       "      <td>0.69</td>\n",
       "    </tr>\n",
       "  </tbody>\n",
       "</table>\n",
       "</div>"
      ],
      "text/plain": [
       "                Model         MAE                MSE        RMSE RMSLE  \\\n",
       "0       XGBoost_tuned  4013202.89  73746886693052.50  8587600.75  0.63   \n",
       "1      LightGBM_tuned  4106613.17  75875521106308.09  8710655.61  0.66   \n",
       "2      CatBoost_tuned  3987036.00  73823103532870.88  8592037.22  0.70   \n",
       "3  RandomForest_tuned  4322170.18  85302529950004.66  9235936.87  0.70   \n",
       "\n",
       "  R2 Score  \n",
       "0     0.73  \n",
       "1     0.72  \n",
       "2     0.73  \n",
       "3     0.69  "
      ]
     },
     "execution_count": 53,
     "metadata": {},
     "output_type": "execute_result"
    }
   ],
   "source": [
    "model_list(models_tuned, \"After\")"
   ]
  },
  {
   "cell_type": "markdown",
   "metadata": {},
   "source": [
    "##### 모델별 최적의 하이퍼파라미터"
   ]
  },
  {
   "cell_type": "code",
   "execution_count": 54,
   "metadata": {},
   "outputs": [],
   "source": [
    "best_params_rf = {'n_estimators': 571, \n",
    "                  'max_depth': 10, \n",
    "                  'max_samples': 0.9710602552484724, \n",
    "                  'max_features': 0.7241578540621256, \n",
    "                  'min_weight_fraction_leaf': 0}\n",
    "\n",
    "best_params_cat = {'n_estimators': 1095, \n",
    "                   'learning_rate': 0.02272458076807219, \n",
    "                   'depth': 10, 'subsample': 0.2553446596494705, \n",
    "                   'colsample_bylevel': 0.280145528780274, \n",
    "                   'min_data_in_leaf': 47}\n",
    "\n",
    "best_params_xgb = {'n_estimators': 1920, \n",
    "                   'learning_rate': 0.005999767426280215, \n",
    "                   'max_depth': 10, \n",
    "                   'subsample': 0.4521025859715501, \n",
    "                   'colsample_bytree': 0.9655313963675614, \n",
    "                   'min_child_weight': 12}\n",
    "\n",
    "best_params_lgbm = {'n_estimators': 1491, \n",
    "                    'learning_rate': 0.004543994916573033, \n",
    "                    'num_leaves': 1020, \n",
    "                    'subsample': 0.4287119109937761, \n",
    "                    'colsample_bytree': 0.9163742002067012, \n",
    "                    'min_data_in_leaf': 30}"
   ]
  },
  {
   "cell_type": "markdown",
   "metadata": {},
   "source": [
    "### 최적화 후 모델 재생성\n",
    "- `XGBoost` : 가장 작은 `RMSLE` 기록\n",
    "    - RMSLE : 0.63\n",
    "    - R2 Score : 0.73"
   ]
  },
  {
   "cell_type": "code",
   "execution_count": 55,
   "metadata": {},
   "outputs": [
    {
     "data": {
      "text/html": [
       "<style>#sk-container-id-2 {\n",
       "  /* Definition of color scheme common for light and dark mode */\n",
       "  --sklearn-color-text: black;\n",
       "  --sklearn-color-line: gray;\n",
       "  /* Definition of color scheme for unfitted estimators */\n",
       "  --sklearn-color-unfitted-level-0: #fff5e6;\n",
       "  --sklearn-color-unfitted-level-1: #f6e4d2;\n",
       "  --sklearn-color-unfitted-level-2: #ffe0b3;\n",
       "  --sklearn-color-unfitted-level-3: chocolate;\n",
       "  /* Definition of color scheme for fitted estimators */\n",
       "  --sklearn-color-fitted-level-0: #f0f8ff;\n",
       "  --sklearn-color-fitted-level-1: #d4ebff;\n",
       "  --sklearn-color-fitted-level-2: #b3dbfd;\n",
       "  --sklearn-color-fitted-level-3: cornflowerblue;\n",
       "\n",
       "  /* Specific color for light theme */\n",
       "  --sklearn-color-text-on-default-background: var(--sg-text-color, var(--theme-code-foreground, var(--jp-content-font-color1, black)));\n",
       "  --sklearn-color-background: var(--sg-background-color, var(--theme-background, var(--jp-layout-color0, white)));\n",
       "  --sklearn-color-border-box: var(--sg-text-color, var(--theme-code-foreground, var(--jp-content-font-color1, black)));\n",
       "  --sklearn-color-icon: #696969;\n",
       "\n",
       "  @media (prefers-color-scheme: dark) {\n",
       "    /* Redefinition of color scheme for dark theme */\n",
       "    --sklearn-color-text-on-default-background: var(--sg-text-color, var(--theme-code-foreground, var(--jp-content-font-color1, white)));\n",
       "    --sklearn-color-background: var(--sg-background-color, var(--theme-background, var(--jp-layout-color0, #111)));\n",
       "    --sklearn-color-border-box: var(--sg-text-color, var(--theme-code-foreground, var(--jp-content-font-color1, white)));\n",
       "    --sklearn-color-icon: #878787;\n",
       "  }\n",
       "}\n",
       "\n",
       "#sk-container-id-2 {\n",
       "  color: var(--sklearn-color-text);\n",
       "}\n",
       "\n",
       "#sk-container-id-2 pre {\n",
       "  padding: 0;\n",
       "}\n",
       "\n",
       "#sk-container-id-2 input.sk-hidden--visually {\n",
       "  border: 0;\n",
       "  clip: rect(1px 1px 1px 1px);\n",
       "  clip: rect(1px, 1px, 1px, 1px);\n",
       "  height: 1px;\n",
       "  margin: -1px;\n",
       "  overflow: hidden;\n",
       "  padding: 0;\n",
       "  position: absolute;\n",
       "  width: 1px;\n",
       "}\n",
       "\n",
       "#sk-container-id-2 div.sk-dashed-wrapped {\n",
       "  border: 1px dashed var(--sklearn-color-line);\n",
       "  margin: 0 0.4em 0.5em 0.4em;\n",
       "  box-sizing: border-box;\n",
       "  padding-bottom: 0.4em;\n",
       "  background-color: var(--sklearn-color-background);\n",
       "}\n",
       "\n",
       "#sk-container-id-2 div.sk-container {\n",
       "  /* jupyter's `normalize.less` sets `[hidden] { display: none; }`\n",
       "     but bootstrap.min.css set `[hidden] { display: none !important; }`\n",
       "     so we also need the `!important` here to be able to override the\n",
       "     default hidden behavior on the sphinx rendered scikit-learn.org.\n",
       "     See: https://github.com/scikit-learn/scikit-learn/issues/21755 */\n",
       "  display: inline-block !important;\n",
       "  position: relative;\n",
       "}\n",
       "\n",
       "#sk-container-id-2 div.sk-text-repr-fallback {\n",
       "  display: none;\n",
       "}\n",
       "\n",
       "div.sk-parallel-item,\n",
       "div.sk-serial,\n",
       "div.sk-item {\n",
       "  /* draw centered vertical line to link estimators */\n",
       "  background-image: linear-gradient(var(--sklearn-color-text-on-default-background), var(--sklearn-color-text-on-default-background));\n",
       "  background-size: 2px 100%;\n",
       "  background-repeat: no-repeat;\n",
       "  background-position: center center;\n",
       "}\n",
       "\n",
       "/* Parallel-specific style estimator block */\n",
       "\n",
       "#sk-container-id-2 div.sk-parallel-item::after {\n",
       "  content: \"\";\n",
       "  width: 100%;\n",
       "  border-bottom: 2px solid var(--sklearn-color-text-on-default-background);\n",
       "  flex-grow: 1;\n",
       "}\n",
       "\n",
       "#sk-container-id-2 div.sk-parallel {\n",
       "  display: flex;\n",
       "  align-items: stretch;\n",
       "  justify-content: center;\n",
       "  background-color: var(--sklearn-color-background);\n",
       "  position: relative;\n",
       "}\n",
       "\n",
       "#sk-container-id-2 div.sk-parallel-item {\n",
       "  display: flex;\n",
       "  flex-direction: column;\n",
       "}\n",
       "\n",
       "#sk-container-id-2 div.sk-parallel-item:first-child::after {\n",
       "  align-self: flex-end;\n",
       "  width: 50%;\n",
       "}\n",
       "\n",
       "#sk-container-id-2 div.sk-parallel-item:last-child::after {\n",
       "  align-self: flex-start;\n",
       "  width: 50%;\n",
       "}\n",
       "\n",
       "#sk-container-id-2 div.sk-parallel-item:only-child::after {\n",
       "  width: 0;\n",
       "}\n",
       "\n",
       "/* Serial-specific style estimator block */\n",
       "\n",
       "#sk-container-id-2 div.sk-serial {\n",
       "  display: flex;\n",
       "  flex-direction: column;\n",
       "  align-items: center;\n",
       "  background-color: var(--sklearn-color-background);\n",
       "  padding-right: 1em;\n",
       "  padding-left: 1em;\n",
       "}\n",
       "\n",
       "\n",
       "/* Toggleable style: style used for estimator/Pipeline/ColumnTransformer box that is\n",
       "clickable and can be expanded/collapsed.\n",
       "- Pipeline and ColumnTransformer use this feature and define the default style\n",
       "- Estimators will overwrite some part of the style using the `sk-estimator` class\n",
       "*/\n",
       "\n",
       "/* Pipeline and ColumnTransformer style (default) */\n",
       "\n",
       "#sk-container-id-2 div.sk-toggleable {\n",
       "  /* Default theme specific background. It is overwritten whether we have a\n",
       "  specific estimator or a Pipeline/ColumnTransformer */\n",
       "  background-color: var(--sklearn-color-background);\n",
       "}\n",
       "\n",
       "/* Toggleable label */\n",
       "#sk-container-id-2 label.sk-toggleable__label {\n",
       "  cursor: pointer;\n",
       "  display: block;\n",
       "  width: 100%;\n",
       "  margin-bottom: 0;\n",
       "  padding: 0.5em;\n",
       "  box-sizing: border-box;\n",
       "  text-align: center;\n",
       "}\n",
       "\n",
       "#sk-container-id-2 label.sk-toggleable__label-arrow:before {\n",
       "  /* Arrow on the left of the label */\n",
       "  content: \"▸\";\n",
       "  float: left;\n",
       "  margin-right: 0.25em;\n",
       "  color: var(--sklearn-color-icon);\n",
       "}\n",
       "\n",
       "#sk-container-id-2 label.sk-toggleable__label-arrow:hover:before {\n",
       "  color: var(--sklearn-color-text);\n",
       "}\n",
       "\n",
       "/* Toggleable content - dropdown */\n",
       "\n",
       "#sk-container-id-2 div.sk-toggleable__content {\n",
       "  max-height: 0;\n",
       "  max-width: 0;\n",
       "  overflow: hidden;\n",
       "  text-align: left;\n",
       "  /* unfitted */\n",
       "  background-color: var(--sklearn-color-unfitted-level-0);\n",
       "}\n",
       "\n",
       "#sk-container-id-2 div.sk-toggleable__content.fitted {\n",
       "  /* fitted */\n",
       "  background-color: var(--sklearn-color-fitted-level-0);\n",
       "}\n",
       "\n",
       "#sk-container-id-2 div.sk-toggleable__content pre {\n",
       "  margin: 0.2em;\n",
       "  border-radius: 0.25em;\n",
       "  color: var(--sklearn-color-text);\n",
       "  /* unfitted */\n",
       "  background-color: var(--sklearn-color-unfitted-level-0);\n",
       "}\n",
       "\n",
       "#sk-container-id-2 div.sk-toggleable__content.fitted pre {\n",
       "  /* unfitted */\n",
       "  background-color: var(--sklearn-color-fitted-level-0);\n",
       "}\n",
       "\n",
       "#sk-container-id-2 input.sk-toggleable__control:checked~div.sk-toggleable__content {\n",
       "  /* Expand drop-down */\n",
       "  max-height: 200px;\n",
       "  max-width: 100%;\n",
       "  overflow: auto;\n",
       "}\n",
       "\n",
       "#sk-container-id-2 input.sk-toggleable__control:checked~label.sk-toggleable__label-arrow:before {\n",
       "  content: \"▾\";\n",
       "}\n",
       "\n",
       "/* Pipeline/ColumnTransformer-specific style */\n",
       "\n",
       "#sk-container-id-2 div.sk-label input.sk-toggleable__control:checked~label.sk-toggleable__label {\n",
       "  color: var(--sklearn-color-text);\n",
       "  background-color: var(--sklearn-color-unfitted-level-2);\n",
       "}\n",
       "\n",
       "#sk-container-id-2 div.sk-label.fitted input.sk-toggleable__control:checked~label.sk-toggleable__label {\n",
       "  background-color: var(--sklearn-color-fitted-level-2);\n",
       "}\n",
       "\n",
       "/* Estimator-specific style */\n",
       "\n",
       "/* Colorize estimator box */\n",
       "#sk-container-id-2 div.sk-estimator input.sk-toggleable__control:checked~label.sk-toggleable__label {\n",
       "  /* unfitted */\n",
       "  background-color: var(--sklearn-color-unfitted-level-2);\n",
       "}\n",
       "\n",
       "#sk-container-id-2 div.sk-estimator.fitted input.sk-toggleable__control:checked~label.sk-toggleable__label {\n",
       "  /* fitted */\n",
       "  background-color: var(--sklearn-color-fitted-level-2);\n",
       "}\n",
       "\n",
       "#sk-container-id-2 div.sk-label label.sk-toggleable__label,\n",
       "#sk-container-id-2 div.sk-label label {\n",
       "  /* The background is the default theme color */\n",
       "  color: var(--sklearn-color-text-on-default-background);\n",
       "}\n",
       "\n",
       "/* On hover, darken the color of the background */\n",
       "#sk-container-id-2 div.sk-label:hover label.sk-toggleable__label {\n",
       "  color: var(--sklearn-color-text);\n",
       "  background-color: var(--sklearn-color-unfitted-level-2);\n",
       "}\n",
       "\n",
       "/* Label box, darken color on hover, fitted */\n",
       "#sk-container-id-2 div.sk-label.fitted:hover label.sk-toggleable__label.fitted {\n",
       "  color: var(--sklearn-color-text);\n",
       "  background-color: var(--sklearn-color-fitted-level-2);\n",
       "}\n",
       "\n",
       "/* Estimator label */\n",
       "\n",
       "#sk-container-id-2 div.sk-label label {\n",
       "  font-family: monospace;\n",
       "  font-weight: bold;\n",
       "  display: inline-block;\n",
       "  line-height: 1.2em;\n",
       "}\n",
       "\n",
       "#sk-container-id-2 div.sk-label-container {\n",
       "  text-align: center;\n",
       "}\n",
       "\n",
       "/* Estimator-specific */\n",
       "#sk-container-id-2 div.sk-estimator {\n",
       "  font-family: monospace;\n",
       "  border: 1px dotted var(--sklearn-color-border-box);\n",
       "  border-radius: 0.25em;\n",
       "  box-sizing: border-box;\n",
       "  margin-bottom: 0.5em;\n",
       "  /* unfitted */\n",
       "  background-color: var(--sklearn-color-unfitted-level-0);\n",
       "}\n",
       "\n",
       "#sk-container-id-2 div.sk-estimator.fitted {\n",
       "  /* fitted */\n",
       "  background-color: var(--sklearn-color-fitted-level-0);\n",
       "}\n",
       "\n",
       "/* on hover */\n",
       "#sk-container-id-2 div.sk-estimator:hover {\n",
       "  /* unfitted */\n",
       "  background-color: var(--sklearn-color-unfitted-level-2);\n",
       "}\n",
       "\n",
       "#sk-container-id-2 div.sk-estimator.fitted:hover {\n",
       "  /* fitted */\n",
       "  background-color: var(--sklearn-color-fitted-level-2);\n",
       "}\n",
       "\n",
       "/* Specification for estimator info (e.g. \"i\" and \"?\") */\n",
       "\n",
       "/* Common style for \"i\" and \"?\" */\n",
       "\n",
       ".sk-estimator-doc-link,\n",
       "a:link.sk-estimator-doc-link,\n",
       "a:visited.sk-estimator-doc-link {\n",
       "  float: right;\n",
       "  font-size: smaller;\n",
       "  line-height: 1em;\n",
       "  font-family: monospace;\n",
       "  background-color: var(--sklearn-color-background);\n",
       "  border-radius: 1em;\n",
       "  height: 1em;\n",
       "  width: 1em;\n",
       "  text-decoration: none !important;\n",
       "  margin-left: 1ex;\n",
       "  /* unfitted */\n",
       "  border: var(--sklearn-color-unfitted-level-1) 1pt solid;\n",
       "  color: var(--sklearn-color-unfitted-level-1);\n",
       "}\n",
       "\n",
       ".sk-estimator-doc-link.fitted,\n",
       "a:link.sk-estimator-doc-link.fitted,\n",
       "a:visited.sk-estimator-doc-link.fitted {\n",
       "  /* fitted */\n",
       "  border: var(--sklearn-color-fitted-level-1) 1pt solid;\n",
       "  color: var(--sklearn-color-fitted-level-1);\n",
       "}\n",
       "\n",
       "/* On hover */\n",
       "div.sk-estimator:hover .sk-estimator-doc-link:hover,\n",
       ".sk-estimator-doc-link:hover,\n",
       "div.sk-label-container:hover .sk-estimator-doc-link:hover,\n",
       ".sk-estimator-doc-link:hover {\n",
       "  /* unfitted */\n",
       "  background-color: var(--sklearn-color-unfitted-level-3);\n",
       "  color: var(--sklearn-color-background);\n",
       "  text-decoration: none;\n",
       "}\n",
       "\n",
       "div.sk-estimator.fitted:hover .sk-estimator-doc-link.fitted:hover,\n",
       ".sk-estimator-doc-link.fitted:hover,\n",
       "div.sk-label-container:hover .sk-estimator-doc-link.fitted:hover,\n",
       ".sk-estimator-doc-link.fitted:hover {\n",
       "  /* fitted */\n",
       "  background-color: var(--sklearn-color-fitted-level-3);\n",
       "  color: var(--sklearn-color-background);\n",
       "  text-decoration: none;\n",
       "}\n",
       "\n",
       "/* Span, style for the box shown on hovering the info icon */\n",
       ".sk-estimator-doc-link span {\n",
       "  display: none;\n",
       "  z-index: 9999;\n",
       "  position: relative;\n",
       "  font-weight: normal;\n",
       "  right: .2ex;\n",
       "  padding: .5ex;\n",
       "  margin: .5ex;\n",
       "  width: min-content;\n",
       "  min-width: 20ex;\n",
       "  max-width: 50ex;\n",
       "  color: var(--sklearn-color-text);\n",
       "  box-shadow: 2pt 2pt 4pt #999;\n",
       "  /* unfitted */\n",
       "  background: var(--sklearn-color-unfitted-level-0);\n",
       "  border: .5pt solid var(--sklearn-color-unfitted-level-3);\n",
       "}\n",
       "\n",
       ".sk-estimator-doc-link.fitted span {\n",
       "  /* fitted */\n",
       "  background: var(--sklearn-color-fitted-level-0);\n",
       "  border: var(--sklearn-color-fitted-level-3);\n",
       "}\n",
       "\n",
       ".sk-estimator-doc-link:hover span {\n",
       "  display: block;\n",
       "}\n",
       "\n",
       "/* \"?\"-specific style due to the `<a>` HTML tag */\n",
       "\n",
       "#sk-container-id-2 a.estimator_doc_link {\n",
       "  float: right;\n",
       "  font-size: 1rem;\n",
       "  line-height: 1em;\n",
       "  font-family: monospace;\n",
       "  background-color: var(--sklearn-color-background);\n",
       "  border-radius: 1rem;\n",
       "  height: 1rem;\n",
       "  width: 1rem;\n",
       "  text-decoration: none;\n",
       "  /* unfitted */\n",
       "  color: var(--sklearn-color-unfitted-level-1);\n",
       "  border: var(--sklearn-color-unfitted-level-1) 1pt solid;\n",
       "}\n",
       "\n",
       "#sk-container-id-2 a.estimator_doc_link.fitted {\n",
       "  /* fitted */\n",
       "  border: var(--sklearn-color-fitted-level-1) 1pt solid;\n",
       "  color: var(--sklearn-color-fitted-level-1);\n",
       "}\n",
       "\n",
       "/* On hover */\n",
       "#sk-container-id-2 a.estimator_doc_link:hover {\n",
       "  /* unfitted */\n",
       "  background-color: var(--sklearn-color-unfitted-level-3);\n",
       "  color: var(--sklearn-color-background);\n",
       "  text-decoration: none;\n",
       "}\n",
       "\n",
       "#sk-container-id-2 a.estimator_doc_link.fitted:hover {\n",
       "  /* fitted */\n",
       "  background-color: var(--sklearn-color-fitted-level-3);\n",
       "}\n",
       "</style><div id=\"sk-container-id-2\" class=\"sk-top-container\"><div class=\"sk-text-repr-fallback\"><pre>XGBRegressor(base_score=None, booster=None, callbacks=None,\n",
       "             colsample_bylevel=None, colsample_bynode=None,\n",
       "             colsample_bytree=0.9655313963675614, early_stopping_rounds=None,\n",
       "             enable_categorical=False, eval_metric=None, feature_types=None,\n",
       "             gamma=None, gpu_id=None, grow_policy=None, importance_type=None,\n",
       "             interaction_constraints=None, learning_rate=0.005999767426280215,\n",
       "             max_bin=None, max_cat_threshold=None, max_cat_to_onehot=None,\n",
       "             max_delta_step=None, max_depth=10, max_leaves=None,\n",
       "             min_child_weight=12, missing=nan, monotone_constraints=None,\n",
       "             n_estimators=1920, n_jobs=None, num_parallel_tree=None,\n",
       "             predictor=None, random_state=None, ...)</pre><b>In a Jupyter environment, please rerun this cell to show the HTML representation or trust the notebook. <br />On GitHub, the HTML representation is unable to render, please try loading this page with nbviewer.org.</b></div><div class=\"sk-container\" hidden><div class=\"sk-item\"><div class=\"sk-estimator fitted sk-toggleable\"><input class=\"sk-toggleable__control sk-hidden--visually\" id=\"sk-estimator-id-2\" type=\"checkbox\" checked><label for=\"sk-estimator-id-2\" class=\"sk-toggleable__label fitted sk-toggleable__label-arrow fitted\">&nbsp;XGBRegressor<span class=\"sk-estimator-doc-link fitted\">i<span>Fitted</span></span></label><div class=\"sk-toggleable__content fitted\"><pre>XGBRegressor(base_score=None, booster=None, callbacks=None,\n",
       "             colsample_bylevel=None, colsample_bynode=None,\n",
       "             colsample_bytree=0.9655313963675614, early_stopping_rounds=None,\n",
       "             enable_categorical=False, eval_metric=None, feature_types=None,\n",
       "             gamma=None, gpu_id=None, grow_policy=None, importance_type=None,\n",
       "             interaction_constraints=None, learning_rate=0.005999767426280215,\n",
       "             max_bin=None, max_cat_threshold=None, max_cat_to_onehot=None,\n",
       "             max_delta_step=None, max_depth=10, max_leaves=None,\n",
       "             min_child_weight=12, missing=nan, monotone_constraints=None,\n",
       "             n_estimators=1920, n_jobs=None, num_parallel_tree=None,\n",
       "             predictor=None, random_state=None, ...)</pre></div> </div></div></div></div>"
      ],
      "text/plain": [
       "XGBRegressor(base_score=None, booster=None, callbacks=None,\n",
       "             colsample_bylevel=None, colsample_bynode=None,\n",
       "             colsample_bytree=0.9655313963675614, early_stopping_rounds=None,\n",
       "             enable_categorical=False, eval_metric=None, feature_types=None,\n",
       "             gamma=None, gpu_id=None, grow_policy=None, importance_type=None,\n",
       "             interaction_constraints=None, learning_rate=0.005999767426280215,\n",
       "             max_bin=None, max_cat_threshold=None, max_cat_to_onehot=None,\n",
       "             max_delta_step=None, max_depth=10, max_leaves=None,\n",
       "             min_child_weight=12, missing=nan, monotone_constraints=None,\n",
       "             n_estimators=1920, n_jobs=None, num_parallel_tree=None,\n",
       "             predictor=None, random_state=None, ...)"
      ]
     },
     "execution_count": 55,
     "metadata": {},
     "output_type": "execute_result"
    }
   ],
   "source": [
    "# optuna를 통해 생성한 하이퍼 파라미터로 조정하여, xgb 모델 생성\n",
    "xgb_optuna.fit(X_train, y_train)"
   ]
  },
  {
   "cell_type": "markdown",
   "metadata": {},
   "source": [
    "#### Feature Importance 확인\n",
    "- player_name, goals, current_club_name, assists 순서\n",
    "    - `player_name` : 선수 이름에 따라 몸값이 다르게 매겨지기 때문에 가장 크게 나온 것으로 보인다\n",
    "    - `goals`\n",
    "    - `current_club_name` : 소속 팀에 따라 가치가 매겨지는 경우가 있어서 중요도 있는 것으로 나옴 (ex. 빅클럽 이적)\n",
    "    - `assists`"
   ]
  },
  {
   "cell_type": "code",
   "execution_count": 56,
   "metadata": {},
   "outputs": [
    {
     "data": {
      "image/png": "[encoded data removed]",
      "text/plain": [
       "<Figure size 800x400 with 1 Axes>"
      ]
     },
     "metadata": {
      "image/png": {
       "height": 392,
       "width": 801
      }
     },
     "output_type": "display_data"
    }
   ],
   "source": [
    "# feature importance 파악\n",
    "\n",
    "# 배열형태로 반환\n",
    "xgb_importance_values = xgb_optuna.feature_importances_\n",
    "\n",
    "# 정렬과 시각화를 쉽게 하기 위해 series 전환\n",
    "xgb_series = pd.Series(xgb_importance_values, index = X_train.columns)\n",
    "xgb_top10 = xgb_series.sort_values(ascending=False)[:10]\n",
    "\n",
    "# 시각화\n",
    "plt.figure(figsize=(8,4))\n",
    "plt.title('Feature Importance Top 10')\n",
    "sns.barplot(x=xgb_top10, y=xgb_top10.index)\n",
    "plt.show()\n",
    "\n",
    "\n",
    "# 이 지표는 절대적이지 않다.\n",
    "# 중요도는 낮게 평가되었지만 실제로 중요한 특성일 수도 있고,\n",
    "# 그렇기 때문에 제거했을 경우 성능이 떨어질 수도 있다.\n",
    "# -> 상위 n개의 특성들을 제외한 나머지 특성들을 모두 제거하는 방식은 바람직하지 못함\n",
    "\n",
    "# feature importance를 고려하여 특성별로 A/B test 를 진행하며 feature selection 해야 한다\n",
    "# https://hwi-doc.tistory.com/entry/Feature-selection-feature-importance-vs-permutation-importance"
   ]
  },
  {
   "cell_type": "markdown",
   "metadata": {},
   "source": [
    "### 모델로 예측한 test 값을 y_test 값과 비교"
   ]
  },
  {
   "cell_type": "code",
   "execution_count": 57,
   "metadata": {},
   "outputs": [],
   "source": [
    "# test 데이터프레임 copy\n",
    "test_copy = test.copy()\n",
    "\n",
    "# xgb_optuna 모델로 예측한 X_test의 몸값을 담은 컬럼을 test_copy에 생성\n",
    "test_copy[\"market_value_pred\"] = xgb_optuna.predict(X_test)"
   ]
  },
  {
   "cell_type": "code",
   "execution_count": 58,
   "metadata": {},
   "outputs": [],
   "source": [
    "# get_rmsle 함수 활용하여, 실제 몸값과 예측 몸값의 차이 RMSLE 계산한 컬럼 생성\n",
    "test_copy['market_value_rmsle'] = test_copy.apply(lambda x:get_rmsle(x[\"market_value_per_season\"], x[\"market_value_pred\"]), axis=1)"
   ]
  },
  {
   "cell_type": "code",
   "execution_count": 59,
   "metadata": {},
   "outputs": [],
   "source": [
    "test_copy = test_copy[['player_name', 'market_value_per_season', 'market_value_pred', 'market_value_rmsle',\n",
    "                       'start_season', 'goals', 'assists', 'minutes_played',\n",
    "                       'competition_code', 'age', 'position', 'current_club_name', 'country', \n",
    "                       'foot', 'height_in_cm']]"
   ]
  },
  {
   "cell_type": "code",
   "execution_count": 60,
   "metadata": {},
   "outputs": [],
   "source": [
    "pd.options.display.float_format = '{:.2f}'.format"
   ]
  },
  {
   "cell_type": "code",
   "execution_count": 61,
   "metadata": {},
   "outputs": [
    {
     "data": {
      "text/html": [
       "<div>\n",
       "<style scoped>\n",
       "    .dataframe tbody tr th:only-of-type {\n",
       "        vertical-align: middle;\n",
       "    }\n",
       "\n",
       "    .dataframe tbody tr th {\n",
       "        vertical-align: top;\n",
       "    }\n",
       "\n",
       "    .dataframe thead th {\n",
       "        text-align: right;\n",
       "    }\n",
       "</style>\n",
       "<table border=\"1\" class=\"dataframe\">\n",
       "  <thead>\n",
       "    <tr style=\"text-align: right;\">\n",
       "      <th></th>\n",
       "      <th>player_name</th>\n",
       "      <th>market_value_per_season</th>\n",
       "      <th>market_value_pred</th>\n",
       "      <th>market_value_rmsle</th>\n",
       "      <th>start_season</th>\n",
       "      <th>goals</th>\n",
       "      <th>assists</th>\n",
       "      <th>minutes_played</th>\n",
       "      <th>competition_code</th>\n",
       "      <th>age</th>\n",
       "      <th>position</th>\n",
       "      <th>current_club_name</th>\n",
       "      <th>country</th>\n",
       "      <th>foot</th>\n",
       "      <th>height_in_cm</th>\n",
       "    </tr>\n",
       "  </thead>\n",
       "  <tbody>\n",
       "    <tr>\n",
       "      <th>9663</th>\n",
       "      <td>Marcus Rashford</td>\n",
       "      <td>70000000.00</td>\n",
       "      <td>68086752.00</td>\n",
       "      <td>0.03</td>\n",
       "      <td>2023</td>\n",
       "      <td>7</td>\n",
       "      <td>3</td>\n",
       "      <td>1996</td>\n",
       "      <td>premier-league</td>\n",
       "      <td>26</td>\n",
       "      <td>Left Winger</td>\n",
       "      <td>Manchester United Football Club</td>\n",
       "      <td>England</td>\n",
       "      <td>right</td>\n",
       "      <td>185.00</td>\n",
       "    </tr>\n",
       "    <tr>\n",
       "      <th>10187</th>\n",
       "      <td>Matthijs de Ligt</td>\n",
       "      <td>65000000.00</td>\n",
       "      <td>64220852.00</td>\n",
       "      <td>0.01</td>\n",
       "      <td>2023</td>\n",
       "      <td>2</td>\n",
       "      <td>0</td>\n",
       "      <td>996</td>\n",
       "      <td>bundesliga</td>\n",
       "      <td>24</td>\n",
       "      <td>Centre-Back</td>\n",
       "      <td>FC Bayern München</td>\n",
       "      <td>Netherlands</td>\n",
       "      <td>right</td>\n",
       "      <td>189.00</td>\n",
       "    </tr>\n",
       "    <tr>\n",
       "      <th>13775</th>\n",
       "      <td>Serge Gnabry</td>\n",
       "      <td>45000000.00</td>\n",
       "      <td>45706716.00</td>\n",
       "      <td>0.02</td>\n",
       "      <td>2023</td>\n",
       "      <td>1</td>\n",
       "      <td>0</td>\n",
       "      <td>256</td>\n",
       "      <td>bundesliga</td>\n",
       "      <td>28</td>\n",
       "      <td>Right Winger</td>\n",
       "      <td>FC Bayern München</td>\n",
       "      <td>Germany</td>\n",
       "      <td>right</td>\n",
       "      <td>176.00</td>\n",
       "    </tr>\n",
       "    <tr>\n",
       "      <th>2739</th>\n",
       "      <td>Cole Palmer</td>\n",
       "      <td>45000000.00</td>\n",
       "      <td>46776296.00</td>\n",
       "      <td>0.04</td>\n",
       "      <td>2023</td>\n",
       "      <td>11</td>\n",
       "      <td>8</td>\n",
       "      <td>1746</td>\n",
       "      <td>premier-league</td>\n",
       "      <td>21</td>\n",
       "      <td>Attacking Midfield</td>\n",
       "      <td>Chelsea Football Club</td>\n",
       "      <td>England</td>\n",
       "      <td>left</td>\n",
       "      <td>189.00</td>\n",
       "    </tr>\n",
       "    <tr>\n",
       "      <th>2759</th>\n",
       "      <td>Conor Gallagher</td>\n",
       "      <td>42000000.00</td>\n",
       "      <td>40561736.00</td>\n",
       "      <td>0.03</td>\n",
       "      <td>2023</td>\n",
       "      <td>2</td>\n",
       "      <td>5</td>\n",
       "      <td>2186</td>\n",
       "      <td>premier-league</td>\n",
       "      <td>24</td>\n",
       "      <td>Central Midfield</td>\n",
       "      <td>Chelsea Football Club</td>\n",
       "      <td>England</td>\n",
       "      <td>right</td>\n",
       "      <td>182.00</td>\n",
       "    </tr>\n",
       "    <tr>\n",
       "      <th>1130</th>\n",
       "      <td>André Onana</td>\n",
       "      <td>40000000.00</td>\n",
       "      <td>40923648.00</td>\n",
       "      <td>0.02</td>\n",
       "      <td>2023</td>\n",
       "      <td>0</td>\n",
       "      <td>0</td>\n",
       "      <td>2520</td>\n",
       "      <td>premier-league</td>\n",
       "      <td>28</td>\n",
       "      <td>Goalkeeper</td>\n",
       "      <td>Manchester United Football Club</td>\n",
       "      <td>Cameroon</td>\n",
       "      <td>right</td>\n",
       "      <td>190.00</td>\n",
       "    </tr>\n",
       "    <tr>\n",
       "      <th>9411</th>\n",
       "      <td>Manuel Locatelli</td>\n",
       "      <td>33000000.00</td>\n",
       "      <td>32593372.00</td>\n",
       "      <td>0.01</td>\n",
       "      <td>2023</td>\n",
       "      <td>1</td>\n",
       "      <td>3</td>\n",
       "      <td>2217</td>\n",
       "      <td>serie-a</td>\n",
       "      <td>26</td>\n",
       "      <td>Defensive Midfield</td>\n",
       "      <td>Juventus Football Club</td>\n",
       "      <td>Italy</td>\n",
       "      <td>right</td>\n",
       "      <td>185.00</td>\n",
       "    </tr>\n",
       "    <tr>\n",
       "      <th>494</th>\n",
       "      <td>Aleksandr Golovin</td>\n",
       "      <td>30000000.00</td>\n",
       "      <td>29019440.00</td>\n",
       "      <td>0.03</td>\n",
       "      <td>2023</td>\n",
       "      <td>6</td>\n",
       "      <td>4</td>\n",
       "      <td>1898</td>\n",
       "      <td>ligue-1</td>\n",
       "      <td>27</td>\n",
       "      <td>Attacking Midfield</td>\n",
       "      <td>Association sportive de Monaco Football Club</td>\n",
       "      <td>Russia</td>\n",
       "      <td>right</td>\n",
       "      <td>178.00</td>\n",
       "    </tr>\n",
       "    <tr>\n",
       "      <th>1223</th>\n",
       "      <td>Ansu Fati</td>\n",
       "      <td>30000000.00</td>\n",
       "      <td>31404250.00</td>\n",
       "      <td>0.05</td>\n",
       "      <td>2023</td>\n",
       "      <td>2</td>\n",
       "      <td>0</td>\n",
       "      <td>470</td>\n",
       "      <td>premier-league</td>\n",
       "      <td>21</td>\n",
       "      <td>Left Winger</td>\n",
       "      <td>Brighton and Hove Albion Football Club</td>\n",
       "      <td>Spain</td>\n",
       "      <td>right</td>\n",
       "      <td>178.00</td>\n",
       "    </tr>\n",
       "    <tr>\n",
       "      <th>12540</th>\n",
       "      <td>Raphaël Varane</td>\n",
       "      <td>25000000.00</td>\n",
       "      <td>25580342.00</td>\n",
       "      <td>0.02</td>\n",
       "      <td>2023</td>\n",
       "      <td>1</td>\n",
       "      <td>0</td>\n",
       "      <td>1260</td>\n",
       "      <td>premier-league</td>\n",
       "      <td>30</td>\n",
       "      <td>Centre-Back</td>\n",
       "      <td>Manchester United Football Club</td>\n",
       "      <td>France</td>\n",
       "      <td>right</td>\n",
       "      <td>191.00</td>\n",
       "    </tr>\n",
       "  </tbody>\n",
       "</table>\n",
       "</div>"
      ],
      "text/plain": [
       "             player_name  market_value_per_season  market_value_pred  \\\n",
       "9663     Marcus Rashford              70000000.00        68086752.00   \n",
       "10187   Matthijs de Ligt              65000000.00        64220852.00   \n",
       "13775       Serge Gnabry              45000000.00        45706716.00   \n",
       "2739         Cole Palmer              45000000.00        46776296.00   \n",
       "2759     Conor Gallagher              42000000.00        40561736.00   \n",
       "1130         André Onana              40000000.00        40923648.00   \n",
       "9411    Manuel Locatelli              33000000.00        32593372.00   \n",
       "494    Aleksandr Golovin              30000000.00        29019440.00   \n",
       "1223           Ansu Fati              30000000.00        31404250.00   \n",
       "12540     Raphaël Varane              25000000.00        25580342.00   \n",
       "\n",
       "       market_value_rmsle  start_season  goals  assists  minutes_played  \\\n",
       "9663                 0.03          2023      7        3            1996   \n",
       "10187                0.01          2023      2        0             996   \n",
       "13775                0.02          2023      1        0             256   \n",
       "2739                 0.04          2023     11        8            1746   \n",
       "2759                 0.03          2023      2        5            2186   \n",
       "1130                 0.02          2023      0        0            2520   \n",
       "9411                 0.01          2023      1        3            2217   \n",
       "494                  0.03          2023      6        4            1898   \n",
       "1223                 0.05          2023      2        0             470   \n",
       "12540                0.02          2023      1        0            1260   \n",
       "\n",
       "      competition_code  age            position  \\\n",
       "9663    premier-league   26         Left Winger   \n",
       "10187       bundesliga   24         Centre-Back   \n",
       "13775       bundesliga   28        Right Winger   \n",
       "2739    premier-league   21  Attacking Midfield   \n",
       "2759    premier-league   24    Central Midfield   \n",
       "1130    premier-league   28          Goalkeeper   \n",
       "9411           serie-a   26  Defensive Midfield   \n",
       "494            ligue-1   27  Attacking Midfield   \n",
       "1223    premier-league   21         Left Winger   \n",
       "12540   premier-league   30         Centre-Back   \n",
       "\n",
       "                                  current_club_name      country   foot  \\\n",
       "9663                Manchester United Football Club      England  right   \n",
       "10187                             FC Bayern München  Netherlands  right   \n",
       "13775                             FC Bayern München      Germany  right   \n",
       "2739                          Chelsea Football Club      England   left   \n",
       "2759                          Chelsea Football Club      England  right   \n",
       "1130                Manchester United Football Club     Cameroon  right   \n",
       "9411                         Juventus Football Club        Italy  right   \n",
       "494    Association sportive de Monaco Football Club       Russia  right   \n",
       "1223         Brighton and Hove Albion Football Club        Spain  right   \n",
       "12540               Manchester United Football Club       France  right   \n",
       "\n",
       "       height_in_cm  \n",
       "9663         185.00  \n",
       "10187        189.00  \n",
       "13775        176.00  \n",
       "2739         189.00  \n",
       "2759         182.00  \n",
       "1130         190.00  \n",
       "9411         185.00  \n",
       "494          178.00  \n",
       "1223         178.00  \n",
       "12540        191.00  "
      ]
     },
     "execution_count": 61,
     "metadata": {},
     "output_type": "execute_result"
    }
   ],
   "source": [
    "# RMSLE 값이 0.05 이하인 예측 값 확인\n",
    "test_copy[test_copy.market_value_rmsle <= 0.05].sort_values(by=\"market_value_per_season\", ascending=False).head(10)"
   ]
  },
  {
   "cell_type": "code",
   "execution_count": 62,
   "metadata": {},
   "outputs": [
    {
     "data": {
      "text/html": [
       "<div>\n",
       "<style scoped>\n",
       "    .dataframe tbody tr th:only-of-type {\n",
       "        vertical-align: middle;\n",
       "    }\n",
       "\n",
       "    .dataframe tbody tr th {\n",
       "        vertical-align: top;\n",
       "    }\n",
       "\n",
       "    .dataframe thead th {\n",
       "        text-align: right;\n",
       "    }\n",
       "</style>\n",
       "<table border=\"1\" class=\"dataframe\">\n",
       "  <thead>\n",
       "    <tr style=\"text-align: right;\">\n",
       "      <th></th>\n",
       "      <th>player_name</th>\n",
       "      <th>market_value_per_season</th>\n",
       "      <th>market_value_pred</th>\n",
       "      <th>market_value_rmsle</th>\n",
       "      <th>start_season</th>\n",
       "      <th>goals</th>\n",
       "      <th>assists</th>\n",
       "      <th>minutes_played</th>\n",
       "      <th>competition_code</th>\n",
       "      <th>age</th>\n",
       "      <th>position</th>\n",
       "      <th>current_club_name</th>\n",
       "      <th>country</th>\n",
       "      <th>foot</th>\n",
       "      <th>height_in_cm</th>\n",
       "    </tr>\n",
       "  </thead>\n",
       "  <tbody>\n",
       "    <tr>\n",
       "      <th>7206</th>\n",
       "      <td>Jordi Martín</td>\n",
       "      <td>50000.00</td>\n",
       "      <td>3164115.75</td>\n",
       "      <td>4.15</td>\n",
       "      <td>2023</td>\n",
       "      <td>0</td>\n",
       "      <td>0</td>\n",
       "      <td>476</td>\n",
       "      <td>laliga</td>\n",
       "      <td>23</td>\n",
       "      <td>Left Winger</td>\n",
       "      <td>Getafe Club de Fútbol S.A.D. Team Dubai</td>\n",
       "      <td>Spain</td>\n",
       "      <td>left</td>\n",
       "      <td>176.00</td>\n",
       "    </tr>\n",
       "    <tr>\n",
       "      <th>9978</th>\n",
       "      <td>Mateus Lusuardi</td>\n",
       "      <td>50000.00</td>\n",
       "      <td>1626715.50</td>\n",
       "      <td>3.48</td>\n",
       "      <td>2023</td>\n",
       "      <td>0</td>\n",
       "      <td>0</td>\n",
       "      <td>219</td>\n",
       "      <td>serie-a</td>\n",
       "      <td>20</td>\n",
       "      <td>Centre-Back</td>\n",
       "      <td>Frosinone Calcio S.r.l.</td>\n",
       "      <td>Brazil</td>\n",
       "      <td>left</td>\n",
       "      <td>190.00</td>\n",
       "    </tr>\n",
       "    <tr>\n",
       "      <th>1926</th>\n",
       "      <td>Bobby Clark</td>\n",
       "      <td>350000.00</td>\n",
       "      <td>9142083.00</td>\n",
       "      <td>3.26</td>\n",
       "      <td>2023</td>\n",
       "      <td>0</td>\n",
       "      <td>0</td>\n",
       "      <td>87</td>\n",
       "      <td>premier-league</td>\n",
       "      <td>19</td>\n",
       "      <td>Central Midfield</td>\n",
       "      <td>Liverpool Football Club</td>\n",
       "      <td>England</td>\n",
       "      <td>right</td>\n",
       "      <td>178.00</td>\n",
       "    </tr>\n",
       "    <tr>\n",
       "      <th>6042</th>\n",
       "      <td>Isaac Romero</td>\n",
       "      <td>400000.00</td>\n",
       "      <td>9453774.00</td>\n",
       "      <td>3.16</td>\n",
       "      <td>2023</td>\n",
       "      <td>3</td>\n",
       "      <td>2</td>\n",
       "      <td>608</td>\n",
       "      <td>laliga</td>\n",
       "      <td>23</td>\n",
       "      <td>Centre-Forward</td>\n",
       "      <td>Sevilla Fútbol Club S.A.D.</td>\n",
       "      <td>Spain</td>\n",
       "      <td>left</td>\n",
       "      <td>184.00</td>\n",
       "    </tr>\n",
       "    <tr>\n",
       "      <th>14747</th>\n",
       "      <td>Tom Louchet</td>\n",
       "      <td>200000.00</td>\n",
       "      <td>4613236.50</td>\n",
       "      <td>3.14</td>\n",
       "      <td>2023</td>\n",
       "      <td>1</td>\n",
       "      <td>1</td>\n",
       "      <td>190</td>\n",
       "      <td>ligue-1</td>\n",
       "      <td>20</td>\n",
       "      <td>Central Midfield</td>\n",
       "      <td>Olympique Gymnaste Club Nice Côte d'Azur</td>\n",
       "      <td>France</td>\n",
       "      <td>both</td>\n",
       "      <td>178.00</td>\n",
       "    </tr>\n",
       "    <tr>\n",
       "      <th>15582</th>\n",
       "      <td>Yellu Santiago</td>\n",
       "      <td>100000.00</td>\n",
       "      <td>2186672.75</td>\n",
       "      <td>3.08</td>\n",
       "      <td>2023</td>\n",
       "      <td>0</td>\n",
       "      <td>0</td>\n",
       "      <td>172</td>\n",
       "      <td>laliga</td>\n",
       "      <td>19</td>\n",
       "      <td>Central Midfield</td>\n",
       "      <td>Getafe Club de Fútbol S.A.D. Team Dubai</td>\n",
       "      <td>Spain</td>\n",
       "      <td>right</td>\n",
       "      <td>192.00</td>\n",
       "    </tr>\n",
       "    <tr>\n",
       "      <th>14212</th>\n",
       "      <td>Steven Baseya</td>\n",
       "      <td>50000.00</td>\n",
       "      <td>1006718.19</td>\n",
       "      <td>3.00</td>\n",
       "      <td>2023</td>\n",
       "      <td>0</td>\n",
       "      <td>0</td>\n",
       "      <td>4</td>\n",
       "      <td>ligue-1</td>\n",
       "      <td>19</td>\n",
       "      <td>Centre-Back</td>\n",
       "      <td>Racing Club de Strasbourg Alsace</td>\n",
       "      <td>France</td>\n",
       "      <td>right</td>\n",
       "      <td>189.00</td>\n",
       "    </tr>\n",
       "    <tr>\n",
       "      <th>13496</th>\n",
       "      <td>Samu Omorodion</td>\n",
       "      <td>20000000.00</td>\n",
       "      <td>1101752.00</td>\n",
       "      <td>2.90</td>\n",
       "      <td>2023</td>\n",
       "      <td>1</td>\n",
       "      <td>0</td>\n",
       "      <td>82</td>\n",
       "      <td>laliga</td>\n",
       "      <td>19</td>\n",
       "      <td>Centre-Forward</td>\n",
       "      <td>Deportivo Alavés S.A.D.</td>\n",
       "      <td>Spain</td>\n",
       "      <td>right</td>\n",
       "      <td>193.00</td>\n",
       "    </tr>\n",
       "    <tr>\n",
       "      <th>9268</th>\n",
       "      <td>Mahamadou Nagida</td>\n",
       "      <td>150000.00</td>\n",
       "      <td>2582496.25</td>\n",
       "      <td>2.85</td>\n",
       "      <td>2023</td>\n",
       "      <td>0</td>\n",
       "      <td>0</td>\n",
       "      <td>104</td>\n",
       "      <td>ligue-1</td>\n",
       "      <td>18</td>\n",
       "      <td>Left-Back</td>\n",
       "      <td>Stade Rennais Football Club</td>\n",
       "      <td>Cameroon</td>\n",
       "      <td>left</td>\n",
       "      <td>176.00</td>\n",
       "    </tr>\n",
       "    <tr>\n",
       "      <th>713</th>\n",
       "      <td>Alfie Gilchrist</td>\n",
       "      <td>300000.00</td>\n",
       "      <td>4674784.50</td>\n",
       "      <td>2.75</td>\n",
       "      <td>2023</td>\n",
       "      <td>0</td>\n",
       "      <td>0</td>\n",
       "      <td>18</td>\n",
       "      <td>premier-league</td>\n",
       "      <td>20</td>\n",
       "      <td>Centre-Back</td>\n",
       "      <td>Chelsea Football Club</td>\n",
       "      <td>England</td>\n",
       "      <td>right</td>\n",
       "      <td>183.00</td>\n",
       "    </tr>\n",
       "    <tr>\n",
       "      <th>7783</th>\n",
       "      <td>Jérémy Jacquet</td>\n",
       "      <td>50000.00</td>\n",
       "      <td>774722.12</td>\n",
       "      <td>2.74</td>\n",
       "      <td>2023</td>\n",
       "      <td>0</td>\n",
       "      <td>0</td>\n",
       "      <td>4</td>\n",
       "      <td>ligue-1</td>\n",
       "      <td>18</td>\n",
       "      <td>Centre-Back</td>\n",
       "      <td>Clermont Foot 63</td>\n",
       "      <td>France</td>\n",
       "      <td>right</td>\n",
       "      <td>188.00</td>\n",
       "    </tr>\n",
       "  </tbody>\n",
       "</table>\n",
       "</div>"
      ],
      "text/plain": [
       "            player_name  market_value_per_season  market_value_pred  \\\n",
       "7206       Jordi Martín                 50000.00         3164115.75   \n",
       "9978    Mateus Lusuardi                 50000.00         1626715.50   \n",
       "1926        Bobby Clark                350000.00         9142083.00   \n",
       "6042       Isaac Romero                400000.00         9453774.00   \n",
       "14747       Tom Louchet                200000.00         4613236.50   \n",
       "15582    Yellu Santiago                100000.00         2186672.75   \n",
       "14212     Steven Baseya                 50000.00         1006718.19   \n",
       "13496    Samu Omorodion              20000000.00         1101752.00   \n",
       "9268   Mahamadou Nagida                150000.00         2582496.25   \n",
       "713     Alfie Gilchrist                300000.00         4674784.50   \n",
       "7783     Jérémy Jacquet                 50000.00          774722.12   \n",
       "\n",
       "       market_value_rmsle  start_season  goals  assists  minutes_played  \\\n",
       "7206                 4.15          2023      0        0             476   \n",
       "9978                 3.48          2023      0        0             219   \n",
       "1926                 3.26          2023      0        0              87   \n",
       "6042                 3.16          2023      3        2             608   \n",
       "14747                3.14          2023      1        1             190   \n",
       "15582                3.08          2023      0        0             172   \n",
       "14212                3.00          2023      0        0               4   \n",
       "13496                2.90          2023      1        0              82   \n",
       "9268                 2.85          2023      0        0             104   \n",
       "713                  2.75          2023      0        0              18   \n",
       "7783                 2.74          2023      0        0               4   \n",
       "\n",
       "      competition_code  age          position  \\\n",
       "7206            laliga   23       Left Winger   \n",
       "9978           serie-a   20       Centre-Back   \n",
       "1926    premier-league   19  Central Midfield   \n",
       "6042            laliga   23    Centre-Forward   \n",
       "14747          ligue-1   20  Central Midfield   \n",
       "15582           laliga   19  Central Midfield   \n",
       "14212          ligue-1   19       Centre-Back   \n",
       "13496           laliga   19    Centre-Forward   \n",
       "9268           ligue-1   18         Left-Back   \n",
       "713     premier-league   20       Centre-Back   \n",
       "7783           ligue-1   18       Centre-Back   \n",
       "\n",
       "                              current_club_name   country   foot  height_in_cm  \n",
       "7206    Getafe Club de Fútbol S.A.D. Team Dubai     Spain   left        176.00  \n",
       "9978                    Frosinone Calcio S.r.l.    Brazil   left        190.00  \n",
       "1926                    Liverpool Football Club   England  right        178.00  \n",
       "6042                 Sevilla Fútbol Club S.A.D.     Spain   left        184.00  \n",
       "14747  Olympique Gymnaste Club Nice Côte d'Azur    France   both        178.00  \n",
       "15582   Getafe Club de Fútbol S.A.D. Team Dubai     Spain  right        192.00  \n",
       "14212          Racing Club de Strasbourg Alsace    France  right        189.00  \n",
       "13496                   Deportivo Alavés S.A.D.     Spain  right        193.00  \n",
       "9268                Stade Rennais Football Club  Cameroon   left        176.00  \n",
       "713                       Chelsea Football Club   England  right        183.00  \n",
       "7783                           Clermont Foot 63    France  right        188.00  "
      ]
     },
     "execution_count": 62,
     "metadata": {},
     "output_type": "execute_result"
    }
   ],
   "source": [
    "# RMSLE 값이 2.7 이상인 예측 값 확인\n",
    "# RMSLE 값 최대치 : 약 4.2\n",
    "\n",
    "test_copy[test_copy.market_value_rmsle >= 2.7].sort_values(by=\"market_value_rmsle\", ascending=False)"
   ]
  },
  {
   "cell_type": "code",
   "execution_count": 63,
   "metadata": {},
   "outputs": [
    {
     "data": {
      "text/html": [
       "<div>\n",
       "<style scoped>\n",
       "    .dataframe tbody tr th:only-of-type {\n",
       "        vertical-align: middle;\n",
       "    }\n",
       "\n",
       "    .dataframe tbody tr th {\n",
       "        vertical-align: top;\n",
       "    }\n",
       "\n",
       "    .dataframe thead th {\n",
       "        text-align: right;\n",
       "    }\n",
       "</style>\n",
       "<table border=\"1\" class=\"dataframe\">\n",
       "  <thead>\n",
       "    <tr style=\"text-align: right;\">\n",
       "      <th></th>\n",
       "      <th>player_name</th>\n",
       "      <th>market_value_per_season</th>\n",
       "      <th>market_value_pred</th>\n",
       "      <th>market_value_rmsle</th>\n",
       "      <th>start_season</th>\n",
       "      <th>goals</th>\n",
       "      <th>assists</th>\n",
       "      <th>minutes_played</th>\n",
       "      <th>competition_code</th>\n",
       "      <th>age</th>\n",
       "      <th>position</th>\n",
       "      <th>current_club_name</th>\n",
       "      <th>country</th>\n",
       "      <th>foot</th>\n",
       "      <th>height_in_cm</th>\n",
       "    </tr>\n",
       "  </thead>\n",
       "  <tbody>\n",
       "    <tr>\n",
       "      <th>14542</th>\n",
       "      <td>Thomas Partey</td>\n",
       "      <td>25000000.00</td>\n",
       "      <td>26402078.00</td>\n",
       "      <td>0.05</td>\n",
       "      <td>2023</td>\n",
       "      <td>0</td>\n",
       "      <td>0</td>\n",
       "      <td>277</td>\n",
       "      <td>premier-league</td>\n",
       "      <td>30</td>\n",
       "      <td>Defensive Midfield</td>\n",
       "      <td>Arsenal Football Club</td>\n",
       "      <td>Ghana</td>\n",
       "      <td>right</td>\n",
       "      <td>185.00</td>\n",
       "    </tr>\n",
       "    <tr>\n",
       "      <th>3850</th>\n",
       "      <td>Eddie Nketiah</td>\n",
       "      <td>35000000.00</td>\n",
       "      <td>32349226.00</td>\n",
       "      <td>0.08</td>\n",
       "      <td>2023</td>\n",
       "      <td>5</td>\n",
       "      <td>4</td>\n",
       "      <td>1044</td>\n",
       "      <td>premier-league</td>\n",
       "      <td>24</td>\n",
       "      <td>Centre-Forward</td>\n",
       "      <td>Arsenal Football Club</td>\n",
       "      <td>England</td>\n",
       "      <td>right</td>\n",
       "      <td>175.00</td>\n",
       "    </tr>\n",
       "    <tr>\n",
       "      <th>12648</th>\n",
       "      <td>Reiss Nelson</td>\n",
       "      <td>15000000.00</td>\n",
       "      <td>16343528.00</td>\n",
       "      <td>0.09</td>\n",
       "      <td>2023</td>\n",
       "      <td>0</td>\n",
       "      <td>0</td>\n",
       "      <td>182</td>\n",
       "      <td>premier-league</td>\n",
       "      <td>24</td>\n",
       "      <td>Right Winger</td>\n",
       "      <td>Arsenal Football Club</td>\n",
       "      <td>England</td>\n",
       "      <td>right</td>\n",
       "      <td>175.00</td>\n",
       "    </tr>\n",
       "    <tr>\n",
       "      <th>4981</th>\n",
       "      <td>Fábio Vieira</td>\n",
       "      <td>28000000.00</td>\n",
       "      <td>25183958.00</td>\n",
       "      <td>0.11</td>\n",
       "      <td>2023</td>\n",
       "      <td>1</td>\n",
       "      <td>3</td>\n",
       "      <td>283</td>\n",
       "      <td>premier-league</td>\n",
       "      <td>23</td>\n",
       "      <td>Attacking Midfield</td>\n",
       "      <td>Arsenal Football Club</td>\n",
       "      <td>Portugal</td>\n",
       "      <td>left</td>\n",
       "      <td>170.00</td>\n",
       "    </tr>\n",
       "    <tr>\n",
       "      <th>4069</th>\n",
       "      <td>Emile Smith Rowe</td>\n",
       "      <td>25000000.00</td>\n",
       "      <td>21306140.00</td>\n",
       "      <td>0.16</td>\n",
       "      <td>2023</td>\n",
       "      <td>0</td>\n",
       "      <td>1</td>\n",
       "      <td>229</td>\n",
       "      <td>premier-league</td>\n",
       "      <td>23</td>\n",
       "      <td>Attacking Midfield</td>\n",
       "      <td>Arsenal Football Club</td>\n",
       "      <td>England</td>\n",
       "      <td>right</td>\n",
       "      <td>182.00</td>\n",
       "    </tr>\n",
       "  </tbody>\n",
       "</table>\n",
       "</div>"
      ],
      "text/plain": [
       "            player_name  market_value_per_season  market_value_pred  \\\n",
       "14542     Thomas Partey              25000000.00        26402078.00   \n",
       "3850      Eddie Nketiah              35000000.00        32349226.00   \n",
       "12648      Reiss Nelson              15000000.00        16343528.00   \n",
       "4981       Fábio Vieira              28000000.00        25183958.00   \n",
       "4069   Emile Smith Rowe              25000000.00        21306140.00   \n",
       "\n",
       "       market_value_rmsle  start_season  goals  assists  minutes_played  \\\n",
       "14542                0.05          2023      0        0             277   \n",
       "3850                 0.08          2023      5        4            1044   \n",
       "12648                0.09          2023      0        0             182   \n",
       "4981                 0.11          2023      1        3             283   \n",
       "4069                 0.16          2023      0        1             229   \n",
       "\n",
       "      competition_code  age            position      current_club_name  \\\n",
       "14542   premier-league   30  Defensive Midfield  Arsenal Football Club   \n",
       "3850    premier-league   24      Centre-Forward  Arsenal Football Club   \n",
       "12648   premier-league   24        Right Winger  Arsenal Football Club   \n",
       "4981    premier-league   23  Attacking Midfield  Arsenal Football Club   \n",
       "4069    premier-league   23  Attacking Midfield  Arsenal Football Club   \n",
       "\n",
       "        country   foot  height_in_cm  \n",
       "14542     Ghana  right        185.00  \n",
       "3850    England  right        175.00  \n",
       "12648   England  right        175.00  \n",
       "4981   Portugal   left        170.00  \n",
       "4069    England  right        182.00  "
      ]
     },
     "execution_count": 63,
     "metadata": {},
     "output_type": "execute_result"
    }
   ],
   "source": [
    "# Arsenal 선수들의 2324 시즌 몸값 비교\n",
    "test_copy[test_copy.current_club_name==\"Arsenal Football Club\"].sort_values(\"market_value_rmsle\").head()"
   ]
  },
  {
   "cell_type": "code",
   "execution_count": 64,
   "metadata": {},
   "outputs": [
    {
     "data": {
      "text/html": [
       "<div>\n",
       "<style scoped>\n",
       "    .dataframe tbody tr th:only-of-type {\n",
       "        vertical-align: middle;\n",
       "    }\n",
       "\n",
       "    .dataframe tbody tr th {\n",
       "        vertical-align: top;\n",
       "    }\n",
       "\n",
       "    .dataframe thead th {\n",
       "        text-align: right;\n",
       "    }\n",
       "</style>\n",
       "<table border=\"1\" class=\"dataframe\">\n",
       "  <thead>\n",
       "    <tr style=\"text-align: right;\">\n",
       "      <th></th>\n",
       "      <th>player_name</th>\n",
       "      <th>market_value_per_season</th>\n",
       "      <th>market_value_pred</th>\n",
       "      <th>market_value_rmsle</th>\n",
       "      <th>start_season</th>\n",
       "      <th>goals</th>\n",
       "      <th>assists</th>\n",
       "      <th>minutes_played</th>\n",
       "      <th>competition_code</th>\n",
       "      <th>age</th>\n",
       "      <th>position</th>\n",
       "      <th>current_club_name</th>\n",
       "      <th>country</th>\n",
       "      <th>foot</th>\n",
       "      <th>height_in_cm</th>\n",
       "    </tr>\n",
       "  </thead>\n",
       "  <tbody>\n",
       "    <tr>\n",
       "      <th>11591</th>\n",
       "      <td>Oliver Skipp</td>\n",
       "      <td>15000000.00</td>\n",
       "      <td>15752231.00</td>\n",
       "      <td>0.05</td>\n",
       "      <td>2023</td>\n",
       "      <td>0</td>\n",
       "      <td>0</td>\n",
       "      <td>571</td>\n",
       "      <td>premier-league</td>\n",
       "      <td>23</td>\n",
       "      <td>Defensive Midfield</td>\n",
       "      <td>Tottenham Hotspur Football Club</td>\n",
       "      <td>England</td>\n",
       "      <td>right</td>\n",
       "      <td>175.00</td>\n",
       "    </tr>\n",
       "    <tr>\n",
       "      <th>12270</th>\n",
       "      <td>Pierre-Emile Højbjerg</td>\n",
       "      <td>28000000.00</td>\n",
       "      <td>29785642.00</td>\n",
       "      <td>0.06</td>\n",
       "      <td>2023</td>\n",
       "      <td>0</td>\n",
       "      <td>0</td>\n",
       "      <td>979</td>\n",
       "      <td>premier-league</td>\n",
       "      <td>28</td>\n",
       "      <td>Defensive Midfield</td>\n",
       "      <td>Tottenham Hotspur Football Club</td>\n",
       "      <td>Denmark</td>\n",
       "      <td>right</td>\n",
       "      <td>185.00</td>\n",
       "    </tr>\n",
       "    <tr>\n",
       "      <th>4041</th>\n",
       "      <td>Emerson Royal</td>\n",
       "      <td>18000000.00</td>\n",
       "      <td>20144926.00</td>\n",
       "      <td>0.11</td>\n",
       "      <td>2023</td>\n",
       "      <td>1</td>\n",
       "      <td>0</td>\n",
       "      <td>953</td>\n",
       "      <td>premier-league</td>\n",
       "      <td>25</td>\n",
       "      <td>Right-Back</td>\n",
       "      <td>Tottenham Hotspur Football Club</td>\n",
       "      <td>Brazil</td>\n",
       "      <td>right</td>\n",
       "      <td>183.00</td>\n",
       "    </tr>\n",
       "    <tr>\n",
       "      <th>5733</th>\n",
       "      <td>Heung-min Son</td>\n",
       "      <td>50000000.00</td>\n",
       "      <td>44363164.00</td>\n",
       "      <td>0.12</td>\n",
       "      <td>2023</td>\n",
       "      <td>14</td>\n",
       "      <td>8</td>\n",
       "      <td>1997</td>\n",
       "      <td>premier-league</td>\n",
       "      <td>31</td>\n",
       "      <td>Left Winger</td>\n",
       "      <td>Tottenham Hotspur Football Club</td>\n",
       "      <td>Korea, South</td>\n",
       "      <td>both</td>\n",
       "      <td>184.00</td>\n",
       "    </tr>\n",
       "    <tr>\n",
       "      <th>9348</th>\n",
       "      <td>Manor Solomon</td>\n",
       "      <td>18000000.00</td>\n",
       "      <td>20700726.00</td>\n",
       "      <td>0.14</td>\n",
       "      <td>2023</td>\n",
       "      <td>0</td>\n",
       "      <td>2</td>\n",
       "      <td>198</td>\n",
       "      <td>premier-league</td>\n",
       "      <td>24</td>\n",
       "      <td>Left Winger</td>\n",
       "      <td>Tottenham Hotspur Football Club</td>\n",
       "      <td>Israel</td>\n",
       "      <td>right</td>\n",
       "      <td>170.00</td>\n",
       "    </tr>\n",
       "  </tbody>\n",
       "</table>\n",
       "</div>"
      ],
      "text/plain": [
       "                 player_name  market_value_per_season  market_value_pred  \\\n",
       "11591           Oliver Skipp              15000000.00        15752231.00   \n",
       "12270  Pierre-Emile Højbjerg              28000000.00        29785642.00   \n",
       "4041           Emerson Royal              18000000.00        20144926.00   \n",
       "5733           Heung-min Son              50000000.00        44363164.00   \n",
       "9348           Manor Solomon              18000000.00        20700726.00   \n",
       "\n",
       "       market_value_rmsle  start_season  goals  assists  minutes_played  \\\n",
       "11591                0.05          2023      0        0             571   \n",
       "12270                0.06          2023      0        0             979   \n",
       "4041                 0.11          2023      1        0             953   \n",
       "5733                 0.12          2023     14        8            1997   \n",
       "9348                 0.14          2023      0        2             198   \n",
       "\n",
       "      competition_code  age            position  \\\n",
       "11591   premier-league   23  Defensive Midfield   \n",
       "12270   premier-league   28  Defensive Midfield   \n",
       "4041    premier-league   25          Right-Back   \n",
       "5733    premier-league   31         Left Winger   \n",
       "9348    premier-league   24         Left Winger   \n",
       "\n",
       "                     current_club_name       country   foot  height_in_cm  \n",
       "11591  Tottenham Hotspur Football Club       England  right        175.00  \n",
       "12270  Tottenham Hotspur Football Club       Denmark  right        185.00  \n",
       "4041   Tottenham Hotspur Football Club        Brazil  right        183.00  \n",
       "5733   Tottenham Hotspur Football Club  Korea, South   both        184.00  \n",
       "9348   Tottenham Hotspur Football Club        Israel  right        170.00  "
      ]
     },
     "execution_count": 64,
     "metadata": {},
     "output_type": "execute_result"
    }
   ],
   "source": [
    "# Tottenham 선수들의 2324 시즌 몸값 비교\n",
    "test_copy[test_copy.current_club_name==\"Tottenham Hotspur Football Club\"].sort_values(\"market_value_rmsle\").head()"
   ]
  }
 ],
 "metadata": {
  "kernelspec": {
   "display_name": "football",
   "language": "python",
   "name": "python3"
  },
  "language_info": {
   "codemirror_mode": {
    "name": "ipython",
    "version": 3
   },
   "file_extension": ".py",
   "mimetype": "text/x-python",
   "name": "python",
   "nbconvert_exporter": "python",
   "pygments_lexer": "ipython3",
   "version": "3.11.8"
  }
 },
 "nbformat": 4,
 "nbformat_minor": 2
}
